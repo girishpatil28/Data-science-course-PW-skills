{
 "cells": [
  {
   "cell_type": "markdown",
   "id": "21f19fee-bc08-4cad-8f0e-3a3b61a63de2",
   "metadata": {},
   "source": [
    "# Numpy Assignment"
   ]
  },
  {
   "cell_type": "raw",
   "id": "9f16c817-16de-451a-bfad-0b5fc1563dba",
   "metadata": {},
   "source": [
    "1. What is a Python library? Why do we use Python libraries?"
   ]
  },
  {
   "cell_type": "raw",
   "id": "911695fb-5233-4cf8-8c14-6d2c7d30efbe",
   "metadata": {},
   "source": [
    "A Python library is a collection of pre-written modules and functions that help developers perform specific tasks without writing code from scratch. These libraries contain reusable code for tasks like data manipulation, web development, machine learning, and more.\n",
    "\n",
    "Why Do We Use Python Libraries?\n",
    "Saves Time & Effort – No need to write complex code from scratch.\n",
    "Increases Efficiency – Libraries are optimized and well-tested.\n",
    "Improves Code Readability – Reduces redundant and lengthy code.\n",
    "Provides Specialized Functionality – Libraries handle tasks like data science (pandas), web development (Django), and machine learning (TensorFlow).\n",
    "Ensures Code Reusability – Developers can use the same library functions across multiple projects."
   ]
  },
  {
   "cell_type": "raw",
   "id": "1a2ef3d5-7138-4af9-b1a0-a39967114291",
   "metadata": {},
   "source": [
    "2. What is the difference between Numpy array and List?"
   ]
  },
  {
   "cell_type": "raw",
   "id": "68ce691d-a370-451e-b508-2a31c2997483",
   "metadata": {},
   "source": [
    "Speed – NumPy arrays are faster than Python lists because they use optimized C-based implementations. Lists are slower due to Python’s dynamic typing and general-purpose nature.\n",
    "\n",
    "Memory Usage – NumPy arrays use less memory as they store elements of the same data type in contiguous memory. Lists use more memory due to extra overhead and mixed data types.\n",
    "\n",
    "Data Type – NumPy arrays require all elements to be of the same type, whereas Python lists can store mixed data types.\n",
    "\n",
    "Operations – NumPy arrays support vectorized operations (e.g., arr + 2 applies to all elements at once), while lists require explicit loops for element-wise operations.\n",
    "\n",
    "Multidimensional Support – NumPy arrays support multi-dimensional arrays like matrices and tensors, while lists require nested lists for such structures.\n",
    "\n",
    "Memory Efficiency – NumPy arrays use fixed-type storage, making them more efficient compared to lists, which store additional type information for each element."
   ]
  },
  {
   "cell_type": "raw",
   "id": "33b0c7af-b8bd-4aea-b82c-5515dbfd4e3f",
   "metadata": {},
   "source": [
    "3. Find the shape, size and dimension of the following array?\n",
    "[[1, 2, 3, 4]\n",
    "[5, 6, 7, 8],\n",
    "[9, 10, 11, 12]]"
   ]
  },
  {
   "cell_type": "code",
   "execution_count": 4,
   "id": "6a96abb2-359e-4568-9881-4ce28a382c35",
   "metadata": {},
   "outputs": [
    {
     "name": "stdout",
     "output_type": "stream",
     "text": [
      "Shape: (3, 4)\n",
      "Size: 12\n",
      "Dimension: 2\n"
     ]
    }
   ],
   "source": [
    "import numpy as np\n",
    "\n",
    "arr = np.array([[1, 2, 3, 4], \n",
    "                [5, 6, 7, 8], \n",
    "                [9, 10, 11, 12]])\n",
    "\n",
    "print(\"Shape:\", arr.shape)  # (rows, columns)\n",
    "print(\"Size:\", arr.size)  # Total number of elements\n",
    "print(\"Dimension:\", arr.ndim)  # Number of dimensions\n"
   ]
  },
  {
   "cell_type": "raw",
   "id": "e23376f5-f766-4f1c-a232-b84ba977a439",
   "metadata": {},
   "source": [
    "4. Write python code to access the first row of the following array?\n",
    "[[1, 2, 3, 4]\n",
    "[5, 6, 7, 8],\n",
    "[9, 10, 11, 12]]"
   ]
  },
  {
   "cell_type": "code",
   "execution_count": 6,
   "id": "cddbc7cb-eec5-497c-9253-751f68c93fd0",
   "metadata": {},
   "outputs": [
    {
     "name": "stdout",
     "output_type": "stream",
     "text": [
      "First row: [1 2 3 4]\n"
     ]
    }
   ],
   "source": [
    "import numpy as np\n",
    "\n",
    "# Define the 2D array\n",
    "arr = np.array([[1, 2, 3, 4], \n",
    "                [5, 6, 7, 8], \n",
    "                [9, 10, 11, 12]])\n",
    "\n",
    "# Access the first row (index 0)\n",
    "first_row = arr[0]\n",
    "\n",
    "print(\"First row:\", first_row)"
   ]
  },
  {
   "cell_type": "raw",
   "id": "c2664abe-27b9-46c0-96f4-9d890511f349",
   "metadata": {},
   "source": [
    "5. How do you access the element at the third row and fourth column from the given numpy array?\n",
    "[[1, 2, 3, 4]\n",
    "[5, 6, 7, 8],\n",
    "[9, 10, 11, 12]]"
   ]
  },
  {
   "cell_type": "code",
   "execution_count": 8,
   "id": "bfbfc4f5-72c3-4ac4-8331-b55538c8e01d",
   "metadata": {},
   "outputs": [
    {
     "name": "stdout",
     "output_type": "stream",
     "text": [
      "Element at third row and fourth column: 12\n"
     ]
    }
   ],
   "source": [
    "import numpy as np\n",
    "\n",
    "# Define the 2D array\n",
    "arr = np.array([[1, 2, 3, 4], \n",
    "                [5, 6, 7, 8], \n",
    "                [9, 10, 11, 12]])\n",
    "\n",
    "# Access element at third row (index 2) and fourth column (index 3)\n",
    "element = arr[2, 3]\n",
    "\n",
    "print(\"Element at third row and fourth column:\", element)\n"
   ]
  },
  {
   "cell_type": "raw",
   "id": "6a3c096c-b8ad-41ff-b447-c9c407216774",
   "metadata": {},
   "source": [
    "6. Write code to extract all odd-indexed elements from the given numpy array?\n",
    "[[1, 2, 3, 4]\n",
    "[5, 6, 7, 8],\n",
    "[9, 10, 11, 12]]"
   ]
  },
  {
   "cell_type": "code",
   "execution_count": 10,
   "id": "8e189687-b695-4ed6-8e37-00fddcb283c0",
   "metadata": {},
   "outputs": [
    {
     "name": "stdout",
     "output_type": "stream",
     "text": [
      "Odd-indexed elements:\n",
      " [[6 8]]\n"
     ]
    }
   ],
   "source": [
    "import numpy as np\n",
    "\n",
    "# Define the 2D array\n",
    "arr = np.array([[1, 2, 3, 4], \n",
    "                [5, 6, 7, 8], \n",
    "                [9, 10, 11, 12]])\n",
    "\n",
    "# Extract elements where either row index or column index is odd\n",
    "odd_indexed_elements = arr[1::2, 1::2]  # Selecting odd-indexed rows and columns\n",
    "\n",
    "print(\"Odd-indexed elements:\\n\", odd_indexed_elements)\n"
   ]
  },
  {
   "cell_type": "raw",
   "id": "4a4fa52a-4c8f-478d-9091-0a425b4d39a7",
   "metadata": {},
   "source": [
    "7. How can you generate a random 3x3 matrix with values between 0 and 1?"
   ]
  },
  {
   "cell_type": "code",
   "execution_count": 12,
   "id": "1ba50d7e-dfd9-4de0-913d-07fe3f4017ff",
   "metadata": {},
   "outputs": [
    {
     "name": "stdout",
     "output_type": "stream",
     "text": [
      "Random 3x3 Matrix:\n",
      " [[0.67348456 0.43014213 0.10527096]\n",
      " [0.50146109 0.42947849 0.31762164]\n",
      " [0.53118691 0.37186756 0.2605583 ]]\n"
     ]
    }
   ],
   "source": [
    "import numpy as np\n",
    "\n",
    "# Generate a 3x3 matrix with random values between 0 and 1\n",
    "random_matrix = np.random.rand(3, 3)\n",
    "\n",
    "print(\"Random 3x3 Matrix:\\n\", random_matrix)\n"
   ]
  },
  {
   "cell_type": "raw",
   "id": "da2b2df3-5a5c-469b-9d71-81727669e450",
   "metadata": {},
   "source": [
    "8. Describe the difference between np.random.rand and np.random.randn?"
   ]
  },
  {
   "cell_type": "code",
   "execution_count": 14,
   "id": "3bde5166-166e-438e-950c-bbd92c1e2319",
   "metadata": {},
   "outputs": [
    {
     "name": "stdout",
     "output_type": "stream",
     "text": [
      "Uniform Distribution (0-1):\n",
      " [[0.27298053 0.49681302 0.55000255]\n",
      " [0.93643568 0.51869698 0.33325474]\n",
      " [0.70940756 0.24339634 0.11627751]]\n",
      "\n",
      "Normal Distribution (mean=0, std=1):\n",
      " [[-0.89091912  0.2599475   1.60729018]\n",
      " [-1.26744955 -2.22271216  0.01086546]\n",
      " [-0.36676954 -1.00978493 -0.79360153]]\n"
     ]
    }
   ],
   "source": [
    "import numpy as np\n",
    "\n",
    "# Uniform Distribution (0 to 1)\n",
    "rand_uniform = np.random.rand(3,3)\n",
    "print(\"Uniform Distribution (0-1):\\n\", rand_uniform)\n",
    "\n",
    "# Normal Distribution (mean=0, std=1)\n",
    "rand_normal = np.random.randn(3,3)\n",
    "print(\"\\nNormal Distribution (mean=0, std=1):\\n\", rand_normal)\n"
   ]
  },
  {
   "cell_type": "raw",
   "id": "4ea1cad1-2c39-489d-a16a-360462fa4eef",
   "metadata": {},
   "source": [
    "9. Write code to increase the dimension of the following array?\n",
    "[[1, 2, 3, 4]\n",
    "[5, 6, 7, 8],\n",
    "[9, 10, 11, 12]]"
   ]
  },
  {
   "cell_type": "code",
   "execution_count": 16,
   "id": "f39d9440-2111-4c29-ad48-954348e91f19",
   "metadata": {},
   "outputs": [
    {
     "name": "stdout",
     "output_type": "stream",
     "text": [
      "Original Shape: (3, 4)\n",
      "Expanded Shape: (1, 3, 4)\n"
     ]
    }
   ],
   "source": [
    "import numpy as np\n",
    "\n",
    "# Define the 2D array\n",
    "arr = np.array([[1, 2, 3, 4], \n",
    "                [5, 6, 7, 8], \n",
    "                [9, 10, 11, 12]])\n",
    "\n",
    "# Increase dimension using np.newaxis (adds an extra axis)\n",
    "expanded_arr1 = arr[np.newaxis, :, :]  # Adds a new dimension at the beginning\n",
    "\n",
    "# Increase dimension using np.expand_dims()\n",
    "expanded_arr2 = np.expand_dims(arr, axis=0)  # Same as above, adds a new axis at position 0\n",
    "\n",
    "print(\"Original Shape:\", arr.shape)\n",
    "print(\"Expanded Shape:\", expanded_arr1.shape)  # Output: (1, 3, 4)\n"
   ]
  },
  {
   "cell_type": "raw",
   "id": "95c90a27-9dfb-4499-8a76-df5881e13e3c",
   "metadata": {},
   "source": [
    "10. How to transpose the following array in NumPy?\n",
    "[[1, 2, 3, 4]\n",
    "[5, 6, 7, 8],\n",
    "[9, 10, 11, 12]]"
   ]
  },
  {
   "cell_type": "code",
   "execution_count": 18,
   "id": "3baf8b51-9a00-4a2b-952e-bfb951162d05",
   "metadata": {},
   "outputs": [
    {
     "name": "stdout",
     "output_type": "stream",
     "text": [
      "Original Array:\n",
      " [[ 1  2  3  4]\n",
      " [ 5  6  7  8]\n",
      " [ 9 10 11 12]]\n",
      "\n",
      "Transposed Array:\n",
      " [[ 1  5  9]\n",
      " [ 2  6 10]\n",
      " [ 3  7 11]\n",
      " [ 4  8 12]]\n"
     ]
    }
   ],
   "source": [
    "import numpy as np\n",
    "\n",
    "# Define the 2D array\n",
    "arr = np.array([[1, 2, 3, 4], \n",
    "                [5, 6, 7, 8], \n",
    "                [9, 10, 11, 12]])\n",
    "\n",
    "# Using .T (Transpose)\n",
    "transposed_arr1 = arr.T\n",
    "\n",
    "# Using np.transpose()\n",
    "transposed_arr2 = np.transpose(arr)\n",
    "\n",
    "print(\"Original Array:\\n\", arr)\n",
    "print(\"\\nTransposed Array:\\n\", transposed_arr1)\n"
   ]
  },
  {
   "cell_type": "raw",
   "id": "a4c17cf6-6dac-4328-b3a4-165b30a9cb77",
   "metadata": {},
   "source": [
    "11. Consider the following matrix:\n",
    "Matrix A: [[1, 2, 3, 4] [5, 6, 7, 8],[9, 10, 11, 12]]\n",
    "Matrix B: [[1, 2, 3, 4] [5, 6, 7, 8],[9, 10, 11, 12]]\n",
    "Perform the following operation using Python1\n",
    "Index wise multiplicatio'\n",
    "Matrix multiplicatio'\n",
    "Add both the matricK\n",
    "Subtract matrix B from \n",
    "Divide Matrix B by A"
   ]
  },
  {
   "cell_type": "code",
   "execution_count": 20,
   "id": "0f57cf8e-9473-4ee5-90f2-9241b491d8da",
   "metadata": {},
   "outputs": [
    {
     "name": "stdout",
     "output_type": "stream",
     "text": [
      "Element-wise Multiplication:\n",
      " [[  1   4   9  16]\n",
      " [ 25  36  49  64]\n",
      " [ 81 100 121 144]]\n",
      "\n",
      "Matrix Multiplication:\n",
      " [[ 30  70 110]\n",
      " [ 70 174 278]\n",
      " [110 278 446]]\n",
      "\n",
      "Matrix Addition:\n",
      " [[ 2  4  6  8]\n",
      " [10 12 14 16]\n",
      " [18 20 22 24]]\n",
      "\n",
      "Matrix Subtraction:\n",
      " [[0 0 0 0]\n",
      " [0 0 0 0]\n",
      " [0 0 0 0]]\n",
      "\n",
      "Element-wise Division:\n",
      " [[1. 1. 1. 1.]\n",
      " [1. 1. 1. 1.]\n",
      " [1. 1. 1. 1.]]\n"
     ]
    }
   ],
   "source": [
    "import numpy as np\n",
    "\n",
    "# Define Matrices A and B\n",
    "A = np.array([[1, 2, 3, 4], \n",
    "              [5, 6, 7, 8], \n",
    "              [9, 10, 11, 12]])\n",
    "\n",
    "B = np.array([[1, 2, 3, 4], \n",
    "              [5, 6, 7, 8], \n",
    "              [9, 10, 11, 12]])\n",
    "\n",
    "# 1. Index-wise Multiplication (Element-wise)\n",
    "elementwise_multiplication = A * B\n",
    "\n",
    "# 2. Matrix Multiplication (Dot Product)\n",
    "matrix_multiplication = np.dot(A, B.T)  # B.T transposes B to make the dimensions compatible\n",
    "\n",
    "# 3. Addition of Both Matrices\n",
    "matrix_addition = A + B\n",
    "\n",
    "# 4. Subtraction (A - B)\n",
    "matrix_subtraction = A - B\n",
    "\n",
    "# 5. Division of Matrix B by A (Element-wise)\n",
    "matrix_division = B / A  \n",
    "\n",
    "# Print Results\n",
    "print(\"Element-wise Multiplication:\\n\", elementwise_multiplication)\n",
    "print(\"\\nMatrix Multiplication:\\n\", matrix_multiplication)\n",
    "print(\"\\nMatrix Addition:\\n\", matrix_addition)\n",
    "print(\"\\nMatrix Subtraction:\\n\", matrix_subtraction)\n",
    "print(\"\\nElement-wise Division:\\n\", matrix_division)\n"
   ]
  },
  {
   "cell_type": "raw",
   "id": "34231705-ecc1-44e4-9893-864e55630c0f",
   "metadata": {},
   "source": [
    "12. Which function in Numpy can be used to swap the byte order of an array?"
   ]
  },
  {
   "cell_type": "raw",
   "id": "e5b2cb43-7da1-4d84-9a88-99179265ab10",
   "metadata": {},
   "source": [
    "In NumPy, the byteswap() function is used to swap the byte order of an array. This is useful when dealing with data from different systems with different endianness (little-endian vs. big-endian)."
   ]
  },
  {
   "cell_type": "raw",
   "id": "5bf08453-f3ee-457d-b274-aaa7fc54a927",
   "metadata": {},
   "source": [
    "13. What is the significance of the np.linalg.inv function?"
   ]
  },
  {
   "cell_type": "raw",
   "id": "4dfb03ea-413c-406a-81f8-f97120a3705e",
   "metadata": {},
   "source": [
    "Significance of np.linalg.inv() in NumPy\n",
    "The np.linalg.inv() function in NumPy is used to compute the inverse of a square matrix.\n",
    "\n",
    "Why is it Important?\n",
    "Solving Linear Equations: Used in Ax = B → x = A⁻¹B to solve systems of linear equations.\n",
    "Machine Learning & Data Science: Appears in regression analysis, PCA, and optimization problems.\n",
    "Signal Processing & Physics: Helps in solving matrix equations in Fourier transformations and quantum mechanics."
   ]
  },
  {
   "cell_type": "raw",
   "id": "c007df58-4833-45b0-a550-9972687c19e9",
   "metadata": {},
   "source": [
    "14. What does the np.reshape function do, and how is it used?"
   ]
  },
  {
   "cell_type": "raw",
   "id": "aaa6483b-1831-4f5d-a580-8d6c30901f38",
   "metadata": {},
   "source": [
    "The np.reshape() function is used to change the shape of an array without modifying its data. It is particularly useful when transforming data structures for machine learning, image processing, or numerical computations."
   ]
  },
  {
   "cell_type": "code",
   "execution_count": 22,
   "id": "fe768874-91cb-4b79-b124-eacbf89cb630",
   "metadata": {},
   "outputs": [
    {
     "name": "stdout",
     "output_type": "stream",
     "text": [
      "Original Array:\n",
      " [1 2 3 4 5 6]\n",
      "\n",
      "Reshaped Array (2x3):\n",
      " [[1 2 3]\n",
      " [4 5 6]]\n"
     ]
    }
   ],
   "source": [
    "import numpy as np\n",
    "\n",
    "# Original 1D array\n",
    "arr = np.array([1, 2, 3, 4, 5, 6])\n",
    "\n",
    "# Reshaping to 2x3\n",
    "reshaped_arr = arr.reshape(2, 3)\n",
    "\n",
    "print(\"Original Array:\\n\", arr)\n",
    "print(\"\\nReshaped Array (2x3):\\n\", reshaped_arr)\n"
   ]
  },
  {
   "cell_type": "raw",
   "id": "d5e96ccd-e930-46d0-a86c-e01c26b39f71",
   "metadata": {},
   "source": [
    "15. What is broadcasting in Numpy?"
   ]
  },
  {
   "cell_type": "raw",
   "id": "767198e2-4bd4-4d2d-866e-bec88d00d1bf",
   "metadata": {},
   "source": [
    "Broadcasting is a feature in NumPy that allows operations on arrays of different shapes without explicitly replicating data. It optimizes memory usage and computation by automatically expanding smaller arrays to match the shape of larger ones."
   ]
  }
 ],
 "metadata": {
  "kernelspec": {
   "display_name": "Python 3 (ipykernel)",
   "language": "python",
   "name": "python3"
  },
  "language_info": {
   "codemirror_mode": {
    "name": "ipython",
    "version": 3
   },
   "file_extension": ".py",
   "mimetype": "text/x-python",
   "name": "python",
   "nbconvert_exporter": "python",
   "pygments_lexer": "ipython3",
   "version": "3.12.7"
  }
 },
 "nbformat": 4,
 "nbformat_minor": 5
}
