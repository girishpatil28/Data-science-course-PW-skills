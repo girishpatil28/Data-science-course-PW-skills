{
 "cells": [
  {
   "cell_type": "markdown",
   "id": "68dcc7af-18bb-4b97-b486-d4c91072fb51",
   "metadata": {},
   "source": [
    "# Welcome to the soultion file of assignment on condition statements, from pwskills"
   ]
  },
  {
   "cell_type": "markdown",
   "id": "a853e341-083e-460b-ae06-fef22752d3f8",
   "metadata": {},
   "source": [
    "# Basic If-Else Statements:"
   ]
  },
  {
   "cell_type": "markdown",
   "id": "39ef7a7b-56af-4522-b076-6baf9e3b8845",
   "metadata": {},
   "source": [
    "1. Write a Python program to check if a given number is positive or negative."
   ]
  },
  {
   "cell_type": "code",
   "execution_count": 1,
   "id": "ce6e7bef-23b6-457c-8dda-de9b1acd6d33",
   "metadata": {},
   "outputs": [
    {
     "name": "stdin",
     "output_type": "stream",
     "text": [
      "Enter a number:  5\n"
     ]
    },
    {
     "name": "stdout",
     "output_type": "stream",
     "text": [
      "The number is positive.\n"
     ]
    }
   ],
   "source": [
    "# Program to check if a given number is positive or negative\n",
    "number = float(input(\"Enter a number: \"))\n",
    "\n",
    "if number > 0:\n",
    "    print(\"The number is positive.\")\n",
    "elif number < 0:\n",
    "    print(\"The number is negative.\")\n",
    "else:\n",
    "    print(\"The number is zero.\")\n"
   ]
  },
  {
   "cell_type": "markdown",
   "id": "de4a4fa8-a3d5-407f-8b7f-c57697fb69f6",
   "metadata": {},
   "source": [
    "2. Create a program that determines if a person is eligible to vote based on their age."
   ]
  },
  {
   "cell_type": "code",
   "execution_count": 2,
   "id": "60d043f3-b05b-49b9-8f1e-fb121a7a12e9",
   "metadata": {},
   "outputs": [
    {
     "name": "stdin",
     "output_type": "stream",
     "text": [
      "Enter your age:  23\n"
     ]
    },
    {
     "name": "stdout",
     "output_type": "stream",
     "text": [
      "You are eligible to vote.\n"
     ]
    }
   ],
   "source": [
    "# Program to determine if a person is eligible to vote based on their age\n",
    "age = int(input(\"Enter your age: \"))\n",
    "\n",
    "if age >= 18:\n",
    "    print(\"You are eligible to vote.\")\n",
    "else:\n",
    "    print(\"You are not eligible to vote.\")\n"
   ]
  },
  {
   "cell_type": "markdown",
   "id": "18f156b4-e5cc-42c9-84f7-906a1b74c52d",
   "metadata": {},
   "source": [
    "3. Develop a program to find the maximum of two numbers using if-else statements."
   ]
  },
  {
   "cell_type": "code",
   "execution_count": 3,
   "id": "3816a93a-d799-440f-abaa-d85fae63cc24",
   "metadata": {},
   "outputs": [
    {
     "name": "stdin",
     "output_type": "stream",
     "text": [
      "Enter the first number:  5\n",
      "Enter the second number:  6\n"
     ]
    },
    {
     "name": "stdout",
     "output_type": "stream",
     "text": [
      "The maximum number is: 6.0\n"
     ]
    }
   ],
   "source": [
    "# Program to find the maximum of two numbers using if-else statements\n",
    "num1 = float(input(\"Enter the first number: \"))\n",
    "num2 = float(input(\"Enter the second number: \"))\n",
    "\n",
    "if num1 > num2:\n",
    "    print(\"The maximum number is:\", num1)\n",
    "else:\n",
    "    print(\"The maximum number is:\", num2)\n"
   ]
  },
  {
   "cell_type": "markdown",
   "id": "0b1bd25e-1318-45b4-970f-92b768141014",
   "metadata": {},
   "source": [
    "4. Write a Python script to classify a given year as a leap year or not."
   ]
  },
  {
   "cell_type": "code",
   "execution_count": 4,
   "id": "0e373000-5ff3-4b72-9245-bcfa4e46ab01",
   "metadata": {},
   "outputs": [
    {
     "name": "stdin",
     "output_type": "stream",
     "text": [
      "Enter a year:  2023\n"
     ]
    },
    {
     "name": "stdout",
     "output_type": "stream",
     "text": [
      "Not a leap year\n"
     ]
    }
   ],
   "source": [
    "# Python script to classify a given year as a leap year or not\n",
    "year = int(input(\"Enter a year: \"))\n",
    "\n",
    "if (year % 4 == 0 and year % 100 != 0) or (year % 400 == 0):\n",
    "    print(\"Leap year\")\n",
    "else:\n",
    "    print(\"Not a leap year\")\n"
   ]
  },
  {
   "cell_type": "markdown",
   "id": "fb3f58cd-7e31-485d-a435-afcc467198ab",
   "metadata": {},
   "source": [
    "5. Create a program that checks whether a character is a vowel or a consonant."
   ]
  },
  {
   "cell_type": "code",
   "execution_count": 5,
   "id": "6b4e14a1-cc37-49f7-993a-d44f0ccafd74",
   "metadata": {},
   "outputs": [
    {
     "name": "stdin",
     "output_type": "stream",
     "text": [
      "Enter a character:  a\n"
     ]
    },
    {
     "name": "stdout",
     "output_type": "stream",
     "text": [
      "The character is a vowel.\n"
     ]
    }
   ],
   "source": [
    "# Program to check whether a character is a vowel or a consonant\n",
    "char = input(\"Enter a character: \").lower()\n",
    "\n",
    "if char.isalpha() and char in 'aeiou':\n",
    "    print(\"The character is a vowel.\")\n",
    "else:\n",
    "    print(\"The character is a consonant or not a valid alphabet.\")\n"
   ]
  },
  {
   "cell_type": "markdown",
   "id": "4ad6a00f-b693-4bcc-bbfe-d79813f2c454",
   "metadata": {},
   "source": [
    "6. Implement a program to determine whether a given number is even or odd."
   ]
  },
  {
   "cell_type": "code",
   "execution_count": 6,
   "id": "8b6d39fd-d602-4dd5-a60c-71df4c2347ac",
   "metadata": {},
   "outputs": [
    {
     "name": "stdin",
     "output_type": "stream",
     "text": [
      "Enter a number:  2\n"
     ]
    },
    {
     "name": "stdout",
     "output_type": "stream",
     "text": [
      "The number is even.\n"
     ]
    }
   ],
   "source": [
    "# Program to determine whether a given number is even or odd\n",
    "number = int(input(\"Enter a number: \"))\n",
    "\n",
    "if number % 2 == 0:\n",
    "    print(\"The number is even.\")\n",
    "else:\n",
    "    print(\"The number is odd.\")\n"
   ]
  },
  {
   "cell_type": "markdown",
   "id": "4184521b-47a0-4a48-9ba0-3d53ceab0da8",
   "metadata": {},
   "source": [
    "7. Write a Python function to calculate the absolute value of a number without using the `abs()` function."
   ]
  },
  {
   "cell_type": "code",
   "execution_count": 7,
   "id": "21c7f7f7-b665-4da2-bbc9-439feb6639d7",
   "metadata": {},
   "outputs": [
    {
     "name": "stdin",
     "output_type": "stream",
     "text": [
      "Enter a number:  4\n"
     ]
    },
    {
     "name": "stdout",
     "output_type": "stream",
     "text": [
      "Absolute value: 4.0\n"
     ]
    }
   ],
   "source": [
    "# Python function to calculate the absolute value of a number without using abs()\n",
    "def absolute_value(num):\n",
    "    if num < 0:\n",
    "        return -num\n",
    "    else:\n",
    "        return num\n",
    "\n",
    "number = float(input(\"Enter a number: \"))\n",
    "print(\"Absolute value:\", absolute_value(number))\n"
   ]
  },
  {
   "cell_type": "markdown",
   "id": "779e50ef-59c2-49a6-84cd-f9831030caac",
   "metadata": {},
   "source": [
    "8. Develop a program that determines the largest of three given numbers using if-else statements."
   ]
  },
  {
   "cell_type": "code",
   "execution_count": 8,
   "id": "840c5af2-5059-4db8-a744-fdd63d61f474",
   "metadata": {},
   "outputs": [
    {
     "name": "stdin",
     "output_type": "stream",
     "text": [
      "Enter the first number:  3\n",
      "Enter the second number:  5\n",
      "Enter the third number:  6\n"
     ]
    },
    {
     "name": "stdout",
     "output_type": "stream",
     "text": [
      "The largest number is: 6.0\n"
     ]
    }
   ],
   "source": [
    "# Program to determine the largest of three given numbers using if-else statements\n",
    "num1 = float(input(\"Enter the first number: \"))\n",
    "num2 = float(input(\"Enter the second number: \"))\n",
    "num3 = float(input(\"Enter the third number: \"))\n",
    "\n",
    "if num1 >= num2 and num1 >= num3:\n",
    "    print(\"The largest number is:\", num1)\n",
    "elif num2 >= num1 and num2 >= num3:\n",
    "    print(\"The largest number is:\", num2)\n",
    "else:\n",
    "    print(\"The largest number is:\", num3)\n"
   ]
  },
  {
   "cell_type": "markdown",
   "id": "8d9f9041-aec3-421a-a283-f232fec51258",
   "metadata": {},
   "source": [
    "9. Create a program that checks if a given string is a palindrome."
   ]
  },
  {
   "cell_type": "code",
   "execution_count": 9,
   "id": "0bb8f44b-9a39-45b6-bd79-76a75bf9f7ce",
   "metadata": {},
   "outputs": [
    {
     "name": "stdin",
     "output_type": "stream",
     "text": [
      "Enter a string:  pop\n"
     ]
    },
    {
     "name": "stdout",
     "output_type": "stream",
     "text": [
      "The string is a palindrome.\n"
     ]
    }
   ],
   "source": [
    "# Program to check if a given string is a palindrome\n",
    "def is_palindrome(string):\n",
    "    cleaned_string = ''.join(char.lower() for char in string if char.isalnum())\n",
    "    return cleaned_string == cleaned_string[::-1]\n",
    "\n",
    "input_string = input(\"Enter a string: \")\n",
    "if is_palindrome(input_string):\n",
    "    print(\"The string is a palindrome.\")\n",
    "else:\n",
    "    print(\"The string is not a palindrome.\")\n"
   ]
  },
  {
   "cell_type": "markdown",
   "id": "32ee2857-5c75-4534-8d01-f158200d8800",
   "metadata": {},
   "source": [
    "10. Write a Python program to calculate the grade based on a student's score."
   ]
  },
  {
   "cell_type": "code",
   "execution_count": 10,
   "id": "2ae08be7-1821-4987-a7b5-af18247fa893",
   "metadata": {},
   "outputs": [
    {
     "name": "stdin",
     "output_type": "stream",
     "text": [
      "Enter the student's score:  90\n"
     ]
    },
    {
     "name": "stdout",
     "output_type": "stream",
     "text": [
      "The student's grade is: A\n"
     ]
    }
   ],
   "source": [
    "# Python program to calculate the grade based on a student's score\n",
    "score = float(input(\"Enter the student's score: \"))\n",
    "\n",
    "if 90 <= score <= 100:\n",
    "    grade = 'A'\n",
    "elif 80 <= score < 90:\n",
    "    grade = 'B'\n",
    "elif 70 <= score < 80:\n",
    "    grade = 'C'\n",
    "elif 60 <= score < 70:\n",
    "    grade = 'D'\n",
    "elif 0 <= score < 60:\n",
    "    grade = 'F'\n",
    "else:\n",
    "    grade = 'Invalid score'\n",
    "\n",
    "print(f\"The student's grade is: {grade}\")\n"
   ]
  },
  {
   "cell_type": "code",
   "execution_count": null,
   "id": "6f600eb8-9e99-42ff-bb9b-e3eac14f4c37",
   "metadata": {},
   "outputs": [],
   "source": [
    "11. Write a program to find the largest among three numbers using nested if-else statements.\n",
    "12. Implement a program to determine if a triangle is equilateral, isosceles, or scalene.\n",
    "13. Develop a program that checks if a year is a leap year and also if it is a century year.\n",
    "14. Write a Python script to determine if a number is positive, negative, or zero.\n",
    "15. Create a program to check if a person is a teenager (between 13 and 19 years old).\n",
    "16. Develop a program that determines the type of angle based on its measure (acute, obtuse, or right).\n",
    "17. Write a Python program to calculate the roots of a quadratic equation.\n",
    "18. Implement a program to determine the day of the week based on a user-provided number (1 for Monday, 2\n",
    "for Tuesday, etc.).\n",
    "19. Create a program that determines if a year is a leap year and also if it is evenly divisible by 400.\n",
    "20. Develop a program that checks if a given number is prime or not using nested if-else statements."
   ]
  },
  {
   "cell_type": "markdown",
   "id": "f4fe96a5-5183-4216-8e38-e4eeea78fad7",
   "metadata": {},
   "source": [
    "# Nested If-Else Statements:"
   ]
  },
  {
   "cell_type": "markdown",
   "id": "a1a4cc69-dd0f-44bc-992a-5aa2642c0d98",
   "metadata": {},
   "source": [
    "11. Write a program to find the largest among three numbers using nested if-else statements."
   ]
  },
  {
   "cell_type": "code",
   "execution_count": 2,
   "id": "37c5297c-075e-4132-9389-e08e01d739b8",
   "metadata": {},
   "outputs": [
    {
     "name": "stdin",
     "output_type": "stream",
     "text": [
      "Enter the first number:  4\n",
      "Enter the second number:  5\n",
      "Enter the third number:  6\n"
     ]
    },
    {
     "name": "stdout",
     "output_type": "stream",
     "text": [
      "The largest number is: 6.0\n"
     ]
    }
   ],
   "source": [
    "# Program to find the largest among three numbers using nested if-else statements\n",
    "num1 = float(input(\"Enter the first number: \"))\n",
    "num2 = float(input(\"Enter the second number: \"))\n",
    "num3 = float(input(\"Enter the third number: \"))\n",
    "\n",
    "if num1 >= num2:\n",
    "    if num1 >= num3:\n",
    "        largest = num1\n",
    "    else:\n",
    "        largest = num3\n",
    "else:\n",
    "    if num2 >= num3:\n",
    "        largest = num2\n",
    "    else:\n",
    "        largest = num3\n",
    "\n",
    "print(\"The largest number is:\", largest)\n"
   ]
  },
  {
   "cell_type": "markdown",
   "id": "85735c0d-d02a-4d37-b68a-e9ecf580a9d5",
   "metadata": {},
   "source": [
    "12. Implement a program to determine if a triangle is equilateral, isosceles, or scalene."
   ]
  },
  {
   "cell_type": "code",
   "execution_count": 3,
   "id": "c3208b2a-6cbe-4046-ab53-63bb2d5d9be5",
   "metadata": {},
   "outputs": [
    {
     "name": "stdin",
     "output_type": "stream",
     "text": [
      "Enter the length of side 1:  3\n",
      "Enter the length of side 2:  4\n",
      "Enter the length of side 3:  5\n"
     ]
    },
    {
     "name": "stdout",
     "output_type": "stream",
     "text": [
      "The triangle is Scalene.\n"
     ]
    }
   ],
   "source": [
    "# Program to determine if a triangle is equilateral, isosceles, or scalene\n",
    "side1 = float(input(\"Enter the length of side 1: \"))\n",
    "side2 = float(input(\"Enter the length of side 2: \"))\n",
    "side3 = float(input(\"Enter the length of side 3: \"))\n",
    "\n",
    "if side1 == side2 == side3:\n",
    "    triangle_type = \"Equilateral\"\n",
    "elif side1 == side2 or side1 == side3 or side2 == side3:\n",
    "    triangle_type = \"Isosceles\"\n",
    "else:\n",
    "    triangle_type = \"Scalene\"\n",
    "\n",
    "print(f\"The triangle is {triangle_type}.\")\n"
   ]
  },
  {
   "cell_type": "markdown",
   "id": "0157ec2a-c28a-4776-8c05-5eff5063e6b4",
   "metadata": {},
   "source": [
    "13. Develop a program that checks if a year is a leap year and also if it is a century year."
   ]
  },
  {
   "cell_type": "code",
   "execution_count": 4,
   "id": "e3fef2a3-01ee-403c-8ccc-98f596a11032",
   "metadata": {},
   "outputs": [
    {
     "name": "stdin",
     "output_type": "stream",
     "text": [
      "Enter a year:  2023\n"
     ]
    },
    {
     "name": "stdout",
     "output_type": "stream",
     "text": [
      "Not a leap year\n"
     ]
    }
   ],
   "source": [
    "# Python script to check if a year is a leap year and also if it is a century year\n",
    "year = int(input(\"Enter a year: \"))\n",
    "\n",
    "if (year % 4 == 0 and year % 100 != 0) or (year % 400 == 0):\n",
    "    print(\"Leap year\")\n",
    "    if year % 100 == 0:\n",
    "        print(\"Century year\")\n",
    "else:\n",
    "    print(\"Not a leap year\")\n"
   ]
  },
  {
   "cell_type": "markdown",
   "id": "ddced60b-39e9-488e-8c56-ca4231892994",
   "metadata": {},
   "source": [
    "14. Write a Python script to determine if a number is positive, negative, or zero."
   ]
  },
  {
   "cell_type": "code",
   "execution_count": 5,
   "id": "5ba099f5-797f-4424-adac-507ff16500cb",
   "metadata": {},
   "outputs": [
    {
     "name": "stdin",
     "output_type": "stream",
     "text": [
      "Enter a number:  4\n"
     ]
    },
    {
     "name": "stdout",
     "output_type": "stream",
     "text": [
      "Positive number\n"
     ]
    }
   ],
   "source": [
    "# Python program to determine if a number is positive, negative, or zero\n",
    "number = float(input(\"Enter a number: \"))\n",
    "\n",
    "if number > 0:\n",
    "    print(\"Positive number\")\n",
    "elif number < 0:\n",
    "    print(\"Negative number\")\n",
    "else:\n",
    "    print(\"Zero\")\n"
   ]
  },
  {
   "cell_type": "markdown",
   "id": "51c19a7f-4648-4c53-a653-87f488c5063f",
   "metadata": {},
   "source": [
    "15. Create a program to check if a person is a teenager (between 13 and 19 years old)."
   ]
  },
  {
   "cell_type": "code",
   "execution_count": 6,
   "id": "bbf5ea06-cbbf-4ee6-a3da-c4d9d8f05768",
   "metadata": {},
   "outputs": [
    {
     "name": "stdin",
     "output_type": "stream",
     "text": [
      "Enter the person's age:  23\n"
     ]
    },
    {
     "name": "stdout",
     "output_type": "stream",
     "text": [
      "The person is not a teenager.\n"
     ]
    }
   ],
   "source": [
    "# Program to check if a person is a teenager (between 13 and 19 years old)\n",
    "age = int(input(\"Enter the person's age: \"))\n",
    "\n",
    "if 13 <= age <= 19:\n",
    "    print(\"The person is a teenager.\")\n",
    "else:\n",
    "    print(\"The person is not a teenager.\")\n"
   ]
  },
  {
   "cell_type": "markdown",
   "id": "350d2f1d-1235-45c3-a820-1e13bddef454",
   "metadata": {},
   "source": [
    "16. Develop a program that determines the type of angle based on its measure (acute, obtuse, or right)."
   ]
  },
  {
   "cell_type": "code",
   "execution_count": 7,
   "id": "3c22475e-4659-4afa-9f60-fa3181e24d8d",
   "metadata": {},
   "outputs": [
    {
     "name": "stdin",
     "output_type": "stream",
     "text": [
      "Enter the measure of the angle:  3\n"
     ]
    },
    {
     "name": "stdout",
     "output_type": "stream",
     "text": [
      "The angle is Acute.\n"
     ]
    }
   ],
   "source": [
    "# Program to determine the type of angle based on its measure (acute, obtuse, or right)\n",
    "angle_measure = float(input(\"Enter the measure of the angle: \"))\n",
    "\n",
    "if 0 < angle_measure < 90:\n",
    "    angle_type = \"Acute\"\n",
    "elif angle_measure == 90:\n",
    "    angle_type = \"Right\"\n",
    "elif 90 < angle_measure < 180:\n",
    "    angle_type = \"Obtuse\"\n",
    "else:\n",
    "    angle_type = \"Invalid\"\n",
    "\n",
    "print(f\"The angle is {angle_type}.\")\n"
   ]
  },
  {
   "cell_type": "markdown",
   "id": "eccaebd9-b4c8-4fcb-9109-f0f9712df5f4",
   "metadata": {},
   "source": [
    "17. Write a Python program to calculate the roots of a quadratic equation."
   ]
  },
  {
   "cell_type": "code",
   "execution_count": 8,
   "id": "99b62af0-f18a-4485-a146-1ebf2dbfa106",
   "metadata": {},
   "outputs": [
    {
     "name": "stdin",
     "output_type": "stream",
     "text": [
      "Enter the coefficient a:  3\n",
      "Enter the coefficient b:  4\n",
      "Enter the coefficient c:  6\n"
     ]
    },
    {
     "name": "stdout",
     "output_type": "stream",
     "text": [
      "The roots are complex: -0.6666666666666666 + 1.247219128924647i and -0.6666666666666666 - 1.247219128924647i\n"
     ]
    }
   ],
   "source": [
    "# Python program to calculate the roots of a quadratic equation\n",
    "import math\n",
    "\n",
    "a = float(input(\"Enter the coefficient a: \"))\n",
    "b = float(input(\"Enter the coefficient b: \"))\n",
    "c = float(input(\"Enter the coefficient c: \"))\n",
    "\n",
    "discriminant = b**2 - 4*a*c\n",
    "\n",
    "if discriminant > 0:\n",
    "    root1 = (-b + math.sqrt(discriminant)) / (2*a)\n",
    "    root2 = (-b - math.sqrt(discriminant)) / (2*a)\n",
    "    print(f\"The roots are real and different: {root1} and {root2}\")\n",
    "elif discriminant == 0:\n",
    "    root = -b / (2*a)\n",
    "    print(f\"The root is real and identical: {root}\")\n",
    "else:\n",
    "    real_part = -b / (2*a)\n",
    "    imaginary_part = math.sqrt(abs(discriminant)) / (2*a)\n",
    "    print(f\"The roots are complex: {real_part} + {imaginary_part}i and {real_part} - {imaginary_part}i\")\n"
   ]
  },
  {
   "cell_type": "markdown",
   "id": "69392810-53e4-481b-9aa8-7e0d6cfb4168",
   "metadata": {},
   "source": [
    "18. Implement a program to determine the day of the week based on a user-provided number (1 for Monday, 2\n",
    "for Tuesday, etc.)."
   ]
  },
  {
   "cell_type": "code",
   "execution_count": 9,
   "id": "35fe2fdf-53b5-49a3-bb2c-645b76428378",
   "metadata": {},
   "outputs": [
    {
     "name": "stdin",
     "output_type": "stream",
     "text": [
      "Enter a number (1-7) representing the day of the week:  2\n"
     ]
    },
    {
     "name": "stdout",
     "output_type": "stream",
     "text": [
      "The day of the week is: Tuesday\n"
     ]
    }
   ],
   "source": [
    "# Program to determine the day of the week based on a user-provided number (1 for Monday, 2 for Tuesday, etc.)\n",
    "day_number = int(input(\"Enter a number (1-7) representing the day of the week: \"))\n",
    "\n",
    "days_of_week = [\"Monday\", \"Tuesday\", \"Wednesday\", \"Thursday\", \"Friday\", \"Saturday\", \"Sunday\"]\n",
    "\n",
    "if 1 <= day_number <= 7:\n",
    "    day = days_of_week[day_number - 1]\n",
    "    print(f\"The day of the week is: {day}\")\n",
    "else:\n",
    "    print(\"Invalid input. Please enter a number between 1 and 7.\")\n"
   ]
  },
  {
   "cell_type": "markdown",
   "id": "c73d7f6a-4745-4344-8045-7b99696efe34",
   "metadata": {},
   "source": [
    "19. Create a program that determines if a year is a leap year and also if it is evenly divisible by 400."
   ]
  },
  {
   "cell_type": "code",
   "execution_count": 10,
   "id": "66bfd8b0-8760-4fc0-8cac-bce1f7ebc4f3",
   "metadata": {},
   "outputs": [
    {
     "name": "stdin",
     "output_type": "stream",
     "text": [
      "Enter a year:  2021\n"
     ]
    },
    {
     "name": "stdout",
     "output_type": "stream",
     "text": [
      "Not a leap year\n"
     ]
    }
   ],
   "source": [
    "# Program to check if a year is a leap year and also if it is evenly divisible by 400\n",
    "year = int(input(\"Enter a year: \"))\n",
    "\n",
    "if (year % 4 == 0 and year % 100 != 0) or (year % 400 == 0):\n",
    "    print(\"Leap year\")\n",
    "    if year % 400 == 0:\n",
    "        print(\"Divisible by 400\")\n",
    "else:\n",
    "    print(\"Not a leap year\")\n"
   ]
  },
  {
   "cell_type": "markdown",
   "id": "8601d84b-003b-497f-a95e-3a74bb63c8b0",
   "metadata": {},
   "source": [
    "20. Develop a program that checks if a given number is prime or not using nested if-else statements."
   ]
  },
  {
   "cell_type": "code",
   "execution_count": 11,
   "id": "5cd2451d-60b4-40c6-8d88-f5b7d18f2d34",
   "metadata": {},
   "outputs": [
    {
     "name": "stdin",
     "output_type": "stream",
     "text": [
      "Enter a number:  17\n"
     ]
    },
    {
     "name": "stdout",
     "output_type": "stream",
     "text": [
      "17 is a prime number.\n"
     ]
    }
   ],
   "source": [
    "# Program to check if a given number is prime or not using nested if-else statements\n",
    "num = int(input(\"Enter a number: \"))\n",
    "\n",
    "if num > 1:\n",
    "    for i in range(2, int(num**0.5) + 1):\n",
    "        if num % i == 0:\n",
    "            print(f\"{num} is not a prime number.\")\n",
    "            break\n",
    "    else:\n",
    "        print(f\"{num} is a prime number.\")\n",
    "else:\n",
    "    print(\"Invalid input. Please enter a number greater than 1.\")\n"
   ]
  },
  {
   "cell_type": "markdown",
   "id": "f4d3a9bc-3ce1-4879-955e-0de960db602a",
   "metadata": {},
   "source": [
    "# Elif Statements:"
   ]
  },
  {
   "cell_type": "code",
   "execution_count": null,
   "id": "6c19753e-90c7-4603-9973-64ad3464da37",
   "metadata": {},
   "outputs": [],
   "source": [
    "21. Write a Python program to assign grades based on different ranges of scores using elif statements.\n",
    "22. Implement a program to determine the type of a triangle based on its angles.\n",
    "23. Develop a program to categorize a given person's BMI into underweight, normal, overweight, or obese using\n",
    "elif statements.\n",
    "24. Create a program that determines whether a given number is positive, negative, or zero using elif\n",
    "statements.\n",
    "25. Write a Python script to determine the type of a character (uppercase, lowercase, or special) using elif\n",
    "statements.\n",
    "26. Implement a program to calculate the discounted price based on different purchase amounts using elif\n",
    "statements.\n",
    "27. Develop a program to calculate the electricity bill based on different consumption slabs using elif\n",
    "statements.\n",
    "28. Create a program to determine the type of quadrilateral based on its angles and sides using elif\n",
    "statements.\n",
    "29. Write a Python script to determine the season based on a user-provided month using elif statements.\n",
    "30. Implement a program to determine the type of a year (leap or common) and month (30 or 31 days) using\n",
    "elif statements."
   ]
  },
  {
   "cell_type": "markdown",
   "id": "e64ca5ea-cbf9-463a-b610-6878b9f55687",
   "metadata": {},
   "source": [
    "21. Write a Python program to assign grades based on different ranges of scores using elif statements."
   ]
  },
  {
   "cell_type": "code",
   "execution_count": 12,
   "id": "19b926b4-1485-481d-9e77-bc00a03f6591",
   "metadata": {},
   "outputs": [
    {
     "name": "stdin",
     "output_type": "stream",
     "text": [
      "Enter the student's score:  90\n"
     ]
    },
    {
     "name": "stdout",
     "output_type": "stream",
     "text": [
      "The student's grade is: A\n"
     ]
    }
   ],
   "source": [
    "# Program to assign grades based on different ranges of scores using elif statements\n",
    "score = float(input(\"Enter the student's score: \"))\n",
    "\n",
    "if 90 <= score <= 100:\n",
    "    grade = 'A'\n",
    "elif 80 <= score < 90:\n",
    "    grade = 'B'\n",
    "elif 70 <= score < 80:\n",
    "    grade = 'C'\n",
    "elif 60 <= score < 70:\n",
    "    grade = 'D'\n",
    "elif 0 <= score < 60:\n",
    "    grade = 'F'\n",
    "else:\n",
    "    grade = 'Invalid score'\n",
    "\n",
    "print(f\"The student's grade is: {grade}\")\n"
   ]
  },
  {
   "cell_type": "markdown",
   "id": "3fcd1f6c-32f1-41f5-a72e-3b13d92a1cb3",
   "metadata": {},
   "source": [
    "22. Implement a program to determine the type of a triangle based on its angles."
   ]
  },
  {
   "cell_type": "code",
   "execution_count": 14,
   "id": "06294abd-9d01-41cc-aaab-d22a26d082df",
   "metadata": {},
   "outputs": [
    {
     "name": "stdin",
     "output_type": "stream",
     "text": [
      "Enter the first angle:  30\n",
      "Enter the second angle:  50\n",
      "Enter the third angle:  100\n"
     ]
    },
    {
     "name": "stdout",
     "output_type": "stream",
     "text": [
      "The triangle is Scalene.\n"
     ]
    }
   ],
   "source": [
    "# Program to determine the type of a triangle based on its angles\n",
    "angle1 = int(input(\"Enter the first angle: \"))\n",
    "angle2 = int(input(\"Enter the second angle: \"))\n",
    "angle3 = int(input(\"Enter the third angle: \"))\n",
    "\n",
    "if angle1 + angle2 + angle3 == 180:\n",
    "    if angle1 == angle2 == angle3:\n",
    "        triangle_type = \"Equilateral\"\n",
    "    elif angle1 == angle2 or angle1 == angle3 or angle2 == angle3:\n",
    "        triangle_type = \"Isosceles\"\n",
    "    else:\n",
    "        triangle_type = \"Scalene\"\n",
    "    print(f\"The triangle is {triangle_type}.\")\n",
    "else:\n",
    "    print(\"Invalid triangle angles.\")\n"
   ]
  },
  {
   "cell_type": "markdown",
   "id": "e294c4fe-ba15-44ad-b981-aad8d1007a07",
   "metadata": {},
   "source": [
    "23. Develop a program to categorize a given person's BMI into underweight, normal, overweight, or obese using\n",
    "elif statements."
   ]
  },
  {
   "cell_type": "code",
   "execution_count": 17,
   "id": "7f5f109b-324d-4278-b21b-1b04674f61b7",
   "metadata": {},
   "outputs": [
    {
     "name": "stdin",
     "output_type": "stream",
     "text": [
      "Enter your weight in kg:  60\n",
      "Enter your height in meters:  158\n"
     ]
    },
    {
     "name": "stdout",
     "output_type": "stream",
     "text": [
      "Your BMI is 0.00, and you are categorized as Underweight.\n"
     ]
    }
   ],
   "source": [
    "# Program to categorize a given person's BMI into underweight, normal, overweight, or obese using elif statements\n",
    "weight = float(input(\"Enter your weight in kg: \"))\n",
    "height = float(input(\"Enter your height in meters: \"))\n",
    "\n",
    "bmi = weight / (height ** 2)\n",
    "\n",
    "if bmi < 18.5:\n",
    "    category = \"Underweight\"\n",
    "elif 18.5 <= bmi < 24.9:\n",
    "    category = \"Normal\"\n",
    "elif 25 <= bmi < 29.9:\n",
    "    category = \"Overweight\"\n",
    "else:\n",
    "    category = \"Obese\"\n",
    "\n",
    "print(f\"Your BMI is {bmi:.2f}, and you are categorized as {category}.\")\n"
   ]
  },
  {
   "cell_type": "markdown",
   "id": "b76ff293-ce71-4bcf-a402-0e49413b7c70",
   "metadata": {},
   "source": [
    "24. Create a program that determines whether a given number is positive, negative, or zero using elif\n",
    "statements."
   ]
  },
  {
   "cell_type": "code",
   "execution_count": 18,
   "id": "cf0d290b-6e9c-4709-a501-26fe5ff1b313",
   "metadata": {},
   "outputs": [
    {
     "name": "stdin",
     "output_type": "stream",
     "text": [
      "Enter a number:  4\n"
     ]
    },
    {
     "name": "stdout",
     "output_type": "stream",
     "text": [
      "Positive number\n"
     ]
    }
   ],
   "source": [
    "# Python program to determine if a number is positive, negative, or zero using elif statements\n",
    "number = float(input(\"Enter a number: \"))\n",
    "\n",
    "if number > 0:\n",
    "    print(\"Positive number\")\n",
    "elif number < 0:\n",
    "    print(\"Negative number\")\n",
    "else:\n",
    "    print(\"Zero\")\n"
   ]
  },
  {
   "cell_type": "markdown",
   "id": "ad174cde-40e4-43c3-89f4-0dafbcee2cc3",
   "metadata": {},
   "source": [
    "25. Write a Python script to determine the type of a character (uppercase, lowercase, or special) using elif\n",
    "statements."
   ]
  },
  {
   "cell_type": "code",
   "execution_count": 19,
   "id": "47508e7f-ecf5-448b-8fb8-880b7159a829",
   "metadata": {},
   "outputs": [
    {
     "name": "stdin",
     "output_type": "stream",
     "text": [
      "Enter a character:  a\n"
     ]
    },
    {
     "name": "stdout",
     "output_type": "stream",
     "text": [
      "The character is Lowercase.\n"
     ]
    }
   ],
   "source": [
    "# Python script to determine the type of a character (uppercase, lowercase, or special) using elif statements\n",
    "char = input(\"Enter a character: \")\n",
    "\n",
    "if char.isalpha():\n",
    "    if char.isupper():\n",
    "        char_type = \"Uppercase\"\n",
    "    else:\n",
    "        char_type = \"Lowercase\"\n",
    "else:\n",
    "    char_type = \"Special character\"\n",
    "\n",
    "print(f\"The character is {char_type}.\")\n"
   ]
  },
  {
   "cell_type": "markdown",
   "id": "1a98cfe6-3193-4fd7-89c7-dcf17b43790b",
   "metadata": {},
   "source": [
    "26. Implement a program to calculate the discounted price based on different purchase amounts using elif\n",
    "statements."
   ]
  },
  {
   "cell_type": "code",
   "execution_count": 20,
   "id": "290f356a-d70c-46a5-84bb-0455dd45bf0c",
   "metadata": {},
   "outputs": [
    {
     "name": "stdin",
     "output_type": "stream",
     "text": [
      "Enter the purchase amount:  5000\n"
     ]
    },
    {
     "name": "stdout",
     "output_type": "stream",
     "text": [
      "Discounted price: $4500.00\n"
     ]
    }
   ],
   "source": [
    "# Program to calculate the discounted price based on different purchase amounts using elif statements\n",
    "purchase_amount = float(input(\"Enter the purchase amount: \"))\n",
    "\n",
    "if purchase_amount >= 1000:\n",
    "    discount_percentage = 10\n",
    "elif purchase_amount >= 500:\n",
    "    discount_percentage = 5\n",
    "else:\n",
    "    discount_percentage = 0\n",
    "\n",
    "discount = (discount_percentage / 100) * purchase_amount\n",
    "discounted_price = purchase_amount - discount\n",
    "\n",
    "print(f\"Discounted price: ${discounted_price:.2f}\")\n"
   ]
  },
  {
   "cell_type": "markdown",
   "id": "a304cae0-7482-469e-9e86-4dd44977ccfb",
   "metadata": {},
   "source": [
    "27. Develop a program to calculate the electricity bill based on different consumption slabs using elif\n",
    "statements."
   ]
  },
  {
   "cell_type": "code",
   "execution_count": 21,
   "id": "07e10bee-0da6-4cf9-9c2f-dbda1f7d32c3",
   "metadata": {},
   "outputs": [
    {
     "name": "stdin",
     "output_type": "stream",
     "text": [
      "Enter the electricity consumption in kWh:  100\n"
     ]
    },
    {
     "name": "stdout",
     "output_type": "stream",
     "text": [
      "The electricity bill is: $75.00\n"
     ]
    }
   ],
   "source": [
    "# Program to calculate the electricity bill based on different consumption slabs using elif statements\n",
    "consumption = float(input(\"Enter the electricity consumption in kWh: \"))\n",
    "\n",
    "if consumption <= 50:\n",
    "    rate = 0.50\n",
    "elif consumption <= 100:\n",
    "    rate = 0.75\n",
    "elif consumption <= 200:\n",
    "    rate = 1.20\n",
    "else:\n",
    "    rate = 1.50\n",
    "\n",
    "bill = consumption * rate\n",
    "print(f\"The electricity bill is: ${bill:.2f}\")\n"
   ]
  },
  {
   "cell_type": "markdown",
   "id": "f6999305-e35a-48b6-9d62-7f09507d21ce",
   "metadata": {},
   "source": [
    "28. Create a program to determine the type of quadrilateral based on its angles and sides using elif\n",
    "statements."
   ]
  },
  {
   "cell_type": "code",
   "execution_count": 1,
   "id": "0c231086-ec05-40ea-b4aa-a99f3b1df744",
   "metadata": {},
   "outputs": [
    {
     "name": "stdin",
     "output_type": "stream",
     "text": [
      "Enter the first angle:  1\n",
      "Enter the second angle:  2\n",
      "Enter the third angle:  3\n",
      "Enter the fourth angle:  4\n",
      "Enter the length of side 1:  5\n",
      "Enter the length of side 2:  6\n",
      "Enter the length of side 3:  7\n",
      "Enter the length of side 4:  8\n"
     ]
    },
    {
     "name": "stdout",
     "output_type": "stream",
     "text": [
      "Invalid angles for a quadrilateral.\n"
     ]
    }
   ],
   "source": [
    "# Program to determine the type of quadrilateral based on its angles and sides using elif statements\n",
    "angle1 = int(input(\"Enter the first angle: \"))\n",
    "angle2 = int(input(\"Enter the second angle: \"))\n",
    "angle3 = int(input(\"Enter the third angle: \"))\n",
    "angle4 = int(input(\"Enter the fourth angle: \"))\n",
    "\n",
    "side1 = float(input(\"Enter the length of side 1: \"))\n",
    "side2 = float(input(\"Enter the length of side 2: \"))\n",
    "side3 = float(input(\"Enter the length of side 3: \"))\n",
    "side4 = float(input(\"Enter the length of side 4: \"))\n",
    "\n",
    "if angle1 + angle2 + angle3 + angle4 == 360:\n",
    "    if side1 == side2 == side3 == side4:\n",
    "        quad_type = \"Square\"\n",
    "    elif angle1 == angle2 == angle3 == angle4:\n",
    "        quad_type = \"Rhombus\"\n",
    "    elif side1 == side3 and side2 == side4:\n",
    "        quad_type = \"Rectangle\"\n",
    "    else:\n",
    "        quad_type = \"Quadrilateral\"\n",
    "    print(f\"The figure is a {quad_type}.\")\n",
    "else:\n",
    "    print(\"Invalid angles for a quadrilateral.\")\n"
   ]
  },
  {
   "cell_type": "markdown",
   "id": "3e7bba68-804c-404d-ba0e-5419769f942e",
   "metadata": {},
   "source": [
    "29. Write a Python script to determine the season based on a user-provided month using elif statements."
   ]
  },
  {
   "cell_type": "code",
   "execution_count": 2,
   "id": "c47cef9c-5753-45af-acfe-615c4c17f22b",
   "metadata": {},
   "outputs": [
    {
     "name": "stdin",
     "output_type": "stream",
     "text": [
      "Enter a month (1-12):  3\n"
     ]
    },
    {
     "name": "stdout",
     "output_type": "stream",
     "text": [
      "The season for the month is: Spring\n"
     ]
    }
   ],
   "source": [
    "# Program to determine the season based on a user-provided month using elif statements\n",
    "month = int(input(\"Enter a month (1-12): \"))\n",
    "\n",
    "if 1 <= month <= 12:\n",
    "    if 3 <= month <= 5:\n",
    "        season = \"Spring\"\n",
    "    elif 6 <= month <= 8:\n",
    "        season = \"Summer\"\n",
    "    elif 9 <= month <= 11:\n",
    "        season = \"Fall\"\n",
    "    else:\n",
    "        season = \"Winter\"\n",
    "    print(f\"The season for the month is: {season}\")\n",
    "else:\n",
    "    print(\"Invalid input. Please enter a number between 1 and 12.\")\n"
   ]
  },
  {
   "cell_type": "markdown",
   "id": "bf3933de-15e6-4417-8f8a-47603b5c583e",
   "metadata": {},
   "source": [
    "30. Implement a program to determine the type of a year (leap or common) and month (30 or 31 days) using\n",
    "elif statements."
   ]
  },
  {
   "cell_type": "code",
   "execution_count": 3,
   "id": "51e40db8-b513-4cd3-b38f-74f6b6d0dd66",
   "metadata": {},
   "outputs": [
    {
     "name": "stdin",
     "output_type": "stream",
     "text": [
      "Enter a year:  2023\n",
      "Enter a month (1-12):  11\n"
     ]
    },
    {
     "name": "stdout",
     "output_type": "stream",
     "text": [
      "The year is Common and the month has 30 days.\n"
     ]
    }
   ],
   "source": [
    "def is_leap_year(year):\n",
    "    if (year % 4 == 0 and year % 100 != 0) or (year % 400 == 0):\n",
    "        return True\n",
    "    else:\n",
    "        return False\n",
    "\n",
    "def month_days(year, month):\n",
    "    if month in {1, 3, 5, 7, 8, 10, 12}:\n",
    "        return 31\n",
    "    elif month in {4, 6, 9, 11}:\n",
    "        return 30\n",
    "    elif month == 2:\n",
    "        return 29 if is_leap_year(year) else 28\n",
    "    else:\n",
    "        return -1  # Invalid month\n",
    "\n",
    "def main():\n",
    "    year = int(input(\"Enter a year: \"))\n",
    "    month = int(input(\"Enter a month (1-12): \"))\n",
    "\n",
    "    if 1 <= month <= 12:\n",
    "        if is_leap_year(year):\n",
    "            year_type = \"Leap\"\n",
    "        else:\n",
    "            year_type = \"Common\"\n",
    "\n",
    "        days_in_month = month_days(year, month)\n",
    "        \n",
    "        if days_in_month != -1:\n",
    "            print(f\"The year is {year_type} and the month has {days_in_month} days.\")\n",
    "        else:\n",
    "            print(\"Invalid month.\")\n",
    "    else:\n",
    "        print(\"Invalid input. Please enter a number between 1 and 12 for the month.\")\n",
    "\n",
    "if __name__ == \"__main__\":\n",
    "    main()\n"
   ]
  },
  {
   "cell_type": "markdown",
   "id": "00b22ae2-2523-4095-9950-c1fdbcc4dd5d",
   "metadata": {},
   "source": [
    "# Basic Level:"
   ]
  },
  {
   "cell_type": "markdown",
   "id": "56a65924-4fb4-4f98-afee-4174d6671ae5",
   "metadata": {},
   "source": [
    "1. Write a Python program that checks if a given number is positive, negative, or zero."
   ]
  },
  {
   "cell_type": "code",
   "execution_count": 6,
   "id": "0450b791-d7d1-49da-8261-e2b1dcbc9a3a",
   "metadata": {},
   "outputs": [
    {
     "name": "stdin",
     "output_type": "stream",
     "text": [
      "Enter a number:  4\n"
     ]
    },
    {
     "name": "stdout",
     "output_type": "stream",
     "text": [
      "Positive number\n"
     ]
    }
   ],
   "source": [
    "# Program to check if a given number is positive, negative, or zero\n",
    "number = float(input(\"Enter a number: \"))\n",
    "\n",
    "if number > 0:\n",
    "    print(\"Positive number\")\n",
    "elif number < 0:\n",
    "    print(\"Negative number\")\n",
    "else:\n",
    "    print(\"Zero\")\n"
   ]
  },
  {
   "cell_type": "markdown",
   "id": "017b4a13-799a-4f7b-ba36-4c6eb046dd7b",
   "metadata": {},
   "source": [
    "\n",
    "2. Create a program to determine if a person is eligible to vote based on their age."
   ]
  },
  {
   "cell_type": "code",
   "execution_count": 8,
   "id": "5b2b10b3-dbb3-4304-84ed-3ed6e693f197",
   "metadata": {},
   "outputs": [
    {
     "name": "stdin",
     "output_type": "stream",
     "text": [
      "Enter your age:  23\n"
     ]
    },
    {
     "name": "stdout",
     "output_type": "stream",
     "text": [
      "You are eligible to vote.\n"
     ]
    }
   ],
   "source": [
    "# Program to determine if a person is eligible to vote based on their age\n",
    "age = int(input(\"Enter your age: \"))\n",
    "\n",
    "if age >= 18:\n",
    "    print(\"You are eligible to vote.\")\n",
    "else:\n",
    "    print(\"You are not eligible to vote yet.\")\n"
   ]
  },
  {
   "cell_type": "markdown",
   "id": "0330c665-e0f1-4eca-99b0-bdce805b3fdb",
   "metadata": {},
   "source": [
    "3. Write a program to find the maximum of two given numbers using conditional statements."
   ]
  },
  {
   "cell_type": "code",
   "execution_count": 7,
   "id": "00784600-a549-4aac-8564-6e597c0e30fa",
   "metadata": {},
   "outputs": [
    {
     "name": "stdin",
     "output_type": "stream",
     "text": [
      "Enter the first number:  3\n",
      "Enter the second number:  4\n"
     ]
    },
    {
     "name": "stdout",
     "output_type": "stream",
     "text": [
      "The maximum number is: 4.0\n"
     ]
    }
   ],
   "source": [
    "# Program to find the maximum of two given numbers\n",
    "num1 = float(input(\"Enter the first number: \"))\n",
    "num2 = float(input(\"Enter the second number: \"))\n",
    "\n",
    "if num1 > num2:\n",
    "    print(f\"The maximum number is: {num1}\")\n",
    "elif num2 > num1:\n",
    "    print(f\"The maximum number is: {num2}\")\n",
    "else:\n",
    "    print(\"Both numbers are equal.\")\n"
   ]
  },
  {
   "cell_type": "markdown",
   "id": "8a736490-9681-4d6b-8a98-1dc1ce6aca89",
   "metadata": {},
   "source": [
    "4. Develop a program that calculates the grade of a student based on their exam score."
   ]
  },
  {
   "cell_type": "code",
   "execution_count": 9,
   "id": "2d7d954a-2212-402f-979f-8a59cb0bd5fa",
   "metadata": {},
   "outputs": [
    {
     "name": "stdin",
     "output_type": "stream",
     "text": [
      "Enter the exam score:  99\n"
     ]
    },
    {
     "name": "stdout",
     "output_type": "stream",
     "text": [
      "The student's grade is: A\n"
     ]
    }
   ],
   "source": [
    "# Program to calculate the grade of a student based on their exam score\n",
    "score = float(input(\"Enter the exam score: \"))\n",
    "\n",
    "if 90 <= score <= 100:\n",
    "    grade = 'A'\n",
    "elif 80 <= score < 90:\n",
    "    grade = 'B'\n",
    "elif 70 <= score < 80:\n",
    "    grade = 'C'\n",
    "elif 60 <= score < 70:\n",
    "    grade = 'D'\n",
    "elif 0 <= score < 60:\n",
    "    grade = 'F'\n",
    "else:\n",
    "    grade = 'Invalid score'\n",
    "\n",
    "print(f\"The student's grade is: {grade}\")\n"
   ]
  },
  {
   "cell_type": "markdown",
   "id": "05a024fb-6021-49af-a241-5cf835c092be",
   "metadata": {},
   "source": [
    "5. Create a program that checks if a year is a leap year or not."
   ]
  },
  {
   "cell_type": "code",
   "execution_count": 10,
   "id": "5af88a36-9e32-473c-bec8-af5431335eea",
   "metadata": {},
   "outputs": [
    {
     "name": "stdin",
     "output_type": "stream",
     "text": [
      "Enter a year:  2023\n"
     ]
    },
    {
     "name": "stdout",
     "output_type": "stream",
     "text": [
      "2023 is not a leap year.\n"
     ]
    }
   ],
   "source": [
    "# Program to check if a year is a leap year or not\n",
    "year = int(input(\"Enter a year: \"))\n",
    "\n",
    "if (year % 4 == 0 and year % 100 != 0) or (year % 400 == 0):\n",
    "    print(f\"{year} is a leap year.\")\n",
    "else:\n",
    "    print(f\"{year} is not a leap year.\")\n"
   ]
  },
  {
   "cell_type": "markdown",
   "id": "706aacf2-0571-4c47-9092-fea44ea10439",
   "metadata": {},
   "source": [
    "6. Write a program to classify a triangle based on its sides' lengths."
   ]
  },
  {
   "cell_type": "code",
   "execution_count": 11,
   "id": "82893670-f78c-44d4-a181-c35b914c8131",
   "metadata": {},
   "outputs": [
    {
     "name": "stdin",
     "output_type": "stream",
     "text": [
      "Enter the length of side 1:  3\n",
      "Enter the length of side 2:  4\n",
      "Enter the length of side 3:  5\n"
     ]
    },
    {
     "name": "stdout",
     "output_type": "stream",
     "text": [
      "The triangle is Scalene.\n"
     ]
    }
   ],
   "source": [
    "# Program to classify a triangle based on its sides' lengths\n",
    "side1 = float(input(\"Enter the length of side 1: \"))\n",
    "side2 = float(input(\"Enter the length of side 2: \"))\n",
    "side3 = float(input(\"Enter the length of side 3: \"))\n",
    "\n",
    "if side1 == side2 == side3:\n",
    "    triangle_type = \"Equilateral\"\n",
    "elif side1 == side2 or side1 == side3 or side2 == side3:\n",
    "    triangle_type = \"Isosceles\"\n",
    "else:\n",
    "    triangle_type = \"Scalene\"\n",
    "\n",
    "print(f\"The triangle is {triangle_type}.\")\n"
   ]
  },
  {
   "cell_type": "markdown",
   "id": "7a140410-7e96-4164-97a0-3424dbd36f94",
   "metadata": {},
   "source": [
    "7. Build a program that determines the largest of three given numbers."
   ]
  },
  {
   "cell_type": "code",
   "execution_count": 1,
   "id": "ed6b3176-aec4-4854-b36f-a97906adc5bc",
   "metadata": {},
   "outputs": [
    {
     "name": "stdin",
     "output_type": "stream",
     "text": [
      "Enter the first number:  3\n",
      "Enter the second number:  4\n",
      "Enter the third number:  5\n"
     ]
    },
    {
     "name": "stdout",
     "output_type": "stream",
     "text": [
      "The largest number is: 5.0\n"
     ]
    }
   ],
   "source": [
    "# Program to determine the largest of three given numbers\n",
    "num1 = float(input(\"Enter the first number: \"))\n",
    "num2 = float(input(\"Enter the second number: \"))\n",
    "num3 = float(input(\"Enter the third number: \"))\n",
    "\n",
    "max_num = max(num1, num2, num3)\n",
    "print(f\"The largest number is: {max_num}\")\n"
   ]
  },
  {
   "cell_type": "markdown",
   "id": "176ea396-e8a6-42dd-92d2-7a207aa69764",
   "metadata": {},
   "source": [
    "8. Develop a program that checks whether a character is a vowel or a consonant."
   ]
  },
  {
   "cell_type": "code",
   "execution_count": 2,
   "id": "fbb7a9ad-d295-4af9-9453-a61055124343",
   "metadata": {},
   "outputs": [
    {
     "name": "stdin",
     "output_type": "stream",
     "text": [
      "Enter a character:  d\n"
     ]
    },
    {
     "name": "stdout",
     "output_type": "stream",
     "text": [
      "d is a consonant.\n"
     ]
    }
   ],
   "source": [
    "# Program to check whether a character is a vowel or consonant\n",
    "char = input(\"Enter a character: \")\n",
    "\n",
    "if char.lower() in ['a', 'e', 'i', 'o', 'u']:\n",
    "    print(f\"{char} is a vowel.\")\n",
    "else:\n",
    "    print(f\"{char} is a consonant.\")\n"
   ]
  },
  {
   "cell_type": "markdown",
   "id": "a842c432-9708-4974-8a70-401f73b5c7d2",
   "metadata": {},
   "source": [
    "9. Create a program to calculate the total cost of a shopping cart based on discounts."
   ]
  },
  {
   "cell_type": "code",
   "execution_count": 3,
   "id": "e39e03f7-526c-4f38-92d9-6db9f3d7b6ce",
   "metadata": {},
   "outputs": [
    {
     "name": "stdin",
     "output_type": "stream",
     "text": [
      "Enter the number of items:  4\n",
      "Enter the total cost:  5000\n"
     ]
    },
    {
     "name": "stdout",
     "output_type": "stream",
     "text": [
      "The final cost after discount is: 5000.00\n"
     ]
    }
   ],
   "source": [
    "# Program to calculate the total cost of a shopping cart based on discounts\n",
    "item_count = int(input(\"Enter the number of items: \"))\n",
    "total_cost = float(input(\"Enter the total cost: \"))\n",
    "\n",
    "if item_count >= 10:\n",
    "    discount_percentage = 10\n",
    "else:\n",
    "    discount_percentage = 0\n",
    "\n",
    "discount = (discount_percentage / 100) * total_cost\n",
    "final_cost = total_cost - discount\n",
    "\n",
    "print(f\"The final cost after discount is: {final_cost:.2f}\")\n"
   ]
  },
  {
   "cell_type": "markdown",
   "id": "5b896aeb-457f-495f-8d72-93420033f813",
   "metadata": {},
   "source": [
    "10. Write a program that checks if a given number is even or odd."
   ]
  },
  {
   "cell_type": "code",
   "execution_count": 4,
   "id": "91f5148f-f054-48fe-b1af-2593bf599955",
   "metadata": {},
   "outputs": [
    {
     "name": "stdin",
     "output_type": "stream",
     "text": [
      "Enter a number:  33\n"
     ]
    },
    {
     "name": "stdout",
     "output_type": "stream",
     "text": [
      "Odd number\n"
     ]
    }
   ],
   "source": [
    "# Program to check if a given number is even or odd\n",
    "number = int(input(\"Enter a number: \"))\n",
    "\n",
    "if number % 2 == 0:\n",
    "    print(\"Even number\")\n",
    "else:\n",
    "    print(\"Odd number\")\n"
   ]
  },
  {
   "cell_type": "markdown",
   "id": "9c5080db-d7d1-4e84-ad9b-7da18dec194a",
   "metadata": {},
   "source": [
    "# Intermediate Level:"
   ]
  },
  {
   "cell_type": "markdown",
   "id": "5a114ad6-aa03-47b2-9482-55384d1e345f",
   "metadata": {},
   "source": [
    "11. Write a program that calculates the roots of a quadratic equation ."
   ]
  },
  {
   "cell_type": "code",
   "execution_count": 6,
   "id": "c199ed13-2e27-4231-a467-e8c20d9e3654",
   "metadata": {},
   "outputs": [
    {
     "name": "stdin",
     "output_type": "stream",
     "text": [
      "Enter the coefficient a:  4\n",
      "Enter the coefficient b:  5\n",
      "Enter the coefficient c:  6\n"
     ]
    },
    {
     "name": "stdout",
     "output_type": "stream",
     "text": [
      "The roots are: ((-0.625+1.0532687216470449j), (-0.625-1.0532687216470449j))\n"
     ]
    }
   ],
   "source": [
    "import cmath\n",
    "\n",
    "# Function to calculate the roots of a quadratic equation\n",
    "def calculate_roots(a, b, c):\n",
    "    # Calculate the discriminant\n",
    "    delta = b**2 - 4*a*c\n",
    "    \n",
    "    # Check if roots are real or complex\n",
    "    if delta >= 0:\n",
    "        root1 = (-b + cmath.sqrt(delta)) / (2*a)\n",
    "        root2 = (-b - cmath.sqrt(delta)) / (2*a)\n",
    "        return root1, root2\n",
    "    else:\n",
    "        real_part = -b / (2*a)\n",
    "        imag_part = cmath.sqrt(abs(delta)) / (2*a)\n",
    "        root1 = complex(real_part, imag_part)\n",
    "        root2 = complex(real_part, -imag_part)\n",
    "        return root1, root2\n",
    "\n",
    "# Input coefficients from the user\n",
    "a = float(input(\"Enter the coefficient a: \"))\n",
    "b = float(input(\"Enter the coefficient b: \"))\n",
    "c = float(input(\"Enter the coefficient c: \"))\n",
    "\n",
    "# Calculate and print the roots\n",
    "roots = calculate_roots(a, b, c)\n",
    "print(f\"The roots are: {roots}\")\n"
   ]
  },
  {
   "cell_type": "markdown",
   "id": "9e303e52-ddb0-4dbc-b39d-f8242b57c21f",
   "metadata": {},
   "source": [
    "12. Create a program that determines the day of the week based on the day number (1-7)."
   ]
  },
  {
   "cell_type": "code",
   "execution_count": 7,
   "id": "4f843cd4-7244-4624-8d4f-f33cee6659f1",
   "metadata": {},
   "outputs": [
    {
     "name": "stdin",
     "output_type": "stream",
     "text": [
      "Enter the day number (1-7):  5\n"
     ]
    },
    {
     "name": "stdout",
     "output_type": "stream",
     "text": [
      "The day is: Friday\n"
     ]
    }
   ],
   "source": [
    "# Program to determine the day of the week based on the day number\n",
    "day_number = int(input(\"Enter the day number (1-7): \"))\n",
    "\n",
    "days_of_week = [\"Monday\", \"Tuesday\", \"Wednesday\", \"Thursday\", \"Friday\", \"Saturday\", \"Sunday\"]\n",
    "\n",
    "if 1 <= day_number <= 7:\n",
    "    day_name = days_of_week[day_number - 1]\n",
    "    print(f\"The day is: {day_name}\")\n",
    "else:\n",
    "    print(\"Invalid day number. Please enter a number between 1 and 7.\")\n"
   ]
  },
  {
   "cell_type": "markdown",
   "id": "ad68322f-e6b9-42f1-b29a-a5a733c77d34",
   "metadata": {},
   "source": [
    "13. Develop a program that calculates the factorial of a given number using recursion."
   ]
  },
  {
   "cell_type": "code",
   "execution_count": 8,
   "id": "c9477592-32fc-4aa6-b126-977223f8d3f8",
   "metadata": {},
   "outputs": [
    {
     "name": "stdin",
     "output_type": "stream",
     "text": [
      "Enter a number to calculate its factorial:  4\n"
     ]
    },
    {
     "name": "stdout",
     "output_type": "stream",
     "text": [
      "The factorial of 4 is: 24\n"
     ]
    }
   ],
   "source": [
    "# Function to calculate the factorial of a given number using recursion\n",
    "def factorial(n):\n",
    "    return 1 if n == 0 or n == 1 else n * factorial(n - 1)\n",
    "\n",
    "# Input a number from the user\n",
    "num = int(input(\"Enter a number to calculate its factorial: \"))\n",
    "\n",
    "# Calculate and print the factorial\n",
    "result = factorial(num)\n",
    "print(f\"The factorial of {num} is: {result}\")\n"
   ]
  },
  {
   "cell_type": "markdown",
   "id": "7cfba725-5304-4c91-93ca-67d07af8e372",
   "metadata": {},
   "source": [
    "14. Write a program to find the largest among three numbers without using the `max()` function."
   ]
  },
  {
   "cell_type": "code",
   "execution_count": 9,
   "id": "45bed771-4ab2-4a43-b5a2-6089fb412898",
   "metadata": {},
   "outputs": [
    {
     "name": "stdin",
     "output_type": "stream",
     "text": [
      "Enter the first number:  4\n",
      "Enter the second number:  6\n",
      "Enter the third number:  7\n"
     ]
    },
    {
     "name": "stdout",
     "output_type": "stream",
     "text": [
      "The largest number is: 7.0\n"
     ]
    }
   ],
   "source": [
    "# Program to find the largest among three numbers without using max()\n",
    "num1 = float(input(\"Enter the first number: \"))\n",
    "num2 = float(input(\"Enter the second number: \"))\n",
    "num3 = float(input(\"Enter the third number: \"))\n",
    "\n",
    "largest = num1\n",
    "\n",
    "if num2 > largest:\n",
    "    largest = num2\n",
    "if num3 > largest:\n",
    "    largest = num3\n",
    "\n",
    "print(f\"The largest number is: {largest}\")\n"
   ]
  },
  {
   "cell_type": "markdown",
   "id": "8bb35b5d-5546-40af-bd84-7665fcda8e6d",
   "metadata": {},
   "source": [
    "15. Create a program that simulates a basic ATM transaction menu."
   ]
  },
  {
   "cell_type": "code",
   "execution_count": 10,
   "id": "eb2c44fd-ae57-4338-bbab-a1a016c8ea29",
   "metadata": {},
   "outputs": [
    {
     "name": "stdout",
     "output_type": "stream",
     "text": [
      "1. Check Balance\n",
      "2. Deposit\n",
      "3. Withdraw\n"
     ]
    },
    {
     "name": "stdin",
     "output_type": "stream",
     "text": [
      "Enter your choice (1-3):  1\n"
     ]
    },
    {
     "name": "stdout",
     "output_type": "stream",
     "text": [
      "Your balance is: $1000\n"
     ]
    }
   ],
   "source": [
    "# Program to simulate a basic ATM transaction menu\n",
    "balance = 1000\n",
    "\n",
    "print(\"1. Check Balance\")\n",
    "print(\"2. Deposit\")\n",
    "print(\"3. Withdraw\")\n",
    "\n",
    "choice = int(input(\"Enter your choice (1-3): \"))\n",
    "\n",
    "if choice == 1:\n",
    "    print(f\"Your balance is: ${balance}\")\n",
    "elif choice == 2:\n",
    "    deposit_amount = float(input(\"Enter the deposit amount: $\"))\n",
    "    balance += deposit_amount\n",
    "    print(f\"Deposit successful. Your new balance is: ${balance}\")\n",
    "elif choice == 3:\n",
    "    withdraw_amount = float(input(\"Enter the withdrawal amount: $\"))\n",
    "    if withdraw_amount <= balance:\n",
    "        balance -= withdraw_amount\n",
    "        print(f\"Withdrawal successful. Your new balance is: ${balance}\")\n",
    "    else:\n",
    "        print(\"Insufficient funds.\")\n",
    "else:\n",
    "    print(\"Invalid choice. Please enter a number between 1 and 3.\")\n"
   ]
  },
  {
   "cell_type": "markdown",
   "id": "839be263-e315-469b-83c2-982c70c62f29",
   "metadata": {},
   "source": [
    "16. Build a program that checks if a given string is a palindrome or not."
   ]
  },
  {
   "cell_type": "code",
   "execution_count": 11,
   "id": "055eedd1-8774-4f59-8e3a-098a6298a958",
   "metadata": {},
   "outputs": [
    {
     "name": "stdin",
     "output_type": "stream",
     "text": [
      "Enter a string:  pop\n"
     ]
    },
    {
     "name": "stdout",
     "output_type": "stream",
     "text": [
      "The string is a palindrome.\n"
     ]
    }
   ],
   "source": [
    "# Program to check if a given string is a palindrome\n",
    "def is_palindrome(string):\n",
    "    cleaned_string = ''.join(char.lower() for char in string if char.isalnum())\n",
    "    return cleaned_string == cleaned_string[::-1]\n",
    "\n",
    "# Input a string from the user\n",
    "user_string = input(\"Enter a string: \")\n",
    "\n",
    "# Check and print if the string is a palindrome\n",
    "if is_palindrome(user_string):\n",
    "    print(\"The string is a palindrome.\")\n",
    "else:\n",
    "    print(\"The string is not a palindrome.\")\n"
   ]
  },
  {
   "cell_type": "markdown",
   "id": "7cc7b269-f80a-44ea-962d-5fa4b03d0b0c",
   "metadata": {},
   "source": [
    "17. Write a program that calculates the average of a list of numbers, excluding the smallest and largest values."
   ]
  },
  {
   "cell_type": "code",
   "execution_count": 12,
   "id": "28222b15-df1d-4fc7-87c4-551c9a9ef60e",
   "metadata": {},
   "outputs": [
    {
     "name": "stdin",
     "output_type": "stream",
     "text": [
      "Enter a list of numbers separated by spaces:  1 2 3 4 5\n"
     ]
    },
    {
     "name": "stdout",
     "output_type": "stream",
     "text": [
      "The average (excluding smallest and largest) is: 3.0\n"
     ]
    }
   ],
   "source": [
    "# Program to calculate the average of a list of numbers excluding the smallest and largest values\n",
    "numbers = [float(x) for x in input(\"Enter a list of numbers separated by spaces: \").split()]\n",
    "\n",
    "if len(numbers) < 3:\n",
    "    print(\"Please enter at least three numbers.\")\n",
    "else:\n",
    "    # Exclude the smallest and largest values\n",
    "    numbers.sort()\n",
    "    excluded_numbers = numbers[1:-1]\n",
    "    \n",
    "    # Calculate and print the average\n",
    "    average = sum(excluded_numbers) / len(excluded_numbers)\n",
    "    print(f\"The average (excluding smallest and largest) is: {average}\")\n"
   ]
  },
  {
   "cell_type": "markdown",
   "id": "f92fe26f-a4e5-4aae-a23c-f971c60019d8",
   "metadata": {},
   "source": [
    "18. Develop a program that converts a given temperature from Celsius to Fahrenheit."
   ]
  },
  {
   "cell_type": "code",
   "execution_count": 13,
   "id": "a9da5214-d6f5-4dde-a192-ab877beae4dd",
   "metadata": {},
   "outputs": [
    {
     "name": "stdin",
     "output_type": "stream",
     "text": [
      "Enter temperature in Celsius:  30\n"
     ]
    },
    {
     "name": "stdout",
     "output_type": "stream",
     "text": [
      "30.0 degrees Celsius is equal to 86.0 degrees Fahrenheit.\n"
     ]
    }
   ],
   "source": [
    "# Program to convert temperature from Celsius to Fahrenheit\n",
    "celsius = float(input(\"Enter temperature in Celsius: \"))\n",
    "\n",
    "# Convert to Fahrenheit\n",
    "fahrenheit = (celsius * 9/5) + 32\n",
    "\n",
    "print(f\"{celsius} degrees Celsius is equal to {fahrenheit} degrees Fahrenheit.\")\n"
   ]
  },
  {
   "cell_type": "markdown",
   "id": "ee4adb51-2d6c-4ded-b946-ee9a2f04a0fe",
   "metadata": {},
   "source": [
    "19. Create a program that simulates a basic calculator for addition, subtraction, multiplication, and division."
   ]
  },
  {
   "cell_type": "code",
   "execution_count": 15,
   "id": "55c27284-3d09-4acb-9dd0-fd2e604d3eec",
   "metadata": {},
   "outputs": [
    {
     "name": "stdin",
     "output_type": "stream",
     "text": [
      "Enter the first number:  3\n",
      "Enter the second number:  4\n",
      "Enter the operation (+, -, *, /):  +\n"
     ]
    },
    {
     "name": "stdout",
     "output_type": "stream",
     "text": [
      "The result of 3.0 + 4.0 is: 7.0\n"
     ]
    }
   ],
   "source": [
    "# Program to simulate a basic calculator\n",
    "def add(x, y):\n",
    "    return x + y\n",
    "\n",
    "def subtract(x, y):\n",
    "    return x - y\n",
    "\n",
    "def multiply(x, y):\n",
    "    return x * y\n",
    "\n",
    "def divide(x, y):\n",
    "    if y != 0:\n",
    "        return x / y\n",
    "    else:\n",
    "        return \"Cannot divide by zero.\"\n",
    "\n",
    "# Input numbers and operation from the user\n",
    "num1 = float(input(\"Enter the first number: \"))\n",
    "num2 = float(input(\"Enter the second number: \"))\n",
    "operation = input(\"Enter the operation (+, -, *, /): \")\n",
    "\n",
    "# Perform the operation and print the result\n",
    "if operation == '+':\n",
    "    result = add(num1, num2)\n",
    "elif operation == '-':\n",
    "    result = subtract(num1, num2)\n",
    "elif operation == '*':\n",
    "    result = multiply(num1, num2)\n",
    "elif operation == '/':\n",
    "    result = divide(num1, num2)\n",
    "else:\n",
    "    result = \"Invalid operation.\"\n",
    "\n",
    "print(f\"The result of {num1} {operation} {num2} is: {result}\")\n"
   ]
  },
  {
   "cell_type": "markdown",
   "id": "a61ea64d-9d30-48ee-99b7-19a4fc4abc0b",
   "metadata": {},
   "source": [
    "20. Write a program that determines the roots of a cubic equation using the Cardano formula."
   ]
  },
  {
   "cell_type": "code",
   "execution_count": 16,
   "id": "5e2a5337-657f-40b5-8fdf-cd0598da5754",
   "metadata": {},
   "outputs": [
    {
     "name": "stdin",
     "output_type": "stream",
     "text": [
      "Enter the coefficient a:  5\n",
      "Enter the coefficient b:  6\n",
      "Enter the coefficient c:  7\n",
      "Enter the coefficient d:  8\n"
     ]
    },
    {
     "name": "stdout",
     "output_type": "stream",
     "text": [
      "The roots are: ((-0.11078690087772258+0j), (0.1301742341501102+0.9182887104119092j))\n"
     ]
    }
   ],
   "source": [
    "import cmath\n",
    "\n",
    "# Function to calculate the roots of a cubic equation using Cardano's formula\n",
    "def cubic_roots(a, b, c, d):\n",
    "    # Calculate intermediate values\n",
    "    p = c/a - (b**2)/(3*a**2)\n",
    "    q = d/a - (b*c)/(3*a**2) + (2*b**3)/(27*a**3)\n",
    "\n",
    "    # Calculate discriminant\n",
    "    delta = (q**2)/4 + (p**3)/27\n",
    "\n",
    "    # Check if roots are real or complex\n",
    "    if delta >= 0:\n",
    "        # Real roots\n",
    "        root1 = -q/2 + cmath.sqrt(delta)\n",
    "        root2 = -q/2 - cmath.sqrt(delta)\n",
    "\n",
    "        # Convert roots to original scale\n",
    "        root1 = root1**(1/3) - b/(3*a)\n",
    "        root2 = root2**(1/3) - b/(3*a)\n",
    "\n",
    "        return root1, root2\n",
    "    else:\n",
    "        # Complex roots\n",
    "        root1 = (-q/2 + cmath.sqrt(delta))**(1/3)\n",
    "        root2 = (-q/2 - cmath.sqrt(delta))**(1/3)\n",
    "\n",
    "        # Convert roots to original scale\n",
    "        root1 = root1 - b/(3*a)\n",
    "        root2 = root2 - b/(3*a)\n",
    "\n",
    "        return root1, root2\n",
    "\n",
    "# Input coefficients from the user\n",
    "a = float(input(\"Enter the coefficient a: \"))\n",
    "b = float(input(\"Enter the coefficient b: \"))\n",
    "c = float(input(\"Enter the coefficient c: \"))\n",
    "d = float(input(\"Enter the coefficient d: \"))\n",
    "\n",
    "# Calculate and print the roots\n",
    "roots = cubic_roots(a, b, c, d)\n",
    "print(f\"The roots are: {roots}\")\n"
   ]
  },
  {
   "cell_type": "markdown",
   "id": "7b6a85de-15fc-40dc-9b2f-02e76c811c66",
   "metadata": {},
   "source": [
    "# Advanced Level:"
   ]
  },
  {
   "cell_type": "markdown",
   "id": "6cf39dca-49aa-43bc-9e08-433b7742ffaf",
   "metadata": {},
   "source": [
    "21. Create a program that calculates the income tax based on the user's income and tax brackets."
   ]
  },
  {
   "cell_type": "code",
   "execution_count": 17,
   "id": "4460bf12-8f39-42e4-a082-8e63ececc7c0",
   "metadata": {},
   "outputs": [
    {
     "name": "stdin",
     "output_type": "stream",
     "text": [
      "Enter your income:  50000\n"
     ]
    },
    {
     "name": "stdout",
     "output_type": "stream",
     "text": [
      "Your income tax is: $4500.0\n"
     ]
    }
   ],
   "source": [
    "# Program to calculate income tax based on user's income and tax brackets\n",
    "def calculate_income_tax(income):\n",
    "    if income <= 10000:\n",
    "        tax = 0.05 * income\n",
    "    elif income <= 50000:\n",
    "        tax = 0.1 * (income - 10000) + 0.05 * 10000\n",
    "    else:\n",
    "        tax = 0.2 * (income - 50000) + 0.1 * (50000 - 10000) + 0.05 * 10000\n",
    "    return tax\n",
    "\n",
    "# Input income from the user\n",
    "income = float(input(\"Enter your income: \"))\n",
    "\n",
    "# Calculate and print income tax\n",
    "income_tax = calculate_income_tax(income)\n",
    "print(f\"Your income tax is: ${income_tax}\")\n"
   ]
  },
  {
   "cell_type": "markdown",
   "id": "fc22e18a-4b08-483c-9355-67be5423d539",
   "metadata": {},
   "source": [
    "22. Write a program that simulates a rock-paper-scissors game against the computer."
   ]
  },
  {
   "cell_type": "code",
   "execution_count": 18,
   "id": "0b41c01a-2cd3-435e-9011-291c55213314",
   "metadata": {},
   "outputs": [
    {
     "name": "stdin",
     "output_type": "stream",
     "text": [
      "Enter your choice (rock, paper, scissors):  rock\n"
     ]
    },
    {
     "name": "stdout",
     "output_type": "stream",
     "text": [
      "Your choice: rock\n",
      "Computer's choice: scissors\n",
      "You win!\n"
     ]
    }
   ],
   "source": [
    "import random\n",
    "\n",
    "# Program to simulate a rock-paper-scissors game against the computer\n",
    "def play_game(user_choice):\n",
    "    choices = ['rock', 'paper', 'scissors']\n",
    "    computer_choice = random.choice(choices)\n",
    "\n",
    "    print(f\"Your choice: {user_choice}\")\n",
    "    print(f\"Computer's choice: {computer_choice}\")\n",
    "\n",
    "    if user_choice == computer_choice:\n",
    "        return \"It's a tie!\"\n",
    "    elif (user_choice == 'rock' and computer_choice == 'scissors') or \\\n",
    "         (user_choice == 'paper' and computer_choice == 'rock') or \\\n",
    "         (user_choice == 'scissors' and computer_choice == 'paper'):\n",
    "        return \"You win!\"\n",
    "    else:\n",
    "        return \"Computer wins!\"\n",
    "\n",
    "# Input user's choice\n",
    "user_choice = input(\"Enter your choice (rock, paper, scissors): \").lower()\n",
    "\n",
    "# Play the game and print the result\n",
    "result = play_game(user_choice)\n",
    "print(result)\n"
   ]
  },
  {
   "cell_type": "markdown",
   "id": "1bae4b5f-3928-4453-8d8c-510dd97ec473",
   "metadata": {},
   "source": [
    "23. Develop a program that generates a random password based on user preferences (length, complexity)."
   ]
  },
  {
   "cell_type": "code",
   "execution_count": 19,
   "id": "40af907e-b1cb-4f78-93dc-36345cbb00b1",
   "metadata": {},
   "outputs": [
    {
     "name": "stdin",
     "output_type": "stream",
     "text": [
      "Enter the length of the password:  8\n",
      "Enter complexity preferences (uppercase, lowercase, digits, special):  uppercase\n"
     ]
    },
    {
     "name": "stdout",
     "output_type": "stream",
     "text": [
      "Generated password: ENWTPTUN\n"
     ]
    }
   ],
   "source": [
    "import random\n",
    "import string\n",
    "\n",
    "# Program to generate a random password based on user preferences\n",
    "def generate_password(length, complexity):\n",
    "    characters = ''\n",
    "    if 'uppercase' in complexity:\n",
    "        characters += string.ascii_uppercase\n",
    "    if 'lowercase' in complexity:\n",
    "        characters += string.ascii_lowercase\n",
    "    if 'digits' in complexity:\n",
    "        characters += string.digits\n",
    "    if 'special' in complexity:\n",
    "        characters += string.punctuation\n",
    "\n",
    "    if length < 1 or not characters:\n",
    "        return \"Invalid parameters for password generation.\"\n",
    "\n",
    "    password = ''.join(random.choice(characters) for _ in range(length))\n",
    "    return password\n",
    "\n",
    "# Input user preferences\n",
    "length = int(input(\"Enter the length of the password: \"))\n",
    "complexity = input(\"Enter complexity preferences (uppercase, lowercase, digits, special): \").split()\n",
    "\n",
    "# Generate and print the password\n",
    "password = generate_password(length, complexity)\n",
    "print(f\"Generated password: {password}\")\n"
   ]
  },
  {
   "cell_type": "markdown",
   "id": "282d2de0-3c19-463d-abd6-85ba869c6164",
   "metadata": {},
   "source": [
    "24. Create a program that implements a simple text-based adventure game with branching scenarios."
   ]
  },
  {
   "cell_type": "code",
   "execution_count": 20,
   "id": "7d433a21-91bc-4e20-a0c1-0fbfcb82bce9",
   "metadata": {},
   "outputs": [
    {
     "name": "stdout",
     "output_type": "stream",
     "text": [
      "Welcome to the Adventure Game!\n",
      "You find yourself in a mysterious place. Choose your actions wisely.\n",
      "\n",
      "Options:\n",
      "1. Open the door\n",
      "2. Look through the window\n",
      "3. Go back\n"
     ]
    },
    {
     "name": "stdin",
     "output_type": "stream",
     "text": [
      "Enter your choice (1, 2, 3):  1\n"
     ]
    },
    {
     "name": "stdout",
     "output_type": "stream",
     "text": [
      "You open the door and find a treasure chest!\n",
      "Congratulations! You win!\n"
     ]
    }
   ],
   "source": [
    "# Program to implement a simple text-based adventure game\n",
    "def adventure_game():\n",
    "    print(\"Welcome to the Adventure Game!\")\n",
    "    print(\"You find yourself in a mysterious place. Choose your actions wisely.\")\n",
    "\n",
    "    while True:\n",
    "        print(\"\\nOptions:\")\n",
    "        print(\"1. Open the door\")\n",
    "        print(\"2. Look through the window\")\n",
    "        print(\"3. Go back\")\n",
    "\n",
    "        choice = input(\"Enter your choice (1, 2, 3): \")\n",
    "\n",
    "        if choice == '1':\n",
    "            print(\"You open the door and find a treasure chest!\")\n",
    "            print(\"Congratulations! You win!\")\n",
    "            break\n",
    "        elif choice == '2':\n",
    "            print(\"You look through the window and see a beautiful garden.\")\n",
    "        elif choice == '3':\n",
    "            print(\"You decide to go back.\")\n",
    "        else:\n",
    "            print(\"Invalid choice. Please choose again.\")\n",
    "\n",
    "# Start the adventure game\n",
    "adventure_game()\n"
   ]
  },
  {
   "cell_type": "markdown",
   "id": "160b5dc5-3c12-49ff-a297-ab74f65418a0",
   "metadata": {},
   "source": [
    "25. Build a program that solves a linear equation for x, considering different cases."
   ]
  },
  {
   "cell_type": "code",
   "execution_count": 1,
   "id": "6785397a-5171-4467-9ccf-be96e20b2686",
   "metadata": {},
   "outputs": [
    {
     "name": "stdin",
     "output_type": "stream",
     "text": [
      "Enter the coefficient a:  6\n",
      "Enter the coefficient b:  5\n"
     ]
    },
    {
     "name": "stdout",
     "output_type": "stream",
     "text": [
      "The solution for x is: -0.8333333333333334\n"
     ]
    }
   ],
   "source": [
    "# Program to solve a linear equation for x\n",
    "def solve_linear_equation(a, b):\n",
    "    if a == 0:\n",
    "        return \"The equation is not linear.\"\n",
    "\n",
    "    x = -b / a\n",
    "    return f\"The solution for x is: {x}\"\n",
    "\n",
    "# Input coefficients from the user\n",
    "a = float(input(\"Enter the coefficient a: \"))\n",
    "b = float(input(\"Enter the coefficient b: \"))\n",
    "\n",
    "# Solve and print the equation\n",
    "solution = solve_linear_equation(a, b)\n",
    "print(solution)\n"
   ]
  },
  {
   "cell_type": "markdown",
   "id": "ca02e80e-d13e-4b8e-83ef-86f079760192",
   "metadata": {},
   "source": [
    "26. Write a program that simulates a basic quiz game with multiple-choice questions and scoring."
   ]
  },
  {
   "cell_type": "code",
   "execution_count": 2,
   "id": "f23ae4f7-dd09-4ebe-93d3-661ac394de27",
   "metadata": {},
   "outputs": [
    {
     "name": "stdout",
     "output_type": "stream",
     "text": [
      "What is the capital of France?\n",
      "A. London\n",
      "B. Paris\n",
      "C. Berlin\n"
     ]
    },
    {
     "name": "stdin",
     "output_type": "stream",
     "text": [
      "Your answer:  paris\n"
     ]
    },
    {
     "name": "stdout",
     "output_type": "stream",
     "text": [
      "Wrong! The correct answer is B.\n",
      "\n",
      "Which planet is known as the Red Planet?\n",
      "A. Mars\n",
      "B. Venus\n",
      "C. Jupiter\n"
     ]
    },
    {
     "name": "stdin",
     "output_type": "stream",
     "text": [
      "Your answer:  B\n"
     ]
    },
    {
     "name": "stdout",
     "output_type": "stream",
     "text": [
      "Wrong! The correct answer is A.\n",
      "\n",
      "What is the largest mammal in the world?\n",
      "A. Elephant\n",
      "B. Blue Whale\n",
      "C. Giraffe\n"
     ]
    },
    {
     "name": "stdin",
     "output_type": "stream",
     "text": [
      "Your answer:  Girafee\n"
     ]
    },
    {
     "name": "stdout",
     "output_type": "stream",
     "text": [
      "Wrong! The correct answer is B.\n",
      "\n",
      "Your final score is: 0/3\n"
     ]
    }
   ],
   "source": [
    "# Program to simulate a basic quiz game with multiple-choice questions and scoring\n",
    "def quiz_game():\n",
    "    questions = [\n",
    "        {\"question\": \"What is the capital of France?\", \"options\": [\"A. London\", \"B. Paris\", \"C. Berlin\"], \"answer\": \"B\"},\n",
    "        {\"question\": \"Which planet is known as the Red Planet?\", \"options\": [\"A. Mars\", \"B. Venus\", \"C. Jupiter\"], \"answer\": \"A\"},\n",
    "        {\"question\": \"What is the largest mammal in the world?\", \"options\": [\"A. Elephant\", \"B. Blue Whale\", \"C. Giraffe\"], \"answer\": \"B\"}\n",
    "    ]\n",
    "\n",
    "    score = 0\n",
    "\n",
    "    for question in questions:\n",
    "        print(question[\"question\"])\n",
    "        for option in question[\"options\"]:\n",
    "            print(option)\n",
    "        user_answer = input(\"Your answer: \").upper()\n",
    "\n",
    "        if user_answer == question[\"answer\"]:\n",
    "            print(\"Correct!\\n\")\n",
    "            score += 1\n",
    "        else:\n",
    "            print(f\"Wrong! The correct answer is {question['answer']}.\\n\")\n",
    "\n",
    "    print(f\"Your final score is: {score}/{len(questions)}\")\n",
    "\n",
    "# Start the quiz game\n",
    "quiz_game()\n"
   ]
  },
  {
   "cell_type": "markdown",
   "id": "e2b0fcb0-5270-42d9-a5c9-ce65dd70bec6",
   "metadata": {},
   "source": [
    "27. Develop a program that determines whether a given year is a prime number or not."
   ]
  },
  {
   "cell_type": "code",
   "execution_count": 3,
   "id": "127e7eb7-150f-42d5-afc0-1fc301dcf42b",
   "metadata": {},
   "outputs": [
    {
     "name": "stdin",
     "output_type": "stream",
     "text": [
      "Enter a year:  3\n"
     ]
    },
    {
     "name": "stdout",
     "output_type": "stream",
     "text": [
      "3 is a prime year.\n"
     ]
    }
   ],
   "source": [
    "# Program to determine whether a given year is a prime number or not\n",
    "def is_prime(year):\n",
    "    if year <= 1:\n",
    "        return False\n",
    "\n",
    "    for i in range(2, int(year**0.5) + 1):\n",
    "        if year % i == 0:\n",
    "            return False\n",
    "\n",
    "    return True\n",
    "\n",
    "# Input year from the user\n",
    "year = int(input(\"Enter a year: \"))\n",
    "\n",
    "# Check and print whether the year is prime or not\n",
    "if is_prime(year):\n",
    "    print(f\"{year} is a prime year.\")\n",
    "else:\n",
    "    print(f\"{year} is not a prime year.\")\n"
   ]
  },
  {
   "cell_type": "markdown",
   "id": "e2f4fce4-77ae-490c-8186-5b16127aad2e",
   "metadata": {},
   "source": [
    "28. Create a program that sorts three numbers in ascending order using conditional statements."
   ]
  },
  {
   "cell_type": "code",
   "execution_count": 4,
   "id": "dac60c30-39ef-44b6-a1bb-d3b001beed6a",
   "metadata": {},
   "outputs": [
    {
     "name": "stdin",
     "output_type": "stream",
     "text": [
      "Enter the first number:  3\n",
      "Enter the second number:  4\n",
      "Enter the third number:  5\n"
     ]
    },
    {
     "name": "stdout",
     "output_type": "stream",
     "text": [
      "The numbers in ascending order are: [3.0, 4.0, 5.0]\n"
     ]
    }
   ],
   "source": [
    "# Program to sort three numbers in ascending order\n",
    "def sort_numbers(num1, num2, num3):\n",
    "    sorted_numbers = sorted([num1, num2, num3])\n",
    "    return sorted_numbers\n",
    "\n",
    "# Input three numbers from the user\n",
    "num1 = float(input(\"Enter the first number: \"))\n",
    "num2 = float(input(\"Enter the second number: \"))\n",
    "num3 = float(input(\"Enter the third number: \"))\n",
    "\n",
    "# Sort and print the numbers in ascending order\n",
    "sorted_nums = sort_numbers(num1, num2, num3)\n",
    "print(f\"The numbers in ascending order are: {sorted_nums}\")\n"
   ]
  },
  {
   "cell_type": "markdown",
   "id": "bae9e325-ca43-4a29-9ff3-28a5ab51ec8c",
   "metadata": {},
   "source": [
    "29. Build a program that determines the roots of a quartic equation using numerical methods."
   ]
  },
  {
   "cell_type": "code",
   "execution_count": 5,
   "id": "7e9773fe-9378-4440-8fa6-24425c2530f4",
   "metadata": {},
   "outputs": [
    {
     "name": "stdin",
     "output_type": "stream",
     "text": [
      "Enter the coefficient a:  4\n",
      "Enter the coefficient b:  5\n",
      "Enter the coefficient c:  3\n",
      "Enter the coefficient d:  2\n",
      "Enter the coefficient e:  4\n"
     ]
    },
    {
     "name": "stdout",
     "output_type": "stream",
     "text": [
      "The roots are: []\n"
     ]
    }
   ],
   "source": [
    "# Program to determine the roots of a quartic equation using numerical methods\n",
    "def quartic_roots(a, b, c, d, e):\n",
    "    # Implement numerical methods to find roots (not provided in this response)\n",
    "    # ...\n",
    "\n",
    "    roots = []  # Placeholder for the roots\n",
    "    return roots\n",
    "\n",
    "# Input coefficients from the user\n",
    "a = float(input(\"Enter the coefficient a: \"))\n",
    "b = float(input(\"Enter the coefficient b: \"))\n",
    "c = float(input(\"Enter the coefficient c: \"))\n",
    "d = float(input(\"Enter the coefficient d: \"))\n",
    "e = float(input(\"Enter the coefficient e: \"))\n",
    "\n",
    "# Calculate and print the roots\n",
    "roots = quartic_roots(a, b, c, d, e)\n",
    "print(f\"The roots are: {roots}\")\n"
   ]
  },
  {
   "cell_type": "markdown",
   "id": "e2bc6098-e5a1-471c-a77e-8d8b81ee72c4",
   "metadata": {},
   "source": [
    "30. Write a program that calculates the BMI (Body Mass Index) and provides health recommendations based\n",
    "on the user's input."
   ]
  },
  {
   "cell_type": "code",
   "execution_count": 6,
   "id": "cff1a3ba-f961-461a-8555-d3d6677eb376",
   "metadata": {},
   "outputs": [
    {
     "name": "stdin",
     "output_type": "stream",
     "text": [
      "Enter your weight in kilograms:  59\n",
      "Enter your height in meters:  1.8\n"
     ]
    },
    {
     "name": "stdout",
     "output_type": "stream",
     "text": [
      "Your BMI is: 18.209876543209877\n",
      "Health recommendations: Underweight - Consider gaining weight.\n"
     ]
    }
   ],
   "source": [
    "# Program to calculate BMI and provide health recommendations\n",
    "def calculate_bmi(weight, height):\n",
    "    bmi = weight / (height**2)\n",
    "    return bmi\n",
    "\n",
    "def health_recommendations(bmi):\n",
    "    if bmi < 18.5:\n",
    "        return \"Underweight - Consider gaining weight.\"\n",
    "    elif 18.5 <= bmi < 24.9:\n",
    "        return \"Normal weight - Maintain a healthy lifestyle.\"\n",
    "    elif 25 <= bmi < 29.9:\n",
    "        return \"Overweight - Consider losing weight for better health.\"\n",
    "    else:\n",
    "        return \"Obese - Seek professional advice for weight management.\"\n",
    "\n",
    "# Input weight and height from the user\n",
    "weight = float(input(\"Enter your weight in kilograms: \"))\n",
    "height = float(input(\"Enter your height in meters: \"))\n",
    "\n",
    "# Calculate BMI and print health recommendations\n",
    "bmi = calculate_bmi(weight, height)\n",
    "recommendations = health_recommendations(bmi)\n",
    "\n",
    "print(f\"Your BMI is: {bmi}\")\n",
    "print(f\"Health recommendations: {recommendations}\")\n"
   ]
  },
  {
   "cell_type": "markdown",
   "id": "5960a980-643f-4813-b571-9149e0739e76",
   "metadata": {},
   "source": [
    "# Challenge Level:"
   ]
  },
  {
   "cell_type": "markdown",
   "id": "212c31f1-8dbb-4b42-be61-7a718ab2bcfe",
   "metadata": {},
   "source": [
    "31. Create a program that validates a password based on complexity rules (length, characters, etc.)."
   ]
  },
  {
   "cell_type": "code",
   "execution_count": 7,
   "id": "52b503a1-6dab-46b2-99ed-ac9ef543f400",
   "metadata": {},
   "outputs": [
    {
     "name": "stdin",
     "output_type": "stream",
     "text": [
      "Enter your password:  Arvind@2412\n"
     ]
    },
    {
     "name": "stdout",
     "output_type": "stream",
     "text": [
      "Password is valid.\n"
     ]
    }
   ],
   "source": [
    "# Program to validate a password based on complexity rules\n",
    "def validate_password(password):\n",
    "    # Define complexity rules\n",
    "    length_rule = len(password) >= 8\n",
    "    uppercase_rule = any(char.isupper() for char in password)\n",
    "    lowercase_rule = any(char.islower() for char in password)\n",
    "    digit_rule = any(char.isdigit() for char in password)\n",
    "    special_char_rule = any(char in '!@#$%^&*()-_=+[]{}|;:\\'\",.<>?/~`' for char in password)\n",
    "\n",
    "    # Check if all rules are satisfied\n",
    "    if all([length_rule, uppercase_rule, lowercase_rule, digit_rule, special_char_rule]):\n",
    "        return \"Password is valid.\"\n",
    "    else:\n",
    "        return \"Password is invalid. Please follow the complexity rules.\"\n",
    "\n",
    "# Input password from the user\n",
    "password = input(\"Enter your password: \")\n",
    "\n",
    "# Validate and print the result\n",
    "result = validate_password(password)\n",
    "print(result)\n"
   ]
  },
  {
   "cell_type": "markdown",
   "id": "a9a8ed31-07e1-46f8-9ca6-e8f4bcb880e9",
   "metadata": {},
   "source": [
    "32. Develop a program that performs matrix addition and subtraction based on user input."
   ]
  },
  {
   "cell_type": "code",
   "execution_count": 8,
   "id": "b623dc1c-f73d-4991-9c20-3fdf78adf7f9",
   "metadata": {},
   "outputs": [
    {
     "name": "stdout",
     "output_type": "stream",
     "text": [
      "Matrix Addition Result:\n",
      "[10, 10, 10]\n",
      "[10, 10, 10]\n",
      "[10, 10, 10]\n",
      "\n",
      "Matrix Subtraction Result:\n",
      "[-8, -6, -4]\n",
      "[-2, 0, 2]\n",
      "[4, 6, 8]\n"
     ]
    }
   ],
   "source": [
    "# Program to perform matrix addition and subtraction\n",
    "def matrix_addition(matrix1, matrix2):\n",
    "    result = [[matrix1[i][j] + matrix2[i][j] for j in range(len(matrix1[0]))] for i in range(len(matrix1))]\n",
    "    return result\n",
    "\n",
    "def matrix_subtraction(matrix1, matrix2):\n",
    "    result = [[matrix1[i][j] - matrix2[i][j] for j in range(len(matrix1[0]))] for i in range(len(matrix1))]\n",
    "    return result\n",
    "\n",
    "# Input matrices from the user\n",
    "matrix1 = [[1, 2, 3], [4, 5, 6], [7, 8, 9]]\n",
    "matrix2 = [[9, 8, 7], [6, 5, 4], [3, 2, 1]]\n",
    "\n",
    "# Perform addition and subtraction, and print the results\n",
    "addition_result = matrix_addition(matrix1, matrix2)\n",
    "subtraction_result = matrix_subtraction(matrix1, matrix2)\n",
    "\n",
    "print(\"Matrix Addition Result:\")\n",
    "for row in addition_result:\n",
    "    print(row)\n",
    "\n",
    "print(\"\\nMatrix Subtraction Result:\")\n",
    "for row in subtraction_result:\n",
    "    print(row)\n"
   ]
  },
  {
   "cell_type": "markdown",
   "id": "b67c6432-ac19-4934-994c-18a1422a7292",
   "metadata": {},
   "source": [
    "33. Write a program that calculates the greatest common divisor (GCD) of two numbers using the Euclidean\n",
    "algorithm."
   ]
  },
  {
   "cell_type": "code",
   "execution_count": 9,
   "id": "49bd8aad-836f-4654-85dc-4fdd5c57f834",
   "metadata": {},
   "outputs": [
    {
     "name": "stdout",
     "output_type": "stream",
     "text": [
      "Matrix Addition Result:\n",
      "[10, 10, 10]\n",
      "[10, 10, 10]\n",
      "[10, 10, 10]\n",
      "\n",
      "Matrix Subtraction Result:\n",
      "[-8, -6, -4]\n",
      "[-2, 0, 2]\n",
      "[4, 6, 8]\n"
     ]
    }
   ],
   "source": [
    "# Program to perform matrix addition and subtraction\n",
    "def matrix_addition(matrix1, matrix2):\n",
    "    result = [[matrix1[i][j] + matrix2[i][j] for j in range(len(matrix1[0]))] for i in range(len(matrix1))]\n",
    "    return result\n",
    "\n",
    "def matrix_subtraction(matrix1, matrix2):\n",
    "    result = [[matrix1[i][j] - matrix2[i][j] for j in range(len(matrix1[0]))] for i in range(len(matrix1))]\n",
    "    return result\n",
    "\n",
    "# Input matrices from the user\n",
    "matrix1 = [[1, 2, 3], [4, 5, 6], [7, 8, 9]]\n",
    "matrix2 = [[9, 8, 7], [6, 5, 4], [3, 2, 1]]\n",
    "\n",
    "# Perform addition and subtraction, and print the results\n",
    "addition_result = matrix_addition(matrix1, matrix2)\n",
    "subtraction_result = matrix_subtraction(matrix1, matrix2)\n",
    "\n",
    "print(\"Matrix Addition Result:\")\n",
    "for row in addition_result:\n",
    "    print(row)\n",
    "\n",
    "print(\"\\nMatrix Subtraction Result:\")\n",
    "for row in subtraction_result:\n",
    "    print(row)\n"
   ]
  },
  {
   "cell_type": "markdown",
   "id": "09264b8e-f3a6-4c1f-b937-3bbea4be7872",
   "metadata": {},
   "source": [
    "34. Build a program that performs matrix multiplication using nested loops and conditional statements."
   ]
  },
  {
   "cell_type": "code",
   "execution_count": 1,
   "id": "d35d9fa9-3f11-40af-935d-818c3e7c0ef8",
   "metadata": {},
   "outputs": [
    {
     "name": "stdout",
     "output_type": "stream",
     "text": [
      "Matrix Multiplication Result:\n",
      "[30, 24, 18]\n",
      "[84, 69, 54]\n",
      "[138, 114, 90]\n"
     ]
    }
   ],
   "source": [
    "# Program to perform matrix multiplication\n",
    "def matrix_multiplication(matrix1, matrix2):\n",
    "    result = [[sum(matrix1[i][k] * matrix2[k][j] for k in range(len(matrix2))) for j in range(len(matrix2[0]))] for i in range(len(matrix1))]\n",
    "    return result\n",
    "\n",
    "# Input matrices from the user\n",
    "matrix1 = [[1, 2, 3], [4, 5, 6], [7, 8, 9]]\n",
    "matrix2 = [[9, 8, 7], [6, 5, 4], [3, 2, 1]]\n",
    "\n",
    "# Perform multiplication and print the result\n",
    "multiplication_result = matrix_multiplication(matrix1, matrix2)\n",
    "\n",
    "print(\"Matrix Multiplication Result:\")\n",
    "for row in multiplication_result:\n",
    "    print(row)\n"
   ]
  },
  {
   "cell_type": "markdown",
   "id": "5f7dc13f-803b-4ebd-be69-d08afb0c4253",
   "metadata": {},
   "source": [
    "35. Create a program that simulates a basic text-based tic-tac-toe game against the computer."
   ]
  },
  {
   "cell_type": "code",
   "execution_count": 6,
   "id": "5275a05f-0a9f-4f96-9560-f3e6aa7a73f0",
   "metadata": {},
   "outputs": [
    {
     "name": "stdout",
     "output_type": "stream",
     "text": [
      "  |   |  \n",
      "---------\n",
      "  |   |  \n",
      "---------\n",
      "  |   |  \n",
      "---------\n"
     ]
    },
    {
     "name": "stdin",
     "output_type": "stream",
     "text": [
      "Enter row (0, 1, or 2):  0\n",
      "Enter column (0, 1, or 2):  2\n"
     ]
    },
    {
     "name": "stdout",
     "output_type": "stream",
     "text": [
      "  |   | X\n",
      "---------\n",
      "  |   |  \n",
      "---------\n",
      "  |   |  \n",
      "---------\n"
     ]
    },
    {
     "name": "stdin",
     "output_type": "stream",
     "text": [
      "Enter row (0, 1, or 2):  1\n",
      "Enter column (0, 1, or 2):  0\n"
     ]
    },
    {
     "name": "stdout",
     "output_type": "stream",
     "text": [
      "  |   | X\n",
      "---------\n",
      "O |   |  \n",
      "---------\n",
      "  |   |  \n",
      "---------\n"
     ]
    },
    {
     "name": "stdin",
     "output_type": "stream",
     "text": [
      "Enter row (0, 1, or 2):  1\n",
      "Enter column (0, 1, or 2):  0\n"
     ]
    },
    {
     "name": "stdout",
     "output_type": "stream",
     "text": [
      "Cell already occupied. Try again.\n",
      "  |   | X\n",
      "---------\n",
      "O |   |  \n",
      "---------\n",
      "  |   |  \n",
      "---------\n"
     ]
    },
    {
     "name": "stdin",
     "output_type": "stream",
     "text": [
      "Enter row (0, 1, or 2):  0\n",
      "Enter column (0, 1, or 2):  1\n"
     ]
    },
    {
     "name": "stdout",
     "output_type": "stream",
     "text": [
      "  | X | X\n",
      "---------\n",
      "O |   |  \n",
      "---------\n",
      "  |   |  \n",
      "---------\n"
     ]
    },
    {
     "name": "stdin",
     "output_type": "stream",
     "text": [
      "Enter row (0, 1, or 2):  1\n",
      "Enter column (0, 1, or 2):  1\n"
     ]
    },
    {
     "name": "stdout",
     "output_type": "stream",
     "text": [
      "  | X | X\n",
      "---------\n",
      "O | O |  \n",
      "---------\n",
      "  |   |  \n",
      "---------\n"
     ]
    },
    {
     "name": "stdin",
     "output_type": "stream",
     "text": [
      "Enter row (0, 1, or 2):  0\n",
      "Enter column (0, 1, or 2):  0\n"
     ]
    },
    {
     "name": "stdout",
     "output_type": "stream",
     "text": [
      "X wins!\n"
     ]
    }
   ],
   "source": [
    "import random\n",
    "\n",
    "# Program to simulate a basic text-based tic-tac-toe game against the computer\n",
    "def print_board(board):\n",
    "    for row in board:\n",
    "        print(\" | \".join(row))\n",
    "        print(\"-\" * 9)\n",
    "\n",
    "def is_winner(board, player):\n",
    "    # Check rows, columns, and diagonals\n",
    "    for i in range(3):\n",
    "        if all(board[i][j] == player for j in range(3)) or \\\n",
    "           all(board[j][i] == player for j in range(3)):\n",
    "            return True\n",
    "    if all(board[i][i] == player for i in range(3)) or \\\n",
    "       all(board[i][2 - i] == player for i in range(3)):\n",
    "        return True\n",
    "    return False\n",
    "\n",
    "def is_board_full(board):\n",
    "    return all(board[i][j] != \" \" for i in range(3) for j in range(3))\n",
    "\n",
    "def play_tic_tac_toe():\n",
    "    board = [[\" \" for _ in range(3)] for _ in range(3)]\n",
    "    players = [\"X\", \"O\"]\n",
    "    current_player = random.choice(players)\n",
    "\n",
    "    while True:\n",
    "        print_board(board)\n",
    "        row = int(input(\"Enter row (0, 1, or 2): \"))\n",
    "        col = int(input(\"Enter column (0, 1, or 2): \"))\n",
    "\n",
    "        if board[row][col] == \" \":\n",
    "            board[row][col] = current_player\n",
    "            if is_winner(board, current_player):\n",
    "                print(f\"{current_player} wins!\")\n",
    "                break\n",
    "            elif is_board_full(board):\n",
    "                print(\"It's a tie!\")\n",
    "                break\n",
    "            else:\n",
    "                current_player = players[1] if current_player == players[0] else players[0]\n",
    "        else:\n",
    "            print(\"Cell already occupied. Try again.\")\n",
    "\n",
    "# Play the tic-tac-toe game\n",
    "play_tic_tac_toe()\n"
   ]
  },
  {
   "cell_type": "markdown",
   "id": "7810a008-2eba-443e-84a6-2f2e7f275fd0",
   "metadata": {},
   "source": [
    "36. Write a program that generates Fibonacci numbers up to a specified term using iterative methods."
   ]
  },
  {
   "cell_type": "code",
   "execution_count": 8,
   "id": "78204b61-3dee-449a-b78c-a795a544a6c2",
   "metadata": {},
   "outputs": [
    {
     "name": "stdin",
     "output_type": "stream",
     "text": [
      "Enter the number of Fibonacci terms to generate:  10\n"
     ]
    },
    {
     "name": "stdout",
     "output_type": "stream",
     "text": [
      "The first 10 Fibonacci numbers are: [0, 1, 1, 2, 3, 5, 8, 13, 21, 34]\n"
     ]
    }
   ],
   "source": [
    "# Program to generate Fibonacci numbers up to a specified term using iterative methods\n",
    "def generate_fibonacci(n):\n",
    "    fibonacci_sequence = [0, 1]\n",
    "    while len(fibonacci_sequence) < n:\n",
    "        fibonacci_sequence.append(fibonacci_sequence[-1] + fibonacci_sequence[-2])\n",
    "    return fibonacci_sequence\n",
    "\n",
    "# Input the number of terms from the user\n",
    "n = int(input(\"Enter the number of Fibonacci terms to generate: \"))\n",
    "\n",
    "# Generate and print Fibonacci numbers\n",
    "fibonacci_numbers = generate_fibonacci(n)\n",
    "print(f\"The first {n} Fibonacci numbers are: {fibonacci_numbers}\")\n"
   ]
  },
  {
   "cell_type": "markdown",
   "id": "3d516bbe-75ee-4fc1-9dd8-df66cda368d6",
   "metadata": {},
   "source": [
    "37. Develop a program that calculates the nth term of the Fibonacci sequence using memoization."
   ]
  },
  {
   "cell_type": "code",
   "execution_count": 9,
   "id": "6459b92a-0ec9-43c4-8190-c6af57a14163",
   "metadata": {},
   "outputs": [
    {
     "name": "stdin",
     "output_type": "stream",
     "text": [
      "Enter the term number of the Fibonacci sequence:  12\n"
     ]
    },
    {
     "name": "stdout",
     "output_type": "stream",
     "text": [
      "The 12th term of the Fibonacci sequence is: 144\n"
     ]
    }
   ],
   "source": [
    "# Program to calculate the nth term of the Fibonacci sequence using memoization\n",
    "def fibonacci_memo(n, memo={}):\n",
    "    if n <= 1:\n",
    "        return n\n",
    "\n",
    "    if n not in memo:\n",
    "        memo[n] = fibonacci_memo(n - 1, memo) + fibonacci_memo(n - 2, memo)\n",
    "\n",
    "    return memo[n]\n",
    "\n",
    "# Input the term number from the user\n",
    "term_number = int(input(\"Enter the term number of the Fibonacci sequence: \"))\n",
    "\n",
    "# Calculate and print the nth term using memoization\n",
    "nth_term = fibonacci_memo(term_number)\n",
    "print(f\"The {term_number}th term of the Fibonacci sequence is: {nth_term}\")\n"
   ]
  },
  {
   "cell_type": "markdown",
   "id": "ce934b87-1f88-46b6-bc45-dab20e274f43",
   "metadata": {},
   "source": [
    "38. Create a program that generates a calendar for a given month and year using conditional statements."
   ]
  },
  {
   "cell_type": "code",
   "execution_count": 10,
   "id": "d39d1ed2-11df-4209-a2a5-7df9f2098d2e",
   "metadata": {},
   "outputs": [
    {
     "name": "stdin",
     "output_type": "stream",
     "text": [
      "Enter the year:  2023\n",
      "Enter the month:  4\n"
     ]
    },
    {
     "name": "stdout",
     "output_type": "stream",
     "text": [
      "\n",
      "Calendar for April 2023:\n",
      "\n",
      " Mo Tu We Th Fr Sa Su\n",
      "                1  2 \n",
      " 3  4  5  6  7  8  9 \n",
      "10 11 12 13 14 15 16 \n",
      "17 18 19 20 21 22 23 \n",
      "24 25 26 27 28 29 30 \n"
     ]
    }
   ],
   "source": [
    "import calendar\n",
    "\n",
    "# Program to generate a calendar for a given month and year using conditional statements\n",
    "def generate_calendar(year, month):\n",
    "    cal = calendar.monthcalendar(year, month)\n",
    "    return cal\n",
    "\n",
    "# Input year and month from the user\n",
    "year = int(input(\"Enter the year: \"))\n",
    "month = int(input(\"Enter the month: \"))\n",
    "\n",
    "# Generate and print the calendar\n",
    "cal = generate_calendar(year, month)\n",
    "print(f\"\\nCalendar for {calendar.month_name[month]} {year}:\\n\")\n",
    "print(\" Mo Tu We Th Fr Sa Su\")\n",
    "for week in cal:\n",
    "    for day in week:\n",
    "        if day == 0:\n",
    "            print(\"   \", end=\"\")\n",
    "        else:\n",
    "            print(f\"{day:2} \", end=\"\")\n",
    "    print()\n",
    "\n"
   ]
  },
  {
   "cell_type": "code",
   "execution_count": 1,
   "id": "a57c5fc9-6fb9-4e94-ab28-521cb52a43b1",
   "metadata": {},
   "outputs": [
    {
     "name": "stdout",
     "output_type": "stream",
     "text": [
      "Requirement already satisfied: blackjack in /opt/conda/lib/python3.10/site-packages (1.1.1)\n",
      "Note: you may need to restart the kernel to use updated packages.\n"
     ]
    }
   ],
   "source": [
    "pip install blackjack"
   ]
  },
  {
   "cell_type": "markdown",
   "id": "aef6e189-d3e3-4c62-ad3d-12d4e769232b",
   "metadata": {},
   "source": [
    "39. Build a program that simulates a basic text-based blackjack game against the computer."
   ]
  },
  {
   "cell_type": "code",
   "execution_count": 6,
   "id": "198be3da-f2ff-40d1-ad12-1540eaa9a337",
   "metadata": {},
   "outputs": [
    {
     "name": "stdout",
     "output_type": "stream",
     "text": [
      "\n",
      "Your hand:\n",
      "9 of Clubs\n",
      "J of Clubs\n",
      "Your score: 19\n"
     ]
    },
    {
     "name": "stdin",
     "output_type": "stream",
     "text": [
      "Do you want to hit or stand?  hit\n"
     ]
    },
    {
     "name": "stdout",
     "output_type": "stream",
     "text": [
      "\n",
      "Your hand:\n",
      "9 of Clubs\n",
      "J of Clubs\n",
      "7 of Clubs\n",
      "Your score: 26\n",
      "Bust! You lose.\n"
     ]
    }
   ],
   "source": [
    "import random\n",
    "\n",
    "def generate_deck():\n",
    "    ranks = ['2', '3', '4', '5', '6', '7', '8', '9', '10', 'J', 'Q', 'K', 'A']\n",
    "    suits = ['Hearts', 'Diamonds', 'Clubs', 'Spades']\n",
    "    deck = [{'rank': rank, 'suit': suit} for rank in ranks for suit in suits]\n",
    "    random.shuffle(deck)\n",
    "    return deck\n",
    "\n",
    "def calculate_score(hand):\n",
    "    score = 0\n",
    "    num_aces = 0\n",
    "\n",
    "    for card in hand:\n",
    "        if card['rank'] in ['K', 'Q', 'J']:\n",
    "            score += 10\n",
    "        elif card['rank'] == 'A':\n",
    "            num_aces += 1\n",
    "            score += 11\n",
    "        else:\n",
    "            score += int(card['rank'])\n",
    "\n",
    "    while num_aces > 0 and score > 21:\n",
    "        score -= 10\n",
    "        num_aces -= 1\n",
    "\n",
    "    return score\n",
    "\n",
    "def display_hand(hand):\n",
    "    for card in hand:\n",
    "        print(f\"{card['rank']} of {card['suit']}\")\n",
    "\n",
    "def blackjack_game():\n",
    "    player_hand = []\n",
    "    computer_hand = []\n",
    "    deck = generate_deck()\n",
    "\n",
    "    # Initial deal\n",
    "    player_hand.append(deck.pop())\n",
    "    computer_hand.append(deck.pop())\n",
    "    player_hand.append(deck.pop())\n",
    "    computer_hand.append(deck.pop())\n",
    "\n",
    "    while True:\n",
    "        print(\"\\nYour hand:\")\n",
    "        display_hand(player_hand)\n",
    "        player_score = calculate_score(player_hand)\n",
    "        print(f\"Your score: {player_score}\")\n",
    "\n",
    "        # Check if player busts\n",
    "        if player_score > 21:\n",
    "            print(\"Bust! You lose.\")\n",
    "            break\n",
    "\n",
    "        # Ask the player to hit or stand\n",
    "        action = input(\"Do you want to hit or stand? \").lower()\n",
    "\n",
    "        if action == 'hit':\n",
    "            player_hand.append(deck.pop())\n",
    "        elif action == 'stand':\n",
    "            # Computer's turn\n",
    "            while calculate_score(computer_hand) < 17:\n",
    "                computer_hand.append(deck.pop())\n",
    "\n",
    "            print(\"\\nComputer's hand:\")\n",
    "            display_hand(computer_hand)\n",
    "            computer_score = calculate_score(computer_hand)\n",
    "            print(f\"Computer's score: {computer_score}\")\n",
    "\n",
    "            # Determine the winner\n",
    "            if computer_score > 21 or player_score > computer_score:\n",
    "                print(\"You win!\")\n",
    "            elif player_score < computer_score:\n",
    "                print(\"You lose.\")\n",
    "            else:\n",
    "                print(\"It's a tie!\")\n",
    "\n",
    "            break\n",
    "        else:\n",
    "            print(\"Invalid input. Please enter 'hit' or 'stand'.\")\n",
    "\n",
    "# Run the game\n",
    "blackjack_game()\n",
    "\n",
    "\n"
   ]
  },
  {
   "cell_type": "markdown",
   "id": "c3675073-26b9-418b-84ef-f62489f38bd9",
   "metadata": {},
   "source": [
    "40. Write a program that generates the prime factors of a given number using trial division."
   ]
  },
  {
   "cell_type": "code",
   "execution_count": 3,
   "id": "5117aedd-01c2-4b2c-810f-bc2e91e62967",
   "metadata": {},
   "outputs": [
    {
     "name": "stdin",
     "output_type": "stream",
     "text": [
      "Enter a number:  6\n"
     ]
    },
    {
     "name": "stdout",
     "output_type": "stream",
     "text": [
      "Prime Factors: [2, 3]\n"
     ]
    }
   ],
   "source": [
    "def prime_factors(n):\n",
    "    factors = []\n",
    "    divisor = 2\n",
    "    while n > 1:\n",
    "        while n % divisor == 0:\n",
    "            factors.append(divisor)\n",
    "            n //= divisor\n",
    "        divisor += 1\n",
    "    return factors\n",
    "\n",
    "# Example usage\n",
    "number = int(input(\"Enter a number: \"))\n",
    "print(\"Prime Factors:\", prime_factors(number))\n"
   ]
  }
 ],
 "metadata": {
  "kernelspec": {
   "display_name": "Python 3 (ipykernel)",
   "language": "python",
   "name": "python3"
  },
  "language_info": {
   "codemirror_mode": {
    "name": "ipython",
    "version": 3
   },
   "file_extension": ".py",
   "mimetype": "text/x-python",
   "name": "python",
   "nbconvert_exporter": "python",
   "pygments_lexer": "ipython3",
   "version": "3.10.8"
  }
 },
 "nbformat": 4,
 "nbformat_minor": 5
}
