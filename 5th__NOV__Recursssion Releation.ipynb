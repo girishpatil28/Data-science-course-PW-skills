{
 "cells": [
  {
   "cell_type": "markdown",
   "id": "56382464-9623-4cf4-898f-2d3857688626",
   "metadata": {},
   "source": [
    "1. Find the value of T(2) for the recurrence relation T(n) = 3T(n-1) + 12n, given that T(0)=5."
   ]
  },
  {
   "cell_type": "markdown",
   "id": "89a19840-e875-4b9f-82bb-25364a2ef725",
   "metadata": {},
   "source": [
    "Given: 𝑇(0)=5\n",
    "Find T(1):\n",
    "T(1)=3T(0)+12×1=3×5+12=15+12=27\n",
    "Find T(2):\n",
    "T(2)=3T(1)+12×2=3×27+24=81+24=105\n",
    "T(2)=105"
   ]
  },
  {
   "cell_type": "markdown",
   "id": "afebad28-309b-46ed-9bee-4b6ea66d7764",
   "metadata": {},
   "source": [
    "2. Given a recurrence relation, solve it using the substitution method:\n",
    "a. T(n) = T(n-1) + c\n",
    "b. T(n) = 2T(n/2) + n\n",
    "c. T(n) = 2T(n/2) + c\n",
    "d. T(n) = T(n/2) + c"
   ]
  },
  {
   "cell_type": "markdown",
   "id": "cad36719-1334-4dc2-8bfc-c59d0ebd5a28",
   "metadata": {},
   "source": [
    "a. T(n)=T(n−1)+c: T(n)=T𝑂 +cn\n",
    "\n",
    "b. T(n)=2T(n/2)+n: T(n)=O(nlogn)\n",
    "\n",
    "c. T(n)=2T(n/2)+c: T(n)=O(n)\n",
    "\n",
    "d. T(n)=T(n/2)+c:T(n)=O(logn)"
   ]
  },
  {
   "cell_type": "markdown",
   "id": "f47f4289-cd17-4d71-95de-9040bd6913c8",
   "metadata": {},
   "source": [
    "3. Given a recurrence relation, solve it using the recursive tree approach:\n",
    "\n",
    "a. T(n) = 2T(n-1) +1\n",
    "\n",
    "b. T(n) = 2T(n/2) + n"
   ]
  },
  {
   "cell_type": "markdown",
   "id": "eb79e5ec-313f-4d7a-bb06-2520dbc39f43",
   "metadata": {},
   "source": [
    "Summary of Solutions:\n",
    "\n",
    "a. T(n)=2T(n−1)+1:T(n)=O(2n)\n",
    "\n",
    "b. T(n)=2T(n/2)+n: T(n)=O(nlogn)"
   ]
  },
  {
   "cell_type": "code",
   "execution_count": null,
   "id": "0cd5fe70-5775-472a-817f-38bb4888ba56",
   "metadata": {},
   "outputs": [],
   "source": []
  }
 ],
 "metadata": {
  "kernelspec": {
   "display_name": "Python 3 (ipykernel)",
   "language": "python",
   "name": "python3"
  },
  "language_info": {
   "codemirror_mode": {
    "name": "ipython",
    "version": 3
   },
   "file_extension": ".py",
   "mimetype": "text/x-python",
   "name": "python",
   "nbconvert_exporter": "python",
   "pygments_lexer": "ipython3",
   "version": "3.12.7"
  }
 },
 "nbformat": 4,
 "nbformat_minor": 5
}
