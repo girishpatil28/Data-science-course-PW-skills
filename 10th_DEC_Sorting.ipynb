{
 "cells": [
  {
   "cell_type": "markdown",
   "id": "e64dc8a4-f12e-43a4-9008-558809be54b1",
   "metadata": {},
   "source": [
    "Problem 1.Given an array of n numbers, give an algorithm which gives the element appearing maximum\n",
    "number of times?"
   ]
  },
  {
   "cell_type": "code",
   "execution_count": 2,
   "id": "56297ddc-d054-4b67-8eda-66bcd2fa9d73",
   "metadata": {},
   "outputs": [
    {
     "name": "stdout",
     "output_type": "stream",
     "text": [
      "Element with max frequency: 1 (appears 5 times)\n"
     ]
    }
   ],
   "source": [
    "def max_frequency_element(arr):\n",
    "    freq = {}  # Dictionary to store frequency\n",
    "    max_count = 0\n",
    "    max_elem = None\n",
    "\n",
    "    for num in arr:\n",
    "        freq[num] = freq.get(num, 0) + 1  # Increment count\n",
    "        if freq[num] > max_count:  # Update max element\n",
    "            max_count = freq[num]\n",
    "            max_elem = num\n",
    "\n",
    "    return max_elem, max_count\n",
    "\n",
    "# Example Usage\n",
    "arr = [1, 3, 2, 3, 4, 3, 2, 1, 1, 1, 1]\n",
    "element, frequency = max_frequency_element(arr)\n",
    "print(f\"Element with max frequency: {element} (appears {frequency} times)\")"
   ]
  },
  {
   "cell_type": "markdown",
   "id": "89e23d05-b31a-43e2-b35c-049e75aeacf2",
   "metadata": {},
   "source": [
    "Problem 2 : We are given a list of n-1 integers and these integers are in the range of 1 to n . There are no\n",
    "duplicates in the list. One of the integers is missing in the list. Give an algorithm to find that element Ex:\n",
    "[1,2,4,6,3,7,8] 5 is the missing num."
   ]
  },
  {
   "cell_type": "code",
   "execution_count": 5,
   "id": "a04b959f-9537-4471-bcda-558c579451d7",
   "metadata": {},
   "outputs": [
    {
     "name": "stdout",
     "output_type": "stream",
     "text": [
      "Missing number: 5\n"
     ]
    }
   ],
   "source": [
    "def find_missing_number(arr, n):\n",
    "    total_sum = n * (n + 1) // 2  # Sum of first n natural numbers\n",
    "    actual_sum = sum(arr)  # Sum of given elements\n",
    "    return total_sum - actual_sum  # Missing number\n",
    "\n",
    "# Example Usage\n",
    "arr = [1, 2, 4, 6, 3, 7, 8]  # n = 8\n",
    "missing_num = find_missing_number(arr, 8)\n",
    "print(f\"Missing number: {missing_num}\")"
   ]
  },
  {
   "cell_type": "markdown",
   "id": "a4ca1701-c950-40de-ad5b-2471ad901543",
   "metadata": {},
   "source": [
    "Problem 3 : Given an array of n positive numbers. All numbers occurs even number of times except 1 which\n",
    "occurs odd number of times. Find that number in O(n) time and O(1) space. Ex: [1,2,3,2,3,1,3]. 3 is repeats odd\n",
    "times."
   ]
  },
  {
   "cell_type": "code",
   "execution_count": 8,
   "id": "ee753e25-611e-4592-88d2-15c73685f6dd",
   "metadata": {},
   "outputs": [
    {
     "name": "stdout",
     "output_type": "stream",
     "text": [
      "Number occurring odd times: 3\n"
     ]
    }
   ],
   "source": [
    "def find_odd_occurrence(arr):\n",
    "    result = 0\n",
    "    for num in arr:\n",
    "        result ^= num  # XOR each element\n",
    "    return result  # The remaining number is the odd-occurring one\n",
    "\n",
    "# Example Usage\n",
    "arr = [1, 2, 3, 2, 3, 1, 3]\n",
    "odd_num = find_odd_occurrence(arr)\n",
    "print(f\"Number occurring odd times: {odd_num}\")"
   ]
  },
  {
   "cell_type": "markdown",
   "id": "5da93da9-e050-4b9a-8343-e4ef6840ef89",
   "metadata": {},
   "source": [
    "Problem 4 : Given an array of n elements. Find two elements in the array such that their sum is equal to given\n",
    "element K."
   ]
  },
  {
   "cell_type": "code",
   "execution_count": 11,
   "id": "7ace8e8b-6894-49a1-a9b0-42d8da488ce8",
   "metadata": {},
   "outputs": [
    {
     "name": "stdout",
     "output_type": "stream",
     "text": [
      "Pair with sum 9: (2, 7)\n"
     ]
    }
   ],
   "source": [
    "def find_pair_with_sum(arr, K):\n",
    "    seen = set()  # Hash set to store visited numbers\n",
    "\n",
    "    for num in arr:\n",
    "        complement = K - num  # Required number to form sum K\n",
    "        if complement in seen:\n",
    "            return (complement, num)  # Found the pair\n",
    "        seen.add(num)  # Store the number in set\n",
    "\n",
    "    return \"No pair found\"\n",
    "\n",
    "# Example Usage\n",
    "arr = [2, 7, 11, 15, 4, 8]\n",
    "K = 9\n",
    "result = find_pair_with_sum(arr, K)\n",
    "print(f\"Pair with sum {K}: {result}\")"
   ]
  },
  {
   "cell_type": "markdown",
   "id": "54bce764-c09c-4efd-8f72-82fe2a38fec7",
   "metadata": {},
   "source": [
    "Problem 5 : Given an array of both positive and negative numbers, find two numbers such that their sum is\n",
    "closest to 0. Ex: [ 1 ,60 ,-10, 70, -80,85]. Ans : -80,85."
   ]
  },
  {
   "cell_type": "code",
   "execution_count": 14,
   "id": "359f075f-19be-42db-bacd-9e9758661e0c",
   "metadata": {},
   "outputs": [
    {
     "name": "stdout",
     "output_type": "stream",
     "text": [
      "Pair with sum closest to 0: (-80, 85)\n"
     ]
    }
   ],
   "source": [
    "def find_closest_to_zero_pair(arr):\n",
    "    arr.sort()  # Sort the array\n",
    "    left, right = 0, len(arr) - 1\n",
    "    min_sum = float('inf')\n",
    "    closest_pair = (0, 0)\n",
    "\n",
    "    while left < right:\n",
    "        current_sum = arr[left] + arr[right]\n",
    "\n",
    "        # Update minimum sum and pair\n",
    "        if abs(current_sum) < abs(min_sum):\n",
    "            min_sum = current_sum\n",
    "            closest_pair = (arr[left], arr[right])\n",
    "\n",
    "        # Adjust pointers\n",
    "        if current_sum < 0:\n",
    "            left += 1  # Move towards positive numbers\n",
    "        else:\n",
    "            right -= 1  # Move towards negative numbers\n",
    "\n",
    "    return closest_pair\n",
    "\n",
    "# Example Usage\n",
    "arr = [1, 60, -10, 70, -80, 85]\n",
    "result = find_closest_to_zero_pair(arr)\n",
    "print(f\"Pair with sum closest to 0: {result}\")"
   ]
  },
  {
   "cell_type": "markdown",
   "id": "9da56e61-108c-4cd3-9c02-c34c53e47104",
   "metadata": {},
   "source": [
    "Problem 6 : Given an array of n elements . Find three elements such that their sum is equal to the given\n",
    "number."
   ]
  },
  {
   "cell_type": "code",
   "execution_count": 17,
   "id": "968d58cb-e651-4464-9e48-38f795343d74",
   "metadata": {},
   "outputs": [
    {
     "name": "stdout",
     "output_type": "stream",
     "text": [
      "Triplet with sum 24: (3, 9, 12)\n"
     ]
    }
   ],
   "source": [
    "def find_three_sum(arr, K):\n",
    "    arr.sort()  # Sort the array\n",
    "    n = len(arr)\n",
    "\n",
    "    for i in range(n - 2):\n",
    "        left, right = i + 1, n - 1  # Two-pointer approach\n",
    "\n",
    "        while left < right:\n",
    "            current_sum = arr[i] + arr[left] + arr[right]\n",
    "\n",
    "            if current_sum == K:\n",
    "                return (arr[i], arr[left], arr[right])  # Found triplet\n",
    "            elif current_sum < K:\n",
    "                left += 1  # Increase sum by moving left pointer\n",
    "            else:\n",
    "                right -= 1  # Decrease sum by moving right pointer\n",
    "\n",
    "    return \"No triplet found\"\n",
    "\n",
    "# Example Usage\n",
    "arr = [12, 3, 7, 1, 6, 9]\n",
    "K = 24\n",
    "result = find_three_sum(arr, K)\n",
    "print(f\"Triplet with sum {K}: {result}\")"
   ]
  },
  {
   "cell_type": "markdown",
   "id": "ecfc0467-6e03-4b58-9745-c1d1f19c0ed8",
   "metadata": {},
   "source": [
    "Problem 7 : Given an array of n elements . Find three elements i, j, k in the array such that\n",
    "i * i + j * j = k*k."
   ]
  },
  {
   "cell_type": "code",
   "execution_count": 20,
   "id": "a3009af9-56bc-4702-9e46-acdb873c3541",
   "metadata": {},
   "outputs": [
    {
     "name": "stdout",
     "output_type": "stream",
     "text": [
      "Pythagorean triplet: (3, 4, 5)\n"
     ]
    }
   ],
   "source": [
    "def find_pythagorean_triplet(arr):\n",
    "    # Square all elements\n",
    "    arr = [x ** 2 for x in arr]\n",
    "    arr.sort()  # Sort the squared array\n",
    "    n = len(arr)\n",
    "\n",
    "    # Treat each element as k^2 and use two-pointer approach\n",
    "    for k in range(n - 1, 1, -1):  # k is the largest element (hypotenuse)\n",
    "        left, right = 0, k - 1\n",
    "\n",
    "        while left < right:\n",
    "            if arr[left] + arr[right] == arr[k]:\n",
    "                return (int(arr[left] ** 0.5), int(arr[right] ** 0.5), int(arr[k] ** 0.5))\n",
    "            elif arr[left] + arr[right] < arr[k]:\n",
    "                left += 1  # Increase sum\n",
    "            else:\n",
    "                right -= 1  # Decrease sum\n",
    "\n",
    "    return \"No Pythagorean triplet found\"\n",
    "\n",
    "# Example Usage\n",
    "arr = [3, 1, 4, 6, 5]\n",
    "result = find_pythagorean_triplet(arr)\n",
    "print(f\"Pythagorean triplet: {result}\")"
   ]
  },
  {
   "cell_type": "markdown",
   "id": "90244e6f-3bb1-461a-a567-173e10d999b5",
   "metadata": {},
   "source": [
    "Problem 8 : An element is a majority if it appears more than n/2 times. Give an algorithm takes an array of n\n",
    "element as argument and identifies a majority (if it exists)."
   ]
  },
  {
   "cell_type": "code",
   "execution_count": 23,
   "id": "21bfe6dd-fba7-46c3-8ae6-ed2427e65137",
   "metadata": {},
   "outputs": [
    {
     "name": "stdout",
     "output_type": "stream",
     "text": [
      "Majority element: 3\n"
     ]
    }
   ],
   "source": [
    "def find_majority_element(arr):\n",
    "    candidate, count = None, 0\n",
    "\n",
    "    # Phase 1: Find potential majority element\n",
    "    for num in arr:\n",
    "        if count == 0:\n",
    "            candidate = num  # Set new candidate\n",
    "        count += (1 if num == candidate else -1)\n",
    "\n",
    "    # Phase 2: Verify majority condition\n",
    "    if arr.count(candidate) > len(arr) // 2:\n",
    "        return candidate\n",
    "    return \"No majority element\"\n",
    "\n",
    "# Example Usage\n",
    "arr = [3, 3, 4, 2, 4, 3, 3, 3]\n",
    "result = find_majority_element(arr)\n",
    "print(f\"Majority element: {result}\")"
   ]
  },
  {
   "cell_type": "markdown",
   "id": "874833ce-46e5-452e-9312-509a017b8b23",
   "metadata": {},
   "source": [
    "Problem 9 : Given n × n matrix, and in each row all 1’s are followed by 0’s. Find the row with the maximum\n",
    "number of 0’s."
   ]
  },
  {
   "cell_type": "code",
   "execution_count": 26,
   "id": "9e5f0936-4b09-4370-ad1d-b5a185756c62",
   "metadata": {},
   "outputs": [
    {
     "name": "stdout",
     "output_type": "stream",
     "text": [
      "Row with maximum zeros: 1\n"
     ]
    }
   ],
   "source": [
    "def find_row_with_max_zeros(matrix):\n",
    "    n = len(matrix)\n",
    "    max_zeros = -1\n",
    "    row_index = -1\n",
    "\n",
    "    for i in range(n):\n",
    "        row = matrix[i]\n",
    "        \n",
    "        # Binary search for the first occurrence of 0\n",
    "        left, right = 0, n - 1\n",
    "        first_zero_index = n  # Default (no zeros in the row)\n",
    "\n",
    "        while left <= right:\n",
    "            mid = (left + right) // 2\n",
    "            if row[mid] == 0:\n",
    "                first_zero_index = mid\n",
    "                right = mid - 1  # Search for earlier 0\n",
    "            else:\n",
    "                left = mid + 1\n",
    "\n",
    "        num_zeros = n - first_zero_index\n",
    "        if num_zeros > max_zeros:\n",
    "            max_zeros = num_zeros\n",
    "            row_index = i\n",
    "\n",
    "    return row_index\n",
    "\n",
    "# Example Usage\n",
    "matrix = [\n",
    "    [1, 1, 1, 0, 0],  \n",
    "    [1, 0, 0, 0, 0],  \n",
    "    [1, 1, 0, 0, 0],  \n",
    "    [1, 1, 1, 1, 0]   \n",
    "]\n",
    "\n",
    "result = find_row_with_max_zeros(matrix)\n",
    "print(f\"Row with maximum zeros: {result}\")"
   ]
  },
  {
   "cell_type": "markdown",
   "id": "3c2173ac-aab9-490c-b6c4-02cb1be69e18",
   "metadata": {},
   "source": [
    "Problem 10 : Sort an array of 0’s, 1’s and 2’s [or R’s, G’s and B’s]: Given an array A[] consisting of 0’s, 1’s and\n",
    "2’s, give an algorithm for sorting A[].The algorithm should put all 0’s first, then all 1’s and finally all 2’s at the\n",
    "end. Example Input = {0,1,1,0,1,2,1,2,0,0,0,1}, Output = {0,0,0,0,0,1,1,1,1,1,2,2}"
   ]
  },
  {
   "cell_type": "code",
   "execution_count": 29,
   "id": "35066f1b-960e-40a5-8fac-9415aafa6864",
   "metadata": {},
   "outputs": [
    {
     "name": "stdout",
     "output_type": "stream",
     "text": [
      "Sorted array: [0, 0, 0, 0, 0, 1, 1, 1, 1, 1, 2, 2]\n"
     ]
    }
   ],
   "source": [
    "def sort_colors(arr):\n",
    "    low, mid, high = 0, 0, len(arr) - 1\n",
    "\n",
    "    while mid <= high:\n",
    "        if arr[mid] == 0:  # Swap 0 to the beginning\n",
    "            arr[low], arr[mid] = arr[mid], arr[low]\n",
    "            low += 1\n",
    "            mid += 1\n",
    "        elif arr[mid] == 1:  # Keep 1 in the middle\n",
    "            mid += 1\n",
    "        else:  # Swap 2 to the end\n",
    "            arr[mid], arr[high] = arr[high], arr[mid]\n",
    "            high -= 1\n",
    "\n",
    "# Example Usage\n",
    "arr = [0, 1, 1, 0, 1, 2, 1, 2, 0, 0, 0, 1]\n",
    "sort_colors(arr)\n",
    "print(f\"Sorted array: {arr}\")"
   ]
  }
 ],
 "metadata": {
  "kernelspec": {
   "display_name": "Python 3 (ipykernel)",
   "language": "python",
   "name": "python3"
  },
  "language_info": {
   "codemirror_mode": {
    "name": "ipython",
    "version": 3
   },
   "file_extension": ".py",
   "mimetype": "text/x-python",
   "name": "python",
   "nbconvert_exporter": "python",
   "pygments_lexer": "ipython3",
   "version": "3.12.7"
  }
 },
 "nbformat": 4,
 "nbformat_minor": 5
}
