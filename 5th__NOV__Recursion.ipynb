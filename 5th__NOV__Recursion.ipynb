{
 "cells": [
  {
   "cell_type": "markdown",
   "id": "e89d4da5-507f-4f02-9312-dc9fc6147258",
   "metadata": {},
   "source": [
    "Q.1 Can you explain the logic and working of the Tower of Hanoi algorithm by writing a Java program?\n",
    "How does the recursion work, and how are the movements of disks between rods accomplished?"
   ]
  },
  {
   "cell_type": "markdown",
   "id": "ac9bf0b2-1f1c-4034-8348-058955b90ebc",
   "metadata": {},
   "source": [
    "We have three rods: Source, Destination, and Auxiliary. The goal is to move a stack of disks from the source rod to the destination rod. The rules are:\n",
    "\n",
    "You can move only one disk at a time.\n",
    "\n",
    "A disk can only be placed on top of a larger disk or on an empty rod.\n",
    "\n",
    "Only the topmost disk from any rod can be moved.\n",
    "\n",
    "Recursion Logic:\n",
    "\n",
    "The algorithm is solved recursively:\n",
    "\n",
    "Move n-1 disks from the Source rod to the Auxiliary rod.\n",
    "\n",
    "Move the nth disk (largest disk) directly from the Source rod to the Destination rod.\n",
    "\n",
    "Move the n-1 disks from the Auxiliary rod to the Destination rod.\n"
   ]
  },
  {
   "cell_type": "markdown",
   "id": "ed3e8dd5-4a04-428c-bfea-e20221b8bff8",
   "metadata": {},
   "source": [
    "Q.2 Given two strings word1 and word2, return the minimum number of operations required to convert word1\n",
    "to word2."
   ]
  },
  {
   "cell_type": "markdown",
   "id": "e838920c-db02-4a30-a52b-625ad557bdb1",
   "metadata": {},
   "source": [
    "We will use dynamic programming (DP) to solve this problem. The dp[i][j] will store the minimum number of operations required to convert the first i characters of word1 into the first j characters of word2.\n",
    "\n",
    "Steps:\n",
    "\n",
    "Base Cases:\n",
    "\n",
    "dp[i][0] = i, because if word2 is empty, we need to delete all i characters from word1.\n",
    "\n",
    "dp[0][j] = j, because if word1 is empty, we need to insert all j characters of word2.\n",
    "\n",
    "Recursive Case:\n",
    "\n",
    "If word1[i-1] == word2[j-1], then no operation is needed, so we set dp[i][j] = dp[i-1][j-1].\n",
    "\n",
    "If they are different, the value will be the minimum of three operations (insert, delete, or replace) plus one:\n",
    "\n",
    "Insert: dp[i][j-1] + 1\n",
    "\n",
    "Delete: dp[i-1][j] + 1\n",
    "\n",
    "Replace: dp[i-1][j-1] + 1\n",
    "\n",
    "The final result will be stored in dp[m][n], where m and n are the lengths of word1 and word2."
   ]
  },
  {
   "cell_type": "code",
   "execution_count": 5,
   "id": "c86c3f50-53ed-4c08-8021-8f7e498e1283",
   "metadata": {},
   "outputs": [
    {
     "name": "stdout",
     "output_type": "stream",
     "text": [
      "Minimum operations required: 3\n"
     ]
    }
   ],
   "source": [
    "#Python Code Implementation:\n",
    "\n",
    "def minDistance(word1, word2):\n",
    "    m, n = len(word1), len(word2)\n",
    "    \n",
    "    # Create a DP table with dimensions (m+1) x (n+1)\n",
    "    dp = [[0] * (n + 1) for _ in range(m + 1)]\n",
    "    \n",
    "    # Initialize base cases\n",
    "    for i in range(m + 1):\n",
    "        for j in range(n + 1):\n",
    "            if i == 0:\n",
    "                dp[i][j] = j  # If word1 is empty, we need j insertions\n",
    "            elif j == 0:\n",
    "                dp[i][j] = i  # If word2 is empty, we need i deletions\n",
    "            elif word1[i - 1] == word2[j - 1]:\n",
    "                dp[i][j] = dp[i - 1][j - 1]  # No operation needed if characters match\n",
    "            else:\n",
    "                dp[i][j] = min(dp[i - 1][j - 1],  # Replace\n",
    "                               dp[i - 1][j],    # Delete\n",
    "                               dp[i][j - 1]) + 1  # Insert\n",
    "    \n",
    "    # The result will be in dp[m][n]\n",
    "    return dp[m][n]\n",
    "\n",
    "# Example Usage\n",
    "word1 = \"kitten\"\n",
    "word2 = \"sitting\"\n",
    "result = minDistance(word1, word2)\n",
    "print(f\"Minimum operations required: {result}\")"
   ]
  },
  {
   "cell_type": "markdown",
   "id": "566406ed-f920-4ba2-9f4e-f844a8ee84ad",
   "metadata": {},
   "source": [
    "Q. 3 Print the max value of the array [ 13, 1, -3, 22, 5]."
   ]
  },
  {
   "cell_type": "code",
   "execution_count": 8,
   "id": "6780111a-fd82-421d-89eb-90ef7c696a74",
   "metadata": {},
   "outputs": [
    {
     "name": "stdout",
     "output_type": "stream",
     "text": [
      "The maximum value in the array is: 22\n"
     ]
    }
   ],
   "source": [
    "# Given array\n",
    "arr = [13, 1, -3, 22, 5]\n",
    "\n",
    "# Using the built-in max() function\n",
    "max_value = max(arr)\n",
    "\n",
    "print(f\"The maximum value in the array is: {max_value}\")\n"
   ]
  },
  {
   "cell_type": "markdown",
   "id": "e7860068-aabc-4cd2-b9ee-fb127fa3727a",
   "metadata": {},
   "source": [
    "Q.4 Find the sum of the values of the array [92, 23, 15, -20, 10]."
   ]
  },
  {
   "cell_type": "code",
   "execution_count": 11,
   "id": "e07ef61b-58d4-43e9-bb9a-d2b3c01b7884",
   "metadata": {},
   "outputs": [
    {
     "name": "stdout",
     "output_type": "stream",
     "text": [
      "The sum of the array values is: 120\n"
     ]
    }
   ],
   "source": [
    "# Given array\n",
    "arr = [92, 23, 15, -20, 10]\n",
    "\n",
    "# Using the built-in sum() function\n",
    "total_sum = sum(arr)\n",
    "\n",
    "print(f\"The sum of the array values is: {total_sum}\")\n"
   ]
  },
  {
   "cell_type": "markdown",
   "id": "3f8b1f22-e09b-48f8-9c75-2b2d38cf4b58",
   "metadata": {},
   "source": [
    "Q.5 Given a number n. Print if it is an armstrong number or not.An armstrong number is a number if the sum\n",
    "of every digit in that number raised to the power of total digits in that number is equal to the number."
   ]
  },
  {
   "cell_type": "code",
   "execution_count": 14,
   "id": "d0f75b58-4b76-443c-91dd-15ea58383427",
   "metadata": {},
   "outputs": [
    {
     "name": "stdout",
     "output_type": "stream",
     "text": [
      "153 is an Armstrong number.\n"
     ]
    }
   ],
   "source": [
    "def is_armstrong(n):\n",
    "    # Convert the number to a string to easily access each digit\n",
    "    num_str = str(n)\n",
    "    num_digits = len(num_str)\n",
    "    \n",
    "    # Calculate the sum of each digit raised to the power of the number of digits\n",
    "    total = sum(int(digit) ** num_digits for digit in num_str)\n",
    "    \n",
    "    # Check if the sum is equal to the original number\n",
    "    if total == n:\n",
    "        return True\n",
    "    else:\n",
    "        return False\n",
    "\n",
    "# Example usage\n",
    "n = 153\n",
    "if is_armstrong(n):\n",
    "    print(f\"{n} is an Armstrong number.\")\n",
    "else:\n",
    "    print(f\"{n} is not an Armstrong number.\")"
   ]
  }
 ],
 "metadata": {
  "kernelspec": {
   "display_name": "Python 3 (ipykernel)",
   "language": "python",
   "name": "python3"
  },
  "language_info": {
   "codemirror_mode": {
    "name": "ipython",
    "version": 3
   },
   "file_extension": ".py",
   "mimetype": "text/x-python",
   "name": "python",
   "nbconvert_exporter": "python",
   "pygments_lexer": "ipython3",
   "version": "3.12.7"
  }
 },
 "nbformat": 4,
 "nbformat_minor": 5
}
