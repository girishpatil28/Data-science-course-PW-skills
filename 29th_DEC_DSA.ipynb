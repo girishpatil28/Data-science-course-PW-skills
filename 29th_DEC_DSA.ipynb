{
 "cells": [
  {
   "cell_type": "markdown",
   "id": "1fecb9c1-78ba-44fe-baa6-efa2d43ad023",
   "metadata": {},
   "source": [
    "Problem 1: Reverse a singly linked list.\n",
    "Input: 1 -> 2 -> 3 -> 4 -> 5"
   ]
  },
  {
   "cell_type": "code",
   "execution_count": 2,
   "id": "8e361971-6347-4582-8d34-79ac3c4f2084",
   "metadata": {},
   "outputs": [
    {
     "name": "stdout",
     "output_type": "stream",
     "text": [
      "Original List:\n",
      "1 -> 2 -> 3 -> 4 -> 5 -> None\n",
      "Reversed List:\n",
      "5 -> 4 -> 3 -> 2 -> 1 -> None\n"
     ]
    }
   ],
   "source": [
    "class ListNode:\n",
    "    def __init__(self, val=0, next=None):\n",
    "        self.val = val\n",
    "        self.next = next\n",
    "\n",
    "def reverse_linked_list(head):\n",
    "    prev = None\n",
    "    current = head\n",
    "\n",
    "    while current:\n",
    "        next_node = current.next  # Store next node\n",
    "        current.next = prev  # Reverse link\n",
    "        prev = current  # Move prev to current\n",
    "        current = next_node  # Move current to next\n",
    "    \n",
    "    return prev  # New head of the reversed list\n",
    "\n",
    "# Helper function to print linked list\n",
    "def print_list(head):\n",
    "    while head:\n",
    "        print(head.val, end=\" -> \")\n",
    "        head = head.next\n",
    "    print(\"None\")\n",
    "\n",
    "# Example Usage\n",
    "head = ListNode(1, ListNode(2, ListNode(3, ListNode(4, ListNode(5)))))\n",
    "print(\"Original List:\")\n",
    "print_list(head)\n",
    "\n",
    "reversed_head = reverse_linked_list(head)\n",
    "print(\"Reversed List:\")\n",
    "print_list(reversed_head)"
   ]
  },
  {
   "cell_type": "markdown",
   "id": "5e895ec6-7475-4634-b0b2-a3b5df2e8435",
   "metadata": {},
   "source": [
    "Problem 2: Merge two sorted linked lists into one sorted linked list.\n",
    "Input: List 1: 1 -> 3 -> 5, List 2: 2 -> 4 -> 6"
   ]
  },
  {
   "cell_type": "code",
   "execution_count": 5,
   "id": "6b440aed-0b9e-4b03-9880-0d09918384b7",
   "metadata": {},
   "outputs": [
    {
     "name": "stdout",
     "output_type": "stream",
     "text": [
      "List 1:\n",
      "1 -> 3 -> 5 -> None\n",
      "List 2:\n",
      "2 -> 4 -> 6 -> None\n",
      "Merged Sorted List:\n",
      "1 -> 2 -> 3 -> 4 -> 5 -> 6 -> None\n"
     ]
    }
   ],
   "source": [
    "class ListNode:\n",
    "    def __init__(self, val=0, next=None):\n",
    "        self.val = val\n",
    "        self.next = next\n",
    "\n",
    "def merge_sorted_lists(l1, l2):\n",
    "    dummy = ListNode()  # Dummy node to simplify merging\n",
    "    tail = dummy\n",
    "\n",
    "    while l1 and l2:\n",
    "        if l1.val < l2.val:\n",
    "            tail.next = l1\n",
    "            l1 = l1.next\n",
    "        else:\n",
    "            tail.next = l2\n",
    "            l2 = l2.next\n",
    "        tail = tail.next\n",
    "\n",
    "    # Attach the remaining nodes from the non-empty list\n",
    "    tail.next = l1 if l1 else l2\n",
    "    \n",
    "    return dummy.next  # The merged list starts after the dummy node\n",
    "\n",
    "# Helper function to print linked list\n",
    "def print_list(head):\n",
    "    while head:\n",
    "        print(head.val, end=\" -> \")\n",
    "        head = head.next\n",
    "    print(\"None\")\n",
    "\n",
    "# Example Usage\n",
    "l1 = ListNode(1, ListNode(3, ListNode(5)))\n",
    "l2 = ListNode(2, ListNode(4, ListNode(6)))\n",
    "\n",
    "print(\"List 1:\")\n",
    "print_list(l1)\n",
    "print(\"List 2:\")\n",
    "print_list(l2)\n",
    "\n",
    "merged_head = merge_sorted_lists(l1, l2)\n",
    "print(\"Merged Sorted List:\")\n",
    "print_list(merged_head)"
   ]
  },
  {
   "cell_type": "markdown",
   "id": "3e51b1ed-7da2-419e-bf93-b4880e475012",
   "metadata": {},
   "source": [
    "Problem 3: Remove the nth node from the end of a linked list.\n",
    "Input: 1 -> 2 -> 3 -> 4 -> 5, n = 2"
   ]
  },
  {
   "cell_type": "code",
   "execution_count": 8,
   "id": "23c14738-97ec-4b41-9b84-b09f80efc6f3",
   "metadata": {},
   "outputs": [
    {
     "name": "stdout",
     "output_type": "stream",
     "text": [
      "Original List:\n",
      "1 -> 2 -> 3 -> 4 -> 5 -> None\n",
      "List after removing 2th node from the end:\n",
      "1 -> 2 -> 3 -> 5 -> None\n"
     ]
    }
   ],
   "source": [
    "class ListNode:\n",
    "    def __init__(self, val=0, next=None):\n",
    "        self.val = val\n",
    "        self.next = next\n",
    "\n",
    "def remove_nth_from_end(head, n):\n",
    "    dummy = ListNode(0, head)  # Dummy node before the head\n",
    "    fast = slow = dummy\n",
    "\n",
    "    # Move fast pointer n+1 steps ahead\n",
    "    for _ in range(n + 1):\n",
    "        fast = fast.next\n",
    "\n",
    "    # Move both fast and slow until fast reaches the end\n",
    "    while fast:\n",
    "        fast = fast.next\n",
    "        slow = slow.next\n",
    "\n",
    "    # Remove nth node from end\n",
    "    slow.next = slow.next.next\n",
    "\n",
    "    return dummy.next  # New head\n",
    "\n",
    "# Helper function to print linked list\n",
    "def print_list(head):\n",
    "    while head:\n",
    "        print(head.val, end=\" -> \")\n",
    "        head = head.next\n",
    "    print(\"None\")\n",
    "\n",
    "# Example Usage\n",
    "head = ListNode(1, ListNode(2, ListNode(3, ListNode(4, ListNode(5)))))\n",
    "print(\"Original List:\")\n",
    "print_list(head)\n",
    "\n",
    "n = 2\n",
    "new_head = remove_nth_from_end(head, n)\n",
    "print(f\"List after removing {n}th node from the end:\")\n",
    "print_list(new_head)"
   ]
  },
  {
   "cell_type": "markdown",
   "id": "550bb98e-c5d7-43e5-a645-335be9807626",
   "metadata": {},
   "source": [
    "Problem 4: Find the intersection point of two linked lists.\n",
    "Input: List 1: 1 -> 2 -> 3 -> 4, List 2: 9 -> 8 -> 3 -> 4"
   ]
  },
  {
   "cell_type": "code",
   "execution_count": 11,
   "id": "5971d591-c8d4-4b90-96b4-9fa26d9d614b",
   "metadata": {},
   "outputs": [
    {
     "name": "stdout",
     "output_type": "stream",
     "text": [
      "Intersection Point: 3\n"
     ]
    }
   ],
   "source": [
    "class ListNode:\n",
    "    def __init__(self, val=0, next=None):\n",
    "        self.val = val\n",
    "        self.next = next\n",
    "\n",
    "def find_intersection(headA, headB):\n",
    "    if not headA or not headB:\n",
    "        return None\n",
    "\n",
    "    p1, p2 = headA, headB\n",
    "\n",
    "    # Traverse both lists; if one pointer reaches the end, move it to the other list\n",
    "    while p1 != p2:\n",
    "        p1 = p1.next if p1 else headB\n",
    "        p2 = p2.next if p2 else headA\n",
    "\n",
    "    return p1  # Either intersection node or None\n",
    "\n",
    "# Helper function to print the intersection node\n",
    "def print_intersection(node):\n",
    "    if node:\n",
    "        print(f\"Intersection Point: {node.val}\")\n",
    "    else:\n",
    "        print(\"No Intersection\")\n",
    "\n",
    "# Example Usage\n",
    "# Creating intersection node\n",
    "intersection = ListNode(3, ListNode(4))\n",
    "\n",
    "# Creating two linked lists with intersection\n",
    "headA = ListNode(1, ListNode(2, intersection))\n",
    "headB = ListNode(9, ListNode(8, intersection))\n",
    "\n",
    "# Finding intersection\n",
    "result = find_intersection(headA, headB)\n",
    "print_intersection(result)"
   ]
  },
  {
   "cell_type": "markdown",
   "id": "75f907d6-fdb0-47b3-ad03-b3818725f9e6",
   "metadata": {},
   "source": [
    "Problem 5: Remove duplicates from a sorted linked list.\n",
    "Input: 1 -> 1 -> 2 -> 3 -> 3"
   ]
  },
  {
   "cell_type": "code",
   "execution_count": 15,
   "id": "371e826b-edb9-4d3a-a1b1-aa200a4ca686",
   "metadata": {},
   "outputs": [
    {
     "name": "stdout",
     "output_type": "stream",
     "text": [
      "Original List:\n",
      "1 -> 1 -> 2 -> 3 -> 3 -> None\n",
      "List after removing duplicates:\n",
      "1 -> 2 -> 3 -> None\n"
     ]
    }
   ],
   "source": [
    "class ListNode:\n",
    "    def __init__(self, val=0, next=None):\n",
    "        self.val = val\n",
    "        self.next = next\n",
    "\n",
    "def remove_duplicates(head):\n",
    "    curr = head\n",
    "    while curr and curr.next:\n",
    "        if curr.val == curr.next.val:  # If duplicate found, skip next node\n",
    "            curr.next = curr.next.next\n",
    "        else:\n",
    "            curr = curr.next  # Move to the next node\n",
    "    return head\n",
    "\n",
    "# Helper function to print linked list\n",
    "def print_list(head):\n",
    "    while head:\n",
    "        print(head.val, end=\" -> \")\n",
    "        head = head.next\n",
    "    print(\"None\")\n",
    "\n",
    "# Example Usage\n",
    "head = ListNode(1, ListNode(1, ListNode(2, ListNode(3, ListNode(3)))))\n",
    "print(\"Original List:\")\n",
    "print_list(head)\n",
    "\n",
    "new_head = remove_duplicates(head)\n",
    "print(\"List after removing duplicates:\")\n",
    "print_list(new_head)"
   ]
  },
  {
   "cell_type": "markdown",
   "id": "e1d5e339-ff91-4618-92bd-3bdc32067fa0",
   "metadata": {},
   "source": [
    "Problem 6: Add two numbers represented by linked lists (where each node contains a single digit).\n",
    "Input: List 1: 2 -> 4 -> 3, List 2: 5 -> 6 -> 4 (represents 342 + 465)"
   ]
  },
  {
   "cell_type": "code",
   "execution_count": 18,
   "id": "67d69687-6d38-41b6-a388-c8f1fc697574",
   "metadata": {},
   "outputs": [
    {
     "name": "stdout",
     "output_type": "stream",
     "text": [
      "List 1:\n",
      "2 -> 4 -> 3 -> None\n",
      "List 2:\n",
      "5 -> 6 -> 4 -> None\n",
      "Sum List:\n",
      "7 -> 0 -> 8 -> None\n"
     ]
    }
   ],
   "source": [
    "class ListNode:\n",
    "    def __init__(self, val=0, next=None):\n",
    "        self.val = val\n",
    "        self.next = next\n",
    "\n",
    "def add_two_numbers(l1, l2):\n",
    "    dummy = ListNode(0)  # Dummy node to build result list\n",
    "    current = dummy\n",
    "    carry = 0\n",
    "\n",
    "    while l1 or l2 or carry:\n",
    "        val1 = l1.val if l1 else 0\n",
    "        val2 = l2.val if l2 else 0\n",
    "        total = val1 + val2 + carry\n",
    "\n",
    "        carry = total // 10  # Compute new carry\n",
    "        current.next = ListNode(total % 10)  # Store unit place digit\n",
    "        current = current.next  # Move to next node\n",
    "\n",
    "        # Move to next nodes in input lists if available\n",
    "        if l1: l1 = l1.next\n",
    "        if l2: l2 = l2.next\n",
    "\n",
    "    return dummy.next  # Return sum list (skip dummy node)\n",
    "\n",
    "# Helper function to print linked list\n",
    "def print_list(head):\n",
    "    while head:\n",
    "        print(head.val, end=\" -> \")\n",
    "        head = head.next\n",
    "    print(\"None\")\n",
    "\n",
    "# Example Usage\n",
    "l1 = ListNode(2, ListNode(4, ListNode(3)))  # Represents 342\n",
    "l2 = ListNode(5, ListNode(6, ListNode(4)))  # Represents 465\n",
    "\n",
    "print(\"List 1:\")\n",
    "print_list(l1)\n",
    "\n",
    "print(\"List 2:\")\n",
    "print_list(l2)\n",
    "\n",
    "result = add_two_numbers(l1, l2)\n",
    "\n",
    "print(\"Sum List:\")\n",
    "print_list(result)"
   ]
  },
  {
   "cell_type": "markdown",
   "id": "ee1f5953-ce55-4a2b-99fc-4814f736c7e9",
   "metadata": {},
   "source": [
    "Problem 7: Swap nodes in pairs in a linked list.\n",
    "Input: 1 -> 2 -> 3 -> 4"
   ]
  },
  {
   "cell_type": "code",
   "execution_count": 23,
   "id": "0166c51a-716c-4070-894e-7313f965f200",
   "metadata": {},
   "outputs": [
    {
     "name": "stdout",
     "output_type": "stream",
     "text": [
      "Original List:\n",
      "1 -> 2 -> 3 -> 4 -> None\n",
      "List after swapping pairs:\n",
      "2 -> 1 -> 4 -> 3 -> None\n"
     ]
    }
   ],
   "source": [
    "class ListNode:\n",
    "    def __init__(self, val=0, next=None):\n",
    "        self.val = val\n",
    "        self.next = next\n",
    "\n",
    "def swap_pairs(head):\n",
    "    dummy = ListNode(0)\n",
    "    dummy.next = head\n",
    "    prev = dummy\n",
    "\n",
    "    while head and head.next:\n",
    "        first = head\n",
    "        second = head.next\n",
    "\n",
    "        # Swap\n",
    "        prev.next = second\n",
    "        first.next = second.next\n",
    "        second.next = first\n",
    "\n",
    "        # Move to the next pair\n",
    "        prev = first\n",
    "        head = first.next\n",
    "\n",
    "    return dummy.next\n",
    "\n",
    "# Helper function to print linked list\n",
    "def print_list(head):\n",
    "    while head:\n",
    "        print(head.val, end=\" -> \")\n",
    "        head = head.next\n",
    "    print(\"None\")\n",
    "\n",
    "# Example Usage\n",
    "head = ListNode(1, ListNode(2, ListNode(3, ListNode(4))))\n",
    "\n",
    "print(\"Original List:\")\n",
    "print_list(head)\n",
    "\n",
    "swapped_head = swap_pairs(head)\n",
    "\n",
    "print(\"List after swapping pairs:\")\n",
    "print_list(swapped_head)\n"
   ]
  },
  {
   "cell_type": "markdown",
   "id": "9a28c63e-885f-4f75-bb1f-10eb76b895ad",
   "metadata": {},
   "source": [
    "Problem 8: Reverse nodes in a linked list in groups of k.\n",
    "Input: 1 -> 2 -> 3 -> 4 -> 5, k = 3"
   ]
  },
  {
   "cell_type": "code",
   "execution_count": 26,
   "id": "15eb6edc-9ca2-4bcf-861b-c59f99f3f585",
   "metadata": {},
   "outputs": [
    {
     "name": "stdout",
     "output_type": "stream",
     "text": [
      "Original List:\n",
      "1 -> 2 -> 3 -> 4 -> 5 -> None\n",
      "List after reversing in groups of 3 :\n",
      "3 -> 2 -> 1 -> 4 -> 5 -> None\n"
     ]
    }
   ],
   "source": [
    "class ListNode:\n",
    "    def __init__(self, val=0, next=None):\n",
    "        self.val = val\n",
    "        self.next = next\n",
    "\n",
    "def reverse_k_group(head, k):\n",
    "    current = head\n",
    "    count = 0\n",
    "\n",
    "    # Count k nodes\n",
    "    while current and count < k:\n",
    "        current = current.next\n",
    "        count += 1\n",
    "\n",
    "    if count == k:\n",
    "        # Reverse first k nodes\n",
    "        prev, current = None, head\n",
    "        for _ in range(k):\n",
    "            next_node = current.next\n",
    "            current.next = prev\n",
    "            prev = current\n",
    "            current = next_node\n",
    "\n",
    "        # Recursively reverse remaining nodes\n",
    "        head.next = reverse_k_group(current, k)\n",
    "\n",
    "        return prev  # New head of reversed list\n",
    "\n",
    "    return head  # Less than k nodes remain, return as is\n",
    "\n",
    "# Helper function to print linked list\n",
    "def print_list(head):\n",
    "    while head:\n",
    "        print(head.val, end=\" -> \")\n",
    "        head = head.next\n",
    "    print(\"None\")\n",
    "\n",
    "# Example Usage\n",
    "head = ListNode(1, ListNode(2, ListNode(3, ListNode(4, ListNode(5)))))\n",
    "\n",
    "print(\"Original List:\")\n",
    "print_list(head)\n",
    "\n",
    "k = 3\n",
    "reversed_head = reverse_k_group(head, k)\n",
    "\n",
    "print(\"List after reversing in groups of\", k, \":\")\n",
    "print_list(reversed_head)"
   ]
  },
  {
   "cell_type": "markdown",
   "id": "cc3a1028-8402-4bd9-b21b-6def07b0a4e3",
   "metadata": {},
   "source": [
    "Problem 9: Determine if a linked list is a palindrome.\n",
    "Input: 1 -> 2 -> 2 -> 1"
   ]
  },
  {
   "cell_type": "code",
   "execution_count": 30,
   "id": "bd1c6634-5933-4dc0-8d52-f2243961a24b",
   "metadata": {},
   "outputs": [
    {
     "name": "stdout",
     "output_type": "stream",
     "text": [
      "Is Palindrome: True\n",
      "Is Palindrome: True\n",
      "Is Palindrome: False\n"
     ]
    }
   ],
   "source": [
    "class ListNode:\n",
    "    def __init__(self, val=0, next=None):\n",
    "        self.val = val\n",
    "        self.next = next\n",
    "\n",
    "def is_palindrome(head):\n",
    "    if not head or not head.next:\n",
    "        return True\n",
    "\n",
    "    # Step 1: Find the middle using slow and fast pointers\n",
    "    slow, fast = head, head\n",
    "    while fast and fast.next:\n",
    "        slow = slow.next\n",
    "        fast = fast.next.next\n",
    "\n",
    "    # Step 2: Reverse the second half of the list\n",
    "    prev, curr = None, slow\n",
    "    while curr:\n",
    "        next_node = curr.next\n",
    "        curr.next = prev\n",
    "        prev = curr\n",
    "        curr = next_node\n",
    "\n",
    "    # Step 3: Compare the first half and reversed second half\n",
    "    left, right = head, prev  # prev now points to the head of the reversed second half\n",
    "    while right:  # Only check till the right half (shorter half)\n",
    "        if left.val != right.val:\n",
    "            return False\n",
    "        left = left.next\n",
    "        right = right.next\n",
    "\n",
    "    return True\n",
    "\n",
    "# Helper function to create a linked list from a list\n",
    "def create_linked_list(values):\n",
    "    if not values:\n",
    "        return None\n",
    "    head = ListNode(values[0])\n",
    "    current = head\n",
    "    for val in values[1:]:\n",
    "        current.next = ListNode(val)\n",
    "        current = current.next\n",
    "    return head\n",
    "\n",
    "# Example Usage\n",
    "head = create_linked_list([1, 2, 2, 1])\n",
    "print(\"Is Palindrome:\", is_palindrome(head))  # Output: True\n",
    "\n",
    "head2 = create_linked_list([1, 2, 3, 2, 1])\n",
    "print(\"Is Palindrome:\", is_palindrome(head2))  # Output: True\n",
    "\n",
    "head3 = create_linked_list([1, 2, 3, 4])\n",
    "print(\"Is Palindrome:\", is_palindrome(head3))  # Output: False"
   ]
  },
  {
   "cell_type": "markdown",
   "id": "8c98c8dc-5805-4506-ace2-43765746e90a",
   "metadata": {},
   "source": [
    "Problem 10: Rotate a linked list to the right by k places.\n",
    "Input: 1 -> 2 -> 3 -> 4 -> 5, k = 2"
   ]
  },
  {
   "cell_type": "code",
   "execution_count": 34,
   "id": "8aa1a85e-9767-4e24-9ad3-27950552c562",
   "metadata": {},
   "outputs": [
    {
     "name": "stdout",
     "output_type": "stream",
     "text": [
      "Original List:\n",
      "1 -> 2 -> 3 -> 4 -> 5 -> None\n",
      "List after rotating by 2 places:\n",
      "4 -> 5 -> 1 -> 2 -> 3 -> None\n"
     ]
    }
   ],
   "source": [
    "class ListNode:\n",
    "    def __init__(self, val=0, next=None):\n",
    "        self.val = val\n",
    "        self.next = next\n",
    "\n",
    "def rotate_right(head, k):\n",
    "    if not head or not head.next or k == 0:\n",
    "        return head  # No rotation needed\n",
    "\n",
    "    # Step 1: Compute length and make it circular\n",
    "    length, tail = 1, head\n",
    "    while tail.next:\n",
    "        tail = tail.next\n",
    "        length += 1\n",
    "\n",
    "    k = k % length  # If k >= length, only rotate by k % length\n",
    "    if k == 0:\n",
    "        return head  # No change needed\n",
    "\n",
    "    # Step 2: Find new tail (length - k - 1)th node\n",
    "    tail.next = head  # Connect last node to first (make circular)\n",
    "    new_tail = head\n",
    "    for _ in range(length - k - 1):\n",
    "        new_tail = new_tail.next\n",
    "\n",
    "    # Step 3: Break circular connection and set new head\n",
    "    new_head = new_tail.next\n",
    "    new_tail.next = None\n",
    "\n",
    "    return new_head\n",
    "\n",
    "# Helper function to create and print a linked list\n",
    "def create_linked_list(values):\n",
    "    if not values:\n",
    "        return None\n",
    "    head = ListNode(values[0])\n",
    "    current = head\n",
    "    for val in values[1:]:\n",
    "        current.next = ListNode(val)\n",
    "        current = current.next\n",
    "    return head\n",
    "\n",
    "def print_list(head):\n",
    "    while head:\n",
    "        print(head.val, end=\" -> \")\n",
    "        head = head.next\n",
    "    print(\"None\")\n",
    "\n",
    "# Example Usage\n",
    "head = create_linked_list([1, 2, 3, 4, 5])\n",
    "print(\"Original List:\")\n",
    "print_list(head)\n",
    "\n",
    "k = 2\n",
    "rotated_head = rotate_right(head, k)\n",
    "\n",
    "print(\"List after rotating by\", k, \"places:\")\n",
    "print_list(rotated_head)"
   ]
  },
  {
   "cell_type": "markdown",
   "id": "7f54b68d-454e-418b-ba63-9de33699fda4",
   "metadata": {},
   "source": [
    "Problem 11: Flatten a multilevel doubly linked list.\n",
    "Input: 1 <-> 2 <-> 3 <-> 7 <-> 8 <-> 11 -> 12, 4 <-> 5 -> 9 -> 10, 6 -> 13"
   ]
  },
  {
   "cell_type": "code",
   "execution_count": 37,
   "id": "e4c819dd-958d-43ca-ae3e-668d4b0c143f",
   "metadata": {},
   "outputs": [
    {
     "name": "stdout",
     "output_type": "stream",
     "text": [
      "Original Multilevel List:\n",
      "1 <-> 2 <-> 3 <-> 4 <-> 5 <-> 6 -> None\n",
      "Flattened List:\n",
      "1 <-> 2 <-> 3 <-> 7 <-> 8 <-> 11 <-> 12 <-> 4 <-> 5 <-> 9 <-> 10 <-> 6 <-> 13 -> None\n"
     ]
    }
   ],
   "source": [
    "class Node:\n",
    "    def __init__(self, val, prev=None, next=None, child=None):\n",
    "        self.val = val\n",
    "        self.prev = prev\n",
    "        self.next = next\n",
    "        self.child = child\n",
    "\n",
    "def flatten(head):\n",
    "    if not head:\n",
    "        return None\n",
    "\n",
    "    stack = []\n",
    "    current = head\n",
    "\n",
    "    while current:\n",
    "        if current.child:\n",
    "            # If there is a child, push the next node onto the stack\n",
    "            if current.next:\n",
    "                stack.append(current.next)\n",
    "                current.next.prev = None  # Detach original next to avoid loops\n",
    "            \n",
    "            # Connect child as next node\n",
    "            current.next = current.child\n",
    "            current.child.prev = current\n",
    "            current.child = None  # Remove child reference\n",
    "        \n",
    "        # If at the end of the current level and stack is not empty, pop from stack\n",
    "        if not current.next and stack:\n",
    "            next_node = stack.pop()\n",
    "            current.next = next_node\n",
    "            next_node.prev = current\n",
    "        \n",
    "        current = current.next\n",
    "\n",
    "    return head\n",
    "\n",
    "# Helper functions to create and print a doubly linked list\n",
    "def print_doubly_linked_list(head):\n",
    "    while head:\n",
    "        print(head.val, end=\" <-> \" if head.next else \" -> None\\n\")\n",
    "        head = head.next\n",
    "\n",
    "# Example Usage\n",
    "# Constructing the multilevel list manually\n",
    "head = Node(1)\n",
    "n2 = Node(2)\n",
    "n3 = Node(3)\n",
    "n4 = Node(4)\n",
    "n5 = Node(5)\n",
    "n6 = Node(6)\n",
    "n7 = Node(7)\n",
    "n8 = Node(8)\n",
    "n9 = Node(9)\n",
    "n10 = Node(10)\n",
    "n11 = Node(11)\n",
    "n12 = Node(12)\n",
    "n13 = Node(13)\n",
    "\n",
    "head.next = n2\n",
    "n2.prev = head\n",
    "n2.next = n3\n",
    "n3.prev = n2\n",
    "n3.next = n4\n",
    "n4.prev = n3\n",
    "n4.next = n5\n",
    "n5.prev = n4\n",
    "n5.next = n6\n",
    "n6.prev = n5\n",
    "\n",
    "n3.child = n7\n",
    "n7.next = n8\n",
    "n8.prev = n7\n",
    "n8.child = n11\n",
    "n11.next = n12\n",
    "n12.prev = n11\n",
    "\n",
    "n5.child = n9\n",
    "n9.next = n10\n",
    "n10.prev = n9\n",
    "\n",
    "n6.child = n13\n",
    "\n",
    "# Flatten and print result\n",
    "print(\"Original Multilevel List:\")\n",
    "print_doubly_linked_list(head)\n",
    "\n",
    "flattened_head = flatten(head)\n",
    "\n",
    "print(\"Flattened List:\")\n",
    "print_doubly_linked_list(flattened_head)"
   ]
  },
  {
   "cell_type": "markdown",
   "id": "ce1d6f5b-fdb4-4548-bd57-0b39b3582c4e",
   "metadata": {},
   "source": [
    "Problem 12: Rearrange a linked list such that all even positioned nodes are placed at the end.\n",
    "Input: 1 -> 2 -> 3 -> 4 -> 5"
   ]
  },
  {
   "cell_type": "code",
   "execution_count": 40,
   "id": "f2997e9a-1ecf-4b77-bfaa-aa2626cc0d57",
   "metadata": {},
   "outputs": [
    {
     "name": "stdout",
     "output_type": "stream",
     "text": [
      "Original Linked List:\n",
      "1 -> 2 -> 3 -> 4 -> 5 -> None\n",
      "Rearranged Linked List:\n",
      "1 -> 3 -> 5 -> 2 -> 4 -> None\n"
     ]
    }
   ],
   "source": [
    "class ListNode:\n",
    "    def __init__(self, val=0, next=None):\n",
    "        self.val = val\n",
    "        self.next = next\n",
    "\n",
    "def rearrange_linked_list(head):\n",
    "    if not head or not head.next:\n",
    "        return head  # No rearrangement needed\n",
    "\n",
    "    odd = head  # Head of odd-indexed list\n",
    "    even = head.next  # Head of even-indexed list\n",
    "    even_head = even  # Store the start of even list to append later\n",
    "\n",
    "    while even and even.next:\n",
    "        odd.next = even.next  # Link to next odd node\n",
    "        odd = odd.next  # Move odd pointer forward\n",
    "\n",
    "        even.next = odd.next  # Link to next even node\n",
    "        even = even.next  # Move even pointer forward\n",
    "\n",
    "    odd.next = even_head  # Append even list after odd list\n",
    "\n",
    "    return head\n",
    "\n",
    "# Helper function to print the linked list\n",
    "def print_linked_list(head):\n",
    "    while head:\n",
    "        print(head.val, end=\" -> \" if head.next else \" -> None\\n\")\n",
    "        head = head.next\n",
    "\n",
    "# Example Usage\n",
    "head = ListNode(1)\n",
    "head.next = ListNode(2)\n",
    "head.next.next = ListNode(3)\n",
    "head.next.next.next = ListNode(4)\n",
    "head.next.next.next.next = ListNode(5)\n",
    "\n",
    "print(\"Original Linked List:\")\n",
    "print_linked_list(head)\n",
    "\n",
    "rearranged_head = rearrange_linked_list(head)\n",
    "\n",
    "print(\"Rearranged Linked List:\")\n",
    "print_linked_list(rearranged_head)"
   ]
  },
  {
   "cell_type": "markdown",
   "id": "34b19bb6-3b8b-4a84-806e-c4789cbd1a77",
   "metadata": {},
   "source": [
    "Problem 13: Given a non-negative number represented as a linked list, add one to it.\n",
    "Input: 1 -> 2 -> 3 (represents the number 123)"
   ]
  },
  {
   "cell_type": "code",
   "execution_count": 43,
   "id": "c253afdb-8bf9-4d44-a108-10a801f73fbd",
   "metadata": {},
   "outputs": [
    {
     "name": "stdout",
     "output_type": "stream",
     "text": [
      "Original Linked List:\n",
      "1 -> 2 -> 3 -> None\n",
      "Updated Linked List After Adding 1:\n",
      "1 -> 2 -> 4 -> None\n"
     ]
    }
   ],
   "source": [
    "class ListNode:\n",
    "    def __init__(self, val=0, next=None):\n",
    "        self.val = val\n",
    "        self.next = next\n",
    "\n",
    "# Function to reverse a linked list\n",
    "def reverse_list(head):\n",
    "    prev = None\n",
    "    current = head\n",
    "    while current:\n",
    "        next_node = current.next\n",
    "        current.next = prev\n",
    "        prev = current\n",
    "        current = next_node\n",
    "    return prev\n",
    "\n",
    "# Function to add one to the linked list\n",
    "def add_one(head):\n",
    "    # Step 1: Reverse the linked list\n",
    "    head = reverse_list(head)\n",
    "    \n",
    "    # Step 2: Add one to the number\n",
    "    current = head\n",
    "    carry = 1  # We need to add 1\n",
    "    while current:\n",
    "        current.val += carry\n",
    "        if current.val < 10:\n",
    "            carry = 0  # No further carry needed\n",
    "            break\n",
    "        current.val = 0  # Reset current node value to 0\n",
    "        carry = 1  # Carry over to the next digit\n",
    "        \n",
    "        # Move to the next node\n",
    "        if not current.next and carry:  \n",
    "            current.next = ListNode(1)  # Add a new node if carry exists at the last digit\n",
    "            carry = 0  # Reset carry\n",
    "        \n",
    "        current = current.next\n",
    "\n",
    "    # Step 3: Reverse the list back to original order\n",
    "    return reverse_list(head)\n",
    "\n",
    "# Helper function to print the linked list\n",
    "def print_linked_list(head):\n",
    "    while head:\n",
    "        print(head.val, end=\" -> \" if head.next else \" -> None\\n\")\n",
    "        head = head.next\n",
    "\n",
    "# Example Usage\n",
    "head = ListNode(1)\n",
    "head.next = ListNode(2)\n",
    "head.next.next = ListNode(3)\n",
    "\n",
    "print(\"Original Linked List:\")\n",
    "print_linked_list(head)\n",
    "\n",
    "new_head = add_one(head)\n",
    "\n",
    "print(\"Updated Linked List After Adding 1:\")\n",
    "print_linked_list(new_head)"
   ]
  },
  {
   "cell_type": "markdown",
   "id": "06cd4bc3-864f-428f-a584-c23d02187d89",
   "metadata": {},
   "source": [
    "Problem 14: Given a sorted array and a target value, return the index if the target is found. If not, return the\n",
    "index where it would be inserted.\n",
    "Input: nums = [1, 3, 5, 6], target = 5"
   ]
  },
  {
   "cell_type": "code",
   "execution_count": 46,
   "id": "8cef2540-a7a9-4885-b19a-7c572628d422",
   "metadata": {},
   "outputs": [
    {
     "name": "stdout",
     "output_type": "stream",
     "text": [
      "2\n",
      "1\n",
      "4\n",
      "0\n"
     ]
    }
   ],
   "source": [
    "def search_insert(nums, target):\n",
    "    low, high = 0, len(nums) - 1\n",
    "\n",
    "    while low <= high:\n",
    "        mid = (low + high) // 2\n",
    "        if nums[mid] == target:\n",
    "            return mid  # Target found\n",
    "        elif nums[mid] < target:\n",
    "            low = mid + 1  # Search right half\n",
    "        else:\n",
    "            high = mid - 1  # Search left half\n",
    "\n",
    "    return low  # Insert position\n",
    "\n",
    "# Example Usage\n",
    "nums = [1, 3, 5, 6]\n",
    "target = 5\n",
    "print(search_insert(nums, target))  # Output: 2\n",
    "\n",
    "target = 2\n",
    "print(search_insert(nums, target))  # Output: 1\n",
    "\n",
    "target = 7\n",
    "print(search_insert(nums, target))  # Output: 4\n",
    "\n",
    "target = 0\n",
    "print(search_insert(nums, target))  # Output: 0"
   ]
  },
  {
   "cell_type": "markdown",
   "id": "eac9a9db-0c3a-4b6a-9d7d-f774e985c16b",
   "metadata": {},
   "source": [
    "Problem 15: Find the minimum element in a rotated sorted array.\n",
    "Input: [4, 5, 6, 7, 0, 1, 2]"
   ]
  },
  {
   "cell_type": "code",
   "execution_count": 50,
   "id": "ba943226-e32c-46f3-8a67-18ed9537cb4f",
   "metadata": {},
   "outputs": [
    {
     "name": "stdout",
     "output_type": "stream",
     "text": [
      "0\n",
      "1\n",
      "1\n",
      "1\n"
     ]
    }
   ],
   "source": [
    "def find_min(nums):\n",
    "    low, high = 0, len(nums) - 1\n",
    "\n",
    "    while low < high:\n",
    "        mid = (low + high) // 2\n",
    "        \n",
    "        if nums[mid] > nums[high]:  \n",
    "            low = mid + 1  # Minimum must be on the right side\n",
    "        else:\n",
    "            high = mid  # Minimum is at mid or on the left side\n",
    "\n",
    "    return nums[low]  # The minimum element\n",
    "\n",
    "# Example Usage\n",
    "nums = [4, 5, 6, 7, 0, 1, 2]\n",
    "print(find_min(nums))  # Output: 0\n",
    "\n",
    "nums = [3, 4, 5, 1, 2]\n",
    "print(find_min(nums))  # Output: 1\n",
    "\n",
    "nums = [2, 3, 4, 5, 6, 7, 8, 1]\n",
    "print(find_min(nums))  # Output: 1\n",
    "\n",
    "nums = [1, 2, 3, 4, 5]\n",
    "print(find_min(nums))  # Output: 1 (Already sorted)"
   ]
  },
  {
   "cell_type": "markdown",
   "id": "7622e89a-469b-4ab4-9a97-56923686ae5f",
   "metadata": {},
   "source": [
    "Problem 16: Search for a target value in a rotated sorted array.\n",
    "Input: nums = [4, 5, 6, 7, 0, 1, 2], target = 0"
   ]
  },
  {
   "cell_type": "code",
   "execution_count": 55,
   "id": "ed0b5825-8b33-4cdc-ae7a-5fe057591a5e",
   "metadata": {},
   "outputs": [
    {
     "name": "stdout",
     "output_type": "stream",
     "text": [
      "4\n",
      "-1\n",
      "0\n"
     ]
    }
   ],
   "source": [
    "def search_rotated(nums, target):\n",
    "    low, high = 0, len(nums) - 1\n",
    "\n",
    "    while low <= high:\n",
    "        mid = (low + high) // 2\n",
    "\n",
    "        if nums[mid] == target:\n",
    "            return mid  # Found target, return index\n",
    "\n",
    "        # Check which half is sorted\n",
    "        if nums[low] <= nums[mid]:  # Left half is sorted\n",
    "            if nums[low] <= target < nums[mid]:  \n",
    "                high = mid - 1  # Search left\n",
    "            else:\n",
    "                low = mid + 1  # Search right\n",
    "        else:  # Right half is sorted\n",
    "            if nums[mid] < target <= nums[high]:  \n",
    "                low = mid + 1  # Search right\n",
    "            else:\n",
    "                high = mid - 1  # Search left\n",
    "\n",
    "    return -1  # Target not found\n",
    "\n",
    "# Example Usage\n",
    "nums = [4, 5, 6, 7, 0, 1, 2]\n",
    "target = 0\n",
    "print(search_rotated(nums, target))  # Output: 4\n",
    "\n",
    "nums = [4, 5, 6, 7, 0, 1, 2]\n",
    "target = 3\n",
    "print(search_rotated(nums, target))  # Output: -1 (not found)\n",
    "\n",
    "nums = [1]\n",
    "target = 1\n",
    "print(search_rotated(nums, target))  # Output: 0"
   ]
  },
  {
   "cell_type": "markdown",
   "id": "d4843979-6aa1-423b-a900-ccce0c055464",
   "metadata": {},
   "source": [
    "Problem 17: Find the peak element in an array. A peak element is greater than its neighbors.\n",
    "Input: nums = [1, 2, 3, 1]"
   ]
  },
  {
   "cell_type": "code",
   "execution_count": 58,
   "id": "e1f2b09a-600c-4245-9d44-162078a8379d",
   "metadata": {},
   "outputs": [
    {
     "name": "stdout",
     "output_type": "stream",
     "text": [
      "2\n",
      "5\n",
      "5\n"
     ]
    }
   ],
   "source": [
    "def find_peak_element(nums):\n",
    "    low, high = 0, len(nums) - 1\n",
    "\n",
    "    while low < high:\n",
    "        mid = (low + high) // 2\n",
    "\n",
    "        if nums[mid] > nums[mid + 1]:  \n",
    "            high = mid  # Move left\n",
    "        else:\n",
    "            low = mid + 1  # Move right\n",
    "\n",
    "    return low  # Peak index\n",
    "\n",
    "# Example Usage\n",
    "nums = [1, 2, 3, 1]\n",
    "print(find_peak_element(nums))  # Output: 2 (Peak element is 3)\n",
    "\n",
    "nums = [1, 2, 1, 3, 5, 6, 4]\n",
    "print(find_peak_element(nums))  # Output: 5 (Peak element is 6 or another valid peak)\n",
    "\n",
    "nums = [10, 20, 15, 2, 23, 90, 67]\n",
    "print(find_peak_element(nums))  # Output: 1 or 5 (Peak elements: 20 or 90)"
   ]
  },
  {
   "cell_type": "markdown",
   "id": "82f42883-24b3-4ee9-8cb4-d292a84de6be",
   "metadata": {},
   "source": [
    "Problem 18: Given a m x n matrix where each row and column is sorted in ascending order, count the number\n",
    "of negative numbers.\n",
    "Input: grid = [[4, 3, 2, -1], [3, 2, 1, -1], [1, 1, -1, -2], [-1, -1, -2, -3]]"
   ]
  },
  {
   "cell_type": "code",
   "execution_count": 61,
   "id": "efd6dcf6-09a6-4117-a797-d2a976b39bb6",
   "metadata": {},
   "outputs": [
    {
     "name": "stdout",
     "output_type": "stream",
     "text": [
      "8\n"
     ]
    }
   ],
   "source": [
    "def count_negatives(grid):\n",
    "    count = 0\n",
    "    for row in grid:\n",
    "        for num in row:\n",
    "            if num < 0:\n",
    "                count += 1\n",
    "    return count\n",
    "\n",
    "grid = [\n",
    "    [4, 3, 2, -1],\n",
    "    [3, 2, 1, -1],\n",
    "    [1, 1, -1, -2],\n",
    "    [-1, -1, -2, -3]\n",
    "]\n",
    "print(count_negatives(grid))  # Output: 8"
   ]
  },
  {
   "cell_type": "markdown",
   "id": "abfb0391-5d94-47ef-a513-9e7fd11f69f8",
   "metadata": {},
   "source": [
    "Problem 19: Given a 2D matrix sorted in ascending order in each row, and the first integer of each row is\n",
    "greater than the last integer of the previous row, determine if a target value is present in the matrix.\n",
    "Input: matrix = [[1, 3, 5, 7], [10, 11, 16, 20], [23, 30, 34, 60]], target = 3"
   ]
  },
  {
   "cell_type": "code",
   "execution_count": 68,
   "id": "6776ac22-6708-42fa-8109-3466215078a2",
   "metadata": {},
   "outputs": [
    {
     "name": "stdout",
     "output_type": "stream",
     "text": [
      "True\n",
      "False\n",
      "True\n"
     ]
    }
   ],
   "source": [
    "def search_matrix(matrix, target):\n",
    "    if not matrix or not matrix[0]:\n",
    "        return False\n",
    "\n",
    "    rows, cols = len(matrix), len(matrix[0])\n",
    "    left, right = 0, rows * cols - 1\n",
    "\n",
    "    while left <= right:\n",
    "        mid = (left + right) // 2\n",
    "        mid_value = matrix[mid // cols][mid % cols]  # Convert 1D index to 2D\n",
    "\n",
    "        if mid_value == target:\n",
    "            return True\n",
    "        elif mid_value < target:\n",
    "            left = mid + 1\n",
    "        else:\n",
    "            right = mid - 1\n",
    "\n",
    "    return False\n",
    "\n",
    "# Test Cases\n",
    "matrix = [\n",
    "    [1, 3, 5, 7],\n",
    "    [10, 11, 16, 20],\n",
    "    [23, 30, 34, 60]\n",
    "]\n",
    "print(search_matrix(matrix, 3))  # Output: True ✅\n",
    "print(search_matrix(matrix, 13))  # Output: False ✅\n",
    "print(search_matrix(matrix, 34))  # Output: True ✅\n"
   ]
  },
  {
   "cell_type": "markdown",
   "id": "15e8a809-a8b2-4386-b165-cfb17c99c9de",
   "metadata": {},
   "source": [
    "Problem 20: Find Median in Two Sorted Arrays\n",
    "Problem: Given two sorted arrays, find the median of the combined sorted array.\n",
    "Input: nums1 = [1, 3], nums2 = [2]"
   ]
  },
  {
   "cell_type": "code",
   "execution_count": 71,
   "id": "24527ee7-510a-45ac-8a35-2d23fc6ac6c5",
   "metadata": {},
   "outputs": [
    {
     "name": "stdout",
     "output_type": "stream",
     "text": [
      "2\n",
      "2.5\n"
     ]
    }
   ],
   "source": [
    "def find_median_sorted_arrays(nums1, nums2):\n",
    "    # Ensure nums1 is the smaller array\n",
    "    if len(nums1) > len(nums2):\n",
    "        nums1, nums2 = nums2, nums1  \n",
    "\n",
    "    x, y = len(nums1), len(nums2)\n",
    "    low, high = 0, x\n",
    "\n",
    "    while low <= high:\n",
    "        partitionX = (low + high) // 2\n",
    "        partitionY = (x + y + 1) // 2 - partitionX\n",
    "\n",
    "        # If partitionX is 0, no left elements; If partitionX is x, no right elements\n",
    "        maxLeftX = float('-inf') if partitionX == 0 else nums1[partitionX - 1]\n",
    "        minRightX = float('inf') if partitionX == x else nums1[partitionX]\n",
    "\n",
    "        maxLeftY = float('-inf') if partitionY == 0 else nums2[partitionY - 1]\n",
    "        minRightY = float('inf') if partitionY == y else nums2[partitionY]\n",
    "\n",
    "        if maxLeftX <= minRightY and maxLeftY <= minRightX:\n",
    "            # Odd length: max of left partition is the median\n",
    "            if (x + y) % 2 == 1:\n",
    "                return max(maxLeftX, maxLeftY)\n",
    "            # Even length: average of maxLeft and minRight\n",
    "            return (max(maxLeftX, maxLeftY) + min(minRightX, minRightY)) / 2\n",
    "        elif maxLeftX > minRightY:\n",
    "            high = partitionX - 1  # Move left\n",
    "        else:\n",
    "            low = partitionX + 1  # Move right\n",
    "\n",
    "# Test Cases\n",
    "nums1 = [1, 3]\n",
    "nums2 = [2]\n",
    "print(find_median_sorted_arrays(nums1, nums2))  # Output: 2 ✅\n",
    "\n",
    "nums1 = [1, 2]\n",
    "nums2 = [3, 4]\n",
    "print(find_median_sorted_arrays(nums1, nums2))  # Output: 2.5 ✅"
   ]
  },
  {
   "cell_type": "markdown",
   "id": "e4d41860-2a29-4d48-b2c0-4f8d0888403d",
   "metadata": {},
   "source": [
    "Problem 21: Given a sorted character array and a target letter, find the smallest letter in the array that is\n",
    "greater than the target.\n",
    "Input: letters = ['c', 'f', 'j'], target = a"
   ]
  },
  {
   "cell_type": "code",
   "execution_count": 74,
   "id": "5f18cfb3-b679-4fde-9719-60af350d0b49",
   "metadata": {},
   "outputs": [
    {
     "name": "stdout",
     "output_type": "stream",
     "text": [
      "c\n",
      "f\n",
      "f\n",
      "c\n"
     ]
    }
   ],
   "source": [
    "def nextGreatestLetter(letters, target):\n",
    "    low, high = 0, len(letters) - 1\n",
    "    \n",
    "    while low <= high:\n",
    "        mid = (low + high) // 2\n",
    "        if letters[mid] > target:\n",
    "            high = mid - 1  # Move left\n",
    "        else:\n",
    "            low = mid + 1  # Move right\n",
    "    \n",
    "    # If no character found, wrap around to the first element\n",
    "    return letters[low % len(letters)]\n",
    "\n",
    "# Test Cases\n",
    "letters = ['c', 'f', 'j']\n",
    "target = 'a'\n",
    "print(nextGreatestLetter(letters, target))  # Output: 'c' ✅\n",
    "\n",
    "target = 'c'\n",
    "print(nextGreatestLetter(letters, target))  # Output: 'f' ✅\n",
    "\n",
    "target = 'd'\n",
    "print(nextGreatestLetter(letters, target))  # Output: 'f' ✅\n",
    "\n",
    "target = 'j'\n",
    "print(nextGreatestLetter(letters, target))  # Output: 'c' (wraps around) ✅"
   ]
  },
  {
   "cell_type": "markdown",
   "id": "adacc5c0-6482-4708-915f-a5f3b5a133d0",
   "metadata": {},
   "source": [
    "Problem 22: Given an array with n objects colored red, white, or blue, sort them in-place so that objects of\n",
    "the same color are adjacent, with the colors in the order red, white, and blue.\n",
    "Input: nums = [2, 0, 2, 1, 1, 0]"
   ]
  },
  {
   "cell_type": "code",
   "execution_count": 78,
   "id": "ce996726-08a9-444f-80d7-0b820343d7b0",
   "metadata": {},
   "outputs": [
    {
     "name": "stdout",
     "output_type": "stream",
     "text": [
      "[0, 0, 1, 1, 2, 2]\n"
     ]
    }
   ],
   "source": [
    "def sortColors(nums):\n",
    "    low, mid, high = 0, 0, len(nums) - 1\n",
    "    \n",
    "    while mid <= high:\n",
    "        if nums[mid] == 0:  # Move 0s to the front\n",
    "            nums[low], nums[mid] = nums[mid], nums[low]\n",
    "            low += 1\n",
    "            mid += 1\n",
    "        elif nums[mid] == 1:  # Leave 1s in place\n",
    "            mid += 1\n",
    "        else:  # Move 2s to the end\n",
    "            nums[mid], nums[high] = nums[high], nums[mid]\n",
    "            high -= 1  # Don't move `mid` here, since swapped value needs checking\n",
    "\n",
    "# Test Case\n",
    "nums = [2, 0, 2, 1, 1, 0]\n",
    "sortColors(nums)\n",
    "print(nums)  # Output: [0, 0, 1, 1, 2, 2] ✅"
   ]
  },
  {
   "cell_type": "markdown",
   "id": "27816615-20f2-43dc-80ae-ff69f5eb25f5",
   "metadata": {},
   "source": [
    "Problem 23: Find the kth largest element in an unsorted array.\n",
    "Input: nums = [3, 2, 1, 5, 6, 4], k = 2"
   ]
  },
  {
   "cell_type": "code",
   "execution_count": 81,
   "id": "49045699-5c13-4fb1-abc7-33bd8e0a5ee4",
   "metadata": {},
   "outputs": [
    {
     "name": "stdout",
     "output_type": "stream",
     "text": [
      "5\n"
     ]
    }
   ],
   "source": [
    "import heapq\n",
    "\n",
    "def findKthLargest(nums, k):\n",
    "    min_heap = []\n",
    "    for num in nums:\n",
    "        heapq.heappush(min_heap, num)\n",
    "        if len(min_heap) > k:\n",
    "            heapq.heappop(min_heap)\n",
    "    return heapq.heappop(min_heap)  # k-th largest\n",
    "\n",
    "# Test Case\n",
    "nums = [3, 2, 1, 5, 6, 4]\n",
    "k = 2\n",
    "print(findKthLargest(nums, k))  # Output: 5 ✅"
   ]
  },
  {
   "cell_type": "markdown",
   "id": "1cfdb20e-2e0e-4530-adaf-3fd2e1ac857b",
   "metadata": {},
   "source": [
    "Problem 24: Given an unsorted array, reorder it in-place such that nums[0] <= nums[1] >= nums[2] <=\n",
    "nums[3]...\n",
    "Input: nums = [3, 5, 2, 1, 6, 4]"
   ]
  },
  {
   "cell_type": "code",
   "execution_count": 84,
   "id": "e1e25c66-534b-4b0f-aa0c-2484d413dc22",
   "metadata": {},
   "outputs": [
    {
     "name": "stdout",
     "output_type": "stream",
     "text": [
      "[3, 5, 1, 6, 2, 4]\n"
     ]
    }
   ],
   "source": [
    "def wiggleSort(nums):\n",
    "    for i in range(1, len(nums)):\n",
    "        if (i % 2 == 1 and nums[i] < nums[i-1]) or (i % 2 == 0 and nums[i] > nums[i-1]):\n",
    "            nums[i], nums[i-1] = nums[i-1], nums[i]  # Swap elements\n",
    "\n",
    "# Test Case\n",
    "nums = [3, 5, 2, 1, 6, 4]\n",
    "wiggleSort(nums)\n",
    "print(nums)  # Example Output: [3, 5, 1, 6, 2, 4]\n"
   ]
  },
  {
   "cell_type": "markdown",
   "id": "9214d2c4-ac94-42b5-b661-2c2b545f60c0",
   "metadata": {},
   "source": [
    "Problem 25: Given an array of integers, calculate the sum of all its elements.\n",
    "Input: [1, 2, 3, 4, 5]"
   ]
  },
  {
   "cell_type": "code",
   "execution_count": 87,
   "id": "f50b637e-b733-49c7-93c1-ac7f8100a026",
   "metadata": {},
   "outputs": [
    {
     "name": "stdout",
     "output_type": "stream",
     "text": [
      "15\n"
     ]
    }
   ],
   "source": [
    "def array_sum(nums):\n",
    "    return sum(nums)\n",
    "\n",
    "# Test Case\n",
    "nums = [1, 2, 3, 4, 5]\n",
    "print(array_sum(nums))  # Output: 15\n"
   ]
  },
  {
   "cell_type": "markdown",
   "id": "89554cf2-169c-4b16-b055-b349977e312d",
   "metadata": {},
   "source": [
    "Problem 26: Find the maximum element in an array of integers.\n",
    "Input: [3, 7, 2, 9, 4, 1]"
   ]
  },
  {
   "cell_type": "code",
   "execution_count": 91,
   "id": "fe76b9f7-6e2a-4914-8d7a-3563c4946943",
   "metadata": {},
   "outputs": [
    {
     "name": "stdout",
     "output_type": "stream",
     "text": [
      "9\n"
     ]
    }
   ],
   "source": [
    "def find_max(nums):\n",
    "    return max(nums)\n",
    "\n",
    "# Test Case\n",
    "nums = [3, 7, 2, 9, 4, 1]\n",
    "print(find_max(nums))  # Output: 9\n"
   ]
  },
  {
   "cell_type": "markdown",
   "id": "d0320422-bc6f-4142-9d4d-fcdad2a8f19c",
   "metadata": {},
   "source": [
    "Problem 27: Implement linear search to find the index of a target element in an array.\n",
    "Input: [5, 3, 8, 2, 7, 4], target = 8"
   ]
  },
  {
   "cell_type": "code",
   "execution_count": 94,
   "id": "ab2e2644-ffaa-4e89-8325-cc27445f636b",
   "metadata": {},
   "outputs": [
    {
     "name": "stdout",
     "output_type": "stream",
     "text": [
      "2\n"
     ]
    }
   ],
   "source": [
    "def linear_search(nums, target):\n",
    "    for i in range(len(nums)):\n",
    "        if nums[i] == target:\n",
    "            return i  # Return index if target found\n",
    "    return -1  # Return -1 if target is not in the array\n",
    "\n",
    "# Test Case\n",
    "nums = [5, 3, 8, 2, 7, 4]\n",
    "target = 8\n",
    "print(linear_search(nums, target))  # Output: 2\n"
   ]
  },
  {
   "cell_type": "markdown",
   "id": "39f99758-ce20-4b95-8af3-d6db5ae1eb27",
   "metadata": {},
   "source": [
    "Problem 28 Calculate the factorial of a given number.\n",
    "Input: 5"
   ]
  },
  {
   "cell_type": "code",
   "execution_count": 97,
   "id": "eabdfc08-3472-4197-9447-1ad8b8cf299d",
   "metadata": {},
   "outputs": [
    {
     "name": "stdout",
     "output_type": "stream",
     "text": [
      "120\n"
     ]
    }
   ],
   "source": [
    "def factorial_iterative(n):\n",
    "    if n < 0:\n",
    "        return \"Factorial is not defined for negative numbers\"\n",
    "    result = 1\n",
    "    for i in range(2, n + 1):\n",
    "        result *= i\n",
    "    return result\n",
    "\n",
    "# Test Case\n",
    "print(factorial_iterative(5))  # Output: 120\n"
   ]
  },
  {
   "cell_type": "markdown",
   "id": "321043d5-87e5-487c-ba0d-382a7bd77a73",
   "metadata": {},
   "source": [
    "Problem 29: Check if a given number is a prime number.\n",
    "Input: 7"
   ]
  },
  {
   "cell_type": "code",
   "execution_count": 100,
   "id": "a2edb455-be1c-491d-93d3-5ba77feeb4b2",
   "metadata": {},
   "outputs": [
    {
     "name": "stdout",
     "output_type": "stream",
     "text": [
      "True\n"
     ]
    }
   ],
   "source": [
    "def is_prime(n):\n",
    "    if n <= 1:\n",
    "        return False\n",
    "    for i in range(2, n):\n",
    "        if n % i == 0:\n",
    "            return False\n",
    "    return True\n",
    "\n",
    "# Test Case\n",
    "print(is_prime(7))  # Output: True\n"
   ]
  },
  {
   "cell_type": "markdown",
   "id": "ccabeb85-4b47-4ea1-aeee-7fa9b75aeb0c",
   "metadata": {},
   "source": [
    "Problem 30: Generate the Fibonacci series up to a given number n.\n",
    "Input: 8"
   ]
  },
  {
   "cell_type": "code",
   "execution_count": 103,
   "id": "c566ccfd-ddde-462e-8af1-f0d76e7793d3",
   "metadata": {},
   "outputs": [
    {
     "name": "stdout",
     "output_type": "stream",
     "text": [
      "[0, 1, 1, 2, 3, 5, 8, 13]\n"
     ]
    }
   ],
   "source": [
    "def fibonacci_recursive(n, fib_series=[0, 1]):\n",
    "    if len(fib_series) >= n:\n",
    "        return fib_series[:n]\n",
    "    fib_series.append(fib_series[-1] + fib_series[-2])\n",
    "    return fibonacci_recursive(n, fib_series)\n",
    "\n",
    "# Test Case\n",
    "print(fibonacci_recursive(8))  # Output: [0, 1, 1, 2, 3, 5, 8, 13]\n"
   ]
  },
  {
   "cell_type": "markdown",
   "id": "4e82252a-beb7-4061-9023-c410fc6e906b",
   "metadata": {},
   "source": [
    "Problem 31: Calculate the power of a number using recursion.\n",
    "Input: base = 3, exponent = 4"
   ]
  },
  {
   "cell_type": "code",
   "execution_count": 106,
   "id": "fbf20476-8b5c-429e-af21-10c778dfe0d7",
   "metadata": {},
   "outputs": [
    {
     "name": "stdout",
     "output_type": "stream",
     "text": [
      "81\n"
     ]
    }
   ],
   "source": [
    "def power_recursive(base, exponent):\n",
    "    if exponent == 0:\n",
    "        return 1\n",
    "    return base * power_recursive(base, exponent - 1)\n",
    "\n",
    "# Test Case\n",
    "print(power_recursive(3, 4))  # Output: 81\n"
   ]
  },
  {
   "cell_type": "markdown",
   "id": "560fac10-6b41-4ad2-b142-ebbf0fdecb7d",
   "metadata": {},
   "source": [
    "Problem 32: Reverse a given string.\n",
    "Input: \"hello\""
   ]
  },
  {
   "cell_type": "code",
   "execution_count": 109,
   "id": "2ef00ab5-bb61-42d2-8605-37fb8295479f",
   "metadata": {},
   "outputs": [
    {
     "name": "stdout",
     "output_type": "stream",
     "text": [
      "olleh\n",
      "olleh\n"
     ]
    }
   ],
   "source": [
    "def reverse_string(s):\n",
    "    return s[::-1]\n",
    "\n",
    "# Test Case\n",
    "print(reverse_string(\"hello\"))  # Output: \"olleh\"\n",
    "def reverse_string(s):\n",
    "    return s[::-1]\n",
    "\n",
    "# Test Case\n",
    "print(reverse_string(\"hello\"))  # Output: \"olleh\"\n"
   ]
  }
 ],
 "metadata": {
  "kernelspec": {
   "display_name": "Python 3 (ipykernel)",
   "language": "python",
   "name": "python3"
  },
  "language_info": {
   "codemirror_mode": {
    "name": "ipython",
    "version": 3
   },
   "file_extension": ".py",
   "mimetype": "text/x-python",
   "name": "python",
   "nbconvert_exporter": "python",
   "pygments_lexer": "ipython3",
   "version": "3.12.7"
  }
 },
 "nbformat": 4,
 "nbformat_minor": 5
}
