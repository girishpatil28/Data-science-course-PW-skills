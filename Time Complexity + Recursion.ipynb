{
 "cells": [
  {
   "cell_type": "markdown",
   "id": "27735701-b661-49b3-9ddc-a7e6b554fa9b",
   "metadata": {},
   "source": [
    "# time complexity"
   ]
  },
  {
   "cell_type": "markdown",
   "id": "7899ffd8-e8cd-472e-b751-5ce2f1079df9",
   "metadata": {},
   "source": [
    "Problem 1 :\n",
    "\n",
    "def quicksort(arr):\n",
    "\n",
    "if len(arr) <= 1:\n",
    "\n",
    "return arr\n",
    "\n",
    "pivot = arr[len(arr) // 2]\n",
    "\n",
    "left = [x for x in arr if x < pivot]\n",
    "\n",
    "middle = [x for x in arr if x == pivot]\n",
    "\n",
    "right = [x for x in arr if x > pivot]\n",
    "\n",
    "return quicksort(left) + middle + quicksort(right)"
   ]
  },
  {
   "cell_type": "code",
   "execution_count": 4,
   "id": "eee07ce3-7ad1-4622-8c85-09f4dcb9c481",
   "metadata": {},
   "outputs": [
    {
     "name": "stdout",
     "output_type": "stream",
     "text": [
      "Sorted Array: [1, 5, 7, 8, 9, 10]\n"
     ]
    }
   ],
   "source": [
    "import random\n",
    "\n",
    "def quicksort(arr):\n",
    "    if len(arr) <= 1:\n",
    "        return arr\n",
    "    pivot = random.choice(arr)  # Randomized pivot selection\n",
    "    left = [x for x in arr if x < pivot]\n",
    "    middle = [x for x in arr if x == pivot]\n",
    "    right = [x for x in arr if x > pivot]\n",
    "    return quicksort(left) + middle + quicksort(right)\n",
    "\n",
    "# Example Usage\n",
    "arr = [10, 7, 8, 9, 1, 5]\n",
    "sorted_arr = quicksort(arr)\n",
    "print(\"Sorted Array:\", sorted_arr)\n"
   ]
  },
  {
   "cell_type": "raw",
   "id": "bbfa85ae-0717-49d4-a3d5-b12b051e7791",
   "metadata": {},
   "source": [
    "Problem 2 :\n",
    "def nested_loop_example(matrix):\n",
    "rows, cols = len(matrix), len(matrix[0])\n",
    "total = 0\n",
    "for i in range(rows):\n",
    "for j in range(cols):\n",
    "total += matrix[i][j]\n",
    "return total"
   ]
  },
  {
   "cell_type": "code",
   "execution_count": 6,
   "id": "1e0e9618-631f-4ef1-bc8b-844404b3e669",
   "metadata": {},
   "outputs": [
    {
     "name": "stdout",
     "output_type": "stream",
     "text": [
      "Total Sum: 45\n"
     ]
    }
   ],
   "source": [
    "def nested_loop_example(matrix):\n",
    "    rows, cols = len(matrix), len(matrix[0])\n",
    "    total = 0\n",
    "    for i in range(rows):\n",
    "        for j in range(cols):\n",
    "            total += matrix[i][j]\n",
    "    return total\n",
    "\n",
    "# Example Usage\n",
    "matrix = [[1, 2, 3], [4, 5, 6], [7, 8, 9]]  # 3x3 matrix\n",
    "print(\"Total Sum:\", nested_loop_example(matrix))  # Output: 45\n"
   ]
  },
  {
   "cell_type": "raw",
   "id": "98180012-9aaa-4ac4-aad6-c7f038050d10",
   "metadata": {},
   "source": [
    "Problem 3 :\n",
    "def example_function(arr):\n",
    "result = 0\n",
    "for element in arr:\n",
    "result += element\n",
    "return result"
   ]
  },
  {
   "cell_type": "code",
   "execution_count": 8,
   "id": "00e18209-4a5a-4450-a14a-03fc127ea433",
   "metadata": {},
   "outputs": [
    {
     "name": "stdout",
     "output_type": "stream",
     "text": [
      "Sum: 15\n"
     ]
    }
   ],
   "source": [
    "def example_function(arr):\n",
    "    result = 0\n",
    "    for element in arr:\n",
    "        result += element\n",
    "    return result\n",
    "\n",
    "# Example Usage\n",
    "arr = [1, 2, 3, 4, 5]\n",
    "print(\"Sum:\", example_function(arr))  # Output: 15\n"
   ]
  },
  {
   "cell_type": "raw",
   "id": "32d779bf-895f-430b-a25c-1b2599586a1d",
   "metadata": {},
   "source": [
    "Problem 4 :\n",
    "def longest_increasing_subsequence(nums):\n",
    "n = len(nums)\n",
    "lis = [1] * n\n",
    "for i in range(1, n):\n",
    "for j in range(0, i):\n",
    "if nums[i] > nums[j] and lis[i] < lis[j] + 1:\n",
    "lis[i] = lis[j] + 1\n",
    "return max(lis)"
   ]
  },
  {
   "cell_type": "code",
   "execution_count": 10,
   "id": "90bbfe4e-18f5-45f5-9ccd-767292b137a3",
   "metadata": {},
   "outputs": [
    {
     "name": "stdout",
     "output_type": "stream",
     "text": [
      "Length of LIS: 5\n"
     ]
    }
   ],
   "source": [
    "import bisect\n",
    "\n",
    "def longest_increasing_subsequence(nums):\n",
    "    sub = []  # Stores the increasing subsequence\n",
    "    for num in nums:\n",
    "        pos = bisect.bisect_left(sub, num)  # Binary search for the position\n",
    "        if pos == len(sub):\n",
    "            sub.append(num)  # Extend subsequence\n",
    "        else:\n",
    "            sub[pos] = num  # Replace the element\n",
    "    return len(sub)\n",
    "\n",
    "# Example Usage\n",
    "nums = [10, 22, 9, 33, 21, 50, 41, 60]\n",
    "print(\"Length of LIS:\", longest_increasing_subsequence(nums))  # Output: 5\n"
   ]
  },
  {
   "cell_type": "raw",
   "id": "721b9211-3a38-4523-a14b-fee56e4dfcda",
   "metadata": {},
   "source": [
    "Problem 5 :\n",
    "def mysterious_function(arr):\n",
    "n = len(arr)\n",
    "result = 0\n",
    "for i in range(n):\n",
    "for j in range(i, n):\n",
    "result += arr[i] * arr[j]\n",
    "return resultS"
   ]
  },
  {
   "cell_type": "code",
   "execution_count": 12,
   "id": "194f0a59-bc35-4ae8-88d8-ab3620e5a86f",
   "metadata": {},
   "outputs": [
    {
     "name": "stdout",
     "output_type": "stream",
     "text": [
      "Result: 25\n"
     ]
    }
   ],
   "source": [
    "def mysterious_function(arr):\n",
    "    n = len(arr)\n",
    "    result = 0\n",
    "    for i in range(n):\n",
    "        for j in range(i, n):\n",
    "            result += arr[i] * arr[j]\n",
    "    return result\n",
    "\n",
    "# Example Usage\n",
    "arr = [1, 2, 3]\n",
    "print(\"Result:\", mysterious_function(arr))  # Output: 19\n"
   ]
  },
  {
   "cell_type": "raw",
   "id": "f5e906c4-76fb-4463-8dfb-eb7d7757144a",
   "metadata": {},
   "source": [
    "Problem 6 : Sum of Digits\n",
    "Write a recursive function to calculate the sum of digits of a given positive integer.\n",
    "sum_of_digits(123) -> 6"
   ]
  },
  {
   "cell_type": "code",
   "execution_count": 14,
   "id": "00e88560-21bf-42b0-82ce-4f257aea9878",
   "metadata": {},
   "outputs": [
    {
     "name": "stdout",
     "output_type": "stream",
     "text": [
      "6\n",
      "30\n"
     ]
    }
   ],
   "source": [
    "def sum_of_digits(n):\n",
    "    if n < 10:  # Base case: single digit\n",
    "        return n\n",
    "    return (n % 10) + sum_of_digits(n // 10)  # Recursive case\n",
    "\n",
    "# Example Usage\n",
    "print(sum_of_digits(123))  # Output: 6\n",
    "print(sum_of_digits(9876))  # Output: 30\n"
   ]
  },
  {
   "cell_type": "raw",
   "id": "ac63add6-af0e-4a3f-a7e3-4445d6973ba2",
   "metadata": {},
   "source": [
    "Problem 7: Fibonacci Series\n",
    "Write a recursive function to generate the first n numbers of the Fibonacci series.\n",
    "fibonacci_series(6) -> [0, 1, 1, 2, 3, 5]"
   ]
  },
  {
   "cell_type": "code",
   "execution_count": 16,
   "id": "47c0ccdd-b99f-4b5f-8aa0-62b8691812bf",
   "metadata": {},
   "outputs": [
    {
     "name": "stdout",
     "output_type": "stream",
     "text": [
      "[0, 1, 1, 2, 3, 5]\n"
     ]
    }
   ],
   "source": [
    "def fibonacci_recursive(n):\n",
    "    if n <= 0:\n",
    "        return []\n",
    "    if n == 1:\n",
    "        return [0]\n",
    "    if n == 2:\n",
    "        return [0, 1]\n",
    "    \n",
    "    # Recursively generate the first (n-1) Fibonacci numbers\n",
    "    fib_series = fibonacci_recursive(n - 1)\n",
    "    fib_series.append(fib_series[-1] + fib_series[-2])  # Append next Fibonacci number\n",
    "    return fib_series\n",
    "\n",
    "# Example Usage\n",
    "print(fibonacci_recursive(6))  # Output: [0, 1, 1, 2, 3, 5]"
   ]
  },
  {
   "cell_type": "raw",
   "id": "22d8118c-ce12-452d-90ce-02c16d6938ed",
   "metadata": {},
   "source": [
    "Problem 8 : Subset Sum\n",
    "Given a set of positive integers and a target sum, write a recursive function to determine if there exists a subset\n",
    "of the integers that adds up to the target sum.\n",
    "subset_sum([3, 34, 4, 12, 5, 2], 9) -> True"
   ]
  },
  {
   "cell_type": "code",
   "execution_count": 18,
   "id": "8b185a05-7f96-4ffa-9d8b-7d726789b795",
   "metadata": {},
   "outputs": [
    {
     "name": "stdout",
     "output_type": "stream",
     "text": [
      "True\n",
      "False\n"
     ]
    }
   ],
   "source": [
    "def subset_sum(arr, target_sum):\n",
    "    # Base Cases\n",
    "    if target_sum == 0:\n",
    "        return True\n",
    "    if not arr:  # If array is empty and target is not 0\n",
    "        return False\n",
    "    \n",
    "    # If the last element is greater than target_sum, ignore it\n",
    "    if arr[-1] > target_sum:\n",
    "        return subset_sum(arr[:-1], target_sum)\n",
    "    \n",
    "    # Recursively check: (1) Including last element, (2) Excluding last element\n",
    "    return subset_sum(arr[:-1], target_sum) or subset_sum(arr[:-1], target_sum - arr[-1])\n",
    "\n",
    "# Example Usage\n",
    "print(subset_sum([3, 34, 4, 12, 5, 2], 9))  # Output: True\n",
    "print(subset_sum([3, 34, 4, 12, 5, 2], 30)) # Output: False"
   ]
  },
  {
   "cell_type": "raw",
   "id": "9458c0f2-e314-4372-9622-c543ec40c89a",
   "metadata": {},
   "source": [
    "Problem 9: Word Break\n",
    "Given a non-empty string and a dictionary of words, write a recursive function to determine if the string can be\n",
    "segmented into a space-separated sequence of dictionary words.\n",
    "word_break( leetcode , [ leet , code ]) -> True"
   ]
  },
  {
   "cell_type": "code",
   "execution_count": 20,
   "id": "539cdf66-099a-449a-a26f-2637598980e4",
   "metadata": {},
   "outputs": [
    {
     "name": "stdout",
     "output_type": "stream",
     "text": [
      "True\n",
      "True\n",
      "False\n"
     ]
    }
   ],
   "source": [
    "def word_break(s, word_dict):\n",
    "    if not s:\n",
    "        return True  # Base case: empty string is always breakable\n",
    "\n",
    "    for i in range(1, len(s) + 1):\n",
    "        prefix = s[:i]\n",
    "        if prefix in word_dict and word_break(s[i:], word_dict):\n",
    "            return True\n",
    "\n",
    "    return False  # No valid segmentation found\n",
    "\n",
    "# Example Usage\n",
    "print(word_break(\"leetcode\", {\"leet\", \"code\"}))  # Output: True\n",
    "print(word_break(\"applepenapple\", {\"apple\", \"pen\"}))  # Output: True\n",
    "print(word_break(\"catsandog\", {\"cats\", \"dog\", \"sand\", \"and\", \"cat\"}))  # Output: False"
   ]
  },
  {
   "cell_type": "raw",
   "id": "5a793138-cf10-4dd4-90a3-646f6167c889",
   "metadata": {},
   "source": [
    "Problem 10 : N-Queens\n",
    "Implement a recursive function to solve the N Queens problem, where you have to place N queens on an N×N\n",
    "chessboard in such a way that no two queens threaten each other.\n",
    "n_queens(4)\n",
    "[\n",
    "[\".Q..\",\n",
    "\"...Q\",\n",
    "\"Q...\",\n",
    "\"..Q.\"],\n",
    "[\"..Q.\",\n",
    "\"Q...\",\n",
    "\"...Q\",\n",
    "\".Q..\"]\n",
    "]"
   ]
  },
  {
   "cell_type": "code",
   "execution_count": 22,
   "id": "db11183a-5ce3-434d-8bfe-694d8f4c977e",
   "metadata": {},
   "outputs": [
    {
     "name": "stdout",
     "output_type": "stream",
     "text": [
      ".Q..\n",
      "...Q\n",
      "Q...\n",
      "..Q.\n",
      "\n",
      "..Q.\n",
      "Q...\n",
      "...Q\n",
      ".Q..\n",
      "\n"
     ]
    }
   ],
   "source": [
    "def solve_n_queens(n):\n",
    "    def is_safe(board, row, col):\n",
    "        # Check if a queen can be placed at board[row][col]\n",
    "        for i in range(row):  # Check column (above)\n",
    "            if board[i] == col:\n",
    "                return False\n",
    "        for i, j in zip(range(row - 1, -1, -1), range(col - 1, -1, -1)):  # Check upper-left diagonal\n",
    "            if board[i] == j:\n",
    "                return False\n",
    "        for i, j in zip(range(row - 1, -1, -1), range(col + 1, n)):  # Check upper-right diagonal\n",
    "            if board[i] == j:\n",
    "                return False\n",
    "        return True\n",
    "\n",
    "    def backtrack(row, board, results):\n",
    "        if row == n:  # All queens placed successfully\n",
    "            results.append([\".\" * c + \"Q\" + \".\" * (n - c - 1) for c in board])\n",
    "            return\n",
    "        for col in range(n):\n",
    "            if is_safe(board, row, col):\n",
    "                board[row] = col  # Place queen\n",
    "                backtrack(row + 1, board, results)  # Try next row\n",
    "                board[row] = -1  # Remove queen (backtrack)\n",
    "\n",
    "    results = []\n",
    "    board = [-1] * n  # Track queen positions in each row\n",
    "    backtrack(0, board, results)\n",
    "    return results\n",
    "\n",
    "# Example Usage\n",
    "solutions = solve_n_queens(4)\n",
    "for sol in solutions:\n",
    "    for row in sol:\n",
    "        print(row)\n",
    "    print()"
   ]
  }
 ],
 "metadata": {
  "kernelspec": {
   "display_name": "Python 3 (ipykernel)",
   "language": "python",
   "name": "python3"
  },
  "language_info": {
   "codemirror_mode": {
    "name": "ipython",
    "version": 3
   },
   "file_extension": ".py",
   "mimetype": "text/x-python",
   "name": "python",
   "nbconvert_exporter": "python",
   "pygments_lexer": "ipython3",
   "version": "3.12.7"
  }
 },
 "nbformat": 4,
 "nbformat_minor": 5
}
