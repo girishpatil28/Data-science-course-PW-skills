{
 "cells": [
  {
   "cell_type": "markdown",
   "id": "d23392df-86c0-43ec-addf-cf5a038847fe",
   "metadata": {},
   "source": [
    "# Assignment - 1:Oops"
   ]
  },
  {
   "cell_type": "markdown",
   "id": "89e2a63d-cf6c-451a-8ad0-8765ca927c2d",
   "metadata": {},
   "source": [
    "Problem 1: Bank Account Create a class representing a bank account with attributes like account number, account holder name, and balance. Implement methods to deposit and withdraw money from the account."
   ]
  },
  {
   "cell_type": "code",
   "execution_count": 2,
   "id": "a40bc351-b051-442b-9d97-00af1ae1618f",
   "metadata": {},
   "outputs": [
    {
     "name": "stdout",
     "output_type": "stream",
     "text": [
      "Deposited: $500. New Balance: $1500\n",
      "Withdrawn: $200. New Balance: $1300\n",
      "Account No: 101, Holder: Alice, Balance: $1300\n"
     ]
    }
   ],
   "source": [
    "class BankAccount:\n",
    "    def __init__(self, account_number, holder_name, balance=0.0):\n",
    "        self.account_number = account_number\n",
    "        self.holder_name = holder_name\n",
    "        self.balance = balance\n",
    "\n",
    "    def deposit(self, amount):\n",
    "        if amount > 0:\n",
    "            self.balance += amount\n",
    "            print(f\"Deposited: ${amount}. New Balance: ${self.balance}\")\n",
    "        else:\n",
    "            print(\"Deposit amount must be positive.\")\n",
    "\n",
    "    def withdraw(self, amount):\n",
    "        if 0 < amount <= self.balance:\n",
    "            self.balance -= amount\n",
    "            print(f\"Withdrawn: ${amount}. New Balance: ${self.balance}\")\n",
    "        else:\n",
    "            print(\"Insufficient balance or invalid amount.\")\n",
    "\n",
    "    def display(self):\n",
    "        print(f\"Account No: {self.account_number}, Holder: {self.holder_name}, Balance: ${self.balance}\")\n",
    "\n",
    "# Example Usage\n",
    "account = BankAccount(101, \"Alice\", 1000)\n",
    "account.deposit(500)\n",
    "account.withdraw(200)\n",
    "account.display()\n"
   ]
  },
  {
   "cell_type": "markdown",
   "id": "eff7b4f0-8042-469d-b738-aff423bc119c",
   "metadata": {},
   "source": [
    "Problem 2: Employee Management Create a class representing an employee with attributes like employee ID, name, and salary. Implement methods to calculate the yearly bonus and display employee details."
   ]
  },
  {
   "cell_type": "code",
   "execution_count": 5,
   "id": "cefeca2c-7345-49be-a957-bba36e8878c9",
   "metadata": {},
   "outputs": [
    {
     "name": "stdout",
     "output_type": "stream",
     "text": [
      "Employee ID: 1001, Name: John Doe, Salary: $50000, Yearly Bonus: $5000.0\n"
     ]
    }
   ],
   "source": [
    "class Employee:\n",
    "    def __init__(self, emp_id, name, salary):\n",
    "        self.emp_id = emp_id\n",
    "        self.name = name\n",
    "        self.salary = salary\n",
    "\n",
    "    def yearly_bonus(self, percentage=10):\n",
    "        return self.salary * (percentage / 100)\n",
    "\n",
    "    def display(self):\n",
    "        print(f\"Employee ID: {self.emp_id}, Name: {self.name}, Salary: ${self.salary}, Yearly Bonus: ${self.yearly_bonus()}\")\n",
    "\n",
    "# Example Usage\n",
    "employee = Employee(1001, \"John Doe\", 50000)\n",
    "employee.display()\n"
   ]
  },
  {
   "cell_type": "markdown",
   "id": "9325b7ec-a05f-48ea-98f4-024ce9abd8ef",
   "metadata": {},
   "source": [
    "Problem 3: Vehicle Rental Create a class representing a vehicle rental system. Implement methods to rent a vehicle, return a vehicle, and display available vehicles."
   ]
  },
  {
   "cell_type": "code",
   "execution_count": 8,
   "id": "21511772-95c6-480d-b63e-7e114c96ab00",
   "metadata": {},
   "outputs": [
    {
     "name": "stdout",
     "output_type": "stream",
     "text": [
      "Car rented successfully!\n",
      "Car returned successfully!\n",
      "Available Vehicles:\n",
      "Car: 5\n",
      "Bike: 10\n",
      "Truck: 2\n"
     ]
    }
   ],
   "source": [
    "class VehicleRental:\n",
    "    def __init__(self):\n",
    "        self.vehicles = {\"Car\": 5, \"Bike\": 10, \"Truck\": 2}\n",
    "\n",
    "    def rent_vehicle(self, vehicle_type):\n",
    "        if self.vehicles.get(vehicle_type, 0) > 0:\n",
    "            self.vehicles[vehicle_type] -= 1\n",
    "            print(f\"{vehicle_type} rented successfully!\")\n",
    "        else:\n",
    "            print(f\"Sorry, {vehicle_type} is not available.\")\n",
    "\n",
    "    def return_vehicle(self, vehicle_type):\n",
    "        if vehicle_type in self.vehicles:\n",
    "            self.vehicles[vehicle_type] += 1\n",
    "            print(f\"{vehicle_type} returned successfully!\")\n",
    "        else:\n",
    "            print(f\"Invalid vehicle type.\")\n",
    "\n",
    "    def display_available_vehicles(self):\n",
    "        print(\"Available Vehicles:\")\n",
    "        for vehicle, count in self.vehicles.items():\n",
    "            print(f\"{vehicle}: {count}\")\n",
    "\n",
    "# Example Usage\n",
    "rental = VehicleRental()\n",
    "rental.rent_vehicle(\"Car\")\n",
    "rental.return_vehicle(\"Car\")\n",
    "rental.display_available_vehicles()\n"
   ]
  },
  {
   "cell_type": "markdown",
   "id": "34228cf2-9f13-4456-98c7-7e7506fb8ec1",
   "metadata": {},
   "source": [
    "Problem 4: Library Catalog Create classes representing a library and a book. Implement methods to add books to the library, borrow books, and display available books."
   ]
  },
  {
   "cell_type": "code",
   "execution_count": 11,
   "id": "1906eb02-61b1-4c59-91ec-fca9f69d7c4c",
   "metadata": {},
   "outputs": [
    {
     "name": "stdout",
     "output_type": "stream",
     "text": [
      "You borrowed 'Python Basics'\n",
      "Available Books:\n",
      "Data Science by Jane Doe\n"
     ]
    }
   ],
   "source": [
    "class Book:\n",
    "    def __init__(self, title, author):\n",
    "        self.title = title\n",
    "        self.author = author\n",
    "        self.is_borrowed = False\n",
    "\n",
    "class Library:\n",
    "    def __init__(self):\n",
    "        self.books = []\n",
    "\n",
    "    def add_book(self, book):\n",
    "        self.books.append(book)\n",
    "\n",
    "    def borrow_book(self, title):\n",
    "        for book in self.books:\n",
    "            if book.title == title and not book.is_borrowed:\n",
    "                book.is_borrowed = True\n",
    "                print(f\"You borrowed '{title}'\")\n",
    "                return\n",
    "        print(f\"'{title}' is not available.\")\n",
    "\n",
    "    def display_available_books(self):\n",
    "        print(\"Available Books:\")\n",
    "        for book in self.books:\n",
    "            if not book.is_borrowed:\n",
    "                print(f\"{book.title} by {book.author}\")\n",
    "\n",
    "# Example Usage\n",
    "library = Library()\n",
    "library.add_book(Book(\"Python Basics\", \"John Smith\"))\n",
    "library.add_book(Book(\"Data Science\", \"Jane Doe\"))\n",
    "library.borrow_book(\"Python Basics\")\n",
    "library.display_available_books()\n"
   ]
  },
  {
   "cell_type": "markdown",
   "id": "ca0a08d5-32d1-49ba-80dd-8f473150c67e",
   "metadata": {},
   "source": [
    "Problem 5: Product Inventory Create classes representing a product and an inventory system. Implement methods to add products to the inventory, update product quantity, and display available products."
   ]
  },
  {
   "cell_type": "code",
   "execution_count": 14,
   "id": "04ab4768-8f62-4fec-88c2-cc03cbdebcc3",
   "metadata": {},
   "outputs": [
    {
     "name": "stdout",
     "output_type": "stream",
     "text": [
      "Available Products:\n",
      "Laptop: 8\n"
     ]
    }
   ],
   "source": [
    "class Product:\n",
    "    def __init__(self, name, quantity):\n",
    "        self.name = name\n",
    "        self.quantity = quantity\n",
    "\n",
    "class Inventory:\n",
    "    def __init__(self):\n",
    "        self.products = {}\n",
    "\n",
    "    def add_product(self, product):\n",
    "        if product.name in self.products:\n",
    "            self.products[product.name] += product.quantity\n",
    "        else:\n",
    "            self.products[product.name] = product.quantity\n",
    "\n",
    "    def update_quantity(self, name, quantity):\n",
    "        if name in self.products:\n",
    "            self.products[name] = quantity\n",
    "        else:\n",
    "            print(\"Product not found.\")\n",
    "\n",
    "    def display_products(self):\n",
    "        print(\"Available Products:\")\n",
    "        for name, quantity in self.products.items():\n",
    "            print(f\"{name}: {quantity}\")\n",
    "\n",
    "# Example Usage\n",
    "inventory = Inventory()\n",
    "inventory.add_product(Product(\"Laptop\", 10))\n",
    "inventory.update_quantity(\"Laptop\", 8)\n",
    "inventory.display_products()\n"
   ]
  },
  {
   "cell_type": "markdown",
   "id": "637754ed-0069-4912-bc93-29f1b71233dc",
   "metadata": {},
   "source": [
    "Problem 6: Shape Calculation Create a class representing a shape with attributes like length, width, and height. Implement methods to calculate the area and perimeter of the shape."
   ]
  },
  {
   "cell_type": "code",
   "execution_count": 17,
   "id": "54f78555-b00e-46fd-bd5f-61fb21718ffc",
   "metadata": {},
   "outputs": [
    {
     "name": "stdout",
     "output_type": "stream",
     "text": [
      "Area: 50\n",
      "Perimeter: 30\n"
     ]
    }
   ],
   "source": [
    "class Shape:\n",
    "    def __init__(self, length, width):\n",
    "        self.length = length\n",
    "        self.width = width\n",
    "\n",
    "    def area(self):\n",
    "        return self.length * self.width\n",
    "\n",
    "    def perimeter(self):\n",
    "        return 2 * (self.length + self.width)\n",
    "\n",
    "# Example Usage\n",
    "shape = Shape(10, 5)\n",
    "print(\"Area:\", shape.area())\n",
    "print(\"Perimeter:\", shape.perimeter())\n"
   ]
  },
  {
   "cell_type": "markdown",
   "id": "0039d5eb-42df-43f8-80a6-81f8c68fcbda",
   "metadata": {},
   "source": [
    "Problem 7: Student Management Create a class representing a student with attributes like student ID, name, and grades. Implement methods to calculate the average grade and display student details."
   ]
  },
  {
   "cell_type": "code",
   "execution_count": 20,
   "id": "b52ad8cc-9498-4295-844b-362093661e14",
   "metadata": {},
   "outputs": [
    {
     "name": "stdout",
     "output_type": "stream",
     "text": [
      "ID: 101, Name: Emma, Average Grade: 88.75\n"
     ]
    }
   ],
   "source": [
    "class Student:\n",
    "    def __init__(self, student_id, name, grades):\n",
    "        self.student_id = student_id\n",
    "        self.name = name\n",
    "        self.grades = grades\n",
    "\n",
    "    def average_grade(self):\n",
    "        return sum(self.grades) / len(self.grades)\n",
    "\n",
    "    def display(self):\n",
    "        print(f\"ID: {self.student_id}, Name: {self.name}, Average Grade: {self.average_grade()}\")\n",
    "\n",
    "# Example Usage\n",
    "student = Student(101, \"Emma\", [85, 90, 88, 92])\n",
    "student.display()\n"
   ]
  },
  {
   "cell_type": "markdown",
   "id": "a046c8b5-3ecc-486a-8817-a900595d1c4e",
   "metadata": {},
   "source": [
    "Problem 8: Email Management Create a class representing an email with attributes like sender, recipient, and subject. Implement methods to send an email and display email details."
   ]
  },
  {
   "cell_type": "code",
   "execution_count": 23,
   "id": "ef64f7a9-9429-4684-8a2b-0fdd056ca9a9",
   "metadata": {},
   "outputs": [
    {
     "name": "stdout",
     "output_type": "stream",
     "text": [
      "Email sent from alice@example.com to bob@example.com with subject: Meeting Reminder\n",
      "From: alice@example.com, To: bob@example.com, Subject: Meeting Reminder\n"
     ]
    }
   ],
   "source": [
    "class Email:\n",
    "    def __init__(self, sender, recipient, subject):\n",
    "        self.sender = sender\n",
    "        self.recipient = recipient\n",
    "        self.subject = subject\n",
    "\n",
    "    def send_email(self):\n",
    "        print(f\"Email sent from {self.sender} to {self.recipient} with subject: {self.subject}\")\n",
    "\n",
    "    def display(self):\n",
    "        print(f\"From: {self.sender}, To: {self.recipient}, Subject: {self.subject}\")\n",
    "\n",
    "# Example Usage\n",
    "email = Email(\"alice@example.com\", \"bob@example.com\", \"Meeting Reminder\")\n",
    "email.send_email()\n",
    "email.display()\n"
   ]
  },
  {
   "cell_type": "markdown",
   "id": "794bf1f3-9c58-4aea-8bda-b738c50e5072",
   "metadata": {},
   "source": [
    "Problem 9: Social Media Profile Create a class representing a social media profile with attributes like username and posts. Implement methods to add posts, display posts, and search for posts by keyword."
   ]
  },
  {
   "cell_type": "code",
   "execution_count": 26,
   "id": "1db5034e-0ade-4179-971c-1641a6b1d578",
   "metadata": {},
   "outputs": [
    {
     "name": "stdout",
     "output_type": "stream",
     "text": [
      "Post added.\n",
      "Search Results:\n",
      "Enjoying a sunny day!\n",
      "john_doe's Posts:\n",
      "Enjoying a sunny day!\n"
     ]
    }
   ],
   "source": [
    "class SocialMediaProfile:\n",
    "    def __init__(self, username):\n",
    "        self.username = username\n",
    "        self.posts = []\n",
    "\n",
    "    def add_post(self, content):\n",
    "        self.posts.append(content)\n",
    "        print(\"Post added.\")\n",
    "\n",
    "    def display_posts(self):\n",
    "        print(f\"{self.username}'s Posts:\")\n",
    "        for post in self.posts:\n",
    "            print(post)\n",
    "\n",
    "    def search_posts(self, keyword):\n",
    "        results = [post for post in self.posts if keyword in post]\n",
    "        print(\"Search Results:\")\n",
    "        for result in results:\n",
    "            print(result)\n",
    "\n",
    "# Example Usage\n",
    "profile = SocialMediaProfile(\"john_doe\")\n",
    "profile.add_post(\"Enjoying a sunny day!\")\n",
    "profile.search_posts(\"sunny\")\n",
    "profile.display_posts()\n"
   ]
  },
  {
   "cell_type": "markdown",
   "id": "72ae3f32-47f4-467a-9ee7-0276517fe322",
   "metadata": {},
   "source": [
    "Problem 10: ToDo List Create a class representing a ToDo list with attributes like tasks and due dates. Implement methods to add tasks, mark tasks as completed, and display pending tasks."
   ]
  },
  {
   "cell_type": "code",
   "execution_count": 29,
   "id": "6266298d-2902-4a29-b7c8-1481c78259f1",
   "metadata": {},
   "outputs": [
    {
     "name": "stdout",
     "output_type": "stream",
     "text": [
      "Pending Tasks:\n"
     ]
    }
   ],
   "source": [
    "class ToDoList:\n",
    "    def __init__(self):\n",
    "        self.tasks = {}\n",
    "\n",
    "    def add_task(self, task, due_date):\n",
    "        self.tasks[task] = {\"due_date\": due_date, \"completed\": False}\n",
    "\n",
    "    def mark_completed(self, task):\n",
    "        if task in self.tasks:\n",
    "            self.tasks[task][\"completed\"] = True\n",
    "\n",
    "    def display_pending(self):\n",
    "        print(\"Pending Tasks:\")\n",
    "        for task, details in self.tasks.items():\n",
    "            if not details[\"completed\"]:\n",
    "                print(f\"{task} - Due: {details['due_date']}\")\n",
    "\n",
    "# Example Usage\n",
    "todo = ToDoList()\n",
    "todo.add_task(\"Complete Assignment\", \"2025-02-15\")\n",
    "todo.mark_completed(\"Complete Assignment\")\n",
    "todo.display_pending()\n"
   ]
  },
  {
   "cell_type": "code",
   "execution_count": null,
   "id": "ed9748c3-b2ae-438f-8297-26d1621b35c2",
   "metadata": {},
   "outputs": [],
   "source": []
  }
 ],
 "metadata": {
  "kernelspec": {
   "display_name": "Python 3 (ipykernel)",
   "language": "python",
   "name": "python3"
  },
  "language_info": {
   "codemirror_mode": {
    "name": "ipython",
    "version": 3
   },
   "file_extension": ".py",
   "mimetype": "text/x-python",
   "name": "python",
   "nbconvert_exporter": "python",
   "pygments_lexer": "ipython3",
   "version": "3.12.7"
  }
 },
 "nbformat": 4,
 "nbformat_minor": 5
}
