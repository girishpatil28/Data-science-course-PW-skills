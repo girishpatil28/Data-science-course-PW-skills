{
 "cells": [
  {
   "cell_type": "markdown",
   "id": "ef3bac50-8f14-40c6-a5ee-df6f7348259b",
   "metadata": {},
   "source": [
    "# Constructor:"
   ]
  },
  {
   "cell_type": "markdown",
   "id": "5daac48a-2732-4e41-8c1f-2014956a5b7f",
   "metadata": {},
   "source": [
    "1. What is a constructor in Python? Explain its purpose and usage."
   ]
  },
  {
   "cell_type": "markdown",
   "id": "e3fa94fa-ae98-4895-9052-473156457a08",
   "metadata": {},
   "source": [
    "A constructor in Python is a special method used to initialize an object's attributes when an instance of a class is created. It is defined using the __init__() method.\n",
    "\n",
    "Purpose of a Constructor:\n",
    "Automatically initializes the object's attributes when an instance is created.\n",
    "Helps in setting up the initial state of an object.\n",
    "Reduces the need for manual attribute assignment after object creation.\n",
    "Usage of Constructor:\n",
    "The constructor is defined inside a class using the __init__ method. It takes self as the first parameter, which represents the instance of the class, followed by other parameters needed for initialization."
   ]
  },
  {
   "cell_type": "markdown",
   "id": "e56914e3-74cb-4076-9c4f-bd1c06e2d8e2",
   "metadata": {},
   "source": [
    "2. Differentiate between a parameterless constructor and a parameterized constructor in Python."
   ]
  },
  {
   "cell_type": "markdown",
   "id": "01c34cda-b7c4-4b89-85c6-d05ba855e0a8",
   "metadata": {},
   "source": [
    "Definition:\n",
    "\n",
    "A parameterless constructor does not take any arguments except self.\n",
    "A parameterized constructor takes additional arguments apart from self to initialize attributes.\n",
    "Usage:\n",
    "\n",
    "A parameterless constructor is used when an object does not require any specific initial values.\n",
    "A parameterized constructor is used when an object needs specific values during creation."
   ]
  },
  {
   "cell_type": "markdown",
   "id": "fbc7351b-f99a-4a17-a5ee-c1942d6dd8a9",
   "metadata": {},
   "source": [
    "3. How do you define a constructor in a Python class? Provide an example."
   ]
  },
  {
   "cell_type": "markdown",
   "id": "61bcd71d-131f-4bb6-8583-a4406f2e256a",
   "metadata": {},
   "source": [
    "In Python, a constructor is defined using the special method __init__(). This method is automatically called when an object of the class is created. It is used to initialize attributes of the class."
   ]
  },
  {
   "cell_type": "code",
   "execution_count": 2,
   "id": "ab072332-cac4-4d84-93ff-56d2bfcdf1eb",
   "metadata": {},
   "outputs": [
    {
     "name": "stdout",
     "output_type": "stream",
     "text": [
      "Car: Toyota Corolla, Year: 2022\n"
     ]
    }
   ],
   "source": [
    "# example\n",
    "class Car:\n",
    "    def __init__(self, brand, model, year):  # Constructor with parameters\n",
    "        self.brand = brand\n",
    "        self.model = model\n",
    "        self.year = year\n",
    "\n",
    "    def display_info(self):\n",
    "        print(f\"Car: {self.brand} {self.model}, Year: {self.year}\")\n",
    "\n",
    "# Creating an object of the Car class\n",
    "car1 = Car(\"Toyota\", \"Corolla\", 2022)\n",
    "car1.display_info()"
   ]
  },
  {
   "cell_type": "markdown",
   "id": "86ea1f8f-d3b1-406a-8ec5-29e10ff637b3",
   "metadata": {},
   "source": [
    "4. Explain the `__init__` method in Python and its role in constructors."
   ]
  },
  {
   "cell_type": "markdown",
   "id": "b920b4b3-8acf-48f7-8c49-082b0b0aa526",
   "metadata": {},
   "source": [
    "The __init__ method is a special method (constructor) in Python that is automatically called when a new instance of a class is created. It is used to initialize the attributes (variables) of an object.\n",
    "\n",
    "Role of __init__ in Constructors:\n",
    "Automatic Initialization: It assigns values to instance variables when an object is created.\n",
    "Encapsulation: Helps keep object-related data together.\n",
    "Custom Object Creation: Allows objects to be created with specific initial values.\n",
    "Prepares Objects for Use: Ensures an object has the necessary attributes before being used."
   ]
  },
  {
   "cell_type": "markdown",
   "id": "a8455717-9f4e-4bb1-9985-440535d00055",
   "metadata": {},
   "source": [
    "5. In a class named `Person`, create a constructor that initializes the `name` and `age` attributes. Provide an\n",
    "example of creating an object of this class."
   ]
  },
  {
   "cell_type": "code",
   "execution_count": 7,
   "id": "046d58f7-c29e-4b43-9320-dbb1eb390f86",
   "metadata": {},
   "outputs": [
    {
     "name": "stdout",
     "output_type": "stream",
     "text": [
      "Name: Alice, Age: 25\n"
     ]
    }
   ],
   "source": [
    "class Person:\n",
    "    def __init__(self, name, age):  # Constructor with parameters\n",
    "        self.name = name\n",
    "        self.age = age\n",
    "\n",
    "    def display_info(self):\n",
    "        print(f\"Name: {self.name}, Age: {self.age}\")\n",
    "\n",
    "# Creating an object of the Person class\n",
    "person1 = Person(\"Alice\", 25)\n",
    "\n",
    "# Displaying the object’s information\n",
    "person1.display_info()"
   ]
  },
  {
   "cell_type": "markdown",
   "id": "9f86d5ae-280e-46ed-aa06-79fe2835987e",
   "metadata": {},
   "source": [
    "6. How can you call a constructor explicitly in Python? Give an example."
   ]
  },
  {
   "cell_type": "markdown",
   "id": "6a88402c-eee5-435f-a4ad-0a3439c5545a",
   "metadata": {},
   "source": [
    "In Python, a constructor (__init__ method) is automatically called when an object is created. However, you can also explicitly call it using:\n",
    "\n",
    "Within the class using self.__init__()\n",
    "On an existing object"
   ]
  },
  {
   "cell_type": "code",
   "execution_count": 13,
   "id": "8e6631b1-d2f5-46b0-9f1e-039deff16839",
   "metadata": {},
   "outputs": [
    {
     "name": "stdout",
     "output_type": "stream",
     "text": [
      "Name: Bob, Age: 30\n"
     ]
    }
   ],
   "source": [
    "#Example 1: Explicitly Calling __init__ on an Existing Object\n",
    "class Person:\n",
    "    def __init__(self, name, age):\n",
    "        self.name = name\n",
    "        self.age = age\n",
    "\n",
    "    def display_info(self):\n",
    "        print(f\"Name: {self.name}, Age: {self.age}\")\n",
    "\n",
    "# Creating an object\n",
    "person1 = Person(\"Alice\", 25)\n",
    "\n",
    "# Explicitly calling the constructor again\n",
    "person1.__init__(\"Bob\", 30)\n",
    "\n",
    "# Displaying updated info\n",
    "person1.display_info()"
   ]
  },
  {
   "cell_type": "code",
   "execution_count": 15,
   "id": "2a79a972-720c-4d24-a645-5cce89e7eae2",
   "metadata": {},
   "outputs": [
    {
     "name": "stdout",
     "output_type": "stream",
     "text": [
      "Car: Tesla Model S\n",
      "Resetting car details...\n",
      "Car: Unknown Unknown\n"
     ]
    }
   ],
   "source": [
    "#Example 2: Calling __init__ Inside Another Method\n",
    "class Car:\n",
    "    def __init__(self, brand, model):\n",
    "        self.brand = brand\n",
    "        self.model = model\n",
    "\n",
    "    def reset(self):\n",
    "        print(\"Resetting car details...\")\n",
    "        self.__init__(\"Unknown\", \"Unknown\")  # Explicitly calling constructor\n",
    "\n",
    "    def display(self):\n",
    "        print(f\"Car: {self.brand} {self.model}\")\n",
    "\n",
    "# Creating an object\n",
    "car1 = Car(\"Tesla\", \"Model S\")\n",
    "car1.display()\n",
    "\n",
    "# Resetting the car details\n",
    "car1.reset()\n",
    "car1.display()"
   ]
  },
  {
   "cell_type": "markdown",
   "id": "359b05e0-1f78-4d1f-8422-6741361e7b1c",
   "metadata": {},
   "source": [
    "7. What is the significance of the `self` parameter in Python constructors? Explain with an example."
   ]
  },
  {
   "cell_type": "markdown",
   "id": "a0c290a7-746f-49fd-b3b0-505621d7b48c",
   "metadata": {},
   "source": [
    "The self parameter in Python constructors is a reference to the current instance of the class. It allows the constructor (__init__ method) to:\n",
    "\n",
    "Access instance attributes and methods\n",
    "Differentiate between instance variables and local variables\n",
    "Modify object-specific data\n"
   ]
  },
  {
   "cell_type": "code",
   "execution_count": 19,
   "id": "11386c7a-1593-4bb1-a0d3-bcd78a077637",
   "metadata": {},
   "outputs": [
    {
     "name": "stdout",
     "output_type": "stream",
     "text": [
      "Name: Alice, Age: 25\n"
     ]
    }
   ],
   "source": [
    "#example\n",
    "class Person:\n",
    "    def __init__(self, name, age):\n",
    "        self.name = name  # `self.name` refers to the instance attribute\n",
    "        self.age = age    # `self.age` refers to the instance attribute\n",
    "\n",
    "    def display(self):\n",
    "        print(f\"Name: {self.name}, Age: {self.age}\")\n",
    "\n",
    "# Creating an object\n",
    "person1 = Person(\"Alice\", 25)\n",
    "person1.display()"
   ]
  },
  {
   "cell_type": "markdown",
   "id": "eff6db23-2517-4766-bdf4-3167a7cdeec6",
   "metadata": {},
   "source": [
    "8. Discuss the concept of default constructors in Python. When are they used?"
   ]
  },
  {
   "cell_type": "markdown",
   "id": "8269d272-dcad-4cf8-bb7a-4eec4930a8e8",
   "metadata": {},
   "source": [
    "A default constructor in Python is a constructor that does not take any parameters except self. It is automatically provided by Python if no constructor (__init__ method) is defined in the class.\n",
    "\n",
    "When Are Default Constructors Used?\n",
    "When no explicit constructor is defined in the class, Python assigns a default constructor automatically.\n",
    "When an object doesn’t require initialization values, a default constructor can be used.\n",
    "For simple classes that don’t need instance variables at creation.\n"
   ]
  },
  {
   "cell_type": "markdown",
   "id": "515d6998-aaf9-447d-872b-82961f9df4a3",
   "metadata": {},
   "source": [
    "9. Create a Python class called `Rectangle` with a constructor that initializes the `width` and `height`\n",
    "attributes. Provide a method to calculate the area of the rectangle."
   ]
  },
  {
   "cell_type": "code",
   "execution_count": 24,
   "id": "53dc355a-05be-40b6-ad5f-18e9dc9cc0cb",
   "metadata": {},
   "outputs": [
    {
     "name": "stdout",
     "output_type": "stream",
     "text": [
      "Area of the rectangle: 50\n"
     ]
    }
   ],
   "source": [
    "class Rectangle:\n",
    "    def __init__(self, width, height):  # Constructor to initialize width and height\n",
    "        self.width = width\n",
    "        self.height = height\n",
    "\n",
    "    def calculate_area(self):  # Method to calculate area\n",
    "        return self.width * self.height\n",
    "\n",
    "# Creating an object of Rectangle\n",
    "rect1 = Rectangle(10, 5)\n",
    "\n",
    "print(f\"Area of the rectangle: {rect1.calculate_area()}\")"
   ]
  },
  {
   "cell_type": "markdown",
   "id": "c5e3d7b1-f6b9-404e-b07c-64281981cd1f",
   "metadata": {},
   "source": [
    "10. How can you have multiple constructors in a Python class? Explain with an example."
   ]
  },
  {
   "cell_type": "markdown",
   "id": "0f42ed31-5417-466c-9f9c-0eb3e74e91d8",
   "metadata": {},
   "source": [
    "Python does not support multiple constructors (method overloading) like Java or C++. However, you can achieve similar behavior using default arguments, class methods, or alternative constructors using @classmethod.\n",
    "Python does not allow multiple __init__ methods.\n",
    "You can achieve similar behavior using:\n",
    "✅ Default parameters (simplest approach)\n",
    "✅ Class methods (@classmethod) for alternative constructors"
   ]
  },
  {
   "cell_type": "code",
   "execution_count": 28,
   "id": "99492b03-e2f8-4877-9fc7-bc7f5d3b2743",
   "metadata": {},
   "outputs": [
    {
     "name": "stdout",
     "output_type": "stream",
     "text": [
      "Name: Alice, Age: 25\n",
      "Name: Bob, Age: 0\n",
      "Name: Unknown, Age: 0\n"
     ]
    }
   ],
   "source": [
    "#Method 1: Using Default Arguments\n",
    "class Person:\n",
    "    def __init__(self, name=\"Unknown\", age=0):  # Default values allow multiple ways to create an object\n",
    "        self.name = name\n",
    "        self.age = age\n",
    "\n",
    "    def display(self):\n",
    "        print(f\"Name: {self.name}, Age: {self.age}\")\n",
    "\n",
    "# Creating objects in different ways\n",
    "p1 = Person(\"Alice\", 25)  # Using both parameters\n",
    "p2 = Person(\"Bob\")         # Only name, age defaults to 0\n",
    "p3 = Person()              # Both default values\n",
    "\n",
    "p1.display()\n",
    "p2.display()\n",
    "p3.display()"
   ]
  },
  {
   "cell_type": "code",
   "execution_count": 30,
   "id": "408548c1-2de4-45e5-be61-c6d7323c3533",
   "metadata": {},
   "outputs": [
    {
     "name": "stdout",
     "output_type": "stream",
     "text": [
      "Rectangle area: 50\n",
      "Square area: 16\n"
     ]
    }
   ],
   "source": [
    "#Method 2: Using @classmethod for Alternative Constructors\n",
    "class Rectangle:\n",
    "    def __init__(self, width, height):\n",
    "        self.width = width\n",
    "        self.height = height\n",
    "\n",
    "    @classmethod\n",
    "    def from_square(cls, side_length):  # Alternative constructor\n",
    "        return cls(side_length, side_length)\n",
    "\n",
    "    def area(self):\n",
    "        return self.width * self.height\n",
    "\n",
    "# Creating objects using different constructors\n",
    "rect1 = Rectangle(10, 5)       # Normal rectangle\n",
    "rect2 = Rectangle.from_square(4)  # Square using alternative constructor\n",
    "\n",
    "print(f\"Rectangle area: {rect1.area()}\")\n",
    "print(f\"Square area: {rect2.area()}\")"
   ]
  },
  {
   "cell_type": "markdown",
   "id": "d3c737b7-eae2-4a2a-9251-abf5fb8316d6",
   "metadata": {},
   "source": [
    "11. What is method overloading, and how is it related to constructors in Python?"
   ]
  },
  {
   "cell_type": "markdown",
   "id": "3eeff20b-c887-4218-ae4a-b9569153b2f7",
   "metadata": {},
   "source": [
    "In Python, if you define multiple methods with the same name, the last definition overrides the previous ones. However, you can achieve a form of \"overloading\" using default arguments, variable-length arguments (*args, **kwargs), or @staticmethod/@classmethod for different constructor signatures.\n",
    "\n",
    "Method Overloading with Default Arguments\n",
    "You can simulate overloading by giving default values to arguments, allowing a method to work with different numbers of arguments."
   ]
  },
  {
   "cell_type": "code",
   "execution_count": 34,
   "id": "3f355434-5fd5-4c3e-8978-6bae14f7f552",
   "metadata": {},
   "outputs": [
    {
     "name": "stdout",
     "output_type": "stream",
     "text": [
      "Hello, Guest!\n",
      "Hello, Alice!\n",
      "Hello, Bob!\n",
      "Hello, Bob!\n",
      "Hello, Bob!\n"
     ]
    }
   ],
   "source": [
    "#example\n",
    "class Greet:\n",
    "    def say_hello(self, name=\"Guest\", times=1):\n",
    "        for _ in range(times):\n",
    "            print(f\"Hello, {name}!\")\n",
    "\n",
    "# Creating an object\n",
    "greet = Greet()\n",
    "\n",
    "# Overloaded behavior using different arguments\n",
    "greet.say_hello()        # Default values: \"Guest\" and 1 time\n",
    "greet.say_hello(\"Alice\")  # Custom name: \"Alice\"\n",
    "greet.say_hello(\"Bob\", 3)  # Custom name and times"
   ]
  },
  {
   "cell_type": "markdown",
   "id": "ef2c6a50-c787-4e51-b592-ae30b3c79f85",
   "metadata": {},
   "source": [
    "12. Explain the use of the `super()` function in Python constructors. Provide an example."
   ]
  },
  {
   "cell_type": "markdown",
   "id": "7baa6168-5ffc-4ea3-80d9-e1e76a8ceffa",
   "metadata": {},
   "source": [
    "The super() function in Python is used to call a method (often a constructor) from a parent class in the context of inheritance. It helps in calling methods from the base class (superclass) in a way that supports multiple inheritance and ensures that the correct method from the parent class is invoked.\n",
    "\n",
    "In constructors, super() is particularly useful when you are subclassing and want to initialize the attributes of the parent class without repeating the code.\n",
    "\n",
    "Why Use super() in Constructors?\n",
    "Avoid redundancy: If the parent class has initialization code, you don't have to rewrite it in the child class.\n",
    "Maintain inheritance chain: It ensures that the constructor of the parent class is called, even in cases of multiple inheritance.\n",
    "Code clarity and reusability: It promotes cleaner and more maintainable code."
   ]
  },
  {
   "cell_type": "code",
   "execution_count": 38,
   "id": "707dbaf2-7560-4d8e-9f60-1466c63c05d5",
   "metadata": {},
   "outputs": [
    {
     "name": "stdout",
     "output_type": "stream",
     "text": [
      "Animal Name: Buddy\n",
      "Dog Breed: Golden Retriever\n"
     ]
    }
   ],
   "source": [
    "#example\n",
    "class Animal:\n",
    "    def __init__(self, name):\n",
    "        self.name = name\n",
    "        print(f\"Animal Name: {self.name}\")\n",
    "\n",
    "class Dog(Animal):\n",
    "    def __init__(self, name, breed):\n",
    "        # Calling the constructor of the parent class (Animal) using super()\n",
    "        super().__init__(name)\n",
    "        self.breed = breed\n",
    "        print(f\"Dog Breed: {self.breed}\")\n",
    "\n",
    "# Creating an object of the Dog class\n",
    "dog1 = Dog(\"Buddy\", \"Golden Retriever\")"
   ]
  },
  {
   "cell_type": "markdown",
   "id": "b3bfaa93-07f4-4b13-be10-cf732f3b8a31",
   "metadata": {},
   "source": [
    "13. Create a class called `Book` with a constructor that initializes the `title`, `author`, and `published_year`\n",
    "attributes. Provide a method to display book details."
   ]
  },
  {
   "cell_type": "code",
   "execution_count": 41,
   "id": "f3c8eeca-e1d1-4656-8b20-90600badb061",
   "metadata": {},
   "outputs": [
    {
     "name": "stdout",
     "output_type": "stream",
     "text": [
      "Book Title: 1984\n",
      "Author: George Orwell\n",
      "Published Year: 1949\n"
     ]
    }
   ],
   "source": [
    "class Book:\n",
    "    def __init__(self, title, author, published_year):\n",
    "        self.title = title\n",
    "        self.author = author\n",
    "        self.published_year = published_year\n",
    "\n",
    "    def display_details(self):\n",
    "        print(f\"Book Title: {self.title}\")\n",
    "        print(f\"Author: {self.author}\")\n",
    "        print(f\"Published Year: {self.published_year}\")\n",
    "\n",
    "# Creating an object of Book\n",
    "book1 = Book(\"1984\", \"George Orwell\", 1949)\n",
    "\n",
    "# Displaying book details\n",
    "book1.display_details()"
   ]
  },
  {
   "cell_type": "markdown",
   "id": "a27ad67b-13c5-4967-a69f-d7398020659b",
   "metadata": {},
   "source": [
    "14. Discuss the differences between constructors and regular methods in Python classes."
   ]
  },
  {
   "cell_type": "markdown",
   "id": "d52d738f-d8e9-4279-98d8-ec116b1b6f39",
   "metadata": {},
   "source": [
    "1. Purpose\n",
    "Constructor (__init__):\n",
    "The constructor is a special method that is automatically called when an object of the class is created. It is used to initialize the object's attributes and prepare it for use.\n",
    "\n",
    "Example: __init__(self, ...)\n",
    "Purpose: To set up the initial state of the object.\n",
    "Regular Method:\n",
    "A regular method is any function defined within a class that can be called explicitly on an instance of the class. It is used to perform operations on the object's attributes or perform any behavior specific to the object.\n",
    "\n",
    "Example: def method_name(self, ...)\n",
    "Purpose: To define the behavior or actions that the object can perform.\n",
    "\n",
    "2. Name\n",
    "Constructor:\n",
    "The constructor in Python is always named __init__. This name is fixed and cannot be changed.\n",
    "\n",
    "Example: def __init__(self, ...)\n",
    "Regular Method:\n",
    "Regular methods can have any valid method name that you choose. These names are not restricted to a fixed name like the constructor.\n",
    "\n",
    "Example: def display(self) or def calculate_area(self)\n",
    "\n",
    "3. Invocation\n",
    "Constructor:\n",
    "The constructor is automatically invoked when a new object of the class is created. You don’t call it explicitly; it’s invoked by the Python interpreter when you create an instance of the class.\n",
    "\n",
    "Example:\n",
    "python\n",
    "Copy\n",
    "Edit\n",
    "obj = MyClass()\n",
    "Regular Method:\n",
    "Regular methods are called explicitly after the object is created. You need to use the object reference to invoke these methods.\n",
    "\n",
    "Example:\n",
    "python\n",
    "Copy\n",
    "Edit\n",
    "obj.display()\n",
    "\n",
    "4. Role in Object Creation\n",
    "Constructor:\n",
    "The constructor plays a crucial role in object creation. It initializes the state of the object when it is first created.\n",
    "\n",
    "Regular Method:\n",
    "Regular methods don’t have a direct role in object creation. They are used to perform specific operations or behaviors on an already created object."
   ]
  },
  {
   "cell_type": "markdown",
   "id": "7c85b1fd-b5ab-47af-bff0-6cf911512b85",
   "metadata": {},
   "source": [
    "15. Explain the role of the `self` parameter in instance variable initialization within a constructor."
   ]
  },
  {
   "cell_type": "markdown",
   "id": "3ec8f724-3e01-4075-905e-2627ff010458",
   "metadata": {},
   "source": [
    "In Python, the self parameter plays a crucial role in initializing instance variables within a constructor (__init__). Here’s how it works and why it’s important:\n",
    "\n",
    "What is self?\n",
    "self refers to the current instance of the class. It's a reference to the specific object that is being created or manipulated.\n",
    "self is not a keyword in Python, but a widely adopted convention. It could technically be named anything, but using self makes the code more readable and standard.\n",
    "\n",
    "How Does self Help in Initializing Instance Variables?\n",
    "Instance variables are attributes that are tied to a specific instance (or object) of a class. Each object can have its own set of instance variables.\n",
    "When you use self, you're telling Python to create or access instance variables that belong to the current object. Without self, Python wouldn't know where to store the attributes.\n",
    "\n",
    "Steps in Instance Variable Initialization Using self:\n",
    "Accessing the Object:\n",
    "When an object is created, Python automatically passes the object reference as the first argument (self) to the constructor.\n",
    "\n",
    "Initializing Instance Variables:\n",
    "Inside the constructor (__init__), we assign values to instance variables using self.<variable_name>. This ensures the attribute is unique to the object and can be accessed later using self.\n",
    "\n",
    "Linking Object to Attributes:\n",
    "Each object that is created will have its own set of instance variables initialized by the constructor."
   ]
  },
  {
   "cell_type": "markdown",
   "id": "792749c9-92a1-4ed3-b474-72513521268c",
   "metadata": {},
   "source": [
    "16. How do you prevent a class from having multiple instances by using constructors in Python? Provide an\n",
    "example."
   ]
  },
  {
   "cell_type": "markdown",
   "id": "95517736-f1c9-4682-b186-90c475913ed3",
   "metadata": {},
   "source": [
    "You can implement this by modifying the constructor (__init__) to check whether an instance already exists. If an instance does exist, you can return that instance instead of creating a new one.\n",
    "\n",
    "There are different ways to implement a singleton, but the simplest way is to store the instance as a class variable and check for it in the constructor."
   ]
  },
  {
   "cell_type": "code",
   "execution_count": 51,
   "id": "57d50125-0044-4bae-b2f4-d42222e7a82b",
   "metadata": {},
   "outputs": [
    {
     "name": "stdout",
     "output_type": "stream",
     "text": [
      "First Instance\n",
      "First Instance\n",
      "True\n"
     ]
    }
   ],
   "source": [
    "# example\n",
    "class Singleton:\n",
    "    _instance = None  # Class variable to store the single instance\n",
    "\n",
    "    def __new__(cls, *args, **kwargs):\n",
    "        if not cls._instance:  # If no instance exists\n",
    "            cls._instance = super(Singleton, cls).__new__(cls)\n",
    "        return cls._instance\n",
    "\n",
    "    def __init__(self, value):\n",
    "        if not hasattr(self, '_initialized'):  # Check if already initialized\n",
    "            self.value = value\n",
    "            self._initialized = True  # Mark the instance as initialized\n",
    "\n",
    "# Creating multiple objects\n",
    "obj1 = Singleton(\"First Instance\")\n",
    "obj2 = Singleton(\"Second Instance\")\n",
    "\n",
    "# Checking if both objects point to the same instance\n",
    "print(obj1.value)  # Output: First Instance\n",
    "print(obj2.value)  # Output: First Instance\n",
    "\n",
    "# Verifying that both objects are the same\n",
    "print(obj1 is obj2)  # Output: True"
   ]
  },
  {
   "cell_type": "markdown",
   "id": "5c66f269-7539-40e8-ab23-e38e4e8fb065",
   "metadata": {},
   "source": [
    "17. Create a Python class called `Student` with a constructor that takes a list of subjects as a parameter and\n",
    "initializes the `subjects` attribute."
   ]
  },
  {
   "cell_type": "code",
   "execution_count": null,
   "id": "c8c251a3-ed37-498a-9558-71bed404a19b",
   "metadata": {},
   "outputs": [],
   "source": [
    "#example\n",
    "class Student:\n",
    "    def __init__(self, subjects):\n",
    "        self.subjects = subjects  # Initializing the subjects attribute with the provided list\n",
    "\n",
    "    def display_subjects(self):\n",
    "        print(\"Subjects enrolled by the student:\")\n",
    "        for subject in self.subjects:\n",
    "            print(subject)\n",
    "\n",
    "# Creating an object of Student and passing a list of subjects\n",
    "student1 = Student([\"Math\", \"Science\", \"English\", \"History\"])\n",
    "\n",
    "# Displaying the student's subjects\n",
    "student1.display_subjects()"
   ]
  },
  {
   "cell_type": "markdown",
   "id": "dc36ee70-d456-400f-b15b-b894f2e8e8bf",
   "metadata": {},
   "source": [
    "18. What is the purpose of the `__del__` method in Python classes, and how does it relate to constructors?"
   ]
  },
  {
   "cell_type": "markdown",
   "id": "f7335fd9-618b-40d7-9341-55aea8cd48ec",
   "metadata": {},
   "source": [
    "In Python, the __del__ method is a special method known as the destructor. It is called when an object is about to be destroyed or garbage collected. The primary purpose of the __del__ method is to clean up resources that the object might have acquired during its lifetime, such as closing files, network connections, or database connections.\n",
    "\n",
    "Key Points about the __del__ Method:\n",
    "Object Destruction:\n",
    "\n",
    "The __del__ method is automatically called when the reference count for an object drops to zero, meaning the object is no longer in use.\n",
    "It is not guaranteed to be called immediately after an object goes out of scope, as it depends on the garbage collection process. In most cases, Python manages this automatically, but you can override the __del__ method to perform specific actions when an object is about to be destroyed.\n",
    "Resource Cleanup:\n",
    "\n",
    "The __del__ method is commonly used to release resources like closing open files or network connections.\n",
    "It allows you to handle any necessary cleanup operations before the object is removed from memory.\n",
    "Relation to Constructors (__init__):\n",
    "\n",
    "Constructor (__init__) is called when an object is created, initializing its state and setting up resources for use.\n",
    "Destructor (__del__) is called when an object is about to be destroyed, and it's used to release or clean up resources.\n",
    "While the constructor prepares an object for use, the destructor ensures the object is properly disposed of."
   ]
  },
  {
   "cell_type": "markdown",
   "id": "eed3cc42-8210-4240-afd4-7e1315c54d8e",
   "metadata": {},
   "source": [
    "19. Explain the use of constructor chaining in Python. Provide a practical example."
   ]
  },
  {
   "cell_type": "markdown",
   "id": "b5af9854-aa0a-47c8-b5bc-e8195660b142",
   "metadata": {},
   "source": [
    "Constructor chaining is a concept where one constructor calls another constructor within the same class or between a parent class and a child class. In Python, constructor chaining typically refers to calling the constructor of a parent class from a subclass. This is done using the super() function, which allows a subclass to initialize its parent class without explicitly naming the parent class.\n",
    "\n",
    "Purpose of Constructor Chaining:\n",
    "\n",
    "Reusability: Constructor chaining allows child classes to reuse the functionality of the parent class's constructor, avoiding code duplication.\n",
    "\n",
    "Maintainability: It helps to maintain a clean, concise, and consistent constructor design.\n",
    "\n",
    "Extending Parent Class Functionality: The child class can extend the functionality of the parent class constructor by adding additional initialization logic while still benefiting from the parent’s constructor."
   ]
  },
  {
   "cell_type": "code",
   "execution_count": 63,
   "id": "28842626-39ad-495a-a043-79905a23d64e",
   "metadata": {},
   "outputs": [
    {
     "name": "stdout",
     "output_type": "stream",
     "text": [
      "Person created: John, 20 years old\n",
      "Student created: John, 20 years old, Grade: A\n"
     ]
    }
   ],
   "source": [
    "#example\n",
    "class Person:\n",
    "    def __init__(self, name, age):\n",
    "        self.name = name\n",
    "        self.age = age\n",
    "        print(f\"Person created: {self.name}, {self.age} years old\")\n",
    "\n",
    "class Student(Person):\n",
    "    def __init__(self, name, age, grade):\n",
    "        # Chaining constructor of Person class using super()\n",
    "        super().__init__(name, age)  # Calls the parent class constructor\n",
    "        self.grade = grade\n",
    "        print(f\"Student created: {self.name}, {self.age} years old, Grade: {self.grade}\")\n",
    "\n",
    "# Creating an object of Student\n",
    "student1 = Student(\"John\", 20, \"A\")"
   ]
  },
  {
   "cell_type": "markdown",
   "id": "fd9e5eab-60af-48f8-a4b3-fd50a0669d54",
   "metadata": {},
   "source": [
    "20. Create a Python class called `Car` with a default constructor that initializes the `make` and `model`\n",
    "attributes. Provide a method to display car information."
   ]
  },
  {
   "cell_type": "code",
   "execution_count": 66,
   "id": "a4934019-73d2-4f9e-8899-152a6709f695",
   "metadata": {},
   "outputs": [
    {
     "name": "stdout",
     "output_type": "stream",
     "text": [
      "Car 1 Info:\n",
      "Car Make: Toyota\n",
      "Car Model: Corolla\n",
      "\n",
      "Car 2 Info:\n",
      "Car Make: Honda\n",
      "Car Model: Civic\n"
     ]
    }
   ],
   "source": [
    "class Car:\n",
    "    def __init__(self, make=\"Toyota\", model=\"Corolla\"):\n",
    "        # Default constructor that initializes make and model with default values\n",
    "        self.make = make\n",
    "        self.model = model\n",
    "\n",
    "    def display_car_info(self):\n",
    "        # Method to display the car's make and model\n",
    "        print(f\"Car Make: {self.make}\")\n",
    "        print(f\"Car Model: {self.model}\")\n",
    "\n",
    "# Creating objects with and without arguments to show the default constructor\n",
    "car1 = Car()  # Uses default values for make and model\n",
    "car2 = Car(\"Honda\", \"Civic\")  # Custom values for make and model\n",
    "\n",
    "# Displaying car information\n",
    "print(\"Car 1 Info:\")\n",
    "car1.display_car_info()\n",
    "\n",
    "print(\"\\nCar 2 Info:\")\n",
    "car2.display_car_info()"
   ]
  },
  {
   "cell_type": "markdown",
   "id": "0aa5244e-4c17-4440-a59c-24a7dbdff0b7",
   "metadata": {},
   "source": [
    "# Inheritance:"
   ]
  },
  {
   "cell_type": "markdown",
   "id": "67ffd137-9c89-44b5-a9bf-2a51d6bad461",
   "metadata": {},
   "source": [
    "1. What is inheritance in Python? Explain its significance in object-oriented programming."
   ]
  },
  {
   "cell_type": "markdown",
   "id": "021c4bee-3867-4a73-8f3b-3319ea57376e",
   "metadata": {},
   "source": [
    "Inheritance is a fundamental concept in object-oriented programming (OOP) that allows a class (called the child class or subclass) to inherit attributes and methods from another class (called the parent class or superclass). This means that the child class can reuse code from the parent class and also add its own unique features or modify existing behavior.\n",
    "\n",
    "Significance of Inheritance in OOP:\n",
    "\n",
    "Code Reusability:Inheritance allows you to write a class that can reuse the code from another class. Instead of rewriting common code, you can inherit from an existing class, making your code more efficient and easier to maintain.\n",
    "\n",
    "Extensibility:You can extend the functionality of an existing class by adding new methods or overriding the existing ones. This makes it easier to build on top of existing systems without changing them drastically.\n",
    "\n",
    "Modularity:It promotes modular programming, where classes are organized based on their functionalities. A subclass can be a more specialized version of the parent class, ensuring separation of concerns.\n",
    "\n",
    "Maintainability:Since the parent class holds the common logic and the child class can modify or add specific functionality, inheritance ensures that updates or bug fixes in the parent class automatically propagate to the child classes. This makes the code easier to maintain and modify.\n",
    "\n",
    "Polymorphism:Inheritance is tightly connected to polymorphism. Through polymorphism, a subclass can override methods of the parent class to provide its own behavior. This allows objects of different classes to be treated as instances of the same class, as long as they share a common interface.\n",
    "\n",
    "Hierarchical Class Structure:It allows for the creation of a hierarchy of classes, with more specialized subclasses inheriting from general parent classes. This can be used to model real-world relationships in software."
   ]
  },
  {
   "cell_type": "markdown",
   "id": "ad2bb183-7b19-4f9a-9a0c-ac6055bd8a6b",
   "metadata": {},
   "source": [
    "2. Differentiate between single inheritance and multiple inheritance in Python. Provide examples for each."
   ]
  },
  {
   "cell_type": "markdown",
   "id": "450924e5-5d3c-4db9-8821-4b390b796363",
   "metadata": {},
   "source": [
    "Single Inheritance:\n",
    "\n",
    "Definition: In single inheritance, a class (child class) inherits from one parent class. This is the simplest form of inheritance where one subclass derives from only one base class.\n",
    "Significance: It represents a straightforward relationship where the child class builds upon or extends the functionality of just one parent class.\n",
    "\n",
    "Multiple Inheritance:\n",
    "\n",
    "Definition: In multiple inheritance, a class (child class) inherits from more than one parent class. The child class can inherit attributes and methods from multiple parent classes.\n",
    "Significance: It allows a class to combine features from multiple parent classes, making it versatile but also potentially more complex due to the need to resolve conflicts between inherited attributes and methods."
   ]
  },
  {
   "cell_type": "markdown",
   "id": "7ab34aa1-29c5-49f7-a91c-9251c2408237",
   "metadata": {},
   "source": [
    "3. Create a Python class called `Vehicle` with attributes `color` and `speed`. Then, create a child class called\n",
    "`Car` that inherits from `Vehicle` and adds a `brand` attribute. Provide an example of creating a `Car` object."
   ]
  },
  {
   "cell_type": "code",
   "execution_count": 75,
   "id": "d76171ea-c8d8-4634-9628-b11025014d26",
   "metadata": {},
   "outputs": [
    {
     "name": "stdout",
     "output_type": "stream",
     "text": [
      "Brand: Toyota, Color: Red, Speed: 180 km/h\n"
     ]
    }
   ],
   "source": [
    "class Vehicle:\n",
    "    def __init__(self, color, speed):\n",
    "        self.color = color\n",
    "        self.speed = speed\n",
    "\n",
    "    def display_info(self):\n",
    "        print(f\"Color: {self.color}, Speed: {self.speed} km/h\")\n",
    "\n",
    "# Child Class (Car) inheriting from Vehicle\n",
    "class Car(Vehicle):\n",
    "    def __init__(self, color, speed, brand):\n",
    "        super().__init__(color, speed)  # Call parent class constructor\n",
    "        self.brand = brand\n",
    "\n",
    "    def display_info(self):\n",
    "        print(f\"Brand: {self.brand}, Color: {self.color}, Speed: {self.speed} km/h\")\n",
    "\n",
    "# Creating a Car object\n",
    "my_car = Car(\"Red\", 180, \"Toyota\")\n",
    "\n",
    "# Displaying Car information\n",
    "my_car.display_info()"
   ]
  },
  {
   "cell_type": "markdown",
   "id": "8ccee502-0abd-4e9a-99f4-ecb7267c7649",
   "metadata": {},
   "source": [
    "4. Explain the concept of method overriding in inheritance. Provide a practical example."
   ]
  },
  {
   "cell_type": "markdown",
   "id": "aa3a2dff-e369-421f-ab30-88176f14d319",
   "metadata": {},
   "source": [
    "Method overriding in Python occurs when a child class provides a specific implementation of a method that is already defined in its parent class. The overridden method in the child class replaces the method from the parent class when called through an object of the child class.\n",
    "\n",
    "Key Points:\n",
    "The method in the child class must have the same name as the one in the parent class.\n",
    "It allows customization of inherited behavior.\n",
    "You can still call the parent class's method using super()."
   ]
  },
  {
   "cell_type": "code",
   "execution_count": 79,
   "id": "a3f4a279-3ba4-45cd-9c18-0e10c90aff94",
   "metadata": {},
   "outputs": [
    {
     "name": "stdout",
     "output_type": "stream",
     "text": [
      "Animal makes a sound.\n",
      "Dog barks.\n"
     ]
    }
   ],
   "source": [
    "#example\n",
    "# Parent Class\n",
    "class Animal:\n",
    "    def speak(self):\n",
    "        print(\"Animal makes a sound.\")\n",
    "\n",
    "# Child Class\n",
    "class Dog(Animal):\n",
    "    def speak(self):\n",
    "        print(\"Dog barks.\")\n",
    "\n",
    "# Creating objects\n",
    "generic_animal = Animal()\n",
    "pet_dog = Dog()\n",
    "\n",
    "# Calling the speak method\n",
    "generic_animal.speak()  # Output: Animal makes a sound.\n",
    "pet_dog.speak()         # Output: Dog barks."
   ]
  },
  {
   "cell_type": "markdown",
   "id": "40639029-1164-4788-9299-d1b0a430bd24",
   "metadata": {},
   "source": [
    "5. How can you access the methods and attributes of a parent class from a child class in Python? Give an\n",
    "example."
   ]
  },
  {
   "cell_type": "markdown",
   "id": "f4480f47-ddda-497a-bd53-5aafad193a45",
   "metadata": {},
   "source": [
    "In Python, a child class can access the methods and attributes of a parent class using:\n",
    "\n",
    "super() function → Calls the parent class method inside the child class.\n",
    "Directly using ParentClass.method(self, args) → Explicitly calls the method from the parent class.\n",
    "Inheritance (self.attribute) → The child class automatically inherits attributes from the parent."
   ]
  },
  {
   "cell_type": "code",
   "execution_count": 83,
   "id": "7fcb3ac8-63b6-44c6-893a-12089c87e6c8",
   "metadata": {},
   "outputs": [
    {
     "name": "stdout",
     "output_type": "stream",
     "text": [
      "Name: Alice, Age: 30\n",
      "Job Title: Software Engineer\n"
     ]
    }
   ],
   "source": [
    "#example\n",
    "class Person:\n",
    "    def __init__(self, name, age):\n",
    "        self.name = name\n",
    "        self.age = age\n",
    "\n",
    "    def show_info(self):\n",
    "        print(f\"Name: {self.name}, Age: {self.age}\")\n",
    "\n",
    "# Child Class\n",
    "class Employee(Person):\n",
    "    def __init__(self, name, age, job_title):\n",
    "        super().__init__(name, age)  # Call Parent Constructor\n",
    "        self.job_title = job_title\n",
    "\n",
    "    def show_info(self):\n",
    "        super().show_info()  # Call Parent Method\n",
    "        print(f\"Job Title: {self.job_title}\")\n",
    "\n",
    "# Creating an Object\n",
    "emp = Employee(\"Alice\", 30, \"Software Engineer\")\n",
    "emp.show_info()"
   ]
  },
  {
   "cell_type": "markdown",
   "id": "9b8832e0-b9f6-465e-bc11-ed4d0a119bd5",
   "metadata": {},
   "source": [
    "6. Discuss the use of the `super()` function in Python inheritance. When and why is it used? Provide an\n",
    "example."
   ]
  },
  {
   "cell_type": "markdown",
   "id": "d8e6eb2b-29de-4ac1-86d0-e07f985e7773",
   "metadata": {},
   "source": [
    "super() is a built-in function in Python that allows a child class to call methods from its parent class. It is commonly used in inheritance to access parent class constructors (__init__) and other methods.\n",
    "\n",
    "\n",
    "    Why Use super()?\n",
    "Avoids manual parent class method calls → Eliminates the need to explicitly reference the parent class.\n",
    "Supports multiple inheritance → Helps resolve the Method Resolution Order (MRO) efficiently.\n",
    "Improves code reusability → Avoids redundant code by reusing parent class functionality.\n",
    "Ensures maintainability → If the parent class changes, the child class automatically inherits updates.\n",
    "\n",
    "    When is super() Used?\n",
    "To call the parent class constructor (__init__)\n",
    "To call parent class methods inside an overridden method\n",
    "In multiple inheritance to resolve method resolution order (MRO)"
   ]
  },
  {
   "cell_type": "code",
   "execution_count": 87,
   "id": "b76f8181-5acd-46cd-add9-602ca98beba8",
   "metadata": {},
   "outputs": [
    {
     "name": "stdout",
     "output_type": "stream",
     "text": [
      "Name: Alice, Age: 30\n",
      "Job Title: Software Engineer\n"
     ]
    }
   ],
   "source": [
    "#example\n",
    "# Parent Class\n",
    "class Person:\n",
    "    def __init__(self, name, age):\n",
    "        self.name = name\n",
    "        self.age = age\n",
    "\n",
    "    def show_info(self):\n",
    "        print(f\"Name: {self.name}, Age: {self.age}\")\n",
    "\n",
    "# Child Class\n",
    "class Employee(Person):\n",
    "    def __init__(self, name, age, job_title):\n",
    "        super().__init__(name, age)  # Calls the parent class constructor\n",
    "        self.job_title = job_title\n",
    "\n",
    "    def show_info(self):\n",
    "        super().show_info()  # Calls the parent class method\n",
    "        print(f\"Job Title: {self.job_title}\")\n",
    "\n",
    "# Creating an Object\n",
    "emp = Employee(\"Alice\", 30, \"Software Engineer\")\n",
    "emp.show_info()"
   ]
  },
  {
   "cell_type": "markdown",
   "id": "31caaf72-06c3-422d-bcc4-06dba8c354bb",
   "metadata": {},
   "source": [
    "7. Create a Python class called `Animal` with a method `speak()`. Then, create child classes `Dog` and `Cat`"
   ]
  },
  {
   "cell_type": "code",
   "execution_count": 90,
   "id": "fc43d5ef-825d-4116-9a68-e27c4ebe2463",
   "metadata": {},
   "outputs": [
    {
     "name": "stdout",
     "output_type": "stream",
     "text": [
      "Woof! Woof!\n",
      "Meow! Meow!\n"
     ]
    }
   ],
   "source": [
    "# Parent Class\n",
    "class Animal:\n",
    "    def speak(self):\n",
    "        return \"Animal makes a sound\"\n",
    "\n",
    "# Child Class: Dog\n",
    "class Dog(Animal):\n",
    "    def speak(self):\n",
    "        return \"Woof! Woof!\"\n",
    "\n",
    "# Child Class: Cat\n",
    "class Cat(Animal):\n",
    "    def speak(self):\n",
    "        return \"Meow! Meow!\"\n",
    "\n",
    "# Creating Objects\n",
    "dog = Dog()\n",
    "cat = Cat()\n",
    "\n",
    "# Calling the speak() method\n",
    "print(dog.speak())  # Output: Woof! Woof!\n",
    "print(cat.speak())  # Output: Meow! Meow!"
   ]
  },
  {
   "cell_type": "markdown",
   "id": "96ec9fa5-5aaf-4189-a98b-933ca05cd170",
   "metadata": {},
   "source": [
    "8. Explain the role of the `isinstance()` function in Python and how it relates to inheritance."
   ]
  },
  {
   "cell_type": "markdown",
   "id": "5a5203c2-1a09-46c7-9a84-d80f85fbdec4",
   "metadata": {},
   "source": [
    "The isinstance(object, class) function checks if an object is an instance of a specified class (or its subclass). It returns True if the object belongs to the class (or a derived class) and False otherwise.\n",
    "\n",
    "Why Use isinstance:\n",
    "Checks Object Type: Helps verify if an object belongs to a particular class.\n",
    "Supports Inheritance: Returns True for subclasses, making it useful in polymorphism.\n",
    "Avoids Type Errors: Used in functions that accept multiple types.\n",
    "Used in Conditional Logic: Helps execute code differently based on object type."
   ]
  },
  {
   "cell_type": "markdown",
   "id": "a6b141aa-0a2e-47ad-ade4-149007396b57",
   "metadata": {},
   "source": [
    "9. What is the purpose of the `issubclass()` function in Python? Provide an example."
   ]
  },
  {
   "cell_type": "markdown",
   "id": "e18ff767-0572-4b69-96d8-b36e0ccb1e0e",
   "metadata": {},
   "source": [
    "The issubclass(subclass, parentclass) function checks whether a class is a subclass of another class. It returns True if the first argument is a subclass of the second argument and False otherwise.\n",
    "\n",
    "Purpose of issubclass()\n",
    "\n",
    "Verifies Class Inheritance → Ensures a class inherits from another.\n",
    "Supports Multiple Inheritance → Checks across multiple parent classes.\n",
    "Enhances Code Flexibility → Helps implement type-checking for dynamic behaviors.\n",
    "Useful in Polymorphism → Ensures proper use of derived classes."
   ]
  },
  {
   "cell_type": "code",
   "execution_count": 96,
   "id": "eb811e28-c33c-4cda-a65c-8b0c3298d2b9",
   "metadata": {},
   "outputs": [
    {
     "name": "stdout",
     "output_type": "stream",
     "text": [
      "True\n",
      "False\n",
      "True\n"
     ]
    }
   ],
   "source": [
    "#example\n",
    "class Animal:\n",
    "    pass\n",
    "\n",
    "class Dog(Animal):\n",
    "    pass\n",
    "\n",
    "class Cat:\n",
    "    pass\n",
    "\n",
    "# Checking subclass relationships\n",
    "print(issubclass(Dog, Animal))  # True (Dog is a subclass of Animal)\n",
    "print(issubclass(Cat, Animal))  # False (Cat does not inherit from Animal)\n",
    "print(issubclass(Dog, object))  # True (All classes inherit from object)"
   ]
  },
  {
   "cell_type": "markdown",
   "id": "bb42ef85-7f50-449f-bf9b-78e4751aae5f",
   "metadata": {},
   "source": [
    "10. Discuss the concept of constructor inheritance in Python. How are constructors inherited in child classes?"
   ]
  },
  {
   "cell_type": "markdown",
   "id": "b1c17632-7eec-4fcd-ad22-d7a47c5d7055",
   "metadata": {},
   "source": [
    "In Python, when a child class is created, it inherits the properties and methods of the parent class, including the constructor (__init__ method). However, constructor inheritance does not happen automatically if the child class has its own __init__ method.\n",
    "\n",
    "How are Constructors Inherited?\n",
    "\n",
    "Implicit Inheritance\n",
    "\n",
    "If a child class does not define its own __init__ method, it automatically inherits the parent's constructor.\n",
    "Overriding the Parent Constructor\n",
    "\n",
    "If a child class defines its own __init__, it replaces the parent's constructor.\n",
    "Using super() to Call Parent Constructor\n",
    "\n",
    "The super() function allows the child class to call the parent’s constructor explicitly, preserving parent attributes while adding new ones.\n"
   ]
  },
  {
   "cell_type": "markdown",
   "id": "036f4a99-5f26-4c1f-8198-b518a080cb6a",
   "metadata": {},
   "source": [
    "11. Create a Python class called `Shape` with a method `area()` that calculates the area of a shape. Then, create child classes `Circle` and `Rectangle` that inherit from `Shape` and implement the `area()` method\n",
    "accordingly. Provide an example."
   ]
  },
  {
   "cell_type": "code",
   "execution_count": 101,
   "id": "a6778001-227f-473d-9750-9be26f99ed53",
   "metadata": {},
   "outputs": [
    {
     "name": "stdout",
     "output_type": "stream",
     "text": [
      "Circle Area: 78.54\n",
      "Rectangle Area: 24\n"
     ]
    }
   ],
   "source": [
    "import math\n",
    "\n",
    "# Parent class\n",
    "class Shape:\n",
    "    def area(self):\n",
    "        pass  # Placeholder method, will be implemented in child classes\n",
    "\n",
    "# Child class: Circle\n",
    "class Circle(Shape):\n",
    "    def __init__(self, radius):\n",
    "        self.radius = radius\n",
    "\n",
    "    def area(self):\n",
    "        return math.pi * self.radius ** 2  # πr²\n",
    "\n",
    "# Child class: Rectangle\n",
    "class Rectangle(Shape):\n",
    "    def __init__(self, width, height):\n",
    "        self.width = width\n",
    "        self.height = height\n",
    "\n",
    "    def area(self):\n",
    "        return self.width * self.height  # Width × Height\n",
    "\n",
    "# Example Usage\n",
    "circle = Circle(5)\n",
    "rectangle = Rectangle(4, 6)\n",
    "\n",
    "print(f\"Circle Area: {circle.area():.2f}\")  # Output: Circle Area: 78.54\n",
    "print(f\"Rectangle Area: {rectangle.area()}\")  # Output: Rectangle Area: 24"
   ]
  },
  {
   "cell_type": "markdown",
   "id": "6d965a6f-3e86-4915-be2a-f01da9f19388",
   "metadata": {},
   "source": [
    "12. Explain the use of abstract base classes (ABCs) in Python and how they relate to inheritance. Provide an\n",
    "example using the `abc` module."
   ]
  },
  {
   "cell_type": "markdown",
   "id": "e874b3e9-45ad-4ecc-b894-ecfecd1b2ba8",
   "metadata": {},
   "source": [
    "Abstract Base Classes (ABCs) provide a mechanism for defining classes that cannot be instantiated on their own and serve as a blueprint for other classes. \n",
    "\n",
    "They are used to:\n",
    "\n",
    "Enforce a common API: Ensure that all subclasses implement specific methods.\n",
    "\n",
    "Promote consistency: Establish a formal contract that derived classes must follow.\n",
    "\n",
    "Leverage polymorphism: Allow different subclasses to be used interchangeably if they implement the abstract methods.\n",
    "In Python, the abc module is used to create abstract base classes. An abstract base class is defined by inheriting from abc.ABC and decorating methods with @abstractmethod to indicate that these methods must be implemented by any concrete subclass.\n",
    "\n",
    "How ABCs Relate to Inheritance\n",
    "\n",
    "Blueprint for Subclasses: ABCs define abstract methods that all subclasses are required to implement. This ensures a consistent interface across different implementations.\n",
    "\n",
    "Cannot Be Instantiated: You cannot create an instance of an ABC directly. Instead, you create instances of subclasses that have implemented all abstract methods.\n",
    "\n",
    "Support for Polymorphism: Since all subclasses adhere to the same interface defined by the ABC, you can write code that works with objects of any subclass without needing to know their concrete types."
   ]
  },
  {
   "cell_type": "code",
   "execution_count": 106,
   "id": "9dcd2ced-91ad-4e1e-ba38-443100885ad9",
   "metadata": {},
   "outputs": [
    {
     "name": "stdout",
     "output_type": "stream",
     "text": [
      "Circle Area: 78.54\n",
      "Rectangle Area: 24\n"
     ]
    }
   ],
   "source": [
    "#example\n",
    "import math\n",
    "from abc import ABC, abstractmethod\n",
    "\n",
    "# Abstract Base Class\n",
    "class Shape(ABC):\n",
    "    @abstractmethod\n",
    "    def area(self):\n",
    "        \"\"\"Calculate and return the area of the shape.\"\"\"\n",
    "        pass\n",
    "\n",
    "# Concrete subclass: Circle\n",
    "class Circle(Shape):\n",
    "    def __init__(self, radius):\n",
    "        self.radius = radius\n",
    "\n",
    "    def area(self):\n",
    "        # Implements area calculation for a circle: πr²\n",
    "        return math.pi * self.radius ** 2\n",
    "\n",
    "# Concrete subclass: Rectangle\n",
    "class Rectangle(Shape):\n",
    "    def __init__(self, width, height):\n",
    "        self.width = width\n",
    "        self.height = height\n",
    "\n",
    "    def area(self):\n",
    "        # Implements area calculation for a rectangle: width * height\n",
    "        return self.width * self.height\n",
    "\n",
    "# Example Usage:\n",
    "circle = Circle(5)\n",
    "rectangle = Rectangle(4, 6)\n",
    "\n",
    "print(f\"Circle Area: {circle.area():.2f}\")      # Output: Circle Area: 78.54\n",
    "print(f\"Rectangle Area: {rectangle.area()}\")     # Output: Rectangle Area: 24"
   ]
  },
  {
   "cell_type": "markdown",
   "id": "4bcd2527-ed42-4bf5-852b-d2ed169aea83",
   "metadata": {},
   "source": [
    "13. How can you prevent a child class from modifying certain attributes or methods inherited from a parent\n",
    "class in Python?"
   ]
  },
  {
   "cell_type": "code",
   "execution_count": 109,
   "id": "5b493143-053f-4df3-a9eb-ab9de4d6d2b1",
   "metadata": {},
   "outputs": [
    {
     "name": "stdout",
     "output_type": "stream",
     "text": [
      "Cannot be easily modified\n",
      "Cannot be easily modified\n"
     ]
    }
   ],
   "source": [
    "class Parent:\n",
    "    def __init__(self):\n",
    "        self.__secret = \"Cannot be easily modified\"\n",
    "\n",
    "    def __private_method(self):\n",
    "        print(\"This is a private method.\")\n",
    "\n",
    "    def get_secret(self):\n",
    "        return self.__secret\n",
    "\n",
    "class Child(Parent):\n",
    "    def __init__(self):\n",
    "        super().__init__()\n",
    "        # Attempting to override __secret or __private_method will not affect the mangled names.\n",
    "        self.__secret = \"Modified in Child\"  # This creates a new attribute for Child, not overriding Parent's __secret.\n",
    "\n",
    "    # This does not override Parent's __private_method because of name mangling.\n",
    "    def __private_method(self):\n",
    "        print(\"Child's private method.\")\n",
    "\n",
    "# Usage\n",
    "p = Parent()\n",
    "c = Child()\n",
    "\n",
    "print(p.get_secret())  # Output: Cannot be easily modified\n",
    "print(c.get_secret())  # Output: Cannot be easily modified"
   ]
  },
  {
   "cell_type": "markdown",
   "id": "0b39a9ca-ab77-4e20-ae71-b58cc913fdb8",
   "metadata": {},
   "source": [
    "14. Create a Python class called `Employee` with attributes `name` and `salary`. Then, create a child class\n",
    "`Manager` that inherits from `Employee` and adds an attribute `department`. Provide an example."
   ]
  },
  {
   "cell_type": "code",
   "execution_count": 112,
   "id": "3bb46e2f-2a8a-4272-af42-07e641af1aed",
   "metadata": {},
   "outputs": [
    {
     "name": "stdout",
     "output_type": "stream",
     "text": [
      "Employee Name: Alice Johnson\n",
      "Salary: 85000\n",
      "Department: Engineering\n"
     ]
    }
   ],
   "source": [
    "# Parent Class: Employee\n",
    "class Employee:\n",
    "    def __init__(self, name, salary):\n",
    "        self.name = name\n",
    "        self.salary = salary\n",
    "\n",
    "    def display_info(self):\n",
    "        print(f\"Employee Name: {self.name}\")\n",
    "        print(f\"Salary: {self.salary}\")\n",
    "\n",
    "# Child Class: Manager, which inherits from Employee\n",
    "class Manager(Employee):\n",
    "    def __init__(self, name, salary, department):\n",
    "        # Call the parent class constructor to initialize name and salary\n",
    "        super().__init__(name, salary)\n",
    "        self.department = department\n",
    "\n",
    "    # Optionally, extend or override methods from the parent class\n",
    "    def display_info(self):\n",
    "        # Call the parent's display_info() method to show basic info\n",
    "        super().display_info()\n",
    "        # Add the department information\n",
    "        print(f\"Department: {self.department}\")\n",
    "\n",
    "# Example: Creating a Manager object and displaying information\n",
    "manager = Manager(\"Alice Johnson\", 85000, \"Engineering\")\n",
    "manager.display_info()"
   ]
  },
  {
   "cell_type": "markdown",
   "id": "3729a564-3ad9-4f2e-962a-8afe1648e3e7",
   "metadata": {},
   "source": [
    "15. Discuss the concept of method overloading in Python inheritance. How does it differ from method\n",
    "overriding?"
   ]
  },
  {
   "cell_type": "markdown",
   "id": "73a1e72e-fe84-4f3c-a1d7-28b15df99741",
   "metadata": {},
   "source": [
    "In Python, method overloading and method overriding are two distinct concepts in the context of object-oriented programming and inheritance. However, Python’s approach to method overloading is different from some other languages.\n",
    "\n",
    "Method Overloading in Python\n",
    "\n",
    "Traditional Method Overloading:\n",
    "In languages like Java or C++, you can define multiple methods with the same name but different parameter lists (number, type, or order of parameters). This is known as method overloading.\n",
    "\n",
    "Python's Approach:\n",
    "Python does not support traditional method overloading. If you define multiple methods with the same name in a class, the last definition overrides the earlier ones.\n",
    "\n",
    "Simulating Overloading:\n",
    "\n",
    "    You can simulate method overloading in Python by:\n",
    "\n",
    "Using default argument values.\n",
    "Utilizing variable-length arguments with *args and **kwargs."
   ]
  },
  {
   "cell_type": "markdown",
   "id": "ea336c83-eb03-48a4-acb5-f83ead25d609",
   "metadata": {},
   "source": [
    "16. Explain the purpose of the `__init__()` method in Python inheritance and how it is utilized in child classes."
   ]
  },
  {
   "cell_type": "markdown",
   "id": "52b28012-2227-433c-a05c-0d1694895a74",
   "metadata": {},
   "source": [
    "The __init__() method in Python is a special constructor used to initialize new objects. In the context of inheritance, its purpose and utilization are as follows:\n",
    "\n",
    "Purpose in Inheritance\n",
    "\n",
    "Initializing Inherited Attributes:\n",
    "When a child class inherits from a parent class, the parent’s __init__() method typically sets up attributes common to all subclasses. This ensures that every object, regardless of its specific subclass, starts with a consistent initial state.\n",
    "\n",
    "Extending Initialization:\n",
    "Child classes can define their own __init__() method to add or modify the initialization process. This allows a subclass to introduce additional attributes or perform extra setup tasks beyond what the parent class does.\n",
    "\n",
    "Maintaining Code Reuse and Consistency:\n",
    "By leveraging the parent's __init__(), you avoid duplicating code. Instead of rewriting the initialization of shared attributes, the child class can call the parent’s constructor and then perform its own initialization. This promotes cleaner and more maintainable code.\n",
    "\n",
    "Utilization in Child Classes\n",
    "\n",
    "Child classes use the __init__() method to:\n",
    "\n",
    "Call the Parent’s Constructor:\n",
    "This is commonly done using the super() function. By calling super().__init__(...), the child class ensures that all the initialization logic from the parent class is executed.\n",
    "\n",
    "Add Child-Specific Initialization:\n",
    "After calling the parent's constructor, the child class can then initialize attributes that are unique to it."
   ]
  },
  {
   "cell_type": "markdown",
   "id": "a3e3f142-607a-48c7-a611-475caa96438e",
   "metadata": {},
   "source": [
    "17. Create a Python class called `Bird` with a method `fly()`. Then, create child classes `Eagle` and `Sparrow` that inherit from `Bird` and implement the `fly()` method differently. Provide an example of using these\n",
    "classes."
   ]
  },
  {
   "cell_type": "code",
   "execution_count": 121,
   "id": "5238ceb9-fec1-4506-a768-c14b115ed38d",
   "metadata": {},
   "outputs": [
    {
     "name": "stdout",
     "output_type": "stream",
     "text": [
      "The eagle soars high in the sky!\n",
      "The sparrow flutters swiftly through the air!\n"
     ]
    }
   ],
   "source": [
    "# Parent class: Bird\n",
    "class Bird:\n",
    "    def fly(self):\n",
    "        print(\"This bird is flying.\")\n",
    "\n",
    "# Child class: Eagle\n",
    "class Eagle(Bird):\n",
    "    def fly(self):\n",
    "        print(\"The eagle soars high in the sky!\")\n",
    "\n",
    "# Child class: Sparrow\n",
    "class Sparrow(Bird):\n",
    "    def fly(self):\n",
    "        print(\"The sparrow flutters swiftly through the air!\")\n",
    "\n",
    "# Example usage\n",
    "if __name__ == \"__main__\":\n",
    "    eagle = Eagle()\n",
    "    sparrow = Sparrow()\n",
    "\n",
    "    # Calling the fly() method on each instance\n",
    "    eagle.fly()       # Output: The eagle soars high in the sky!\n",
    "    sparrow.fly()     # Output: The sparrow flutters swiftly through the air!"
   ]
  },
  {
   "cell_type": "markdown",
   "id": "b1c42078-c1fd-4212-a425-5e3e0fbb8a79",
   "metadata": {},
   "source": [
    "18. What is the \"diamond problem\" in multiple inheritance, and how does Python address it?"
   ]
  },
  {
   "cell_type": "markdown",
   "id": "87120685-b785-44d2-9cd0-bd1acc1ad9d3",
   "metadata": {},
   "source": [
    "The diamond problem in multiple inheritance refers to an ambiguity that arises when a class inherits from two classes that both inherit from a common base class. In such a situation, the inheritance diagram forms a diamond shape:\n",
    "\n",
    "How Python Addresses the Diamond Problem\n",
    "\n",
    "Python resolves this ambiguity using the Method Resolution Order (MRO), which is a linearization of the inheritance graph. The MRO determines the order in which base classes are searched when looking up a method. Python uses the C3 linearization algorithm to compute the MRO, ensuring that:\n",
    "\n",
    "Each class appears before its parents.\n",
    "The order of inheritance as declared in the class definition is preserved.\n",
    "Each class is visited only once.\n",
    "When using the super() function in this context, Python follows the MRO, which helps in making sure that the method calls are directed appropriately through the inheritance hierarchy."
   ]
  },
  {
   "cell_type": "markdown",
   "id": "6b53425b-6b04-4059-8448-2787d5838a2d",
   "metadata": {},
   "source": [
    "19. Discuss the concept of \"is-a\" and \"has-a\" relationships in inheritance, and provide examples of each."
   ]
  },
  {
   "cell_type": "markdown",
   "id": "7e7524f2-db85-4a39-a905-cdb6956c9efa",
   "metadata": {},
   "source": [
    "\"Is-a\" Relationship\n",
    "Definition:\n",
    "An \"is-a\" relationship implies inheritance or specialization. It means that one class is a specific type of another class. In other words, the subclass is a kind of the parent class."
   ]
  },
  {
   "cell_type": "code",
   "execution_count": 128,
   "id": "3a86f080-f732-4046-94da-8f7ecddf9202",
   "metadata": {},
   "outputs": [
    {
     "name": "stdout",
     "output_type": "stream",
     "text": [
      "Animal is eating.\n",
      "Dog barks.\n"
     ]
    }
   ],
   "source": [
    "#example\n",
    "# Parent class: Animal\n",
    "class Animal:\n",
    "    def eat(self):\n",
    "        print(\"Animal is eating.\")\n",
    "\n",
    "# Child class: Dog, which is a type of Animal\n",
    "class Dog(Animal):\n",
    "    def bark(self):\n",
    "        print(\"Dog barks.\")\n",
    "\n",
    "# Usage:\n",
    "my_dog = Dog()\n",
    "my_dog.eat()  # Inherited from Animal: Output -> Animal is eating.\n",
    "my_dog.bark() # Specific to Dog: Output -> Dog barks."
   ]
  },
  {
   "cell_type": "markdown",
   "id": "e6275e84-4c12-4431-a98e-2ac756573fd1",
   "metadata": {},
   "source": [
    "\"Has-a\" Relationship\n",
    "Definition:\n",
    "A \"has-a\" relationship, also known as composition or aggregation, implies that one class contains or is composed of another class as an attribute. This relationship is not about inheritance but about object composition."
   ]
  },
  {
   "cell_type": "code",
   "execution_count": 131,
   "id": "477e9d15-92ea-4624-83e7-2756b9d627c5",
   "metadata": {},
   "outputs": [
    {
     "name": "stdout",
     "output_type": "stream",
     "text": [
      "Car is starting...\n",
      "Engine starts.\n"
     ]
    }
   ],
   "source": [
    "#example\n",
    "# Class representing an Engine\n",
    "class Engine:\n",
    "    def start(self):\n",
    "        print(\"Engine starts.\")\n",
    "\n",
    "# Class representing a Car that has an Engine\n",
    "class Car:\n",
    "    def __init__(self, engine):\n",
    "        self.engine = engine  # Car has an Engine\n",
    "\n",
    "    def start_car(self):\n",
    "        print(\"Car is starting...\")\n",
    "        self.engine.start()\n",
    "\n",
    "# Usage:\n",
    "engine = Engine()\n",
    "my_car = Car(engine)\n",
    "my_car.start_car()"
   ]
  },
  {
   "cell_type": "markdown",
   "id": "005230ec-8945-48d3-9911-1743352e1d19",
   "metadata": {},
   "source": [
    "20. Create a Python class hierarchy for a university system. Start with a base class `Person` and create child\n",
    "classes `Student` and `Professor`, each with their own attributes and methods. Provide an example of using\n",
    "these classes in a university context."
   ]
  },
  {
   "cell_type": "code",
   "execution_count": 134,
   "id": "0f26e246-7bf4-42be-997a-7f33a56968ff",
   "metadata": {},
   "outputs": [
    {
     "name": "stdout",
     "output_type": "stream",
     "text": [
      "=== Student Information ===\n",
      "Name: Alice\n",
      "Age: 20\n",
      "Student ID: S1001\n",
      "Major: Computer Science\n",
      "Alice has enrolled in Data Structures.\n",
      "\n",
      "=== Professor Information ===\n",
      "Name: Dr. Smith\n",
      "Age: 45\n",
      "Professor ID: P2001\n",
      "Department: Computer Science\n",
      "Professor Dr. Smith is teaching Operating Systems.\n"
     ]
    }
   ],
   "source": [
    "# Base Class: Person\n",
    "class Person:\n",
    "    def __init__(self, name, age):\n",
    "        self.name = name\n",
    "        self.age = age\n",
    "\n",
    "    def display_info(self):\n",
    "        print(f\"Name: {self.name}\")\n",
    "        print(f\"Age: {self.age}\")\n",
    "\n",
    "# Child Class: Student, inheriting from Person\n",
    "class Student(Person):\n",
    "    def __init__(self, name, age, student_id, major):\n",
    "        # Initialize inherited attributes using the parent class constructor\n",
    "        super().__init__(name, age)\n",
    "        self.student_id = student_id\n",
    "        self.major = major\n",
    "\n",
    "    def display_info(self):\n",
    "        # Display the inherited attributes\n",
    "        super().display_info()\n",
    "        # Display student-specific attributes\n",
    "        print(f\"Student ID: {self.student_id}\")\n",
    "        print(f\"Major: {self.major}\")\n",
    "\n",
    "    def enroll(self, course):\n",
    "        print(f\"{self.name} has enrolled in {course}.\")\n",
    "\n",
    "# Child Class: Professor, inheriting from Person\n",
    "class Professor(Person):\n",
    "    def __init__(self, name, age, professor_id, department):\n",
    "        # Initialize inherited attributes using the parent class constructor\n",
    "        super().__init__(name, age)\n",
    "        self.professor_id = professor_id\n",
    "        self.department = department\n",
    "\n",
    "    def display_info(self):\n",
    "        # Display the inherited attributes\n",
    "        super().display_info()\n",
    "        # Display professor-specific attributes\n",
    "        print(f\"Professor ID: {self.professor_id}\")\n",
    "        print(f\"Department: {self.department}\")\n",
    "\n",
    "    def teach(self, course):\n",
    "        print(f\"Professor {self.name} is teaching {course}.\")\n",
    "\n",
    "# Example usage in a university context:\n",
    "if __name__ == \"__main__\":\n",
    "    # Create a Student object\n",
    "    student = Student(\"Alice\", 20, \"S1001\", \"Computer Science\")\n",
    "    # Create a Professor object\n",
    "    professor = Professor(\"Dr. Smith\", 45, \"P2001\", \"Computer Science\")\n",
    "\n",
    "    print(\"=== Student Information ===\")\n",
    "    student.display_info()\n",
    "    student.enroll(\"Data Structures\")\n",
    "\n",
    "    print(\"\\n=== Professor Information ===\")\n",
    "    professor.display_info()\n",
    "    professor.teach(\"Operating Systems\")"
   ]
  },
  {
   "cell_type": "markdown",
   "id": "7672b9c7-537c-41ad-b0ce-ca0854659b4f",
   "metadata": {},
   "source": [
    "# Encapsulation:"
   ]
  },
  {
   "cell_type": "markdown",
   "id": "77b6e9b6-f375-4ea1-8dd4-2980598d51d6",
   "metadata": {},
   "source": [
    "1. Explain the concept of encapsulation in Python. What is its role in object-oriented programming?"
   ]
  },
  {
   "cell_type": "markdown",
   "id": "4d266b8f-f918-446b-b0f7-96c0d8192f74",
   "metadata": {},
   "source": [
    "Encapsulation is one of the four fundamental principles of object-oriented programming (OOP), along with inheritance, polymorphism, and abstraction. In Python, encapsulation refers to the practice of bundling data (attributes) and the methods (functions) that operate on that data into a single unit, i.e., a class. It also involves restricting direct access to some of an object's components, which is a way of preventing accidental or unauthorized modifications.\n",
    "\n",
    "Key Aspects of Encapsulation\n",
    "\n",
    "Data Hiding:Encapsulation enables data hiding by restricting direct access to an object's internal state. In Python, this is commonly achieved by using:\n",
    "\n",
    "Private Attributes/Methods: Although Python doesn't enforce strict access modifiers like private or protected found in other languages, a common convention is to prefix attribute or method names with one or two underscores (e.g., _attribute or __attribute) to indicate that they are intended for internal use only.\n",
    "\n",
    "Controlled Access:Instead of allowing direct access to data, encapsulation provides controlled access through methods. For example, getter and setter methods can be used to access and update the private attributes while enforcing any constraints or validations.\n",
    "\n",
    "Improved Maintainability:By hiding the internal implementation details and exposing only a well-defined interface, encapsulation makes it easier to change or update the internal workings of a class without affecting external code that relies on the class.\n",
    "\n",
    "Increased Security:Encapsulation prevents external code from putting the object into an invalid state by restricting how data is modified."
   ]
  },
  {
   "cell_type": "markdown",
   "id": "3ad66aff-1ff6-4024-a80b-ef8d0f21b486",
   "metadata": {},
   "source": [
    "2. Describe the key principles of encapsulation, including access control and data hiding."
   ]
  },
  {
   "cell_type": "markdown",
   "id": "69009978-ed1a-41a2-8519-141028a18bc9",
   "metadata": {},
   "source": [
    "Encapsulation is a core principle of object-oriented programming (OOP) that helps in structuring code by bundling data (attributes) and behaviors (methods) within a class. The primary goal of encapsulation is to control access to an object's data to ensure its integrity and security.\n",
    "\n",
    "Here are the key principles of encapsulation:\n",
    "\n",
    "1. Data Hiding (Information Hiding)\n",
    "\n",
    "Concept: Prevents direct access to an object's attributes, ensuring that modifications occur only through controlled methods.\n",
    "Why? Protects data from accidental changes and unauthorized access.\n",
    "How in Python? Uses private (__attribute) and protected (_attribute) attributes.\n",
    "\n",
    "2. Access Control (Using Public, Protected, and Private Attributes)\n",
    "Encapsulation controls how data can be accessed and modified. Python follows a naming convention to specify different levels of access:\n",
    "\n",
    "a) Public Members (Accessible from anywhere)\n",
    "Defined without underscores.\n",
    "Can be accessed and modified directly.\n",
    "\n",
    "b) Protected Members (Accessible within class and subclasses)\n",
    "Defined with a single underscore (_attribute).\n",
    "Indicates that an attribute should not be accessed directly outside the class, but it's still accessible.\n",
    "\n",
    "c) Private Members (Strictly controlled access)\n",
    "Defined with double underscores (__attribute).\n",
    "Cannot be accessed directly outside the class due to name mangling (_ClassName__attribute)."
   ]
  },
  {
   "cell_type": "markdown",
   "id": "c9b7da54-af5f-4768-ac6a-d40fc978d1c8",
   "metadata": {},
   "source": [
    "3. How can you achieve encapsulation in Python classes? Provide an example."
   ]
  },
  {
   "cell_type": "markdown",
   "id": "49d20f93-36e1-497a-a49c-952fc1d940e5",
   "metadata": {},
   "source": [
    "Encapsulation in Python can be achieved by:\n",
    "\n",
    "Using Private and Protected Attributes: In Python, attributes can be made private (or protected) by using underscores (_ for protected and __ for private).\n",
    "Using Getter and Setter Methods: These methods allow controlled access to private attributes.\n",
    "Here's a step-by-step explanation with an example:\n",
    "\n",
    "Steps to Achieve Encapsulation in Python:\n",
    "Private Attributes: Use double underscores (__) to make an attribute private. This prevents direct access to the attribute outside the class.\n",
    "Getter and Setter Methods: These methods are used to get or set the values of private attributes. They provide controlled access to the private data.\n"
   ]
  },
  {
   "cell_type": "code",
   "execution_count": 143,
   "id": "b405c21d-0c54-42a0-9b32-c1beb7fb958c",
   "metadata": {},
   "outputs": [
    {
     "name": "stdout",
     "output_type": "stream",
     "text": [
      "Account balance: 1000\n",
      "Deposited 500. New balance: 1500\n",
      "Withdrew 200. Remaining balance: 1300\n"
     ]
    }
   ],
   "source": [
    "# Example of Encapsulation in Python:\n",
    "\n",
    "class BankAccount:\n",
    "    def __init__(self, account_holder, balance=0):\n",
    "        self.account_holder = account_holder  # Public attribute\n",
    "        self.__balance = balance  # Private attribute\n",
    "\n",
    "    # Getter method to access the private balance attribute\n",
    "    def get_balance(self):\n",
    "        return self.__balance\n",
    "\n",
    "    # Setter method to modify the private balance attribute\n",
    "    def deposit(self, amount):\n",
    "        if amount > 0:\n",
    "            self.__balance += amount\n",
    "            print(f\"Deposited {amount}. New balance: {self.__balance}\")\n",
    "        else:\n",
    "            print(\"Deposit amount must be positive.\")\n",
    "\n",
    "    def withdraw(self, amount):\n",
    "        if 0 < amount <= self.__balance:\n",
    "            self.__balance -= amount\n",
    "            print(f\"Withdrew {amount}. Remaining balance: {self.__balance}\")\n",
    "        else:\n",
    "            print(\"Invalid withdrawal amount.\")\n",
    "\n",
    "# Creating an object of BankAccount\n",
    "account = BankAccount(\"John Doe\", 1000)\n",
    "\n",
    "# Accessing the private attribute using a getter method\n",
    "print(f\"Account balance: {account.get_balance()}\")\n",
    "\n",
    "# Using setter methods to modify the balance\n",
    "account.deposit(500)\n",
    "account.withdraw(200)"
   ]
  },
  {
   "cell_type": "markdown",
   "id": "559acb24-feee-4770-8056-d00e53d2697c",
   "metadata": {},
   "source": [
    "4. Discuss the difference between public, private, and protected access modifiers in Python."
   ]
  },
  {
   "cell_type": "markdown",
   "id": "0fa728b8-1d8c-43ea-a3f2-2c7722d2c469",
   "metadata": {},
   "source": [
    "1. Public Access Modifier\n",
    "Definition: Attributes or methods that are public are accessible from anywhere, both inside and outside the class.\n",
    "\n",
    "Syntax: These attributes are defined without any underscore.\n",
    "\n",
    "Usage: Public members are meant to be directly accessible, and their values can be read or modified freely.\n",
    "\n",
    "2. Protected Access Modifier\n",
    "Definition: Attributes or methods that are protected are intended to be accessed within the class and its subclasses, but not from outside.\n",
    "\n",
    "Syntax: These attributes are defined with a single underscore (_) at the beginning.\n",
    "\n",
    "Usage: Protected members are a convention to indicate that they are not meant to be accessed directly from outside the class, but they are still accessible.\n",
    "\n",
    "3. Private Access Modifier\n",
    "Definition: Attributes or methods that are private are intended to be accessible only within the class in which they are defined.\n",
    "\n",
    "Syntax: These attributes are defined with double underscores (__) at the beginning of the attribute or method name.\n",
    "\n",
    "Usage: Private members are strictly for internal use within the class and are not directly accessible from outside the class. Python implements name mangling to ensure privacy by changing the name of the private attribute to _ClassName__attribute."
   ]
  },
  {
   "cell_type": "markdown",
   "id": "6e1a6fe1-7099-4e17-82c1-855579f49bf5",
   "metadata": {},
   "source": [
    "5. Create a Python class called `Person` with a private attribute `__name`. Provide methods to get and set the\n",
    "name attribute."
   ]
  },
  {
   "cell_type": "code",
   "execution_count": 150,
   "id": "c767e382-265e-400a-95f3-5e645471bcfd",
   "metadata": {},
   "outputs": [
    {
     "name": "stdout",
     "output_type": "stream",
     "text": [
      "Alice\n",
      "Bob\n"
     ]
    }
   ],
   "source": [
    "class Person:\n",
    "    def __init__(self, name):\n",
    "        self.__name = name  # Private attribute\n",
    "\n",
    "    # Getter method to access the private attribute\n",
    "    def get_name(self):\n",
    "        return self.__name\n",
    "\n",
    "    # Setter method to modify the private attribute\n",
    "    def set_name(self, name):\n",
    "        self.__name = name\n",
    "\n",
    "# Create a Person object\n",
    "person = Person(\"Alice\")\n",
    "\n",
    "# Accessing the private attribute through the getter method\n",
    "print(person.get_name())  # Output: Alice\n",
    "\n",
    "# Modifying the private attribute through the setter method\n",
    "person.set_name(\"Bob\")\n",
    "print(person.get_name())  # Output: Bob"
   ]
  },
  {
   "cell_type": "markdown",
   "id": "375a780f-7265-40ba-b706-a55560ee8894",
   "metadata": {},
   "source": [
    "6. Explain the purpose of getter and setter methods in encapsulation. Provide examples."
   ]
  },
  {
   "cell_type": "markdown",
   "id": "559223c4-e04c-467d-8bbd-efd12eab64c8",
   "metadata": {},
   "source": [
    "Getter and setter methods are used in object-oriented programming to control access to the private attributes of a class. They are part of encapsulation, a key concept in object-oriented design, which hides the internal state of an object and allows controlled access to it. Here's how they work:\n",
    "\n",
    "Getter Methods: These methods are used to retrieve the value of a private attribute. They allow outside classes or functions to access the value of private variables safely.\n",
    "\n",
    "Setter Methods: These methods are used to set or modify the value of a private attribute. They provide a way to enforce rules or constraints when assigning a new value to the attribute.\n",
    "\n",
    "By using getter and setter methods, we can protect the integrity of the data and ensure that it can only be modified in a controlled way.\n",
    "\n",
    "Why Use Getter and Setter Methods?\n",
    "\n",
    "Data Integrity: These methods allow validation checks before modifying or retrieving an attribute's value. For example, we might want to ensure that the value assigned to an attribute falls within a certain range or meets a certain condition.\n",
    "\n",
    "Control Over Access: Getters and setters give you fine-grained control over how attributes are accessed and modified. You can change the internal implementation of a class without affecting the external code that uses the class.\n",
    "\n",
    "Abstraction: The actual implementation of how attributes are stored or modified is hidden from the user. They interact only with the getter and setter methods."
   ]
  },
  {
   "cell_type": "code",
   "execution_count": 154,
   "id": "ccbd8735-8b49-4873-8680-e4d21ccae903",
   "metadata": {},
   "outputs": [
    {
     "name": "stdout",
     "output_type": "stream",
     "text": [
      "Alice\n",
      "30\n",
      "Bob\n",
      "35\n",
      "Invalid name\n",
      "Invalid age\n"
     ]
    }
   ],
   "source": [
    "# example\n",
    "class Person:\n",
    "    def __init__(self, name, age):\n",
    "        self.__name = name  # Private attribute\n",
    "        self.__age = age    # Private attribute\n",
    "\n",
    "    # Getter method to access the __name attribute\n",
    "    def get_name(self):\n",
    "        return self.__name\n",
    "\n",
    "    # Setter method to modify the __name attribute\n",
    "    def set_name(self, name):\n",
    "        if len(name) > 0:\n",
    "            self.__name = name\n",
    "        else:\n",
    "            print(\"Invalid name\")\n",
    "\n",
    "    # Getter method to access the __age attribute\n",
    "    def get_age(self):\n",
    "        return self.__age\n",
    "\n",
    "    # Setter method to modify the __age attribute\n",
    "    def set_age(self, age):\n",
    "        if age >= 0:\n",
    "            self.__age = age\n",
    "        else:\n",
    "            print(\"Invalid age\")\n",
    "\n",
    "# Create a Person object\n",
    "person = Person(\"Alice\", 30)\n",
    "\n",
    "# Accessing the private attributes via getter methods\n",
    "print(person.get_name())  # Output: Alice\n",
    "print(person.get_age())   # Output: 30\n",
    "\n",
    "# Modifying the private attributes via setter methods\n",
    "person.set_name(\"Bob\")\n",
    "person.set_age(35)\n",
    "\n",
    "print(person.get_name())  # Output: Bob\n",
    "print(person.get_age())   # Output: 35\n",
    "\n",
    "# Attempt to set an invalid name\n",
    "person.set_name(\"\")  # Output: Invalid name\n",
    "\n",
    "# Attempt to set an invalid age\n",
    "person.set_age(-5)  # Output: Invalid age"
   ]
  },
  {
   "cell_type": "markdown",
   "id": "9e3bc787-7967-446d-bf4b-8a1c8e3ce36d",
   "metadata": {},
   "source": [
    "7. What is name mangling in Python, and how does it affect encapsulation?"
   ]
  },
  {
   "cell_type": "markdown",
   "id": "787af0f0-8cb1-459c-91a9-57a9ef2fc831",
   "metadata": {},
   "source": [
    "Name mangling in Python is a technique used to modify the name of an attribute in such a way that it is not easily accessible from outside the class. It is primarily used to implement encapsulation by ensuring that private attributes or methods are less accessible to external code, especially in the case of inheritance.\n",
    "\n",
    "When you define an attribute with a double underscore (__) at the beginning of its name, Python performs name mangling to make the attribute's name unique to the class, preventing accidental access or modification by external code (or child classes). This is a safeguard, but it does not make the attribute completely private.\n",
    "\n",
    "How Name Mangling Works:\n",
    "\n",
    "If you create an attribute with double underscores (__) in the class, Python internally changes its name by adding a prefix that includes the class name. This prevents accidental name collisions in subclasses, making it less likely that you will inadvertently override or access the attribute."
   ]
  },
  {
   "cell_type": "markdown",
   "id": "341fa713-9864-4689-8db6-1b8f74903297",
   "metadata": {},
   "source": [
    "8. Create a Python class called `BankAccount` with private attributes for the account balance (`__balance`)"
   ]
  },
  {
   "cell_type": "code",
   "execution_count": 159,
   "id": "c11265b6-c82c-442c-8c09-dfca5550c6a7",
   "metadata": {},
   "outputs": [
    {
     "name": "stdout",
     "output_type": "stream",
     "text": [
      "Initial balance: 1000\n",
      "Deposited: 500\n",
      "Withdrew: 200\n",
      "Final balance: 1300\n"
     ]
    }
   ],
   "source": [
    "class BankAccount:\n",
    "    def __init__(self, initial_balance=0):\n",
    "        self.__balance = initial_balance  # Private attribute\n",
    "\n",
    "    # Getter method to access balance\n",
    "    def get_balance(self):\n",
    "        return self.__balance\n",
    "\n",
    "    # Setter method to update balance (deposit money)\n",
    "    def deposit(self, amount):\n",
    "        if amount > 0:\n",
    "            self.__balance += amount\n",
    "            print(f\"Deposited: {amount}\")\n",
    "        else:\n",
    "            print(\"Deposit amount must be positive.\")\n",
    "\n",
    "    # Method to withdraw money\n",
    "    def withdraw(self, amount):\n",
    "        if 0 < amount <= self.__balance:\n",
    "            self.__balance -= amount\n",
    "            print(f\"Withdrew: {amount}\")\n",
    "        elif amount > self.__balance:\n",
    "            print(\"Insufficient funds.\")\n",
    "        else:\n",
    "            print(\"Withdrawal amount must be positive.\")\n",
    "\n",
    "# Create a BankAccount object with an initial balance of 1000\n",
    "account = BankAccount(1000)\n",
    "\n",
    "# Check the balance\n",
    "print(f\"Initial balance: {account.get_balance()}\")\n",
    "\n",
    "# Deposit money\n",
    "account.deposit(500)\n",
    "\n",
    "# Withdraw money\n",
    "account.withdraw(200)\n",
    "\n",
    "# Check balance after transactions\n",
    "print(f\"Final balance: {account.get_balance()}\")"
   ]
  },
  {
   "cell_type": "markdown",
   "id": "be526c44-1141-4eea-baa4-50b2dd3649a2",
   "metadata": {},
   "source": [
    "9. Discuss the advantages of encapsulation in terms of code maintainability and security."
   ]
  },
  {
   "cell_type": "markdown",
   "id": "23c4ad25-f6e1-4d64-9d26-58710d6a5af1",
   "metadata": {},
   "source": [
    "1. Improved Code Maintainability:\n",
    "\n",
    "Controlled Access to Data: Encapsulation ensures that the internal state of an object is hidden from the outside world. Through getters and setters, the internal details can be changed without affecting the external code that uses the class. This makes the code easier to maintain, as changes to the internal implementation do not require changes to external code that interacts with the object.\n",
    "\n",
    "Example: If you later decide to change how the balance is calculated in a BankAccount class (e.g., adding interest), external code doesn't need to be modified if the access to the balance is done through a getter method.\n",
    "\n",
    "Reduced Complexity: By encapsulating the internal implementation details of an object, it is easier to understand the system as a whole. Users of the class need only know about the public methods and attributes rather than the implementation specifics, which reduces complexity and makes the system easier to modify and extend.\n",
    "\n",
    "Enhanced Readability: When the internal data of an object is encapsulated, the class provides a clear and simple interface through its public methods. This helps developers understand the functionality quickly and easily without worrying about the internal workings of the class.\n",
    "\n",
    "2. Improved Security:\n",
    "\n",
    "Data Protection: Encapsulation ensures that sensitive data is hidden from unauthorized access. By marking attributes as private (using __), you protect them from being accessed or modified directly from outside the class. This is crucial in situations where data integrity and security are important, such as financial or personal data.\n",
    "\n",
    "Example: In a BankAccount class, by making the balance attribute private, you prevent external code from directly changing the balance, which could lead to errors or fraud.\n",
    "\n",
    "Preventing Unintended Modifications: Encapsulation allows you to control how data is modified by using setter methods. For instance, if you have a private attribute, you can define a setter method that checks the validity of the data before making changes. This prevents invalid or harmful data from being set.\n",
    "\n",
    "Example: In the BankAccount class, you can ensure that only positive amounts are deposited or withdrawn by implementing checks inside setter methods.\n",
    "\n",
    "Minimizing the Impact of Changes: If the internal implementation of a class changes (e.g., changing how data is stored or calculated), encapsulation ensures that the external interface remains consistent. As a result, external code that uses the class doesn't need to be modified, reducing the risk of errors and improving security by preventing external entities from relying on specific internal details.\n",
    "\n",
    "Encapsulation in Multi-threading or Distributed Systems: In multi-threaded applications, encapsulation can be used to avoid race conditions or security vulnerabilities that may arise when multiple threads attempt to access or modify shared data. With private variables and methods, you can ensure that the internal state is protected and only accessed in controlled ways.\n",
    "\n",
    "3. Flexible Security Policies:\n",
    "\n",
    "Granular Access Control: Encapsulation provides the ability to specify exactly who can access and modify certain data through controlled interfaces. You can create public methods for common use, while keeping critical data hidden or protected with private or protected access. This ensures that only the necessary parts of the data are exposed and modifiable.\n",
    "\n",
    "Example: A class may have certain methods public for access, but other methods may be private or protected for internal use only, providing different levels of access control based on the situation.\n",
    "\n",
    "Ease of Applying Security Checks: By encapsulating sensitive operations in methods, you can apply necessary security checks and validations whenever data is accessed or modified. This is especially useful for maintaining data consistency and preventing unauthorized access or data manipulation.\n",
    "\n",
    "4. Modular and Reusable Code:\n",
    "\n",
    "Separation of Concerns: Encapsulation allows each class to manage its internal state and behaviors independently of other classes. This helps in keeping the code modular, and each class becomes more focused on its own responsibilities. A class can be reused in different parts of an application or even across different applications without the risk of unexpected external modifications.\n",
    "\n",
    "Maintainable and Extensible Codebase: Since classes are self-contained and encapsulate their internal workings, you can more easily extend and modify them over time. If you need to add new features or change the behavior of a class, you only need to modify the class itself and not worry about unintended side effects on other parts of the system."
   ]
  },
  {
   "cell_type": "markdown",
   "id": "0871e5d8-7d93-48eb-8eee-1f6b1fd4ec7c",
   "metadata": {},
   "source": [
    "10. How can you access private attributes in Python? Provide an example demonstrating the use of name\n",
    "mangling."
   ]
  },
  {
   "cell_type": "markdown",
   "id": "30628ad0-57a3-4102-8fe7-40df7c5e33ec",
   "metadata": {},
   "source": [
    "In Python, private attributes are typically accessed using name mangling. Name mangling is a mechanism where Python internally changes the name of a private attribute by prefixing it with _ClassName, making it harder (but not impossible) to access from outside the class. This is done to avoid accidental access or modification of private attributes, though it's not intended to be a strict access control mechanism."
   ]
  },
  {
   "cell_type": "code",
   "execution_count": 165,
   "id": "aebb7865-7e0f-47bb-a069-f927b36bad58",
   "metadata": {},
   "outputs": [
    {
     "name": "stdout",
     "output_type": "stream",
     "text": [
      "Toyota\n",
      "Corolla\n"
     ]
    }
   ],
   "source": [
    "# example\n",
    "class Car:\n",
    "    def __init__(self, make, model):\n",
    "        self.__make = make      # private attribute\n",
    "        self.__model = model    # private attribute\n",
    "\n",
    "    def display_info(self):\n",
    "        print(f\"Make: {self.__make}, Model: {self.__model}\")\n",
    "\n",
    "# Create an object of Car\n",
    "car = Car(\"Toyota\", \"Corolla\")\n",
    "\n",
    "# Access private attribute using name mangling\n",
    "print(car._Car__make)   # This accesses the private attribute __make directly\n",
    "\n",
    "# Access private attribute using name mangling\n",
    "print(car._Car__model)  # This accesses the private attribute __model directly"
   ]
  },
  {
   "cell_type": "markdown",
   "id": "31414f24-e0c2-4467-898f-7279387d52e5",
   "metadata": {},
   "source": [
    "11. Create a Python class hierarchy for a school system, including classes for students, teachers, and courses,\n",
    "and implement encapsulation principles to protect sensitive information."
   ]
  },
  {
   "cell_type": "code",
   "execution_count": 168,
   "id": "beeb1ce4-442f-4305-b4a8-63b3c796261c",
   "metadata": {},
   "outputs": [
    {
     "name": "stdout",
     "output_type": "stream",
     "text": [
      "Course: Math 101 | Teacher: Mr. Smith\n",
      "Enrolled Students: ['Alice', 'Bob']\n",
      "Student: Alice | Grade in Math 101: A\n",
      "Student: Bob | Grade in Math 101: B\n"
     ]
    }
   ],
   "source": [
    "class Person:\n",
    "    def __init__(self, name, age):\n",
    "        self.__name = name      # private attribute\n",
    "        self.__age = age        # private attribute\n",
    "    \n",
    "    # Getter and Setter methods for name and age\n",
    "    def get_name(self):\n",
    "        return self.__name\n",
    "\n",
    "    def set_name(self, name):\n",
    "        self.__name = name\n",
    "    \n",
    "    def get_age(self):\n",
    "        return self.__age\n",
    "\n",
    "    def set_age(self, age):\n",
    "        self.__age = age\n",
    "\n",
    "\n",
    "class Student(Person):\n",
    "    def __init__(self, name, age, student_id):\n",
    "        super().__init__(name, age)\n",
    "        self.__student_id = student_id   # private attribute\n",
    "        self.__grades = {}  # Private attribute to store grades\n",
    "    \n",
    "    # Getter and Setter methods for student_id and grades\n",
    "    def get_student_id(self):\n",
    "        return self.__student_id\n",
    "\n",
    "    def set_student_id(self, student_id):\n",
    "        self.__student_id = student_id\n",
    "\n",
    "    def add_grade(self, course, grade):\n",
    "        self.__grades[course] = grade\n",
    "\n",
    "    def get_grade(self, course):\n",
    "        return self.__grades.get(course, \"No grade available for this course\")\n",
    "\n",
    "    def get_grades(self):\n",
    "        return self.__grades\n",
    "\n",
    "\n",
    "class Teacher(Person):\n",
    "    def __init__(self, name, age, teacher_id, salary):\n",
    "        super().__init__(name, age)\n",
    "        self.__teacher_id = teacher_id  # private attribute\n",
    "        self.__salary = salary          # private attribute\n",
    "    \n",
    "    # Getter and Setter methods for teacher_id and salary\n",
    "    def get_teacher_id(self):\n",
    "        return self.__teacher_id\n",
    "\n",
    "    def set_teacher_id(self, teacher_id):\n",
    "        self.__teacher_id = teacher_id\n",
    "\n",
    "    def get_salary(self):\n",
    "        return self.__salary\n",
    "\n",
    "    def set_salary(self, salary):\n",
    "        self.__salary = salary\n",
    "\n",
    "\n",
    "class Course:\n",
    "    def __init__(self, course_name, teacher):\n",
    "        self.__course_name = course_name      # private attribute\n",
    "        self.__teacher = teacher              # private attribute for the course teacher\n",
    "        self.__students = []                  # private list to store students enrolled in the course\n",
    "\n",
    "    # Getter and Setter methods for course_name\n",
    "    def get_course_name(self):\n",
    "        return self.__course_name\n",
    "    \n",
    "    def set_course_name(self, course_name):\n",
    "        self.__course_name = course_name\n",
    "\n",
    "    def get_teacher(self):\n",
    "        return self.__teacher\n",
    "\n",
    "    def add_student(self, student):\n",
    "        self.__students.append(student)\n",
    "\n",
    "    def get_students(self):\n",
    "        return [student.get_name() for student in self.__students]\n",
    "\n",
    "\n",
    "# Example usage\n",
    "teacher = Teacher(\"Mr. Smith\", 40, \"T123\", 55000)\n",
    "student1 = Student(\"Alice\", 18, \"S101\")\n",
    "student2 = Student(\"Bob\", 19, \"S102\")\n",
    "\n",
    "course = Course(\"Math 101\", teacher)\n",
    "course.add_student(student1)\n",
    "course.add_student(student2)\n",
    "\n",
    "# Students adding grades\n",
    "student1.add_grade(\"Math 101\", \"A\")\n",
    "student2.add_grade(\"Math 101\", \"B\")\n",
    "\n",
    "# Display information\n",
    "print(f\"Course: {course.get_course_name()} | Teacher: {course.get_teacher().get_name()}\")\n",
    "print(\"Enrolled Students:\", course.get_students())\n",
    "print(f\"Student: {student1.get_name()} | Grade in Math 101: {student1.get_grade('Math 101')}\")\n",
    "print(f\"Student: {student2.get_name()} | Grade in Math 101: {student2.get_grade('Math 101')}\")"
   ]
  },
  {
   "cell_type": "markdown",
   "id": "bf8db772-b978-4247-9610-55c4adf9af3a",
   "metadata": {},
   "source": [
    "12. Explain the concept of property decorators in Python and how they relate to encapsulation."
   ]
  },
  {
   "cell_type": "markdown",
   "id": "6ac6f611-f277-4c0a-91ee-c36fa2736ab0",
   "metadata": {},
   "source": [
    "A property decorator allows you to define methods for getting, setting, and deleting an attribute while still using it like a regular attribute. This ensures that sensitive attributes are accessed and modified in a controlled way. The decorator pattern helps to hide the internal representation of the object while exposing an interface to the user.\n",
    "\n",
    "How Property Decorators Relate to Encapsulation\n",
    "\n",
    "Encapsulation is about controlling access to an object's internal state. Property decorators help with this by:\n",
    "\n",
    "Hiding the internal representation: The private attributes of the class can be hidden from direct access, but still accessible through getter and setter methods.\n",
    "\n",
    "Validation: You can add validation logic inside setter methods to ensure that data is consistent before modifying an attribute.\n",
    "\n",
    "Computed properties: They allow you to create computed attributes that are derived from other internal data.\n",
    "Property Decorators in Action\n",
    "The @property decorator is used to define a getter method, while @<property_name>.setter is used to define a setter method for the same property."
   ]
  },
  {
   "cell_type": "code",
   "execution_count": 172,
   "id": "197ed06b-4057-4341-840c-b11bbf789a65",
   "metadata": {},
   "outputs": [
    {
     "name": "stdout",
     "output_type": "stream",
     "text": [
      "1000\n",
      "1500\n",
      "Balance cannot be negative!\n",
      "Deleting balance!\n"
     ]
    }
   ],
   "source": [
    "#example\n",
    "class BankAccount:\n",
    "    def __init__(self, owner, balance):\n",
    "        self.__owner = owner\n",
    "        self.__balance = balance\n",
    "    \n",
    "    # Getter method for balance using the @property decorator\n",
    "    @property\n",
    "    def balance(self):\n",
    "        return self.__balance\n",
    "\n",
    "    # Setter method for balance using the @balance.setter decorator\n",
    "    @balance.setter\n",
    "    def balance(self, amount):\n",
    "        if amount < 0:\n",
    "            raise ValueError(\"Balance cannot be negative!\")\n",
    "        self.__balance = amount\n",
    "\n",
    "    # Getter method for owner using the @property decorator\n",
    "    @property\n",
    "    def owner(self):\n",
    "        return self.__owner\n",
    "\n",
    "    # Deleting balance using @balance.deleter\n",
    "    @balance.deleter\n",
    "    def balance(self):\n",
    "        print(\"Deleting balance!\")\n",
    "        del self.__balance\n",
    "\n",
    "\n",
    "# Example usage\n",
    "account = BankAccount(\"Alice\", 1000)\n",
    "\n",
    "# Accessing the balance through the getter (property)\n",
    "print(account.balance)  # 1000\n",
    "\n",
    "# Setting a new balance using the setter (property)\n",
    "account.balance = 1500\n",
    "print(account.balance)  # 1500\n",
    "\n",
    "# Trying to set a negative balance raises an error\n",
    "try:\n",
    "    account.balance = -500\n",
    "except ValueError as e:\n",
    "    print(e)  # Balance cannot be negative!\n",
    "\n",
    "# Deleting balance\n",
    "del account.balance  # Deleting balance!"
   ]
  },
  {
   "cell_type": "markdown",
   "id": "353fec20-880c-48c5-b1cb-78f2583c6d42",
   "metadata": {},
   "source": [
    "13. What is data hiding, and why is it important in encapsulation? Provide examples."
   ]
  },
  {
   "cell_type": "markdown",
   "id": "89d0d106-333e-4429-8367-d3635e3aae10",
   "metadata": {},
   "source": [
    "Data hiding refers to the concept of restricting access to certain internal details of an object, allowing only controlled access through methods. This is one of the core principles of encapsulation in object-oriented programming (OOP). It is important because it helps protect the integrity of the object's state and prevents unintended interactions or modifications from external code.\n",
    "\n",
    "Why is Data Hiding Important in Encapsulation?\n",
    "\n",
    "Protecting Object Integrity: By hiding the internal state of an object, you ensure that its attributes cannot be altered directly, which prevents unintended side effects or invalid states.\n",
    "\n",
    "Controlled Access: Data hiding allows you to provide controlled access to attributes and methods, so you can implement business logic, validation, or modification rules in one place.\n",
    "\n",
    "Reducing Complexity: External code doesn't need to worry about the implementation details of a class. It only interacts with the class via the public interface (methods or properties), making the system more modular and easier to maintain.\n",
    "\n",
    "Security: Sensitive data can be protected from being exposed or modified directly by external entities.\n",
    "\n",
    "How Does Data Hiding Work in Python?\n",
    "\n",
    "In Python, data hiding is typically achieved by making attributes private (using double underscores __) or protected (using a single underscore _). While this doesn't prevent access entirely, it signals that the attribute should not be accessed directly, encouraging the use of getter and setter methods.\n",
    "\n",
    "Private attributes: Using double underscores (__) makes attributes \"name-mangled\" to make them harder (but not impossible) to access from outside the class.\n",
    "\n",
    "Protected attributes: Using a single underscore (_) is a convention that indicates an attribute should be considered protected, but it is not enforced by Python."
   ]
  },
  {
   "cell_type": "code",
   "execution_count": 176,
   "id": "ef31b23e-7b93-404b-b03f-5a70ec0e1c4e",
   "metadata": {},
   "outputs": [
    {
     "name": "stdout",
     "output_type": "stream",
     "text": [
      "1000\n",
      "1500\n",
      "1300\n",
      "'BankAccount' object has no attribute '__balance'\n"
     ]
    }
   ],
   "source": [
    "#example\n",
    "class BankAccount:\n",
    "    def __init__(self, owner, balance):\n",
    "        self.__owner = owner  # private attribute\n",
    "        self.__balance = balance  # private attribute\n",
    "    \n",
    "    def get_balance(self):\n",
    "        return self.__balance  # getter for balance\n",
    "    \n",
    "    def deposit(self, amount):\n",
    "        if amount > 0:\n",
    "            self.__balance += amount  # modifying balance internally\n",
    "        else:\n",
    "            raise ValueError(\"Amount must be positive!\")\n",
    "    \n",
    "    def withdraw(self, amount):\n",
    "        if amount <= self.__balance:\n",
    "            self.__balance -= amount  # modifying balance internally\n",
    "        else:\n",
    "            raise ValueError(\"Insufficient funds!\")\n",
    "\n",
    "# Example usage\n",
    "account = BankAccount(\"Alice\", 1000)\n",
    "print(account.get_balance())  # Accessing balance via getter\n",
    "account.deposit(500)  # Deposit money using method\n",
    "print(account.get_balance())  # 1500\n",
    "account.withdraw(200)  # Withdraw money using method\n",
    "print(account.get_balance())  # 1300\n",
    "\n",
    "# Attempting direct access to private attributes will fail\n",
    "try:\n",
    "    print(account.__balance)  # Raises AttributeError\n",
    "except AttributeError as e:\n",
    "    print(e)"
   ]
  },
  {
   "cell_type": "markdown",
   "id": "5167ba9b-8e85-4917-b4d8-83d09a7ece19",
   "metadata": {},
   "source": [
    "14. Create a Python class called `Employee` with private attributes for salary (`__salary`) and employee ID (`__employee_id`). Provide a method to calculate yearly bonuses."
   ]
  },
  {
   "cell_type": "code",
   "execution_count": 180,
   "id": "204e8d99-c0b8-4409-8a62-4e31d5148738",
   "metadata": {},
   "outputs": [
    {
     "name": "stdout",
     "output_type": "stream",
     "text": [
      "Employee ID: E12345\n",
      "Salary: $60000\n",
      "Yearly Bonus: $6000.0\n"
     ]
    }
   ],
   "source": [
    "class Employee:\n",
    "    def __init__(self, employee_id, salary):\n",
    "        self.__employee_id = employee_id  # Private attribute for employee ID\n",
    "        self.__salary = salary  # Private attribute for salary\n",
    "    \n",
    "    def calculate_bonus(self, percentage):\n",
    "        \"\"\"\n",
    "        Calculate yearly bonus based on a percentage of the salary.\n",
    "        :param percentage: Bonus percentage (e.g., 10 for 10%)\n",
    "        :return: The bonus amount\n",
    "        \"\"\"\n",
    "        bonus = (self.__salary * percentage) / 100\n",
    "        return bonus\n",
    "    \n",
    "    def get_salary(self):\n",
    "        return self.__salary\n",
    "    \n",
    "    def get_employee_id(self):\n",
    "        return self.__employee_id\n",
    "\n",
    "# Example usage\n",
    "employee = Employee(\"E12345\", 60000)\n",
    "\n",
    "# Accessing the private salary attribute via getter method\n",
    "print(f\"Employee ID: {employee.get_employee_id()}\")\n",
    "print(f\"Salary: ${employee.get_salary()}\")\n",
    "\n",
    "# Calculate the yearly bonus (e.g., 10% of salary)\n",
    "bonus = employee.calculate_bonus(10)  # 10% bonus\n",
    "print(f\"Yearly Bonus: ${bonus}\")"
   ]
  },
  {
   "cell_type": "markdown",
   "id": "9d72ffe5-a953-4db7-8358-c6b88f85c820",
   "metadata": {},
   "source": [
    "15. Discuss the use of accessors and mutators in encapsulation. How do they help maintain control over\n",
    "attribute access?"
   ]
  },
  {
   "cell_type": "markdown",
   "id": "83a6de24-4cf0-4a64-b9b3-5c367ab7aa9c",
   "metadata": {},
   "source": [
    "Accessors and mutators, also known as getter and setter methods, play a crucial role in encapsulation in object-oriented programming. They provide a controlled way to access and modify the attributes of a class, rather than allowing direct access to the attributes themselves. Here's how they help maintain control over attribute access:\n",
    "\n",
    "1. Accessors (Getters):\n",
    "\n",
    "Purpose: Accessors, or getter methods, are used to retrieve the value of an attribute from outside the class.\n",
    "\n",
    "Benefit: They allow read-only access to the attribute, preventing external modification of the value directly. This ensures that sensitive or private data is not exposed directly.\n",
    "\n",
    "2. Mutators (Setters):\n",
    "\n",
    "Purpose: Mutators, or setter methods, are used to set or modify the value of an attribute.\n",
    "\n",
    "Benefit: They provide controlled access for modifying attributes, allowing validation, modification, or transformation of the data before it's assigned. This ensures that invalid or inconsistent data doesn't get set into the object.\n",
    "Advantages of Accessors and Mutators:\n",
    "\n",
    "Data Integrity: By using setters, you can ensure that only valid data is set. For example, if you're working with an age attribute, a setter could ensure that only positive numbers are assigned to the attribute.\n",
    "\n",
    "Control: Accessors and mutators give you control over how attributes are accessed and modified. This can be helpful for debugging, logging, and enforcing rules within the class.\n",
    "\n",
    "Data Hiding: The internal attributes of a class can remain private (hidden) from the outside world, and access is only allowed through the methods you define. This maintains the integrity of the class and its data.\n",
    "\n",
    "Flexibility: With setters and getters, you can change the internal implementation of a class (e.g., change the way an attribute is stored) without affecting external code that uses the class, as long as the getter and setter methods remain the same."
   ]
  },
  {
   "cell_type": "markdown",
   "id": "e02f9498-cc00-4d05-bae1-6a05bb1c2e28",
   "metadata": {},
   "source": [
    "16. What are the potential drawbacks or disadvantages of using encapsulation in Python?"
   ]
  },
  {
   "cell_type": "markdown",
   "id": "c12ef7e0-082c-403f-9c7c-2336290ca556",
   "metadata": {},
   "source": [
    "1. Increased Complexity:\n",
    "\n",
    "Description: Encapsulation requires the use of additional getter and setter methods, which can add extra lines of code and make the class more complex.\n",
    "\n",
    "Impact: This can lead to more boilerplate code, making the code harder to maintain and understand, especially for small projects or classes where direct attribute access might be sufficient.\n",
    "\n",
    "2. Performance Overhead:\n",
    "\n",
    "Description: Accessing and modifying attributes through getter and setter methods can introduce additional function call overhead.\n",
    "\n",
    "Impact: While the overhead is generally minimal, it may become noticeable in performance-critical applications, especially when dealing with many attribute accesses or when methods are called frequently in tight loops.\n",
    "\n",
    "3. Reduced Flexibility for Quick Changes:\n",
    "\n",
    "Description: In some cases, if all attributes are hidden behind getters and setters, it might limit the flexibility of making quick changes to the object’s state, especially when the changes are simple and straightforward.\n",
    "\n",
    "Impact: For rapid development or prototyping, encapsulation can introduce extra steps for minor modifications or adjustments to an object's state.\n",
    "\n",
    "4. Less Direct Access to Data:\n",
    "\n",
    "Description: Encapsulation hides the internal state of an object, meaning that developers cannot directly access or modify attributes.\n",
    "\n",
    "Impact: This can sometimes be restrictive if the intention is to have simpler, more direct access to object data, especially in situations where no validation or data protection is needed.\n",
    "\n",
    "5. Increased Development Time:\n",
    "\n",
    "Description: Writing getter and setter methods adds to the development time compared to directly using public attributes. For every private attribute, developers need to implement both accessors and mutators.\n",
    "\n",
    "Impact: In smaller projects or when performance and simplicity are priorities, this extra development time might seem unnecessary.\n",
    "\n",
    "6. Over-Encapsulation:\n",
    "\n",
    "Description: Excessive use of encapsulation can lead to over-engineering, where simple attributes and methods are unnecessarily abstracted behind multiple layers of methods.\n",
    "\n",
    "Impact: This may make the class overly complicated without providing significant benefits, especially for data that doesn’t need protection or special handling.\n",
    "\n",
    "7. Difficulty in Testing:\n",
    "\n",
    "Description: Testing private attributes in a class with strict encapsulation can be more difficult because direct access to the attributes is restricted.\n",
    "\n",
    "Impact: In some cases, unit testing can be cumbersome since developers may need to expose private attributes or use reflection techniques to access them during testing.\n",
    "\n",
    "8. Inheritance and Access Control Complexity:\n",
    "\n",
    "Description: Encapsulation can create challenges when working with inheritance. In some cases, child classes may need to access or modify private attributes from the parent class, and the restricted access might interfere with this.\n",
    "\n",
    "Impact: Developers may need to introduce more complex access methods (like using super() or providing protected attributes) to facilitate inheritance, which adds to the design complexity.\n",
    "\n",
    "9. Breaking the \"Pythonic\" Philosophy:\n",
    "\n",
    "Description: Python is known for its \"consenting adults\" philosophy, where developers are trusted to make their own decisions about code safety. Encapsulation can sometimes be seen as going against this principle.\n",
    "\n",
    "Impact: Overuse of encapsulation might feel unnecessary to Python developers who prefer a more straightforward approach to handling object state and behavior."
   ]
  },
  {
   "cell_type": "markdown",
   "id": "451d8d32-071c-4664-97b3-405a389e043f",
   "metadata": {},
   "source": [
    "17. Create a Python class for a library system that encapsulates book information, including titles, authors,\n",
    "and availability status."
   ]
  },
  {
   "cell_type": "code",
   "execution_count": 187,
   "id": "5d8256a5-062a-4675-be32-e29f70b4fef2",
   "metadata": {},
   "outputs": [
    {
     "name": "stdout",
     "output_type": "stream",
     "text": [
      "Title: 1984\n",
      "Author: George Orwell\n",
      "Availability: Available\n",
      "\n",
      "Updated Book Info:\n",
      "Title: Animal Farm\n",
      "Author: George Orwell\n",
      "Availability: Not Available\n"
     ]
    }
   ],
   "source": [
    "class Book:\n",
    "    def __init__(self, title, author, availability):\n",
    "        # Private attributes to store book information\n",
    "        self.__title = title\n",
    "        self.__author = author\n",
    "        self.__availability = availability\n",
    "    \n",
    "    # Getter method for the title\n",
    "    def get_title(self):\n",
    "        return self.__title\n",
    "    \n",
    "    # Setter method for the title\n",
    "    def set_title(self, title):\n",
    "        self.__title = title\n",
    "    \n",
    "    # Getter method for the author\n",
    "    def get_author(self):\n",
    "        return self.__author\n",
    "    \n",
    "    # Setter method for the author\n",
    "    def set_author(self, author):\n",
    "        self.__author = author\n",
    "    \n",
    "    # Getter method for the availability status\n",
    "    def get_availability(self):\n",
    "        return self.__availability\n",
    "    \n",
    "    # Setter method for the availability status\n",
    "    def set_availability(self, availability):\n",
    "        self.__availability = availability\n",
    "    \n",
    "    # Method to display book details\n",
    "    def display_book_info(self):\n",
    "        availability = \"Available\" if self.__availability else \"Not Available\"\n",
    "        print(f\"Title: {self.__title}\\nAuthor: {self.__author}\\nAvailability: {availability}\")\n",
    "\n",
    "# Creating a book object\n",
    "book1 = Book(\"1984\", \"George Orwell\", True)\n",
    "book1.display_book_info()\n",
    "\n",
    "# Modifying book information using setter methods\n",
    "book1.set_title(\"Animal Farm\")\n",
    "book1.set_author(\"George Orwell\")\n",
    "book1.set_availability(False)\n",
    "\n",
    "# Displaying updated book information\n",
    "print(\"\\nUpdated Book Info:\")\n",
    "book1.display_book_info()"
   ]
  },
  {
   "cell_type": "markdown",
   "id": "031a9e82-7c92-45c2-993c-e4fd0c38c880",
   "metadata": {},
   "source": [
    "18. Explain how encapsulation enhances code reusability and modularity in Python programs."
   ]
  },
  {
   "cell_type": "markdown",
   "id": "ca2c3296-4e7c-4df0-bb11-d86170932432",
   "metadata": {},
   "source": [
    "1. Code Reusability\n",
    "\n",
    "Encapsulation helps in reusing code by allowing a class to define its functionality once, and that functionality can be reused whenever needed without exposing its internal workings to the outside world.\n",
    "\n",
    "Protection of Data: By keeping data hidden inside a class (private attributes), external code cannot directly modify or corrupt it. This allows the class to define robust functionality (like calculations, transformations, etc.), which can be reused across different parts of the program or even in different projects.\n",
    "\n",
    "Modular Access: When we provide controlled access to an object's state via getter and setter methods, the internal implementation can change without affecting external code. This ensures that as long as the interface (methods) remains the same, we can reuse the class in other contexts or projects.\n",
    "\n",
    "Easy Maintenance: If a class is well-encapsulated, its functionality is isolated from the rest of the system. As a result, changes to the internal logic or data representations don't affect the external components using that class, making it easier to reuse across different parts of the system or in future projects.\n",
    "\n",
    "2. Modularity\n",
    "\n",
    "Encapsulation aids modularity by organizing code into independent, self-contained units (classes), each responsible for a specific functionality.\n",
    "\n",
    "Isolation of Logic: Encapsulation allows you to divide a program into modules or components that are responsible for certain tasks. A class that handles, for example, user authentication, can be reused in any program requiring authentication without impacting other parts of the system.\n",
    "\n",
    "Class as a Black Box: Each class acts as a \"black box\"—users of the class interact with it via well-defined interfaces (methods) without needing to know its internal workings. This abstraction allows developers to focus on the functionality provided by the class without worrying about the internal details, improving modularity.\n",
    "\n",
    "Enhanced Flexibility: By hiding the internal logic and providing controlled access through methods, classes can be modified and extended independently, enabling modular program design. This means one part of the system can be updated or replaced without affecting the other parts."
   ]
  },
  {
   "cell_type": "markdown",
   "id": "7c2c1261-f2f3-45b5-b825-2fdf6780b2a4",
   "metadata": {},
   "source": [
    "19. Describe the concept of information hiding in encapsulation. Why is it essential in software development?"
   ]
  },
  {
   "cell_type": "markdown",
   "id": "983ef86f-6327-431b-a930-2eca3eec0445",
   "metadata": {},
   "source": [
    "Information hiding is a fundamental concept within encapsulation in object-oriented programming (OOP). It refers to the practice of restricting access to the internal workings or data of an object, exposing only the essential features necessary for interaction with the object. The goal is to hide the implementation details and only reveal a controlled interface to the outside world.\n",
    "\n",
    "Why is Information Hiding Important in Software Development?\n",
    "\n",
    "Protection of Data Integrity:\n",
    "\n",
    "By hiding the internal state and data of an object, you prevent unauthorized access and modifications. This helps in maintaining the integrity of the data, ensuring that the object behaves as intended.\n",
    "For example, if you have a BankAccount class, the balance attribute should not be directly accessible from outside the class. Instead, methods like deposit() or withdraw() should be used to modify the balance, ensuring that the changes are valid (e.g., no negative balances).\n",
    "\n",
    "Control Over Data Access:\n",
    "\n",
    "Information hiding allows you to control how and when certain data is accessed or modified. You can define getter and setter methods (accessors and mutators) to validate data before it is set or retrieved.\n",
    "For example, a Person class might have a private attribute __age, and you may want to restrict the ability to set the age to be within a certain range. The setter method can enforce this constraint, preventing invalid data.\n",
    "\n",
    "Decoupling and Loose Coupling:\n",
    "\n",
    "Information hiding enables loose coupling between components or classes. By hiding the internal implementation details, external systems or classes do not need to know how things are implemented internally, only how to interact with the object via its public interface.\n",
    "This reduces dependencies between components, making the system easier to maintain, extend, or refactor without breaking other parts of the code.\n",
    "\n",
    "Enhanced Modularity:\n",
    "\n",
    "Encapsulation, through information hiding, supports modular design by allowing different parts of the program to interact with objects without knowing their internal structure. This modularity helps in designing systems that are easy to extend or replace without affecting other parts.\n",
    "For example, you can change the implementation of a method within a class, but as long as the public interface remains the same, the rest of the system will continue to function without needing modifications.\n",
    "\n",
    "Easier Maintenance and Debugging:\n",
    "\n",
    "Information hiding makes it easier to maintain and debug software. Since the internal details of a class are hidden, you can change the internal implementation without affecting the code that uses the class.\n",
    "This is especially useful when debugging, as you can focus on the external behavior of the class (via its methods) instead of dealing with complex internal details.\n",
    "\n",
    "Security:\n",
    "\n",
    "By hiding sensitive information and restricting direct access to the data, you enhance the security of your system. Sensitive information such as passwords, personal data, or financial details can be protected by ensuring that it is not easily accessible or modifiable by unauthorized users.\n",
    "For example, if you have a User class with sensitive data like password, you can hide this data and expose methods that control how it is handled securely."
   ]
  },
  {
   "cell_type": "markdown",
   "id": "510b4103-3f67-47fe-bcc3-28bb8d17518b",
   "metadata": {},
   "source": [
    "20. Create a Python class called `Customer` with private attributes for customer details like name, address,\n",
    "and contact information. Implement encapsulation to ensure data integrity and security."
   ]
  },
  {
   "cell_type": "code",
   "execution_count": 194,
   "id": "f2692832-dc2c-4265-b9a4-1fc48c126140",
   "metadata": {},
   "outputs": [
    {
     "name": "stdout",
     "output_type": "stream",
     "text": [
      "John Doe\n",
      "123 Main St\n",
      "555-1234\n",
      "Jane Smith\n",
      "456 Oak Rd\n",
      "555-5678\n",
      "Invalid name\n",
      "Invalid address\n",
      "Invalid contact information\n"
     ]
    }
   ],
   "source": [
    "class Customer:\n",
    "    def __init__(self, name, address, contact_info):\n",
    "        # Private attributes\n",
    "        self.__name = name\n",
    "        self.__address = address\n",
    "        self.__contact_info = contact_info\n",
    "\n",
    "    # Getter method for name\n",
    "    def get_name(self):\n",
    "        return self.__name\n",
    "\n",
    "    # Setter method for name with validation\n",
    "    def set_name(self, name):\n",
    "        if isinstance(name, str) and len(name) > 0:\n",
    "            self.__name = name\n",
    "        else:\n",
    "            print(\"Invalid name\")\n",
    "\n",
    "    # Getter method for address\n",
    "    def get_address(self):\n",
    "        return self.__address\n",
    "\n",
    "    # Setter method for address with validation\n",
    "    def set_address(self, address):\n",
    "        if isinstance(address, str) and len(address) > 0:\n",
    "            self.__address = address\n",
    "        else:\n",
    "            print(\"Invalid address\")\n",
    "\n",
    "    # Getter method for contact information\n",
    "    def get_contact_info(self):\n",
    "        return self.__contact_info\n",
    "\n",
    "    # Setter method for contact information with validation\n",
    "    def set_contact_info(self, contact_info):\n",
    "        if isinstance(contact_info, str) and len(contact_info) > 0:\n",
    "            self.__contact_info = contact_info\n",
    "        else:\n",
    "            print(\"Invalid contact information\")\n",
    "\n",
    "# Example usage\n",
    "customer = Customer(\"John Doe\", \"123 Main St\", \"555-1234\")\n",
    "\n",
    "# Accessing data using getters\n",
    "print(customer.get_name())  # John Doe\n",
    "print(customer.get_address())  # 123 Main St\n",
    "print(customer.get_contact_info())  # 555-1234\n",
    "\n",
    "# Updating data using setters with validation\n",
    "customer.set_name(\"Jane Smith\")\n",
    "customer.set_address(\"456 Oak Rd\")\n",
    "customer.set_contact_info(\"555-5678\")\n",
    "\n",
    "# Accessing updated data\n",
    "print(customer.get_name())  # Jane Smith\n",
    "print(customer.get_address())  # 456 Oak Rd\n",
    "print(customer.get_contact_info())  # 555-5678\n",
    "\n",
    "# Trying to set invalid data\n",
    "customer.set_name(\"\")  # Invalid name\n",
    "customer.set_address(\"\")  # Invalid address\n",
    "customer.set_contact_info(\"\")  # Invalid contact information"
   ]
  },
  {
   "cell_type": "markdown",
   "id": "aeb072e5-2da5-42ea-8c46-ec57e87f4e55",
   "metadata": {},
   "source": [
    "# Polymorphism:"
   ]
  },
  {
   "cell_type": "markdown",
   "id": "c5f67e61-da58-476a-b4e8-56ed8d0c6a1b",
   "metadata": {},
   "source": [
    "1. What is polymorphism in Python? Explain how it is related to object-oriented programming."
   ]
  },
  {
   "cell_type": "markdown",
   "id": "d40eabde-08a7-4a6e-a4e8-f36fd00b626f",
   "metadata": {},
   "source": [
    "Polymorphism in Python refers to the ability of different objects to respond to the same method or function call in different ways. It is one of the core principles of Object-Oriented Programming (OOP), allowing a single interface to represent different underlying forms (data types).\n",
    "\n",
    "Key Aspects of Polymorphism:\n",
    "\n",
    "Method Overriding: In Python, polymorphism is often achieved through method overriding. This occurs when a subclass provides its own implementation of a method that is already defined in its parent class. The same method name behaves differently depending on the class of the object calling it.\n",
    "\n",
    "Duck Typing: Python is dynamically typed, and this allows polymorphism to work seamlessly. The type of an object doesn't matter as long as it implements the required methods. This is known as \"duck typing,\" where the type or class of an object is less important than the methods it defines or the behaviors it implements.\n",
    "\n",
    "Relation to Object-Oriented Programming (OOP):\n",
    "\n",
    "Inheritance: Polymorphism is deeply tied to inheritance because it allows subclass objects to override or extend the behavior of parent class methods.\n",
    "\n",
    "Flexibility: Polymorphism makes the code more flexible and extensible, as you can use the same function or method to work with objects of different types.\n",
    "\n",
    "Reusability: It enables code reuse. By using polymorphic methods, you can create functions that can operate on different types of objects without needing to know their exact type."
   ]
  },
  {
   "cell_type": "markdown",
   "id": "1f4dea27-345f-4272-978b-850645a8b7ed",
   "metadata": {},
   "source": [
    "2. Describe the difference between compile-time polymorphism and runtime polymorphism in Python."
   ]
  },
  {
   "cell_type": "markdown",
   "id": "cd7de136-eed7-4254-9d2e-eb33a6371a8c",
   "metadata": {},
   "source": [
    "1. Compile-Time Polymorphism (Static Polymorphism)\n",
    "\n",
    "Definition: Compile-time polymorphism refers to method overloading or operator overloading, where the decision about which method or function to call is made at the compile time. This type of polymorphism is typical in statically typed languages like Java or C++.\n",
    "\n",
    "Key Characteristics:\n",
    "\n",
    "Method overloading: Multiple methods with the same name, but different parameter types or numbers of arguments.\n",
    "\n",
    "Operator overloading: The ability to define custom behavior for operators (like +, -, etc.) for user-defined classes.\n",
    "\n",
    "2. Runtime Polymorphism (Dynamic Polymorphism)\n",
    "\n",
    "Definition: Runtime polymorphism occurs when the method to be called is determined at runtime based on the object's actual type, not the type of the reference variable. In Python, this is achieved through method overriding.\n",
    "\n",
    "Key Characteristics:\n",
    "\n",
    "Method Overriding: A subclass provides a specific implementation of a method that is already defined in the parent class.\n",
    "The method resolution is determined at runtime when the object is instantiated.\n",
    "Python supports dynamic method dispatch, meaning the method is selected dynamically based on the type of the object at runtime."
   ]
  },
  {
   "cell_type": "markdown",
   "id": "722933be-eb2e-4e04-ba0b-961d0377002e",
   "metadata": {},
   "source": [
    "3. Create a Python class hierarchy for shapes (e.g., circle, square, triangle) and demonstrate polymorphism\n",
    "through a common method, such as `calculate_area()`."
   ]
  },
  {
   "cell_type": "code",
   "execution_count": 202,
   "id": "65067fde-1834-424d-b1a8-bfb53ee25b41",
   "metadata": {},
   "outputs": [
    {
     "name": "stdout",
     "output_type": "stream",
     "text": [
      "The area of Circle is: 78.5\n",
      "The area of Square is: 16\n",
      "The area of Triangle is: 9.0\n"
     ]
    }
   ],
   "source": [
    "# Base class for Shape\n",
    "class Shape:\n",
    "    def calculate_area(self):\n",
    "        raise NotImplementedError(\"Subclass must implement abstract method\")\n",
    "\n",
    "# Derived class Circle\n",
    "class Circle(Shape):\n",
    "    def __init__(self, radius):\n",
    "        self.radius = radius\n",
    "\n",
    "    def calculate_area(self):\n",
    "        return 3.14 * self.radius * self.radius\n",
    "\n",
    "# Derived class Square\n",
    "class Square(Shape):\n",
    "    def __init__(self, side):\n",
    "        self.side = side\n",
    "\n",
    "    def calculate_area(self):\n",
    "        return self.side * self.side\n",
    "\n",
    "# Derived class Triangle\n",
    "class Triangle(Shape):\n",
    "    def __init__(self, base, height):\n",
    "        self.base = base\n",
    "        self.height = height\n",
    "\n",
    "    def calculate_area(self):\n",
    "        return 0.5 * self.base * self.height\n",
    "\n",
    "# Demonstrating Polymorphism\n",
    "shapes = [\n",
    "    Circle(5),  # Circle with radius 5\n",
    "    Square(4),  # Square with side length 4\n",
    "    Triangle(6, 3)  # Triangle with base 6 and height 3\n",
    "]\n",
    "\n",
    "# Loop through each shape and calculate the area\n",
    "for shape in shapes:\n",
    "    print(f\"The area of {shape.__class__.__name__} is: {shape.calculate_area()}\")"
   ]
  },
  {
   "cell_type": "markdown",
   "id": "1d5c6421-312f-467b-bd35-d9e2ae7cc6cb",
   "metadata": {},
   "source": [
    "4. Explain the concept of method overriding in polymorphism. Provide an example."
   ]
  },
  {
   "cell_type": "markdown",
   "id": "139884f5-b1e9-4c53-a402-a633030233a5",
   "metadata": {},
   "source": [
    "Method overriding is a key concept in polymorphism, where a subclass provides a specific implementation of a method that is already defined in its parent class. The subclass method has the same name, parameters, and return type as the parent class method, but it overrides the functionality with its own version.\n",
    "\n",
    "In Python, method overriding allows a subclass to tailor or extend the behavior of a method inherited from a superclass.\n",
    "\n",
    "Key Points of Method Overriding:\n",
    "\n",
    "The method in the subclass must have the same name and signature (parameters) as the method in the parent class.\n",
    "The subclass method \"overrides\" or \"replaces\" the parent class method.\n",
    "This is a form of runtime polymorphism because the method that gets called is determined at runtime based on the type of the object."
   ]
  },
  {
   "cell_type": "code",
   "execution_count": 206,
   "id": "1785b377-ac2c-4588-b31a-829e5c588373",
   "metadata": {},
   "outputs": [
    {
     "name": "stdout",
     "output_type": "stream",
     "text": [
      "Animal makes a sound\n",
      "Dog barks\n",
      "Cat meows\n"
     ]
    }
   ],
   "source": [
    "# example\n",
    "# Base class Animal\n",
    "class Animal:\n",
    "    def speak(self):\n",
    "        print(\"Animal makes a sound\")\n",
    "\n",
    "# Derived class Dog\n",
    "class Dog(Animal):\n",
    "    def speak(self):  # Overriding the speak method of the Animal class\n",
    "        print(\"Dog barks\")\n",
    "\n",
    "# Derived class Cat\n",
    "class Cat(Animal):\n",
    "    def speak(self):  # Overriding the speak method of the Animal class\n",
    "        print(\"Cat meows\")\n",
    "\n",
    "# Using the classes\n",
    "animal = Animal()\n",
    "dog = Dog()\n",
    "cat = Cat()\n",
    "\n",
    "# Calling the speak method on each object\n",
    "animal.speak()  # Output: Animal makes a sound\n",
    "dog.speak()     # Output: Dog barks\n",
    "cat.speak()     # Output: Cat meows"
   ]
  },
  {
   "cell_type": "markdown",
   "id": "b8b76688-2a18-48fd-934c-510b8bbe6555",
   "metadata": {},
   "source": [
    "5. How is polymorphism different from method overloading in Python? Provide examples for both."
   ]
  },
  {
   "cell_type": "markdown",
   "id": "a5ebb9ad-f9e8-4d78-8d3f-c5c915136f57",
   "metadata": {},
   "source": [
    "1. Polymorphism\n",
    "\n",
    "Polymorphism allows objects of different classes to be treated as objects of a common base class. It occurs when a subclass provides a specific implementation of a method defined in the parent class. With polymorphism, a single method or function can have different behaviors based on the type of object it is acting upon.\n",
    "\n",
    "In Python, polymorphism is achieved via method overriding, where a method in the subclass has the same name as in the parent class, but the subclass method provides its own implementation."
   ]
  },
  {
   "cell_type": "code",
   "execution_count": 211,
   "id": "9cb1a801-7678-4f3b-9f7d-4da79f11fc63",
   "metadata": {},
   "outputs": [
    {
     "name": "stdout",
     "output_type": "stream",
     "text": [
      "Animal makes a sound\n",
      "Dog barks\n",
      "Cat meows\n"
     ]
    }
   ],
   "source": [
    "#Example of Polymorphism (Method Overriding):\n",
    "# Base class\n",
    "class Animal:\n",
    "    def speak(self):\n",
    "        print(\"Animal makes a sound\")\n",
    "\n",
    "# Subclass Dog\n",
    "class Dog(Animal):\n",
    "    def speak(self):\n",
    "        print(\"Dog barks\")\n",
    "\n",
    "# Subclass Cat\n",
    "class Cat(Animal):\n",
    "    def speak(self):\n",
    "        print(\"Cat meows\")\n",
    "\n",
    "# Using polymorphism\n",
    "animals = [Animal(), Dog(), Cat()]\n",
    "\n",
    "for animal in animals:\n",
    "    animal.speak()  # Each animal will call its own overridden method"
   ]
  },
  {
   "cell_type": "markdown",
   "id": "4eb06c26-e252-4468-8b78-063aaa7dc64a",
   "metadata": {},
   "source": [
    "2. Method Overloading\n",
    "\n",
    "Method overloading occurs when two or more methods have the same name but differ in the number or types of parameters. In languages like Java, method overloading is common. However, in Python, method overloading as it is traditionally understood (based on different parameter signatures) does not exist in the same way. Python does not support multiple methods with the same name but different parameters. Instead, Python uses default arguments or variable-length arguments to achieve similar behavior."
   ]
  },
  {
   "cell_type": "code",
   "execution_count": 214,
   "id": "e09f5fd2-96a4-4dab-be92-d46f4b6215e5",
   "metadata": {},
   "outputs": [
    {
     "name": "stdout",
     "output_type": "stream",
     "text": [
      "5\n",
      "15\n",
      "30\n"
     ]
    }
   ],
   "source": [
    "#Example of Simulated Method Overloading in Python:\n",
    "# Method overloading using default arguments\n",
    "class MathOperations:\n",
    "    def add(self, a, b=0, c=0):  # Overloading with default arguments\n",
    "        return a + b + c\n",
    "\n",
    "# Using method overloading\n",
    "math = MathOperations()\n",
    "\n",
    "print(math.add(5))      # Only one argument, uses default values for b and c\n",
    "print(math.add(5, 10))  # Two arguments\n",
    "print(math.add(5, 10, 15))  # Three arguments"
   ]
  },
  {
   "cell_type": "markdown",
   "id": "f186e113-d625-4a73-ad19-13999edd8700",
   "metadata": {},
   "source": [
    "6. Create a Python class called `Animal` with a method `speak()`. Then, create child classes like `Dog`, `Cat`, and `Bird`, each with their own `speak()` method. Demonstrate polymorphism by calling the `speak()` method\n",
    "on objects of different subclasses."
   ]
  },
  {
   "cell_type": "code",
   "execution_count": 217,
   "id": "5e657553-5195-45e3-8f91-089c983ee9e1",
   "metadata": {},
   "outputs": [
    {
     "name": "stdout",
     "output_type": "stream",
     "text": [
      "Dog barks\n",
      "Cat meows\n",
      "Bird chirps\n"
     ]
    }
   ],
   "source": [
    "# Base class\n",
    "class Animal:\n",
    "    def speak(self):\n",
    "        print(\"Animal makes a sound\")\n",
    "\n",
    "# Child class Dog\n",
    "class Dog(Animal):\n",
    "    def speak(self):\n",
    "        print(\"Dog barks\")\n",
    "\n",
    "# Child class Cat\n",
    "class Cat(Animal):\n",
    "    def speak(self):\n",
    "        print(\"Cat meows\")\n",
    "\n",
    "# Child class Bird\n",
    "class Bird(Animal):\n",
    "    def speak(self):\n",
    "        print(\"Bird chirps\")\n",
    "\n",
    "# Demonstrating polymorphism\n",
    "animals = [Dog(), Cat(), Bird()]\n",
    "\n",
    "# Looping through each animal and calling speak()\n",
    "for animal in animals:\n",
    "    animal.speak()"
   ]
  },
  {
   "cell_type": "markdown",
   "id": "1c6d8b8a-8dca-4089-be77-9f04b86d40a1",
   "metadata": {},
   "source": [
    "7. Discuss the use of abstract methods and classes in achieving polymorphism in Python. Provide an example\n",
    "using the `abc` module."
   ]
  },
  {
   "cell_type": "markdown",
   "id": "83346a4d-1fb2-41b6-9646-cd1664ace1f6",
   "metadata": {},
   "source": [
    "Abstract methods and abstract classes in Python help achieve polymorphism by providing a blueprint for other classes to follow. These classes allow you to define a common interface, ensuring that subclasses implement specific methods while allowing them to provide their own unique functionality.\n",
    "\n",
    "To implement abstract classes and methods in Python, we use the abc module, which stands for Abstract Base Class. An abstract class cannot be instantiated directly, and it can have abstract methods that must be implemented by any subclass.\n",
    "\n",
    "Steps to Achieve Polymorphism using Abstract Classes:\n",
    "\n",
    "Define an Abstract Base Class (ABC): This class will contain abstract methods that need to be implemented by the child classes.\n",
    "\n",
    "Implement Abstract Methods in Subclasses: The subclasses must provide implementations for these abstract methods.\n",
    "\n",
    "Use Polymorphism: You can now use the common interface defined in the abstract class to interact with the subclasses, achieving polymorphism."
   ]
  },
  {
   "cell_type": "code",
   "execution_count": 221,
   "id": "fbfc8b0f-096c-4586-a87a-c72027870dad",
   "metadata": {},
   "outputs": [
    {
     "name": "stdout",
     "output_type": "stream",
     "text": [
      "Dog barks\n",
      "Cat meows\n",
      "Bird chirps\n"
     ]
    }
   ],
   "source": [
    "#example\n",
    "from abc import ABC, abstractmethod\n",
    "\n",
    "# Abstract Base Class\n",
    "class Animal(ABC):\n",
    "    \n",
    "    @abstractmethod\n",
    "    def speak(self):\n",
    "        pass\n",
    "\n",
    "# Subclass Dog\n",
    "class Dog(Animal):\n",
    "    def speak(self):\n",
    "        print(\"Dog barks\")\n",
    "\n",
    "# Subclass Cat\n",
    "class Cat(Animal):\n",
    "    def speak(self):\n",
    "        print(\"Cat meows\")\n",
    "\n",
    "# Subclass Bird\n",
    "class Bird(Animal):\n",
    "    def speak(self):\n",
    "        print(\"Bird chirps\")\n",
    "\n",
    "# Demonstrating polymorphism\n",
    "animals = [Dog(), Cat(), Bird()]\n",
    "\n",
    "# Looping through each animal and calling speak()\n",
    "for animal in animals:\n",
    "    animal.speak()"
   ]
  },
  {
   "cell_type": "markdown",
   "id": "01d71dbf-0e25-4f5f-998a-25a10a89a773",
   "metadata": {},
   "source": [
    "8. Create a Python class hierarchy for a vehicle system (e.g., car, bicycle, boat) and implement a polymorphic `start()` method that prints a message specific to each vehicle type."
   ]
  },
  {
   "cell_type": "code",
   "execution_count": 224,
   "id": "5b3fb16e-91a8-45ac-94e3-b20b837ad265",
   "metadata": {},
   "outputs": [
    {
     "name": "stdout",
     "output_type": "stream",
     "text": [
      "The car is starting with a roar of the engine.\n",
      "The bicycle is starting with a pedal.\n",
      "The boat is starting with the sound of the engine rumbling on the water.\n"
     ]
    }
   ],
   "source": [
    "# Abstract Base Class for Vehicle\n",
    "from abc import ABC, abstractmethod\n",
    "\n",
    "class Vehicle(ABC):\n",
    "    \n",
    "    @abstractmethod\n",
    "    def start(self):\n",
    "        pass\n",
    "\n",
    "# Car class inheriting from Vehicle\n",
    "class Car(Vehicle):\n",
    "    def start(self):\n",
    "        print(\"The car is starting with a roar of the engine.\")\n",
    "\n",
    "# Bicycle class inheriting from Vehicle\n",
    "class Bicycle(Vehicle):\n",
    "    def start(self):\n",
    "        print(\"The bicycle is starting with a pedal.\")\n",
    "\n",
    "# Boat class inheriting from Vehicle\n",
    "class Boat(Vehicle):\n",
    "    def start(self):\n",
    "        print(\"The boat is starting with the sound of the engine rumbling on the water.\")\n",
    "\n",
    "# Demonstrating Polymorphism\n",
    "vehicles = [Car(), Bicycle(), Boat()]\n",
    "\n",
    "# Looping through each vehicle and calling the start() method\n",
    "for vehicle in vehicles:\n",
    "    vehicle.start()"
   ]
  },
  {
   "cell_type": "markdown",
   "id": "f591afac-a9f6-495e-ab0d-e64570d72967",
   "metadata": {},
   "source": [
    "9. Explain the significance of the `isinstance()` and `issubclass()` functions in Python polymorphism."
   ]
  },
  {
   "cell_type": "markdown",
   "id": "c520c865-03de-4aca-9a48-e9cba9009f6e",
   "metadata": {},
   "source": [
    "1. isinstance() Function\n",
    "\n",
    "Purpose: It checks if an object is an instance of a class or a subclass of that class. This is useful in polymorphism when you want to ensure that an object is of a specific type before performing operations or accessing methods specific to that type.\n",
    "\n",
    "Significance in Polymorphism: In polymorphism, we may work with objects of different types (subclasses), but we often need to ensure the object belongs to a particular class before performing certain operations or invoking certain methods. The isinstance() function provides a way to perform such checks at runtime.\n",
    "\n",
    "2. issubclass() Function\n",
    "\n",
    "Purpose: It checks if a class is a subclass of another class. This is particularly useful when working with class hierarchies in polymorphism to determine if a class inherits from another class (directly or indirectly).\n",
    "\n",
    "Significance in Polymorphism: The issubclass() function is useful when you want to perform operations or checks based on whether a class inherits from a certain class. In polymorphism, it helps to understand the relationship between classes at the class level (rather than at the object level like isinstance())."
   ]
  },
  {
   "cell_type": "markdown",
   "id": "363c1ad9-05f2-46f3-9435-62e58047ca23",
   "metadata": {},
   "source": [
    "10. What is the role of the `@abstractmethod` decorator in achieving polymorphism in Python? Provide an\n",
    "example."
   ]
  },
  {
   "cell_type": "markdown",
   "id": "dc3f1496-d9c2-4dfb-93f1-a349752eae2b",
   "metadata": {},
   "source": [
    "The @abstractmethod decorator in Python is used to define abstract methods within an abstract base class (ABC). It is a key component of achieving polymorphism, especially when you want to enforce that all subclasses implement certain methods.\n",
    "\n",
    "Role of @abstractmethod in Polymorphism:\n",
    "\n",
    "Enforcing Method Implementation: The @abstractmethod decorator ensures that any subclass of the abstract base class must implement the abstract method. This allows you to define a common interface in the base class, and then have each subclass provide its own specific implementation. This is a core feature of polymorphism, as it allows different subclasses to implement methods in different ways while maintaining a consistent interface.\n",
    "\n",
    "Common Interface for Different Subclasses: The decorator helps to establish a shared method signature across all subclasses, ensuring that polymorphism can be applied effectively. You can call the same method on objects of different types (subclasses), but each subclass will execute its own version of the method."
   ]
  },
  {
   "cell_type": "code",
   "execution_count": 230,
   "id": "4c44dfcd-7fc8-437c-8af1-4dff76bf0830",
   "metadata": {},
   "outputs": [
    {
     "name": "stdout",
     "output_type": "stream",
     "text": [
      "Dog is barking\n",
      "Cat is meowing\n"
     ]
    }
   ],
   "source": [
    "#Example Using @abstractmethod:\n",
    "from abc import ABC, abstractmethod\n",
    "\n",
    "# Define an abstract base class\n",
    "class Animal(ABC):\n",
    "    \n",
    "    @abstractmethod\n",
    "    def speak(self):\n",
    "        pass  # No implementation in the base class, subclasses must override this\n",
    "\n",
    "# Define subclasses that implement the abstract method\n",
    "class Dog(Animal):\n",
    "    def speak(self):\n",
    "        print(\"Dog is barking\")\n",
    "\n",
    "class Cat(Animal):\n",
    "    def speak(self):\n",
    "        print(\"Cat is meowing\")\n",
    "\n",
    "# Creating instances of Dog and Cat\n",
    "dog = Dog()\n",
    "cat = Cat()\n",
    "\n",
    "# Polymorphism in action: calling the same method on different objects\n",
    "def animal_sound(animal: Animal):\n",
    "    animal.speak()  # This will call the appropriate speak method based on the object type\n",
    "\n",
    "animal_sound(dog)  # Calls Dog's speak\n",
    "animal_sound(cat)  # Calls Cat's speak"
   ]
  },
  {
   "cell_type": "markdown",
   "id": "e70be232-5d13-4d11-a721-5ce0b408f68b",
   "metadata": {},
   "source": [
    "11. Create a Python class called `Shape` with a polymorphic method `area()` that calculates the area of different shapes (e.g., circle, rectangle, triangle)."
   ]
  },
  {
   "cell_type": "code",
   "execution_count": 233,
   "id": "29f7dd89-d8d4-4d6d-a27e-2078a560098b",
   "metadata": {},
   "outputs": [
    {
     "name": "stdout",
     "output_type": "stream",
     "text": [
      "Area of Circle: 78.53981633974483\n",
      "Area of Rectangle: 24\n",
      "Area of Triangle: 14.0\n"
     ]
    }
   ],
   "source": [
    "import math\n",
    "\n",
    "# Base class Shape with a polymorphic method area()\n",
    "class Shape:\n",
    "    def area(self):\n",
    "        pass  # Base method, to be overridden by subclasses\n",
    "\n",
    "# Subclass for Circle\n",
    "class Circle(Shape):\n",
    "    def __init__(self, radius):\n",
    "        self.radius = radius\n",
    "    \n",
    "    def area(self):\n",
    "        return math.pi * (self.radius ** 2)\n",
    "\n",
    "# Subclass for Rectangle\n",
    "class Rectangle(Shape):\n",
    "    def __init__(self, width, height):\n",
    "        self.width = width\n",
    "        self.height = height\n",
    "    \n",
    "    def area(self):\n",
    "        return self.width * self.height\n",
    "\n",
    "# Subclass for Triangle\n",
    "class Triangle(Shape):\n",
    "    def __init__(self, base, height):\n",
    "        self.base = base\n",
    "        self.height = height\n",
    "    \n",
    "    def area(self):\n",
    "        return 0.5 * self.base * self.height\n",
    "\n",
    "# Create instances of different shapes\n",
    "circle = Circle(5)  # Circle with radius 5\n",
    "rectangle = Rectangle(4, 6)  # Rectangle with width 4 and height 6\n",
    "triangle = Triangle(4, 7)  # Triangle with base 4 and height 7\n",
    "\n",
    "# Calculate and display the areas using polymorphism\n",
    "shapes = [circle, rectangle, triangle]\n",
    "\n",
    "for shape in shapes:\n",
    "    print(f\"Area of {shape.__class__.__name__}: {shape.area()}\")"
   ]
  },
  {
   "cell_type": "markdown",
   "id": "be6e462f-416d-4872-9897-1d479a378df9",
   "metadata": {},
   "source": [
    "12. Discuss the benefits of polymorphism in terms of code reusability and flexibility in Python programs."
   ]
  },
  {
   "cell_type": "markdown",
   "id": "a73dd5ed-7230-466d-b655-db8b8d20321f",
   "metadata": {},
   "source": [
    "1. Code Reusability:\n",
    "\n",
    "Common Interface: Polymorphism allows different classes to implement a common interface (i.e., the same method signature, such as area() in the shape example). This enables developers to write code that can interact with various objects of different types in a consistent way.\n",
    "\n",
    "Reduction in Duplication: Instead of writing separate methods for each type of object, polymorphism enables you to write a single method that works with all object types in a family (i.e., base and derived classes). This reduces code duplication and improves maintainability.\n",
    "\n",
    "Generalized Functions: You can create functions or methods that work for multiple types of objects (e.g., the same function to calculate the area for a circle, rectangle, or triangle). This leads to more generalized and reusable code.\n",
    "\n",
    "\n",
    "2. Flexibility:\n",
    "\n",
    "Dynamic Method Binding: Polymorphism enables dynamic method binding (also known as late binding), which allows Python to call the appropriate method based on the actual object type at runtime. This provides flexibility in how objects interact with each other, as the same method name can perform different operations depending on the object's class.\n",
    "\n",
    "Extending Functionality: When new classes (subclasses) are introduced, they can easily override existing methods or introduce new behavior without altering the existing code. This makes the system more adaptable to changes.\n",
    "\n",
    "Handling Uncertainty: Polymorphism allows the system to be more flexible when it comes to handling objects of unknown or varying types. For \n",
    "\n",
    "3. Improved Maintainability:\n",
    "\n",
    "Centralized Changes: With polymorphism, changes to common methods (e.g., area()) need only to be made in the base class, and those changes will propagate through all derived classes. This makes maintaining and updating the code easier and less error-prone.\n",
    "\n",
    "Simplified Testing: Since polymorphism enables different objects to be treated uniformly, unit testing becomes simpler. You can test common functionality across different types of objects in a consistent manner.\n",
    "\n",
    "4. Extensibility:\n",
    "\n",
    "Easier to Add New Classes: Polymorphism makes it easy to add new classes to the system without breaking existing code. For example, adding a new shape (e.g., Polygon) to the shape hierarchy will only require defining the new class and overriding the area() method. The existing polymorphic code will still work seamlessly without modification.\n",
    "\n",
    "5. Cleaner Code:\n",
    "\n",
    "Avoiding Conditionals: Without polymorphism, you might have to use if-else or switch statements to check the type of an object and then call a different method accordingly. Polymorphism eliminates this need, making the code more readable and elegant by removing type checks and conditionals.\n",
    "\n",
    "Abstract Thinking: Polymorphism allows developers to think more abstractly about objects and their relationships. Instead of worrying about the specifics of object types, developers can focus on the common behaviors shared by the objects and how they should interact."
   ]
  },
  {
   "cell_type": "markdown",
   "id": "f36b95cc-7f2e-4c6f-9077-b1b9a993310a",
   "metadata": {},
   "source": [
    "13. Explain the use of the `super()` function in Python polymorphism. How does it help call methods of parent\n",
    "classes?"
   ]
  },
  {
   "cell_type": "markdown",
   "id": "06397335-5a6c-4fb2-a7ae-47c16c8a9161",
   "metadata": {},
   "source": [
    "The super() function in Python is used in the context of inheritance and polymorphism to call methods from a parent class (also known as the superclass). It provides a way to invoke methods from a parent class while allowing subclasses to extend or override the inherited behavior.\n",
    "\n",
    "Purpose of super():\n",
    "\n",
    "Access Parent Class Methods: It allows a child class to access the methods of its parent class without explicitly referring to the parent class by name.\n",
    "\n",
    "Avoid Explicit Parent Class References: Instead of directly referencing the parent class (e.g., ParentClass.method()), super() enables more flexible, cleaner, and maintainable code, especially in cases of multiple inheritance.\n",
    "Calling Parent Constructor: It is commonly used in a child class constructor to invoke the parent class constructor, ensuring proper \n",
    "\n",
    "initialization of inherited attributes.\n",
    "\n",
    "Ensure Correct Method Resolution Order (MRO): In the case of multiple inheritance, super() helps follow the Method Resolution Order (MRO), which determines the order in which classes are searched for methods.\n",
    "\n",
    "How super() Helps in Polymorphism:\n",
    "In polymorphism, different child classes may override methods from the parent class. When using super(), the child class can call the parent class's version of the method, thus allowing a mixture of inherited behavior and custom behavior from the child class."
   ]
  },
  {
   "cell_type": "markdown",
   "id": "44a01333-7335-480e-bd9c-1ad12ae1969b",
   "metadata": {},
   "source": [
    "14. Create a Python class hierarchy for a banking system with various account types (e.g., savings, checking, credit card) and demonstrate polymorphism by implementing a common `withdraw()` method."
   ]
  },
  {
   "cell_type": "code",
   "execution_count": 242,
   "id": "313eb3ef-23d3-459d-abf2-d974bc23d897",
   "metadata": {},
   "outputs": [
    {
     "name": "stdout",
     "output_type": "stream",
     "text": [
      "\n",
      "Alice's Account:\n",
      "Savings Account: Withdrew 600. New balance: 400\n",
      "\n",
      "Bob's Account:\n",
      "Checking Account: Withdrew 600. New balance: -100\n",
      "\n",
      "Charlie's Account:\n",
      "Credit Card Account: Withdrew 600. New balance: -300\n"
     ]
    }
   ],
   "source": [
    "class BankAccount:\n",
    "    def __init__(self, owner, balance):\n",
    "        self.owner = owner\n",
    "        self.balance = balance\n",
    "\n",
    "    def withdraw(self, amount):\n",
    "        raise NotImplementedError(\"Subclasses should implement this method\")\n",
    "\n",
    "    def deposit(self, amount):\n",
    "        self.balance += amount\n",
    "        print(f\"{amount} deposited. New balance: {self.balance}\")\n",
    "\n",
    "\n",
    "class SavingsAccount(BankAccount):\n",
    "    def __init__(self, owner, balance, interest_rate):\n",
    "        super().__init__(owner, balance)\n",
    "        self.interest_rate = interest_rate\n",
    "\n",
    "    def withdraw(self, amount):\n",
    "        # Savings account may have a limit or a special rule for withdrawals\n",
    "        if amount > self.balance:\n",
    "            print(\"Insufficient funds in savings account\")\n",
    "        else:\n",
    "            self.balance -= amount\n",
    "            print(f\"Savings Account: Withdrew {amount}. New balance: {self.balance}\")\n",
    "\n",
    "\n",
    "class CheckingAccount(BankAccount):\n",
    "    def __init__(self, owner, balance, overdraft_limit):\n",
    "        super().__init__(owner, balance)\n",
    "        self.overdraft_limit = overdraft_limit\n",
    "\n",
    "    def withdraw(self, amount):\n",
    "        # Checking account allows overdrafts\n",
    "        if amount > self.balance + self.overdraft_limit:\n",
    "            print(\"Insufficient funds in checking account, overdraft limit exceeded\")\n",
    "        else:\n",
    "            self.balance -= amount\n",
    "            print(f\"Checking Account: Withdrew {amount}. New balance: {self.balance}\")\n",
    "\n",
    "\n",
    "class CreditCardAccount(BankAccount):\n",
    "    def __init__(self, owner, balance, credit_limit):\n",
    "        super().__init__(owner, balance)\n",
    "        self.credit_limit = credit_limit\n",
    "\n",
    "    def withdraw(self, amount):\n",
    "        # Credit card accounts allow spending up to the credit limit\n",
    "        if amount > self.balance + self.credit_limit:\n",
    "            print(\"Credit limit exceeded on credit card account\")\n",
    "        else:\n",
    "            self.balance -= amount\n",
    "            print(f\"Credit Card Account: Withdrew {amount}. New balance: {self.balance}\")\n",
    "\n",
    "\n",
    "# Create instances of different account types\n",
    "savings = SavingsAccount(\"Alice\", 1000, 0.02)\n",
    "checking = CheckingAccount(\"Bob\", 500, 200)\n",
    "credit_card = CreditCardAccount(\"Charlie\", 300, 1500)\n",
    "\n",
    "# Perform withdrawals demonstrating polymorphism\n",
    "accounts = [savings, checking, credit_card]\n",
    "\n",
    "for account in accounts:\n",
    "    print(f\"\\n{account.owner}'s Account:\")\n",
    "    account.withdraw(600)  # Attempt to withdraw 600 from each account"
   ]
  },
  {
   "cell_type": "markdown",
   "id": "de8a54a1-9e7d-4dee-a6a0-f9db57cd710d",
   "metadata": {},
   "source": [
    "15. Describe the concept of operator overloading in Python and how it relates to polymorphism. Provide\n",
    "examples using operators like `+` and `*`."
   ]
  },
  {
   "cell_type": "markdown",
   "id": "163217e8-b9d5-4c7c-ab0f-e1eda54fb8b5",
   "metadata": {},
   "source": [
    "Operator overloading in Python refers to the ability to redefine the behavior of operators (such as +, -, *, etc.) for user-defined classes. This concept allows you to define how operators behave when applied to objects of your class, making the objects behave like built-in data types (e.g., integers, strings).\n",
    "\n",
    "Relation to Polymorphism:\n",
    "\n",
    "Operator overloading is closely related to polymorphism because it allows different classes to define how an operator should behave for their instances. Just like polymorphism allows methods to have the same name but different implementations across different classes, operator overloading lets you redefine operators for different types of objects in a flexible and dynamic way.\n",
    "\n",
    "When you overload operators, you are essentially providing different implementations of the operator based on the type of the operands, which is a form of runtime polymorphism. Python determines the specific implementation of the operator at runtime, based on the objects involved."
   ]
  },
  {
   "cell_type": "code",
   "execution_count": 248,
   "id": "03525405-070c-426b-ba6e-63cc22624294",
   "metadata": {},
   "outputs": [
    {
     "name": "stdout",
     "output_type": "stream",
     "text": [
      "Addition of p1 and p2: Point(4, 6)\n",
      "Multiplication of p1 by 2: Point(6, 8)\n"
     ]
    }
   ],
   "source": [
    "# example\n",
    "class Point:\n",
    "    def __init__(self, x, y):\n",
    "        self.x = x\n",
    "        self.y = y\n",
    "\n",
    "    # Overload the + operator to add two Point objects\n",
    "    def __add__(self, other):\n",
    "        if isinstance(other, Point):\n",
    "            return Point(self.x + other.x, self.y + other.y)\n",
    "        return NotImplemented\n",
    "\n",
    "    # Overload the * operator to multiply a Point object by a scalar\n",
    "    def __mul__(self, scalar):\n",
    "        if isinstance(scalar, (int, float)):\n",
    "            return Point(self.x * scalar, self.y * scalar)\n",
    "        return NotImplemented\n",
    "\n",
    "    # String representation of the Point object for better visualization\n",
    "    def __repr__(self):\n",
    "        return f\"Point({self.x}, {self.y})\"\n",
    "\n",
    "\n",
    "# Create two Point objects\n",
    "p1 = Point(3, 4)\n",
    "p2 = Point(1, 2)\n",
    "\n",
    "# Use the overloaded + operator to add two Point objects\n",
    "result_add = p1 + p2\n",
    "print(f\"Addition of p1 and p2: {result_add}\")  # Output: Point(4, 6)\n",
    "\n",
    "# Use the overloaded * operator to multiply a Point object by a scalar\n",
    "result_mul = p1 * 2\n",
    "print(f\"Multiplication of p1 by 2: {result_mul}\")  # Output: Point(6, 8)"
   ]
  },
  {
   "cell_type": "markdown",
   "id": "2d5c4ff2-cbdf-4433-9692-8ae3988b95da",
   "metadata": {},
   "source": [
    "16. What is dynamic polymorphism, and how is it achieved in Python?"
   ]
  },
  {
   "cell_type": "markdown",
   "id": "9c17fcf2-651b-42a4-8e46-74f08c0b5f17",
   "metadata": {},
   "source": [
    "Dynamic polymorphism, also known as runtime polymorphism, is a type of polymorphism where the method to be executed is determined at runtime. This is in contrast to static polymorphism, where method resolution happens at compile time. In dynamic polymorphism, the method calls are resolved dynamically during the program’s execution based on the object type, rather than the reference type.\n",
    "\n",
    "Achieving Dynamic Polymorphism in Python:\n",
    "\n",
    "In Python, dynamic polymorphism is achieved through method overriding. When a subclass provides its own implementation of a method that is already defined in its parent class, the method in the subclass overrides the one in the parent class. Python’s dynamic typing and runtime method resolution allow this behavior to be dynamic.\n",
    "\n",
    "This means that when you call a method on an object, Python determines which method to invoke based on the actual class of the object (not the reference type)."
   ]
  },
  {
   "cell_type": "markdown",
   "id": "d4215a51-51ec-4a0d-8bc1-1a86fcacd0ac",
   "metadata": {},
   "source": [
    "17. Create a Python class hierarchy for employees in a company (e.g., manager, developer, designer) and implement polymorphism through a common `calculate_salary()` method."
   ]
  },
  {
   "cell_type": "code",
   "execution_count": 253,
   "id": "9895797a-8f6a-4b4e-a6a0-cb14366a4690",
   "metadata": {},
   "outputs": [
    {
     "name": "stdout",
     "output_type": "stream",
     "text": [
      "Alice's Salary: 55000\n",
      "Bob's Salary: 42000\n",
      "Charlie's Salary: 36500\n"
     ]
    }
   ],
   "source": [
    "class Employee:\n",
    "    def __init__(self, name, base_salary):\n",
    "        self.name = name\n",
    "        self.base_salary = base_salary\n",
    "    \n",
    "    def calculate_salary(self):\n",
    "        # This method will be overridden in the child classes\n",
    "        raise NotImplementedError(\"Subclasses must implement this method\")\n",
    "\n",
    "class Manager(Employee):\n",
    "    def __init__(self, name, base_salary, team_size):\n",
    "        super().__init__(name, base_salary)\n",
    "        self.team_size = team_size\n",
    "    \n",
    "    def calculate_salary(self):\n",
    "        # Managers get a bonus based on the team size\n",
    "        bonus = self.team_size * 500  # Example bonus logic\n",
    "        return self.base_salary + bonus\n",
    "\n",
    "class Developer(Employee):\n",
    "    def __init__(self, name, base_salary, programming_language):\n",
    "        super().__init__(name, base_salary)\n",
    "        self.programming_language = programming_language\n",
    "    \n",
    "    def calculate_salary(self):\n",
    "        # Developers get a bonus based on their programming expertise\n",
    "        if self.programming_language == \"Python\":\n",
    "            bonus = 2000\n",
    "        else:\n",
    "            bonus = 1000\n",
    "        return self.base_salary + bonus\n",
    "\n",
    "class Designer(Employee):\n",
    "    def __init__(self, name, base_salary, design_tool):\n",
    "        super().__init__(name, base_salary)\n",
    "        self.design_tool = design_tool\n",
    "    \n",
    "    def calculate_salary(self):\n",
    "        # Designers get a bonus based on their design tool expertise\n",
    "        if self.design_tool == \"Photoshop\":\n",
    "            bonus = 1500\n",
    "        else:\n",
    "            bonus = 800\n",
    "        return self.base_salary + bonus\n",
    "\n",
    "# Example usage\n",
    "def display_salary(employee):\n",
    "    print(f\"{employee.name}'s Salary: {employee.calculate_salary()}\")\n",
    "\n",
    "# Creating employee objects\n",
    "manager = Manager(\"Alice\", 50000, 10)\n",
    "developer = Developer(\"Bob\", 40000, \"Python\")\n",
    "designer = Designer(\"Charlie\", 35000, \"Photoshop\")\n",
    "\n",
    "# Displaying salaries using polymorphism\n",
    "display_salary(manager)   # Alice's Salary: 55000\n",
    "display_salary(developer) # Bob's Salary: 42000\n",
    "display_salary(designer)  # Charlie's Salary: 36500\n"
   ]
  },
  {
   "cell_type": "markdown",
   "id": "28e60986-69b6-48bf-8cad-ded361185431",
   "metadata": {},
   "source": [
    "18. Discuss the concept of function pointers and how they can be used to achieve polymorphism in Python."
   ]
  },
  {
   "cell_type": "markdown",
   "id": "99bd56bf-402d-4a89-9144-4cc259f5c570",
   "metadata": {},
   "source": [
    "Function Pointers in Python:\n",
    "\n",
    "A function pointer in Python can be thought of as a variable that holds a reference to a function. You can store functions in variables, pass them as arguments to other functions, or even return them from other functions, enabling dynamic behavior similar to what function pointers do in lower-level languages.\n",
    "\n",
    "Achieving Polymorphism using Function Pointers in Python:\n",
    "\n",
    "Polymorphism allows objects to be treated as instances of their parent class but to invoke the appropriate methods for the specific subclass. By using function pointers (or references), we can dynamically assign functions based on certain conditions, allowing for polymorphic behavior."
   ]
  },
  {
   "cell_type": "markdown",
   "id": "c3110821-3606-4c25-990b-9eeb0941d3e8",
   "metadata": {},
   "source": [
    "19. Explain the role of interfaces and abstract classes in polymorphism, drawing comparisons between them."
   ]
  },
  {
   "cell_type": "markdown",
   "id": "a61fdaaa-db48-47d3-ac32-208890993ecd",
   "metadata": {},
   "source": [
    "1. Abstract Classes in Python\n",
    "\n",
    "An abstract class is a class that cannot be instantiated directly. It serves as a blueprint for other classes. It may contain abstract methods (methods without implementations), which must be implemented by its subclasses. Abstract classes are part of Python’s standard library, provided by the abc (Abstract Base Class) module.\n",
    "\n",
    "Key Features of Abstract Classes:\n",
    "\n",
    "Cannot Be Instantiated: You cannot create an object of an abstract class directly.\n",
    "\n",
    "Abstract Methods: These methods do not have any implementation in the abstract class. They must be overridden in the child classes.\n",
    "\n",
    "Common Behavior: An abstract class can define common methods that can be shared by subclasses, though some methods can be abstract (without implementation).\n",
    "\n",
    "2. Interfaces in Python\n",
    "\n",
    "Python does not have a formal interface construct as seen in languages like Java or C#. However, interfaces can be simulated using abstract base classes (ABCs) or by simply defining a set of methods that a class must implement.\n",
    "\n",
    "Key Features of Interfaces (Simulated in Python):\n",
    "\n",
    "No Implementation: An interface only defines method signatures, not method implementations.\n",
    "\n",
    "Contract for Subclasses: An interface ensures that the classes which implement it will provide concrete implementations of all the methods defined in the interface.\n",
    "\n",
    "Multiple Interface Inheritance: A class in Python can implement multiple interfaces, unlike abstract classes that typically follow single inheritance.\n"
   ]
  },
  {
   "cell_type": "markdown",
   "id": "b0e203df-f7be-41c5-ba98-ff86a0534892",
   "metadata": {},
   "source": [
    "20. Create a Python class for a zoo simulation, demonstrating polymorphism with different animal types (e.g., mammals, birds, reptiles) and their behavior (e.g., eating, sleeping, making sounds)."
   ]
  },
  {
   "cell_type": "code",
   "execution_count": 261,
   "id": "83f9c054-c5b7-4b41-aa06-9be677eb008a",
   "metadata": {},
   "outputs": [
    {
     "name": "stdout",
     "output_type": "stream",
     "text": [
      "Mammal:\n",
      "  Eating: Mammal is eating food.\n",
      "  Sleeping: Mammal is sleeping.\n",
      "  Sound: Mammal is making sound (growling or roaring).\n",
      "\n",
      "Bird:\n",
      "  Eating: Bird is pecking at seeds.\n",
      "  Sleeping: Bird is sleeping in its nest.\n",
      "  Sound: Bird is chirping.\n",
      "\n",
      "Reptile:\n",
      "  Eating: Reptile is eating insects.\n",
      "  Sleeping: Reptile is resting in the sun.\n",
      "  Sound: Reptile is hissing.\n",
      "\n"
     ]
    }
   ],
   "source": [
    "# Base class: Animal\n",
    "class Animal:\n",
    "    def eat(self):\n",
    "        raise NotImplementedError(\"Subclass must implement abstract method\")\n",
    "\n",
    "    def sleep(self):\n",
    "        raise NotImplementedError(\"Subclass must implement abstract method\")\n",
    "    \n",
    "    def make_sound(self):\n",
    "        raise NotImplementedError(\"Subclass must implement abstract method\")\n",
    "\n",
    "# Subclass: Mammal\n",
    "class Mammal(Animal):\n",
    "    def eat(self):\n",
    "        return \"Mammal is eating food.\"\n",
    "\n",
    "    def sleep(self):\n",
    "        return \"Mammal is sleeping.\"\n",
    "\n",
    "    def make_sound(self):\n",
    "        return \"Mammal is making sound (growling or roaring).\"\n",
    "\n",
    "# Subclass: Bird\n",
    "class Bird(Animal):\n",
    "    def eat(self):\n",
    "        return \"Bird is pecking at seeds.\"\n",
    "\n",
    "    def sleep(self):\n",
    "        return \"Bird is sleeping in its nest.\"\n",
    "\n",
    "    def make_sound(self):\n",
    "        return \"Bird is chirping.\"\n",
    "\n",
    "# Subclass: Reptile\n",
    "class Reptile(Animal):\n",
    "    def eat(self):\n",
    "        return \"Reptile is eating insects.\"\n",
    "\n",
    "    def sleep(self):\n",
    "        return \"Reptile is resting in the sun.\"\n",
    "\n",
    "    def make_sound(self):\n",
    "        return \"Reptile is hissing.\"\n",
    "\n",
    "# Create instances of each animal type\n",
    "mammal = Mammal()\n",
    "bird = Bird()\n",
    "reptile = Reptile()\n",
    "\n",
    "# Polymorphic behavior - calling the same method on different objects\n",
    "animals = [mammal, bird, reptile]\n",
    "\n",
    "for animal in animals:\n",
    "    print(f\"{animal.__class__.__name__}:\")\n",
    "    print(f\"  Eating: {animal.eat()}\")\n",
    "    print(f\"  Sleeping: {animal.sleep()}\")\n",
    "    print(f\"  Sound: {animal.make_sound()}\\n\")"
   ]
  },
  {
   "cell_type": "markdown",
   "id": "3ccfe7d0-a0c9-4b03-a2cc-d777c2ae8818",
   "metadata": {},
   "source": [
    "# Abstraction:"
   ]
  },
  {
   "cell_type": "markdown",
   "id": "5f03b8e0-32cd-45e4-b705-fd41189f6e52",
   "metadata": {},
   "source": [
    "1. What is abstraction in Python, and how does it relate to object-oriented programming?"
   ]
  },
  {
   "cell_type": "markdown",
   "id": "d1456ef1-adad-4764-b3fe-1638026eb0dc",
   "metadata": {},
   "source": [
    "Abstraction is one of the core principles of object-oriented programming (OOP). In Python, abstraction refers to the concept of hiding the complex implementation details of a class or a function and exposing only the essential features to the user. This helps in reducing complexity and allows the programmer to focus on high-level functionality.\n",
    "\n",
    "Abstraction allows you to create a simple interface for complex underlying processes, making it easier for users to interact with a system. By abstracting away unnecessary details, you can create flexible and maintainable code.\n",
    "\n",
    "How Abstraction Relates to OOP:\n",
    "\n",
    "In object-oriented programming, abstraction is implemented using abstract classes and abstract methods. It allows you to define a blueprint for other classes without providing a full implementation. The actual implementation of the abstract methods is left to the subclasses that inherit from the abstract class.\n",
    "\n",
    "Key Points About Abstraction:\n",
    "\n",
    "Simplification: It hides the complexity and exposes only relevant details.\n",
    "\n",
    "Code Reusability: Abstract classes provide a base for creating more specialized classes.\n",
    "\n",
    "Design: Abstract classes define a contract or blueprint, forcing subclasses to implement specific methods."
   ]
  },
  {
   "cell_type": "markdown",
   "id": "16efef54-060b-49f3-920b-5df79f03aeb1",
   "metadata": {},
   "source": [
    "2. Describe the benefits of abstraction in terms of code organization and complexity reduction."
   ]
  },
  {
   "cell_type": "markdown",
   "id": "276a073b-f176-4287-89a4-e2525e9fa104",
   "metadata": {},
   "source": [
    "1. Improved Code Organization\n",
    "\n",
    "Modular Design: Abstraction encourages a modular design by allowing the creation of high-level interfaces while hiding the implementation details. It enables developers to organize code into logical, distinct components or modules.\n",
    "\n",
    "Clear Structure: By defining abstract base classes (ABCs) and abstract methods, abstraction creates a clear structure for how classes and functions should behave, making the code easier to follow and maintain.\n",
    "\n",
    "Separation of Concerns: Abstraction enforces separation between what a system does and how it does it. The interface (abstract methods) provides the \"what\", while the implementation provides the \"how\". This separation helps in organizing code in a way that promotes clarity and logical structure.\n",
    "\n",
    "For example, consider a library system where an abstract Book class defines the interface for book operations, and different types of books (e.g., eBooks, audio books) provide specific implementations. The structure is clear, and each book type can be modified independently of the others.\n",
    "\n",
    "2. Complexity Reduction\n",
    "\n",
    "Hiding Implementation Details: Abstraction hides the internal details of the implementation, exposing only the necessary functionality to the user. This simplifies the interface the user interacts with, reducing the complexity of understanding how something works.\n",
    "\n",
    "For instance, when interacting with a Car object, the user doesn't need to know how the engine, transmission, or exhaust system works. They only need to know what methods they can call, like start() or accelerate(). The complexity of the engine's internals is hidden.\n",
    "\n",
    "Simplified Usage: By focusing only on the relevant details, abstraction provides an easier way to interact with the system. It prevents users or developers from getting bogged down in the complexity of the inner workings.\n",
    "\n",
    "For example, with an abstract Payment class and subclasses for different payment methods (e.g., CreditCardPayment, PayPalPayment), the user interacts with the same interface but doesn't need to understand the underlying differences between payment processing systems. This reduces cognitive load and makes the system easier to use.\n",
    "\n",
    "3. Enhanced Flexibility and Maintainability\n",
    "\n",
    "Easier to Change or Extend: Abstraction makes systems more flexible by allowing changes to be made to the implementation without affecting the users of the system. Since the implementation details are hidden, developers can modify the code inside the abstract class without changing how the classes interact.\n",
    "\n",
    "For example, if a new CreditCardPayment class needs to be added with a different validation process, it can be done without affecting other payment types or the system that interacts with payments. The system only needs to interact with the abstract Payment class and doesn't depend on the specific implementation details.\n",
    "\n",
    "Code Reusability: Since abstract classes define common behavior, subclasses can reuse this code without having to redefine it. This reduces redundancy and ensures consistency across the system.\n",
    "\n",
    "For instance, if multiple subclasses share common validation logic, that logic can be abstracted into the parent class, preventing code duplication.\n",
    "\n",
    "4. Encapsulation of Changes\n",
    "\n",
    "Easier Refactoring: With abstraction, changes in the internal implementation don't directly affect the external API. This makes refactoring simpler because the abstract interface remains the same even if the underlying code changes.\n",
    "\n",
    "For example, if a function’s internal processing needs to be changed, it can be done within the abstract class or subclass without changing how the function is called or used externally.\n",
    "\n",
    "Clearer Contracts: Abstraction allows you to establish contracts or agreements between classes. The abstract class defines what methods must be implemented, creating a clearer contract. Subclasses then provide specific implementations, which ensures that the system behaves as expected.\n",
    "\n",
    "In a contract-based system, you know that every class implementing an abstract Shape class, for example, will have an area() method. The contract simplifies expectations and interactions, helping to avoid confusion and errors.\n",
    "\n",
    "5. Reduction of Redundant Code\n",
    "\n",
    "Centralized Logic: Abstraction allows shared behavior to be placed in a common superclass, eliminating the need to repeat code across subclasses. The abstract class or base class can handle the common logic, while each subclass handles only the specifics that differ.\n",
    "\n",
    "For example, an abstract Vehicle class could define common methods like start() and stop(), while subclasses like Car, Motorcycle, and Truck would define the specifics. This avoids redundant code and improves maintainability."
   ]
  },
  {
   "cell_type": "markdown",
   "id": "8d6d7299-4e6f-4b47-a3d9-c5ec675518e7",
   "metadata": {},
   "source": [
    "3. Create a Python class called `Shape` with an abstract method `calculate_area()`. Then, create child classes (e.g., `Circle`, `Rectangle`) that implement the `calculate_area()` method. Provide an example of\n",
    "using these classes."
   ]
  },
  {
   "cell_type": "code",
   "execution_count": 272,
   "id": "8c982f67-c9e0-466e-9b94-a2abcafe8e2c",
   "metadata": {},
   "outputs": [
    {
     "name": "stdout",
     "output_type": "stream",
     "text": [
      "Area of Circle: 78.54\n",
      "Area of Rectangle: 24.00\n"
     ]
    }
   ],
   "source": [
    "from abc import ABC, abstractmethod\n",
    "import math\n",
    "\n",
    "# Abstract Base Class\n",
    "class Shape(ABC):\n",
    "\n",
    "    @abstractmethod\n",
    "    def calculate_area(self):\n",
    "        pass\n",
    "\n",
    "# Circle Class\n",
    "class Circle(Shape):\n",
    "    def __init__(self, radius):\n",
    "        self.radius = radius\n",
    "\n",
    "    def calculate_area(self):\n",
    "        return math.pi * self.radius ** 2\n",
    "\n",
    "# Rectangle Class\n",
    "class Rectangle(Shape):\n",
    "    def __init__(self, length, width):\n",
    "        self.length = length\n",
    "        self.width = width\n",
    "\n",
    "    def calculate_area(self):\n",
    "        return self.length * self.width\n",
    "\n",
    "# Client Code to use the classes\n",
    "\n",
    "# Create instances of Circle and Rectangle\n",
    "circle = Circle(5)\n",
    "rectangle = Rectangle(4, 6)\n",
    "\n",
    "# Calculate and print the areas\n",
    "print(f\"Area of Circle: {circle.calculate_area():.2f}\")\n",
    "print(f\"Area of Rectangle: {rectangle.calculate_area():.2f}\")"
   ]
  },
  {
   "cell_type": "markdown",
   "id": "daa26e89-1b42-420a-9032-4f2e2424477e",
   "metadata": {},
   "source": [
    "4. Explain the concept of abstract classes in Python and how they are defined using the `abc` module. Provide\n",
    "an example."
   ]
  },
  {
   "cell_type": "markdown",
   "id": "b4c9e19f-a910-4dd5-be94-8b82802ca5bc",
   "metadata": {},
   "source": [
    "An abstract class in Python is a class that cannot be instantiated on its own and is designed to be inherited by other classes. It provides a blueprint for other classes, ensuring that they implement certain methods. Abstract classes can contain both abstract methods (methods that must be implemented in subclasses) and regular methods (methods with an implementation).\n",
    "\n",
    "Python provides the abc (Abstract Base Class) module to define abstract classes and methods. You can use the ABC class as a base class, and the @abstractmethod decorator to declare methods as abstract.\n",
    "\n",
    "Key Concepts:\n",
    "\n",
    "Abstract Class: A class that cannot be instantiated directly. It may contain abstract methods that must be implemented by subclasses.\n",
    "\n",
    "Abstract Method: A method that is declared in the abstract class but does not have an implementation. Subclasses must provide an implementation for this method.\n",
    "\n",
    "How to Define Abstract Classes in Python:\n",
    "\n",
    "Inherit from ABC class.\n",
    "\n",
    "Use the @abstractmethod decorator to define abstract methods.\n",
    "\n",
    "Subclasses must implement all abstract methods before they can be instantiated."
   ]
  },
  {
   "cell_type": "code",
   "execution_count": 276,
   "id": "2fb711e6-aeae-411f-be7c-7caa4aaa4685",
   "metadata": {},
   "outputs": [
    {
     "name": "stdout",
     "output_type": "stream",
     "text": [
      "Dog sound: Bark, Dog movement: Run\n",
      "Bird sound: Chirp, Bird movement: Fly\n"
     ]
    }
   ],
   "source": [
    "# example\n",
    "from abc import ABC, abstractmethod\n",
    "\n",
    "# Abstract Base Class\n",
    "class Animal(ABC):\n",
    "\n",
    "    # Abstract method (must be implemented by subclass)\n",
    "    @abstractmethod\n",
    "    def sound(self):\n",
    "        pass\n",
    "\n",
    "    @abstractmethod\n",
    "    def move(self):\n",
    "        pass\n",
    "\n",
    "# Subclass 1: Dog\n",
    "class Dog(Animal):\n",
    "\n",
    "    def sound(self):\n",
    "        return \"Bark\"\n",
    "\n",
    "    def move(self):\n",
    "        return \"Run\"\n",
    "\n",
    "# Subclass 2: Bird\n",
    "class Bird(Animal):\n",
    "\n",
    "    def sound(self):\n",
    "        return \"Chirp\"\n",
    "\n",
    "    def move(self):\n",
    "        return \"Fly\"\n",
    "\n",
    "# Client code\n",
    "dog = Dog()\n",
    "bird = Bird()\n",
    "\n",
    "print(f\"Dog sound: {dog.sound()}, Dog movement: {dog.move()}\")\n",
    "print(f\"Bird sound: {bird.sound()}, Bird movement: {bird.move()}\")\n"
   ]
  },
  {
   "cell_type": "markdown",
   "id": "2c613b1d-6a71-4643-97e3-0da94acf177f",
   "metadata": {},
   "source": [
    "5. How do abstract classes differ from regular classes in Python? Discuss their use cases."
   ]
  },
  {
   "cell_type": "markdown",
   "id": "355ff864-d7a6-4f92-ac55-7eb221efda25",
   "metadata": {},
   "source": [
    "1. Instantiation:\n",
    "\n",
    "Abstract Class: Cannot be instantiated directly. It is intended to be inherited by other classes. You must implement all abstract methods in a subclass before creating an instance of that subclass.\n",
    "\n",
    "Regular Class: Can be instantiated directly if it has a valid constructor and doesn't have any abstract methods.\n",
    "\n",
    "2. Abstract Methods:\n",
    "\n",
    "Abstract Class: Contains one or more abstract methods (methods without implementation). These methods must be implemented by any subclass. The @abstractmethod decorator is used to define abstract methods.\n",
    "\n",
    "Regular Class: Does not necessarily contain abstract methods. It can have fully implemented methods, or methods that are not decorated as abstract.\n",
    "\n",
    "3. Purpose:\n",
    "\n",
    "Abstract Class: Used as a blueprint for other classes. It enforces a structure (through abstract methods) that subclasses must follow. It ensures that certain methods are implemented by subclasses, which leads to a more organized and structured class hierarchy.\n",
    "\n",
    "Regular Class: It can serve any purpose, and its primary use is for creating concrete objects with functionality that may or may not be inherited by other classes.\n",
    "\n",
    "4. Inheritance:\n",
    "\n",
    "Abstract Class: Typically used for inheritance and serves as a base class from which other classes can derive. It does not provide a full implementation but outlines the methods that need to be implemented by its subclasses.\n",
    "\n",
    "Regular Class: Can also be inherited by other classes, but it can have full implementations and may not require any subclasses to implement specific methods.\n",
    "\n",
    "5. Flexibility:\n",
    "\n",
    "Abstract Class: Provides more control over how subclasses should behave. By defining abstract methods, it ensures that subclasses adhere to a common interface.\n",
    "\n",
    "Regular Class: Provides full flexibility in terms of implementation and can be directly used to create objects with concrete behavior.\n",
    "\n",
    "Key Use Cases:\n",
    "\n",
    "Abstract Classes:\n",
    "\n",
    "Enforcing Interface: When you want to enforce a certain interface across multiple classes. For example, in a game, you could have an abstract class Character that forces subclasses (Warrior, Mage, etc.) to implement methods like attack() or defend().\n",
    "\n",
    "Shared Behavior with Custom Implementation: Abstract classes are used when you want to define shared behavior (methods) that need to be customized in subclasses. For example, Shape might have methods for calculating area and perimeter, but each shape (circle, rectangle, etc.) will implement these methods differently.\n",
    "\n",
    "Design Pattern: Abstract classes are often used in design patterns like Template Method Pattern and Strategy Pattern, where abstract methods define a structure and subclasses implement specific behaviors.\n",
    "\n",
    "Regular Classes:\n",
    "\n",
    "Concrete Objects: Regular classes are used to create concrete objects that represent entities in the real world, such as Circle, Rectangle, Book, etc., without any need for enforcing an interface.\n",
    "\n",
    "General Purpose: Use regular classes when you don’t need an abstract structure and can implement everything directly in the class.\n",
    "\n",
    "Single Class Implementation: If you don’t need a hierarchy of classes and just need a class for a specific task, a regular class suffices. For example, a Car class to represent a car object in a system."
   ]
  },
  {
   "cell_type": "markdown",
   "id": "4ea2e191-a734-4ca5-9791-a83b54d84a0a",
   "metadata": {},
   "source": [
    "6. Create a Python class for a bank account and demonstrate abstraction by hiding the account balance and\n",
    "providing methods to deposit and withdraw funds."
   ]
  },
  {
   "cell_type": "code",
   "execution_count": 281,
   "id": "5b204048-b91a-4d76-84de-88a5b1efecb4",
   "metadata": {},
   "outputs": [
    {
     "name": "stdout",
     "output_type": "stream",
     "text": [
      "Deposited: $500\n",
      "Withdrew: $300\n",
      "Current Balance: $1200\n"
     ]
    }
   ],
   "source": [
    "from abc import ABC, abstractmethod\n",
    "\n",
    "# Abstract class\n",
    "class Account(ABC):\n",
    "    \n",
    "    @abstractmethod\n",
    "    def deposit(self, amount):\n",
    "        pass\n",
    "    \n",
    "    @abstractmethod\n",
    "    def withdraw(self, amount):\n",
    "        pass\n",
    "    \n",
    "    @abstractmethod\n",
    "    def get_balance(self):\n",
    "        pass\n",
    "\n",
    "# Concrete class implementing the abstract methods\n",
    "class BankAccount(Account):\n",
    "    \n",
    "    def __init__(self, initial_balance=0):\n",
    "        self.__balance = initial_balance  # Private attribute to store account balance\n",
    "    \n",
    "    def deposit(self, amount):\n",
    "        if amount > 0:\n",
    "            self.__balance += amount\n",
    "            print(f\"Deposited: ${amount}\")\n",
    "        else:\n",
    "            print(\"Amount to deposit should be greater than 0.\")\n",
    "    \n",
    "    def withdraw(self, amount):\n",
    "        if 0 < amount <= self.__balance:\n",
    "            self.__balance -= amount\n",
    "            print(f\"Withdrew: ${amount}\")\n",
    "        else:\n",
    "            print(\"Insufficient balance or invalid withdrawal amount.\")\n",
    "    \n",
    "    def get_balance(self):\n",
    "        return self.__balance\n",
    "\n",
    "# Example usage\n",
    "account = BankAccount(1000)  # Creating an account with an initial balance of $1000\n",
    "\n",
    "# Depositing money\n",
    "account.deposit(500)\n",
    "\n",
    "# Withdrawing money\n",
    "account.withdraw(300)\n",
    "\n",
    "# Checking balance\n",
    "print(f\"Current Balance: ${account.get_balance()}\")"
   ]
  },
  {
   "cell_type": "markdown",
   "id": "1627fc7f-0f85-4033-843b-db86a706fead",
   "metadata": {},
   "source": [
    "7. Discuss the concept of interface classes in Python and their role in achieving abstraction."
   ]
  },
  {
   "cell_type": "markdown",
   "id": "340b6eb2-3ac0-4459-ae1c-d2a97692c9a3",
   "metadata": {},
   "source": [
    "In Python, interface classes are not explicitly supported as in some other languages (e.g., Java or C#), but you can achieve a similar effect using abstract base classes (ABCs) from the abc module.\n",
    "\n",
    "An interface defines a contract or set of methods that a class must implement. In Python, interfaces are commonly created by defining an abstract class with abstract methods. The purpose of using an interface class is to enforce that certain methods are implemented in subclasses, allowing for abstraction and ensuring that different subclasses provide specific implementations for these methods.\n",
    "\n",
    "Key Concepts:\n",
    "\n",
    "Interface Class: An interface class in Python is essentially an abstract base class (ABC) that declares a set of methods but does not provide any implementation. It only specifies the \"what\" of the methods, and the actual \"how\" is left to the concrete subclasses.\n",
    "\n",
    "Abstraction: An interface class allows for abstraction by separating the definition of methods from their implementation. The interface specifies the operations that subclasses must implement but does not concern itself with how these operations are carried out. This promotes loose coupling and enhances code flexibility.\n",
    "\n",
    "Implementing an Interface: A concrete class that \"implements\" an interface is expected to define all the methods specified in the interface. If the subclass fails to implement any of these methods, Python will raise an error when attempting to instantiate the class."
   ]
  },
  {
   "cell_type": "markdown",
   "id": "67ef8f4c-feee-48e5-838e-6cd959fddfe6",
   "metadata": {},
   "source": [
    "8. Create a Python class hierarchy for animals and implement abstraction by defining common methods (e.g., `eat()`, `sleep()`) in an abstract base class."
   ]
  },
  {
   "cell_type": "code",
   "execution_count": 286,
   "id": "9424ac2a-3baf-4b8e-9b07-240da539d370",
   "metadata": {},
   "outputs": [
    {
     "name": "stdout",
     "output_type": "stream",
     "text": [
      "Dog:\n",
      "  Eat: The dog is eating kibble.\n",
      "  Sleep: The dog is sleeping on the couch.\n",
      "\n",
      "Cat:\n",
      "  Eat: The cat is eating tuna.\n",
      "  Sleep: The cat is sleeping in a cozy spot.\n",
      "\n",
      "Bird:\n",
      "  Eat: The bird is eating seeds.\n",
      "  Sleep: The bird is sleeping in its nest.\n",
      "\n"
     ]
    }
   ],
   "source": [
    "from abc import ABC, abstractmethod\n",
    "\n",
    "# Abstract Base Class for Animals\n",
    "class Animal(ABC):\n",
    "    \n",
    "    @abstractmethod\n",
    "    def eat(self):\n",
    "        \"\"\"Abstract method for eating behavior\"\"\"\n",
    "        pass\n",
    "    \n",
    "    @abstractmethod\n",
    "    def sleep(self):\n",
    "        \"\"\"Abstract method for sleeping behavior\"\"\"\n",
    "        pass\n",
    "\n",
    "# Concrete class for Dog\n",
    "class Dog(Animal):\n",
    "    def eat(self):\n",
    "        return \"The dog is eating kibble.\"\n",
    "    \n",
    "    def sleep(self):\n",
    "        return \"The dog is sleeping on the couch.\"\n",
    "\n",
    "# Concrete class for Cat\n",
    "class Cat(Animal):\n",
    "    def eat(self):\n",
    "        return \"The cat is eating tuna.\"\n",
    "    \n",
    "    def sleep(self):\n",
    "        return \"The cat is sleeping in a cozy spot.\"\n",
    "\n",
    "# Concrete class for Bird\n",
    "class Bird(Animal):\n",
    "    def eat(self):\n",
    "        return \"The bird is eating seeds.\"\n",
    "    \n",
    "    def sleep(self):\n",
    "        return \"The bird is sleeping in its nest.\"\n",
    "\n",
    "# Example usage\n",
    "dog = Dog()\n",
    "cat = Cat()\n",
    "bird = Bird()\n",
    "\n",
    "# Demonstrating polymorphism\n",
    "animals = [dog, cat, bird]\n",
    "for animal in animals:\n",
    "    print(f\"{animal.__class__.__name__}:\")\n",
    "    print(f\"  Eat: {animal.eat()}\")\n",
    "    print(f\"  Sleep: {animal.sleep()}\")\n",
    "    print()"
   ]
  },
  {
   "cell_type": "markdown",
   "id": "59dae8c4-31ad-4568-8482-96e4c9f0dd77",
   "metadata": {},
   "source": [
    "9. Explain the significance of encapsulation in achieving abstraction. Provide examples."
   ]
  },
  {
   "cell_type": "markdown",
   "id": "225649f2-d58d-4f3b-8e89-fc2dad3d4981",
   "metadata": {},
   "source": [
    "Encapsulation plays a critical role in achieving abstraction by restricting direct access to certain object components and exposing only necessary information. This protects the internal state of an object and hides the implementation details, while providing a controlled interface to interact with the object. Encapsulation essentially combines data hiding and controlled access through methods like getters, setters, and other public interfaces, which helps in simplifying complex systems and reducing code dependencies.\n",
    "\n",
    "How Encapsulation Achieves Abstraction:\n",
    "\n",
    "Data Hiding: Encapsulation hides the internal details and the state of an object. It prevents external components from accessing or modifying the object's internal attributes directly. This helps focus on what an object does (its behavior) rather than how it does it.\n",
    "\n",
    "Controlled Access: By using getter and setter methods, we provide controlled access to the object's properties. This allows us to hide the complexities of implementation while exposing only relevant information. Thus, users interact with an abstraction of the object, not its internal workings.\n",
    "\n",
    "Interface Exposure: Encapsulation allows only necessary methods (the interface) to be exposed to the outside world. The internal workings remain hidden and inaccessible. This is key to maintaining abstraction, as users are unaware of the complex logic inside."
   ]
  },
  {
   "cell_type": "code",
   "execution_count": 290,
   "id": "1d1fd1b1-0fb8-4c23-9b6d-f19f85c04212",
   "metadata": {},
   "outputs": [
    {
     "name": "stdout",
     "output_type": "stream",
     "text": [
      "Initial Balance: $1000\n",
      "Deposited: $500\n",
      "Balance after deposit: $1500\n",
      "Withdrew: $200\n",
      "Balance after withdrawal: $1300\n",
      "Invalid withdrawal amount.\n"
     ]
    }
   ],
   "source": [
    "# example\n",
    "class BankAccount:\n",
    "    def __init__(self, account_holder, initial_balance=0):\n",
    "        self.__account_holder = account_holder  # Private attribute\n",
    "        self.__balance = initial_balance        # Private attribute\n",
    "\n",
    "    # Getter for balance\n",
    "    def get_balance(self):\n",
    "        return self.__balance\n",
    "\n",
    "    # Setter for deposit\n",
    "    def deposit(self, amount):\n",
    "        if amount > 0:\n",
    "            self.__balance += amount\n",
    "            print(f\"Deposited: ${amount}\")\n",
    "        else:\n",
    "            print(\"Deposit amount must be positive.\")\n",
    "\n",
    "    # Setter for withdrawal\n",
    "    def withdraw(self, amount):\n",
    "        if amount <= self.__balance and amount > 0:\n",
    "            self.__balance -= amount\n",
    "            print(f\"Withdrew: ${amount}\")\n",
    "        else:\n",
    "            print(\"Invalid withdrawal amount.\")\n",
    "\n",
    "# Example Usage\n",
    "account = BankAccount(\"John Doe\", 1000)\n",
    "print(f\"Initial Balance: ${account.get_balance()}\")\n",
    "\n",
    "account.deposit(500)   # Deposit money\n",
    "print(f\"Balance after deposit: ${account.get_balance()}\")\n",
    "\n",
    "account.withdraw(200)  # Withdraw money\n",
    "print(f\"Balance after withdrawal: ${account.get_balance()}\")\n",
    "\n",
    "account.withdraw(1500) # Invalid withdrawal"
   ]
  },
  {
   "cell_type": "markdown",
   "id": "3203aa68-5a8c-4804-9ca7-d59436bbaa54",
   "metadata": {},
   "source": [
    "10. What is the purpose of abstract methods, and how do they enforce abstraction in Python classes?"
   ]
  },
  {
   "cell_type": "markdown",
   "id": "f31bbd4e-e0a6-423b-b728-c9aa7a165cd2",
   "metadata": {},
   "source": [
    "Abstract methods in Python serve to enforce abstraction by defining methods in an abstract class that must be implemented by any subclass. These methods act as placeholders that do not contain any implementation in the abstract class itself, but any concrete subclass must provide an implementation for these methods.\n",
    "\n",
    "Purpose of Abstract Methods:\n",
    "\n",
    "Enforce a Common Interface: Abstract methods provide a common interface for all subclasses. This ensures that every subclass has the same method signatures, even if the implementations of these methods differ. It helps maintain consistency across the subclasses, enabling polymorphism and standardization.\n",
    "\n",
    "Prevent Instantiation of Abstract Classes: Abstract classes cannot be instantiated directly. This ensures that the class is only used as a base class for other concrete classes. By containing abstract methods, it becomes clear that the class is meant to be subclassed and extended rather than used directly.\n",
    "\n",
    "Promote Design by Contract: Abstract methods define a \"contract\" that subclasses must fulfill. This forces developers to implement the required functionality, making sure that every subclass adheres to the expected interface.\n",
    "\n",
    "Allow for Polymorphism: Abstract methods enable polymorphic behavior, where different subclasses can implement the same abstract method differently, but they can still be treated as the same type based on the common interface.\n",
    "\n",
    "How Abstract Methods Enforce Abstraction in Python:\n",
    "\n",
    "In Python, abstract methods are defined within abstract base classes (ABCs) using the abc module.\n",
    "\n",
    "The abstract methods are decorated with the @abstractmethod decorator to indicate that they are abstract and must be implemented by subclasses.\n",
    "The ABC class from the abc module is used as the base class for any class that wants to be considered abstract."
   ]
  },
  {
   "cell_type": "markdown",
   "id": "b042ecba-b919-4bc9-a7cc-6621ca486486",
   "metadata": {},
   "source": [
    "11. Create a Python class for a vehicle system and demonstrate abstraction by defining common methods (e.g., `start()`, `stop()`) in an abstract base class."
   ]
  },
  {
   "cell_type": "code",
   "execution_count": 295,
   "id": "4352ae69-1306-43ff-8bb6-aef46b3a35ff",
   "metadata": {},
   "outputs": [
    {
     "name": "stdout",
     "output_type": "stream",
     "text": [
      "Car is starting with the turn of the key.\n",
      "Car is stopping by pressing the brake.\n",
      "Bike is starting by pedaling.\n",
      "Bike is stopping by applying the brakes.\n"
     ]
    }
   ],
   "source": [
    "from abc import ABC, abstractmethod\n",
    "\n",
    "# Abstract base class\n",
    "class Vehicle(ABC):\n",
    "    @abstractmethod\n",
    "    def start(self):\n",
    "        \"\"\"Start the vehicle.\"\"\"\n",
    "        pass\n",
    "\n",
    "    @abstractmethod\n",
    "    def stop(self):\n",
    "        \"\"\"Stop the vehicle.\"\"\"\n",
    "        pass\n",
    "\n",
    "# Concrete subclass 1: Car\n",
    "class Car(Vehicle):\n",
    "    def start(self):\n",
    "        return \"Car is starting with the turn of the key.\"\n",
    "\n",
    "    def stop(self):\n",
    "        return \"Car is stopping by pressing the brake.\"\n",
    "\n",
    "# Concrete subclass 2: Bike\n",
    "class Bike(Vehicle):\n",
    "    def start(self):\n",
    "        return \"Bike is starting by pedaling.\"\n",
    "\n",
    "    def stop(self):\n",
    "        return \"Bike is stopping by applying the brakes.\"\n",
    "\n",
    "# Instantiate objects of the concrete classes\n",
    "car = Car()\n",
    "print(car.start())  # Output: Car is starting with the turn of the key.\n",
    "print(car.stop())   # Output: Car is stopping by pressing the brake.\n",
    "\n",
    "bike = Bike()\n",
    "print(bike.start())  # Output: Bike is starting by pedaling.\n",
    "print(bike.stop())   # Output: Bike is stopping by applying the brakes."
   ]
  },
  {
   "cell_type": "markdown",
   "id": "6b91d667-b1e6-4c81-846a-1f51b6cf7d5b",
   "metadata": {},
   "source": [
    "12. Describe the use of abstract properties in Python and how they can be employed in abstract classes."
   ]
  },
  {
   "cell_type": "markdown",
   "id": "a4047bf9-7853-454a-99c9-6c3bfd0d69ab",
   "metadata": {},
   "source": [
    "In Python, abstract properties are a special kind of abstract method, defined using the @property decorator. Abstract properties allow us to define properties that must be implemented by any subclass of an abstract class, ensuring that subclasses provide the actual logic for getting and setting the property values.\n",
    "\n",
    "Key Points:\n",
    "\n",
    "Abstract properties are defined in abstract base classes using the @property decorator.\n",
    "Just like abstract methods, abstract properties are enforced in subclasses using the @abstractmethod decorator.\n",
    "Abstract properties are useful when you want to ensure that a subclass defines a property, but without needing to define a specific method for it.\n",
    "\n",
    "How to Use Abstract Properties:\n",
    "\n",
    "Define an abstract property in an abstract base class using @property and @abstractmethod.\n",
    "The subclass must implement the getter and setter for that property."
   ]
  },
  {
   "cell_type": "markdown",
   "id": "703466b6-9262-4646-b824-6d1aea80f36a",
   "metadata": {},
   "source": [
    "13. Create a Python class hierarchy for employees in a company (e.g., manager, developer, designer) and implement abstraction by defining a common `get_salary()` method."
   ]
  },
  {
   "cell_type": "code",
   "execution_count": 301,
   "id": "b4866a5f-dbb0-435b-bcfe-aefeed55da64",
   "metadata": {},
   "outputs": [
    {
     "name": "stdout",
     "output_type": "stream",
     "text": [
      "Manager Salary: $60000\n",
      "Developer Salary: $66000\n",
      "Designer Salary: $48000\n"
     ]
    }
   ],
   "source": [
    "from abc import ABC, abstractmethod\n",
    "\n",
    "# Abstract Base Class\n",
    "class Employee(ABC):\n",
    "    @abstractmethod\n",
    "    def get_salary(self):\n",
    "        \"\"\"Method to get the salary of an employee.\"\"\"\n",
    "        pass\n",
    "\n",
    "# Concrete Subclass: Manager\n",
    "class Manager(Employee):\n",
    "    def __init__(self, name, base_salary, bonus):\n",
    "        self.name = name\n",
    "        self.base_salary = base_salary\n",
    "        self.bonus = bonus\n",
    "\n",
    "    def get_salary(self):\n",
    "        \"\"\"Calculates the total salary of a manager (base salary + bonus).\"\"\"\n",
    "        return self.base_salary + self.bonus\n",
    "\n",
    "# Concrete Subclass: Developer\n",
    "class Developer(Employee):\n",
    "    def __init__(self, name, base_salary, experience_level):\n",
    "        self.name = name\n",
    "        self.base_salary = base_salary\n",
    "        self.experience_level = experience_level\n",
    "\n",
    "    def get_salary(self):\n",
    "        \"\"\"Calculates the salary of a developer (base salary + experience-based increment).\"\"\"\n",
    "        experience_bonus = 0\n",
    "        if self.experience_level == 'junior':\n",
    "            experience_bonus = 2000\n",
    "        elif self.experience_level == 'mid':\n",
    "            experience_bonus = 4000\n",
    "        elif self.experience_level == 'senior':\n",
    "            experience_bonus = 6000\n",
    "        return self.base_salary + experience_bonus\n",
    "\n",
    "# Concrete Subclass: Designer\n",
    "class Designer(Employee):\n",
    "    def __init__(self, name, base_salary, skillset):\n",
    "        self.name = name\n",
    "        self.base_salary = base_salary\n",
    "        self.skillset = skillset\n",
    "\n",
    "    def get_salary(self):\n",
    "        \"\"\"Calculates the salary of a designer (base salary + skillset bonus).\"\"\"\n",
    "        skillset_bonus = 0\n",
    "        if 'UI/UX' in self.skillset:\n",
    "            skillset_bonus = 3000\n",
    "        elif 'Graphic Design' in self.skillset:\n",
    "            skillset_bonus = 2000\n",
    "        return self.base_salary + skillset_bonus\n",
    "\n",
    "# Example usage:\n",
    "manager = Manager(\"Alice\", 50000, 10000)\n",
    "developer = Developer(\"Bob\", 60000, 'senior')\n",
    "designer = Designer(\"Charlie\", 45000, ['Graphic Design', 'UI/UX'])\n",
    "\n",
    "# Get salaries\n",
    "print(f\"Manager Salary: ${manager.get_salary()}\")  # Output: Manager Salary: $60000\n",
    "print(f\"Developer Salary: ${developer.get_salary()}\")  # Output: Developer Salary: $66000\n",
    "print(f\"Designer Salary: ${designer.get_salary()}\")  # Output: Designer Salary: $47000"
   ]
  },
  {
   "cell_type": "markdown",
   "id": "befbc34e-3735-4898-91d8-6b0fbb3bf3a8",
   "metadata": {},
   "source": [
    "14. Discuss the differences between abstract classes and concrete classes in Python, including their\n",
    "instantiation."
   ]
  },
  {
   "cell_type": "markdown",
   "id": "dac489f3-4073-4834-9f2f-d3edc2c26ce1",
   "metadata": {},
   "source": [
    "An abstract class serves as a blueprint for other classes and cannot be instantiated directly. It typically contains one or more abstract methods that must be implemented by any subclass. In Python, abstract classes are created using the ABC (Abstract Base Class) module.\n",
    "\n",
    "A concrete class, on the other hand, is a fully implemented class that can be instantiated. It provides full functionality and does not require subclasses to implement missing methods.\n",
    "\n",
    "Key Differences:\n",
    "\n",
    "Definition: Abstract classes define a structure for subclasses, while concrete classes provide complete implementations.\n",
    "\n",
    "Instantiation: Abstract classes cannot be instantiated directly, whereas concrete classes can.\n",
    "\n",
    "Abstract Methods: Abstract classes contain at least one method marked with @abstractmethod, which must be implemented in subclasses. Concrete classes implement all required methods.\n",
    "\n",
    "Purpose: Abstract classes ensure a consistent interface across multiple related classes. Concrete classes are used to create real objects with fully defined behavior."
   ]
  },
  {
   "cell_type": "markdown",
   "id": "1624dd12-f5ff-4bb4-972d-ec7feb0e7715",
   "metadata": {},
   "source": [
    "15. Explain the concept of abstract data types (ADTs) and their role in achieving abstraction in Python."
   ]
  },
  {
   "cell_type": "markdown",
   "id": "f31141a7-c7b3-4a84-93a3-9ed8471f4538",
   "metadata": {},
   "source": [
    "An Abstract Data Type (ADT) is a theoretical model for data structures that defines the operations that can be performed on the data without specifying how those operations are implemented. ADTs focus on what operations are allowed rather than how they are implemented.\n",
    "\n",
    "ADTs promote abstraction by separating the interface (what operations are available) from the implementation (how these operations are performed). This allows flexibility in modifying the internal structure without affecting external code.\n",
    "\n",
    "\n",
    "Role of ADTs in Achieving Abstraction in Python\n",
    "\n",
    "Hides Implementation Details → Users interact with the ADT through predefined methods instead of directly modifying the data.\n",
    "\n",
    "Improves Code Modularity → ADTs define a clear structure, making it easier to swap implementations (e.g., replacing a list-based stack with a linked list-based stack).\n",
    "\n",
    "Enhances Code Maintainability → Since implementation details are abstracted, updates to the underlying data structure do not affect the external code.\n",
    "\n",
    "Encourages Reusability → ADTs can be reused across different programs without modifying their internal workings."
   ]
  },
  {
   "cell_type": "markdown",
   "id": "ebf10ad9-ed86-44ba-a999-b003c714e6d6",
   "metadata": {},
   "source": [
    "16. Create a Python class for a computer system, demonstrating abstraction by defining common methods (e.g., `power_on()`, `shutdown()`) in an abstract base class."
   ]
  },
  {
   "cell_type": "code",
   "execution_count": 308,
   "id": "c1ce1abc-8272-40ba-ab89-8cb8bd0b76bc",
   "metadata": {},
   "outputs": [
    {
     "name": "stdout",
     "output_type": "stream",
     "text": [
      "Laptop is powering on... Battery check in progress.\n",
      "Laptop is restarting...\n",
      "Laptop is shutting down... Saving open files.\n",
      "----------------------------------------\n",
      "Desktop is powering on... Checking power supply.\n",
      "Desktop is restarting...\n",
      "Desktop is shutting down...\n",
      "----------------------------------------\n",
      "Server is booting up... Initializing network services.\n",
      "Server is restarting... Ensuring minimal downtime.\n",
      "Server is shutting down... Stopping all services safely.\n",
      "----------------------------------------\n"
     ]
    }
   ],
   "source": [
    "from abc import ABC, abstractmethod\n",
    "\n",
    "# Abstract Base Class\n",
    "class Computer(ABC):\n",
    "    @abstractmethod\n",
    "    def power_on(self):\n",
    "        \"\"\"Abstract method to turn on the computer.\"\"\"\n",
    "        pass\n",
    "\n",
    "    @abstractmethod\n",
    "    def shutdown(self):\n",
    "        \"\"\"Abstract method to shut down the computer.\"\"\"\n",
    "        pass\n",
    "\n",
    "    @abstractmethod\n",
    "    def restart(self):\n",
    "        \"\"\"Abstract method to restart the computer.\"\"\"\n",
    "        pass\n",
    "\n",
    "# Subclass for Laptop\n",
    "class Laptop(Computer):\n",
    "    def power_on(self):\n",
    "        print(\"Laptop is powering on... Battery check in progress.\")\n",
    "\n",
    "    def shutdown(self):\n",
    "        print(\"Laptop is shutting down... Saving open files.\")\n",
    "\n",
    "    def restart(self):\n",
    "        print(\"Laptop is restarting...\")\n",
    "\n",
    "# Subclass for Desktop\n",
    "class Desktop(Computer):\n",
    "    def power_on(self):\n",
    "        print(\"Desktop is powering on... Checking power supply.\")\n",
    "\n",
    "    def shutdown(self):\n",
    "        print(\"Desktop is shutting down...\")\n",
    "\n",
    "    def restart(self):\n",
    "        print(\"Desktop is restarting...\")\n",
    "\n",
    "# Subclass for Server\n",
    "class Server(Computer):\n",
    "    def power_on(self):\n",
    "        print(\"Server is booting up... Initializing network services.\")\n",
    "\n",
    "    def shutdown(self):\n",
    "        print(\"Server is shutting down... Stopping all services safely.\")\n",
    "\n",
    "    def restart(self):\n",
    "        print(\"Server is restarting... Ensuring minimal downtime.\")\n",
    "\n",
    "# Example Usage\n",
    "devices = [Laptop(), Desktop(), Server()]\n",
    "\n",
    "for device in devices:\n",
    "    device.power_on()\n",
    "    device.restart()\n",
    "    device.shutdown()\n",
    "    print(\"-\" * 40)"
   ]
  },
  {
   "cell_type": "markdown",
   "id": "ae17c7da-e96b-4e15-8593-46797ba8d496",
   "metadata": {},
   "source": [
    "17. Discuss the benefits of using abstraction in large-scale software development projects."
   ]
  },
  {
   "cell_type": "markdown",
   "id": "c935ed5e-e40e-49d9-9eb9-91b47eccddf9",
   "metadata": {},
   "source": [
    "Abstraction is a fundamental concept in object-oriented programming (OOP) that helps manage complexity in large-scale software projects. It provides a high-level interface while hiding unnecessary details. Here’s how it benefits large-scale development:\n",
    "\n",
    "1. Improves Code Maintainability\n",
    "\n",
    "Encapsulates complexity: Developers work with simple interfaces rather than dealing with intricate internal logic.\n",
    "\n",
    "Easier updates: Changes to internal implementation do not affect other parts of the system.\n",
    "\n",
    "💡 Example: In a banking system, an abstract class BankAccount defines deposit() and withdraw(), while subclasses like SavingsAccount and CheckingAccount handle specific logic.\n",
    "\n",
    "2. Enhances Code Reusability\n",
    "\n",
    "Abstract classes provide a common blueprint for multiple components.\n",
    "\n",
    "Reduces redundant code by allowing different implementations to inherit shared behaviors.\n",
    "\n",
    "💡 Example: In a game development framework, an abstract GameCharacter class defines attack() and move(), while different character types (Warrior, Mage, Archer) reuse these methods with modifications.\n",
    "\n",
    "3. Supports Scalable and Modular Development\n",
    "\n",
    "Divides software into independent modules, making it easier to extend.\n",
    "\n",
    "Large teams can work on different modules without conflicts.\n",
    "\n",
    "💡 Example: In an e-commerce platform, different modules handle:\n",
    "\n",
    "Payments (abstract PaymentProcessor with process_payment())\n",
    "Inventory (abstract Product class with get_price())\n",
    "Users (abstract User class for Customer, Admin roles)\n",
    "\n",
    "4. Enhances Security and Data Protection\n",
    "\n",
    "Prevents direct access to sensitive data by exposing only necessary information.\n",
    "\n",
    "Abstract methods enforce proper data access rules.\n",
    "\n",
    "💡 Example: In a healthcare system, an abstract class PatientRecord restricts access to personal details, allowing only authorized roles (e.g., Doctor, Nurse) to view them.\n",
    "\n",
    "5. Encourages Consistency Across Development Teams\n",
    "\n",
    "Defines standardized interfaces for teams to follow.\n",
    "\n",
    "Reduces miscommunication and ensures different modules integrate smoothly.\n",
    "\n",
    "💡 Example: In API development, abstract base classes define:\n",
    "\n",
    "DatabaseService (for MySQLService, MongoDBService)\n",
    "NotificationService (for EmailService, SMSService)\n",
    "LoggingService (for FileLogger, CloudLogger)"
   ]
  },
  {
   "cell_type": "markdown",
   "id": "d14c23de-aca6-4f17-9c86-16d81a7c92cd",
   "metadata": {},
   "source": [
    "18. Explain how abstraction enhances code reusability and modularity in Python programs."
   ]
  },
  {
   "cell_type": "markdown",
   "id": "a3ddf091-fb3a-4fd5-949b-3a6ca887da88",
   "metadata": {},
   "source": [
    "Abstraction in Python enhances code reusability and modularity by defining a blueprint for derived classes, ensuring a structured approach to software development. It prevents code duplication by allowing multiple classes to inherit and implement common functionality from an abstract class. This reduces redundancy and makes the codebase more maintainable.\n",
    "\n",
    "Abstraction promotes modularity by separating high-level functionality from implementation details. It enables developers to work with simplified interfaces while hiding the underlying complexity. This makes it easier to modify, extend, or replace components without affecting other parts of the system.\n",
    "\n",
    "By enforcing a common structure, abstraction ensures consistency across different modules in large-scale projects. This improves collaboration among developers and makes debugging and code maintenance more efficient. It also enhances scalability by allowing new functionalities to be added with minimal changes to existing code.\n",
    "\n",
    "Overall, abstraction simplifies software development, improves maintainability, and supports the development of flexible and reusable components, making it an essential principle in object-oriented programming."
   ]
  },
  {
   "cell_type": "markdown",
   "id": "45ce0e99-7a3e-425c-a0ec-474b2b7939e0",
   "metadata": {},
   "source": [
    "19. Create a Python class for a library system, implementing abstraction by defining common methods (e.g., `add_book()`, `borrow_book()`) in an abstract base class."
   ]
  },
  {
   "cell_type": "code",
   "execution_count": 315,
   "id": "050cb5c9-1ece-4f8b-88de-9a99abb8ef5e",
   "metadata": {},
   "outputs": [
    {
     "name": "stdout",
     "output_type": "stream",
     "text": [
      "Book \"1984\" by George Orwell added to the library.\n",
      "You have borrowed \"1984\".\n",
      "You have returned \"1984\".\n"
     ]
    }
   ],
   "source": [
    "from abc import ABC, abstractmethod\n",
    "\n",
    "class LibrarySystem(ABC):\n",
    "    @abstractmethod\n",
    "    def add_book(self, title, author):\n",
    "        pass\n",
    "\n",
    "    @abstractmethod\n",
    "    def borrow_book(self, title):\n",
    "        pass\n",
    "\n",
    "    @abstractmethod\n",
    "    def return_book(self, title):\n",
    "        pass\n",
    "\n",
    "class Library(LibrarySystem):\n",
    "    def __init__(self):\n",
    "        self.books = {}\n",
    "\n",
    "    def add_book(self, title, author):\n",
    "        self.books[title] = {'author': author, 'available': True}\n",
    "        print(f'Book \"{title}\" by {author} added to the library.')\n",
    "\n",
    "    def borrow_book(self, title):\n",
    "        if title in self.books and self.books[title]['available']:\n",
    "            self.books[title]['available'] = False\n",
    "            print(f'You have borrowed \"{title}\".')\n",
    "        else:\n",
    "            print(f'Sorry, \"{title}\" is not available.')\n",
    "\n",
    "    def return_book(self, title):\n",
    "        if title in self.books and not self.books[title]['available']:\n",
    "            self.books[title]['available'] = True\n",
    "            print(f'You have returned \"{title}\".')\n",
    "        else:\n",
    "            print(f'\"{title}\" is not recognized or already available.')\n",
    "\n",
    "# Example Usage\n",
    "library = Library()\n",
    "library.add_book(\"1984\", \"George Orwell\")\n",
    "library.borrow_book(\"1984\")\n",
    "library.return_book(\"1984\")"
   ]
  },
  {
   "cell_type": "markdown",
   "id": "94cc3619-57f4-49f5-8bf0-42c4a9214ce1",
   "metadata": {},
   "source": [
    "20. Describe the concept of method abstraction in Python and how it relates to polymorphism."
   ]
  },
  {
   "cell_type": "markdown",
   "id": "9d20d0ee-48ee-4f4e-bb67-2ec152d90cde",
   "metadata": {},
   "source": [
    "Method abstraction in Python refers to defining a method's signature in an abstract class without implementing its details. This concept ensures that subclasses provide their specific implementations of the method, enforcing a contract for derived classes. It is achieved using abstract methods within abstract base classes (ABCs) defined using the abc module.\n",
    "\n",
    "Method abstraction relates to polymorphism because it allows different subclasses to implement the same method in different ways while maintaining a consistent interface. This enables dynamic method invocation at runtime, where the method behavior depends on the subclass instance rather than the reference type.\n",
    "\n",
    "For example, an abstract method calculate_area() in a Shape class ensures that each subclass (e.g., Circle, Rectangle) provides its own implementation, supporting polymorphism by allowing different shapes to be processed uniformly in the code."
   ]
  },
  {
   "cell_type": "markdown",
   "id": "5fe6d729-4f85-4a74-9f69-40d491569ac5",
   "metadata": {},
   "source": [
    "# Composition:"
   ]
  },
  {
   "cell_type": "markdown",
   "id": "2e3ecfce-16f9-48fc-a5ed-d753eefe3384",
   "metadata": {},
   "source": [
    "1. Explain the concept of composition in Python and how it is used to build complex objects from simpler ones."
   ]
  },
  {
   "cell_type": "markdown",
   "id": "6a4c031c-a1c3-42c2-8cfd-44c0f14f4a35",
   "metadata": {},
   "source": [
    "Composition is a fundamental concept in object-oriented programming (OOP) that allows complex objects to be built from simpler ones by including instances of one class inside another. It represents a \"has-a\" relationship, meaning one object is composed of other objects as its components.\n",
    "\n",
    "How It Works\n",
    "\n",
    "Instead of inheriting from a base class, a class contains one or more instances of other classes as attributes. This promotes code reuse, modularity, and better organization."
   ]
  },
  {
   "cell_type": "markdown",
   "id": "293935e1-7b84-4ce7-b5e9-cfa109f57101",
   "metadata": {},
   "source": [
    "2. Describe the difference between composition and inheritance in object-oriented programming."
   ]
  },
  {
   "cell_type": "markdown",
   "id": "99d58573-3e99-47c4-a00a-f189d354733b",
   "metadata": {},
   "source": [
    "Both composition and inheritance are core concepts in object-oriented programming (OOP) that allow classes to interact and share behaviors, but they do so in different ways. Here's a breakdown of the key differences:\n",
    "\n",
    "1. Definition\n",
    "Inheritance:\n",
    "Inheritance models an \"is-a\" relationship. It allows one class (the subclass) to inherit properties and methods from another class (the superclass). The subclass can override or extend the behavior of the superclass.\n",
    "\n",
    "Example:\n",
    "A Dog is a Mammal. So, Dog can inherit from Mammal.\n",
    "\n",
    "Composition:\n",
    "Composition models a \"has-a\" relationship. It allows one class to contain instances of other classes as attributes. Composition is about building more complex objects from simpler, independent objects.\n",
    "\n",
    "Example:\n",
    "A Car has a Engine. So, Car contains an instance of Engine but is not a type of Engine.\n",
    "\n",
    "2. Relationship Between Classes\n",
    "\n",
    "Inheritance (Is-A Relationship):\n",
    "\n",
    "A subclass inherits from a superclass, meaning the subclass is a specialized version of the superclass.\n",
    "The subclass is tightly coupled with the superclass and inherits both its properties and methods.\n",
    "\n",
    "Composition (Has-A Relationship):\n",
    "\n",
    "A class contains instances of other classes as its attributes.\n",
    "The classes involved in composition are loosely coupled.\n",
    "Composition promotes modular design and allows flexible object assembly.\n",
    "\n",
    "3. Reusability and Flexibility\n",
    "\n",
    "Inheritance:\n",
    "\n",
    "Limited Reusability: Inheritance can be rigid because a subclass is tightly bound to the superclass. Changes in the superclass can propagate to subclasses, potentially causing issues.\n",
    "\n",
    "Less Flexibility: The subclass is inherently dependent on the structure of the superclass. It can be difficult to change or extend behavior without modifying the superclass.\n",
    "\n",
    "Composition:\n",
    "\n",
    "High Reusability: Classes that are composed of other classes can be easily reused in different contexts, making the design more flexible and maintainable.\n",
    "\n",
    "More Flexibility: You can dynamically swap components (e.g., changing an Engine in a Car), leading to better flexibility in behavior and structure.\n",
    "\n",
    "4. Code Maintenance and Modularity\n",
    "\n",
    "Inheritance:\n",
    "\n",
    "Tighter Coupling: Since the subclass inherits from the superclass, it is tightly coupled, meaning changes in the superclass may lead to breaking changes in subclasses.\n",
    "\n",
    "Inheritance Hierarchy: As the inheritance tree deepens, it can become harder to maintain and understand the relationships between classes.\n",
    "\n",
    "Composition:\n",
    "\n",
    "Looser Coupling: Composition allows classes to work independently, and changes to one component do not directly affect other components.\n",
    "\n",
    "Better Modularity: Components can be reused independently, and you can modify or replace them without affecting other parts of the program.\n",
    "\n"
   ]
  },
  {
   "cell_type": "code",
   "execution_count": 328,
   "id": "d9c6fa7c-2dd0-4e56-a356-f7ce20afdd3f",
   "metadata": {},
   "outputs": [
    {
     "name": "stdout",
     "output_type": "stream",
     "text": [
      "Engine started\n",
      "Engine started\n"
     ]
    }
   ],
   "source": [
    "# Example Comparison\n",
    "#Let's compare both with a Car example:\n",
    "class Engine:\n",
    "    def start(self):\n",
    "        return \"Engine started\"\n",
    "\n",
    "class Car(Engine):  # Car is a type of Engine\n",
    "    def __init__(self):\n",
    "        pass\n",
    "\n",
    "car = Car()\n",
    "print(car.start())  # Car can start because it inherits from Engine\n",
    "#Using Composition:\n",
    "class Engine:\n",
    "    def start(self):\n",
    "        return \"Engine started\"\n",
    "\n",
    "class Car:\n",
    "    def __init__(self):\n",
    "        self.engine = Engine()  # Car \"has\" an engine\n",
    "\n",
    "    def start_car(self):\n",
    "        return self.engine.start()  # Car starts by using its engine\n",
    "\n",
    "car = Car()\n",
    "print(car.start_car())"
   ]
  },
  {
   "cell_type": "markdown",
   "id": "b51c7799-7b9d-4eec-8eeb-a22f8c366eea",
   "metadata": {},
   "source": [
    "3. Create a Python class called `Author` with attributes for name and birthdate. Then, create a `Book` class\n",
    "that contains an instance of `Author` as a composition. Provide an example of creating a `Book` object."
   ]
  },
  {
   "cell_type": "code",
   "execution_count": 331,
   "id": "b6e9d63b-2b0d-4ec6-9b29-0dca7cc1c3c9",
   "metadata": {},
   "outputs": [
    {
     "name": "stdout",
     "output_type": "stream",
     "text": [
      "Book Title: The Great Adventure\n",
      "Author: John Doe, born on 1980-05-15\n"
     ]
    }
   ],
   "source": [
    "#Author Class\n",
    "class Author:\n",
    "    def __init__(self, name, birthdate):\n",
    "        self.name = name\n",
    "        self.birthdate = birthdate\n",
    "\n",
    "    def __str__(self):\n",
    "        return f\"{self.name}, born on {self.birthdate}\"\n",
    "#Book Class (Containing Author Instance)\n",
    "class Book:\n",
    "    def __init__(self, title, author_name, author_birthdate):\n",
    "        self.title = title\n",
    "        self.author = Author(author_name, author_birthdate)  # Composition: Book has an Author\n",
    "\n",
    "    def display_info(self):\n",
    "        return f\"Book Title: {self.title}\\nAuthor: {self.author}\"\n",
    "\n",
    "# Example of creating a Book object\n",
    "book = Book(\"The Great Adventure\", \"John Doe\", \"1980-05-15\")\n",
    "print(book.display_info())"
   ]
  },
  {
   "cell_type": "markdown",
   "id": "9d7ac702-b612-43ff-ab4a-5ad91966db89",
   "metadata": {},
   "source": [
    "4. Discuss the benefits of using composition over inheritance in Python, especially in terms of code flexibility\n",
    "and reusability."
   ]
  },
  {
   "cell_type": "markdown",
   "id": "9dda6e34-5eea-4e94-a968-989a1a5a37ad",
   "metadata": {},
   "source": [
    "1. Code Flexibility\n",
    "\n",
    "Loose Coupling: Composition promotes loose coupling between components. The composed classes do not depend on the inheritance hierarchy, allowing for greater flexibility in how classes are structured and modified.\n",
    "\n",
    "Inheritance leads to a tight coupling because subclasses are tightly bound to the base class, making changes in the base class affect all derived classes. In contrast, with composition, changes to one component do not directly impact other components as long as their interfaces remain consistent.\n",
    "\n",
    "Dynamic Behavior: In composition, you can dynamically swap or replace components at runtime. For example, if a class is composed of several components, you can replace one component without affecting the rest of the class.\n",
    "\n",
    "With inheritance, modifying the base class might require updating multiple subclasses, which reduces flexibility.\n",
    "\n",
    "2. Reusability of Code\n",
    "\n",
    "Component Reusability: Composition allows for greater reusability of components. A class can include instances of other classes, which are themselves reusable across different contexts.\n",
    "\n",
    "When a class is inherited from another, the subclass inherits all properties and behaviors of the superclass. This makes the subclass less modular and more dependent on the specific behavior of the superclass. Composition, however, lets you reuse smaller, self-contained components that can be combined in various ways to build more complex systems.\n",
    "\n",
    "Independent Components: Each component in composition is typically designed to do one thing well, making it easier to reuse in different projects or contexts. For example, a Wheel component can be used in a Car, a Bike, or any other vehicle without being tightly bound to any specific vehicle type.\n",
    "\n"
   ]
  },
  {
   "cell_type": "code",
   "execution_count": 337,
   "id": "c7aef46f-5358-4c86-ab09-dd1cb863b165",
   "metadata": {},
   "outputs": [
    {
     "name": "stdout",
     "output_type": "stream",
     "text": [
      "Engine started\n",
      "Electric engine started\n"
     ]
    }
   ],
   "source": [
    "#Example:\n",
    "#A Car class composed of different engine types can easily swap engines by replacing the Engine object:\n",
    "class Car:\n",
    "    def __init__(self, engine):\n",
    "        self.engine = engine\n",
    "\n",
    "    def drive(self):\n",
    "        print(self.engine.start())\n",
    "\n",
    "class Engine:\n",
    "    def start(self):\n",
    "        return \"Engine started\"\n",
    "\n",
    "class ElectricEngine(Engine):\n",
    "    def start(self):\n",
    "        return \"Electric engine started\"\n",
    "\n",
    "# Swapping engines dynamically\n",
    "car = Car(Engine())\n",
    "car.drive()  # Standard engine\n",
    "car.engine = ElectricEngine()  # Swapped to electric engine\n",
    "car.drive()  # Electric engine"
   ]
  },
  {
   "cell_type": "code",
   "execution_count": 339,
   "id": "46ac8531-f536-4d40-b8f0-b245d0f769f4",
   "metadata": {},
   "outputs": [],
   "source": [
    "#Example:\n",
    "class Engine:\n",
    "    def start(self):\n",
    "        return \"Engine started\"\n",
    "\n",
    "class Car:\n",
    "    def __init__(self, engine):\n",
    "        self.engine = engine  # Reusing the Engine class\n",
    "\n",
    "class Boat:\n",
    "    def __init__(self, engine):\n",
    "        self.engine = engine  # Reusing the same Engine class\n",
    "\n",
    "# The same Engine class is used in both Car and Boat\n",
    "engine = Engine()\n",
    "car = Car(engine)\n",
    "boat = Boat(engine)\n"
   ]
  },
  {
   "cell_type": "markdown",
   "id": "632431d5-edce-4008-b7d9-f7a56d9d7b74",
   "metadata": {},
   "source": [
    "5. How can you implement composition in Python classes? Provide examples of using composition to create\n",
    "complex objects."
   ]
  },
  {
   "cell_type": "markdown",
   "id": "96631e54-5c90-434e-ab9a-d1740c3323e5",
   "metadata": {},
   "source": [
    "Composition in Python involves creating complex objects by including instances of other classes as attributes. This allows the complex object to \"have-a\" relationship with other objects, where the objects are independent but work together to create a more functional and modular design.\n",
    "\n"
   ]
  },
  {
   "cell_type": "code",
   "execution_count": 343,
   "id": "c495f3cc-5fc2-48e5-ba58-ef2359aaf998",
   "metadata": {},
   "outputs": [
    {
     "name": "stdout",
     "output_type": "stream",
     "text": [
      "House at 1234 Elm Street contains:\n",
      "Living Room contains: Chair (Seating), Table (Surface), Lamp (Lighting)\n",
      "Bedroom contains: Bed (Sleeping), Wardrobe (Storage)\n"
     ]
    }
   ],
   "source": [
    "# example\n",
    "#Example: House with Rooms and Furnishings\n",
    "#Furnishing Class: Represents a furnishing in a room, like a chair, table, or lamp.\n",
    "#Room Class: Represents a room in the house, like a living room, bedroom, or kitchen. Each room has several furnishings.\n",
    "#House Class: Represents a house made up of multiple rooms, and each room has various furnishings.\n",
    "#Step-by-Step Implementation:\n",
    "\n",
    "# Furnishing Class (Component)\n",
    "class Furnishing:\n",
    "    def __init__(self, name, type_of_furnishing):\n",
    "        self.name = name\n",
    "        self.type = type_of_furnishing\n",
    "    \n",
    "    def describe(self):\n",
    "        return f\"{self.name} ({self.type})\"\n",
    "\n",
    "# Room Class (Composed of Furnishings)\n",
    "class Room:\n",
    "    def __init__(self, name):\n",
    "        self.name = name  # Room's name (Living Room, Bedroom, etc.)\n",
    "        self.furnishings = []  # A list to hold furnishings\n",
    "    \n",
    "    def add_furnishing(self, furnishing):\n",
    "        self.furnishings.append(furnishing)  # Add a Furnishing to the Room\n",
    "    \n",
    "    def describe(self):\n",
    "        furnishings_description = [furnishing.describe() for furnishing in self.furnishings]\n",
    "        return f\"{self.name} contains: \" + \", \".join(furnishings_description)\n",
    "\n",
    "# House Class (Composed of Rooms)\n",
    "class House:\n",
    "    def __init__(self, address):\n",
    "        self.address = address  # Address of the house\n",
    "        self.rooms = []  # A list to hold Rooms\n",
    "    \n",
    "    def add_room(self, room):\n",
    "        self.rooms.append(room)  # Add a Room to the House\n",
    "    \n",
    "    def describe(self):\n",
    "        rooms_description = [room.describe() for room in self.rooms]\n",
    "        return f\"House at {self.address} contains:\\n\" + \"\\n\".join(rooms_description)\n",
    "\n",
    "# Create Furnishings\n",
    "chair = Furnishing(\"Chair\", \"Seating\")\n",
    "table = Furnishing(\"Table\", \"Surface\")\n",
    "lamp = Furnishing(\"Lamp\", \"Lighting\")\n",
    "bed = Furnishing(\"Bed\", \"Sleeping\")\n",
    "wardrobe = Furnishing(\"Wardrobe\", \"Storage\")\n",
    "\n",
    "# Create Rooms and Add Furnishings\n",
    "living_room = Room(\"Living Room\")\n",
    "living_room.add_furnishing(chair)\n",
    "living_room.add_furnishing(table)\n",
    "living_room.add_furnishing(lamp)\n",
    "\n",
    "bedroom = Room(\"Bedroom\")\n",
    "bedroom.add_furnishing(bed)\n",
    "bedroom.add_furnishing(wardrobe)\n",
    "\n",
    "# Create a House and Add Rooms\n",
    "my_house = House(\"1234 Elm Street\")\n",
    "my_house.add_room(living_room)\n",
    "my_house.add_room(bedroom)\n",
    "\n",
    "# Describe the House (Complex Object)\n",
    "print(my_house.describe())"
   ]
  },
  {
   "cell_type": "markdown",
   "id": "c66cd1ce-ab87-4da1-8d02-f55cb65e07ae",
   "metadata": {},
   "source": [
    "6. Create a Python class hierarchy for a music player system, using composition to represent playlists and\n",
    "songs."
   ]
  },
  {
   "cell_type": "code",
   "execution_count": 346,
   "id": "04132105-2919-40f5-a5cf-28a269cbe6ed",
   "metadata": {},
   "outputs": [
    {
     "name": "stdout",
     "output_type": "stream",
     "text": [
      "Now playing: Song 1 by Artist 1 (3 min)\n",
      "Now playing: Song 2 by Artist 2 (4 min)\n",
      "Now playing: Song 3 by Artist 3 (5 min)\n"
     ]
    }
   ],
   "source": [
    "class Song:\n",
    "    def __init__(self, title, artist, duration):\n",
    "        self.title = title\n",
    "        self.artist = artist\n",
    "        self.duration = duration\n",
    "    \n",
    "    def __str__(self):\n",
    "        return f\"{self.title} by {self.artist} ({self.duration} min)\"\n",
    "\n",
    "class Playlist:\n",
    "    def __init__(self, name):\n",
    "        self.name = name\n",
    "        self.songs = []\n",
    "\n",
    "    def add_song(self, song):\n",
    "        self.songs.append(song)\n",
    "    \n",
    "    def remove_song(self, song):\n",
    "        if song in self.songs:\n",
    "            self.songs.remove(song)\n",
    "    \n",
    "    def get_songs(self):\n",
    "        return self.songs\n",
    "    \n",
    "    def __str__(self):\n",
    "        return f\"Playlist: {self.name} ({len(self.songs)} songs)\"\n",
    "\n",
    "class MusicPlayer:\n",
    "    def __init__(self, name):\n",
    "        self.name = name\n",
    "        self.playlist = None\n",
    "    \n",
    "    def load_playlist(self, playlist):\n",
    "        self.playlist = playlist\n",
    "    \n",
    "    def play_song(self, song):\n",
    "        print(f\"Now playing: {song}\")\n",
    "    \n",
    "    def play_playlist(self):\n",
    "        if not self.playlist or not self.playlist.get_songs():\n",
    "            print(\"No playlist loaded or playlist is empty!\")\n",
    "        else:\n",
    "            for song in self.playlist.get_songs():\n",
    "                self.play_song(song)\n",
    "    \n",
    "    def __str__(self):\n",
    "        return f\"Music Player: {self.name}\"\n",
    "\n",
    "# Example usage\n",
    "song1 = Song(\"Song 1\", \"Artist 1\", 3)\n",
    "song2 = Song(\"Song 2\", \"Artist 2\", 4)\n",
    "song3 = Song(\"Song 3\", \"Artist 3\", 5)\n",
    "\n",
    "playlist = Playlist(\"My Playlist\")\n",
    "playlist.add_song(song1)\n",
    "playlist.add_song(song2)\n",
    "playlist.add_song(song3)\n",
    "\n",
    "player = MusicPlayer(\"Cool Music Player\")\n",
    "player.load_playlist(playlist)\n",
    "\n",
    "# Play the playlist\n",
    "player.play_playlist()"
   ]
  },
  {
   "cell_type": "markdown",
   "id": "aa42c248-970a-4a5a-9e23-6491534e236a",
   "metadata": {},
   "source": [
    "7. Explain the concept of \"has-a\" relationships in composition and how it helps design software systems."
   ]
  },
  {
   "cell_type": "markdown",
   "id": "dc544cec-8744-4612-8631-54f1547528c7",
   "metadata": {},
   "source": [
    "In object-oriented programming (OOP), a \"has-a\" relationship is a fundamental concept in composition, where one class contains an instance of another class as a field (or attribute). This allows objects to be composed of multiple smaller objects, promoting modularity, reusability, and better separation of concerns.\n",
    "\n",
    "How \"Has-A\" Works in Composition\n",
    "\n",
    "Instead of using inheritance (where a class \"is-a\" type of another class), composition allows a class to \"have\" another class as a part of it.\n",
    "This means an object of one class contains references to objects of another class.\n",
    "The composed objects provide functionality to the parent object without needing inheritance."
   ]
  },
  {
   "cell_type": "markdown",
   "id": "5d5b1391-0a5f-4106-ac81-35038b79c15b",
   "metadata": {},
   "source": [
    "8. Create a Python class for a computer system, using composition to represent components like CPU, RAM,\n",
    "and storage devices."
   ]
  },
  {
   "cell_type": "code",
   "execution_count": 351,
   "id": "36010756-5312-447c-b4eb-a498a472980e",
   "metadata": {},
   "outputs": [
    {
     "name": "stdout",
     "output_type": "stream",
     "text": [
      "Computer Configuration:\n",
      "Intel CPU - 8 Cores @ 3.5 GHz\n",
      "16GB DDR4 RAM\n",
      "1TB SSD\n"
     ]
    }
   ],
   "source": [
    "class CPU:\n",
    "    def __init__(self, brand, cores, clock_speed):\n",
    "        self.brand = brand\n",
    "        self.cores = cores\n",
    "        self.clock_speed = clock_speed  # in GHz\n",
    "\n",
    "    def __str__(self):\n",
    "        return f\"{self.brand} CPU - {self.cores} Cores @ {self.clock_speed} GHz\"\n",
    "\n",
    "class RAM:\n",
    "    def __init__(self, size, type):\n",
    "        self.size = size  # in GB\n",
    "        self.type = type  # e.g., DDR4, DDR5\n",
    "\n",
    "    def __str__(self):\n",
    "        return f\"{self.size}GB {self.type} RAM\"\n",
    "\n",
    "class Storage:\n",
    "    def __init__(self, size, type):\n",
    "        self.size = size  # in GB or TB\n",
    "        self.type = type  # e.g., HDD, SSD\n",
    "\n",
    "    def __str__(self):\n",
    "        return f\"{self.size} {self.type}\"\n",
    "\n",
    "class Computer:\n",
    "    def __init__(self, cpu, ram, storage):\n",
    "        self.cpu = cpu  # Has-a CPU\n",
    "        self.ram = ram  # Has-a RAM\n",
    "        self.storage = storage  # Has-a Storage\n",
    "\n",
    "    def __str__(self):\n",
    "        return f\"Computer Configuration:\\n{self.cpu}\\n{self.ram}\\n{self.storage}\"\n",
    "\n",
    "# Example usage:\n",
    "cpu = CPU(\"Intel\", 8, 3.5)\n",
    "ram = RAM(16, \"DDR4\")\n",
    "storage = Storage(\"1TB\", \"SSD\")\n",
    "\n",
    "computer = Computer(cpu, ram, storage)\n",
    "print(computer)"
   ]
  },
  {
   "cell_type": "markdown",
   "id": "f9607d7e-0801-43c0-b169-9bcf10d6af0e",
   "metadata": {},
   "source": [
    "9. Describe the concept of \"delegation\" in composition and how it simplifies the design of complex systems."
   ]
  },
  {
   "cell_type": "markdown",
   "id": "082a2cbb-6e26-4a10-a835-aa8964c5fe04",
   "metadata": {},
   "source": [
    "Delegation is a design pattern used in composition, where a class delegates a specific task to another class rather than handling it itself. Instead of duplicating code, a class \"delegates\" responsibilities to its composed objects, promoting modularity and maintainability.\n",
    "\n",
    "How Delegation Works in Composition\n",
    "\n",
    "Instead of a class performing all tasks, it delegates some functionality to an internal object (composition).\n",
    "\n",
    "This avoids unnecessary inheritance and reduces complexity.\n",
    "\n",
    "It follows the Single Responsibility Principle (SRP), keeping each class focused on a single purpose."
   ]
  },
  {
   "cell_type": "markdown",
   "id": "99c45cd6-bac8-45c4-9aad-41da515d38a9",
   "metadata": {},
   "source": [
    "10. Create a Python class for a car, using composition to represent components like the engine, wheels, and\n",
    "transmission."
   ]
  },
  {
   "cell_type": "code",
   "execution_count": 356,
   "id": "fa2d83c6-c7f3-4b11-9294-95111cdd391b",
   "metadata": {},
   "outputs": [
    {
     "name": "stdout",
     "output_type": "stream",
     "text": [
      "Car: Toyota Supra\n",
      "250 HP Petrol Engine\n",
      "18-inch Alloy Wheels\n",
      "Automatic Transmission with 6 gears\n",
      "Engine started.\n",
      "Wheels are moving.\n",
      "Shifted to gear 3.\n",
      "Engine stopped.\n"
     ]
    }
   ],
   "source": [
    "class Engine:\n",
    "    def __init__(self, horsepower, fuel_type):\n",
    "        self.horsepower = horsepower\n",
    "        self.fuel_type = fuel_type  # e.g., Petrol, Diesel, Electric\n",
    "\n",
    "    def start(self):\n",
    "        return \"Engine started.\"\n",
    "\n",
    "    def stop(self):\n",
    "        return \"Engine stopped.\"\n",
    "\n",
    "    def __str__(self):\n",
    "        return f\"{self.horsepower} HP {self.fuel_type} Engine\"\n",
    "\n",
    "class Wheel:\n",
    "    def __init__(self, size, type):\n",
    "        self.size = size  # in inches\n",
    "        self.type = type  # e.g., Alloy, Steel\n",
    "\n",
    "    def rotate(self):\n",
    "        return \"Wheels are moving.\"\n",
    "\n",
    "    def __str__(self):\n",
    "        return f\"{self.size}-inch {self.type} Wheels\"\n",
    "\n",
    "class Transmission:\n",
    "    def __init__(self, type, gears):\n",
    "        self.type = type  # e.g., Automatic, Manual\n",
    "        self.gears = gears\n",
    "\n",
    "    def shift_gear(self, gear):\n",
    "        return f\"Shifted to gear {gear}.\"\n",
    "\n",
    "    def __str__(self):\n",
    "        return f\"{self.type} Transmission with {self.gears} gears\"\n",
    "\n",
    "class Car:\n",
    "    def __init__(self, brand, model, engine, wheels, transmission):\n",
    "        self.brand = brand\n",
    "        self.model = model\n",
    "        self.engine = engine  # Has-a Engine\n",
    "        self.wheels = wheels  # Has-a set of Wheels\n",
    "        self.transmission = transmission  # Has-a Transmission\n",
    "\n",
    "    def start_car(self):\n",
    "        print(self.engine.start())\n",
    "        print(self.wheels.rotate())\n",
    "\n",
    "    def stop_car(self):\n",
    "        print(self.engine.stop())\n",
    "\n",
    "    def shift_gear(self, gear):\n",
    "        print(self.transmission.shift_gear(gear))\n",
    "\n",
    "    def __str__(self):\n",
    "        return f\"Car: {self.brand} {self.model}\\n{self.engine}\\n{self.wheels}\\n{self.transmission}\"\n",
    "\n",
    "# Example Usage\n",
    "engine = Engine(250, \"Petrol\")\n",
    "wheels = Wheel(18, \"Alloy\")\n",
    "transmission = Transmission(\"Automatic\", 6)\n",
    "\n",
    "car = Car(\"Toyota\", \"Supra\", engine, wheels, transmission)\n",
    "print(car)\n",
    "\n",
    "# Start the car\n",
    "car.start_car()\n",
    "\n",
    "# Shift gear\n",
    "car.shift_gear(3)\n",
    "\n",
    "# Stop the car\n",
    "car.stop_car()"
   ]
  },
  {
   "cell_type": "markdown",
   "id": "e1b9b18b-8c4d-4085-b43b-5a855ebc548a",
   "metadata": {},
   "source": [
    "11. How can you encapsulate and hide the details of composed objects in Python classes to maintain\n",
    "abstraction?"
   ]
  },
  {
   "cell_type": "markdown",
   "id": "e4fa9d81-e2dd-44cc-8b03-8215d3978998",
   "metadata": {},
   "source": [
    "Encapsulation is a fundamental principle in object-oriented programming (OOP) that helps hide implementation details and restrict direct access to an object's components. When using composition, encapsulation ensures that the internal objects (composed objects) are not directly exposed, maintaining abstraction and data security.\n",
    "\n",
    "Techniques to Encapsulate and Hide Composed Objects\n",
    "\n",
    "Use Private Attributes (__attribute)\n",
    "\n",
    "Prevent direct modification of composed objects by making attributes private using double underscores (__).\n",
    "Provide Getter & Setter Methods\n",
    "\n",
    "Control access to the composed objects through well-defined getter and setter methods.\n",
    "This ensures validation before modifying internal components.\n",
    "\n",
    "Restrict Direct Modification\n",
    "\n",
    "Instead of exposing objects directly, create proxy methods inside the main class that interact with the composed objects."
   ]
  },
  {
   "cell_type": "markdown",
   "id": "ea63103a-0ce2-46ce-bf19-5ebad07998d3",
   "metadata": {},
   "source": [
    "12. Create a Python class for a university course, using composition to represent students, instructors, and\n",
    "course materials."
   ]
  },
  {
   "cell_type": "code",
   "execution_count": 361,
   "id": "fce56362-e9ec-45cb-adbc-36f96ca0862a",
   "metadata": {},
   "outputs": [
    {
     "name": "stdout",
     "output_type": "stream",
     "text": [
      "Course: Data Structures (CS101)\n",
      "Instructor: Dr. Smith, Department: Computer Science\n",
      "\n",
      "Enrolled Students:\n",
      "Student: Alice Johnson, ID: S1234\n",
      "Student: Bob Williams, ID: S5678\n",
      "\n",
      "Course Materials:\n",
      "Material: Introduction to Data Structures (Lecture Notes)\n",
      "Material: Sorting Algorithms (Video)\n"
     ]
    }
   ],
   "source": [
    "class Student:\n",
    "    def __init__(self, name, student_id):\n",
    "        self.__name = name  # Private attribute\n",
    "        self.__student_id = student_id  # Private attribute\n",
    "\n",
    "    def get_details(self):\n",
    "        return f\"Student: {self.__name}, ID: {self.__student_id}\"\n",
    "\n",
    "class Instructor:\n",
    "    def __init__(self, name, department):\n",
    "        self.__name = name  # Private attribute\n",
    "        self.__department = department  # Private attribute\n",
    "\n",
    "    def get_details(self):\n",
    "        return f\"Instructor: {self.__name}, Department: {self.__department}\"\n",
    "\n",
    "class CourseMaterial:\n",
    "    def __init__(self, title, material_type):\n",
    "        self.__title = title  # Private attribute\n",
    "        self.__material_type = material_type  # e.g., Lecture Notes, Video, Assignment\n",
    "\n",
    "    def get_details(self):\n",
    "        return f\"Material: {self.__title} ({self.__material_type})\"\n",
    "\n",
    "class Course:\n",
    "    def __init__(self, course_name, course_code, instructor):\n",
    "        self.__course_name = course_name  # Private attribute\n",
    "        self.__course_code = course_code  # Private attribute\n",
    "        self.__instructor = instructor  # Encapsulated Instructor object\n",
    "        self.__students = []  # Encapsulated list of students\n",
    "        self.__materials = []  # Encapsulated list of course materials\n",
    "\n",
    "    def enroll_student(self, student):\n",
    "        self.__students.append(student)  # Adds a student to the course\n",
    "\n",
    "    def add_material(self, material):\n",
    "        self.__materials.append(material)  # Adds a course material\n",
    "\n",
    "    def get_course_info(self):\n",
    "        info = f\"Course: {self.__course_name} ({self.__course_code})\\n\"\n",
    "        info += self.__instructor.get_details() + \"\\n\"\n",
    "\n",
    "        info += \"\\nEnrolled Students:\\n\"\n",
    "        info += \"\\n\".join([student.get_details() for student in self.__students]) if self.__students else \"No students enrolled.\"\n",
    "\n",
    "        info += \"\\n\\nCourse Materials:\\n\"\n",
    "        info += \"\\n\".join([material.get_details() for material in self.__materials]) if self.__materials else \"No materials available.\"\n",
    "\n",
    "        return info\n",
    "\n",
    "# Example Usage\n",
    "instructor = Instructor(\"Dr. Smith\", \"Computer Science\")\n",
    "course = Course(\"Data Structures\", \"CS101\", instructor)\n",
    "\n",
    "student1 = Student(\"Alice Johnson\", \"S1234\")\n",
    "student2 = Student(\"Bob Williams\", \"S5678\")\n",
    "\n",
    "course.enroll_student(student1)\n",
    "course.enroll_student(student2)\n",
    "\n",
    "material1 = CourseMaterial(\"Introduction to Data Structures\", \"Lecture Notes\")\n",
    "material2 = CourseMaterial(\"Sorting Algorithms\", \"Video\")\n",
    "\n",
    "course.add_material(material1)\n",
    "course.add_material(material2)\n",
    "\n",
    "# Print course details\n",
    "print(course.get_course_info())"
   ]
  },
  {
   "cell_type": "markdown",
   "id": "127507a6-c1ce-444d-b0e6-c1543d9e4e19",
   "metadata": {},
   "source": [
    "13. Discuss the challenges and drawbacks of composition, such as increased complexity and potential for\n",
    "tight coupling between objects."
   ]
  },
  {
   "cell_type": "markdown",
   "id": "71b02d4f-55ae-4d0a-9ec7-8c69f4cf38bc",
   "metadata": {},
   "source": [
    "1. Increased Complexity\n",
    "\n",
    "More Objects to Manage:\n",
    "Composition requires multiple objects interacting with each other, increasing the overall system complexity.\n",
    "More Code for Simple Tasks:\n",
    "Instead of a simple inheritance hierarchy, composition forces the use of multiple classes and relationships, sometimes making the code longer and harder to follow.\n",
    "\n",
    " Example:\n",
    "A Car class using composition requires separate classes for Engine, Wheels, and Transmission, while inheritance might allow for a simpler design.\n",
    "\n",
    "2. Potential for Tight Coupling\n",
    "\n",
    "When One Object Heavily Depends on Another:\n",
    "If the main class directly manipulates internal objects, changing one component might require modifying the main class.\n",
    "\n",
    "Rigid Dependencies:\n",
    "If an object is tightly bound to a specific implementation, replacing or updating components becomes difficult.\n",
    "\n",
    "Example:\n",
    "A Course class that directly modifies an Instructor or Student object instead of interacting through an abstraction (interface) makes future changes harder.\n",
    "\n",
    "Solution:\n",
    "Use dependency injection and interfaces to loosen the coupling.\n",
    "\n",
    "3. Difficult to Extend and Modify\n",
    "\n",
    "Replacing Components Requires More Refactoring:\n",
    "Unlike inheritance, where overriding methods can modify behavior, in composition, replacing a component often requires modifying multiple parts of the code.\n",
    "\n",
    "Code Duplication Risk:\n",
    "Since behavior is not inherited, it may lead to duplication if multiple classes need the same functionality.\n",
    "\n",
    "Example:\n",
    "If two different systems (Car and Motorcycle) need a FuelSystem, we may have to create separate classes instead of inheriting from a shared base class.\n",
    "\n",
    "Solution:\n",
    "Use interfaces or abstract base classes to define common behaviors.\n",
    "\n",
    "4. More Indirection & Boilerplate Code\n",
    "\n",
    "Increased Function Calls:\n",
    "Since composed objects interact indirectly, an action often requires multiple method calls across different objects.\n",
    "\n",
    "Boilerplate Methods:\n",
    "Wrapper methods are needed in the main class to interact with internal objects, leading to extra code.\n",
    "\n",
    "Example:\n",
    "A Car class must define start_car(), which internally calls engine.start(), increasing indirection.\n",
    "\n",
    "Solution:Use getter/setter methods sparingly to avoid unnecessary method calls.\n",
    "Apply the Facade design pattern to simplify complex compositions.\n",
    "\n",
    "5. Performance Overhead\n",
    "\n",
    "More Objects = More Memory Usage:\n",
    "Every composed object requires memory allocation, which can impact performance.\n",
    "\n",
    "Increased Execution Time:\n",
    "Indirect method calls and interactions between composed objects may introduce small, but noticeable, overhead.\n",
    "\n",
    " Example:\n",
    "A deeply nested composition (e.g., Car → Engine → FuelSystem → Injector) adds multiple layers of method calls.\n",
    "\n",
    "Solution:\n",
    "Use lazy initialization (only create objects when needed).\n",
    "Avoid unnecessary deep object hierarchies.\n"
   ]
  },
  {
   "cell_type": "markdown",
   "id": "0f521fc6-b105-43ca-84bc-4333c9b9aafc",
   "metadata": {},
   "source": [
    "14. Create a Python class hierarchy for a restaurant system, using composition to represent menus, dishes,\n",
    "and ingredients."
   ]
  },
  {
   "cell_type": "code",
   "execution_count": 366,
   "id": "194066c7-dc51-4611-a4da-ad6ad886d993",
   "metadata": {},
   "outputs": [
    {
     "name": "stdout",
     "output_type": "stream",
     "text": [
      "Restaurant: Gourmet Haven\n",
      "\n",
      "Menu: Breakfast Menu\n",
      "\n",
      "Dish: Pancakes ($5.99)\n",
      "  Ingredients:\n",
      "   200g of Flour\n",
      "   250ml of Milk\n",
      "   2 of Eggs\n",
      "\n",
      "Menu: Dinner Menu\n",
      "\n",
      "Dish: Pasta Alfredo ($12.99)\n",
      "  Ingredients:\n",
      "   150g of Pasta\n",
      "   100ml of Cream\n",
      "   50g of Parmesan Cheese\n"
     ]
    }
   ],
   "source": [
    "class Ingredient:\n",
    "    \"\"\"Represents an ingredient used in a dish.\"\"\"\n",
    "    def __init__(self, name, quantity):\n",
    "        self.__name = name  # Private attribute\n",
    "        self.__quantity = quantity  # Example: '200g', '2 tbsp'\n",
    "\n",
    "    def get_details(self):\n",
    "        return f\"{self.__quantity} of {self.__name}\"\n",
    "\n",
    "class Dish:\n",
    "    \"\"\"Represents a dish with multiple ingredients.\"\"\"\n",
    "    def __init__(self, name, price):\n",
    "        self.__name = name  # Private attribute\n",
    "        self.__price = price  # Dish price\n",
    "        self.__ingredients = []  # List of Ingredient objects\n",
    "\n",
    "    def add_ingredient(self, ingredient):\n",
    "        \"\"\"Adds an ingredient to the dish.\"\"\"\n",
    "        self.__ingredients.append(ingredient)\n",
    "\n",
    "    def get_details(self):\n",
    "        \"\"\"Returns dish details including ingredients.\"\"\"\n",
    "        ingredients_list = \"\\n   \".join([ingredient.get_details() for ingredient in self.__ingredients])\n",
    "        return f\"Dish: {self.__name} (${self.__price})\\n  Ingredients:\\n   {ingredients_list if ingredients_list else 'No ingredients added.'}\"\n",
    "\n",
    "class Menu:\n",
    "    \"\"\"Represents a menu that contains multiple dishes.\"\"\"\n",
    "    def __init__(self, menu_name):\n",
    "        self.__menu_name = menu_name  # Private attribute\n",
    "        self.__dishes = []  # List of Dish objects\n",
    "\n",
    "    def add_dish(self, dish):\n",
    "        \"\"\"Adds a dish to the menu.\"\"\"\n",
    "        self.__dishes.append(dish)\n",
    "\n",
    "    def get_details(self):\n",
    "        \"\"\"Returns menu details including all dishes.\"\"\"\n",
    "        dishes_list = \"\\n\\n\".join([dish.get_details() for dish in self.__dishes])\n",
    "        return f\"Menu: {self.__menu_name}\\n\\n{dishes_list if dishes_list else 'No dishes available.'}\"\n",
    "\n",
    "class Restaurant:\n",
    "    \"\"\"Represents a restaurant with multiple menus.\"\"\"\n",
    "    def __init__(self, name):\n",
    "        self.__name = name  # Private attribute\n",
    "        self.__menus = []  # List of Menu objects\n",
    "\n",
    "    def add_menu(self, menu):\n",
    "        \"\"\"Adds a menu to the restaurant.\"\"\"\n",
    "        self.__menus.append(menu)\n",
    "\n",
    "    def get_details(self):\n",
    "        \"\"\"Returns restaurant details including all menus.\"\"\"\n",
    "        menus_list = \"\\n\\n\".join([menu.get_details() for menu in self.__menus])\n",
    "        return f\"Restaurant: {self.__name}\\n\\n{menus_list if menus_list else 'No menus available.'}\"\n",
    "\n",
    "# Example Usage\n",
    "restaurant = Restaurant(\"Gourmet Haven\")\n",
    "\n",
    "# Creating menus\n",
    "breakfast_menu = Menu(\"Breakfast Menu\")\n",
    "dinner_menu = Menu(\"Dinner Menu\")\n",
    "\n",
    "# Creating dishes\n",
    "pancakes = Dish(\"Pancakes\", 5.99)\n",
    "pasta = Dish(\"Pasta Alfredo\", 12.99)\n",
    "\n",
    "# Adding ingredients to dishes\n",
    "pancakes.add_ingredient(Ingredient(\"Flour\", \"200g\"))\n",
    "pancakes.add_ingredient(Ingredient(\"Milk\", \"250ml\"))\n",
    "pancakes.add_ingredient(Ingredient(\"Eggs\", \"2\"))\n",
    "\n",
    "pasta.add_ingredient(Ingredient(\"Pasta\", \"150g\"))\n",
    "pasta.add_ingredient(Ingredient(\"Cream\", \"100ml\"))\n",
    "pasta.add_ingredient(Ingredient(\"Parmesan Cheese\", \"50g\"))\n",
    "\n",
    "# Adding dishes to menus\n",
    "breakfast_menu.add_dish(pancakes)\n",
    "dinner_menu.add_dish(pasta)\n",
    "\n",
    "# Adding menus to the restaurant\n",
    "restaurant.add_menu(breakfast_menu)\n",
    "restaurant.add_menu(dinner_menu)\n",
    "\n",
    "# Display restaurant details\n",
    "print(restaurant.get_details())"
   ]
  },
  {
   "cell_type": "markdown",
   "id": "e1e57526-29cb-4834-8967-0f5e3c261a24",
   "metadata": {},
   "source": [
    "15. Explain how composition enhances code maintainability and modularity in Python programs."
   ]
  },
  {
   "cell_type": "markdown",
   "id": "4c238b3e-5571-4821-b7d9-443a506b4a82",
   "metadata": {},
   "source": [
    "1. Code Modularity (Breaking Down Complexity)\n",
    "\n",
    "Composition allows you to divide a system into independent components\n",
    "\n",
    "Each class handles a specific responsibility, making the system easier to understand and modify.\n",
    "\n",
    "\n",
    "2. Better Code Reusability\n",
    "\n",
    " Encapsulated components can be reused in multiple parts of the application\n",
    "\n",
    "Composition enables object reuse instead of duplicating code.\n",
    "\n",
    "\n",
    "3. Easier Maintenance and Scalability\n",
    "\n",
    "Easier to update or replace parts of the system without breaking existing functionality\n",
    "\n",
    "Changes in one class don’t affect other classes, making debugging and improvements much easier.\n",
    "\n",
    "4. Loose Coupling = More Flexibility\n",
    "\n",
    " Objects interact through well-defined interfaces instead of direct dependencies\n",
    "\n",
    "Unlike inheritance, which tightly binds a subclass to its parent class, composition allows flexible relationships.\n",
    "\n",
    "5. Avoids the Problems of Inheritance\n",
    "\n",
    " Inheritance creates rigid relationships that are hard to modify\n",
    "\n",
    "Composition solves inheritance-related issues like the diamond problem and deep hierarchy complexity."
   ]
  },
  {
   "cell_type": "markdown",
   "id": "496fea9a-82a2-46bb-842f-e2506df498a8",
   "metadata": {},
   "source": [
    "16. Create a Python class for a computer game character, using composition to represent attributes like\n",
    "weapons, armor, and inventory."
   ]
  },
  {
   "cell_type": "code",
   "execution_count": 371,
   "id": "637edb24-f38c-46ea-98b5-588fa880a963",
   "metadata": {},
   "outputs": [
    {
     "name": "stdout",
     "output_type": "stream",
     "text": [
      "Character: Aragorn\n",
      "Weapon: Andúril (Damage: 50)\n",
      "Armor: Elven Shield (Defense: 30)\n",
      "Inventory: Health Potion, Mana Potion\n"
     ]
    }
   ],
   "source": [
    "class Weapon:\n",
    "    \"\"\"Represents a weapon with type and damage.\"\"\"\n",
    "    def __init__(self, name, damage):\n",
    "        self.__name = name  # Private attribute\n",
    "        self.__damage = damage  # Attack power\n",
    "\n",
    "    def get_details(self):\n",
    "        return f\"Weapon: {self.__name} (Damage: {self.__damage})\"\n",
    "\n",
    "class Armor:\n",
    "    \"\"\"Represents armor with type and defense rating.\"\"\"\n",
    "    def __init__(self, name, defense):\n",
    "        self.__name = name  # Private attribute\n",
    "        self.__defense = defense  # Defense power\n",
    "\n",
    "    def get_details(self):\n",
    "        return f\"Armor: {self.__name} (Defense: {self.__defense})\"\n",
    "\n",
    "class Inventory:\n",
    "    \"\"\"Represents an inventory holding multiple items.\"\"\"\n",
    "    def __init__(self):\n",
    "        self.__items = []  # List of items\n",
    "\n",
    "    def add_item(self, item):\n",
    "        \"\"\"Adds an item to the inventory.\"\"\"\n",
    "        self.__items.append(item)\n",
    "\n",
    "    def get_details(self):\n",
    "        return \"Inventory: \" + (\", \".join(self.__items) if self.__items else \"Empty\")\n",
    "\n",
    "class GameCharacter:\n",
    "    \"\"\"Represents a game character with weapons, armor, and inventory.\"\"\"\n",
    "    def __init__(self, name):\n",
    "        self.__name = name  # Private attribute\n",
    "        self.__weapon = None  # A character can have one weapon\n",
    "        self.__armor = None  # A character can have one armor\n",
    "        self.__inventory = Inventory()  # Composition: Character HAS an Inventory\n",
    "\n",
    "    def equip_weapon(self, weapon):\n",
    "        \"\"\"Equips a weapon to the character.\"\"\"\n",
    "        self.__weapon = weapon\n",
    "\n",
    "    def equip_armor(self, armor):\n",
    "        \"\"\"Equips armor to the character.\"\"\"\n",
    "        self.__armor = armor\n",
    "\n",
    "    def add_to_inventory(self, item):\n",
    "        \"\"\"Adds an item to the character's inventory.\"\"\"\n",
    "        self.__inventory.add_item(item)\n",
    "\n",
    "    def get_details(self):\n",
    "        \"\"\"Returns details about the character's attributes.\"\"\"\n",
    "        weapon_details = self.__weapon.get_details() if self.__weapon else \"No weapon equipped\"\n",
    "        armor_details = self.__armor.get_details() if self.__armor else \"No armor equipped\"\n",
    "        inventory_details = self.__inventory.get_details()\n",
    "\n",
    "        return f\"Character: {self.__name}\\n{weapon_details}\\n{armor_details}\\n{inventory_details}\"\n",
    "\n",
    "# Example Usage\n",
    "character = GameCharacter(\"Aragorn\")\n",
    "\n",
    "# Creating weapon and armor\n",
    "sword = Weapon(\"Andúril\", 50)\n",
    "shield = Armor(\"Elven Shield\", 30)\n",
    "\n",
    "# Equipping character\n",
    "character.equip_weapon(sword)\n",
    "character.equip_armor(shield)\n",
    "\n",
    "# Adding items to inventory\n",
    "character.add_to_inventory(\"Health Potion\")\n",
    "character.add_to_inventory(\"Mana Potion\")\n",
    "\n",
    "# Display character details\n",
    "print(character.get_details())"
   ]
  },
  {
   "cell_type": "markdown",
   "id": "b0eec598-12c9-430c-aa1f-7138c393c137",
   "metadata": {},
   "source": [
    "17. Describe the concept of \"aggregation\" in composition and how it differs from simple composition."
   ]
  },
  {
   "cell_type": "markdown",
   "id": "5394647f-abfb-4896-8290-8bd2db2ea342",
   "metadata": {},
   "source": [
    "Aggregation is a type of association in object-oriented programming (OOP) that represents a \"whole-part\" relationship, but with a slightly looser coupling than composition. While both aggregation and composition use a \"has-a\" relationship, the key difference lies in the lifetime and ownership of the involved objects.\n",
    "\n",
    "Key Differences Between Aggregation and Composition\n",
    "\n",
    "Lifetime and Ownership:\n",
    "\n",
    "Aggregation: The part can exist independently of the whole. In other words, the aggregated object can outlive the object that owns it.\n",
    "\n",
    "Example: A Library contains Books, but a Book can exist without being part of a Library. If the Library is destroyed, the Books can still exist elsewhere.\n",
    "\n",
    "Composition: The part cannot exist without the whole. If the parent object is destroyed, the composed objects (child objects) are also destroyed.\n",
    "\n",
    "Example: A Car has an Engine, but if the Car is destroyed, the Engine no longer exists.\n",
    "Ownership:\n",
    "\n",
    "Aggregation: The whole does not necessarily own the part. The part can belong to multiple \"wholes.\"\n",
    "\n",
    "Composition: The whole owns the part, and the part typically cannot be shared between multiple instances.\n",
    "\n",
    "Flexibility:\n",
    "Aggregation is more flexible because the part can exist independently of the whole, and the whole can aggregate the same part multiple times or share it with other entities.\n",
    "\n",
    "Composition is more rigid because the part’s lifecycle is bound to the lifecycle of the whole."
   ]
  },
  {
   "cell_type": "markdown",
   "id": "2da86684-1280-4145-b89d-e1788889d1c5",
   "metadata": {},
   "source": [
    "18. Create a Python class for a house, using composition to represent rooms, furniture, and appliances."
   ]
  },
  {
   "cell_type": "code",
   "execution_count": 378,
   "id": "a143c09c-3cd7-4918-b4c4-0c17996361d7",
   "metadata": {},
   "outputs": [
    {
     "name": "stdout",
     "output_type": "stream",
     "text": [
      "House Address: 1234 Elm Street\n",
      "Rooms:\n",
      "Room: Living Room\n",
      "Furniture: Sofa (Living Room Furniture), Coffee Table (Living Room Furniture)\n",
      "Appliances: TV (Entertainment)\n",
      "Room: Kitchen\n",
      "Furniture: \n",
      "Appliances: Fridge (Kitchen)\n"
     ]
    }
   ],
   "source": [
    "class Furniture:\n",
    "    \"\"\"Represents furniture with name and type.\"\"\"\n",
    "    def __init__(self, name, furniture_type):\n",
    "        self.__name = name\n",
    "        self.__type = furniture_type\n",
    "\n",
    "    def get_details(self):\n",
    "        return f\"{self.__name} ({self.__type})\"\n",
    "\n",
    "class Appliance:\n",
    "    \"\"\"Represents an appliance with name and function.\"\"\"\n",
    "    def __init__(self, name, function):\n",
    "        self.__name = name\n",
    "        self.__function = function\n",
    "\n",
    "    def get_details(self):\n",
    "        return f\"{self.__name} ({self.__function})\"\n",
    "\n",
    "class Room:\n",
    "    \"\"\"Represents a room with furniture and appliances.\"\"\"\n",
    "    def __init__(self, name):\n",
    "        self.__name = name\n",
    "        self.__furniture = []  # Room contains a list of furniture\n",
    "        self.__appliances = []  # Room contains a list of appliances\n",
    "\n",
    "    def add_furniture(self, furniture):\n",
    "        \"\"\"Adds furniture to the room.\"\"\"\n",
    "        self.__furniture.append(furniture)\n",
    "\n",
    "    def add_appliance(self, appliance):\n",
    "        \"\"\"Adds appliance to the room.\"\"\"\n",
    "        self.__appliances.append(appliance)\n",
    "\n",
    "    def get_details(self):\n",
    "        furniture_details = \", \".join([furniture.get_details() for furniture in self.__furniture])\n",
    "        appliance_details = \", \".join([appliance.get_details() for appliance in self.__appliances])\n",
    "        return f\"Room: {self.__name}\\nFurniture: {furniture_details}\\nAppliances: {appliance_details}\"\n",
    "\n",
    "class House:\n",
    "    \"\"\"Represents a house with rooms.\"\"\"\n",
    "    def __init__(self, address):\n",
    "        self.__address = address\n",
    "        self.__rooms = []  # House has multiple rooms\n",
    "\n",
    "    def add_room(self, room):\n",
    "        \"\"\"Adds room to the house.\"\"\"\n",
    "        self.__rooms.append(room)\n",
    "\n",
    "    def get_details(self):\n",
    "        room_details = \"\\n\".join([room.get_details() for room in self.__rooms])\n",
    "        return f\"House Address: {self.__address}\\nRooms:\\n{room_details}\"\n",
    "\n",
    "# Example Usage\n",
    "# Create furniture and appliances\n",
    "sofa = Furniture(\"Sofa\", \"Living Room Furniture\")\n",
    "coffee_table = Furniture(\"Coffee Table\", \"Living Room Furniture\")\n",
    "tv = Appliance(\"TV\", \"Entertainment\")\n",
    "fridge = Appliance(\"Fridge\", \"Kitchen\")\n",
    "\n",
    "# Create rooms\n",
    "living_room = Room(\"Living Room\")\n",
    "kitchen = Room(\"Kitchen\")\n",
    "\n",
    "# Add furniture and appliances to rooms\n",
    "living_room.add_furniture(sofa)\n",
    "living_room.add_furniture(coffee_table)\n",
    "living_room.add_appliance(tv)\n",
    "\n",
    "kitchen.add_appliance(fridge)\n",
    "\n",
    "# Create a house\n",
    "my_house = House(\"1234 Elm Street\")\n",
    "\n",
    "# Add rooms to the house\n",
    "my_house.add_room(living_room)\n",
    "my_house.add_room(kitchen)\n",
    "\n",
    "# Display house details\n",
    "print(my_house.get_details())"
   ]
  },
  {
   "cell_type": "markdown",
   "id": "855cad0a-9c1e-4337-a610-5900e4c1973d",
   "metadata": {},
   "source": [
    "19. How can you achieve flexibility in composed objects by allowing them to be replaced or modified\n",
    "dynamically at runtime?"
   ]
  },
  {
   "cell_type": "markdown",
   "id": "fe7241d7-01d7-47b1-b421-331da1eeccf3",
   "metadata": {},
   "source": [
    "1. Using Composition with Dependency Injection\n",
    "\n",
    "One of the most common ways to achieve flexibility is by using dependency injection. This allows you to inject different objects into a class at runtime, making it easy to replace components dynamically without modifying the class itself.\n",
    "\n",
    "How it works:\n",
    "\n",
    "Initially, the Car is using the Engine class.\n",
    "At runtime, we dynamically inject a new ElectricEngine object into the Car instance, allowing us to modify its behavior without changing the Car class itself.\n",
    "\n",
    "2. Using Interfaces or Abstract Base Classes\n",
    "\n",
    "In Python, you can achieve this flexibility by using abstract base classes (ABCs) or interfaces. These allow different implementations of an interface to be swapped without changing the object structure.\n",
    "\n",
    "\n",
    "How it works:\n",
    "\n",
    "The Car class is composed of an Engine interface, but at runtime, we can inject any engine that implements the Engine abstract base class.\n",
    "The engine can be swapped dynamically, allowing flexibility in how the Car operates.\n",
    "\n",
    "3. Using Factory Pattern\n",
    "\n",
    "You can use the factory pattern to dynamically decide which component to inject into the composed object. This allows for runtime decision-making regarding which object to use.\n",
    "\n",
    "\n",
    "How it works:\n",
    "\n",
    "The EngineFactory class decides which engine to create based on the input type.\n",
    "This allows the engine to be chosen dynamically at runtime, and the Car class remains unaware of the engine type it will use, enabling flexibility.\n",
    "\n",
    "4. Using Event-Driven Programming\n",
    "\n",
    "Another approach to achieve flexibility is using event-driven programming or callback mechanisms. This allows objects to dynamically change their behavior based on external events, user actions, or triggers.\n",
    "\n",
    "How it works:\n",
    "\n",
    "The Car class has a set_engine method that allows the engine to be changed dynamically, which can be triggered by external events (like user input or other conditions).\n",
    "\n",
    "This provides flexibility in modifying the object’s behavior during runtime."
   ]
  },
  {
   "cell_type": "markdown",
   "id": "f5393937-0d67-41d6-9a5f-b44dd8648f36",
   "metadata": {},
   "source": [
    "20. Create a Python class for a social media application, using composition to represent users, posts, and\n",
    "comments."
   ]
  },
  {
   "cell_type": "code",
   "execution_count": 383,
   "id": "a494ad9c-e2d2-440f-ada8-2b5368cd981e",
   "metadata": {},
   "outputs": [
    {
     "name": "stdout",
     "output_type": "stream",
     "text": [
      "User: Alice\n",
      "Posts:\n",
      "Post by Alice: My first post!\n",
      "Comments:\n",
      "  Bob commented: Great post, Alice!\n",
      "  Alice commented: Thanks, Bob!\n",
      "\n",
      "Post by Alice: Loving the weather today!\n",
      "Comments:\n",
      "  \n"
     ]
    }
   ],
   "source": [
    "class Comment:\n",
    "    \"\"\"Represents a comment on a post.\"\"\"\n",
    "    def __init__(self, user, content):\n",
    "        self.user = user  # The user who made the comment\n",
    "        self.content = content  # The content of the comment\n",
    "\n",
    "    def get_details(self):\n",
    "        return f\"{self.user.name} commented: {self.content}\"\n",
    "\n",
    "class Post:\n",
    "    \"\"\"Represents a post made by a user.\"\"\"\n",
    "    def __init__(self, user, content):\n",
    "        self.user = user  # The user who made the post\n",
    "        self.content = content  # The content of the post\n",
    "        self.comments = []  # List to hold comments on the post\n",
    "\n",
    "    def add_comment(self, comment):\n",
    "        \"\"\"Adds a comment to the post.\"\"\"\n",
    "        self.comments.append(comment)\n",
    "\n",
    "    def get_details(self):\n",
    "        comments_details = \"\\n  \".join([comment.get_details() for comment in self.comments])\n",
    "        return f\"Post by {self.user.name}: {self.content}\\nComments:\\n  {comments_details}\"\n",
    "\n",
    "class User:\n",
    "    \"\"\"Represents a user in the social media app.\"\"\"\n",
    "    def __init__(self, name):\n",
    "        self.name = name  # User's name\n",
    "        self.posts = []  # List to hold posts made by the user\n",
    "\n",
    "    def create_post(self, content):\n",
    "        \"\"\"Creates a post by the user.\"\"\"\n",
    "        post = Post(self, content)\n",
    "        self.posts.append(post)\n",
    "        return post\n",
    "\n",
    "    def get_details(self):\n",
    "        posts_details = \"\\n\\n\".join([post.get_details() for post in self.posts])\n",
    "        return f\"User: {self.name}\\nPosts:\\n{posts_details}\"\n",
    "\n",
    "# Example Usage\n",
    "# Create users\n",
    "user1 = User(\"Alice\")\n",
    "user2 = User(\"Bob\")\n",
    "\n",
    "# User1 creates a post\n",
    "post1 = user1.create_post(\"My first post!\")\n",
    "post2 = user1.create_post(\"Loving the weather today!\")\n",
    "\n",
    "# User2 comments on the first post\n",
    "comment1 = Comment(user2, \"Great post, Alice!\")\n",
    "post1.add_comment(comment1)\n",
    "\n",
    "# User1 comments on their own post\n",
    "comment2 = Comment(user1, \"Thanks, Bob!\")\n",
    "post1.add_comment(comment2)\n",
    "\n",
    "# Display user details\n",
    "print(user1.get_details())"
   ]
  }
 ],
 "metadata": {
  "kernelspec": {
   "display_name": "Python 3 (ipykernel)",
   "language": "python",
   "name": "python3"
  },
  "language_info": {
   "codemirror_mode": {
    "name": "ipython",
    "version": 3
   },
   "file_extension": ".py",
   "mimetype": "text/x-python",
   "name": "python",
   "nbconvert_exporter": "python",
   "pygments_lexer": "ipython3",
   "version": "3.12.7"
  }
 },
 "nbformat": 4,
 "nbformat_minor": 5
}
