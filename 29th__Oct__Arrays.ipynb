{
 "cells": [
  {
   "cell_type": "markdown",
   "id": "d7017fa8-1362-45c0-a30b-47985d99c015",
   "metadata": {},
   "source": [
    "1. Given an array, check if it contains any duplicates or not.\n",
    "arr = [1, 2, 4, 2, 5, 9]"
   ]
  },
  {
   "cell_type": "code",
   "execution_count": 2,
   "id": "a6ed3c3d-c778-4426-aaa7-3b1013dd2a14",
   "metadata": {},
   "outputs": [
    {
     "name": "stdout",
     "output_type": "stream",
     "text": [
      "Duplicates found\n"
     ]
    }
   ],
   "source": [
    "arr = [1, 2, 4, 2, 5, 9]\n",
    "\n",
    "# Convert the array to a set\n",
    "arr_set = set(arr)\n",
    "\n",
    "# Compare the lengths\n",
    "if len(arr_set) < len(arr):\n",
    "    print(\"Duplicates found\")\n",
    "else:\n",
    "    print(\"No duplicates\")"
   ]
  },
  {
   "cell_type": "markdown",
   "id": "1718235f-6eb8-43ec-9190-e01dfea69ee9",
   "metadata": {},
   "source": [
    "2. Given an array and an integer k, rotate the array to the right by k steps.\n",
    "arr = [1, 2, 3, 4, 5, 6, 7] k = 3"
   ]
  },
  {
   "cell_type": "code",
   "execution_count": 5,
   "id": "8fe6a69e-d1fa-4d90-b47d-fa4fdb57f3af",
   "metadata": {},
   "outputs": [
    {
     "name": "stdout",
     "output_type": "stream",
     "text": [
      "[5, 6, 7, 1, 2, 3, 4]\n"
     ]
    }
   ],
   "source": [
    "arr = [1, 2, 3, 4, 5, 6, 7]\n",
    "k = 3\n",
    "\n",
    "# Rotate the array\n",
    "rotated_arr = arr[-k:] + arr[:-k]\n",
    "\n",
    "print(rotated_arr)"
   ]
  },
  {
   "cell_type": "markdown",
   "id": "7191fa29-2ff3-4be8-84cb-af5229f49484",
   "metadata": {},
   "source": [
    "3. Reverse the given array in-place, means without using any extra data structure.\n",
    "arr = [2, 4, 5, 7, 9, 12]"
   ]
  },
  {
   "cell_type": "code",
   "execution_count": 8,
   "id": "05fa8127-d88d-40e9-8a5f-302309dc894d",
   "metadata": {},
   "outputs": [
    {
     "name": "stdout",
     "output_type": "stream",
     "text": [
      "[12, 9, 7, 5, 4, 2]\n"
     ]
    }
   ],
   "source": [
    "arr = [2, 4, 5, 7, 9, 12]\n",
    "\n",
    "# Reverse the array in place\n",
    "left, right = 0, len(arr) - 1\n",
    "\n",
    "while left < right:\n",
    "    # Swap the elements\n",
    "    arr[left], arr[right] = arr[right], arr[left]\n",
    "    \n",
    "    # Move the pointers\n",
    "    left += 1\n",
    "    right -= 1\n",
    "\n",
    "print(arr)"
   ]
  },
  {
   "cell_type": "markdown",
   "id": "ce887bc0-bc94-4915-90b3-08d691e8fcab",
   "metadata": {},
   "source": [
    "4. Given an array of integers, find the maximum element in an array\n",
    "arr = [10, 5, 20, 8, 15]"
   ]
  },
  {
   "cell_type": "code",
   "execution_count": 11,
   "id": "43384351-6911-4ccd-a69f-4470dc40ff5c",
   "metadata": {},
   "outputs": [
    {
     "name": "stdout",
     "output_type": "stream",
     "text": [
      "20\n"
     ]
    }
   ],
   "source": [
    "arr = [10, 5, 20, 8, 15]\n",
    "\n",
    "# Find the maximum element\n",
    "max_element = max(arr)\n",
    "\n",
    "print(max_element)"
   ]
  },
  {
   "cell_type": "markdown",
   "id": "82d3c20d-a7b3-4bd9-a6e4-e39f30ef1603",
   "metadata": {},
   "source": [
    "5. Given a sorted array, remove the duplicate element without using any extra data structure.\n",
    "arr = [1, 1, 2, 2, 2, 3, 3, 4, 4, 4, 5, 5]"
   ]
  },
  {
   "cell_type": "code",
   "execution_count": 14,
   "id": "42c2d6ff-0732-4f72-bbce-48a3f40142c6",
   "metadata": {},
   "outputs": [
    {
     "name": "stdout",
     "output_type": "stream",
     "text": [
      "[1, 2, 3, 4, 5]\n"
     ]
    }
   ],
   "source": [
    "arr = [1, 1, 2, 2, 2, 3, 3, 4, 4, 4, 5, 5]\n",
    "\n",
    "# Pointer to keep track of the unique element's position\n",
    "unique_index = 1\n",
    "\n",
    "for i in range(1, len(arr)):\n",
    "    if arr[i] != arr[i - 1]:\n",
    "        arr[unique_index] = arr[i]\n",
    "        unique_index += 1\n",
    "\n",
    "# Slice the array to include only unique elements\n",
    "arr = arr[:unique_index]\n",
    "\n",
    "print(arr)"
   ]
  }
 ],
 "metadata": {
  "kernelspec": {
   "display_name": "Python 3 (ipykernel)",
   "language": "python",
   "name": "python3"
  },
  "language_info": {
   "codemirror_mode": {
    "name": "ipython",
    "version": 3
   },
   "file_extension": ".py",
   "mimetype": "text/x-python",
   "name": "python",
   "nbconvert_exporter": "python",
   "pygments_lexer": "ipython3",
   "version": "3.12.7"
  }
 },
 "nbformat": 4,
 "nbformat_minor": 5
}
