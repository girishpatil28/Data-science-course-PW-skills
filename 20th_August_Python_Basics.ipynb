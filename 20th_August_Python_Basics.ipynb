{
 "cells": [
  {
   "cell_type": "markdown",
   "id": "d04b8338-b095-45cc-821b-f0457b548cd7",
   "metadata": {},
   "source": [
    "TOPIC: String Based Assignment Problem"
   ]
  },
  {
   "cell_type": "markdown",
   "id": "2956e433-6696-4dbf-aa8e-121f36bf2636",
   "metadata": {},
   "source": [
    " # welcome to the solution file of the second assignment of the pw skills"
   ]
  },
  {
   "cell_type": "markdown",
   "id": "38fdd089-7942-4125-9e96-bc8807d18e2f",
   "metadata": {},
   "source": [
    "# Lets firstly start by solving string based questions\n"
   ]
  },
  {
   "cell_type": "markdown",
   "id": "bb10bcd2-117f-4035-8451-13341c8fd6c4",
   "metadata": {},
   "source": [
    "1. Write a program to reverse a string."
   ]
  },
  {
   "cell_type": "code",
   "execution_count": 1,
   "id": "8b54bbe1-670c-4859-aa6c-599bc442c014",
   "metadata": {},
   "outputs": [
    {
     "name": "stdin",
     "output_type": "stream",
     "text": [
      "Enter the string which you want to reverse:  arvind\n"
     ]
    },
    {
     "name": "stdout",
     "output_type": "stream",
     "text": [
      "dnivra\n"
     ]
    }
   ],
   "source": [
    "# solution for reversing string operation \n",
    "\n",
    "# the varibale which takes the string as input\n",
    "str1=input(\"Enter the string which you want to reverse: \")\n",
    "# reversing it using the slicing \n",
    "str1=str1[::-1]\n",
    "print(str1)"
   ]
  },
  {
   "cell_type": "markdown",
   "id": "3d3f6d39-fac1-4eb4-aa9d-fdf4d15d120c",
   "metadata": {},
   "source": [
    "2. Check if a string is a palindrome."
   ]
  },
  {
   "cell_type": "code",
   "execution_count": 1,
   "id": "9a57c5a4-d1a1-4ca1-bb81-c7181ed0980b",
   "metadata": {},
   "outputs": [
    {
     "name": "stdin",
     "output_type": "stream",
     "text": [
      "Enter the string which you want to check:  pop\n"
     ]
    },
    {
     "name": "stdout",
     "output_type": "stream",
     "text": [
      "Its a palindrome\n"
     ]
    }
   ],
   "source": [
    "# checking the string is palindrome or not \n",
    "# using the same variable as above to take the string as input\n",
    "\n",
    "str1=input(\"Enter the string which you want to check: \")\n",
    "if str1[::-1]==str1:\n",
    "    print(\"Its a palindrome\")\n",
    "else:\n",
    "    print(\"its not a palindrome\")"
   ]
  },
  {
   "cell_type": "markdown",
   "id": "c2a615e0-04b9-418e-87cd-bda010d23faf",
   "metadata": {},
   "source": [
    "3. Convert a string to uppercase."
   ]
  },
  {
   "cell_type": "code",
   "execution_count": 2,
   "id": "11f3cd63-10e0-47c4-923a-3dcabfbe94c7",
   "metadata": {},
   "outputs": [
    {
     "name": "stdout",
     "output_type": "stream",
     "text": [
      "POP\n"
     ]
    }
   ],
   "source": [
    "# converting string to uppercase, using the variable and same value as above\n",
    "print(str1.upper())"
   ]
  },
  {
   "cell_type": "markdown",
   "id": "d2ce6bfa-b0f0-46a0-91d8-c39eec53e532",
   "metadata": {},
   "source": [
    "4. Convert a string to lowercase."
   ]
  },
  {
   "cell_type": "code",
   "execution_count": 4,
   "id": "23b8893d-e53c-4631-ad64-c28f4de8b7f5",
   "metadata": {},
   "outputs": [
    {
     "name": "stdin",
     "output_type": "stream",
     "text": [
      "Enter the string:  ARVIND\n"
     ]
    },
    {
     "name": "stdout",
     "output_type": "stream",
     "text": [
      "arvind\n"
     ]
    }
   ],
   "source": [
    "# taking the new uppercase string to convert in lowercase \n",
    "str2=input(\"Enter the string: \")\n",
    "print(str2.lower())"
   ]
  },
  {
   "cell_type": "markdown",
   "id": "019f8dbc-3ed0-4f6e-8a91-1b07b4e6b6e1",
   "metadata": {},
   "source": [
    "5. Count the number of vowels in a string."
   ]
  },
  {
   "cell_type": "code",
   "execution_count": 7,
   "id": "2c36cea9-9129-4517-ba3d-d49e0cb22de4",
   "metadata": {},
   "outputs": [
    {
     "name": "stdin",
     "output_type": "stream",
     "text": [
      "Enter the string:  aeiou\n"
     ]
    },
    {
     "name": "stdout",
     "output_type": "stream",
     "text": [
      "THe totoal number of vowels in ur given string is  5\n"
     ]
    }
   ],
   "source": [
    "# taking the same variable as above to take the input string\n",
    "str2=input(\"Enter the string: \")\n",
    "\n",
    "# variable to verify the vowels\n",
    "vowels='aeiouAEIOU'\n",
    "\n",
    "vowel_count=0\n",
    "for i in str2:\n",
    "    if i in vowels:\n",
    "        vowel_count=vowel_count+1\n",
    "        \n",
    "print(\"THe totoal number of vowels in ur given string is \",vowel_count)     \n"
   ]
  },
  {
   "cell_type": "markdown",
   "id": "92b6e465-9d7b-4dae-b061-c07091bd96d3",
   "metadata": {},
   "source": [
    "6. Count the number of consonants in a string."
   ]
  },
  {
   "cell_type": "code",
   "execution_count": 14,
   "id": "663d93e0-7b97-4de9-a84f-3032e0adccc4",
   "metadata": {},
   "outputs": [
    {
     "name": "stdin",
     "output_type": "stream",
     "text": [
      "Enter the string:  soundarya\n"
     ]
    },
    {
     "name": "stdout",
     "output_type": "stream",
     "text": [
      "Total number of constants are:  5\n"
     ]
    }
   ],
   "source": [
    "# using the same approch as above , to count the number of constants available in the string \n",
    "str2=input(\"Enter the string: \")\n",
    "\n",
    "\n",
    "\n",
    "# variable to verify the constants\n",
    "not_const='aeiouAEIOU'\n",
    "\n",
    "const_count=0\n",
    "for i in str2:\n",
    "    if i not in not_const:\n",
    "        const_count=const_count+1\n",
    "        \n",
    "print(\"Total number of constants are: \", const_count)        "
   ]
  },
  {
   "cell_type": "markdown",
   "id": "3833d1df-de97-4656-8f9c-506e920cff4a",
   "metadata": {},
   "source": [
    "7. Remove all whitespaces from a string."
   ]
  },
  {
   "cell_type": "code",
   "execution_count": 1,
   "id": "34bc09d6-c2a0-487e-b2ae-d1329f56a4b2",
   "metadata": {},
   "outputs": [
    {
     "name": "stdin",
     "output_type": "stream",
     "text": [
      "Enter the string:  arvind karanje\n"
     ]
    },
    {
     "name": "stdout",
     "output_type": "stream",
     "text": [
      "arvindkaranje\n"
     ]
    }
   ],
   "source": [
    "# using the same approch as above to take the string\n",
    "str2=input(\"Enter the string: \")\n",
    "\n",
    "no_whitespace_string = str2.replace(\" \", \"\")\n",
    "print(no_whitespace_string)"
   ]
  },
  {
   "cell_type": "markdown",
   "id": "ac3be7b4-bd2c-45e3-a7c1-86b2567637e2",
   "metadata": {},
   "source": [
    "8. Find the length of a string without using the `len()` function."
   ]
  },
  {
   "cell_type": "code",
   "execution_count": 3,
   "id": "1e88477a-e702-4a04-b7e4-6a0489cfb5cc",
   "metadata": {},
   "outputs": [
    {
     "name": "stdin",
     "output_type": "stream",
     "text": [
      "Enter the string:  arvind\n"
     ]
    },
    {
     "name": "stdout",
     "output_type": "stream",
     "text": [
      "Length of the string is:  6\n"
     ]
    }
   ],
   "source": [
    "# taking input of string\n",
    "str2=input(\"Enter the string: \")\n",
    "\n",
    "count=0\n",
    "for i in str2:\n",
    "    count=count+1\n",
    "    \n",
    "print(\"Length of the string is: \",count)     "
   ]
  },
  {
   "cell_type": "markdown",
   "id": "7d3c0940-d0b8-4eef-820a-6d785dda5cd5",
   "metadata": {},
   "source": [
    "9. Check if a string contains a specific word."
   ]
  },
  {
   "cell_type": "code",
   "execution_count": 4,
   "id": "7dfbd797-80e7-499e-bac5-a4d707fc8775",
   "metadata": {},
   "outputs": [
    {
     "name": "stdin",
     "output_type": "stream",
     "text": [
      "Enter the sub string:  check\n"
     ]
    },
    {
     "name": "stdout",
     "output_type": "stream",
     "text": [
      "This word is available in the string\n"
     ]
    }
   ],
   "source": [
    "# lets creat a string\n",
    "st=\"This is the example of the string to check the word\"\n",
    "\n",
    "# lets take the word as input to check whether its available in the original string\n",
    "sub=input(\"Enter the sub string: \")\n",
    "\n",
    "if sub in st:\n",
    "    print(\"This word is available in the string\")\n",
    "else:\n",
    "    print(\"This word is not available\")\n",
    "    \n"
   ]
  },
  {
   "cell_type": "markdown",
   "id": "cdfb063f-3b5c-4914-a3af-be9bf55aa256",
   "metadata": {},
   "source": [
    "10. Replace a word in a string with another word."
   ]
  },
  {
   "cell_type": "code",
   "execution_count": 7,
   "id": "7bcb336e-69c1-4d6e-8172-206a0886b5f4",
   "metadata": {},
   "outputs": [
    {
     "name": "stdout",
     "output_type": "stream",
     "text": [
      "That is the example of the string\n"
     ]
    }
   ],
   "source": [
    "# this is the original string we have\n",
    "st=\"This is the example of the string\"\n",
    "\n",
    "# lets replace the string the word this as that\n",
    "st=st.replace(\"This\",\"That\")\n",
    "print(st)"
   ]
  },
  {
   "cell_type": "markdown",
   "id": "5fd4f6bb-e2dd-4e74-8c2c-afcee72a6e71",
   "metadata": {},
   "source": [
    "11. Count the occurrences of a word in a string."
   ]
  },
  {
   "cell_type": "code",
   "execution_count": 8,
   "id": "d52fb97c-d15c-4dc8-85a7-facdc77432d5",
   "metadata": {},
   "outputs": [
    {
     "name": "stdout",
     "output_type": "stream",
     "text": [
      "The word \"sentence\" appears 2 times in the string.\n"
     ]
    }
   ],
   "source": [
    "# string variable\n",
    "sentence = \"This is a sample sentence. This sentence is for demonstration purposes.\"\n",
    "\n",
    "# Count the occurrences of the word \"sentence\"\n",
    "word_to_count = \"sentence\"\n",
    "occurrences = sentence.count(word_to_count)\n",
    "\n",
    "print(f'The word \"{word_to_count}\" appears {occurrences} times in the string.')\n"
   ]
  },
  {
   "cell_type": "markdown",
   "id": "f4ba1dda-49a0-4457-9c86-121e3aec9df7",
   "metadata": {},
   "source": [
    "12. Find the first occurrence of a word in a string."
   ]
  },
  {
   "cell_type": "code",
   "execution_count": 9,
   "id": "c984da49-fe59-45d9-8c8e-9949499204a4",
   "metadata": {},
   "outputs": [
    {
     "name": "stdout",
     "output_type": "stream",
     "text": [
      "The word \"sentence\" first appears at index 17.\n"
     ]
    }
   ],
   "source": [
    "sentence = \"This is a sample sentence. This sentence is for demonstration purposes.\"\n",
    "\n",
    "# Find the first occurrence of the word \"sentence\"\n",
    "word_to_find = \"sentence\"\n",
    "first_occurrence_index = sentence.find(word_to_find)\n",
    "\n",
    "if first_occurrence_index != -1:\n",
    "    print(f'The word \"{word_to_find}\" first appears at index {first_occurrence_index}.')\n",
    "else:\n",
    "    print(f'The word \"{word_to_find}\" is not found in the string.')\n"
   ]
  },
  {
   "cell_type": "markdown",
   "id": "01187c1c-dbd9-4686-a5dc-04e868a42897",
   "metadata": {},
   "source": [
    "13. Find the last occurrence of a word in a string."
   ]
  },
  {
   "cell_type": "code",
   "execution_count": 2,
   "id": "9c9b5f1d-8496-41b4-acde-be6dc0cec550",
   "metadata": {},
   "outputs": [
    {
     "name": "stdout",
     "output_type": "stream",
     "text": [
      "The word \"sentence\" last appears at index 32.\n"
     ]
    }
   ],
   "source": [
    "sentence = \"This is a sample sentence. This sentence is for demonstration purposes.\"\n",
    "\n",
    "# Find the last occurrence of the word \"sentence\"\n",
    "word_to_find = \"sentence\"\n",
    "last_occurrence_index = sentence.rfind(word_to_find)\n",
    "\n",
    "if last_occurrence_index != -1:\n",
    "    print(f'The word \"{word_to_find}\" last appears at index {last_occurrence_index}.')\n",
    "else:\n",
    "    print(f'The word \"{word_to_find}\" is not found in the string.')\n"
   ]
  },
  {
   "cell_type": "markdown",
   "id": "76327983-75d3-465b-90b1-7e52ddb8a276",
   "metadata": {},
   "source": [
    "14. Split a string into a list of words."
   ]
  },
  {
   "cell_type": "code",
   "execution_count": 3,
   "id": "e537a9ce-3499-40cb-a853-ba777fc3fa4f",
   "metadata": {},
   "outputs": [
    {
     "name": "stdin",
     "output_type": "stream",
     "text": [
      "Enter the string:  arvind karanje is great\n"
     ]
    },
    {
     "name": "stdout",
     "output_type": "stream",
     "text": [
      "['arvind', 'karanje', 'is', 'great']\n"
     ]
    }
   ],
   "source": [
    "# getting the string as the input first\n",
    "st=input(\"Enter the string: \")\n",
    "\n",
    "lst=st.split()\n",
    "\n",
    "# converted the string variable st and stored it into list using the split function\n",
    "print(lst)"
   ]
  },
  {
   "cell_type": "markdown",
   "id": "c78e2481-bc47-4431-8565-71c33aaa7021",
   "metadata": {},
   "source": [
    "15. Join a list of words into a string."
   ]
  },
  {
   "cell_type": "code",
   "execution_count": 7,
   "id": "786230ed-167a-4b96-a79e-9b283fb5d0c7",
   "metadata": {},
   "outputs": [
    {
     "name": "stdout",
     "output_type": "stream",
     "text": [
      "arvind karanje is great\n"
     ]
    }
   ],
   "source": [
    "# using the same list which is being coverted above\n",
    "# now the lst list will joined as the string again \n",
    "st2=\" \".join(lst)\n",
    "print(st2)"
   ]
  },
  {
   "cell_type": "markdown",
   "id": "ba0cf3ea-c2df-40cf-a906-5c8a9693a0b8",
   "metadata": {},
   "source": [
    "16. Convert a string where words are separated by spaces to one where words\n",
    "are separated by underscores."
   ]
  },
  {
   "cell_type": "code",
   "execution_count": 8,
   "id": "98bac2e8-41bc-4efc-82b7-ede5a9d7eb53",
   "metadata": {},
   "outputs": [
    {
     "name": "stdout",
     "output_type": "stream",
     "text": [
      "This_is_the_string_in_which_words_are_suprated_by_spaces_but_later_it_will_converted_with_underscores\n"
     ]
    }
   ],
   "source": [
    "# taking the string here\n",
    "ex_str=\"This is the string in which words are suprated by spaces but later it will converted with underscores\"\n",
    "\n",
    "mod_st=ex_str.replace(\" \",\"_\")\n",
    "print(mod_st)"
   ]
  },
  {
   "cell_type": "markdown",
   "id": "1168ebdd-ba47-41aa-a1b3-6f36ad58dadd",
   "metadata": {},
   "source": [
    "17. Check if a string starts with a specific word or phrase."
   ]
  },
  {
   "cell_type": "code",
   "execution_count": 1,
   "id": "57050105-bb0b-45d4-96b1-75b5befb18dd",
   "metadata": {},
   "outputs": [
    {
     "name": "stdout",
     "output_type": "stream",
     "text": [
      "The phrase starts with \"Hello\".\n"
     ]
    }
   ],
   "source": [
    "# here is the function which check the farse or specific word ,we are using the inbuilt function of \n",
    "# string to check it\n",
    "def starts_with_specific_word(phrase, word):\n",
    "    # Check if the phrase starts with the specified word\n",
    "    if phrase.startswith(word):\n",
    "        return True\n",
    "    else:\n",
    "        return False\n",
    "\n",
    "# Example usage\n",
    "input_phrase = \"Hello, world! How are you today?\"\n",
    "specific_word = \"Hello\"\n",
    "\n",
    "if starts_with_specific_word(input_phrase, specific_word):\n",
    "    print(f'The phrase starts with \"{specific_word}\".')\n",
    "else:\n",
    "    print(f'The phrase does not start with \"{specific_word}\".')\n"
   ]
  },
  {
   "cell_type": "markdown",
   "id": "237ce6ff-113e-4931-a937-c7298898bd1f",
   "metadata": {},
   "source": [
    "18. Check if a string ends with a specific word or phrase."
   ]
  },
  {
   "cell_type": "code",
   "execution_count": 4,
   "id": "39c32cec-5f7e-43bc-862f-566e0814e951",
   "metadata": {},
   "outputs": [
    {
     "name": "stdout",
     "output_type": "stream",
     "text": [
      "The phrase does not ends with \"Hello\".\n"
     ]
    }
   ],
   "source": [
    "# this time we are using the inbuilt function endswith to check it \n",
    "def ends_with_specific_word(phrase, word):\n",
    "    # Check if the phrase ends with the specified word\n",
    "    if phrase.endswith(word):\n",
    "        return True\n",
    "    else:\n",
    "        return False\n",
    "\n",
    "# Example usage\n",
    "input_phrase = \"Hello, world! How are you today?\"\n",
    "specific_word = \"Hello\"\n",
    "\n",
    "if ends_with_specific_word(input_phrase, specific_word):\n",
    "    print(f'The phrase ends with \"{specific_word}\".')\n",
    "else:\n",
    "    print(f'The phrase does not ends with \"{specific_word}\".')\n"
   ]
  },
  {
   "cell_type": "markdown",
   "id": "53123276-6224-4abc-9b30-ae3cc55f0ec9",
   "metadata": {},
   "source": [
    "19. Convert a string to title case (e.g., \"hello world\" to \"Hello World\")."
   ]
  },
  {
   "cell_type": "code",
   "execution_count": 5,
   "id": "4c01f2c4-da6d-4cae-9bf4-5f456817acb9",
   "metadata": {},
   "outputs": [
    {
     "name": "stdin",
     "output_type": "stream",
     "text": [
      "Enter the string to make it as title case:  arvind\n"
     ]
    },
    {
     "data": {
      "text/plain": [
       "'Arvind'"
      ]
     },
     "execution_count": 5,
     "metadata": {},
     "output_type": "execute_result"
    }
   ],
   "source": [
    "# we can make the string to tile case using the capitalize method of string\n",
    "# lets take the string from the user\n",
    "\n",
    "st1=input(\"Enter the string to make it as title case: \")\n",
    "\n",
    "st1.capitalize()"
   ]
  },
  {
   "cell_type": "markdown",
   "id": "ee63dbb2-ee7b-4183-9f81-4a83407f9665",
   "metadata": {},
   "source": [
    "20. Find the longest word in a string."
   ]
  },
  {
   "cell_type": "code",
   "execution_count": 15,
   "id": "4140523c-3cd5-46c1-855c-f17760d2e1c2",
   "metadata": {},
   "outputs": [
    {
     "name": "stdout",
     "output_type": "stream",
     "text": [
      "The longest word is: sentence\n"
     ]
    }
   ],
   "source": [
    "# to find the longest word , firstly we need to split the string and take their words one by one\n",
    "\n",
    "def find_longest_word(input_string):\n",
    "    # Split the input string into words\n",
    "    words = input_string.split()\n",
    "\n",
    "    # Initialize variables to store the longest word and its length\n",
    "    longest_word = \"\"\n",
    "    max_length = 0\n",
    "\n",
    "    # Iterate through the words and find the longest one\n",
    "    for word in words:\n",
    "        # Remove any punctuation or special characters from the word\n",
    "        clean_word = ''.join(e for e in word if e.isalnum())\n",
    "\n",
    "        # Check if the current word is longer than the previous longest word\n",
    "        if len(clean_word) > max_length:\n",
    "            longest_word = clean_word\n",
    "            max_length = len(clean_word)\n",
    "\n",
    "    return longest_word\n",
    "\n",
    "# Example usage\n",
    "input_string = \"This is a simple example sentence with some long words.\"\n",
    "result = find_longest_word(input_string)\n",
    "print(f\"The longest word is: {result}\")\n"
   ]
  },
  {
   "cell_type": "markdown",
   "id": "32bd123d-62b0-45ef-b090-ad389b550b6c",
   "metadata": {},
   "source": [
    "21. Find the shortest word in a string."
   ]
  },
  {
   "cell_type": "code",
   "execution_count": 16,
   "id": "8d2c2e40-b4b0-4073-9133-dd45c6d8a6f9",
   "metadata": {},
   "outputs": [
    {
     "name": "stdout",
     "output_type": "stream",
     "text": [
      "The shortest word is: a\n"
     ]
    }
   ],
   "source": [
    "def find_shortest_word(input_string):\n",
    "    # Split the input string into words\n",
    "    words = input_string.split()\n",
    "\n",
    "    # Initialize variables to store the shortest word and its length\n",
    "    shortest_word = None\n",
    "    min_length = float('inf')  # Set initial length to positive infinity\n",
    "\n",
    "    # Iterate through the words and find the shortest one\n",
    "    for word in words:\n",
    "        # Remove any punctuation or special characters from the word\n",
    "        clean_word = ''.join(e for e in word if e.isalnum())\n",
    "\n",
    "        # Check if the current word is shorter than the previous shortest word\n",
    "        if len(clean_word) < min_length:\n",
    "            shortest_word = clean_word\n",
    "            min_length = len(clean_word)\n",
    "\n",
    "    return shortest_word\n",
    "\n",
    "# Example usage\n",
    "input_string = \"This is a simple example sentence with some short and long words.\"\n",
    "result = find_shortest_word(input_string)\n",
    "print(f\"The shortest word is: {result}\")\n"
   ]
  },
  {
   "cell_type": "markdown",
   "id": "d1f8f366-b198-462e-af98-de283daa44d0",
   "metadata": {},
   "source": [
    "22. Reverse the order of words in a string."
   ]
  },
  {
   "cell_type": "code",
   "execution_count": 20,
   "id": "1b898975-b3ff-4b2d-83c7-f8b024be0b0b",
   "metadata": {},
   "outputs": [
    {
     "name": "stdout",
     "output_type": "stream",
     "text": [
      "batsman great a is karanje Arvind\n"
     ]
    }
   ],
   "source": [
    "# reversing the order of words in a string\n",
    "\n",
    "st=\"Arvind karanje is a great batsman\"\n",
    "# converting it into list\n",
    "lst=st.split()\n",
    "\n",
    "# then reversing the words in the list\n",
    "lst=lst[::-1]\n",
    "\n",
    "# then converting the reversed words in the list to join as the string\n",
    "st=\" \".join(lst)\n",
    "print(st)"
   ]
  },
  {
   "cell_type": "markdown",
   "id": "6418751b-940f-4785-81b6-63c69690acda",
   "metadata": {},
   "source": [
    "23. Check if a string is alphanumeric."
   ]
  },
  {
   "cell_type": "code",
   "execution_count": 21,
   "id": "28b36adf-db99-4c0a-bba0-b49de02ff8a7",
   "metadata": {},
   "outputs": [
    {
     "name": "stdout",
     "output_type": "stream",
     "text": [
      "The string \"Hello123\" is alphanumeric.\n"
     ]
    }
   ],
   "source": [
    "def is_alphanumeric(input_string):\n",
    "    # Check if the string is alphanumeric\n",
    "    return input_string.isalnum()\n",
    "\n",
    "# Example usage\n",
    "test_string = \"Hello123\"\n",
    "if is_alphanumeric(test_string):\n",
    "    print(f'The string \"{test_string}\" is alphanumeric.')\n",
    "else:\n",
    "    print(f'The string \"{test_string}\" is not alphanumeric.')\n"
   ]
  },
  {
   "cell_type": "markdown",
   "id": "cfad34a7-a971-43b6-ae1a-16e58bc5a492",
   "metadata": {},
   "source": [
    "24. Extract all digits from a string."
   ]
  },
  {
   "cell_type": "code",
   "execution_count": 22,
   "id": "9317da17-e4ad-4af7-b259-cbcb0de17017",
   "metadata": {},
   "outputs": [
    {
     "name": "stdout",
     "output_type": "stream",
     "text": [
      "The extracted digits are: 123456\n"
     ]
    }
   ],
   "source": [
    "def extract_digits(input_string):\n",
    "    # Use a list comprehension to extract digits\n",
    "    digits = [char for char in input_string if char.isdigit()]\n",
    "    \n",
    "    # Join the list of digits to form a single string\n",
    "    result = ''.join(digits)\n",
    "    \n",
    "    return result\n",
    "\n",
    "# Example usage\n",
    "input_string = \"Hello123World456\"\n",
    "result = extract_digits(input_string)\n",
    "print(f\"The extracted digits are: {result}\")\n"
   ]
  },
  {
   "cell_type": "markdown",
   "id": "9fcdf9d4-5eee-480c-a322-891e8174b761",
   "metadata": {},
   "source": [
    "25. Extract all alphabets from a string."
   ]
  },
  {
   "cell_type": "code",
   "execution_count": 25,
   "id": "402119a4-f678-44b0-afe9-16e28476ce1d",
   "metadata": {},
   "outputs": [
    {
     "name": "stdout",
     "output_type": "stream",
     "text": [
      "HelloWorld\n"
     ]
    }
   ],
   "source": [
    "# lets take the same string\n",
    "input_string = \"Hello123World456\"\n",
    "\n",
    "# lets create a list and save all the alphabets in it\n",
    "alphas=[char for char in input_string if char.isalpha()]\n",
    "result=\"\".join(alphas)\n",
    "print(result)"
   ]
  },
  {
   "cell_type": "markdown",
   "id": "eba02394-c7f3-4138-b74a-065d72f2fb65",
   "metadata": {},
   "source": [
    "26. Count the number of uppercase letters in a string."
   ]
  },
  {
   "cell_type": "code",
   "execution_count": 26,
   "id": "5b72f599-6ec6-4407-97fa-69b9234d2cd4",
   "metadata": {},
   "outputs": [
    {
     "name": "stdout",
     "output_type": "stream",
     "text": [
      "The number of uppercase letters is: 4\n"
     ]
    }
   ],
   "source": [
    "def count_uppercase_letters(input_string):\n",
    "    # Use a loop to iterate through each character and count uppercase letters\n",
    "    uppercase_count = sum(1 for char in input_string if char.isupper())\n",
    "    \n",
    "    return uppercase_count\n",
    "\n",
    "# Example usage\n",
    "input_string = \"Hello World! This is an Example.\"\n",
    "result = count_uppercase_letters(input_string)\n",
    "print(f\"The number of uppercase letters is: {result}\")\n"
   ]
  },
  {
   "cell_type": "markdown",
   "id": "928655a9-f1f2-490f-b2a6-6dd9c54c2269",
   "metadata": {},
   "source": [
    "27. Count the number of lowercase letters in a string."
   ]
  },
  {
   "cell_type": "code",
   "execution_count": 27,
   "id": "33e63921-00b5-4da3-ab3b-3e6d40862d6f",
   "metadata": {},
   "outputs": [
    {
     "name": "stdout",
     "output_type": "stream",
     "text": [
      "21\n"
     ]
    }
   ],
   "source": [
    "# lets use the same string and count the lower case letters\n",
    "input_string = \"Hello World! This is an Example.\"\n",
    "\n",
    "lower_counts=sum(1 for char in input_string if char.islower())\n",
    "print(lower_counts)"
   ]
  },
  {
   "cell_type": "markdown",
   "id": "0de6234f-bd64-487d-ae3a-61b13470c87e",
   "metadata": {},
   "source": [
    "28. Swap the case of each character in a string."
   ]
  },
  {
   "cell_type": "code",
   "execution_count": 28,
   "id": "9b5f74dc-e8ed-4d02-bf87-23e880790881",
   "metadata": {},
   "outputs": [
    {
     "name": "stdout",
     "output_type": "stream",
     "text": [
      "The string with swapped case is: hELLO wORLD! tHIS IS AN eXAMPLE.\n"
     ]
    }
   ],
   "source": [
    "def swap_case(input_string):\n",
    "    # Use the swapcase() method to swap the case of each character\n",
    "    result = input_string.swapcase()\n",
    "    \n",
    "    return result\n",
    "\n",
    "# Example usage\n",
    "input_string = \"Hello World! This is an Example.\"\n",
    "result = swap_case(input_string)\n",
    "print(f\"The string with swapped case is: {result}\")\n"
   ]
  },
  {
   "cell_type": "markdown",
   "id": "476b1575-c861-4ebd-b383-9bc41740103c",
   "metadata": {},
   "source": [
    "29. Remove a specific word from a string."
   ]
  },
  {
   "cell_type": "code",
   "execution_count": 30,
   "id": "5126f4ba-d9ea-47a7-b62e-61b1a061c4d0",
   "metadata": {},
   "outputs": [
    {
     "data": {
      "text/plain": [
       "' World! This is an Example.'"
      ]
     },
     "execution_count": 30,
     "metadata": {},
     "output_type": "execute_result"
    }
   ],
   "source": [
    "# using the same string to remove the word\n",
    "input_string = \"Hello World! This is an Example.\"\n",
    "\n",
    "# we don't have any specific method to remove the substring, hence we can use replace method\n",
    "input_string.replace('Hello','')\n",
    "# hence we have removed the world hello from the above string"
   ]
  },
  {
   "cell_type": "markdown",
   "id": "8cdc460c-d54e-4ec6-8c5e-c1a88b154427",
   "metadata": {},
   "source": [
    "30. Check if a string is a valid email address."
   ]
  },
  {
   "cell_type": "code",
   "execution_count": 33,
   "id": "02909859-ef17-4b1a-aa4f-0d3500c84874",
   "metadata": {},
   "outputs": [
    {
     "name": "stdin",
     "output_type": "stream",
     "text": [
      "Enter the emailid:  arvindgkaranje@gmail.com\n"
     ]
    },
    {
     "name": "stdout",
     "output_type": "stream",
     "text": [
      "Its a valid email\n"
     ]
    }
   ],
   "source": [
    "em=input(\"Enter the emailid: \")\n",
    "\n",
    "if \"@gmail.com\" in em:\n",
    "    print(\"Its a valid email\")\n",
    "else:\n",
    "    print(\"Invalid email\")"
   ]
  },
  {
   "cell_type": "markdown",
   "id": "91efd72e-8d02-453a-b86c-aa9a600d857d",
   "metadata": {},
   "source": [
    "31. Extract the username from an email address string."
   ]
  },
  {
   "cell_type": "code",
   "execution_count": 37,
   "id": "f4abda7a-2eb6-4d34-bd7b-1781338cd3ae",
   "metadata": {},
   "outputs": [
    {
     "name": "stdout",
     "output_type": "stream",
     "text": [
      "User name is:  arvindkaranje\n"
     ]
    }
   ],
   "source": [
    "\n",
    "# lets take the email\n",
    "email=\"arvindkaranje@gmail.com\"\n",
    "lst=email.split('@')\n",
    "\n",
    "# storing only the username in the list\n",
    "lst=lst[0]\n",
    "\n",
    "print(\"User name is: \",lst)\n"
   ]
  },
  {
   "cell_type": "markdown",
   "id": "8624141d-be98-4cf5-aa66-2fa713843380",
   "metadata": {},
   "source": [
    "32. Extract the domain name from an email address string."
   ]
  },
  {
   "cell_type": "code",
   "execution_count": 38,
   "id": "d6324bab-e68d-4ba9-9a70-129d59b56b77",
   "metadata": {},
   "outputs": [
    {
     "name": "stdout",
     "output_type": "stream",
     "text": [
      "The domain is: example.com\n"
     ]
    }
   ],
   "source": [
    "def extract_domain(email):\n",
    "    # Split the email address at the \"@\" symbol\n",
    "    parts = email.split(\"@\")\n",
    "    \n",
    "    # Check if the email address is valid\n",
    "    if len(parts) == 2:\n",
    "        # Return the part after \"@\" as the domain\n",
    "        return parts[1]\n",
    "    else:\n",
    "        # Handle invalid email addresses\n",
    "        return \"Invalid email address\"\n",
    "\n",
    "# Example usage\n",
    "email_address = \"user@example.com\"\n",
    "domain = extract_domain(email_address)\n",
    "print(f\"The domain is: {domain}\")\n"
   ]
  },
  {
   "cell_type": "markdown",
   "id": "8f6dab58-588d-415c-a0c7-3d611b2b8a0f",
   "metadata": {},
   "source": [
    "33. Replace multiple spaces in a string with a single space."
   ]
  },
  {
   "cell_type": "code",
   "execution_count": 39,
   "id": "30cd1164-2f2d-4181-9b55-648325ad6a43",
   "metadata": {},
   "outputs": [
    {
     "name": "stdout",
     "output_type": "stream",
     "text": [
      "The string with multiple spaces replaced is:\n",
      "This is an example with multiple spaces.\n"
     ]
    }
   ],
   "source": [
    "# we need to use the re module to perform this operation \n",
    "import re\n",
    "\n",
    "def replace_multiple_spaces(input_string):\n",
    "    # Use regular expression to replace multiple spaces with a single space\n",
    "    result = re.sub(r'\\s+', ' ', input_string)\n",
    "    \n",
    "    return result.strip()  # Remove leading and trailing spaces\n",
    "\n",
    "# Example usage\n",
    "input_string = \"This   is    an   example   with   multiple   spaces.\"\n",
    "output_string = replace_multiple_spaces(input_string)\n",
    "print(f\"The string with multiple spaces replaced is:\\n{output_string}\")\n"
   ]
  },
  {
   "cell_type": "markdown",
   "id": "cc655019-6c9f-44b2-85a4-838d3b1f3c7b",
   "metadata": {},
   "source": [
    "34. Check if a string is a valid URL."
   ]
  },
  {
   "cell_type": "code",
   "execution_count": 40,
   "id": "83c89bd4-1d3f-4367-a68b-dc3a88ba229e",
   "metadata": {},
   "outputs": [
    {
     "name": "stdout",
     "output_type": "stream",
     "text": [
      "The URL \"https://www.example.com\" is valid.\n"
     ]
    }
   ],
   "source": [
    "# To check if a string is a valid URL in Python, you can use the urllib.parse module, which provides the urlparse function\n",
    "from urllib.parse import urlparse\n",
    "\n",
    "def is_valid_url(url):\n",
    "    try:\n",
    "        result = urlparse(url)\n",
    "        return all([result.scheme, result.netloc])\n",
    "    except ValueError:\n",
    "        return False\n",
    "\n",
    "# Example usage\n",
    "url_to_check = \"https://www.example.com\"\n",
    "if is_valid_url(url_to_check):\n",
    "    print(f'The URL \"{url_to_check}\" is valid.')\n",
    "else:\n",
    "    print(f'The URL \"{url_to_check}\" is not valid.')\n"
   ]
  },
  {
   "cell_type": "markdown",
   "id": "61710b4e-d6ae-4b45-b149-f47d04d3ba38",
   "metadata": {},
   "source": [
    "35. Extract the protocol (http or https) from a URL string."
   ]
  },
  {
   "cell_type": "code",
   "execution_count": null,
   "id": "1dcf12da-425d-424a-9d45-fbda0ca24cb6",
   "metadata": {},
   "outputs": [
    {
     "name": "stdout",
     "output_type": "stream",
     "text": [
      "The protocol of the url is:  https\n"
     ]
    }
   ],
   "source": [
    "# we can do that using the split function agai\n",
    "# url example is \n",
    "\n",
    "url=\"https://www.example.com\"\n",
    "\n",
    "lst=url.split(':')\n",
    "print(\"The protocol of the url is: \",lst[0])\n"
   ]
  },
  {
   "cell_type": "markdown",
   "id": "82cba90e-00c6-4681-9e06-1e9db8678588",
   "metadata": {},
   "source": [
    "36. Find the frequency of each character in a string."
   ]
  },
  {
   "cell_type": "code",
   "execution_count": 1,
   "id": "ba24aeff-a5a3-4cc5-8cf8-1b1b9e8b4f5d",
   "metadata": {},
   "outputs": [
    {
     "name": "stdout",
     "output_type": "stream",
     "text": [
      "The frequency of each character is:\n",
      "{'h': 1, 'e': 1, 'l': 3, 'o': 2, ' ': 1, 'w': 1, 'r': 1, 'd': 1}\n"
     ]
    }
   ],
   "source": [
    "def character_frequency(input_string):\n",
    "    # Initialize an empty dictionary to store character frequencies\n",
    "    frequency_dict = {}\n",
    "\n",
    "    # Iterate through each character in the string\n",
    "    for char in input_string:\n",
    "        # Increment the count for the character in the dictionary\n",
    "        frequency_dict[char] = frequency_dict.get(char, 0) + 1\n",
    "\n",
    "    return frequency_dict\n",
    "\n",
    "# Example usage\n",
    "input_string = \"hello world\"\n",
    "result = character_frequency(input_string)\n",
    "print(f\"The frequency of each character is:\\n{result}\")\n"
   ]
  },
  {
   "cell_type": "markdown",
   "id": "91f94730-57b3-44a4-8b2e-11f397eaa4d7",
   "metadata": {},
   "source": [
    "37. Remove all punctuation from a string."
   ]
  },
  {
   "cell_type": "code",
   "execution_count": 2,
   "id": "2415ac63-dbbf-40fb-9e1a-fcf35c309811",
   "metadata": {},
   "outputs": [
    {
     "name": "stdout",
     "output_type": "stream",
     "text": [
      "The string without punctuation is:\n",
      "Hello World This is an example\n"
     ]
    }
   ],
   "source": [
    "import string\n",
    "\n",
    "def remove_punctuation(input_string):\n",
    "    # Create a translation table to map punctuation to None\n",
    "    translation_table = str.maketrans(\"\", \"\", string.punctuation)\n",
    "\n",
    "    # Use translate method to remove punctuation\n",
    "    result = input_string.translate(translation_table)\n",
    "\n",
    "    return result\n",
    "\n",
    "# Example usage\n",
    "input_string = \"Hello, World! This is an example.\"\n",
    "result = remove_punctuation(input_string)\n",
    "print(f\"The string without punctuation is:\\n{result}\")\n"
   ]
  },
  {
   "cell_type": "markdown",
   "id": "97508b9a-709f-47a7-b22b-e7a4b354de96",
   "metadata": {},
   "source": [
    "38. Check if a string contains only digits."
   ]
  },
  {
   "cell_type": "code",
   "execution_count": 11,
   "id": "c0254062-64ef-44cd-9e29-33b3c1ddf42b",
   "metadata": {},
   "outputs": [
    {
     "name": "stdout",
     "output_type": "stream",
     "text": [
      "String contains only digits\n"
     ]
    }
   ],
   "source": [
    "\n",
    "test_string = \"12345\"\n",
    "\n",
    "\n",
    "# using the isdigit function to check it \n",
    "if test_string.isdigit():\n",
    "    print(\"String contains only digits\")\n",
    "else:\n",
    "    print(\"String also contains other alphas\")\n",
    "\n"
   ]
  },
  {
   "cell_type": "markdown",
   "id": "ec2f1975-ff26-4dbb-a800-54c984870489",
   "metadata": {},
   "source": [
    "39. Check if a string contains only alphabets."
   ]
  },
  {
   "cell_type": "code",
   "execution_count": 15,
   "id": "7b7eeadf-88d2-4c82-95c4-98ddf0c08faa",
   "metadata": {},
   "outputs": [
    {
     "name": "stdout",
     "output_type": "stream",
     "text": [
      "String contains only alpha\n"
     ]
    }
   ],
   "source": [
    "# lets take the string\n",
    "\n",
    "tst_str=\"arvindkaranje\"\n",
    "\n",
    "\n",
    "\n",
    "if tst_str.isalpha()==True:\n",
    "    print(\"String contains only alpha\")\n",
    "else:\n",
    "    print(\"String contains non alpha also\")"
   ]
  },
  {
   "cell_type": "markdown",
   "id": "b412616c-bdfa-4c75-bd37-9c1bbe1cad8a",
   "metadata": {},
   "source": [
    "40. Convert a string to a list of characters."
   ]
  },
  {
   "cell_type": "code",
   "execution_count": 17,
   "id": "a5fd7262-90ce-4652-9c1d-da97337b938f",
   "metadata": {},
   "outputs": [
    {
     "name": "stdout",
     "output_type": "stream",
     "text": [
      "['T', 'h', 's', 'i', 's', 'a', 'r', 'v', 'i', 'n', 'd', 'k', 'a', 'r', 'a', 'n', 'j', 'e']\n"
     ]
    }
   ],
   "source": [
    "# converting a string to list of character is simple\n",
    "# we can simply use the list method and can pass the parameter as string \n",
    "\n",
    "str1=\"Thsisarvindkaranje\"\n",
    "lst=list(str1)\n",
    "print(lst)"
   ]
  },
  {
   "cell_type": "markdown",
   "id": "5b12d1a9-f447-4cca-8af0-f251bf4c9635",
   "metadata": {},
   "source": [
    "41. Check if two strings are anagrams."
   ]
  },
  {
   "cell_type": "code",
   "execution_count": 18,
   "id": "3762a973-1954-4d98-9c29-a2bce9f7eea3",
   "metadata": {},
   "outputs": [
    {
     "name": "stdout",
     "output_type": "stream",
     "text": [
      "The strings \"listen\" and \"silent\" are anagrams.\n"
     ]
    }
   ],
   "source": [
    "def are_anagrams(str1, str2):\n",
    "    # Remove spaces and convert to lowercase for case-insensitive comparison\n",
    "    str1 = str1.replace(\" \", \"\").lower()\n",
    "    str2 = str2.replace(\" \", \"\").lower()\n",
    "\n",
    "    # Check if the sorted characters of both strings are the same\n",
    "    return sorted(str1) == sorted(str2)\n",
    "\n",
    "# Example usage\n",
    "string1 = \"listen\"\n",
    "string2 = \"silent\"\n",
    "\n",
    "if are_anagrams(string1, string2):\n",
    "    print(f'The strings \"{string1}\" and \"{string2}\" are anagrams.')\n",
    "else:\n",
    "    print(f'The strings \"{string1}\" and \"{string2}\" are not anagrams.')\n",
    "\n",
    "    "
   ]
  },
  {
   "cell_type": "markdown",
   "id": "9c72569e-d612-478e-875c-8f35af7e9ea2",
   "metadata": {},
   "source": [
    "42. Encode a string using a Caesar cipher."
   ]
  },
  {
   "cell_type": "code",
   "execution_count": 5,
   "id": "05e376ec-829b-4ff8-90bb-e1ca11215fb8",
   "metadata": {},
   "outputs": [
    {
     "name": "stdout",
     "output_type": "stream",
     "text": [
      "The encrypted text is: Khoor, Zruog!\n"
     ]
    }
   ],
   "source": [
    "def caesar_cipher_encode(plaintext, shift):\n",
    "    ciphertext = \"\"\n",
    "\n",
    "    for char in plaintext:\n",
    "        if char.isalpha():\n",
    "            # Determine the case (uppercase or lowercase)\n",
    "            is_upper = char.isupper()\n",
    "\n",
    "            # Shift the character and handle wrap-around\n",
    "            shifted_char = chr((ord(char) - ord('A' if is_upper else 'a') + shift) % 26 + ord('A' if is_upper else 'a'))\n",
    "\n",
    "            ciphertext += shifted_char\n",
    "        else:\n",
    "            # Non-alphabetic characters remain unchanged\n",
    "            ciphertext += char\n",
    "\n",
    "    return ciphertext\n",
    "\n",
    "# Example usage\n",
    "plaintext = \"Hello, World!\"\n",
    "shift = 3\n",
    "encrypted_text = caesar_cipher_encode(plaintext, shift)\n",
    "print(f'The encrypted text is: {encrypted_text}')\n"
   ]
  },
  {
   "cell_type": "markdown",
   "id": "a38644f7-0dfe-4b62-bcbd-c27c25398f64",
   "metadata": {},
   "source": [
    "43. Decode a Caesar cipher encoded string."
   ]
  },
  {
   "cell_type": "code",
   "execution_count": 6,
   "id": "6b0dee33-0e28-40d8-b9e9-b13413c21013",
   "metadata": {},
   "outputs": [
    {
     "name": "stdout",
     "output_type": "stream",
     "text": [
      "The decrypted text is: Hello, World!\n"
     ]
    }
   ],
   "source": [
    "def caesar_cipher_decode(ciphertext, shift):\n",
    "    # Use the caesar_cipher_encode function with a negative shift to decode\n",
    "    return caesar_cipher_encode(ciphertext, -shift)\n",
    "\n",
    "# Example usage\n",
    "encrypted_text = \"Khoor, Zruog!\"\n",
    "shift = 3\n",
    "decrypted_text = caesar_cipher_decode(encrypted_text, shift)\n",
    "print(f'The decrypted text is: {decrypted_text}')\n"
   ]
  },
  {
   "cell_type": "markdown",
   "id": "150ca79b-1478-4b11-822f-8b3c68f9dd21",
   "metadata": {},
   "source": [
    "44. Find the most frequent word in a string."
   ]
  },
  {
   "cell_type": "code",
   "execution_count": 8,
   "id": "09e26953-d1d3-4ca9-8aff-12473f271c57",
   "metadata": {},
   "outputs": [
    {
     "name": "stdout",
     "output_type": "stream",
     "text": [
      "The most frequent word is: is\n"
     ]
    }
   ],
   "source": [
    "def most_frequent_word(input_string):\n",
    "    # Remove punctuation and convert to lowercase\n",
    "    cleaned_string = input_string.lower().replace(\".\", \"\").replace(\",\", \"\")\n",
    "\n",
    "    # Split the string into words\n",
    "    words = cleaned_string.split()\n",
    "\n",
    "    # Create a dictionary to store the frequency of each word\n",
    "    word_frequency = {}\n",
    "\n",
    "    # Iterate through the words and count their frequency\n",
    "    for word in words:\n",
    "        word_frequency[word] = word_frequency.get(word, 0) + 1\n",
    "\n",
    "    # Find the word with the highest frequency\n",
    "    most_frequent = max(word_frequency, key=word_frequency.get)\n",
    "\n",
    "    return most_frequent\n",
    "\n",
    "# Example usage\n",
    "input_string = \"This is an example. An example is a demonstration. This is only an example.\"\n",
    "result = most_frequent_word(input_string)\n",
    "print(f\"The most frequent word is: {result}\")\n"
   ]
  },
  {
   "cell_type": "markdown",
   "id": "38bbb123-2c99-415b-b318-68c1d0708057",
   "metadata": {},
   "source": [
    "45. Find all unique words in a string."
   ]
  },
  {
   "cell_type": "code",
   "execution_count": 16,
   "id": "71c90a5d-e2f5-4880-bbfb-3d3b3fe8a584",
   "metadata": {},
   "outputs": [
    {
     "name": "stdout",
     "output_type": "stream",
     "text": [
      "Following are the unique words\n",
      "this\n",
      "is\n",
      "an\n",
      "example\n",
      "a\n",
      "demonstration\n",
      "only\n"
     ]
    }
   ],
   "source": [
    "# lets take the string\n",
    "input_string = \"This is an example. An example is a demonstration. This is only an example.\"\n",
    "\n",
    "# from this string lets find the unique words\n",
    "\n",
    "\n",
    "# converting all into lower letters\n",
    "input_string=input_string.lower()\n",
    "input_string=input_string.replace('.','')\n",
    "\n",
    "\n",
    "\n",
    "# converting them into words\n",
    "\n",
    "lst=input_string.split()\n",
    "lst2=[]\n",
    "\n",
    "for i in lst:\n",
    "    if i not in lst2:\n",
    "        lst2.append(i)\n",
    "        \n",
    "print(\"Following are the unique words\")\n",
    "for i in lst2:\n",
    "    print(i)\n"
   ]
  },
  {
   "cell_type": "markdown",
   "id": "bd16ca11-3f8d-4b1e-902c-048328690fdd",
   "metadata": {},
   "source": [
    "46. Count the number of syllables in a string."
   ]
  },
  {
   "cell_type": "code",
   "execution_count": 17,
   "id": "acfe0b7c-e475-4cbd-b91d-4cfbd3cfdf85",
   "metadata": {},
   "outputs": [
    {
     "name": "stdout",
     "output_type": "stream",
     "text": [
      "The number of syllables is: 8\n"
     ]
    }
   ],
   "source": [
    "def count_syllables(word):\n",
    "    vowels = \"aeiouyAEIOUY\"\n",
    "    count = 0\n",
    "    in_vowel_sequence = False\n",
    "\n",
    "    for char in word:\n",
    "        if char in vowels:\n",
    "            if not in_vowel_sequence:\n",
    "                count += 1\n",
    "            in_vowel_sequence = True\n",
    "        else:\n",
    "            in_vowel_sequence = False\n",
    "\n",
    "    return count\n",
    "\n",
    "def count_syllables_in_string(input_string):\n",
    "    words = input_string.split()\n",
    "    total_syllables = sum(count_syllables(word) for word in words)\n",
    "    return total_syllables\n",
    "\n",
    "# Example usage\n",
    "input_string = \"Hello, world! How are you doing?\"\n",
    "syllable_count = count_syllables_in_string(input_string)\n",
    "print(f\"The number of syllables is: {syllable_count}\")\n"
   ]
  },
  {
   "cell_type": "markdown",
   "id": "7511ae38-2923-420a-b7a8-1540bf3b72de",
   "metadata": {},
   "source": [
    "47. Check if a string contains any special characters."
   ]
  },
  {
   "cell_type": "code",
   "execution_count": 18,
   "id": "c487a8c5-93c5-434c-b3fb-f09e82da78ab",
   "metadata": {},
   "outputs": [
    {
     "name": "stdout",
     "output_type": "stream",
     "text": [
      "The string \"Hello123\" does not contain special characters.\n"
     ]
    }
   ],
   "source": [
    "def contains_special_characters(input_string):\n",
    "    # Check if any character in the string is not alphanumeric\n",
    "    for char in input_string:\n",
    "        if not char.isalnum():\n",
    "            return True  # The string contains at least one special character\n",
    "\n",
    "    return False  # The string contains only alphanumeric characters\n",
    "\n",
    "# Example usage\n",
    "test_string = \"Hello123\"\n",
    "if contains_special_characters(test_string):\n",
    "    print(f'The string \"{test_string}\" contains special characters.')\n",
    "else:\n",
    "    print(f'The string \"{test_string}\" does not contain special characters.')\n"
   ]
  },
  {
   "cell_type": "markdown",
   "id": "65c6c4f2-842b-41dc-a87f-e87118cd8bd2",
   "metadata": {},
   "source": [
    "48. Remove the nth word from a string"
   ]
  },
  {
   "cell_type": "code",
   "execution_count": 19,
   "id": "40d485fa-03cf-449f-88c8-1ee14afa1bb9",
   "metadata": {},
   "outputs": [
    {
     "name": "stdout",
     "output_type": "stream",
     "text": [
      "The string after removing the 3th word is:\n",
      "This is example sentence.\n"
     ]
    }
   ],
   "source": [
    "def remove_nth_word(input_string, n):\n",
    "    # Split the string into words\n",
    "    words = input_string.split()\n",
    "\n",
    "    # Check if the specified index is valid\n",
    "    if 1 <= n <= len(words):\n",
    "        # Remove the nth word\n",
    "        del words[n - 1]\n",
    "\n",
    "        # Join the words back into a string\n",
    "        result = ' '.join(words)\n",
    "        return result\n",
    "    else:\n",
    "        return \"Invalid index\"\n",
    "\n",
    "# Example usage\n",
    "input_string = \"This is an example sentence.\"\n",
    "index_to_remove = 3\n",
    "result = remove_nth_word(input_string, index_to_remove)\n",
    "print(f\"The string after removing the {index_to_remove}th word is:\\n{result}\")\n"
   ]
  },
  {
   "cell_type": "markdown",
   "id": "29097f28-44ed-49d9-b8d6-c27e82d47ff2",
   "metadata": {},
   "source": [
    "49. Insert a word at the nth position in a string."
   ]
  },
  {
   "cell_type": "code",
   "execution_count": 22,
   "id": "0bdb51ba-1e2c-4bd8-9dba-ee38cb5d77dd",
   "metadata": {},
   "outputs": [
    {
     "name": "stdout",
     "output_type": "stream",
     "text": [
      "['This', 'is', 'not', 'an', 'example', 'sentence.']\n",
      "This is not an example sentence.\n"
     ]
    }
   ],
   "source": [
    "# original string\n",
    "input_string = \"This is an example sentence.\"\n",
    "\n",
    "# inserting the word at nth position \n",
    "\n",
    "# lets convert it into words using split\n",
    "\n",
    "lst=input_string.split()\n",
    "\n",
    "# inserting at 2th position\n",
    "lst.insert(2,'not')\n",
    "print(lst)\n",
    "\n",
    "# then converting it into string\n",
    "\n",
    "input_string=' '.join(lst)\n",
    "print(input_string)"
   ]
  },
  {
   "cell_type": "markdown",
   "id": "f222639c-007d-4ac3-978f-c6b9d5445329",
   "metadata": {},
   "source": [
    "50. Convert a CSV string to a list of lists."
   ]
  },
  {
   "cell_type": "markdown",
   "id": "f44f05d9-1375-4474-8081-a2cd80d7d98c",
   "metadata": {},
   "source": [
    "# 2.LIST BASED QUESTIONS"
   ]
  },
  {
   "cell_type": "markdown",
   "id": "f509abc7-7031-4a70-9dd2-b20f79c29f58",
   "metadata": {},
   "source": [
    "1. Create a list with integers from 1 to 10."
   ]
  },
  {
   "cell_type": "code",
   "execution_count": 23,
   "id": "6f50cf6d-5654-4012-a354-b73fad98082a",
   "metadata": {},
   "outputs": [
    {
     "name": "stdout",
     "output_type": "stream",
     "text": [
      "[1, 2, 3, 4, 5, 6, 7, 8, 9, 10]\n"
     ]
    }
   ],
   "source": [
    "# creating the list with integer values 1 to 10\n",
    "lst1=[1,2,3,4,5,6,7,8,9,10]\n",
    "print(lst1)"
   ]
  },
  {
   "cell_type": "markdown",
   "id": "802aa31b-11a1-4753-8e0b-eeacf89dfa62",
   "metadata": {},
   "source": [
    "2. Find the length of a list without using the `len()` function."
   ]
  },
  {
   "cell_type": "code",
   "execution_count": 26,
   "id": "40efca4d-a067-4cab-bbde-bec165d6ccc4",
   "metadata": {},
   "outputs": [
    {
     "name": "stdout",
     "output_type": "stream",
     "text": [
      "Length of the list is:  10\n"
     ]
    }
   ],
   "source": [
    "# finding the length of the above list without using the len() function \\\n",
    "\n",
    "# using the iteration approach\n",
    "\n",
    "count=0\n",
    "for i in lst1:\n",
    "    count=count+1\n",
    "\n",
    "print(\"Length of the list is: \",count )\n",
    "      "
   ]
  },
  {
   "cell_type": "markdown",
   "id": "15478fa7-e381-4a68-bd8c-65db68568c5b",
   "metadata": {},
   "source": [
    "3. Append an element to the end of a list."
   ]
  },
  {
   "cell_type": "code",
   "execution_count": 27,
   "id": "770bb4be-3172-4486-a994-e4c9a05744a5",
   "metadata": {},
   "outputs": [
    {
     "name": "stdout",
     "output_type": "stream",
     "text": [
      "[1, 2, 3, 4, 5, 6, 7, 8, 9, 10, 11]\n"
     ]
    }
   ],
   "source": [
    "# Appending an element to the end of a list.\n",
    "# using the append method\n",
    "lst1.append(11)\n",
    "print(lst1)"
   ]
  },
  {
   "cell_type": "markdown",
   "id": "b788de69-dc5d-4e26-ba12-b6d1d9816d91",
   "metadata": {},
   "source": [
    "4. Insert an element at a specific index in a list."
   ]
  },
  {
   "cell_type": "code",
   "execution_count": 28,
   "id": "2f692421-a3f0-4898-852a-880cf07e04f1",
   "metadata": {},
   "outputs": [
    {
     "name": "stdout",
     "output_type": "stream",
     "text": [
      "[1, 2, 3, 44, 4, 5, 6, 7, 8, 9, 10, 11]\n"
     ]
    }
   ],
   "source": [
    "# inserting an element at a specific index in a list.\n",
    "# inserting at third position using the insert method\n",
    "lst1.insert(3,44)\n",
    "print(lst1)"
   ]
  },
  {
   "cell_type": "markdown",
   "id": "09b6e706-35be-4bf4-b738-727ee87bdc6b",
   "metadata": {},
   "source": [
    "5. Remove an element from a list by its value."
   ]
  },
  {
   "cell_type": "code",
   "execution_count": 30,
   "id": "4a9a181e-3d0f-4b7e-bdbd-1b41f5d978c7",
   "metadata": {},
   "outputs": [
    {
     "name": "stdout",
     "output_type": "stream",
     "text": [
      "[1, 2, 3, 4, 5, 6, 7, 8, 9, 10, 11]\n"
     ]
    }
   ],
   "source": [
    "# removing an element from a list by its value.\n",
    "\n",
    "# removed 44 from the above list\n",
    "lst1.remove(44)\n",
    "print(lst1)"
   ]
  },
  {
   "cell_type": "markdown",
   "id": "cf788249-0f74-4efd-9371-5d596302c005",
   "metadata": {},
   "source": [
    "6. Remove an element from a list by its index."
   ]
  },
  {
   "cell_type": "code",
   "execution_count": 31,
   "id": "3b17b4c1-aa05-46c1-b9e2-cbe052ffcf2e",
   "metadata": {},
   "outputs": [
    {
     "name": "stdout",
     "output_type": "stream",
     "text": [
      "[2, 3, 4, 5, 6, 7, 8, 9, 10, 11]\n"
     ]
    }
   ],
   "source": [
    "#  removing an element from a list by its index.\n",
    "\n",
    "# using the pop method we are removing the first element of the list\n",
    "# using its index value we are removing it\n",
    "\n",
    "lst1.pop(0)\n",
    "\n",
    "print(lst1)"
   ]
  },
  {
   "cell_type": "markdown",
   "id": "28ef3462-83d0-4894-8700-1622e8ff3a1b",
   "metadata": {},
   "source": [
    "7. Check if an element exists in a list."
   ]
  },
  {
   "cell_type": "code",
   "execution_count": 33,
   "id": "b31596ae-2c65-42de-84e9-c7397b3b0c79",
   "metadata": {},
   "outputs": [
    {
     "name": "stdout",
     "output_type": "stream",
     "text": [
      "3 is available\n"
     ]
    }
   ],
   "source": [
    "# checking if an element exists in a list.\n",
    "\n",
    "# lets check 3 is available in the lst1 or not\n",
    "\n",
    "if 3 in lst1:\n",
    "    print(\"3 is available\")\n",
    "else:\n",
    "    print(\"3 is not present in the lst1\")"
   ]
  },
  {
   "cell_type": "markdown",
   "id": "d53e226f-2ba1-419d-87fc-b1cef870b47b",
   "metadata": {},
   "source": [
    "8. Find the index of the first occurrence of an element in a list."
   ]
  },
  {
   "cell_type": "code",
   "execution_count": 36,
   "id": "9643c643-7454-4fbe-9474-a5a5418ae55a",
   "metadata": {},
   "outputs": [
    {
     "name": "stdout",
     "output_type": "stream",
     "text": [
      "[2, 3, 4, 5, 6, 7, 8, 9, 10, 11]\n",
      "The index of the value 9 is:  7\n"
     ]
    }
   ],
   "source": [
    "# finding the index of the first occurrence of an element in a list.\n",
    "\n",
    "# in this case we are checking the index of the value 9 ,when its firstly occured in the list\n",
    "\n",
    "# using the index() method we can find out this \n",
    "print(lst1)\n",
    "ind=lst1.index(9)\n",
    "\n",
    "print(\"The index of the value 9 is: \",ind)"
   ]
  },
  {
   "cell_type": "markdown",
   "id": "3a412dd0-3f79-4192-a387-fc8edc4730ab",
   "metadata": {},
   "source": [
    "9. Count the occurrences of an element in a list."
   ]
  },
  {
   "cell_type": "code",
   "execution_count": 37,
   "id": "dbdfcaa4-11f8-4da0-975b-f5228c5d888d",
   "metadata": {},
   "outputs": [
    {
     "name": "stdout",
     "output_type": "stream",
     "text": [
      "occurances of the element 10 is:  1\n"
     ]
    }
   ],
   "source": [
    "# counting the occurrences of an element in a list.\n",
    "\n",
    "# lets count the occurances of the element 10 in this case\n",
    "# using the count method\n",
    "\n",
    "oc=lst1.count(10)\n",
    "print(\"occurances of the element 10 is: \",oc)"
   ]
  },
  {
   "cell_type": "markdown",
   "id": "e8fc6829-60a5-4112-88f0-cd4d63b9fb1a",
   "metadata": {},
   "source": [
    "10. Reverse the order of elements in a list."
   ]
  },
  {
   "cell_type": "code",
   "execution_count": 41,
   "id": "9e5b656e-0295-4d2e-b81e-525d548477f7",
   "metadata": {},
   "outputs": [
    {
     "name": "stdout",
     "output_type": "stream",
     "text": [
      "[2, 3, 4, 5, 6, 7, 8, 9, 10, 11]\n",
      "[11, 10, 9, 8, 7, 6, 5, 4, 3, 2]\n"
     ]
    }
   ],
   "source": [
    "# reversing the order of elements in a list.\n",
    "# printing the values of the list before reversing\n",
    "\n",
    "print(lst1)\n",
    "\n",
    "# printing after the reversing with slicing approach\n",
    "print(lst1[::-1])\n"
   ]
  },
  {
   "cell_type": "markdown",
   "id": "c42027fe-5bc7-421e-82cd-5e8e1bc55161",
   "metadata": {},
   "source": [
    "11. Sort a list in ascending order."
   ]
  },
  {
   "cell_type": "code",
   "execution_count": 44,
   "id": "8a7066d9-1d8c-4b6d-bb74-39eb650aeedf",
   "metadata": {},
   "outputs": [
    {
     "name": "stdout",
     "output_type": "stream",
     "text": [
      "[1, 2, 3, 4, 5, 6]\n"
     ]
    }
   ],
   "source": [
    "# sorting a list in ascending order.\n",
    "\n",
    "# creating the new list\n",
    "l1=[5,4,6,3,2,1]\n",
    "\n",
    "# sorting the elemements with the inbuilt method\n",
    "print(sorted(l1))"
   ]
  },
  {
   "cell_type": "markdown",
   "id": "d635cd05-fb87-4ae2-ba81-39084d593e33",
   "metadata": {},
   "source": [
    "12. Sort a list in descending order."
   ]
  },
  {
   "cell_type": "code",
   "execution_count": 51,
   "id": "5098a961-041c-4857-9b8b-fca7e14f334c",
   "metadata": {},
   "outputs": [
    {
     "data": {
      "text/plain": [
       "[6, 5, 4, 3, 2, 1]"
      ]
     },
     "execution_count": 51,
     "metadata": {},
     "output_type": "execute_result"
    }
   ],
   "source": [
    "# sorting the list in descending order\n",
    "\n",
    "l2=[1,2,3,4,5,6]\n",
    "\n",
    "sorted(l2,reverse=True)"
   ]
  },
  {
   "cell_type": "markdown",
   "id": "52340117-7e39-4a59-affa-4e3b953803ca",
   "metadata": {},
   "source": [
    "13. Create a list of even numbers from 1 to 20."
   ]
  },
  {
   "cell_type": "code",
   "execution_count": 52,
   "id": "0196dbe5-4e5a-42b5-9b0c-a5d32b0ee161",
   "metadata": {},
   "outputs": [
    {
     "name": "stdout",
     "output_type": "stream",
     "text": [
      "[2, 4, 6, 8, 10, 12, 14, 16, 18, 20]\n"
     ]
    }
   ],
   "source": [
    "# creating a list of even numbers from 1 to 20.\n",
    "\n",
    "# using the list comprehension\n",
    "\n",
    "l3=[i for i in range(1,21) if i%2==0]\n",
    "print(l3)"
   ]
  },
  {
   "cell_type": "markdown",
   "id": "8174087d-d6a1-406b-bf31-d92fdd967406",
   "metadata": {},
   "source": [
    "14. Create a list of odd numbers from 1 to 20."
   ]
  },
  {
   "cell_type": "code",
   "execution_count": 53,
   "id": "c610d331-65c5-41fd-83f2-db03c0111b3c",
   "metadata": {},
   "outputs": [
    {
     "name": "stdout",
     "output_type": "stream",
     "text": [
      "[1, 3, 5, 7, 9, 11, 13, 15, 17, 19]\n"
     ]
    }
   ],
   "source": [
    "# Creating a list of odd numbers from 1 to 20.\n",
    "\n",
    "# using the same approach as above\n",
    "\n",
    "l4=[i for i in range(1,20) if i%2!=0]\n",
    "print(l4)"
   ]
  },
  {
   "cell_type": "markdown",
   "id": "c630743c-012a-4eee-a1f9-e5bd81ed5266",
   "metadata": {},
   "source": [
    "15. Find the sum of all elements in a list."
   ]
  },
  {
   "cell_type": "code",
   "execution_count": 54,
   "id": "42ef6a5c-9993-4083-ba03-6d62ff62f6b2",
   "metadata": {},
   "outputs": [
    {
     "name": "stdout",
     "output_type": "stream",
     "text": [
      "100\n"
     ]
    }
   ],
   "source": [
    "# finding the sum of all elements , to the above l4 list\n",
    "\n",
    "print(sum(l4))"
   ]
  },
  {
   "cell_type": "markdown",
   "id": "c67668e1-58e1-4f77-a42f-c09fc742aa43",
   "metadata": {},
   "source": [
    "16. Find the maximum value in a list."
   ]
  },
  {
   "cell_type": "code",
   "execution_count": 55,
   "id": "ba5ded29-fc3d-4961-81e9-5f71e07131f0",
   "metadata": {},
   "outputs": [
    {
     "name": "stdout",
     "output_type": "stream",
     "text": [
      "19\n"
     ]
    }
   ],
   "source": [
    "# finding the maximum value of the above mention list\n",
    "\n",
    "print(max(l4))"
   ]
  },
  {
   "cell_type": "markdown",
   "id": "41937237-a277-4e7d-a939-80b15ee1f7fb",
   "metadata": {},
   "source": [
    "17. Find the minimum value in a list."
   ]
  },
  {
   "cell_type": "code",
   "execution_count": 56,
   "id": "36f7133a-d39c-4985-a211-bf8f1a9bb776",
   "metadata": {},
   "outputs": [
    {
     "name": "stdout",
     "output_type": "stream",
     "text": [
      "1\n"
     ]
    }
   ],
   "source": [
    "# finding the minimum value of the list using the min method\n",
    "print(min(l4))"
   ]
  },
  {
   "cell_type": "markdown",
   "id": "3baf5480-0efe-48ef-a86d-20fdb9b8b313",
   "metadata": {},
   "source": [
    "18. Create a list of squares of numbers from 1 to 10."
   ]
  },
  {
   "cell_type": "code",
   "execution_count": 57,
   "id": "bd9edfef-83fc-4bd6-9ee3-4f22c4118bea",
   "metadata": {},
   "outputs": [
    {
     "name": "stdout",
     "output_type": "stream",
     "text": [
      "[1, 4, 9, 16, 25, 36, 49, 64, 81, 100]\n"
     ]
    }
   ],
   "source": [
    "# creating the list of squares of numbers from 1 to 10\n",
    "\n",
    "l5=[i*i for i in range(1,11) ]\n",
    "print(l5)"
   ]
  },
  {
   "cell_type": "markdown",
   "id": "fd0b923a-2ca9-4e1e-9a3a-f8dfbf63bb4b",
   "metadata": {},
   "source": [
    "19. Create a list of random numbers."
   ]
  },
  {
   "cell_type": "code",
   "execution_count": 1,
   "id": "1545199c-6e5d-45b7-b4fc-ca562bb2f3c5",
   "metadata": {},
   "outputs": [
    {
     "name": "stdout",
     "output_type": "stream",
     "text": [
      "A list of 5 random numbers between 1 and 100: [51, 34, 53, 19, 14]\n"
     ]
    }
   ],
   "source": [
    "import random\n",
    "\n",
    "def generate_random_numbers_list(size, start_range, end_range):\n",
    "    # Generate a list of random numbers\n",
    "    random_numbers = [random.randint(start_range, end_range) for _ in range(size)]\n",
    "    return random_numbers\n",
    "\n",
    "# Example usage\n",
    "list_size = 5\n",
    "start_range = 1\n",
    "end_range = 100\n",
    "random_numbers_list = generate_random_numbers_list(list_size, start_range, end_range)\n",
    "\n",
    "print(f\"A list of {list_size} random numbers between {start_range} and {end_range}: {random_numbers_list}\")\n"
   ]
  },
  {
   "cell_type": "markdown",
   "id": "c06950dd-9a43-48fc-82af-43e57d393f32",
   "metadata": {},
   "source": [
    "20. Remove duplicates from a list."
   ]
  },
  {
   "cell_type": "code",
   "execution_count": 6,
   "id": "71ff57c7-0adb-4d36-8f66-6fe2e57f1496",
   "metadata": {},
   "outputs": [
    {
     "name": "stdout",
     "output_type": "stream",
     "text": [
      "[1, 2, 3, 4, 5, 6, 7]\n"
     ]
    }
   ],
   "source": [
    "# Removing duplicates from a list.\n",
    "\n",
    "lst1=[1,2,3,3,4,5,5,6,7]\n",
    "\n",
    "# creating one more list as a refernce \n",
    "lst2=[]\n",
    "\n",
    "for i in lst1:\n",
    "    if i in lst2:\n",
    "        lst1.remove(i)\n",
    "    else:\n",
    "        lst2.append(i)\n",
    " \n",
    "\n",
    "\n",
    "print(lst1)\n"
   ]
  },
  {
   "cell_type": "markdown",
   "id": "f3dbf8ff-ce56-4640-8439-279e592ea174",
   "metadata": {},
   "source": [
    " 21. Find the common elements between two lists."
   ]
  },
  {
   "cell_type": "code",
   "execution_count": 7,
   "id": "4f26657e-47a3-41c7-8675-7f6df1f39ee7",
   "metadata": {},
   "outputs": [
    {
     "name": "stdout",
     "output_type": "stream",
     "text": [
      "Common elements of the list a and b are: \n",
      "3\n",
      "4\n"
     ]
    }
   ],
   "source": [
    "# finding the common elements between two lists a and b\n",
    "a=[1,2,3,4]\n",
    "b=[3,4,5,6]\n",
    "\n",
    "# creating one more list to store all the common elements from the both list\n",
    "c=[]\n",
    "\n",
    "for i in a:\n",
    "    if i in b:\n",
    "        c.append(i)\n",
    "        \n",
    "print(\"Common elements of the list a and b are: \")\n",
    "for j in c:\n",
    "    print(j)\n",
    "        "
   ]
  },
  {
   "cell_type": "markdown",
   "id": "ca4f8735-e8fc-48b2-96fa-b32660b2c815",
   "metadata": {},
   "source": [
    "22. Find the difference between two lists."
   ]
  },
  {
   "cell_type": "code",
   "execution_count": 10,
   "id": "fb1700e1-62d7-4894-af70-92cad8c58547",
   "metadata": {},
   "outputs": [
    {
     "name": "stdout",
     "output_type": "stream",
     "text": [
      "Difference using set difference method: [1, 2]\n",
      "Difference using list comprehension: [1, 2]\n"
     ]
    }
   ],
   "source": [
    "def find_difference_using_set(list1, list2):\n",
    "    # Using set difference method\n",
    "    difference_set = set(list1) - set(list2)\n",
    "    return list(difference_set)\n",
    "\n",
    "def find_difference_using_list_comprehension(list1, list2):\n",
    "    # Using list comprehension\n",
    "    difference_list = [item for item in list1 if item not in list2]\n",
    "    return difference_list\n",
    "\n",
    "# Example lists\n",
    "list_a = [1, 2, 3, 4, 5]\n",
    "list_b = [3, 4, 5, 6, 7]\n",
    "\n",
    "# Using set difference\n",
    "difference_set_method = find_difference_using_set(list_a, list_b)\n",
    "print(f\"Difference using set difference method: {difference_set_method}\")\n",
    "\n",
    "# Using list comprehension\n",
    "difference_list_comprehension = find_difference_using_list_comprehension(list_a, list_b)\n",
    "print(f\"Difference using list comprehension: {difference_list_comprehension}\")\n"
   ]
  },
  {
   "cell_type": "markdown",
   "id": "9ec107d5-8ffd-4be3-b33a-6c8cf611f0dc",
   "metadata": {},
   "source": [
    "23. Merge two lists."
   ]
  },
  {
   "cell_type": "code",
   "execution_count": 11,
   "id": "c80c0284-656b-4105-88ce-a3dab36c3eef",
   "metadata": {},
   "outputs": [
    {
     "name": "stdout",
     "output_type": "stream",
     "text": [
      "[1, 2, 3, 4, 5, 6, 7, 8]\n"
     ]
    }
   ],
   "source": [
    "# merging the elements of two lists\n",
    "\n",
    "m=[1,2,3,4]\n",
    "n=[5,6,7,8]\n",
    "\n",
    "# merged list is new list\n",
    "merged=m+n\n",
    "print(merged)"
   ]
  },
  {
   "cell_type": "markdown",
   "id": "ab74cdac-aaac-4690-83d1-5259257a02b2",
   "metadata": {},
   "source": [
    "24. Multiply all elements in a list by 2."
   ]
  },
  {
   "cell_type": "code",
   "execution_count": 18,
   "id": "444fc161-d607-46fd-8409-b1bc88f58560",
   "metadata": {},
   "outputs": [
    {
     "name": "stdout",
     "output_type": "stream",
     "text": [
      "[4, 6, 8, 10]\n"
     ]
    }
   ],
   "source": [
    "# muliplying all  elements in a list by 2\n",
    "\n",
    "l=[2,3,4,5]\n",
    "\n",
    "for i in range(len(l)):\n",
    "    l[i]=l[i]*2\n",
    " \n",
    "# printing the values of the list after multipliying them with 2\n",
    "print(l)    "
   ]
  },
  {
   "cell_type": "markdown",
   "id": "105841be-ea70-4bf6-9c14-0d0eaa049db8",
   "metadata": {},
   "source": [
    "25. Filter out all even numbers from a list."
   ]
  },
  {
   "cell_type": "code",
   "execution_count": 22,
   "id": "4098789d-b225-4dd8-807d-7cffb57b99c7",
   "metadata": {},
   "outputs": [
    {
     "name": "stdout",
     "output_type": "stream",
     "text": [
      "[2, 4, 6, 8, 10]\n"
     ]
    }
   ],
   "source": [
    "# filtering the even numbers from the list using the filter and lambda function \n",
    "\n",
    "lst=[1,2,3,4,5,6,7,8,9,10]\n",
    "\n",
    "# now we are using the another list in which we are filtering only the even numbers\n",
    "\n",
    "evens=list(filter(lambda a:a%2==0,lst))\n",
    "print(evens)"
   ]
  },
  {
   "cell_type": "markdown",
   "id": "8acddd0e-5070-4d18-bbd1-d65bab142872",
   "metadata": {},
   "source": [
    "26. Convert a list of strings to a list of integers."
   ]
  },
  {
   "cell_type": "code",
   "execution_count": 24,
   "id": "0c02f15e-048b-4bff-9496-d673e7123dc6",
   "metadata": {},
   "outputs": [
    {
     "name": "stdout",
     "output_type": "stream",
     "text": [
      "[1, 2, 3, 4, 5]\n"
     ]
    }
   ],
   "source": [
    "lst=[\"1\",\"2\",\"3\",\"4\",\"5\"]\n",
    "\n",
    "# using the list comprehension to store list of integer values from string values\n",
    "\n",
    "int_lst=[int(i) for i in lst]\n",
    "print(int_lst)"
   ]
  },
  {
   "cell_type": "markdown",
   "id": "6e114137-215e-4acf-8909-c88bb6202851",
   "metadata": {},
   "source": [
    "27. Convert a list of integers to a list of strings."
   ]
  },
  {
   "cell_type": "code",
   "execution_count": 25,
   "id": "8f54bba3-fe6a-4b8d-9b34-2ae3c54d863e",
   "metadata": {},
   "outputs": [
    {
     "name": "stdout",
     "output_type": "stream",
     "text": [
      "Printing the values of the converting string list\n",
      "['1', '2', '3', '4', '5']\n"
     ]
    }
   ],
   "source": [
    "# now we will use the same converted integer list and convert that into the string list\n",
    "\n",
    "str_lst=[str(i) for i in int_lst]\n",
    "\n",
    "print(\"Printing the values of the converting string list\")\n",
    "print(str_lst)"
   ]
  },
  {
   "cell_type": "markdown",
   "id": "d36212af-fa97-484a-860b-110ae51b1ff9",
   "metadata": {},
   "source": [
    "28. Flatten a nested list."
   ]
  },
  {
   "cell_type": "code",
   "execution_count": 26,
   "id": "aab0485b-f5e2-4961-b1b9-b1eaf7f2466e",
   "metadata": {},
   "outputs": [
    {
     "name": "stdout",
     "output_type": "stream",
     "text": [
      "Original nested list: [1, [2, 3, [4, 5]], 6, [7, 8]]\n",
      "Flattened list: [1, 2, 3, 4, 5, 6, 7, 8]\n"
     ]
    }
   ],
   "source": [
    "def flatten_list(nested_list):\n",
    "    flattened = []\n",
    "    for item in nested_list:\n",
    "        if isinstance(item, list):\n",
    "            flattened.extend(flatten_list(item))\n",
    "        else:\n",
    "            flattened.append(item)\n",
    "    return flattened\n",
    "\n",
    "# Example nested list\n",
    "nested_list = [1, [2, 3, [4, 5]], 6, [7, 8]]\n",
    "\n",
    "# Flatten the nested list\n",
    "flattened_list = flatten_list(nested_list)\n",
    "\n",
    "print(f\"Original nested list: {nested_list}\")\n",
    "print(f\"Flattened list: {flattened_list}\")\n"
   ]
  },
  {
   "cell_type": "markdown",
   "id": "a80a9b9a-4163-4b4b-97a2-9fae3a5de81e",
   "metadata": {},
   "source": [
    "29. Create a list of the first 10 Fibonacci numbers.|"
   ]
  },
  {
   "cell_type": "code",
   "execution_count": 27,
   "id": "f7ecc61f-8561-4f31-b6f4-3a8630fdc23d",
   "metadata": {},
   "outputs": [
    {
     "name": "stdout",
     "output_type": "stream",
     "text": [
      "The first 10 Fibonacci numbers: [0, 1, 1, 2, 3, 5, 8, 13, 21, 34]\n"
     ]
    }
   ],
   "source": [
    "# creating a list of the first 10 Fibonacci numbers.\n",
    "\n",
    "# 0 1 1 2 3 5 8 13 21 34\n",
    "\n",
    "def generate_fibonacci(n):\n",
    "    fibonacci_numbers = [0, 1]\n",
    "\n",
    "    while len(fibonacci_numbers) < n:\n",
    "        next_number = fibonacci_numbers[-1] + fibonacci_numbers[-2]\n",
    "        fibonacci_numbers.append(next_number)\n",
    "\n",
    "    return fibonacci_numbers[:n]\n",
    "\n",
    "# Generate the first 10 Fibonacci numbers\n",
    "first_10_fibonacci = generate_fibonacci(10)\n",
    "\n",
    "print(f\"The first 10 Fibonacci numbers: {first_10_fibonacci}\")\n",
    "\n"
   ]
  },
  {
   "cell_type": "markdown",
   "id": "bcf465ff-f74e-46cf-87df-a0ab20258668",
   "metadata": {},
   "source": [
    "30. Check if a list is sorted."
   ]
  },
  {
   "cell_type": "code",
   "execution_count": 29,
   "id": "c02ebacc-2257-4f7a-b24f-202ab0c69f72",
   "metadata": {},
   "outputs": [
    {
     "name": "stdout",
     "output_type": "stream",
     "text": [
      "List is sorted\n"
     ]
    }
   ],
   "source": [
    "l=[1,2,3,4,5]\n",
    "\n",
    "# checing the list is sorted or not\n",
    "l1=sorted(l)\n",
    "\n",
    "if l==l1:\n",
    "    print(\"List is sorted\")\n",
    "else:\n",
    "    print(\"List elements are not sorted\")"
   ]
  },
  {
   "cell_type": "markdown",
   "id": "2156eeae-205f-480c-abb4-947078984e1d",
   "metadata": {},
   "source": [
    "31. Rotate a list to the left by `n` positions."
   ]
  },
  {
   "cell_type": "code",
   "execution_count": 30,
   "id": "6c9e2fa0-922e-4875-aa7f-b21d97fcb13f",
   "metadata": {},
   "outputs": [
    {
     "name": "stdout",
     "output_type": "stream",
     "text": [
      "Original list: [1, 2, 3, 4, 5]\n",
      "Rotated list to the left by 2 positions: [3, 4, 5, 1, 2]\n"
     ]
    }
   ],
   "source": [
    "def rotate_left(lst, n):\n",
    "    n = n % len(lst)  # Ensure that n is within the length of the list\n",
    "    rotated_list = lst[n:] + lst[:n]\n",
    "    return rotated_list\n",
    "\n",
    "# Example list\n",
    "original_list = [1, 2, 3, 4, 5]\n",
    "\n",
    "# Rotate the list to the left by 2 positions\n",
    "rotated_list = rotate_left(original_list, 2)\n",
    "\n",
    "print(f\"Original list: {original_list}\")\n",
    "print(f\"Rotated list to the left by 2 positions: {rotated_list}\")\n"
   ]
  },
  {
   "cell_type": "markdown",
   "id": "c294e409-e8b9-47da-82fd-967f2886e28b",
   "metadata": {},
   "source": [
    "32. Rotate a list to the right by `n` positions."
   ]
  },
  {
   "cell_type": "code",
   "execution_count": 32,
   "id": "41b8a913-ad93-4df8-9ca8-45d9a14d44fd",
   "metadata": {},
   "outputs": [
    {
     "name": "stdout",
     "output_type": "stream",
     "text": [
      "Original list: [1, 2, 3, 4, 5]\n",
      "Rotated list to the right by 2 positions: [4, 5, 1, 2, 3]\n"
     ]
    }
   ],
   "source": [
    "def rotate_right(lst, n):\n",
    "    n = n % len(lst)  # Ensure that n is within the length of the list\n",
    "    rotated_list = lst[-n:] + lst[:-n]\n",
    "    return rotated_list\n",
    "\n",
    "# Example list\n",
    "original_list = [1, 2, 3, 4, 5]\n",
    "\n",
    "# Rotate the list to the right by 2 positions\n",
    "rotated_list = rotate_right(original_list, 2)\n",
    "\n",
    "print(f\"Original list: {original_list}\")\n",
    "print(f\"Rotated list to the right by 2 positions: {rotated_list}\")\n"
   ]
  },
  {
   "cell_type": "markdown",
   "id": "bca05759-9a22-443d-8b12-0445ea2c9610",
   "metadata": {},
   "source": [
    "33. Create a list of prime numbers up to 50."
   ]
  },
  {
   "cell_type": "code",
   "execution_count": 33,
   "id": "99f3d9a7-be5d-4137-a9a7-02abf1040149",
   "metadata": {},
   "outputs": [
    {
     "name": "stdout",
     "output_type": "stream",
     "text": [
      "Prime numbers up to 50: [2, 3, 5, 7, 11, 13, 17, 19, 23, 29, 31, 37, 41, 43, 47]\n"
     ]
    }
   ],
   "source": [
    "# creating the list of prime numbers upto 50\n",
    "def is_prime(number):\n",
    "    if number < 2:\n",
    "        return False\n",
    "    for i in range(2, int(number**0.5) + 1):\n",
    "        if number % i == 0:\n",
    "            return False\n",
    "    return True\n",
    "\n",
    "def generate_primes_up_to(limit):\n",
    "    prime_numbers = [num for num in range(2, limit) if is_prime(num)]\n",
    "    return prime_numbers\n",
    "\n",
    "# Generate a list of prime numbers up to 50\n",
    "primes_up_to_50 = generate_primes_up_to(50)\n",
    "\n",
    "print(f\"Prime numbers up to 50: {primes_up_to_50}\")\n"
   ]
  },
  {
   "cell_type": "markdown",
   "id": "a836e3a9-d411-4106-89c2-a416999ccf02",
   "metadata": {},
   "source": [
    "34. Split a list into chunks of size `n`."
   ]
  },
  {
   "cell_type": "code",
   "execution_count": 34,
   "id": "f44bf529-efbf-4b20-9df8-269a8c426579",
   "metadata": {},
   "outputs": [
    {
     "name": "stdout",
     "output_type": "stream",
     "text": [
      "Original list: [1, 2, 3, 4, 5, 6, 7, 8, 9, 10]\n",
      "List split into chunks of size 3: [[1, 2, 3], [4, 5, 6], [7, 8, 9], [10]]\n"
     ]
    }
   ],
   "source": [
    "# Split a list into chunks of size `n`\n",
    "\n",
    "def split_into_chunks(lst, n):\n",
    "    chunked_list = [lst[i:i + n] for i in range(0, len(lst), n)]\n",
    "    return chunked_list\n",
    "\n",
    "# Example list\n",
    "original_list = [1, 2, 3, 4, 5, 6, 7, 8, 9, 10]\n",
    "\n",
    "# Split the list into chunks of size 3\n",
    "chunks_of_three = split_into_chunks(original_list, 3)\n",
    "\n",
    "print(f\"Original list: {original_list}\")\n",
    "print(f\"List split into chunks of size 3: {chunks_of_three}\")\n"
   ]
  },
  {
   "cell_type": "markdown",
   "id": "bfd0086f-d7d7-440f-bb05-26c742fcb2d2",
   "metadata": {},
   "source": [
    "35. Find the second largest number in a list."
   ]
  },
  {
   "cell_type": "code",
   "execution_count": 36,
   "id": "5ba34de0-2d7d-49bb-ad66-31577f057f8e",
   "metadata": {},
   "outputs": [
    {
     "name": "stdout",
     "output_type": "stream",
     "text": [
      "[1, 5, 6, 11, 22, 33, 42, 44, 77, 88, 454, 6676]\n",
      "Second largest number in this list is:  454\n"
     ]
    }
   ],
   "source": [
    "# finding the second largest number in the list\n",
    "\n",
    "# creating the list with some values\n",
    "\n",
    "lst=[22,454,1,42,5,6,11,6676,44,77,88,33]\n",
    "\n",
    "# firstly we are sorting the list\n",
    "\n",
    "lst=sorted(lst)\n",
    "print(lst)\n",
    "\n",
    "# now we are checking the second laregest number with the indexing \n",
    "print(\"Second largest number in this list is: \",lst[-2])"
   ]
  },
  {
   "cell_type": "markdown",
   "id": "9a4950ab-7feb-4d16-b392-40c8a2bff088",
   "metadata": {},
   "source": [
    "36. Replace every element in a list with its square."
   ]
  },
  {
   "cell_type": "code",
   "execution_count": 2,
   "id": "40d088dc-b370-4fdd-a020-46f359d2e434",
   "metadata": {},
   "outputs": [
    {
     "name": "stdout",
     "output_type": "stream",
     "text": [
      "[4, 9, 16, 25, 36, 49, 64]\n"
     ]
    }
   ],
   "source": [
    "# Replacing every element in a list with its square.\n",
    "\n",
    "# creating the list\n",
    "a=[2,3,4,5,6,7,8]\n",
    "\n",
    "# replacing the values with square \n",
    "for i in range(len(a)):\n",
    "    a[i]=a[i]*a[i]\n",
    "    \n",
    "print(a)    "
   ]
  },
  {
   "cell_type": "markdown",
   "id": "eb265b4f-7795-46ed-b449-23f660b8037b",
   "metadata": {},
   "source": [
    "37. Convert a list to a dictionary where list elements become keys and their\n",
    "indices become values."
   ]
  },
  {
   "cell_type": "code",
   "execution_count": 14,
   "id": "cafa4fff-c58c-4a81-b9d5-df983c5441d9",
   "metadata": {},
   "outputs": [
    {
     "name": "stdout",
     "output_type": "stream",
     "text": [
      "{2: 0, 3: 1, 4: 2, 5: 3, 6: 4, 7: 5, 8: 6}\n"
     ]
    }
   ],
   "source": [
    "# Converting a list to a dictionary where list elements become keys and their indices become values.\n",
    "\n",
    "# creating the list\n",
    "a=[2,3,4,5,6,7,8]\n",
    "\n",
    "\n",
    "\n",
    "# creating the empty dictionary\n",
    "dict1={}\n",
    "\n",
    "\n",
    "for i in a:\n",
    "    dict1[i]=a.index(i)\n",
    "    \n",
    "# we have converted the list of elements into dictonary keys and their indices as values     \n",
    "print(dict1)    \n",
    "    "
   ]
  },
  {
   "cell_type": "markdown",
   "id": "b15eb4e7-0418-4c68-8dbe-1165a8c6b7c0",
   "metadata": {},
   "source": [
    "38. Shuffle the elements of a list randomly."
   ]
  },
  {
   "cell_type": "code",
   "execution_count": 15,
   "id": "ca618dfc-e35e-45d4-a797-4e9dbfb5e820",
   "metadata": {},
   "outputs": [
    {
     "name": "stdout",
     "output_type": "stream",
     "text": [
      "Original list: [4, 7, 5, 2, 1, 8, 6, 3, 9, 10]\n"
     ]
    }
   ],
   "source": [
    "# shuffling the elements of the list randomly\n",
    "import random\n",
    "\n",
    "# Example list\n",
    "original_list = [1, 2, 3, 4, 5, 6, 7, 8, 9, 10]\n",
    "\n",
    "# Shuffle the list randomly\n",
    "random.shuffle(original_list)\n",
    "\n",
    "print(f\"Original list: {original_list}\")\n"
   ]
  },
  {
   "cell_type": "markdown",
   "id": "753b6129-dd69-4097-9bd1-95263b7c275c",
   "metadata": {},
   "source": [
    "39. Create a list of the first 10 factorial numbers."
   ]
  },
  {
   "cell_type": "code",
   "execution_count": 20,
   "id": "f241cfb8-fdde-466f-9b3d-15c50ce6fd3c",
   "metadata": {},
   "outputs": [
    {
     "name": "stdout",
     "output_type": "stream",
     "text": [
      "[1, 1, 2, 6, 24, 120, 720, 5040, 40320, 362880]\n"
     ]
    }
   ],
   "source": [
    "# Creating a list of the first 10 factorial numbers\n",
    "\n",
    "# defining the functio , with recursion approach we are solving this problem\n",
    "\n",
    "def fact(n):\n",
    "    if n==0 or n==1:\n",
    "        return 1\n",
    "    return n*fact(n-1)\n",
    "\n",
    "f=[fact(i) for i in range(10)]\n",
    "print(f)\n"
   ]
  },
  {
   "cell_type": "markdown",
   "id": "3dbe5be5-e278-47b1-b44d-eae0b082eb25",
   "metadata": {},
   "source": [
    "40. Check if two lists have at least one element in common."
   ]
  },
  {
   "cell_type": "code",
   "execution_count": 23,
   "id": "e680078e-5975-42a9-858b-0b4a96b0b49c",
   "metadata": {},
   "outputs": [
    {
     "name": "stdout",
     "output_type": "stream",
     "text": [
      "List has the element as common 5\n"
     ]
    }
   ],
   "source": [
    "# checking if two lists have at least on element in common\n",
    "\n",
    "# creating two lists\n",
    "a=[1,2,3,4,5]\n",
    "b=[5,6,7,8,9]\n",
    "\n",
    "# comparing \n",
    "for i in a:\n",
    "    if i in b:\n",
    "        print(\"List has the element as common\" ,i)\n",
    "        break\n",
    "else:\n",
    "    print(\"No elements are common in both lists\")"
   ]
  },
  {
   "cell_type": "markdown",
   "id": "e86e0a6f-6d74-45a6-aa61-5b9e6c15c816",
   "metadata": {},
   "source": [
    "41. Remove all elements from a list."
   ]
  },
  {
   "cell_type": "code",
   "execution_count": 26,
   "id": "08b2e565-1e19-43a8-8859-3c791fb01e36",
   "metadata": {},
   "outputs": [
    {
     "name": "stdout",
     "output_type": "stream",
     "text": [
      "[]\n"
     ]
    }
   ],
   "source": [
    "# removing all elements from the list\n",
    "\n",
    "# creating the new list\n",
    "a=[1,2,3,4,5]\n",
    "\n",
    "# now removing all the elements\n",
    "a.clear()\n",
    "print(a)\n",
    "\n"
   ]
  },
  {
   "cell_type": "markdown",
   "id": "fa81edc8-0ebd-4e93-a464-6fc2ac891e85",
   "metadata": {},
   "source": [
    "42. Replace negative numbers in a list with 0."
   ]
  },
  {
   "cell_type": "code",
   "execution_count": 35,
   "id": "a0fbc0b7-9815-42f1-a85a-3ed3ee03051f",
   "metadata": {},
   "outputs": [
    {
     "name": "stdout",
     "output_type": "stream",
     "text": [
      "[-1, -2, 3, 4, 5, 6, -7, -8]\n",
      "[0, 0, 3, 4, 5, 6, 0, 0]\n"
     ]
    }
   ],
   "source": [
    "# Replacing negative numbers in a list with 0.\n",
    "\n",
    "# creating list with few nagative numbers\n",
    "\n",
    "l=[-1,-2,3,4,5,6,-7,-8]\n",
    "\n",
    "# list before replacing negative numbers\n",
    "print(l)\n",
    "\n",
    "\n",
    "for i in l:\n",
    "    if i<0:\n",
    "        l[l.index(i)]=0\n",
    "   \n",
    "# list after replacing nagative numbers\n",
    "print(l)        "
   ]
  },
  {
   "cell_type": "markdown",
   "id": "18ff51a5-ae31-4d8f-b8bd-e21f8fd83bde",
   "metadata": {},
   "source": [
    "43. Convert a string into a list of words."
   ]
  },
  {
   "cell_type": "code",
   "execution_count": 37,
   "id": "d2cc1ed7-1883-47f8-bfa5-92ee28e871b6",
   "metadata": {},
   "outputs": [
    {
     "name": "stdout",
     "output_type": "stream",
     "text": [
      "['This', 'is', 'arvind', 'karanje']\n"
     ]
    }
   ],
   "source": [
    "# converting a string into a list of words using the split functio of string\n",
    "\n",
    "str1=\"This is arvind karanje\"\n",
    "lst=str1.split()\n",
    "\n",
    "# printing the values of the list\n",
    "print(lst)"
   ]
  },
  {
   "cell_type": "markdown",
   "id": "fd30d84d-2043-43bc-a570-aefbacaa398d",
   "metadata": {},
   "source": [
    "44. Convert a list of words into a string."
   ]
  },
  {
   "cell_type": "code",
   "execution_count": 39,
   "id": "5ef87515-52a4-4c64-bbdc-98680f20e047",
   "metadata": {},
   "outputs": [
    {
     "name": "stdout",
     "output_type": "stream",
     "text": [
      "['This', 'is', 'arvind', 'karanje']\n",
      "This is arvind karanje\n"
     ]
    }
   ],
   "source": [
    "# reversing the same operation \n",
    "# converting lis of words into string\n",
    "\n",
    "# using the same list which we have converted above\n",
    "print(lst)\n",
    "\n",
    "str2=\" \".join(lst)\n",
    "print(str2)"
   ]
  },
  {
   "cell_type": "markdown",
   "id": "125b019c-0e7d-4eac-a0f8-c5ab45fcd856",
   "metadata": {},
   "source": [
    "45. Create a list of the first `n` powers of 2."
   ]
  },
  {
   "cell_type": "code",
   "execution_count": 40,
   "id": "9602c6c0-606b-4ab7-99ea-8c22bc6a44d2",
   "metadata": {},
   "outputs": [
    {
     "name": "stdout",
     "output_type": "stream",
     "text": [
      "The first 5 powers of 2: [1, 2, 4, 8, 16]\n"
     ]
    }
   ],
   "source": [
    "# Creating a list of the first `n` powers of 2.\n",
    "# Generate a list of the first n powers of 2\n",
    "def powers_of_two(n):\n",
    "    return [2**i for i in range(n)]\n",
    "\n",
    "# Example: Get the first 5 powers of 2\n",
    "n = 5\n",
    "powers_list = powers_of_two(n)\n",
    "\n",
    "print(f\"The first {n} powers of 2: {powers_list}\")\n"
   ]
  },
  {
   "cell_type": "markdown",
   "id": "8eb4ed7b-2040-4849-801d-4324a9547b28",
   "metadata": {},
   "source": [
    "46. Find the longest string in a list of strings."
   ]
  },
  {
   "cell_type": "code",
   "execution_count": 41,
   "id": "719981d0-ded2-4e3a-8070-8989ff1f014d",
   "metadata": {},
   "outputs": [
    {
     "name": "stdout",
     "output_type": "stream",
     "text": [
      "The longest string in the list: strawberry\n"
     ]
    }
   ],
   "source": [
    "# finding the longest string in a list of strings.\n",
    "# Example list of strings\n",
    "list_of_strings = [\"apple\", \"banana\", \"kiwi\", \"strawberry\", \"blueberry\"]\n",
    "\n",
    "# Find the longest string\n",
    "longest_string = max(list_of_strings, key=len)\n",
    "\n",
    "print(f\"The longest string in the list: {longest_string}\")\n"
   ]
  },
  {
   "cell_type": "markdown",
   "id": "53ff5c91-b377-494d-b2fa-ecb500bb7b11",
   "metadata": {},
   "source": [
    "47. Find the shortest string in a list of strings."
   ]
  },
  {
   "cell_type": "code",
   "execution_count": 43,
   "id": "6c5ac123-2cb4-48d7-95f3-6ba103240201",
   "metadata": {},
   "outputs": [
    {
     "name": "stdout",
     "output_type": "stream",
     "text": [
      "The shortest string in the list: kiwi\n"
     ]
    }
   ],
   "source": [
    "# Example list of strings\n",
    "list_of_strings = [\"apple\", \"banana\", \"kiwi\", \"strawberry\", \"blueberry\"]\n",
    "\n",
    "# Find the shortest string\n",
    "shortest_string = min(list_of_strings, key=len)\n",
    "\n",
    "print(f\"The shortest string in the list: {shortest_string}\")\n"
   ]
  },
  {
   "cell_type": "markdown",
   "id": "c4445922-a382-4e65-b100-203381857e84",
   "metadata": {},
   "source": [
    "48. Create a list of the first `n` triangular number"
   ]
  },
  {
   "cell_type": "code",
   "execution_count": 42,
   "id": "3da9c2f4-a9f2-40cc-8ee6-7b9fa41a1582",
   "metadata": {},
   "outputs": [
    {
     "name": "stdout",
     "output_type": "stream",
     "text": [
      "The first 5 triangular numbers: [1, 3, 6, 10, 15]\n"
     ]
    }
   ],
   "source": [
    "# Creating a list of the first `n` triangular number\n",
    "# Generate a list of the first n triangular numbers\n",
    "def triangular_numbers(n):\n",
    "    return [(i * (i + 1)) // 2 for i in range(1, n + 1)]\n",
    "\n",
    "# Example: Get the first 5 triangular numbers\n",
    "n = 5\n",
    "triangular_numbers_list = triangular_numbers(n)\n",
    "\n",
    "print(f\"The first {n} triangular numbers: {triangular_numbers_list}\")\n"
   ]
  },
  {
   "cell_type": "markdown",
   "id": "ac70dd47-7f6e-41ba-aa69-e06697f38c57",
   "metadata": {},
   "source": [
    "49. Check if a list contains another list as a subsequence."
   ]
  },
  {
   "cell_type": "code",
   "execution_count": 44,
   "id": "6d43206c-5f93-4cc4-8bd9-5dd7b637e629",
   "metadata": {},
   "outputs": [
    {
     "name": "stdout",
     "output_type": "stream",
     "text": [
      "Is [3, 5, 8] a subsequence of [1, 2, 3, 4, 5, 6, 7, 8, 9, 10]? True\n"
     ]
    }
   ],
   "source": [
    "\n",
    "def is_subsequence(sublist, mainlist):\n",
    "    # Initialize pointers for both lists\n",
    "    sub_pointer, main_pointer = 0, 0\n",
    "\n",
    "    # Iterate through the main list\n",
    "    while sub_pointer < len(sublist) and main_pointer < len(mainlist):\n",
    "        # Check if the current element in the main list matches the current element in the sub list\n",
    "        if sublist[sub_pointer] == mainlist[main_pointer]:\n",
    "            sub_pointer += 1  # Move to the next element in the sub list\n",
    "        main_pointer += 1  # Move to the next element in the main list\n",
    "\n",
    "    # If sub_pointer reaches the end of the sub list, it means all elements were found in order\n",
    "    return sub_pointer == len(sublist)\n",
    "\n",
    "# Example lists\n",
    "main_list = [1, 2, 3, 4, 5, 6, 7, 8, 9, 10]\n",
    "sub_list = [3, 5, 8]\n",
    "\n",
    "# Check if sub_list is a subsequence of main_list\n",
    "result = is_subsequence(sub_list, main_list)\n",
    "\n",
    "print(f\"Is {sub_list} a subsequence of {main_list}? {result}\")\n"
   ]
  },
  {
   "cell_type": "markdown",
   "id": "ebe4acd6-f524-45d9-8963-5fc3c7e250ab",
   "metadata": {},
   "source": [
    "50. Swap two elements in a list by their indices."
   ]
  },
  {
   "cell_type": "code",
   "execution_count": 45,
   "id": "62ebbed4-60ca-4f38-9c49-9f14a172ec8d",
   "metadata": {},
   "outputs": [
    {
     "name": "stdout",
     "output_type": "stream",
     "text": [
      "List after swapping elements: [1, 4, 3, 2, 5]\n"
     ]
    }
   ],
   "source": [
    "# Swaping two elements in a list by their indices.\n",
    "def swap_elements_by_indices(lst, index1, index2):\n",
    "    # Check if indices are within the range of the list\n",
    "    if 0 <= index1 < len(lst) and 0 <= index2 < len(lst):\n",
    "        # Swap elements at the specified indices\n",
    "        lst[index1], lst[index2] = lst[index2], lst[index1]\n",
    "\n",
    "# Example list\n",
    "my_list = [1, 2, 3, 4, 5]\n",
    "\n",
    "# Swap elements at indices 1 and 3\n",
    "swap_elements_by_indices(my_list, 1, 3)\n",
    "\n",
    "print(f\"List after swapping elements: {my_list}\")\n"
   ]
  },
  {
   "cell_type": "markdown",
   "id": "fd49b0f9-e8d2-4c71-9036-e326b82635cf",
   "metadata": {},
   "source": [
    "# TUPLE BASED PRACTICE PROBLEMS"
   ]
  },
  {
   "cell_type": "markdown",
   "id": "0a9605e2-e8e1-4f15-b901-e7854d69da4d",
   "metadata": {},
   "source": [
    "1. Create a tuple with integers from 1 to 5."
   ]
  },
  {
   "cell_type": "code",
   "execution_count": 1,
   "id": "802eeb5b-dd81-4dcc-83a0-3c6b6997cc12",
   "metadata": {},
   "outputs": [
    {
     "name": "stdout",
     "output_type": "stream",
     "text": [
      "(1, 2, 3, 4, 5)\n"
     ]
    }
   ],
   "source": [
    "# creating the tuple with integer values 1 to 5\n",
    "tup1=(1,2,3,4,5)\n",
    "print(tup1)"
   ]
  },
  {
   "cell_type": "markdown",
   "id": "b26afc63-fd88-46c9-88b2-bda1c4806efc",
   "metadata": {},
   "source": [
    "2. Access the third element of a tuple."
   ]
  },
  {
   "cell_type": "code",
   "execution_count": 2,
   "id": "a524f228-e689-4e12-a5e2-3a1f1003e8da",
   "metadata": {},
   "outputs": [
    {
     "name": "stdout",
     "output_type": "stream",
     "text": [
      "3\n"
     ]
    }
   ],
   "source": [
    "# accessing the third element of the above tuple\n",
    "print(tup1[2])\n",
    "# basicaly indexing starts from 0 ,hence the third element is present at the 2nd positio of the tuple"
   ]
  },
  {
   "cell_type": "markdown",
   "id": "c7169617-273b-4c6b-ae5f-d04ae76b9d9b",
   "metadata": {},
   "source": [
    "3. Find the length of a tuple without using the `len()` function."
   ]
  },
  {
   "cell_type": "code",
   "execution_count": 3,
   "id": "71f549bd-6089-4521-8549-c0aa73fc56c3",
   "metadata": {},
   "outputs": [
    {
     "name": "stdout",
     "output_type": "stream",
     "text": [
      "Length of the tuple is:  5\n"
     ]
    }
   ],
   "source": [
    "# finding the length of the above tuple without using the len() function \n",
    "\n",
    "# we are using the iterator approach to do this operation \n",
    "\n",
    "count=0\n",
    "for i in tup1:\n",
    "    count=count+1\n",
    "    \n",
    "print(\"Length of the tuple is: \",count)    "
   ]
  },
  {
   "cell_type": "markdown",
   "id": "331feca9-3114-475b-aa84-074854854e1f",
   "metadata": {},
   "source": [
    "4. Count the occurrences of an element in a tuple."
   ]
  },
  {
   "cell_type": "code",
   "execution_count": 4,
   "id": "2c372b71-c29c-4b44-a0ae-714153e44a8a",
   "metadata": {},
   "outputs": [
    {
     "name": "stdout",
     "output_type": "stream",
     "text": [
      "The element 2 occurs 3 times in the tuple.\n"
     ]
    }
   ],
   "source": [
    "# finding the occurance of the element \n",
    "# Example tuple\n",
    "my_tuple = (1, 2, 3, 2, 4, 2, 5)\n",
    "\n",
    "# Element to count occurrences\n",
    "element_to_count = 2\n",
    "\n",
    "# Count occurrences of the element\n",
    "occurrences = my_tuple.count(element_to_count)\n",
    "\n",
    "print(f\"The element {element_to_count} occurs {occurrences} times in the tuple.\")\n"
   ]
  },
  {
   "cell_type": "markdown",
   "id": "858debd2-3dda-41d5-826d-5ca646ec3309",
   "metadata": {},
   "source": [
    "5. Find the index of the first occurrence of an element in a tuple."
   ]
  },
  {
   "cell_type": "code",
   "execution_count": 5,
   "id": "02d9eda3-495a-482d-a1e8-ea4e33b1e299",
   "metadata": {},
   "outputs": [
    {
     "name": "stdout",
     "output_type": "stream",
     "text": [
      "1\n"
     ]
    }
   ],
   "source": [
    "# we can simply use the index() method of tuple to find the index of a first occurance of \n",
    "# the element in the tuple\n",
    "\n",
    "# lets try to find out the index of 2 , from above tuple\n",
    "\n",
    "# index of first occurance of 2 is \n",
    "print(my_tuple.index(2))"
   ]
  },
  {
   "cell_type": "markdown",
   "id": "d2b4d4a8-b272-433c-b33b-1b108b765c8f",
   "metadata": {},
   "source": [
    "6. Check if an element exists in a tuple."
   ]
  },
  {
   "cell_type": "code",
   "execution_count": 6,
   "id": "8a38ba96-e22a-45fd-9c94-04fe70fe8437",
   "metadata": {},
   "outputs": [
    {
     "name": "stdout",
     "output_type": "stream",
     "text": [
      "3 is available\n"
     ]
    }
   ],
   "source": [
    "# checking if an element is exists in a tuple \n",
    "# lets create a small tuple\n",
    "\n",
    "tp=(1,2,3,4,5)\n",
    "\n",
    "# lets try to check if 3 is available or not\n",
    "\n",
    "if 3 in tp:\n",
    "    print(\"3 is available\")\n",
    "else:\n",
    "    print(\"its not available\")\n",
    "    "
   ]
  },
  {
   "cell_type": "markdown",
   "id": "8a91a85c-dfd5-42a1-941f-300073d1c4ae",
   "metadata": {},
   "source": [
    "7. Convert a tuple to a list."
   ]
  },
  {
   "cell_type": "code",
   "execution_count": 8,
   "id": "c826b0ce-50f7-4178-b9f9-2bd7b8e0ad6c",
   "metadata": {},
   "outputs": [
    {
     "data": {
      "text/plain": [
       "[1, 2, 3, 4, 5]"
      ]
     },
     "execution_count": 8,
     "metadata": {},
     "output_type": "execute_result"
    }
   ],
   "source": [
    "# converting a tuple to list\n",
    "# the above tuple is being converted into list now\n",
    "\n",
    "ll=list(tp)\n",
    "ll"
   ]
  },
  {
   "cell_type": "markdown",
   "id": "8642f946-cecd-4315-91fd-873e38431a26",
   "metadata": {},
   "source": [
    "8. Convert a list to a tuple."
   ]
  },
  {
   "cell_type": "code",
   "execution_count": 9,
   "id": "823fce9d-77c0-4afe-9ae2-3d45ca6ce7bc",
   "metadata": {},
   "outputs": [
    {
     "data": {
      "text/plain": [
       "(1, 2, 3, 4, 5)"
      ]
     },
     "execution_count": 9,
     "metadata": {},
     "output_type": "execute_result"
    }
   ],
   "source": [
    "# converting the same ll list into tuple now\n",
    "\n",
    "tp2=tuple(ll)\n",
    "tp2"
   ]
  },
  {
   "cell_type": "markdown",
   "id": "eb943a5e-c3a0-4eda-8e19-433f0789e8dc",
   "metadata": {},
   "source": [
    "9. Unpack the elements of a tuple into variables."
   ]
  },
  {
   "cell_type": "code",
   "execution_count": 10,
   "id": "83ad8df7-d4ec-4c01-b05a-788cb0e2a0c3",
   "metadata": {},
   "outputs": [
    {
     "name": "stdout",
     "output_type": "stream",
     "text": [
      "1\n",
      "2\n",
      "3\n"
     ]
    }
   ],
   "source": [
    "# unpacking the elements of the tuple into variables\n",
    "\n",
    "# creating the tuple\n",
    "t=(1,2,3)\n",
    "\n",
    "# unpacking the tuple elements as variable \n",
    "v1,v2,v3=t\n",
    "\n",
    "# now printing the values of those 3 variables\n",
    "print(v1)\n",
    "print(v2)\n",
    "print(v3)"
   ]
  },
  {
   "cell_type": "markdown",
   "id": "6d497d4f-f614-4b06-8ef9-fc0daf5510aa",
   "metadata": {},
   "source": [
    "10. Create a tuple of even numbers from 1 to 10."
   ]
  },
  {
   "cell_type": "code",
   "execution_count": 15,
   "id": "77961116-64cf-4a18-99c4-075ee5fb57c1",
   "metadata": {},
   "outputs": [
    {
     "name": "stdout",
     "output_type": "stream",
     "text": [
      "(2, 4, 6, 8, 10)\n"
     ]
    }
   ],
   "source": [
    "# creating the tuple of even numbers from 1 to 10\n",
    "\n",
    "t1=(2, 4, 6, 8, 10)\n",
    "\n",
    "print(t)"
   ]
  },
  {
   "cell_type": "markdown",
   "id": "7d51861b-552e-4bed-a1da-2cb7d916f77a",
   "metadata": {},
   "source": [
    "11. Create a tuple of odd numbers from 1 to 10."
   ]
  },
  {
   "cell_type": "code",
   "execution_count": 16,
   "id": "c7129a4a-9a1a-4176-867a-963dfd943447",
   "metadata": {},
   "outputs": [
    {
     "data": {
      "text/plain": [
       "(1, 3, 5, 7, 9)"
      ]
     },
     "execution_count": 16,
     "metadata": {},
     "output_type": "execute_result"
    }
   ],
   "source": [
    "# creating a tuple of odd numbers\n",
    "t2=(1,3,5,7,9)\n",
    "t2"
   ]
  },
  {
   "cell_type": "markdown",
   "id": "4c577b45-d7e4-4c5f-9f94-0cb92cc7b70e",
   "metadata": {},
   "source": [
    "12. Concatenate two tuples."
   ]
  },
  {
   "cell_type": "code",
   "execution_count": 17,
   "id": "9fd1e195-b0cd-44e7-8341-30dc99316de7",
   "metadata": {},
   "outputs": [
    {
     "name": "stdout",
     "output_type": "stream",
     "text": [
      "(2, 4, 6, 8, 10, 1, 3, 5, 7, 9)\n"
     ]
    }
   ],
   "source": [
    "# concatinating above two tuples\n",
    "# t1 and t2\n",
    "print(t1+t2)"
   ]
  },
  {
   "cell_type": "markdown",
   "id": "db970887-0183-4d04-a3d6-e338ca3e8ce2",
   "metadata": {},
   "source": [
    "13. Repeat a tuple three times."
   ]
  },
  {
   "cell_type": "code",
   "execution_count": 18,
   "id": "5d336536-518c-44e5-a33c-d82111daa04a",
   "metadata": {},
   "outputs": [
    {
     "name": "stdout",
     "output_type": "stream",
     "text": [
      "Original Tuple: (1, 2, 3)\n",
      "Repeated Tuple: (1, 2, 3, 1, 2, 3, 1, 2, 3)\n"
     ]
    }
   ],
   "source": [
    "# repeating the tuple three times\n",
    "# Example tuple\n",
    "my_tuple = (1, 2, 3)\n",
    "\n",
    "# Repeat the tuple three times\n",
    "repeated_tuple = my_tuple * 3\n",
    "\n",
    "# Display the repeated tuple\n",
    "print(f\"Original Tuple: {my_tuple}\")\n",
    "print(f\"Repeated Tuple: {repeated_tuple}\")\n"
   ]
  },
  {
   "cell_type": "markdown",
   "id": "6bff8546-d87e-4f65-8fc5-41239928c3e0",
   "metadata": {},
   "source": [
    "14. Check if a tuple is empty."
   ]
  },
  {
   "cell_type": "code",
   "execution_count": 20,
   "id": "32b597e0-b0b5-48e0-b5b9-cab2f9dd658e",
   "metadata": {},
   "outputs": [
    {
     "name": "stdout",
     "output_type": "stream",
     "text": [
      "The tuple is empty.\n"
     ]
    }
   ],
   "source": [
    "# Example tuple\n",
    "my_tuple = ()\n",
    "\n",
    "# Check if the tuple is empty\n",
    "if len(my_tuple) == 0:\n",
    "    print(\"The tuple is empty.\")\n",
    "else:\n",
    "    print(\"The tuple is not empty.\")\n"
   ]
  },
  {
   "cell_type": "markdown",
   "id": "5c86f06c-323e-415b-b3b9-733dc23c59da",
   "metadata": {},
   "source": [
    "15. Create a nested tuple."
   ]
  },
  {
   "cell_type": "code",
   "execution_count": 23,
   "id": "ab04f300-658a-4600-ba8d-7288d8f3c2be",
   "metadata": {},
   "outputs": [
    {
     "name": "stdout",
     "output_type": "stream",
     "text": [
      "(1, 2, (3, 4))\n"
     ]
    }
   ],
   "source": [
    "# creating the nested tuple\n",
    "nt=(1,2,(3,4))\n",
    "print(nt)"
   ]
  },
  {
   "cell_type": "markdown",
   "id": "43cefee8-bdc2-478d-8db8-531e248688fd",
   "metadata": {},
   "source": [
    "16. Access the first element of a nested tuple."
   ]
  },
  {
   "cell_type": "code",
   "execution_count": 26,
   "id": "eff42cf3-d751-4856-bfa2-6223cdcba057",
   "metadata": {},
   "outputs": [
    {
     "name": "stdout",
     "output_type": "stream",
     "text": [
      "The first element of the nested tuple: 1\n"
     ]
    }
   ],
   "source": [
    "# Example nested tuple\n",
    "nested_tuple = ((1, 2, 3), ('a', 'b', 'c'), ('apple', 'banana', 'cherry'))\n",
    "\n",
    "# Access the first element of the nested tuple\n",
    "first_element = nested_tuple[0][0]\n",
    "\n",
    "# Display the result\n",
    "print(f\"The first element of the nested tuple: {first_element}\")\n"
   ]
  },
  {
   "cell_type": "markdown",
   "id": "81732d83-db23-44f8-89ec-871e1f7654be",
   "metadata": {},
   "source": [
    "17. Create a tuple with a single element."
   ]
  },
  {
   "cell_type": "code",
   "execution_count": 28,
   "id": "407448df-0374-49cc-ad2b-bcd0f0dec1a7",
   "metadata": {},
   "outputs": [
    {
     "name": "stdout",
     "output_type": "stream",
     "text": [
      "(1,)\n"
     ]
    },
    {
     "data": {
      "text/plain": [
       "tuple"
      ]
     },
     "execution_count": 28,
     "metadata": {},
     "output_type": "execute_result"
    }
   ],
   "source": [
    "# creating the tuple with single element\n",
    "t=(1,)\n",
    "print(t)\n",
    "type(t)"
   ]
  },
  {
   "cell_type": "markdown",
   "id": "9e59bfaf-957c-4358-8d5c-83a758fc651a",
   "metadata": {},
   "source": [
    "18. Compare two tuples."
   ]
  },
  {
   "cell_type": "code",
   "execution_count": 29,
   "id": "73820fa9-0ce5-4e34-87e7-0a6ebce9c5e0",
   "metadata": {},
   "outputs": [
    {
     "name": "stdout",
     "output_type": "stream",
     "text": [
      "The tuples are not equal.\n"
     ]
    }
   ],
   "source": [
    "# comparing two tuples\n",
    "# Example tuples\n",
    "tuple1 = (1, 2, 3)\n",
    "tuple2 = (1, 2, 4)\n",
    "\n",
    "# Compare the tuples\n",
    "if tuple1 == tuple2:\n",
    "    print(\"The tuples are equal.\")\n",
    "else:\n",
    "    print(\"The tuples are not equal.\")\n"
   ]
  },
  {
   "cell_type": "markdown",
   "id": "ac31c412-fce9-40a2-b0ce-1ee506c8fee9",
   "metadata": {},
   "source": [
    "19. Delete a tuple."
   ]
  },
  {
   "cell_type": "code",
   "execution_count": 36,
   "id": "2abef275-7dce-42f5-9252-0fe880cecb7f",
   "metadata": {},
   "outputs": [
    {
     "name": "stdout",
     "output_type": "stream",
     "text": [
      "Original Tuple: (1, 2, 3, 'apple', 'banana')\n"
     ]
    }
   ],
   "source": [
    "# deleting the tuple\n",
    "# Example tuple\n",
    "my_tuple = (1, 2, 3, 'apple', 'banana')\n",
    "\n",
    "# Display the original tuple\n",
    "print(\"Original Tuple:\", my_tuple)\n",
    "\n",
    "# Delete the entire tuple\n",
    "del my_tuple\n",
    "\n",
    "# Try to access the tuple after deletion (will result in an error)\n",
    "# print(\"After Deletion:\", my_tuple)  # Uncommenting this line will result in an error\n"
   ]
  },
  {
   "cell_type": "markdown",
   "id": "634f7064-4aa2-4e2e-817f-677cc7ca608b",
   "metadata": {},
   "source": [
    "20. Slice a tuple"
   ]
  },
  {
   "cell_type": "code",
   "execution_count": 40,
   "id": "e03ff3dd-fe49-4bc4-aaef-1e1c14b73081",
   "metadata": {},
   "outputs": [
    {
     "name": "stdout",
     "output_type": "stream",
     "text": [
      "(1, 2, 3)\n"
     ]
    }
   ],
   "source": [
    "# slicing the my_tuple \n",
    "my_tuple = (1, 2, 3, 'apple', 'banana')\n",
    "\n",
    "print(my_tuple[0:3])"
   ]
  },
  {
   "cell_type": "markdown",
   "id": "ae1ccb22-d506-4204-acc5-1264be37d009",
   "metadata": {},
   "source": [
    "21. Find the maximum value in a tuple."
   ]
  },
  {
   "cell_type": "code",
   "execution_count": 41,
   "id": "73f1a3bd-4861-49e0-b185-c5af5b4889f6",
   "metadata": {},
   "outputs": [
    {
     "name": "stdout",
     "output_type": "stream",
     "text": [
      "3\n"
     ]
    }
   ],
   "source": [
    "# finding the maximum value of a tuple\n",
    "\n",
    "t=(1,2,3)\n",
    "print(max(t))"
   ]
  },
  {
   "cell_type": "markdown",
   "id": "b1493a65-310c-45e2-9a76-bed8c5afde55",
   "metadata": {},
   "source": [
    "22. Find the minimum value in a tuple."
   ]
  },
  {
   "cell_type": "code",
   "execution_count": 43,
   "id": "07a79ab8-8ba6-4ddb-810b-8f6ffd093280",
   "metadata": {},
   "outputs": [
    {
     "data": {
      "text/plain": [
       "1"
      ]
     },
     "execution_count": 43,
     "metadata": {},
     "output_type": "execute_result"
    }
   ],
   "source": [
    "# finding the minimum value of avove tuple\n",
    "min(t)"
   ]
  },
  {
   "cell_type": "markdown",
   "id": "49bb1f4f-4ac8-4f25-9e0f-ebf834a90924",
   "metadata": {},
   "source": [
    "23. Convert a string to a tuple of characters."
   ]
  },
  {
   "cell_type": "code",
   "execution_count": 44,
   "id": "0168fbbb-3970-4bfd-bc69-94635a14653e",
   "metadata": {},
   "outputs": [
    {
     "name": "stdout",
     "output_type": "stream",
     "text": [
      "String: hello\n",
      "Tuple of Characters: ('h', 'e', 'l', 'l', 'o')\n"
     ]
    }
   ],
   "source": [
    "# convertint the string to tuple of characters\n",
    "# Example string\n",
    "my_string = \"hello\"\n",
    "\n",
    "# Convert the string to a tuple of characters\n",
    "tuple_of_characters = tuple(my_string)\n",
    "\n",
    "# Display the result\n",
    "print(\"String:\", my_string)\n",
    "print(\"Tuple of Characters:\", tuple_of_characters)\n"
   ]
  },
  {
   "cell_type": "markdown",
   "id": "3be4ee65-a97e-4aa6-b13c-56c330c0b7ad",
   "metadata": {},
   "source": [
    "24. Convert a tuple of characters to a string."
   ]
  },
  {
   "cell_type": "code",
   "execution_count": 45,
   "id": "ec61b7b0-3066-4889-930c-285e6e292e5b",
   "metadata": {},
   "outputs": [
    {
     "name": "stdout",
     "output_type": "stream",
     "text": [
      "Tuple of Characters: ('h', 'e', 'l', 'l', 'o')\n",
      "Resulting String: hello\n"
     ]
    }
   ],
   "source": [
    "# Example tuple of characters\n",
    "tuple_of_characters = ('h', 'e', 'l', 'l', 'o')\n",
    "\n",
    "# Convert the tuple to a string\n",
    "resulting_string = ''.join(tuple_of_characters)\n",
    "\n",
    "# Display the result\n",
    "print(\"Tuple of Characters:\", tuple_of_characters)\n",
    "print(\"Resulting String:\", resulting_string)\n"
   ]
  },
  {
   "cell_type": "markdown",
   "id": "efbc0e00-3088-4fd5-81ff-d81c619d53eb",
   "metadata": {},
   "source": [
    "25. Create a tuple from multiple data types."
   ]
  },
  {
   "cell_type": "code",
   "execution_count": 46,
   "id": "62409fd9-f092-4daa-bc99-1a115a9d2373",
   "metadata": {},
   "outputs": [
    {
     "name": "stdout",
     "output_type": "stream",
     "text": [
      "Mixed Tuple: (1, 'hello', 3.14, True, [5, 6])\n"
     ]
    }
   ],
   "source": [
    "# Create a tuple with elements of different data types\n",
    "mixed_tuple = (1, 'hello', 3.14, True, [5, 6])\n",
    "\n",
    "# Display the tuple\n",
    "print(\"Mixed Tuple:\", mixed_tuple)\n"
   ]
  },
  {
   "cell_type": "markdown",
   "id": "382c9af8-9971-481a-94b0-8cb57bde9950",
   "metadata": {},
   "source": [
    "26. Check if two tuples are identical."
   ]
  },
  {
   "cell_type": "code",
   "execution_count": 47,
   "id": "0cffe5d6-8935-48d8-89b8-2b47b5abb73e",
   "metadata": {},
   "outputs": [
    {
     "name": "stdout",
     "output_type": "stream",
     "text": [
      "The tuples are identical.\n"
     ]
    }
   ],
   "source": [
    "# Example tuples\n",
    "tuple1 = (1, 'apple', 3.14)\n",
    "tuple2 = (1, 'apple', 3.14)\n",
    "\n",
    "# Check if the tuples are identical\n",
    "if tuple1 == tuple2:\n",
    "    print(\"The tuples are identical.\")\n",
    "else:\n",
    "    print(\"The tuples are not identical.\")\n"
   ]
  },
  {
   "cell_type": "markdown",
   "id": "89944c1b-38d6-4f49-87f0-0b4f91f9ade2",
   "metadata": {},
   "source": [
    "27. Sort the elements of a tuple."
   ]
  },
  {
   "cell_type": "code",
   "execution_count": 52,
   "id": "4cb0115c-c5a0-436f-bc6e-a3739153e91b",
   "metadata": {},
   "outputs": [
    {
     "data": {
      "text/plain": [
       "(1, 2, 3, 4)"
      ]
     },
     "execution_count": 52,
     "metadata": {},
     "output_type": "execute_result"
    }
   ],
   "source": [
    "# sorting the elements of the tuple\n",
    "t=(4,3,2,1)\n",
    "t=tuple(sorted(t))\n",
    "t"
   ]
  },
  {
   "cell_type": "markdown",
   "id": "7d5fc3df-3d50-48a1-9186-0560fd9764ae",
   "metadata": {},
   "source": [
    "28. Convert a tuple of integers to a tuple of strings."
   ]
  },
  {
   "cell_type": "code",
   "execution_count": 61,
   "id": "36460779-2020-439e-ac0d-1165358159fa",
   "metadata": {},
   "outputs": [
    {
     "data": {
      "text/plain": [
       "('1', '2', '3', '4')"
      ]
     },
     "execution_count": 61,
     "metadata": {},
     "output_type": "execute_result"
    }
   ],
   "source": [
    "# converting the integer tuples into elemets of string\n",
    "t=(1,2,3,4)\n",
    "\n",
    "l=[str(i) for i in t]\n",
    "\n",
    "# converting list to integer\n",
    "t=tuple(l)\n",
    "t"
   ]
  },
  {
   "cell_type": "markdown",
   "id": "7318c0e7-47b1-4a6b-be33-aaffc2e581be",
   "metadata": {},
   "source": [
    "29. Convert a tuple of strings to a tuple of integers."
   ]
  },
  {
   "cell_type": "code",
   "execution_count": 62,
   "id": "0eba8d84-a652-4bfa-a911-3d5b424e0370",
   "metadata": {},
   "outputs": [
    {
     "name": "stdout",
     "output_type": "stream",
     "text": [
      "('1', '2', '3', '4')\n",
      "(1, 2, 3, 4)\n"
     ]
    }
   ],
   "source": [
    "# convertintg the same t tuple into tuple of string now\n",
    "# printing the values before converting\n",
    "print(t)\n",
    "\n",
    "# converting into list firstly \n",
    "tt=[int(i) for i in t]\n",
    "t=tuple(tt)\n",
    "print(t)"
   ]
  },
  {
   "cell_type": "markdown",
   "id": "daa7d72c-f4b9-4182-a809-19baf35c83b9",
   "metadata": {},
   "source": [
    "30. Merge two tuples."
   ]
  },
  {
   "cell_type": "code",
   "execution_count": 63,
   "id": "62db9965-af63-4e1e-98b2-716f24644c91",
   "metadata": {},
   "outputs": [
    {
     "name": "stdout",
     "output_type": "stream",
     "text": [
      "Tuple 1: (1, 2, 3)\n",
      "Tuple 2: ('a', 'b', 'c')\n",
      "Merged Tuple: (1, 2, 3, 'a', 'b', 'c')\n"
     ]
    }
   ],
   "source": [
    "# Example tuples\n",
    "tuple1 = (1, 2, 3)\n",
    "tuple2 = ('a', 'b', 'c')\n",
    "\n",
    "# Merge the two tuples\n",
    "merged_tuple = tuple1 + tuple2\n",
    "\n",
    "# Display the result\n",
    "print(\"Tuple 1:\", tuple1)\n",
    "print(\"Tuple 2:\", tuple2)\n",
    "print(\"Merged Tuple:\", merged_tuple)\n"
   ]
  },
  {
   "cell_type": "markdown",
   "id": "e6b99d86-1d78-47e4-9613-adb0a35d50be",
   "metadata": {},
   "source": [
    "31. Flatten a nested tuple."
   ]
  },
  {
   "cell_type": "code",
   "execution_count": 64,
   "id": "ee3e1014-698b-446f-b054-9b65ff58e6b0",
   "metadata": {},
   "outputs": [
    {
     "name": "stdout",
     "output_type": "stream",
     "text": [
      "Nested Tuple: ((1, 2, 3), ('a', 'b', 'c'), ('apple', 'banana', 'cherry'))\n",
      "Flattened Tuple: (1, 2, 3, 'a', 'b', 'c', 'apple', 'banana', 'cherry')\n"
     ]
    }
   ],
   "source": [
    "# flattening a nested tuple\n",
    "# Example nested tuple\n",
    "nested_tuple = ((1, 2, 3), ('a', 'b', 'c'), ('apple', 'banana', 'cherry'))\n",
    "\n",
    "# Function to flatten a nested tuple\n",
    "def flatten_tuple(nested_tuple):\n",
    "    flattened = []\n",
    "    for element in nested_tuple:\n",
    "        if isinstance(element, tuple):\n",
    "            flattened.extend(flatten_tuple(element))\n",
    "        else:\n",
    "            flattened.append(element)\n",
    "    return flattened\n",
    "\n",
    "# Flatten the nested tuple\n",
    "flattened_tuple = tuple(flatten_tuple(nested_tuple))\n",
    "\n",
    "# Display the result\n",
    "print(\"Nested Tuple:\", nested_tuple)\n",
    "print(\"Flattened Tuple:\", flattened_tuple)\n"
   ]
  },
  {
   "cell_type": "markdown",
   "id": "e02ae818-2ed3-49e2-8b39-22340e549f90",
   "metadata": {},
   "source": [
    "32. Create a tuple of the first 5 prime numbers."
   ]
  },
  {
   "cell_type": "code",
   "execution_count": 65,
   "id": "f027ff7c-4b25-4d48-b683-1c38accc7e4a",
   "metadata": {},
   "outputs": [
    {
     "name": "stdout",
     "output_type": "stream",
     "text": [
      "Tuple of the first 5 prime numbers: (2, 3, 5, 7, 11)\n"
     ]
    }
   ],
   "source": [
    "# Create a tuple of the first 5 prime numbers\n",
    "prime_numbers = (2, 3, 5, 7, 11)\n",
    "\n",
    "# Display the result\n",
    "print(\"Tuple of the first 5 prime numbers:\", prime_numbers)\n"
   ]
  },
  {
   "cell_type": "markdown",
   "id": "cddcdc51-9df5-4a64-8b02-0051ae18c078",
   "metadata": {},
   "source": [
    "33. Check if a tuple is a palindrome."
   ]
  },
  {
   "cell_type": "code",
   "execution_count": 70,
   "id": "53867053-8273-422d-8fe3-5cb5e1ca5565",
   "metadata": {},
   "outputs": [
    {
     "name": "stdout",
     "output_type": "stream",
     "text": [
      "its a palindrome\n"
     ]
    }
   ],
   "source": [
    "# checking the tuple is palindrome or not\n",
    "t=(1,2,1)\n",
    "# this is palindrome lets check\n",
    "\n",
    "if t[::-1]==t:\n",
    "    print(\"its a palindrome\")\n",
    "else:\n",
    "    print(\"its not a palindrome\")"
   ]
  },
  {
   "cell_type": "markdown",
   "id": "feffc514-8907-4994-b0a8-fdb5c5d24fa2",
   "metadata": {},
   "source": [
    "34. Create a tuple of squares of numbers from 1 to 5."
   ]
  },
  {
   "cell_type": "code",
   "execution_count": 72,
   "id": "a7c8f55f-49f5-4bb7-9646-d827254f4f13",
   "metadata": {},
   "outputs": [
    {
     "name": "stdout",
     "output_type": "stream",
     "text": [
      "(1, 4, 9, 16, 25)\n"
     ]
    }
   ],
   "source": [
    "# creating the tuple of squares of numbers from 1 to 5\n",
    "\n",
    "t=(1,4,9,16,25)\n",
    "print(t)"
   ]
  },
  {
   "cell_type": "markdown",
   "id": "4d74e0d4-3c41-4716-9a90-2ee7479d9779",
   "metadata": {},
   "source": [
    "35. Filter out all even numbers from a tuple."
   ]
  },
  {
   "cell_type": "code",
   "execution_count": 74,
   "id": "0a4758e7-7ef1-45b0-b9e3-fd08fe986638",
   "metadata": {},
   "outputs": [
    {
     "name": "stdout",
     "output_type": "stream",
     "text": [
      "(2, 4, 6, 8, 10)\n",
      "(2, 4, 6, 8, 10)\n"
     ]
    }
   ],
   "source": [
    "# filtering out all even numbers from a tuple and storing the evens in another tuple\n",
    "t1=(1,2,3,4,5,6,7,8,9,10)\n",
    "\n",
    "l=[]\n",
    "# here we are storing all the even numbers inside the list\n",
    "for i in t1:\n",
    "    if i%2==0:\n",
    "        l.append(i)\n",
    "\n",
    "# now converting the list into tuple\n",
    "t2=tuple(l)\n",
    "\n",
    "# printint the even numbers tuple t2\n",
    "print(t2)"
   ]
  },
  {
   "cell_type": "markdown",
   "id": "655667a2-eb83-4590-a7df-0802a7a8addc",
   "metadata": {},
   "source": [
    "36. Multiply all elements in a tuple by 2."
   ]
  },
  {
   "cell_type": "code",
   "execution_count": 77,
   "id": "5f1ef964-8d65-4921-b543-6b6d6cbb8a67",
   "metadata": {},
   "outputs": [
    {
     "name": "stdout",
     "output_type": "stream",
     "text": [
      "(2, 4, 6, 8)\n"
     ]
    }
   ],
   "source": [
    "# multiplying all elements by 2\n",
    "t=(1,2,3,4)\n",
    "\n",
    "# converting it into list firstly \n",
    "t=list(t)\n",
    "\n",
    "for i in range(len(t)):\n",
    "    t[i]=t[i]*2\n",
    "    \n",
    "# now converting it into tuple \n",
    "t=tuple(t)\n",
    "print(t)"
   ]
  },
  {
   "cell_type": "code",
   "execution_count": null,
   "id": "0d54cee1-12b6-4e31-9691-81cbd467d698",
   "metadata": {},
   "outputs": [],
   "source": [
    "37. Create a tuple of random numbers.\n",
    "38. Check if a tuple is sorted.\n",
    "39. Rotate a tuple to the left by `n` positions.\n",
    "40. Rotate a tuple to the right by `n` positions.\n",
    "41. Create a tuple of the first 5 Fibonacci numbers.\n",
    "42. Create a tuple from user input.\n",
    "43. Swap two elements in a tuple.\n",
    "44. Reverse the elements of a tuple.\n",
    "45. Create a tuple of the first `n` powers of 2."
   ]
  },
  {
   "cell_type": "markdown",
   "id": "e1a7f432-241a-4e26-9b79-63f4f483c82f",
   "metadata": {},
   "source": [
    "37. Create a tuple of random numbers."
   ]
  },
  {
   "cell_type": "code",
   "execution_count": 2,
   "id": "8a235188-0abb-4936-bca7-e3cd6b1b2805",
   "metadata": {},
   "outputs": [
    {
     "name": "stdout",
     "output_type": "stream",
     "text": [
      "Tuple of random numbers: (70, 65, 79, 100, 52)\n"
     ]
    }
   ],
   "source": [
    "import random\n",
    "\n",
    "# Create a tuple of 5 random numbers\n",
    "random_tuple = tuple(random.randint(1, 100) for _ in range(5))\n",
    "\n",
    "# Display the result\n",
    "print(\"Tuple of random numbers:\", random_tuple)\n"
   ]
  },
  {
   "cell_type": "markdown",
   "id": "d5c84db1-5965-4be9-b028-a020a79eb68c",
   "metadata": {},
   "source": [
    "38. Check if a tuple is sorted."
   ]
  },
  {
   "cell_type": "code",
   "execution_count": 3,
   "id": "a853d658-00a2-4054-81e0-563f988a527b",
   "metadata": {},
   "outputs": [
    {
     "name": "stdout",
     "output_type": "stream",
     "text": [
      "Is the tuple sorted? True\n"
     ]
    }
   ],
   "source": [
    "# Example tuple\n",
    "sorted_tuple = (1, 2, 3, 4, 5)\n",
    "\n",
    "# Check if the tuple is sorted\n",
    "is_sorted = all(sorted_tuple[i] <= sorted_tuple[i+1] for i in range(len(sorted_tuple)-1))\n",
    "\n",
    "print(\"Is the tuple sorted?\", is_sorted)\n"
   ]
  },
  {
   "cell_type": "markdown",
   "id": "13cce96a-e33e-4efa-ba90-fc881532ec76",
   "metadata": {},
   "source": [
    "39. Rotate a tuple to the left by `n` positions."
   ]
  },
  {
   "cell_type": "code",
   "execution_count": 4,
   "id": "0d853909-6616-4786-96bc-f8797a0122d6",
   "metadata": {},
   "outputs": [
    {
     "name": "stdout",
     "output_type": "stream",
     "text": [
      "Original Tuple: (1, 2, 3, 4, 5)\n",
      "Rotated Tuple to the left by 2 positions: (3, 4, 5, 1, 2)\n"
     ]
    }
   ],
   "source": [
    "# Example tuple\n",
    "original_tuple = (1, 2, 3, 4, 5)\n",
    "\n",
    "# Rotate the tuple to the left by 2 positions\n",
    "n = 2\n",
    "rotated_tuple = original_tuple[n:] + original_tuple[:n]\n",
    "\n",
    "# Display the result\n",
    "print(\"Original Tuple:\", original_tuple)\n",
    "print(f\"Rotated Tuple to the left by {n} positions:\", rotated_tuple)\n"
   ]
  },
  {
   "cell_type": "markdown",
   "id": "9706bd71-cfd4-4ace-8b98-b49e8ce15833",
   "metadata": {},
   "source": [
    "40. Rotate a tuple to the right by `n` positions."
   ]
  },
  {
   "cell_type": "code",
   "execution_count": 5,
   "id": "9b0b41f2-7240-4a0b-9cc3-b980b01c2fc9",
   "metadata": {},
   "outputs": [
    {
     "name": "stdout",
     "output_type": "stream",
     "text": [
      "Original Tuple: (1, 2, 3, 4, 5)\n",
      "Rotated Tuple to the right by 2 positions: (4, 5, 1, 2, 3)\n"
     ]
    }
   ],
   "source": [
    "# Example tuple\n",
    "original_tuple = (1, 2, 3, 4, 5)\n",
    "\n",
    "# Rotate the tuple to the right by 2 positions\n",
    "n = 2\n",
    "rotated_tuple = original_tuple[-n:] + original_tuple[:-n]\n",
    "\n",
    "# Display the result\n",
    "print(\"Original Tuple:\", original_tuple)\n",
    "print(f\"Rotated Tuple to the right by {n} positions:\", rotated_tuple)\n"
   ]
  },
  {
   "cell_type": "markdown",
   "id": "4ff5c19d-2f6d-4ad3-8069-2f28ae1c6715",
   "metadata": {},
   "source": [
    "41. Create a tuple of the first 5 Fibonacci numbers."
   ]
  },
  {
   "cell_type": "code",
   "execution_count": 6,
   "id": "9ece0929-579c-41ae-a34d-9547e1af128a",
   "metadata": {},
   "outputs": [
    {
     "name": "stdout",
     "output_type": "stream",
     "text": [
      "Tuple of the first 5 Fibonacci numbers: (0, 1, 1, 2, 3)\n"
     ]
    }
   ],
   "source": [
    "# Function to generate the first n Fibonacci numbers\n",
    "def generate_fibonacci(n):\n",
    "    fibonacci = [0, 1]\n",
    "    while len(fibonacci) < n:\n",
    "        fibonacci.append(fibonacci[-1] + fibonacci[-2])\n",
    "    return tuple(fibonacci)\n",
    "\n",
    "# Create a tuple of the first 5 Fibonacci numbers\n",
    "fibonacci_tuple = generate_fibonacci(5)\n",
    "\n",
    "# Display the result\n",
    "print(\"Tuple of the first 5 Fibonacci numbers:\", fibonacci_tuple)\n"
   ]
  },
  {
   "cell_type": "markdown",
   "id": "5d7adde9-c92f-4bc2-af6a-29d64b5e4b50",
   "metadata": {},
   "source": [
    "42. Create a tuple from user input."
   ]
  },
  {
   "cell_type": "code",
   "execution_count": 7,
   "id": "f086f60a-a195-44cd-97e0-7b0bf1e067cd",
   "metadata": {},
   "outputs": [
    {
     "name": "stdin",
     "output_type": "stream",
     "text": [
      "Enter elements separated by commas:  1\n"
     ]
    },
    {
     "name": "stdout",
     "output_type": "stream",
     "text": [
      "Tuple from user input: (1,)\n"
     ]
    }
   ],
   "source": [
    "# Get user input as a comma-separated string\n",
    "user_input = input(\"Enter elements separated by commas: \")\n",
    "\n",
    "# Convert the input string into a tuple\n",
    "user_tuple = tuple(map(int, user_input.split(',')))\n",
    "\n",
    "# Display the result\n",
    "print(\"Tuple from user input:\", user_tuple)\n"
   ]
  },
  {
   "cell_type": "markdown",
   "id": "de827d82-9858-4c77-b4b0-00c8fb10d612",
   "metadata": {},
   "source": [
    "43. Swap two elements in a tuple."
   ]
  },
  {
   "cell_type": "code",
   "execution_count": 8,
   "id": "e1a322d1-1eb4-42e4-9bea-7ad76ae48389",
   "metadata": {},
   "outputs": [
    {
     "name": "stdout",
     "output_type": "stream",
     "text": [
      "Original Tuple: (1, 2, 3, 4, 5)\n",
      "Tuple after swapping elements at positions 1 and 3: (1, 4, 3, 2, 5)\n"
     ]
    }
   ],
   "source": [
    "# Example tuple\n",
    "tuple_to_swap = (1, 2, 3, 4, 5)\n",
    "\n",
    "# Swap elements at positions 1 and 3\n",
    "index1, index2 = 1, 3\n",
    "swapped_tuple = list(tuple_to_swap)\n",
    "swapped_tuple[index1], swapped_tuple[index2] = swapped_tuple[index2], swapped_tuple[index1]\n",
    "swapped_tuple = tuple(swapped_tuple)\n",
    "\n",
    "# Display the result\n",
    "print(\"Original Tuple:\", tuple_to_swap)\n",
    "print(f\"Tuple after swapping elements at positions {index1} and {index2}:\", swapped_tuple)\n"
   ]
  },
  {
   "cell_type": "markdown",
   "id": "b255eb0f-58be-4faf-8ffd-646b4a4b4c81",
   "metadata": {},
   "source": [
    "44. Reverse the elements of a tuple."
   ]
  },
  {
   "cell_type": "code",
   "execution_count": 9,
   "id": "152eed0b-1eb9-4934-a05f-934c1aca706c",
   "metadata": {},
   "outputs": [
    {
     "name": "stdout",
     "output_type": "stream",
     "text": [
      "Original Tuple: (1, 2, 3, 4, 5)\n",
      "Reversed Tuple: (5, 4, 3, 2, 1)\n"
     ]
    }
   ],
   "source": [
    "# Example tuple\n",
    "original_tuple = (1, 2, 3, 4, 5)\n",
    "\n",
    "# Reverse the tuple\n",
    "reversed_tuple = tuple(reversed(original_tuple))\n",
    "\n",
    "# Display the result\n",
    "print(\"Original Tuple:\", original_tuple)\n",
    "print(\"Reversed Tuple:\", reversed_tuple)\n"
   ]
  },
  {
   "cell_type": "markdown",
   "id": "f870b11b-a710-4baa-975c-4a1334b96a5d",
   "metadata": {},
   "source": [
    "45. Create a tuple of the first `n` powers of 2."
   ]
  },
  {
   "cell_type": "code",
   "execution_count": 10,
   "id": "d8bb53e3-2df6-4c77-8e9c-df67b5653c3e",
   "metadata": {},
   "outputs": [
    {
     "name": "stdout",
     "output_type": "stream",
     "text": [
      "Tuple of the first 5 powers of 2: (1, 2, 4, 8, 16)\n"
     ]
    }
   ],
   "source": [
    "# Function to generate the first n powers of 2\n",
    "def generate_powers_of_2(n):\n",
    "    powers_of_2 = [2**i for i in range(n)]\n",
    "    return tuple(powers_of_2)\n",
    "\n",
    "# Create a tuple of the first 5 powers of 2\n",
    "powers_of_2_tuple = generate_powers_of_2(5)\n",
    "\n",
    "# Display the result\n",
    "print(\"Tuple of the first 5 powers of 2:\", powers_of_2_tuple)\n",
    "\n"
   ]
  },
  {
   "cell_type": "markdown",
   "id": "450a89a0-75e5-4c5c-9f86-e2a8f7071ee5",
   "metadata": {},
   "source": [
    "46. Find the longest string in a tuple of strings."
   ]
  },
  {
   "cell_type": "code",
   "execution_count": 11,
   "id": "9eeb7c35-44c6-46df-b84d-c403fe5cf3ac",
   "metadata": {},
   "outputs": [
    {
     "name": "stdout",
     "output_type": "stream",
     "text": [
      "Tuple of strings: ('apple', 'banana', 'kiwi', 'strawberry', 'blueberry')\n",
      "Longest string: strawberry\n"
     ]
    }
   ],
   "source": [
    "# Example tuple of strings\n",
    "string_tuple = ('apple', 'banana', 'kiwi', 'strawberry', 'blueberry')\n",
    "\n",
    "# Find the longest string\n",
    "longest_string = max(string_tuple, key=len)\n",
    "\n",
    "# Display the result\n",
    "print(\"Tuple of strings:\", string_tuple)\n",
    "print(\"Longest string:\", longest_string)\n"
   ]
  },
  {
   "cell_type": "markdown",
   "id": "e2f290eb-897f-4c38-aa78-f9eb663fd8e9",
   "metadata": {},
   "source": [
    "47. Find the shortest string in a tuple of strings."
   ]
  },
  {
   "cell_type": "code",
   "execution_count": 12,
   "id": "2090e507-8c04-478c-8189-95cf6be851d6",
   "metadata": {},
   "outputs": [
    {
     "name": "stdout",
     "output_type": "stream",
     "text": [
      "Tuple of strings: ('apple', 'banana', 'kiwi', 'strawberry', 'blueberry')\n",
      "Shortest string: kiwi\n"
     ]
    }
   ],
   "source": [
    "# Example tuple of strings\n",
    "string_tuple = ('apple', 'banana', 'kiwi', 'strawberry', 'blueberry')\n",
    "\n",
    "# Find the shortest string\n",
    "shortest_string = min(string_tuple, key=len)\n",
    "\n",
    "# Display the result\n",
    "print(\"Tuple of strings:\", string_tuple)\n",
    "print(\"Shortest string:\", shortest_string)\n"
   ]
  },
  {
   "cell_type": "markdown",
   "id": "b4b7ec66-1074-4c35-81fa-74caecfb429e",
   "metadata": {},
   "source": [
    "48. Create a tuple of the first `n` triangular numbers."
   ]
  },
  {
   "cell_type": "code",
   "execution_count": 13,
   "id": "5048a46b-2fe5-48bc-8103-d8cd1bbdb3bc",
   "metadata": {},
   "outputs": [
    {
     "name": "stdout",
     "output_type": "stream",
     "text": [
      "Tuple of the first 5 triangular numbers: (1, 3, 6, 10, 15)\n"
     ]
    }
   ],
   "source": [
    "# Function to generate the first n triangular numbers\n",
    "def generate_triangular_numbers(n):\n",
    "    triangular_numbers = [i * (i + 1) // 2 for i in range(1, n + 1)]\n",
    "    return tuple(triangular_numbers)\n",
    "\n",
    "# Create a tuple of the first 5 triangular numbers\n",
    "triangular_numbers_tuple = generate_triangular_numbers(5)\n",
    "\n",
    "# Display the result\n",
    "print(\"Tuple of the first 5 triangular numbers:\", triangular_numbers_tuple)\n"
   ]
  },
  {
   "cell_type": "markdown",
   "id": "978bfd19-fae5-4e5f-aa55-e1dbdfd60a85",
   "metadata": {},
   "source": [
    "49. Check if a tuple contains another tuple as a subsequence."
   ]
  },
  {
   "cell_type": "code",
   "execution_count": 14,
   "id": "87c1a223-a32a-4283-bd48-1103fd514dbe",
   "metadata": {},
   "outputs": [
    {
     "name": "stdout",
     "output_type": "stream",
     "text": [
      "Main Tuple: (1, 2, (3, 4), 5, (6, 7))\n",
      "Subsequence Tuple: (3, 4)\n",
      "Contains subsequence: True\n"
     ]
    }
   ],
   "source": [
    "# Example tuple\n",
    "main_tuple = (1, 2, (3, 4), 5, (6, 7))\n",
    "\n",
    "# Tuple to check as subsequence\n",
    "subsequence_tuple = (3, 4)\n",
    "\n",
    "# Check if the main tuple contains the subsequence\n",
    "contains_subsequence = any(subsequence_tuple == item if isinstance(item, tuple) else False for item in main_tuple)\n",
    "\n",
    "# Display the result\n",
    "print(\"Main Tuple:\", main_tuple)\n",
    "print(\"Subsequence Tuple:\", subsequence_tuple)\n",
    "print(\"Contains subsequence:\", contains_subsequence)\n"
   ]
  },
  {
   "cell_type": "markdown",
   "id": "74cf463f-4c18-414d-9636-31f37084e39f",
   "metadata": {},
   "source": [
    "50. Create a tuple of alternating 1s and 0s of length `n`."
   ]
  },
  {
   "cell_type": "code",
   "execution_count": 15,
   "id": "c940e329-05c1-4c2b-8804-95c6865651f4",
   "metadata": {},
   "outputs": [
    {
     "name": "stdout",
     "output_type": "stream",
     "text": [
      "Tuple of alternating 1s and 0s: (1, 0, 1, 0, 1, 0, 1, 0)\n"
     ]
    }
   ],
   "source": [
    "# Function to create a tuple of alternating 1s and 0s\n",
    "def alternating_ones_zeros(n):\n",
    "    return tuple(1 if i % 2 == 0 else 0 for i in range(n))\n",
    "\n",
    "# Create a tuple of alternating 1s and 0s of length 8\n",
    "alternating_tuple = alternating_ones_zeros(8)\n",
    "\n",
    "# Display the result\n",
    "print(\"Tuple of alternating 1s and 0s:\", alternating_tuple)\n"
   ]
  },
  {
   "cell_type": "markdown",
   "id": "b6a55708-aa2b-41d7-97b9-9b52e8cfa746",
   "metadata": {},
   "source": [
    "# Set Based Practice Problem :"
   ]
  },
  {
   "cell_type": "code",
   "execution_count": null,
   "id": "561752bb-1dc7-4379-93b6-9eebb9f8b3c3",
   "metadata": {},
   "outputs": [],
   "source": [
    "1. Create a set with integers from 1 to 5.\n",
    "2. Add an element to a set.\n",
    "\n",
    "3. Remove an element from a set.\n",
    "\n",
    "4. Check if an element exists in a set.\n",
    "\n",
    "5. Find the length of a set without using the `len()` function.\n",
    "6. Clear all elements from a set.\n",
    "\n",
    "7. Create a set of even numbers from 1 to 10.\n",
    "\n",
    "8. Create a set of odd numbers from 1 to 10.\n",
    "\n",
    "9. Find the union of two sets.\n",
    "\n",
    "10. Find the intersection of two sets."
   ]
  },
  {
   "cell_type": "markdown",
   "id": "1b21f6d5-6235-4d99-9a39-16f055e6845a",
   "metadata": {},
   "source": [
    "1. Create a set with integers from 1 to 5."
   ]
  },
  {
   "cell_type": "code",
   "execution_count": 22,
   "id": "763de573-db33-4ad6-9a47-530b4ef37ab2",
   "metadata": {},
   "outputs": [
    {
     "data": {
      "text/plain": [
       "{1, 2, 3, 4, 5}"
      ]
     },
     "execution_count": 22,
     "metadata": {},
     "output_type": "execute_result"
    }
   ],
   "source": [
    "# creating set with 5 integer values\n",
    "s={1,2,3,4,5}\n",
    "s"
   ]
  },
  {
   "cell_type": "markdown",
   "id": "ea8b409d-199e-4d84-919b-7aa51d4ba2fe",
   "metadata": {},
   "source": [
    "2. Add an element to a set."
   ]
  },
  {
   "cell_type": "code",
   "execution_count": 23,
   "id": "2a19e581-e618-4a15-9506-8a11c08c71d4",
   "metadata": {},
   "outputs": [
    {
     "data": {
      "text/plain": [
       "{1, 2, 3, 4, 5, 6}"
      ]
     },
     "execution_count": 23,
     "metadata": {},
     "output_type": "execute_result"
    }
   ],
   "source": [
    "# adding element to set\n",
    "s.add(6)\n",
    "s"
   ]
  },
  {
   "cell_type": "markdown",
   "id": "6a51edde-e262-4960-adf4-e8213b8f8190",
   "metadata": {},
   "source": [
    "3. Remove an element from a set."
   ]
  },
  {
   "cell_type": "code",
   "execution_count": 24,
   "id": "5270bfb6-da90-4050-898c-4bc297d40888",
   "metadata": {},
   "outputs": [
    {
     "data": {
      "text/plain": [
       "{2, 3, 4, 5, 6}"
      ]
     },
     "execution_count": 24,
     "metadata": {},
     "output_type": "execute_result"
    }
   ],
   "source": [
    "# removing an element from the set\n",
    "s.remove(1)\n",
    "s"
   ]
  },
  {
   "cell_type": "markdown",
   "id": "28fda4a0-4f39-4e65-b81e-797bbd769b50",
   "metadata": {},
   "source": [
    "4. Check if an element exists in a set."
   ]
  },
  {
   "cell_type": "code",
   "execution_count": 26,
   "id": "40418296-ddcc-4674-ab9e-207fad77163e",
   "metadata": {},
   "outputs": [
    {
     "name": "stdout",
     "output_type": "stream",
     "text": [
      "available\n"
     ]
    }
   ],
   "source": [
    "# checking if is available in the set s\n",
    "if 2 in s:\n",
    "    print(\"available\")\n",
    "else:\n",
    "    print(\"not available\")"
   ]
  },
  {
   "cell_type": "markdown",
   "id": "218327c5-59d3-4afc-9d58-074dc648a7eb",
   "metadata": {},
   "source": [
    "5. Find the length of a set without using the `len()` function."
   ]
  },
  {
   "cell_type": "markdown",
   "id": "95d9059b-3e46-49f0-9a76-c405ddfc8368",
   "metadata": {},
   "source": [
    "# finding the lenegth of the set without len()\n",
    "c=0\n",
    "for i in s:\n",
    "    c=c+1\n",
    "    \n",
    "print(\"length of the set is: \",c)    "
   ]
  },
  {
   "cell_type": "markdown",
   "id": "1f03566f-543c-4df8-b069-0d05877f8a55",
   "metadata": {},
   "source": [
    "6. Clear all elements from a set."
   ]
  },
  {
   "cell_type": "code",
   "execution_count": 29,
   "id": "eff5f867-0845-40b6-9cf3-83cd6e1b6800",
   "metadata": {},
   "outputs": [
    {
     "data": {
      "text/plain": [
       "set()"
      ]
     },
     "execution_count": 29,
     "metadata": {},
     "output_type": "execute_result"
    }
   ],
   "source": [
    "# clearing all elements\n",
    "s.clear()\n",
    "s"
   ]
  },
  {
   "cell_type": "markdown",
   "id": "97627b85-fbbe-4fe9-8c71-f130a5297f26",
   "metadata": {},
   "source": [
    "7. Create a set of even numbers from 1 to 10."
   ]
  },
  {
   "cell_type": "code",
   "execution_count": 30,
   "id": "f2d97ec4-749c-4873-aea6-3a9f37559008",
   "metadata": {},
   "outputs": [
    {
     "data": {
      "text/plain": [
       "{2, 4, 6, 8, 10}"
      ]
     },
     "execution_count": 30,
     "metadata": {},
     "output_type": "execute_result"
    }
   ],
   "source": [
    "# creating set of even numbers from 1 to 10\n",
    "s1={2,4,6,8,10}\n",
    "s1"
   ]
  },
  {
   "cell_type": "markdown",
   "id": "19186712-08c5-485d-8d3b-d9a880e81a68",
   "metadata": {},
   "source": [
    "8. Create a set of odd numbers from 1 to 10."
   ]
  },
  {
   "cell_type": "code",
   "execution_count": 31,
   "id": "28caaa50-4c52-48bd-86d9-bad55944b432",
   "metadata": {},
   "outputs": [
    {
     "data": {
      "text/plain": [
       "{1, 3, 5, 7, 9}"
      ]
     },
     "execution_count": 31,
     "metadata": {},
     "output_type": "execute_result"
    }
   ],
   "source": [
    "# creating the set of odd numbers from 1 to 10\n",
    "s2={1,3,5,7,9}\n",
    "s2"
   ]
  },
  {
   "cell_type": "markdown",
   "id": "7e261103-219b-44c2-af8f-be35676302a5",
   "metadata": {},
   "source": [
    "9. Find the union of two sets."
   ]
  },
  {
   "cell_type": "code",
   "execution_count": 35,
   "id": "138c55dc-59fa-4c1a-9619-f2c24c753305",
   "metadata": {},
   "outputs": [
    {
     "data": {
      "text/plain": [
       "{1, 2, 3, 4, 5, 6, 7, 8, 9, 10}"
      ]
     },
     "execution_count": 35,
     "metadata": {},
     "output_type": "execute_result"
    }
   ],
   "source": [
    "# finding the union of two sets s1 and s2\n",
    "un=s1|s2\n",
    "un"
   ]
  },
  {
   "cell_type": "markdown",
   "id": "d0891b5a-f1e0-4252-947f-c3ce9623b682",
   "metadata": {},
   "source": [
    "10. Find the intersection of two sets."
   ]
  },
  {
   "cell_type": "code",
   "execution_count": 37,
   "id": "37638535-e52e-465d-a6b0-a667c1d668e1",
   "metadata": {},
   "outputs": [
    {
     "name": "stdout",
     "output_type": "stream",
     "text": [
      "{3}\n"
     ]
    }
   ],
   "source": [
    "# finding the intersection of two sets s1 and s2\n",
    "s1={1,2,3}\n",
    "s2={3,4,5}\n",
    "print(s1.intersection(s2))"
   ]
  },
  {
   "cell_type": "markdown",
   "id": "a40cd2b1-ca7f-4ebf-9518-9c8e10f3eeb5",
   "metadata": {},
   "source": [
    "11. Find the difference between two sets."
   ]
  },
  {
   "cell_type": "code",
   "execution_count": 39,
   "id": "6d9ac0a8-3968-4258-ab7e-8a0e16664e5c",
   "metadata": {},
   "outputs": [
    {
     "name": "stdout",
     "output_type": "stream",
     "text": [
      "Set 1: {1, 2, 3, 4, 5}\n",
      "Set 2: {4, 5, 6, 7, 8}\n",
      "Difference using difference(): {1, 2, 3}\n",
      "Difference using - operator: {1, 2, 3}\n"
     ]
    }
   ],
   "source": [
    "# Example sets\n",
    "set1 = {1, 2, 3, 4, 5}\n",
    "set2 = {4, 5, 6, 7, 8}\n",
    "\n",
    "# Find the difference using the difference() method\n",
    "difference_set_method = set1.difference(set2)\n",
    "\n",
    "# Find the difference using the - (minus) operator\n",
    "difference_set_operator = set1 - set2\n",
    "\n",
    "# Display the result\n",
    "print(\"Set 1:\", set1)\n",
    "print(\"Set 2:\", set2)\n",
    "print(\"Difference using difference():\", difference_set_method)\n",
    "print(\"Difference using - operator:\", difference_set_operator)\n"
   ]
  },
  {
   "cell_type": "markdown",
   "id": "fa45e7b3-1216-49e0-80ff-fcb53e4cc7f5",
   "metadata": {},
   "source": [
    "12. Check if a set is a subset of another set."
   ]
  },
  {
   "cell_type": "code",
   "execution_count": 40,
   "id": "e25754a2-612f-4cff-8e5f-01ef8e7523bd",
   "metadata": {},
   "outputs": [
    {
     "name": "stdout",
     "output_type": "stream",
     "text": [
      "Set 1: {1, 2, 3}\n",
      "Set 2: {1, 2, 3, 4, 5}\n",
      "Is set1 a subset of set2? True\n"
     ]
    }
   ],
   "source": [
    "# Example sets\n",
    "set1 = {1, 2, 3}\n",
    "set2 = {1, 2, 3, 4, 5}\n",
    "\n",
    "# Check if set1 is a subset of set2\n",
    "is_subset = set1.issubset(set2)\n",
    "\n",
    "# Display the result\n",
    "print(\"Set 1:\", set1)\n",
    "print(\"Set 2:\", set2)\n",
    "print(\"Is set1 a subset of set2?\", is_subset)\n"
   ]
  },
  {
   "cell_type": "markdown",
   "id": "c32da149-0fef-46af-a56e-30d91ef3051f",
   "metadata": {},
   "source": [
    "13. Check if a set is a superset of another set."
   ]
  },
  {
   "cell_type": "code",
   "execution_count": 41,
   "id": "3a031dc5-bff4-498d-9924-da9abc33901d",
   "metadata": {},
   "outputs": [
    {
     "name": "stdout",
     "output_type": "stream",
     "text": [
      "Set 1: {1, 2, 3, 4, 5}\n",
      "Set 2: {1, 2, 3}\n",
      "Is set1 a superset of set2? True\n"
     ]
    }
   ],
   "source": [
    "# Example sets\n",
    "set1 = {1, 2, 3, 4, 5}\n",
    "set2 = {1, 2, 3}\n",
    "\n",
    "# Check if set1 is a superset of set2\n",
    "is_superset = set1.issuperset(set2)\n",
    "\n",
    "# Display the result\n",
    "print(\"Set 1:\", set1)\n",
    "print(\"Set 2:\", set2)\n",
    "print(\"Is set1 a superset of set2?\", is_superset)\n"
   ]
  },
  {
   "cell_type": "markdown",
   "id": "ee346a9c-661c-4219-bda8-d27988e349e6",
   "metadata": {},
   "source": [
    "14. Create a set from a list."
   ]
  },
  {
   "cell_type": "code",
   "execution_count": 42,
   "id": "dad73f1b-57e8-46ba-abff-97a907671e2a",
   "metadata": {},
   "outputs": [
    {
     "name": "stdout",
     "output_type": "stream",
     "text": [
      "Original List: [1, 2, 3, 4, 5]\n",
      "Set from List: {1, 2, 3, 4, 5}\n"
     ]
    }
   ],
   "source": [
    "# Example list\n",
    "my_list = [1, 2, 3, 4, 5]\n",
    "\n",
    "# Create a set from the list\n",
    "set_from_list = set(my_list)\n",
    "\n",
    "# Display the result\n",
    "print(\"Original List:\", my_list)\n",
    "print(\"Set from List:\", set_from_list)\n"
   ]
  },
  {
   "cell_type": "markdown",
   "id": "d14b9530-8bf3-4b74-84ad-9ac41d65c6fc",
   "metadata": {},
   "source": [
    "15. Convert a set to a list."
   ]
  },
  {
   "cell_type": "code",
   "execution_count": 43,
   "id": "4bc7fe23-7ac8-41df-b859-1a45707ef034",
   "metadata": {},
   "outputs": [
    {
     "name": "stdout",
     "output_type": "stream",
     "text": [
      "Original Set: {1, 2, 3, 4, 5}\n",
      "List from Set: [1, 2, 3, 4, 5]\n"
     ]
    }
   ],
   "source": [
    "# Example set\n",
    "my_set = {1, 2, 3, 4, 5}\n",
    "\n",
    "# Convert the set to a list\n",
    "list_from_set = list(my_set)\n",
    "\n",
    "# Display the result\n",
    "print(\"Original Set:\", my_set)\n",
    "print(\"List from Set:\", list_from_set)\n"
   ]
  },
  {
   "cell_type": "markdown",
   "id": "bc9e07f9-e87a-4c07-9741-dc5acced8f2f",
   "metadata": {},
   "source": [
    "16. Remove a random element from a set."
   ]
  },
  {
   "cell_type": "code",
   "execution_count": 44,
   "id": "911046a3-94fc-450e-9fb1-b5a2a22bd639",
   "metadata": {},
   "outputs": [
    {
     "name": "stdout",
     "output_type": "stream",
     "text": [
      "Original Set: {2, 3, 4, 5}\n",
      "Removed Random Element: 1\n"
     ]
    }
   ],
   "source": [
    "import random\n",
    "\n",
    "# Example set\n",
    "my_set = {1, 2, 3, 4, 5}\n",
    "\n",
    "# Remove a random element\n",
    "random_element = my_set.pop()\n",
    "\n",
    "# Display the result\n",
    "print(\"Original Set:\", my_set)\n",
    "print(\"Removed Random Element:\", random_element)\n"
   ]
  },
  {
   "cell_type": "markdown",
   "id": "970b0276-9d10-42a2-b6f8-c7c66e7040c3",
   "metadata": {},
   "source": [
    "17. Pop an element from a set."
   ]
  },
  {
   "cell_type": "code",
   "execution_count": 45,
   "id": "91466219-a55e-4018-a82d-4a33a927204d",
   "metadata": {},
   "outputs": [
    {
     "name": "stdout",
     "output_type": "stream",
     "text": [
      "Original Set: {2, 3, 4, 5}\n",
      "Popped Element: 1\n"
     ]
    }
   ],
   "source": [
    "# Example set\n",
    "my_set = {1, 2, 3, 4, 5}\n",
    "\n",
    "# Pop an element\n",
    "popped_element = my_set.pop()\n",
    "\n",
    "# Display the result\n",
    "print(\"Original Set:\", my_set)\n",
    "print(\"Popped Element:\", popped_element)\n"
   ]
  },
  {
   "cell_type": "markdown",
   "id": "ea467313-39a9-4cb1-a08d-940daf2d5a4e",
   "metadata": {},
   "source": [
    "18. Check if two sets have no elements in common."
   ]
  },
  {
   "cell_type": "code",
   "execution_count": 46,
   "id": "878b9c57-9593-4428-bf60-109a30835c5f",
   "metadata": {},
   "outputs": [
    {
     "name": "stdout",
     "output_type": "stream",
     "text": [
      "Set 1: {1, 2, 3}\n",
      "Set 2: {4, 5, 6}\n",
      "No common elements: True\n"
     ]
    }
   ],
   "source": [
    "# Example sets\n",
    "set1 = {1, 2, 3}\n",
    "set2 = {4, 5, 6}\n",
    "\n",
    "# Check if the sets have no elements in common\n",
    "no_common_elements = set1.isdisjoint(set2)\n",
    "\n",
    "# Display the result\n",
    "print(\"Set 1:\", set1)\n",
    "print(\"Set 2:\", set2)\n",
    "print(\"No common elements:\", no_common_elements)\n"
   ]
  },
  {
   "cell_type": "markdown",
   "id": "608a3194-3924-4603-839a-a22bacb00617",
   "metadata": {},
   "source": [
    "19. Find the symmetric difference between two sets."
   ]
  },
  {
   "cell_type": "code",
   "execution_count": 47,
   "id": "badf66f7-a274-4649-b5a1-df6b73af3856",
   "metadata": {},
   "outputs": [
    {
     "name": "stdout",
     "output_type": "stream",
     "text": [
      "Set 1: {1, 2, 3, 4, 5}\n",
      "Set 2: {4, 5, 6, 7, 8}\n",
      "Symmetric Difference: {1, 2, 3, 6, 7, 8}\n"
     ]
    }
   ],
   "source": [
    "# Example sets\n",
    "set1 = {1, 2, 3, 4, 5}\n",
    "set2 = {4, 5, 6, 7, 8}\n",
    "\n",
    "# Find the symmetric difference\n",
    "symmetric_difference_set = set1.symmetric_difference(set2)\n",
    "\n",
    "# Display the result\n",
    "print(\"Set 1:\", set1)\n",
    "print(\"Set 2:\", set2)\n",
    "print(\"Symmetric Difference:\", symmetric_difference_set)\n"
   ]
  },
  {
   "cell_type": "markdown",
   "id": "fce66574-6094-415c-8582-b0be2adf3794",
   "metadata": {},
   "source": [
    "20. Update a set with elements from another set."
   ]
  },
  {
   "cell_type": "code",
   "execution_count": 48,
   "id": "268502b5-c9c2-4f34-89f5-65ff98c439de",
   "metadata": {},
   "outputs": [
    {
     "name": "stdout",
     "output_type": "stream",
     "text": [
      "Updated Set 1: {1, 2, 3, 4, 5}\n"
     ]
    }
   ],
   "source": [
    "# Example sets\n",
    "set1 = {1, 2, 3}\n",
    "set2 = {3, 4, 5}\n",
    "\n",
    "# Update set1 with elements from set2\n",
    "set1.update(set2)\n",
    "\n",
    "# Display the result\n",
    "print(\"Updated Set 1:\", set1)\n"
   ]
  },
  {
   "cell_type": "code",
   "execution_count": null,
   "id": "b21cb6b4-5443-4a56-996d-de913fbd94c5",
   "metadata": {},
   "outputs": [],
   "source": [
    "21. Create a set of the first 5 prime numbers."
   ]
  },
  {
   "cell_type": "code",
   "execution_count": 50,
   "id": "1aabf24f-a887-49fa-bc02-9fb4714e346d",
   "metadata": {},
   "outputs": [
    {
     "name": "stdout",
     "output_type": "stream",
     "text": [
      "Set of the first 5 prime numbers: {2, 3, 5, 7, 11}\n"
     ]
    }
   ],
   "source": [
    "# Function to generate the first n prime numbers\n",
    "def generate_primes(n):\n",
    "    primes = []\n",
    "    num = 2\n",
    "    while len(primes) < n:\n",
    "        for p in primes:\n",
    "            if num % p == 0:\n",
    "                break\n",
    "        else:\n",
    "            primes.append(num)\n",
    "        num += 1\n",
    "    return set(primes)\n",
    "\n",
    "# Create a set of the first 5 prime numbers\n",
    "prime_numbers_set = generate_primes(5)\n",
    "\n",
    "# Display the result\n",
    "print(\"Set of the first 5 prime numbers:\", prime_numbers_set)\n"
   ]
  },
  {
   "cell_type": "markdown",
   "id": "5f63bb0a-dcf4-49f9-9627-43e2e475946e",
   "metadata": {},
   "source": [
    "22. Check if two sets are identical."
   ]
  },
  {
   "cell_type": "code",
   "execution_count": 51,
   "id": "568334f4-ca19-4786-b5b6-ddb73a834970",
   "metadata": {},
   "outputs": [
    {
     "name": "stdout",
     "output_type": "stream",
     "text": [
      "Set 1: {1, 2, 3}\n",
      "Set 2: {1, 2, 3}\n",
      "Are sets identical? True\n"
     ]
    }
   ],
   "source": [
    "# Example sets\n",
    "set1 = {1, 2, 3}\n",
    "set2 = {3, 2, 1}\n",
    "\n",
    "# Check if the sets are identical\n",
    "are_identical = set1 == set2\n",
    "\n",
    "# Display the result\n",
    "print(\"Set 1:\", set1)\n",
    "print(\"Set 2:\", set2)\n",
    "print(\"Are sets identical?\", are_identical)\n"
   ]
  },
  {
   "cell_type": "markdown",
   "id": "751c6578-6fc7-4114-9adf-c9ad03cfabf8",
   "metadata": {},
   "source": [
    "23. Create a frozen set."
   ]
  },
  {
   "cell_type": "code",
   "execution_count": 52,
   "id": "46adf55d-5ecb-4275-aeb9-8d33db51d66e",
   "metadata": {},
   "outputs": [
    {
     "name": "stdout",
     "output_type": "stream",
     "text": [
      "Original Set: {1, 2, 3, 4, 5}\n",
      "Frozen Set: frozenset({1, 2, 3, 4, 5})\n"
     ]
    }
   ],
   "source": [
    "# Example set\n",
    "my_set = {1, 2, 3, 4, 5}\n",
    "\n",
    "# Create a frozen set\n",
    "frozen_set = frozenset(my_set)\n",
    "\n",
    "# Display the result\n",
    "print(\"Original Set:\", my_set)\n",
    "print(\"Frozen Set:\", frozen_set)\n"
   ]
  },
  {
   "cell_type": "markdown",
   "id": "2f770751-ed11-43d3-a563-abba4e28d0c2",
   "metadata": {},
   "source": [
    "24. Check if a set is disjoint with another set."
   ]
  },
  {
   "cell_type": "code",
   "execution_count": 53,
   "id": "0b1c9e95-6378-4224-8922-da456f2ecde4",
   "metadata": {},
   "outputs": [
    {
     "name": "stdout",
     "output_type": "stream",
     "text": [
      "Set 1: {1, 2, 3}\n",
      "Set 2: {4, 5, 6}\n",
      "Are sets disjoint? True\n"
     ]
    }
   ],
   "source": [
    "# Example sets\n",
    "set1 = {1, 2, 3}\n",
    "set2 = {4, 5, 6}\n",
    "\n",
    "# Check if the sets are disjoint\n",
    "are_disjoint = set1.isdisjoint(set2)\n",
    "\n",
    "# Display the result\n",
    "print(\"Set 1:\", set1)\n",
    "print(\"Set 2:\", set2)\n",
    "print(\"Are sets disjoint?\", are_disjoint)\n"
   ]
  },
  {
   "cell_type": "markdown",
   "id": "45d406cb-b871-4731-901d-10691a5d0153",
   "metadata": {},
   "source": [
    "25. Create a set of squares of numbers from 1 to 5."
   ]
  },
  {
   "cell_type": "code",
   "execution_count": 54,
   "id": "4758d2c6-0032-4f70-9ab1-e4f6d7b8ec5f",
   "metadata": {},
   "outputs": [
    {
     "name": "stdout",
     "output_type": "stream",
     "text": [
      "Set of squares: {1, 4, 9, 16, 25}\n"
     ]
    }
   ],
   "source": [
    "# Create a set of squares\n",
    "squares_set = {x**2 for x in range(1, 6)}\n",
    "\n",
    "# Display the result\n",
    "print(\"Set of squares:\", squares_set)\n"
   ]
  },
  {
   "cell_type": "markdown",
   "id": "b4202778-f5dc-4e09-9b2e-02d7da0b8be9",
   "metadata": {},
   "source": [
    "26. Filter out all even numbers from a set."
   ]
  },
  {
   "cell_type": "code",
   "execution_count": 55,
   "id": "3bbb1ed3-26a5-495c-803d-277edda5f84c",
   "metadata": {},
   "outputs": [
    {
     "name": "stdout",
     "output_type": "stream",
     "text": [
      "Original Set: {1, 2, 3, 4, 5, 6, 7, 8, 9, 10}\n",
      "Filtered Set (odd numbers only): {1, 3, 5, 7, 9}\n"
     ]
    }
   ],
   "source": [
    "# Example set\n",
    "my_set = {1, 2, 3, 4, 5, 6, 7, 8, 9, 10}\n",
    "\n",
    "# Filter out even numbers\n",
    "filtered_set = {x for x in my_set if x % 2 != 0}\n",
    "\n",
    "# Display the result\n",
    "print(\"Original Set:\", my_set)\n",
    "print(\"Filtered Set (odd numbers only):\", filtered_set)\n"
   ]
  },
  {
   "cell_type": "markdown",
   "id": "b511852a-d801-4a7b-bf82-bb63abaa2321",
   "metadata": {},
   "source": [
    "27. Multiply all elements in a set by 2."
   ]
  },
  {
   "cell_type": "code",
   "execution_count": 56,
   "id": "620a84ea-64e1-4ac4-a725-3918b1fa42c4",
   "metadata": {},
   "outputs": [
    {
     "name": "stdout",
     "output_type": "stream",
     "text": [
      "Original Set: {1, 2, 3, 4, 5}\n",
      "Multiplied Set: {2, 4, 6, 8, 10}\n"
     ]
    }
   ],
   "source": [
    "# Example set\n",
    "my_set = {1, 2, 3, 4, 5}\n",
    "\n",
    "# Multiply all elements by 2\n",
    "multiplied_set = {x * 2 for x in my_set}\n",
    "\n",
    "# Display the result\n",
    "print(\"Original Set:\", my_set)\n",
    "print(\"Multiplied Set:\", multiplied_set)\n"
   ]
  },
  {
   "cell_type": "markdown",
   "id": "94cc102e-6bed-4240-affd-38b7512cbc66",
   "metadata": {},
   "source": [
    "28. Create a set of random numbers."
   ]
  },
  {
   "cell_type": "code",
   "execution_count": 57,
   "id": "98018312-f119-4efc-bd1c-5c06c46c1143",
   "metadata": {},
   "outputs": [
    {
     "name": "stdout",
     "output_type": "stream",
     "text": [
      "Set of random numbers: {1, 3, 6, 7, 9}\n"
     ]
    }
   ],
   "source": [
    "import random\n",
    "\n",
    "# Create a set of 5 random numbers between 1 and 10\n",
    "random_set = {random.randint(1, 10) for _ in range(5)}\n",
    "\n",
    "# Display the result\n",
    "print(\"Set of random numbers:\", random_set)\n"
   ]
  },
  {
   "cell_type": "markdown",
   "id": "5e7cbfe9-5d49-4993-b75f-bfcfb3e59c2e",
   "metadata": {},
   "source": [
    "29. Check if a set is empty."
   ]
  },
  {
   "cell_type": "code",
   "execution_count": 58,
   "id": "2712d734-efc3-41d3-b0dd-b874be21b275",
   "metadata": {},
   "outputs": [
    {
     "name": "stdout",
     "output_type": "stream",
     "text": [
      "Is the set empty? True\n"
     ]
    }
   ],
   "source": [
    "# Example set\n",
    "empty_set = set()\n",
    "\n",
    "# Check if the set is empty\n",
    "is_empty = not bool(empty_set)\n",
    "\n",
    "# Display the result\n",
    "print(\"Is the set empty?\", is_empty)\n"
   ]
  },
  {
   "cell_type": "markdown",
   "id": "011bfd86-9ea4-43fc-9b4b-e12d0e10452a",
   "metadata": {},
   "source": [
    "30. Create a nested set (hint: use frozenset)."
   ]
  },
  {
   "cell_type": "code",
   "execution_count": 59,
   "id": "825c6916-b532-4d03-925b-76d2f3d9e864",
   "metadata": {},
   "outputs": [
    {
     "name": "stdout",
     "output_type": "stream",
     "text": [
      "Nested Set: {frozenset({3, 4, 5}), frozenset({1, 2})}\n"
     ]
    }
   ],
   "source": [
    "# Create a nested set using frozenset\n",
    "nested_set = {frozenset({1, 2}), frozenset({3, 4, 5})}\n",
    "\n",
    "# Display the result\n",
    "print(\"Nested Set:\", nested_set)\n"
   ]
  },
  {
   "cell_type": "markdown",
   "id": "7cf75054-f3b6-492c-a4d4-d418f41f5c21",
   "metadata": {},
   "source": [
    "31. Remove an element from a set using the discard method."
   ]
  },
  {
   "cell_type": "code",
   "execution_count": 60,
   "id": "7b18aba8-c5a7-440a-822d-f60f9b0b8830",
   "metadata": {},
   "outputs": [
    {
     "name": "stdout",
     "output_type": "stream",
     "text": [
      "Original Set: {1, 2, 4, 5}\n"
     ]
    }
   ],
   "source": [
    "# Example set\n",
    "my_set = {1, 2, 3, 4, 5}\n",
    "\n",
    "# Remove an element using discard\n",
    "element_to_remove = 3\n",
    "my_set.discard(element_to_remove)\n",
    "\n",
    "# Display the result\n",
    "print(\"Original Set:\", my_set)\n"
   ]
  },
  {
   "cell_type": "markdown",
   "id": "501700db-3fb8-4f77-93b0-9bc1e482ddfa",
   "metadata": {},
   "source": [
    "32. Compare two sets."
   ]
  },
  {
   "cell_type": "code",
   "execution_count": 63,
   "id": "53e21e81-0aed-4923-9c17-e62c1d79ca0f",
   "metadata": {},
   "outputs": [
    {
     "name": "stdout",
     "output_type": "stream",
     "text": [
      "Set 1: {1, 2, 3, 4, 5}\n",
      "Set 2: {4, 5, 6, 7, 8}\n",
      "Are sets equal? False\n",
      "Is set 1 a subset of set 2? False\n",
      "Is set 1 a superset of set 2? False\n"
     ]
    }
   ],
   "source": [
    "# Example sets\n",
    "set1 = {1, 2, 3, 4, 5}\n",
    "set2 = {4, 5, 6, 7, 8}\n",
    "\n",
    "# Compare sets\n",
    "are_equal = set1 == set2\n",
    "is_subset = set1.issubset(set2)\n",
    "is_superset = set1.issuperset(set2)\n",
    "\n",
    "# Display the result\n",
    "print(\"Set 1:\", set1)\n",
    "print(\"Set 2:\", set2)\n",
    "print(\"Are sets equal?\", are_equal)\n",
    "print(\"Is set 1 a subset of set 2?\", is_subset)\n",
    "print(\"Is set 1 a superset of set 2?\", is_superset)\n"
   ]
  },
  {
   "cell_type": "markdown",
   "id": "74c3dad0-7376-46cd-8d78-7d509497f639",
   "metadata": {},
   "source": [
    "33. Create a set from a string."
   ]
  },
  {
   "cell_type": "code",
   "execution_count": 64,
   "id": "baded9b8-f589-48b8-9de7-6626c3fd8f8b",
   "metadata": {},
   "outputs": [
    {
     "name": "stdout",
     "output_type": "stream",
     "text": [
      "Original String: hello world\n",
      "Set from String: {'d', 'l', 'e', 'o', 'w', ' ', 'r', 'h'}\n"
     ]
    }
   ],
   "source": [
    "# Example string\n",
    "my_string = \"hello world\"\n",
    "\n",
    "# Create a set from the string\n",
    "string_set = set(my_string)\n",
    "\n",
    "# Display the result\n",
    "print(\"Original String:\", my_string)\n",
    "print(\"Set from String:\", string_set)\n"
   ]
  },
  {
   "cell_type": "markdown",
   "id": "b3b7e859-e433-4a1b-a86a-c859c3e2acf8",
   "metadata": {},
   "source": [
    "34. Convert a set of strings to a set of integers."
   ]
  },
  {
   "cell_type": "code",
   "execution_count": 65,
   "id": "2c364ffe-ab1f-4056-82bf-039b9f09fad3",
   "metadata": {},
   "outputs": [
    {
     "name": "stdout",
     "output_type": "stream",
     "text": [
      "Set of Strings: {'3', '5', '1', '2', '4'}\n",
      "Set of Integers: {1, 2, 3, 4, 5}\n"
     ]
    }
   ],
   "source": [
    "# Example set of strings\n",
    "string_set = {\"1\", \"2\", \"3\", \"4\", \"5\"}\n",
    "\n",
    "# Convert to a set of integers\n",
    "integer_set = {int(x) for x in string_set}\n",
    "\n",
    "# Display the result\n",
    "print(\"Set of Strings:\", string_set)\n",
    "print(\"Set of Integers:\", integer_set)\n"
   ]
  },
  {
   "cell_type": "markdown",
   "id": "f67e7cb3-6642-4400-8869-76b218c3383f",
   "metadata": {},
   "source": [
    "35. Convert a set of integers to a set of strings."
   ]
  },
  {
   "cell_type": "code",
   "execution_count": 66,
   "id": "95a56bb4-f34e-4310-b72a-17c177d252fb",
   "metadata": {},
   "outputs": [
    {
     "name": "stdout",
     "output_type": "stream",
     "text": [
      "Set of Integers: {1, 2, 3, 4, 5}\n",
      "Set of Strings: {'1', '2', '3', '5', '4'}\n"
     ]
    }
   ],
   "source": [
    "# Example set of integers\n",
    "integer_set = {1, 2, 3, 4, 5}\n",
    "\n",
    "# Convert to a set of strings\n",
    "string_set = {str(x) for x in integer_set}\n",
    "\n",
    "# Display the result\n",
    "print(\"Set of Integers:\", integer_set)\n",
    "print(\"Set of Strings:\", string_set)\n"
   ]
  },
  {
   "cell_type": "markdown",
   "id": "20791e76-2abb-4070-8912-a4bb5d42515c",
   "metadata": {},
   "source": [
    "36. Create a set from a tuple."
   ]
  },
  {
   "cell_type": "code",
   "execution_count": 67,
   "id": "0501b256-0a94-4a93-bee9-75af9fe21419",
   "metadata": {},
   "outputs": [
    {
     "name": "stdout",
     "output_type": "stream",
     "text": [
      "Original Tuple: (1, 2, 3, 4, 5)\n",
      "Set from Tuple: {1, 2, 3, 4, 5}\n"
     ]
    }
   ],
   "source": [
    "# Example tuple\n",
    "my_tuple = (1, 2, 3, 4, 5)\n",
    "\n",
    "# Create a set from the tuple\n",
    "tuple_set = set(my_tuple)\n",
    "\n",
    "# Display the result\n",
    "print(\"Original Tuple:\", my_tuple)\n",
    "print(\"Set from Tuple:\", tuple_set)\n"
   ]
  },
  {
   "cell_type": "markdown",
   "id": "811321d1-8ff5-4904-8299-097491df6cad",
   "metadata": {},
   "source": [
    "37. Convert a set to a tuple."
   ]
  },
  {
   "cell_type": "code",
   "execution_count": 68,
   "id": "8d496861-48af-4c7d-b557-a222b541b381",
   "metadata": {},
   "outputs": [
    {
     "name": "stdout",
     "output_type": "stream",
     "text": [
      "Original Set: {1, 2, 3, 4, 5}\n",
      "Tuple from Set: (1, 2, 3, 4, 5)\n"
     ]
    }
   ],
   "source": [
    "# Example set\n",
    "my_set = {1, 2, 3, 4, 5}\n",
    "\n",
    "# Convert the set to a tuple\n",
    "set_tuple = tuple(my_set)\n",
    "\n",
    "# Display the result\n",
    "print(\"Original Set:\", my_set)\n",
    "print(\"Tuple from Set:\", set_tuple)\n"
   ]
  },
  {
   "cell_type": "markdown",
   "id": "68ecb42a-5790-48de-85e1-a510804af993",
   "metadata": {},
   "source": [
    "38. Find the maximum value in a set."
   ]
  },
  {
   "cell_type": "code",
   "execution_count": 69,
   "id": "4e279154-160f-489a-ad4e-b7ba3916ac94",
   "metadata": {},
   "outputs": [
    {
     "name": "stdout",
     "output_type": "stream",
     "text": [
      "Original Set: {1, 2, 3, 4, 5}\n",
      "Maximum Value: 5\n"
     ]
    }
   ],
   "source": [
    "# Example set\n",
    "my_set = {1, 2, 3, 4, 5}\n",
    "\n",
    "# Find the maximum value\n",
    "max_value = max(my_set)\n",
    "\n",
    "# Display the result\n",
    "print(\"Original Set:\", my_set)\n",
    "print(\"Maximum Value:\", max_value)\n"
   ]
  },
  {
   "cell_type": "markdown",
   "id": "2c756eb4-32c5-4a96-b5c7-7207dd7728ea",
   "metadata": {},
   "source": [
    "39. Find the minimum value in a set."
   ]
  },
  {
   "cell_type": "code",
   "execution_count": 70,
   "id": "0e8ac5f6-be11-4576-a4fb-d060bc6a3ec5",
   "metadata": {},
   "outputs": [
    {
     "name": "stdout",
     "output_type": "stream",
     "text": [
      "Original Set: {1, 2, 3, 4, 5}\n",
      "Minimum Value: 1\n"
     ]
    }
   ],
   "source": [
    "# Example set\n",
    "my_set = {1, 2, 3, 4, 5}\n",
    "\n",
    "# Find the minimum value\n",
    "min_value = min(my_set)\n",
    "\n",
    "# Display the result\n",
    "print(\"Original Set:\", my_set)\n",
    "print(\"Minimum Value:\", min_value)\n"
   ]
  },
  {
   "cell_type": "markdown",
   "id": "301c816d-df7f-4ea6-9e35-7e2e183cdb30",
   "metadata": {},
   "source": [
    "40. Create a set from user input."
   ]
  },
  {
   "cell_type": "code",
   "execution_count": 71,
   "id": "e7ba2ead-856e-4061-8502-209157fb9b59",
   "metadata": {},
   "outputs": [
    {
     "name": "stdin",
     "output_type": "stream",
     "text": [
      "Enter elements separated by commas:  1,2,3,3,4,4\n"
     ]
    },
    {
     "name": "stdout",
     "output_type": "stream",
     "text": [
      "Set from user input: {1, 2, 3, 4}\n"
     ]
    }
   ],
   "source": [
    "# Get user input as a comma-separated string\n",
    "user_input = input(\"Enter elements separated by commas: \")\n",
    "\n",
    "# Convert the input string into a set\n",
    "user_set = set(map(int, user_input.split(',')))\n",
    "\n",
    "# Display the result\n",
    "print(\"Set from user input:\", user_set)\n"
   ]
  },
  {
   "cell_type": "markdown",
   "id": "5832ca32-1a49-4786-a53e-1db9c12677d2",
   "metadata": {},
   "source": [
    "41. Check if the intersection of two sets is empty."
   ]
  },
  {
   "cell_type": "code",
   "execution_count": 72,
   "id": "ffcb284b-8594-4daa-ba0b-06c628d3198e",
   "metadata": {},
   "outputs": [
    {
     "name": "stdout",
     "output_type": "stream",
     "text": [
      "Set 1: {1, 2, 3}\n",
      "Set 2: {4, 5, 6}\n",
      "Is the intersection empty? True\n"
     ]
    }
   ],
   "source": [
    "# Example sets\n",
    "set1 = {1, 2, 3}\n",
    "set2 = {4, 5, 6}\n",
    "\n",
    "# Check if the intersection is empty\n",
    "is_empty_intersection = set1.isdisjoint(set2)\n",
    "\n",
    "# Display the result\n",
    "print(\"Set 1:\", set1)\n",
    "print(\"Set 2:\", set2)\n",
    "print(\"Is the intersection empty?\", is_empty_intersection)\n"
   ]
  },
  {
   "cell_type": "markdown",
   "id": "cd434bdb-6ebf-404d-bcc5-58723f0d6f95",
   "metadata": {},
   "source": [
    "42. Create a set of the first 5 Fibonacci numbers."
   ]
  },
  {
   "cell_type": "code",
   "execution_count": 73,
   "id": "049e5c0f-69f5-4fd3-abee-f11a75998876",
   "metadata": {},
   "outputs": [
    {
     "name": "stdout",
     "output_type": "stream",
     "text": [
      "Set of the first 5 Fibonacci numbers: {0, 1, 2, 3}\n"
     ]
    }
   ],
   "source": [
    "# Function to generate the first n Fibonacci numbers\n",
    "def generate_fibonacci(n):\n",
    "    fibonacci = [0, 1]\n",
    "    while len(fibonacci) < n:\n",
    "        fibonacci.append(fibonacci[-1] + fibonacci[-2])\n",
    "    return set(fibonacci)\n",
    "\n",
    "# Create a set of the first 5 Fibonacci numbers\n",
    "fibonacci_set = generate_fibonacci(5)\n",
    "\n",
    "# Display the result\n",
    "print(\"Set of the first 5 Fibonacci numbers:\", fibonacci_set)\n"
   ]
  },
  {
   "cell_type": "markdown",
   "id": "d84db1b0-6527-444c-b187-f065cc4b3863",
   "metadata": {},
   "source": [
    "43. Remove duplicates from a list using sets."
   ]
  },
  {
   "cell_type": "code",
   "execution_count": 74,
   "id": "e99b83aa-962f-452c-92e9-69fc8ac325c8",
   "metadata": {},
   "outputs": [
    {
     "name": "stdout",
     "output_type": "stream",
     "text": [
      "Original List with Duplicates: [1, 2, 2, 3, 4, 4, 5]\n",
      "List without Duplicates: [1, 2, 3, 4, 5]\n"
     ]
    }
   ],
   "source": [
    "# Example list with duplicates\n",
    "my_list = [1, 2, 2, 3, 4, 4, 5]\n",
    "\n",
    "# Remove duplicates using a set\n",
    "unique_set = set(my_list)\n",
    "\n",
    "# Display the result\n",
    "print(\"Original List with Duplicates:\", my_list)\n",
    "print(\"List without Duplicates:\", list(unique_set))\n"
   ]
  },
  {
   "cell_type": "markdown",
   "id": "3b22cd96-4235-49e6-a227-31e1e1f5c73b",
   "metadata": {},
   "source": [
    "44. Check if two sets have the same elements, regardless of their count."
   ]
  },
  {
   "cell_type": "code",
   "execution_count": 75,
   "id": "d0887485-d38c-49a8-8cd0-7cd50ad315e9",
   "metadata": {},
   "outputs": [
    {
     "name": "stdout",
     "output_type": "stream",
     "text": [
      "Set 1: {1, 2, 3, 4, 5}\n",
      "Set 2: {1, 2, 3, 4, 5}\n",
      "Do sets have the same elements (regardless of count)? True\n"
     ]
    }
   ],
   "source": [
    "# Example sets\n",
    "set1 = {1, 2, 3, 4, 5}\n",
    "set2 = {5, 4, 3, 2, 1}\n",
    "\n",
    "# Check if sets have the same elements, regardless of their count\n",
    "are_equal_elements = set1 == set2\n",
    "\n",
    "# Display the result\n",
    "print(\"Set 1:\", set1)\n",
    "print(\"Set 2:\", set2)\n",
    "print(\"Do sets have the same elements (regardless of count)?\", are_equal_elements)\n"
   ]
  },
  {
   "cell_type": "markdown",
   "id": "45461a63-ae0a-4115-b104-5f351342b677",
   "metadata": {},
   "source": [
    "45. Create a set of the first `n` powers of 2."
   ]
  },
  {
   "cell_type": "code",
   "execution_count": 76,
   "id": "a571de66-a440-491a-a134-39498dbabd72",
   "metadata": {},
   "outputs": [
    {
     "name": "stdout",
     "output_type": "stream",
     "text": [
      "Set of the first 5 powers of 2: {1, 2, 4, 8, 16}\n"
     ]
    }
   ],
   "source": [
    "# Function to generate the first n powers of 2\n",
    "def generate_powers_of_2(n):\n",
    "    powers_of_2 = {2**i for i in range(n)}\n",
    "    return powers_of_2\n",
    "\n",
    "# Create a set of the first 5 powers of 2\n",
    "powers_of_2_set = generate_powers_of_2(5)\n",
    "\n",
    "# Display the result\n",
    "print(\"Set of the first 5 powers of 2:\", powers_of_2_set)\n"
   ]
  },
  {
   "cell_type": "markdown",
   "id": "b2674edd-2b3e-4e9e-b0cf-ea85fd5b1363",
   "metadata": {},
   "source": [
    "46. Find the common elements between a set and a list."
   ]
  },
  {
   "cell_type": "code",
   "execution_count": 77,
   "id": "bf8cf6b4-a08f-4c5d-a64e-d1fa34588a36",
   "metadata": {},
   "outputs": [
    {
     "name": "stdout",
     "output_type": "stream",
     "text": [
      "Set: {1, 2, 3, 4, 5}\n",
      "List: [3, 4, 5, 6, 7]\n",
      "Common elements: {3, 4, 5}\n"
     ]
    }
   ],
   "source": [
    "# Example set and list\n",
    "my_set = {1, 2, 3, 4, 5}\n",
    "my_list = [3, 4, 5, 6, 7]\n",
    "\n",
    "# Find common elements between set and list\n",
    "common_elements = my_set.intersection(my_list)\n",
    "\n",
    "# Display the result\n",
    "print(\"Set:\", my_set)\n",
    "print(\"List:\", my_list)\n",
    "print(\"Common elements:\", common_elements)\n"
   ]
  },
  {
   "cell_type": "markdown",
   "id": "955db330-a9be-4477-b0ad-9a65282af44d",
   "metadata": {},
   "source": [
    "47. Create a set of the first `n` triangular numbers."
   ]
  },
  {
   "cell_type": "code",
   "execution_count": 78,
   "id": "2910bf08-3f23-4c76-ba58-672372dae2d6",
   "metadata": {},
   "outputs": [
    {
     "name": "stdout",
     "output_type": "stream",
     "text": [
      "Set of the first 5 triangular numbers: {1, 3, 6, 10, 15}\n"
     ]
    }
   ],
   "source": [
    "# Function to generate the first n triangular numbers\n",
    "def generate_triangular_numbers(n):\n",
    "    triangular_numbers = {i * (i + 1) // 2 for i in range(1, n + 1)}\n",
    "    return triangular_numbers\n",
    "\n",
    "# Create a set of the first 5 triangular numbers\n",
    "triangular_numbers_set = generate_triangular_numbers(5)\n",
    "\n",
    "# Display the result\n",
    "print(\"Set of the first 5 triangular numbers:\", triangular_numbers_set)\n"
   ]
  },
  {
   "cell_type": "markdown",
   "id": "c527cfed-44a7-476b-af06-ce3646349945",
   "metadata": {},
   "source": [
    "48. Check if a set contains another set as a subset."
   ]
  },
  {
   "cell_type": "code",
   "execution_count": 79,
   "id": "351231df-1a26-4e99-b423-925ac2271bb6",
   "metadata": {},
   "outputs": [
    {
     "name": "stdout",
     "output_type": "stream",
     "text": [
      "Set 1: {1, 2, 3, 4, 5}\n",
      "Set 2: {3, 4, 5}\n",
      "Is set2 a subset of set1? True\n"
     ]
    }
   ],
   "source": [
    "# Example sets\n",
    "set1 = {1, 2, 3, 4, 5}\n",
    "set2 = {3, 4, 5}\n",
    "\n",
    "# Check if set2 is a subset of set1\n",
    "is_subset = set2.issubset(set1)\n",
    "\n",
    "# Display the result\n",
    "print(\"Set 1:\", set1)\n",
    "print(\"Set 2:\", set2)\n",
    "print(\"Is set2 a subset of set1?\", is_subset)\n"
   ]
  },
  {
   "cell_type": "markdown",
   "id": "04ce6d96-e686-448f-939a-89d85ddd48fd",
   "metadata": {},
   "source": [
    "49. Create a set of alternating 1s and 0s of length `n`."
   ]
  },
  {
   "cell_type": "code",
   "execution_count": 80,
   "id": "e57f9ebc-7282-47ef-b5aa-06303e216405",
   "metadata": {},
   "outputs": [
    {
     "name": "stdout",
     "output_type": "stream",
     "text": [
      "Set of alternating 1s and 0s: {0, 1}\n"
     ]
    }
   ],
   "source": [
    "# Function to create a set of alternating 1s and 0s\n",
    "def alternating_ones_zeros(n):\n",
    "    return {1 if i % 2 == 0 else 0 for i in range(n)}\n",
    "\n",
    "# Create a set of alternating 1s and 0s of length 8\n",
    "alternating_set = alternating_ones_zeros(8)\n",
    "\n",
    "# Display the result\n",
    "print(\"Set of alternating 1s and 0s:\", alternating_set)\n"
   ]
  },
  {
   "cell_type": "markdown",
   "id": "d41d2da7-da6f-4a6e-b755-3f2855b5a6c8",
   "metadata": {},
   "source": [
    "50. Merge multiple sets into one."
   ]
  },
  {
   "cell_type": "code",
   "execution_count": 81,
   "id": "d54559d2-b6f7-47ed-8aaa-96c2cf5eca21",
   "metadata": {},
   "outputs": [
    {
     "name": "stdout",
     "output_type": "stream",
     "text": [
      "Set 1: {1, 2, 3}\n",
      "Set 2: {3, 4, 5}\n",
      "Set 3: {5, 6, 7}\n",
      "Merged Set: {1, 2, 3, 4, 5, 6, 7}\n"
     ]
    }
   ],
   "source": [
    "# Example sets\n",
    "set1 = {1, 2, 3}\n",
    "set2 = {3, 4, 5}\n",
    "set3 = {5, 6, 7}\n",
    "\n",
    "# Merge sets into one\n",
    "merged_set = set1.union(set2, set3)\n",
    "\n",
    "# Display the result\n",
    "print(\"Set 1:\", set1)\n",
    "print(\"Set 2:\", set2)\n",
    "print(\"Set 3:\", set3)\n",
    "print(\"Merged Set:\", merged_set)\n"
   ]
  },
  {
   "cell_type": "code",
   "execution_count": null,
   "id": "63d03a2d-d984-4f9f-be13-589a07f20ef7",
   "metadata": {},
   "outputs": [],
   "source": []
  }
 ],
 "metadata": {
  "kernelspec": {
   "display_name": "Python 3 (ipykernel)",
   "language": "python",
   "name": "python3"
  },
  "language_info": {
   "codemirror_mode": {
    "name": "ipython",
    "version": 3
   },
   "file_extension": ".py",
   "mimetype": "text/x-python",
   "name": "python",
   "nbconvert_exporter": "python",
   "pygments_lexer": "ipython3",
   "version": "3.10.8"
  }
 },
 "nbformat": 4,
 "nbformat_minor": 5
}
