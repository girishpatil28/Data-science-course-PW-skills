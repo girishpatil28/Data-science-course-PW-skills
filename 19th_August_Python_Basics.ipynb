{
 "cells": [
  {
   "cell_type": "markdown",
   "id": "da9a799c-d667-43f9-bbe9-c2190049cd1f",
   "metadata": {},
   "source": [
    "1. Declare two variables, `x` and `y`, and assign them integer values. Swap the\n",
    "values of these variables without using any temporary variable."
   ]
  },
  {
   "cell_type": "code",
   "execution_count": 3,
   "id": "3048bb4a-7f4d-4754-817f-a5af60bc4a6e",
   "metadata": {},
   "outputs": [
    {
     "name": "stdout",
     "output_type": "stream",
     "text": [
      "value of x :  5  value of y :  10\n",
      "value of x is:  10\n",
      "value of y is:  5\n"
     ]
    }
   ],
   "source": [
    "# here is the solution code for the 1st question of assignment 1\n",
    "\n",
    "# we are declaring two variable in below namely x and y\n",
    "x=5\n",
    "y=10\n",
    "\n",
    "\n",
    "# printing the values of x and y before swapping \n",
    "print(\"value of x : \", x, \" value of y : \",y)\n",
    "\n",
    "# here we are swapping the values of these x and y variable without creating the another variable \n",
    "\n",
    "# the way to swap the variables in python is very simple , here in below its demonstrated\n",
    "x,y=y,x\n",
    "\n",
    "# The values of x and y variables are now swapped \n",
    "# now printing the values of x and y after performing the swapping operation \n",
    "print(\"value of x is: \",x)\n",
    "print(\"value of y is: \",y)\n"
   ]
  },
  {
   "cell_type": "markdown",
   "id": "1e6d9d1e-56f7-4781-9a58-01fea44e5578",
   "metadata": {},
   "source": [
    "2. Create a program that calculates the area of a rectangle. Take the length and\n",
    "width as inputs from the user and store them in variables. Calculate and\n",
    "display the area."
   ]
  },
  {
   "cell_type": "code",
   "execution_count": 4,
   "id": "d902518c-8338-4e81-9f41-c8ac3df1568d",
   "metadata": {},
   "outputs": [
    {
     "name": "stdin",
     "output_type": "stream",
     "text": [
      "Enter the value of the length:  4\n",
      "Enter the value of the width:  5\n"
     ]
    },
    {
     "name": "stdout",
     "output_type": "stream",
     "text": [
      "The area of ur retangle is :  20\n"
     ]
    }
   ],
   "source": [
    "# Here is the solution for the second question of the first assignment \n",
    "\n",
    "# we are calculating the area of the retangle by taking the widht and length values from the user\n",
    "\n",
    "\n",
    "# taking the value of the length, with the variable len\n",
    "len=int(input(\"Enter the value of the length: \"))\n",
    "\n",
    "\n",
    "# taking the value of width ,with the variable wid\n",
    "wid=int(input(\"Enter the value of the width: \"))\n",
    "\n",
    "print(\"The area of ur retangle is : \",len*wid)"
   ]
  },
  {
   "cell_type": "markdown",
   "id": "a5a51e6c-f61b-4c93-8437-82afa2823bad",
   "metadata": {},
   "source": [
    "3. Write a Python program that converts temperatures from Celsius to\n",
    "Fahrenheit. Take the temperature in Celsius as input, store it in a variable,\n",
    "convert it to Fahrenheit, and display the result."
   ]
  },
  {
   "cell_type": "code",
   "execution_count": 6,
   "id": "d449bde1-de82-47dc-b80a-11d5310d17d2",
   "metadata": {},
   "outputs": [
    {
     "name": "stdin",
     "output_type": "stream",
     "text": [
      "Enter temperature in Celsius:  30\n"
     ]
    },
    {
     "name": "stdout",
     "output_type": "stream",
     "text": [
      "30.0 degrees Celsius is equal to 86.0 degrees Fahrenheit.\n"
     ]
    }
   ],
   "source": [
    "# Function to convert Celsius to Fahrenheit\n",
    "def celsius_to_fahrenheit(celsius):\n",
    "    return (celsius * 9/5) + 32\n",
    "\n",
    "# Input temperature in Celsius, and we are storing it in the varibale itself\n",
    "celsius_temperature = float(input(\"Enter temperature in Celsius: \"))\n",
    "\n",
    "# Convert to Fahrenheit\n",
    "fahrenheit_temperature = celsius_to_fahrenheit(celsius_temperature)\n",
    "\n",
    "# Displayin the result after taking the input from the user\n",
    "print(f\"{celsius_temperature} degrees Celsius is equal to {fahrenheit_temperature} degrees Fahrenheit.\")\n"
   ]
  },
  {
   "cell_type": "markdown",
   "id": "69a2bc57-6b60-495c-894f-242b6c31ac96",
   "metadata": {},
   "source": [
    "TOPIC: String Based Questions"
   ]
  },
  {
   "cell_type": "markdown",
   "id": "802a29dc-8922-479f-82c9-ff23c462c735",
   "metadata": {},
   "source": [
    "1. Write a Python program that takes a string as input and prints the length of\n",
    "the string."
   ]
  },
  {
   "cell_type": "code",
   "execution_count": 26,
   "id": "121c596f-822e-4934-957f-4d77fee8e822",
   "metadata": {},
   "outputs": [
    {
     "name": "stdin",
     "output_type": "stream",
     "text": [
      "Enter the string value arvind\n"
     ]
    },
    {
     "name": "stdout",
     "output_type": "stream",
     "text": [
      "6\n"
     ]
    }
   ],
   "source": [
    "# Here is the variable s1 , which takes the string input from the user and stores it \n",
    "# Returns length of string\n",
    "\n",
    "\n",
    "def findLen(str):\n",
    "    counter = 0   \n",
    "    for i in str:\n",
    "        counter += 1\n",
    "    return counter\n",
    " \n",
    " \n",
    "str = input(\"Enter the string value\")\n",
    "print(findLen(str))"
   ]
  },
  {
   "cell_type": "markdown",
   "id": "ab7fcde0-5ee9-45f9-8323-10f46e642ef5",
   "metadata": {},
   "source": [
    "2. Create a program that takes a sentence from the user and counts the number\n",
    "of vowels (a, e, i, o, u) in the string."
   ]
  },
  {
   "cell_type": "code",
   "execution_count": 29,
   "id": "c718c0d9-8696-4a25-bdb8-16d8bc3b15aa",
   "metadata": {},
   "outputs": [
    {
     "name": "stdin",
     "output_type": "stream",
     "text": [
      "Enter the sentence:  arvind karanje\n"
     ]
    },
    {
     "name": "stdout",
     "output_type": "stream",
     "text": [
      "THe total number of vowels available in the given sentence is:  5\n"
     ]
    }
   ],
   "source": [
    " # Here is the program to count the number of vowels from the given sentence\n",
    "    \n",
    " # taking the sentence from the user ,with the variable sent\n",
    "sent=input(\"Enter the sentence: \")\n",
    "\n",
    "# count variable to count the vowel in sentence\n",
    "count=0\n",
    "\n",
    "# vowels list\n",
    "vowels=\"aeiouAEIOU\"\n",
    "\n",
    "for char in sent:\n",
    "    if char in vowels:\n",
    "        count=count+1\n",
    "        \n",
    "# here is the result to print the number of vowels count in the given sentence        \n",
    "print(\"THe total number of vowels available in the given sentence is: \",count)        \n",
    "\n"
   ]
  },
  {
   "cell_type": "markdown",
   "id": "2d268e8e-fcd8-4e0f-ba47-33da244cb498",
   "metadata": {},
   "source": [
    "3. Given a string, reverse the order of characters using string slicing and print\n",
    "the reversed string."
   ]
  },
  {
   "cell_type": "code",
   "execution_count": 30,
   "id": "4d4387cc-1db6-4eb9-be5c-efc8b77c9547",
   "metadata": {},
   "outputs": [
    {
     "name": "stdin",
     "output_type": "stream",
     "text": [
      "Enter a string:  arvind\n"
     ]
    },
    {
     "name": "stdout",
     "output_type": "stream",
     "text": [
      "Reversed string: dnivra\n"
     ]
    }
   ],
   "source": [
    "# Get a string input from the user\n",
    "user_string = input(\"Enter a string: \")\n",
    "\n",
    "# Use string slicing to reverse the string\n",
    "reversed_string = user_string[::-1]\n",
    "\n",
    "# Display the reversed string\n",
    "print(\"Reversed string:\", reversed_string)\n"
   ]
  },
  {
   "cell_type": "markdown",
   "id": "e9ee9cf0-1ee0-49b3-b028-9462c2a24274",
   "metadata": {},
   "source": [
    "4. Write a program that takes a string as input and checks if it is a palindrome\n",
    "(reads the same forwards and backwards)."
   ]
  },
  {
   "cell_type": "code",
   "execution_count": 35,
   "id": "c35e9d4a-efee-4b9c-870d-e4e8a47a2ac6",
   "metadata": {},
   "outputs": [
    {
     "name": "stdin",
     "output_type": "stream",
     "text": [
      "Enter a string:  pop\n"
     ]
    },
    {
     "name": "stdout",
     "output_type": "stream",
     "text": [
      "pop is a palindrome string\n"
     ]
    }
   ],
   "source": [
    "# Get a string input from the user\n",
    "user_string = input(\"Enter a string: \")\n",
    "\n",
    "# creating the reverse of the string to check whether its a palindrome or not\n",
    "reversed_string = user_string[::-1]\n",
    "\n",
    "# checking the palindrome with if condition \n",
    "if user_string==reversed_string:\n",
    "    print(f\"{user_string} is a palindrome string\")\n",
    "else:\n",
    "    print(f'{user_string} is not a palindrome')\n",
    "        \n"
   ]
  },
  {
   "cell_type": "markdown",
   "id": "13cc3bbf-a472-4167-b69c-f4028f699a6b",
   "metadata": {},
   "source": [
    "5. Create a program that takes a string as input and removes all the spaces from\n",
    "it. Print the modified string without spaces."
   ]
  },
  {
   "cell_type": "code",
   "execution_count": 36,
   "id": "c4e72ea7-5f33-439c-99da-d00a23e992f2",
   "metadata": {},
   "outputs": [
    {
     "name": "stdin",
     "output_type": "stream",
     "text": [
      "Enter the value of the string:  arvind karanje is g ood\n"
     ]
    },
    {
     "name": "stdout",
     "output_type": "stream",
     "text": [
      "Modified string without spaces: arvindkaranjeisgood\n"
     ]
    }
   ],
   "source": [
    "# Here is the program to remove all the spaces from the given string\n",
    "\n",
    "# a variable to take the string from the user\n",
    "s1=input(\"Enter the value of the string: \")\n",
    "\n",
    "# Remove spaces from the string\n",
    "modified_string = s1.replace(\" \", \"\")\n",
    "\n",
    "# Display the modified string without spaces\n",
    "print(\"Modified string without spaces:\", modified_string)"
   ]
  }
 ],
 "metadata": {
  "kernelspec": {
   "display_name": "Python 3 (ipykernel)",
   "language": "python",
   "name": "python3"
  },
  "language_info": {
   "codemirror_mode": {
    "name": "ipython",
    "version": 3
   },
   "file_extension": ".py",
   "mimetype": "text/x-python",
   "name": "python",
   "nbconvert_exporter": "python",
   "pygments_lexer": "ipython3",
   "version": "3.10.8"
  }
 },
 "nbformat": 4,
 "nbformat_minor": 5
}
