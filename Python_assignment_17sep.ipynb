{
 "cells": [
  {
   "cell_type": "markdown",
   "id": "3bcce16e-971d-4b03-9cf8-2e345759d186",
   "metadata": {},
   "source": [
    "# For Loop :-Questions"
   ]
  },
  {
   "cell_type": "markdown",
   "id": "7d06eed0-a996-4368-8c4b-a1535eb9a46d",
   "metadata": {},
   "source": [
    "1.Write a Python program to print numbers from 1 to 10 using a for loop."
   ]
  },
  {
   "cell_type": "code",
   "execution_count": 2,
   "id": "c4872033-e2f7-4f4c-a5dd-167e13239445",
   "metadata": {},
   "outputs": [
    {
     "name": "stdout",
     "output_type": "stream",
     "text": [
      "1\n",
      "2\n",
      "3\n",
      "4\n",
      "5\n",
      "6\n",
      "7\n",
      "8\n",
      "9\n",
      "10\n"
     ]
    }
   ],
   "source": [
    "#1\n",
    "for i in range(1, 11):\n",
    "    print(i)\n"
   ]
  },
  {
   "cell_type": "markdown",
   "id": "ef05808d-2464-4e20-9ca2-8a186c66a775",
   "metadata": {},
   "source": [
    "2.Explain the difference between a for loop and a while loop in Python."
   ]
  },
  {
   "cell_type": "code",
   "execution_count": null,
   "id": "5d8f25c0-a2e5-4ac5-b9b4-ac7b2d224bcb",
   "metadata": {},
   "outputs": [],
   "source": [
    "# For Loop:\n",
    "# >>Used when the number of iterations is known.\n",
    "# >>can be used with iterables\n",
    "# >>can be iterate through all the iterable data structures like string,list,tuple\n",
    "# >>for loop can be used using the for keyword followed by condition and colun\n",
    "# >>it will check the conditio and executes the loop body\n",
    "# >>range function can be used with for loop\n",
    "# >>it cannot be ifinite loop , executes only for known condtition \n",
    "\n",
    "# While Loop: \n",
    "# Used when a condition needs to be checked at each iteration.\n",
    "# it executes the loop body untill and unless the given conditio become true\n",
    "# it will execute the loop body after checking the condition only \n",
    "# can be used when conditio is unknows or iteration is unknowns\n",
    "# it can cuase the infinite loop\n"
   ]
  },
  {
   "cell_type": "markdown",
   "id": "3ccffd8a-d27d-45a3-b250-3f324ce066d5",
   "metadata": {},
   "source": [
    "3.Write a Python program to calculate the sum of all numbers from 1 to 100 using a for loop."
   ]
  },
  {
   "cell_type": "code",
   "execution_count": 3,
   "id": "26cd766c-c7d6-4de5-8fa0-872802a19454",
   "metadata": {},
   "outputs": [
    {
     "name": "stdout",
     "output_type": "stream",
     "text": [
      "Sum: 5050\n"
     ]
    }
   ],
   "source": [
    "#3\n",
    "sum_result = 0\n",
    "for num in range(1, 101):\n",
    "    sum_result += num\n",
    "print(\"Sum:\", sum_result)\n"
   ]
  },
  {
   "cell_type": "markdown",
   "id": "98e690ae-f89f-4169-b626-2d224a8c0560",
   "metadata": {},
   "source": [
    "4.How do you iterate through a list using a for loop in Python?"
   ]
  },
  {
   "cell_type": "code",
   "execution_count": 4,
   "id": "8bad11cf-1399-41c1-a01d-49ea7e2ef4a3",
   "metadata": {},
   "outputs": [
    {
     "name": "stdout",
     "output_type": "stream",
     "text": [
      "1\n",
      "2\n",
      "3\n",
      "4\n",
      "5\n"
     ]
    }
   ],
   "source": [
    "#4\n",
    "my_list = [1, 2, 3, 4, 5]\n",
    "for item in my_list:\n",
    "    print(item)\n"
   ]
  },
  {
   "cell_type": "markdown",
   "id": "a7d19914-5d70-476c-a806-2e6bba58a94e",
   "metadata": {},
   "source": [
    "5.Write a Python program to find the product of all elements in a list using a for loop."
   ]
  },
  {
   "cell_type": "code",
   "execution_count": 5,
   "id": "e3758ae0-9031-418a-b8c9-714f2995c598",
   "metadata": {},
   "outputs": [
    {
     "name": "stdout",
     "output_type": "stream",
     "text": [
      "Product: 120\n"
     ]
    }
   ],
   "source": [
    "#5\n",
    "my_list = [1, 2, 3, 4, 5]\n",
    "product_result = 1\n",
    "for num in my_list:\n",
    "    product_result *= num\n",
    "print(\"Product:\", product_result)\n"
   ]
  },
  {
   "cell_type": "markdown",
   "id": "7be941c2-4803-4ba4-9435-ed3873ab1ef0",
   "metadata": {},
   "source": [
    "\n",
    "6.Create a Python program that prints all even numbers from 1 to 20 using a for loop."
   ]
  },
  {
   "cell_type": "code",
   "execution_count": 6,
   "id": "3e4d4a8b-7b1c-4aed-9a1c-bef57a970069",
   "metadata": {},
   "outputs": [
    {
     "name": "stdout",
     "output_type": "stream",
     "text": [
      "2\n",
      "4\n",
      "6\n",
      "8\n",
      "10\n",
      "12\n",
      "14\n",
      "16\n",
      "18\n",
      "20\n"
     ]
    }
   ],
   "source": [
    "#6\n",
    "for i in range(2, 21, 2):\n",
    "    print(i)\n"
   ]
  },
  {
   "cell_type": "markdown",
   "id": "21c228c3-7ae4-48e4-b6c4-596a29fa0a4d",
   "metadata": {},
   "source": [
    "7.Write a Python program that calculates the factorial of a number using a for loop."
   ]
  },
  {
   "cell_type": "code",
   "execution_count": 7,
   "id": "8fdb1012-39cd-4752-8a35-121010a6ab9c",
   "metadata": {},
   "outputs": [
    {
     "name": "stdout",
     "output_type": "stream",
     "text": [
      "Factorial of 5: 120\n"
     ]
    }
   ],
   "source": [
    "#7\n",
    "def factorial(n):\n",
    "    result = 1\n",
    "    for i in range(1, n+1):\n",
    "        result *= i\n",
    "    return result\n",
    "\n",
    "print(\"Factorial of 5:\", factorial(5))\n"
   ]
  },
  {
   "cell_type": "markdown",
   "id": "00cbe2aa-c05a-40ac-b059-6ae0041f1333",
   "metadata": {},
   "source": [
    "8.How can you iterate through the characters of a string using a for loop in Python?"
   ]
  },
  {
   "cell_type": "code",
   "execution_count": 8,
   "id": "8542496d-e1d8-4c3a-b633-00e44d0cd710",
   "metadata": {},
   "outputs": [
    {
     "name": "stdout",
     "output_type": "stream",
     "text": [
      "H\n",
      "e\n",
      "l\n",
      "l\n",
      "o\n"
     ]
    }
   ],
   "source": [
    "#8\n",
    "my_string = \"Hello\"\n",
    "for char in my_string:\n",
    "    print(char)\n"
   ]
  },
  {
   "cell_type": "markdown",
   "id": "c7ae5cb2-2ed8-456a-8f85-131d8cb96e1a",
   "metadata": {},
   "source": [
    "9.Write a Python program to find the largest number in a list using a for loop."
   ]
  },
  {
   "cell_type": "code",
   "execution_count": 9,
   "id": "b3934321-8e7a-426c-ac48-ab35f4b59af1",
   "metadata": {},
   "outputs": [
    {
     "name": "stdout",
     "output_type": "stream",
     "text": [
      "Largest: 12\n"
     ]
    }
   ],
   "source": [
    "#9\n",
    "my_list = [8, 3, 12, 5, 9]\n",
    "largest = my_list[0]\n",
    "for num in my_list:\n",
    "    if num > largest:\n",
    "        largest = num\n",
    "print(\"Largest:\", largest)\n"
   ]
  },
  {
   "cell_type": "markdown",
   "id": "76e17a1c-5090-465e-9a67-42b7eb02b175",
   "metadata": {},
   "source": [
    "\n",
    "10.Create a Python program that prints the Fibonacci sequence up to a specified limit using a for loop."
   ]
  },
  {
   "cell_type": "code",
   "execution_count": 10,
   "id": "f80968b2-af91-42e6-a66b-725b4250fb2d",
   "metadata": {},
   "outputs": [
    {
     "name": "stdout",
     "output_type": "stream",
     "text": [
      "0 1 1 2 3 5 8 13 21 34 "
     ]
    }
   ],
   "source": [
    "#10\n",
    "limit = 10\n",
    "a, b = 0, 1\n",
    "for _ in range(limit):\n",
    "    print(a, end=\" \")\n",
    "    a, b = b, a + b\n"
   ]
  },
  {
   "cell_type": "markdown",
   "id": "1cf99d44-13ce-48e5-801d-933691b22899",
   "metadata": {},
   "source": [
    "11.Write a Python program to count the number of vowels in a given string using a for loop."
   ]
  },
  {
   "cell_type": "code",
   "execution_count": 11,
   "id": "9cccc94d-1b67-4f76-b186-f20e12acd2ac",
   "metadata": {},
   "outputs": [
    {
     "name": "stdout",
     "output_type": "stream",
     "text": [
      "Vowel Count: 3\n"
     ]
    }
   ],
   "source": [
    "#11\n",
    "my_string = \"Hello World\"\n",
    "vowel_count = 0\n",
    "for char in my_string:\n",
    "    if char.lower() in \"aeiou\":\n",
    "        vowel_count += 1\n",
    "print(\"Vowel Count:\", vowel_count)\n"
   ]
  },
  {
   "cell_type": "markdown",
   "id": "c8054e1d-638a-4864-a8af-674d27c1c613",
   "metadata": {},
   "source": [
    "12.Create a Python program that generates a multiplication table for a given number using a for loop."
   ]
  },
  {
   "cell_type": "code",
   "execution_count": 12,
   "id": "afa5b83b-51c9-4e1d-a40b-bf7068708326",
   "metadata": {},
   "outputs": [
    {
     "name": "stdout",
     "output_type": "stream",
     "text": [
      "5 x 1 = 5\n",
      "5 x 2 = 10\n",
      "5 x 3 = 15\n",
      "5 x 4 = 20\n",
      "5 x 5 = 25\n",
      "5 x 6 = 30\n",
      "5 x 7 = 35\n",
      "5 x 8 = 40\n",
      "5 x 9 = 45\n",
      "5 x 10 = 50\n"
     ]
    }
   ],
   "source": [
    "#12\n",
    "number = 5\n",
    "for i in range(1, 11):\n",
    "    print(f\"{number} x {i} = {number*i}\")\n"
   ]
  },
  {
   "cell_type": "markdown",
   "id": "24e2fca1-1c47-4b21-a546-6a4ef80b3c39",
   "metadata": {},
   "source": [
    "13.Write a Python program to reverse a list using a for loop."
   ]
  },
  {
   "cell_type": "code",
   "execution_count": 13,
   "id": "abdbaa6c-acaf-48de-b1cb-0753f2e552df",
   "metadata": {},
   "outputs": [
    {
     "name": "stdout",
     "output_type": "stream",
     "text": [
      "Reversed List: [5, 4, 3, 2, 1]\n"
     ]
    }
   ],
   "source": [
    "#13\n",
    "my_list = [1, 2, 3, 4, 5]\n",
    "reversed_list = []\n",
    "for i in range(len(my_list)-1, -1, -1):\n",
    "    reversed_list.append(my_list[i])\n",
    "print(\"Reversed List:\", reversed_list)\n"
   ]
  },
  {
   "cell_type": "markdown",
   "id": "3e6ef285-59e8-4847-ada6-5e8adc95be34",
   "metadata": {},
   "source": [
    "14.Write a Python program to find the common elements between two lists using a for loop."
   ]
  },
  {
   "cell_type": "code",
   "execution_count": 14,
   "id": "b3a5b357-aa45-41a2-8ede-c1c7df8a54bf",
   "metadata": {},
   "outputs": [
    {
     "name": "stdout",
     "output_type": "stream",
     "text": [
      "Common Elements: [3, 4, 5]\n"
     ]
    }
   ],
   "source": [
    "#14\n",
    "list1 = [1, 2, 3, 4, 5]\n",
    "list2 = [3, 4, 5, 6, 7]\n",
    "common_elements = []\n",
    "for item in list1:\n",
    "    if item in list2:\n",
    "        common_elements.append(item)\n",
    "print(\"Common Elements:\", common_elements)\n"
   ]
  },
  {
   "cell_type": "markdown",
   "id": "4af809bf-ac35-475a-a09f-9b6ad6ad0fa7",
   "metadata": {},
   "source": [
    "15.Explain how to use a for loop to iterate through the keys and values of a dictionary in Python."
   ]
  },
  {
   "cell_type": "code",
   "execution_count": 15,
   "id": "38bc0c21-8e36-42ea-8a90-495d3ddb7410",
   "metadata": {},
   "outputs": [
    {
     "name": "stdout",
     "output_type": "stream",
     "text": [
      "Key: a, Value: 1\n",
      "Key: b, Value: 2\n",
      "Key: c, Value: 3\n"
     ]
    }
   ],
   "source": [
    "#15\n",
    "my_dict = {'a': 1, 'b': 2, 'c': 3}\n",
    "for key, value in my_dict.items():\n",
    "    print(f\"Key: {key}, Value: {value}\")\n"
   ]
  },
  {
   "cell_type": "markdown",
   "id": "a7045783-a101-48d9-8b94-d5ef59f366fa",
   "metadata": {},
   "source": [
    "16.Write a Python program to find the GCD (Greatest Common Divisor) of two numbers using a for loop."
   ]
  },
  {
   "cell_type": "code",
   "execution_count": 16,
   "id": "f6fa0176-42c5-4168-b57f-858de18a8212",
   "metadata": {},
   "outputs": [
    {
     "name": "stdout",
     "output_type": "stream",
     "text": [
      "GCD: 12\n"
     ]
    }
   ],
   "source": [
    "#16\n",
    "def find_gcd(a, b):\n",
    "    while b:\n",
    "        a, b = b, a % b\n",
    "    return a\n",
    "\n",
    "num1, num2 = 24, 36\n",
    "print(\"GCD:\", find_gcd(num1, num2))\n"
   ]
  },
  {
   "cell_type": "markdown",
   "id": "07b39e9e-a59d-4403-a590-11b364e7eecf",
   "metadata": {},
   "source": [
    "17.Create a Python program that checks if a string is a palindrome using a for loop."
   ]
  },
  {
   "cell_type": "code",
   "execution_count": 17,
   "id": "2e620370-0d71-4b50-aaef-402c944ef672",
   "metadata": {},
   "outputs": [
    {
     "name": "stdout",
     "output_type": "stream",
     "text": [
      "Is Palindrome: True\n"
     ]
    }
   ],
   "source": [
    "#17\n",
    "my_string = \"radar\"\n",
    "is_palindrome = True\n",
    "for i in range(len(my_string)//2):\n",
    "    if my_string[i] != my_string[len(my_string)-1-i]:\n",
    "        is_palindrome = False\n",
    "        break\n",
    "print(\"Is Palindrome:\", is_palindrome)\n"
   ]
  },
  {
   "cell_type": "markdown",
   "id": "0ca2604f-1576-4891-981d-64297ca10afb",
   "metadata": {},
   "source": [
    "18.Write a Python program to remove duplicates from a list using a for loop."
   ]
  },
  {
   "cell_type": "code",
   "execution_count": 18,
   "id": "be96a7fc-53e9-4de2-8dea-5fdfdee642f9",
   "metadata": {},
   "outputs": [
    {
     "name": "stdout",
     "output_type": "stream",
     "text": [
      "List without Duplicates: [1, 2, 3, 4, 5]\n"
     ]
    }
   ],
   "source": [
    "#18\n",
    "my_list = [1, 2, 2, 3, 4, 4, 5]\n",
    "unique_list = []\n",
    "for item in my_list:\n",
    "    if item not in unique_list:\n",
    "        unique_list.append(item)\n",
    "print(\"List without Duplicates:\", unique_list)\n"
   ]
  },
  {
   "cell_type": "markdown",
   "id": "fdcb6944-79b5-4659-8ea1-d32d9042468f",
   "metadata": {},
   "source": [
    "19.Create a Python program that counts the number of words in a sentence using a for loop."
   ]
  },
  {
   "cell_type": "code",
   "execution_count": 19,
   "id": "fcb5c8ee-9b40-4199-ae47-66b41843581e",
   "metadata": {},
   "outputs": [
    {
     "name": "stdout",
     "output_type": "stream",
     "text": [
      "Word Count: 5\n"
     ]
    }
   ],
   "source": [
    "#19\n",
    "my_sentence = \"This is a sample sentence.\"\n",
    "word_count = 0\n",
    "for word in my_sentence.split():\n",
    "    word_count += 1\n",
    "print(\"Word Count:\", word_count)\n"
   ]
  },
  {
   "cell_type": "markdown",
   "id": "f4f40972-dca3-4ae1-9b9a-2220a93c098e",
   "metadata": {},
   "source": [
    "20.Write a Python program to find the sum of all odd numbers from 1 to 50 using a for loop."
   ]
  },
  {
   "cell_type": "code",
   "execution_count": 20,
   "id": "0f15805f-4f6d-4ffd-bc5e-f1601858fe99",
   "metadata": {},
   "outputs": [
    {
     "name": "stdout",
     "output_type": "stream",
     "text": [
      "Sum of Odd Numbers: 625\n"
     ]
    }
   ],
   "source": [
    "#20\n",
    "sum_odd = 0\n",
    "for i in range(1, 51, 2):\n",
    "    sum_odd += i\n",
    "print(\"Sum of Odd Numbers:\", sum_odd)\n"
   ]
  },
  {
   "cell_type": "markdown",
   "id": "adedd3f7-fdbe-4acc-aec8-670662bdf70c",
   "metadata": {},
   "source": [
    "21.Write a Python program that checks if a given year is a leap year using a for loop."
   ]
  },
  {
   "cell_type": "code",
   "execution_count": 21,
   "id": "a33de6b0-17d5-4dca-8d90-31b7542ec7c0",
   "metadata": {},
   "outputs": [
    {
     "name": "stdout",
     "output_type": "stream",
     "text": [
      "2024 is a Leap Year: True\n"
     ]
    }
   ],
   "source": [
    "#21\n",
    "def is_leap_year(year):\n",
    "    if (year % 4 == 0 and year % 100 != 0) or (year % 400 == 0):\n",
    "        return True\n",
    "    else:\n",
    "        return False\n",
    "\n",
    "year_to_check = 2024\n",
    "print(f\"{year_to_check} is a Leap Year:\", is_leap_year(year_to_check))\n"
   ]
  },
  {
   "cell_type": "markdown",
   "id": "c0756526-6beb-48c9-a9c5-5875f0cb4577",
   "metadata": {},
   "source": [
    "22.Create a Python program that calculates the square root of a number using a for loop."
   ]
  },
  {
   "cell_type": "code",
   "execution_count": 22,
   "id": "d49a13e7-b221-468e-9622-95f0ab31f46c",
   "metadata": {},
   "outputs": [
    {
     "name": "stdout",
     "output_type": "stream",
     "text": [
      "Square Root: 5.0\n"
     ]
    }
   ],
   "source": [
    "#22\n",
    "def square_root(num):\n",
    "    guess = num / 2\n",
    "    for _ in range(10):  # Adjust the number of iterations as needed for accuracy\n",
    "        guess = (guess + num / guess) / 2\n",
    "    return guess\n",
    "\n",
    "number_to_sqrt = 25\n",
    "print(\"Square Root:\", square_root(number_to_sqrt))\n"
   ]
  },
  {
   "cell_type": "markdown",
   "id": "1aa548e7-69d8-45ce-b9bc-e87e586bc838",
   "metadata": {},
   "source": [
    "23.Write a Python program to find the LCM (Least Common Multiple) of two numbers using a for loop."
   ]
  },
  {
   "cell_type": "code",
   "execution_count": 24,
   "id": "5c541150-c99a-438e-aed5-db4b0a4c121c",
   "metadata": {},
   "outputs": [
    {
     "name": "stdout",
     "output_type": "stream",
     "text": [
      "LCM: 36\n"
     ]
    }
   ],
   "source": [
    "#23\n",
    "def find_lcm(a, b):\n",
    "    max_num = max(a, b)\n",
    "    lcm = max_num\n",
    "    while True:\n",
    "        if lcm % a == 0 and lcm % b == 0:\n",
    "            return lcm\n",
    "        lcm += max_num\n",
    "\n",
    "num1, num2 = 12, 18\n",
    "print(\"LCM:\", find_lcm(num1, num2))\n"
   ]
  },
  {
   "cell_type": "markdown",
   "id": "59d2333f-65b1-4919-af74-0647e6765864",
   "metadata": {},
   "source": [
    "# If else :questions"
   ]
  },
  {
   "cell_type": "markdown",
   "id": "a4546a18-75d5-410f-ac35-f7cbcfd36458",
   "metadata": {},
   "source": [
    "1.Write a Python program to check if a number is positive, negative, or zero using an if-else statement."
   ]
  },
  {
   "cell_type": "code",
   "execution_count": 2,
   "id": "b10d8a70-c03c-4698-a028-10440119deff",
   "metadata": {},
   "outputs": [
    {
     "name": "stdin",
     "output_type": "stream",
     "text": [
      "Enter a number:  2\n"
     ]
    },
    {
     "name": "stdout",
     "output_type": "stream",
     "text": [
      "Positive number\n"
     ]
    }
   ],
   "source": [
    "#1\n",
    "number = float(input(\"Enter a number: \"))\n",
    "if number > 0:\n",
    "    print(\"Positive number\")\n",
    "elif number < 0:\n",
    "    print(\"Negative number\")\n",
    "else:\n",
    "    print(\"Zero\")\n"
   ]
  },
  {
   "cell_type": "markdown",
   "id": "16d74043-807e-4c58-9662-e0e4e7ff02f0",
   "metadata": {},
   "source": [
    "2.Create a Python program that checks if a given number is even or odd using an if-else statement."
   ]
  },
  {
   "cell_type": "code",
   "execution_count": 3,
   "id": "04ef49e1-2894-4794-8616-88edaf03d666",
   "metadata": {},
   "outputs": [
    {
     "name": "stdin",
     "output_type": "stream",
     "text": [
      "Enter a number:  2\n"
     ]
    },
    {
     "name": "stdout",
     "output_type": "stream",
     "text": [
      "Even number\n"
     ]
    }
   ],
   "source": [
    "# 2\n",
    "number = int(input(\"Enter a number: \"))\n",
    "if number % 2 == 0:\n",
    "    print(\"Even number\")\n",
    "else:\n",
    "    print(\"Odd number\")\n"
   ]
  },
  {
   "cell_type": "markdown",
   "id": "d8dd17d8-089d-47db-9dab-a56b0a2ce015",
   "metadata": {},
   "source": [
    "3.How can you use nested if-else statements in Python, and provide an example?"
   ]
  },
  {
   "cell_type": "code",
   "execution_count": 2,
   "id": "1848f712-a966-4c33-94fb-f9bc96441192",
   "metadata": {},
   "outputs": [
    {
     "name": "stdout",
     "output_type": "stream",
     "text": [
      "Its 5\n",
      "its greater then 0\n",
      "its less then 6\n",
      "its greater then or equals to 5\n",
      "its less then 10 not greater then 10\n"
     ]
    }
   ],
   "source": [
    "# nested if can be used to check multiple condition inside the if statement \n",
    "# structure of the nested if conntinues one inside the one \n",
    "# here is example of how we can use the nested if statment to check multiple conditions from single statement or single variable\n",
    "# in order to execute the nested if , the outer if condition should be true\n",
    "\n",
    "a=5\n",
    "if a==5:\n",
    "    print(\"Its 5\")\n",
    "    if a>0:\n",
    "        print(\"its greater then 0\")\n",
    "        if a<6:\n",
    "            print(\"its less then 6\")\n",
    "            if a>=5:\n",
    "                print(\"its greater then or equals to 5\")\n",
    "                if a>10:\n",
    "                    print(\"its greater then 10\")\n",
    "                else:\n",
    "                    print(\"its less then 10 not greater then 10\")"
   ]
  },
  {
   "cell_type": "markdown",
   "id": "51b0138a-fa8e-46ba-8f9c-923dd31a4a2f",
   "metadata": {},
   "source": [
    "4.Write a Python program to determine the largest of three numbers using if-else."
   ]
  },
  {
   "cell_type": "code",
   "execution_count": 1,
   "id": "5d9fa92d-5ff4-489f-b910-446322a2bf1c",
   "metadata": {},
   "outputs": [
    {
     "name": "stdin",
     "output_type": "stream",
     "text": [
      "Enter first number:  1\n",
      "Enter second number:  2\n",
      "Enter third number:  3\n"
     ]
    },
    {
     "name": "stdout",
     "output_type": "stream",
     "text": [
      "Largest number: 3.0\n"
     ]
    }
   ],
   "source": [
    "#4\n",
    "num1 = float(input(\"Enter first number: \"))\n",
    "num2 = float(input(\"Enter second number: \"))\n",
    "num3 = float(input(\"Enter third number: \"))\n",
    "\n",
    "if num1 >= num2 and num1 >= num3:\n",
    "    print(\"Largest number:\", num1)\n",
    "elif num2 >= num1 and num2 >= num3:\n",
    "    print(\"Largest number:\", num2)\n",
    "else:\n",
    "    print(\"Largest number:\", num3)"
   ]
  },
  {
   "cell_type": "markdown",
   "id": "90241a29-9f6b-447a-b2f5-53f01a3a187a",
   "metadata": {},
   "source": [
    "5.Write a Python program that calculates the absolute value of a number using if-else."
   ]
  },
  {
   "cell_type": "code",
   "execution_count": 5,
   "id": "ae1fae6e-0b8c-4ae1-bdf7-43ab274b711c",
   "metadata": {},
   "outputs": [
    {
     "name": "stdin",
     "output_type": "stream",
     "text": [
      "Enter a number:  3\n"
     ]
    },
    {
     "name": "stdout",
     "output_type": "stream",
     "text": [
      "Absolute value: 3.0\n"
     ]
    }
   ],
   "source": [
    "#5\n",
    "number = float(input(\"Enter a number: \"))\n",
    "if number < 0:\n",
    "    absolute_value = -number\n",
    "else:\n",
    "    absolute_value = number\n",
    "print(\"Absolute value:\", absolute_value)\n"
   ]
  },
  {
   "cell_type": "markdown",
   "id": "fc639bcd-75b5-4cf5-b3a8-54c039e26943",
   "metadata": {},
   "source": [
    "6.Create a Python program that checks if a given character is a vowel or consonant using if-else."
   ]
  },
  {
   "cell_type": "code",
   "execution_count": 3,
   "id": "18885f28-e0db-490a-8dff-cc0016da324b",
   "metadata": {},
   "outputs": [
    {
     "name": "stdin",
     "output_type": "stream",
     "text": [
      "Enter a character:  h\n"
     ]
    },
    {
     "name": "stdout",
     "output_type": "stream",
     "text": [
      "Consonant\n"
     ]
    }
   ],
   "source": [
    "#6\n",
    "char = input(\"Enter a character: \").lower()\n",
    "if char.isalpha():\n",
    "    if char in 'aeiou':\n",
    "        print(\"Vowel\")\n",
    "    else:\n",
    "        print(\"Consonant\")\n",
    "else:\n",
    "    print(\"Not a valid character.\")\n"
   ]
  },
  {
   "cell_type": "markdown",
   "id": "27a382f4-2d93-47e5-b907-8347e04ed1a4",
   "metadata": {},
   "source": [
    "7.Write a Python program to determine if a user is eligible to vote based on their age using if-else."
   ]
  },
  {
   "cell_type": "code",
   "execution_count": 4,
   "id": "ca17f5cc-6aef-4da4-9266-451e32d186e5",
   "metadata": {},
   "outputs": [
    {
     "name": "stdin",
     "output_type": "stream",
     "text": [
      "Enter your age:  23\n"
     ]
    },
    {
     "name": "stdout",
     "output_type": "stream",
     "text": [
      "You are eligible to vote.\n"
     ]
    }
   ],
   "source": [
    "#7\n",
    "age = int(input(\"Enter your age: \"))\n",
    "if age >= 18:\n",
    "    print(\"You are eligible to vote.\")\n",
    "else:\n",
    "    print(\"You are not eligible to vote yet.\")\n",
    "\n"
   ]
  },
  {
   "cell_type": "markdown",
   "id": "8d340e43-d39f-43d6-96fd-67bf6c97f02c",
   "metadata": {},
   "source": [
    "8.Create a Python program that calculates the discount amount based on the purchase amount using if-else."
   ]
  },
  {
   "cell_type": "code",
   "execution_count": 5,
   "id": "c8fc5c2c-c4d7-4de1-8df2-f92a31b6f0ab",
   "metadata": {},
   "outputs": [
    {
     "name": "stdin",
     "output_type": "stream",
     "text": [
      "Enter the purchase amount:  5000\n"
     ]
    },
    {
     "name": "stdout",
     "output_type": "stream",
     "text": [
      "Discount amount: 500.0\n"
     ]
    }
   ],
   "source": [
    "#8\n",
    "purchase_amount = float(input(\"Enter the purchase amount: \"))\n",
    "if purchase_amount > 1000:\n",
    "    discount = 0.1 * purchase_amount\n",
    "else:\n",
    "    discount = 0\n",
    "print(\"Discount amount:\", discount)\n"
   ]
  },
  {
   "cell_type": "markdown",
   "id": "c107da36-f5cb-4966-b713-a8aaeb10420e",
   "metadata": {},
   "source": [
    "9.Write a Python program to check if a number is within a specified range using if-else."
   ]
  },
  {
   "cell_type": "code",
   "execution_count": 6,
   "id": "b7aa9aa2-cea5-4269-a047-980b9a90476c",
   "metadata": {},
   "outputs": [
    {
     "name": "stdin",
     "output_type": "stream",
     "text": [
      "Enter a number:  4\n"
     ]
    },
    {
     "name": "stdout",
     "output_type": "stream",
     "text": [
      "Number is outside the specified range.\n"
     ]
    }
   ],
   "source": [
    "#9\n",
    "number = int(input(\"Enter a number: \"))\n",
    "if 10 <= number <= 50:\n",
    "    print(\"Number is within the specified range.\")\n",
    "else:\n",
    "    print(\"Number is outside the specified range.\")\n"
   ]
  },
  {
   "cell_type": "markdown",
   "id": "410e847e-7895-4d14-861e-5019b1c64b99",
   "metadata": {},
   "source": [
    "10.Create a Python program that determines the grade of a student based on their score using if-else."
   ]
  },
  {
   "cell_type": "code",
   "execution_count": 7,
   "id": "11e7dc73-f135-44e1-a122-828347c374e3",
   "metadata": {},
   "outputs": [
    {
     "name": "stdin",
     "output_type": "stream",
     "text": [
      "Enter your score:  90\n"
     ]
    },
    {
     "name": "stdout",
     "output_type": "stream",
     "text": [
      "Your grade is: A\n"
     ]
    }
   ],
   "source": [
    "#10\n",
    "score = float(input(\"Enter your score: \"))\n",
    "if 90 <= score <= 100:\n",
    "    grade = 'A'\n",
    "elif 80 <= score < 90:\n",
    "    grade = 'B'\n",
    "elif 70 <= score < 80:\n",
    "    grade = 'C'\n",
    "elif 60 <= score < 70:\n",
    "    grade = 'D'\n",
    "else:\n",
    "    grade = 'F'\n",
    "print(\"Your grade is:\", grade)\n"
   ]
  },
  {
   "cell_type": "markdown",
   "id": "c92eb281-f34e-4ae2-9b05-7fab0a8b52c5",
   "metadata": {},
   "source": [
    "11.Write a Python program to check if a string is empty or not using if-else."
   ]
  },
  {
   "cell_type": "code",
   "execution_count": 8,
   "id": "faa36be8-2056-4905-8141-48ebf140890c",
   "metadata": {},
   "outputs": [
    {
     "name": "stdin",
     "output_type": "stream",
     "text": [
      "Enter a string:  arvind\n"
     ]
    },
    {
     "name": "stdout",
     "output_type": "stream",
     "text": [
      "The string is not empty.\n"
     ]
    }
   ],
   "source": [
    "#11\n",
    "my_string = input(\"Enter a string: \")\n",
    "if my_string:\n",
    "    print(\"The string is not empty.\")\n",
    "else:\n",
    "    print(\"The string is empty.\")\n",
    "\n"
   ]
  },
  {
   "cell_type": "markdown",
   "id": "93d57b27-0e1d-496a-9457-7cfde4aa10a7",
   "metadata": {},
   "source": [
    "12.Create a Python program that identifies the type of a triangle (e.g., equilateral, isosceles, or scalene) based on input values using if-else."
   ]
  },
  {
   "cell_type": "code",
   "execution_count": 1,
   "id": "14da07ae-2358-4de1-bff1-29596f88a4e0",
   "metadata": {},
   "outputs": [
    {
     "name": "stdin",
     "output_type": "stream",
     "text": [
      "Enter length of side 1:  2\n",
      "Enter length of side 2:  3\n",
      "Enter length of side 3:  4\n"
     ]
    },
    {
     "name": "stdout",
     "output_type": "stream",
     "text": [
      "Scalene triangle\n"
     ]
    }
   ],
   "source": [
    "#12\n",
    "side1 = float(input(\"Enter length of side 1: \"))\n",
    "side2 = float(input(\"Enter length of side 2: \"))\n",
    "side3 = float(input(\"Enter length of side 3: \"))\n",
    "\n",
    "if side1 == side2 == side3:\n",
    "    print(\"Equilateral triangle\")\n",
    "elif side1 == side2 or side1 == side3 or side2 == side3:\n",
    "    print(\"Isosceles triangle\")\n",
    "else:\n",
    "    print(\"Scalene triangle\")\n"
   ]
  },
  {
   "cell_type": "markdown",
   "id": "d089105d-1671-42f0-a5a7-8404a2b0a1d2",
   "metadata": {},
   "source": [
    "13.Write a Python program to determine the day of the week based on a user-provided number using if-else."
   ]
  },
  {
   "cell_type": "code",
   "execution_count": 2,
   "id": "d455cafa-4daf-419e-84ec-0ed6357b5aad",
   "metadata": {},
   "outputs": [
    {
     "name": "stdin",
     "output_type": "stream",
     "text": [
      "Enter a number (1-7) representing the day of the week:  4\n"
     ]
    },
    {
     "name": "stdout",
     "output_type": "stream",
     "text": [
      "The day is: Thursday\n"
     ]
    }
   ],
   "source": [
    "#13\n",
    "day_number = int(input(\"Enter a number (1-7) representing the day of the week: \"))\n",
    "if 1 <= day_number <= 7:\n",
    "    days = ['Monday', 'Tuesday', 'Wednesday', 'Thursday', 'Friday', 'Saturday', 'Sunday']\n",
    "    print(\"The day is:\", days[day_number - 1])\n",
    "else:\n",
    "    print(\"Invalid day number.\")\n"
   ]
  },
  {
   "cell_type": "markdown",
   "id": "cb736f7d-69ea-4c1a-b2e5-ca9be46dbac0",
   "metadata": {},
   "source": [
    "14.Create a Python program that checks if a given year is a leap year using both if-else and a function."
   ]
  },
  {
   "cell_type": "code",
   "execution_count": 3,
   "id": "2fea07bb-a0cb-47db-bc4e-89b635b60fae",
   "metadata": {},
   "outputs": [
    {
     "name": "stdin",
     "output_type": "stream",
     "text": [
      "Enter a year:  2024\n"
     ]
    },
    {
     "name": "stdout",
     "output_type": "stream",
     "text": [
      "2024 is a leap year.\n"
     ]
    }
   ],
   "source": [
    "#14\n",
    "def is_leap_year(year):\n",
    "    if (year % 4 == 0 and year % 100 != 0) or (year % 400 == 0):\n",
    "        return True\n",
    "    else:\n",
    "        return False\n",
    "\n",
    "year_to_check = int(input(\"Enter a year: \"))\n",
    "if is_leap_year(year_to_check):\n",
    "    print(f\"{year_to_check} is a leap year.\")\n",
    "else:\n",
    "    print(f\"{year_to_check} is not a leap year.\")\n"
   ]
  },
  {
   "cell_type": "markdown",
   "id": "a2620da0-c93f-44b1-978b-85b958197560",
   "metadata": {},
   "source": [
    "15.How do you use the \"assert\" statement in Python to add debugging checks within if-else blocks?"
   ]
  },
  {
   "cell_type": "code",
   "execution_count": 6,
   "id": "431df3f8-01c7-46ff-aa5a-5747b6b1fea9",
   "metadata": {},
   "outputs": [
    {
     "name": "stdin",
     "output_type": "stream",
     "text": [
      "Enter the purchase amount:  -500\n"
     ]
    },
    {
     "name": "stdout",
     "output_type": "stream",
     "text": [
      "Error: Purchase amount should be non-negative\n"
     ]
    }
   ],
   "source": [
    "\n",
    "# The assert statement in Python is used for debugging purposes to check if a given expression is true. If the expression evaluates to False,\n",
    "# an AssertionError is raised, stopping the program's execution. It is a way to make sure that the assumptions about the state of the program \n",
    "# are true.\n",
    "\n",
    "# here is the example code\n",
    "def calculate_discount(purchase_amount):\n",
    "    assert purchase_amount >= 0, \"Purchase amount should be non-negative\"\n",
    "    \n",
    "    if purchase_amount > 1000:\n",
    "        discount = 0.1 * purchase_amount\n",
    "    else:\n",
    "        discount = 0\n",
    "    \n",
    "    return discount\n",
    "\n",
    "# Test the function\n",
    "purchase_amount = float(input(\"Enter the purchase amount: \"))\n",
    "\n",
    "try:\n",
    "    discount_amount = calculate_discount(purchase_amount)\n",
    "    print(\"Discount amount:\", discount_amount)\n",
    "except AssertionError as e:\n",
    "    print(f\"Error: {e}\")\n"
   ]
  },
  {
   "cell_type": "markdown",
   "id": "5cb331e3-27e3-4bda-9ae4-28e8d7121367",
   "metadata": {},
   "source": [
    "16.Create a Python program that determines the eligibility of a person for a senior citizen discount based on age using if-else."
   ]
  },
  {
   "cell_type": "code",
   "execution_count": 7,
   "id": "aafe40d0-c220-41c5-9f46-63d0d0326502",
   "metadata": {},
   "outputs": [
    {
     "name": "stdin",
     "output_type": "stream",
     "text": [
      "Enter your age:  50\n"
     ]
    },
    {
     "name": "stdout",
     "output_type": "stream",
     "text": [
      "You are not eligible for a senior citizen discount.\n"
     ]
    }
   ],
   "source": [
    "#16\n",
    "age = int(input(\"Enter your age: \"))\n",
    "if age >= 60:\n",
    "    print(\"You are eligible for a senior citizen discount.\")\n",
    "else:\n",
    "    print(\"You are not eligible for a senior citizen discount.\")\n"
   ]
  },
  {
   "cell_type": "markdown",
   "id": "a8dc7eac-b349-49fa-8804-e9baab8c800d",
   "metadata": {},
   "source": [
    "17.Write a Python program to categorize a given character as uppercase, lowercase, or neither using if-else."
   ]
  },
  {
   "cell_type": "code",
   "execution_count": 8,
   "id": "ea101dae-cdb8-466f-a524-b95476c0c5bc",
   "metadata": {},
   "outputs": [
    {
     "name": "stdin",
     "output_type": "stream",
     "text": [
      "Enter a character:  a\n"
     ]
    },
    {
     "name": "stdout",
     "output_type": "stream",
     "text": [
      "Lowercase character\n"
     ]
    }
   ],
   "source": [
    "#17\n",
    "char = input(\"Enter a character: \")\n",
    "if char.isalpha():\n",
    "    if char.islower():\n",
    "        print(\"Lowercase character\")\n",
    "    elif char.isupper():\n",
    "        print(\"Uppercase character\")\n",
    "else:\n",
    "    print(\"Not a valid character.\")\n"
   ]
  },
  {
   "cell_type": "markdown",
   "id": "bc309d1e-95f5-4029-9ab3-05eb80557ce2",
   "metadata": {},
   "source": [
    "18.Write a Python program to determine the roots of a quadratic equation using if-else."
   ]
  },
  {
   "cell_type": "code",
   "execution_count": 9,
   "id": "ae2df837-1dfa-4c53-bb0e-61ce989a4d43",
   "metadata": {},
   "outputs": [
    {
     "name": "stdin",
     "output_type": "stream",
     "text": [
      "Enter coefficient a:  3\n",
      "Enter coefficient b:  4\n",
      "Enter coefficient c:  5\n"
     ]
    },
    {
     "name": "stdout",
     "output_type": "stream",
     "text": [
      "Roots are complex. Root1 = -0.6666666666666666 + 1.1055415967851332i, Root2 = -0.6666666666666666 - 1.1055415967851332i\n"
     ]
    }
   ],
   "source": [
    "#18\n",
    "import math\n",
    "\n",
    "a = float(input(\"Enter coefficient a: \"))\n",
    "b = float(input(\"Enter coefficient b: \"))\n",
    "c = float(input(\"Enter coefficient c: \"))\n",
    "\n",
    "discriminant = b**2 - 4*a*c\n",
    "\n",
    "if discriminant > 0:\n",
    "    root1 = (-b + math.sqrt(discriminant)) / (2*a)\n",
    "    root2 = (-b - math.sqrt(discriminant)) / (2*a)\n",
    "    print(f\"Roots are real and different. Root1 = {root1}, Root2 = {root2}\")\n",
    "elif discriminant == 0:\n",
    "    root = -b / (2*a)\n",
    "    print(f\"Roots are real and the same. Root = {root}\")\n",
    "else:\n",
    "    real_part = -b / (2*a)\n",
    "    imaginary_part = math.sqrt(abs(discriminant)) / (2*a)\n",
    "    print(f\"Roots are complex. Root1 = {real_part} + {imaginary_part}i, Root2 = {real_part} - {imaginary_part}i\")\n"
   ]
  },
  {
   "cell_type": "markdown",
   "id": "03c33b30-17e9-4cf6-9e20-b6b0ae882437",
   "metadata": {},
   "source": [
    "19.Create a Python program that checks if a given year is a century year or not using if-else."
   ]
  },
  {
   "cell_type": "code",
   "execution_count": 10,
   "id": "e6d3c66a-bb02-4986-9517-a876e5539bd6",
   "metadata": {},
   "outputs": [
    {
     "name": "stdin",
     "output_type": "stream",
     "text": [
      "Enter a year:  2023\n"
     ]
    },
    {
     "name": "stdout",
     "output_type": "stream",
     "text": [
      "2023 is not a century year.\n"
     ]
    }
   ],
   "source": [
    "#19\n",
    "year = int(input(\"Enter a year: \"))\n",
    "if year % 100 == 0:\n",
    "    print(f\"{year} is a century year.\")\n",
    "else:\n",
    "    print(f\"{year} is not a century year.\")\n"
   ]
  },
  {
   "cell_type": "markdown",
   "id": "8efa68be-f97d-4bc6-86c0-ea998cbd00ec",
   "metadata": {},
   "source": [
    "20.Write a Python program to determine if a given number is a perfect square using if-else."
   ]
  },
  {
   "cell_type": "code",
   "execution_count": 11,
   "id": "03f59384-3bad-4edf-bca6-09c1886b214a",
   "metadata": {},
   "outputs": [
    {
     "name": "stdin",
     "output_type": "stream",
     "text": [
      "Enter a number:  4\n"
     ]
    },
    {
     "name": "stdout",
     "output_type": "stream",
     "text": [
      "4 is a perfect square.\n"
     ]
    }
   ],
   "source": [
    "#20\n",
    "number = int(input(\"Enter a number: \"))\n",
    "if number > 0 and int(math.sqrt(number))**2 == number:\n",
    "    print(f\"{number} is a perfect square.\")\n",
    "else:\n",
    "    print(f\"{number} is not a perfect square.\")\n"
   ]
  },
  {
   "cell_type": "markdown",
   "id": "214b5b29-2fc2-4f10-960b-929b84d0ef3b",
   "metadata": {},
   "source": [
    "21.Explain the purpose of the \"continue\" and \"break\" statements within if-else loops."
   ]
  },
  {
   "cell_type": "code",
   "execution_count": null,
   "id": "ff1e463e-8ff3-4ee1-908b-abb0f45a3919",
   "metadata": {},
   "outputs": [],
   "source": [
    "# continue Statement:\n",
    "\n",
    "# Purpose: The continue statement is used to alter the flow of a loop by skipping the remaining code in the loop for the current iteration \n",
    "# and moving to the next iteration. It allows you to bypass specific code execution based on a condition.\n",
    "# Use Case: It is typically employed when there is a need to skip certain iterations or processing steps within a loop without exiting the\n",
    "# entire loop. For example, if you are iterating over a sequence of elements and want to perform an action only on elements that meet a particular \n",
    "# condition, you can use continue to skip the processing for elements that do not meet the condition.\n",
    "\n",
    "# break Statement:\n",
    "\n",
    "# Purpose: The break statement is used to prematurely terminate a loop, regardless of whether the loop condition is still valid or not. It allows \n",
    "# you to exit the loop abruptly based on a specific condition.\n",
    "# Use Case: break is employed when there is a need to exit a loop prematurely under certain circumstances, without completing all iterations. \n",
    "# For instance, if you are searching for a specific element in a loop and find it, you can use break to exit the loop immediately, \n",
    "# saving unnecessary iterations."
   ]
  },
  {
   "cell_type": "markdown",
   "id": "e49ff39f-11c9-49cb-9b35-4d83ec7ee959",
   "metadata": {},
   "source": [
    "22.Create a Python program that calculates the BMI (Body Mass Index) of a person based on their weight and height using if-else."
   ]
  },
  {
   "cell_type": "code",
   "execution_count": 14,
   "id": "945a08e4-ba61-4fa9-96ea-c7754ead1287",
   "metadata": {},
   "outputs": [
    {
     "name": "stdin",
     "output_type": "stream",
     "text": [
      "Enter your weight in kilograms:  59\n",
      "Enter your height in meters:  1.6\n"
     ]
    },
    {
     "name": "stdout",
     "output_type": "stream",
     "text": [
      "Normal weight\n"
     ]
    }
   ],
   "source": [
    "#22\n",
    "weight = float(input(\"Enter your weight in kilograms: \"))\n",
    "height = float(input(\"Enter your height in meters: \"))\n",
    "bmi = weight / (height**2)\n",
    "\n",
    "if 18.5 <= bmi < 25:\n",
    "    print(\"Normal weight\")\n",
    "elif 25 <= bmi < 30:\n",
    "    print(\"Overweight\")\n",
    "else:\n",
    "    print(\"Obese\")\n"
   ]
  },
  {
   "cell_type": "markdown",
   "id": "2cc1c93a-36c5-4a0f-bbbc-ec9ebfe680b5",
   "metadata": {},
   "source": [
    "23.How can you use the \"filter()\" function with if-else statements to filter elements from a list?"
   ]
  },
  {
   "cell_type": "code",
   "execution_count": 15,
   "id": "2b063a98-0c55-4949-9cf7-a226fb776bfd",
   "metadata": {},
   "outputs": [
    {
     "name": "stdout",
     "output_type": "stream",
     "text": [
      "Original Numbers: [1, 2, 3, 4, 5, 6, 7, 8, 9, 10]\n",
      "Even Numbers: [2, 4, 6, 8, 10]\n"
     ]
    }
   ],
   "source": [
    "# Custom filtering function\n",
    "def is_even(number):\n",
    "    return number % 2 == 0\n",
    "\n",
    "# List of numbers\n",
    "numbers = [1, 2, 3, 4, 5, 6, 7, 8, 9, 10]\n",
    "\n",
    "# Use filter() with the custom function\n",
    "filtered_numbers = filter(is_even, numbers)\n",
    "\n",
    "# Convert the result to a list\n",
    "even_numbers = list(filtered_numbers)\n",
    "\n",
    "# Print the result\n",
    "print(\"Original Numbers:\", numbers)\n",
    "print(\"Even Numbers:\", even_numbers)\n"
   ]
  },
  {
   "cell_type": "markdown",
   "id": "02615af8-e636-4eb2-81fa-5b6aef2fbad9",
   "metadata": {},
   "source": [
    "24.Write a Python program to determine if a given number is prime or not using if-else."
   ]
  },
  {
   "cell_type": "code",
   "execution_count": 16,
   "id": "bbdec5cc-22be-4763-92d6-44530ab09e4a",
   "metadata": {},
   "outputs": [
    {
     "name": "stdin",
     "output_type": "stream",
     "text": [
      "Enter a number:  3\n"
     ]
    },
    {
     "name": "stdout",
     "output_type": "stream",
     "text": [
      "3 is a prime number.\n"
     ]
    }
   ],
   "source": [
    "#24\n",
    "number = int(input(\"Enter a number: \"))\n",
    "if number > 1:\n",
    "    for i in range(2, int(math.sqrt(number)) + 1):\n",
    "        if number % i == 0:\n",
    "            print(f\"{number} is not a prime number.\")\n",
    "            break\n",
    "    else:\n",
    "        print(f\"{number} is a prime number.\")\n",
    "else:\n",
    "    print(\"Invalid input. Enter a number greater than 1.\")\n"
   ]
  },
  {
   "cell_type": "markdown",
   "id": "08c4fca8-2521-43cd-8019-902af2a8cc09",
   "metadata": {},
   "source": [
    "# Map :-Questions"
   ]
  },
  {
   "cell_type": "markdown",
   "id": "9055c51a-d8a4-4601-9983-50d6d6f091bb",
   "metadata": {},
   "source": [
    "1.Explain the purpose of the `map()` function in Python and provide an example of how it can be used to apply a function to each element of an iterable."
   ]
  },
  {
   "cell_type": "code",
   "execution_count": null,
   "id": "f5b64dec-9ed4-439e-9545-baa7596c0d46",
   "metadata": {},
   "outputs": [],
   "source": [
    "# how it can be used to apply a function to each element of an iterable:\n",
    "# map can be used with lamda functions to apply a specific task on each element\n",
    "# Purpose: The map() function is used to apply a specified function to all items in an input iterable (e.g., list, tuple) and return an iterator \n",
    "# that produces the results. It is a concise and efficient way to perform operations on each element of a collection."
   ]
  },
  {
   "cell_type": "markdown",
   "id": "ba020039-6ee8-42d8-b1d3-8ccdcc8d904e",
   "metadata": {},
   "source": [
    "2.Write a Python program that uses the `map()` function to square each element of a list of numbers."
   ]
  },
  {
   "cell_type": "code",
   "execution_count": 1,
   "id": "3d494d46-5f7f-4d1b-8d78-c44cadda94db",
   "metadata": {},
   "outputs": [
    {
     "name": "stdout",
     "output_type": "stream",
     "text": [
      "[1, 4, 9, 16, 25, 36]\n"
     ]
    }
   ],
   "source": [
    "# normal numbers in the list\n",
    "lst=[1,2,3,4,5,6]\n",
    "\n",
    "# then making them sqr of each element using map\n",
    "lst2=list(map(lambda a:a*a,lst))\n",
    "print(lst2)"
   ]
  },
  {
   "cell_type": "markdown",
   "id": "e2d90cd1-7f0d-42fb-b9db-04871fdcf1c0",
   "metadata": {},
   "source": [
    "3.How does the `map()` function differ from a list comprehension in Python, and when would you choose one over the other?"
   ]
  },
  {
   "cell_type": "code",
   "execution_count": null,
   "id": "0e45f97d-4db5-498b-b07c-33a4d7566acd",
   "metadata": {},
   "outputs": [],
   "source": [
    "# Difference: The map() function and list comprehensions both perform similar operations, but map() is a higher-order function that takes \n",
    "# a function and an iterable as arguments, while list comprehensions are a more concise syntax for creating lists based on existing iterables.\n",
    "\n",
    "# Choice: Use map() when you have a complex function or need to apply a function to multiple iterables simultaneously. Use list comprehensions \n",
    "# when the operation is simple and can be expressed more clearly in a single line."
   ]
  },
  {
   "cell_type": "markdown",
   "id": "47d17a5b-3d8f-473f-8e71-9120f0e2ffc2",
   "metadata": {},
   "source": [
    "4.Create a Python program that uses the `map()` function to convert a list of names to uppercase."
   ]
  },
  {
   "cell_type": "code",
   "execution_count": 3,
   "id": "3ecfd137-e785-416c-a6f0-8a8715bf501d",
   "metadata": {},
   "outputs": [
    {
     "name": "stdout",
     "output_type": "stream",
     "text": [
      "['ARVIND', 'PRIYA', 'VINAYAK', 'ARATI']\n"
     ]
    }
   ],
   "source": [
    "# creating the list of names\n",
    "lst=[\"Arvind\",\"priya\",\"vinayak\",\"arati\"]\n",
    "\n",
    "lst2=list(map(lambda a:a.upper(),lst))\n",
    "print(lst2)"
   ]
  },
  {
   "cell_type": "markdown",
   "id": "652c11e5-6d0f-4c4e-ae22-598b9a93cdd4",
   "metadata": {},
   "source": [
    "5.Write a Python program that uses the `map()` function to calculate the length of each word in a list of strings."
   ]
  },
  {
   "cell_type": "code",
   "execution_count": 5,
   "id": "58424908-9b90-464b-bc3b-61dc125a3d5c",
   "metadata": {},
   "outputs": [
    {
     "name": "stdout",
     "output_type": "stream",
     "text": [
      "[6, 5, 7, 5]\n"
     ]
    }
   ],
   "source": [
    "# creating the list of names\n",
    "lst=[\"Arvind\",\"priya\",\"vinayak\",\"arati\"]\n",
    "\n",
    "lst2=list(map(lambda a:len(a),lst))\n",
    "print(lst2)"
   ]
  },
  {
   "cell_type": "markdown",
   "id": "22f31630-eb2c-4a19-9baf-7104658462bb",
   "metadata": {},
   "source": [
    "6.How can you use the `map()` function to apply a custom function to elements of multiple lists simultaneously in Python?"
   ]
  },
  {
   "cell_type": "code",
   "execution_count": null,
   "id": "cd97ed77-7235-4a74-aa42-0111fe61b2b6",
   "metadata": {},
   "outputs": [],
   "source": [
    "# How can you apply a custom function to elements of several lists at once in Python using the map() method?\n",
    "\n",
    "# You can supply more iterable parameters to the map() function so that it can apply a custom function to members of different lists. \n",
    "# The number of parameters the custom function can take should match the number of input iterables."
   ]
  },
  {
   "cell_type": "markdown",
   "id": "aa78b3e5-4b3c-4c69-a55c-76478bb8b45b",
   "metadata": {},
   "source": [
    "7.Create a Python program that uses `map()` to convert a list of temperatures from Celsius to Fahrenheit."
   ]
  },
  {
   "cell_type": "code",
   "execution_count": 6,
   "id": "09b0a06c-b6c6-4506-8aab-be2b91c609e8",
   "metadata": {},
   "outputs": [
    {
     "name": "stdout",
     "output_type": "stream",
     "text": [
      "[32.0, 50.0, 68.0, 86.0]\n"
     ]
    }
   ],
   "source": [
    "#5\n",
    "celsius_temperatures = [0, 10, 20, 30]\n",
    "fahrenheit_temperatures = map(lambda c: (c * 9/5) + 32, celsius_temperatures)\n",
    "print(list(fahrenheit_temperatures))\n",
    "# Output: [32.0, 50.0, 68.0, 86.0]\n"
   ]
  },
  {
   "cell_type": "markdown",
   "id": "5a7c5f36-4836-4383-b343-8431302de7db",
   "metadata": {},
   "source": [
    "8.Write a Python program that uses the `map()` function to round each element of a list of floating-point numbers to the nearest integer."
   ]
  },
  {
   "cell_type": "code",
   "execution_count": 7,
   "id": "a6728ddc-d74c-4381-8306-271205cccac7",
   "metadata": {},
   "outputs": [
    {
     "name": "stdout",
     "output_type": "stream",
     "text": [
      "[2, 3, 4]\n"
     ]
    }
   ],
   "source": [
    "#6\n",
    "float_numbers = [1.5, 2.7, 3.9]\n",
    "rounded_numbers = map(round, float_numbers)\n",
    "print(list(rounded_numbers))\n",
    "# Output: [2, 3, 4]\n"
   ]
  },
  {
   "cell_type": "markdown",
   "id": "1edbda72-9537-4195-b933-43b4b66ddc53",
   "metadata": {},
   "source": [
    "# Reduce :-Questions"
   ]
  },
  {
   "cell_type": "markdown",
   "id": "99679848-2f67-4811-b9d5-efd44c356083",
   "metadata": {},
   "source": [
    "1.What is the `reduce()` function in Python, and what module should you import to use it? Provide an example of its basic usage."
   ]
  },
  {
   "cell_type": "code",
   "execution_count": 1,
   "id": "90e846d6-c13c-455d-bbdd-d0c6c821330a",
   "metadata": {},
   "outputs": [
    {
     "name": "stdout",
     "output_type": "stream",
     "text": [
      "120\n"
     ]
    }
   ],
   "source": [
    "# Definition: The reduce() function is part of the functools module in Python. It is used for cumulative operations on an iterable,\n",
    "# reducing the sequence to a single accumulated result.\n",
    "# reduce function can be used with lamda function to reduce the value of list of elements\n",
    "\n",
    "\n",
    "# here is an exmaple for reduce function\n",
    "\n",
    "from functools import reduce\n",
    "\n",
    "# Example: Using reduce() to find the product of elements\n",
    "numbers = [1, 2, 3, 4, 5]\n",
    "product = reduce(lambda x, y: x * y, numbers)\n",
    "print(product)\n",
    "# Output: 120\n"
   ]
  },
  {
   "cell_type": "markdown",
   "id": "253b7988-0f39-4e35-a87b-6bf634f002f2",
   "metadata": {},
   "source": [
    "2.Write a Python program that uses the `reduce()` function to find the product of all elements in a list."
   ]
  },
  {
   "cell_type": "code",
   "execution_count": 2,
   "id": "8ab4d372-dec7-4d87-a4f9-80f162a14402",
   "metadata": {},
   "outputs": [
    {
     "name": "stdout",
     "output_type": "stream",
     "text": [
      "120\n"
     ]
    }
   ],
   "source": [
    "from functools import reduce\n",
    "\n",
    "#1\n",
    "numbers = [2, 3, 4, 5]\n",
    "product = reduce(lambda x, y: x * y, numbers)\n",
    "print(product)\n",
    "# Output: 120\n"
   ]
  },
  {
   "cell_type": "markdown",
   "id": "d4b89bdc-5494-482f-aebe-435c62156b65",
   "metadata": {},
   "source": [
    "3.Create a Python program that uses `reduce()` to find the maximum element in a list of numbers."
   ]
  },
  {
   "cell_type": "code",
   "execution_count": 3,
   "id": "2445112c-a92f-4969-86c1-3d563f41ffbf",
   "metadata": {},
   "outputs": [
    {
     "name": "stdout",
     "output_type": "stream",
     "text": [
      "30\n"
     ]
    }
   ],
   "source": [
    "from functools import reduce\n",
    "\n",
    "#2\n",
    "numbers = [15, 8, 22, 17, 30]\n",
    "max_element = reduce(lambda x, y: x if x > y else y, numbers)\n",
    "print(max_element)\n",
    "# Output: 30\n"
   ]
  },
  {
   "cell_type": "markdown",
   "id": "397b7dd9-05a1-44d3-84f4-f900b9cce17c",
   "metadata": {},
   "source": [
    "4.How can you use the `reduce()` function to concatenate a list of strings into a single string?"
   ]
  },
  {
   "cell_type": "code",
   "execution_count": 4,
   "id": "df742648-b59c-45e1-9b1b-d264a6983558",
   "metadata": {},
   "outputs": [
    {
     "name": "stdout",
     "output_type": "stream",
     "text": [
      "Hello, world!\n"
     ]
    }
   ],
   "source": [
    "from functools import reduce\n",
    "\n",
    "#3\n",
    "strings = ['Hello', ', ', 'world', '!']\n",
    "concatenated_string = reduce(lambda x, y: x + y, strings)\n",
    "print(concatenated_string)\n",
    "# Output: Hello, world!\n"
   ]
  },
  {
   "cell_type": "markdown",
   "id": "eefd61a7-e68b-4390-92cd-4420e7d35bcd",
   "metadata": {},
   "source": [
    "5.Write a Python program that calculates the factorial of a number using the `reduce()` function."
   ]
  },
  {
   "cell_type": "code",
   "execution_count": 5,
   "id": "a4d9fede-cdda-4150-958f-f0a8ff7e5f7a",
   "metadata": {},
   "outputs": [
    {
     "name": "stdout",
     "output_type": "stream",
     "text": [
      "120\n"
     ]
    }
   ],
   "source": [
    "from functools import reduce\n",
    "\n",
    "#4\n",
    "num = 5\n",
    "factorial = reduce(lambda x, y: x * y, range(1, num + 1))\n",
    "print(factorial)\n",
    "# Output: 120\n"
   ]
  },
  {
   "cell_type": "markdown",
   "id": "032beee5-2a87-4e54-a550-8380f631cc6f",
   "metadata": {},
   "source": [
    "6.Create a Python program that uses `reduce()` to find the GCD (Greatest Common Divisor) of a list of numbers."
   ]
  },
  {
   "cell_type": "code",
   "execution_count": 6,
   "id": "369752aa-1cfe-4b58-a22f-6e137426205c",
   "metadata": {},
   "outputs": [
    {
     "name": "stdout",
     "output_type": "stream",
     "text": [
      "12\n"
     ]
    }
   ],
   "source": [
    "from functools import reduce\n",
    "from math import gcd\n",
    "\n",
    "#5\n",
    "numbers = [24, 36, 48, 60]\n",
    "gcd_result = reduce(gcd, numbers)\n",
    "print(gcd_result)\n",
    "# Output: 12\n"
   ]
  },
  {
   "cell_type": "markdown",
   "id": "65a05182-865c-4c5a-b146-83145474c6f2",
   "metadata": {},
   "source": [
    "7.Write a Python program that uses the `reduce()` function to find the sum of the digits of a given number."
   ]
  },
  {
   "cell_type": "code",
   "execution_count": 7,
   "id": "988ad1b4-4f6c-4a18-b0e1-d2826b1545f7",
   "metadata": {},
   "outputs": [
    {
     "name": "stdout",
     "output_type": "stream",
     "text": [
      "15\n"
     ]
    }
   ],
   "source": [
    "from functools import reduce\n",
    "\n",
    "#6\n",
    "num = 12345\n",
    "digit_sum = reduce(lambda x, y: int(x) + int(y), str(num))\n",
    "print(digit_sum)\n",
    "# Output: 15\n"
   ]
  },
  {
   "cell_type": "markdown",
   "id": "3412ec28-b357-4af4-96c2-9a86140a737c",
   "metadata": {},
   "source": [
    "# Filter :-Questions\n"
   ]
  },
  {
   "cell_type": "markdown",
   "id": "cac9cbca-99e8-4632-ad27-2101ac12693a",
   "metadata": {},
   "source": [
    "1.Explain the purpose of the `filter()` function in Python and provide an example of how it can be used to filter elements from an iterable."
   ]
  },
  {
   "cell_type": "code",
   "execution_count": 8,
   "id": "70f773b7-8fe6-428a-b10b-69655e800b49",
   "metadata": {},
   "outputs": [
    {
     "name": "stdout",
     "output_type": "stream",
     "text": [
      "[2, 4, 6]\n"
     ]
    }
   ],
   "source": [
    "# Purpose: The filter() function is used to construct an iterator from elements of an iterable for which a function returns True.\n",
    "# It provides an elegant way to filter elements based on a specified condition.\n",
    "\n",
    "# example\n",
    "# Example: Using filter() to select even numbers\n",
    "numbers = [1, 2, 3, 4, 5, 6]\n",
    "evens = filter(lambda x: x % 2 == 0, numbers)\n",
    "print(list(evens))\n",
    "# Output: [2, 4, 6]\n"
   ]
  },
  {
   "cell_type": "markdown",
   "id": "f2d34f03-f825-4bbe-8920-6de39e06a900",
   "metadata": {},
   "source": [
    "2.Write a Python program that uses the `filter()` function to select even numbers from a list of integers."
   ]
  },
  {
   "cell_type": "code",
   "execution_count": 9,
   "id": "fbdcc425-88bc-4678-9727-2bc6297b0982",
   "metadata": {},
   "outputs": [
    {
     "name": "stdout",
     "output_type": "stream",
     "text": [
      "[2, 4, 6, 8]\n"
     ]
    }
   ],
   "source": [
    "#1\n",
    "numbers = [1, 2, 3, 4, 5, 6, 7, 8, 9]\n",
    "even_numbers = filter(lambda x: x % 2 == 0, numbers)\n",
    "print(list(even_numbers))\n",
    "# Output: [2, 4, 6, 8]\n"
   ]
  },
  {
   "cell_type": "markdown",
   "id": "7731e2dc-6121-478b-bda8-1e97f4375ce3",
   "metadata": {},
   "source": [
    "3.Create a Python program that uses the `filter()` function to select names that start with a specific letter from a list of strings."
   ]
  },
  {
   "cell_type": "code",
   "execution_count": 10,
   "id": "de2d9d7a-3d84-43c0-9491-77196eea6f65",
   "metadata": {},
   "outputs": [
    {
     "name": "stdout",
     "output_type": "stream",
     "text": [
      "['Charlie']\n"
     ]
    }
   ],
   "source": [
    "#2\n",
    "names = ['Alice', 'Bob', 'Charlie', 'David', 'Eve']\n",
    "starts_with_c = filter(lambda x: x.startswith('C'), names)\n",
    "print(list(starts_with_c))\n",
    "# Output: ['Charlie']\n",
    "\n"
   ]
  },
  {
   "cell_type": "markdown",
   "id": "5990bdc5-6c82-4575-8625-d7a16de47408",
   "metadata": {},
   "source": [
    "4.Write a Python program that uses the `filter()` function to select prime numbers from a list of integers."
   ]
  },
  {
   "cell_type": "code",
   "execution_count": 11,
   "id": "8db8ecc3-5076-4f92-b5da-51f00aaef088",
   "metadata": {},
   "outputs": [
    {
     "name": "stdout",
     "output_type": "stream",
     "text": [
      "[2, 3, 5, 7]\n"
     ]
    }
   ],
   "source": [
    "#4\n",
    "def is_prime(num):\n",
    "    if num < 2:\n",
    "        return False\n",
    "    for i in range(2, int(num**0.5) + 1):\n",
    "        if num % i == 0:\n",
    "            return False\n",
    "    return True\n",
    "\n",
    "numbers = [2, 3, 4, 5, 6, 7, 8, 9, 10]\n",
    "primes = filter(is_prime, numbers)\n",
    "print(list(primes))\n",
    "# Output: [2, 3, 5, 7]\n",
    "\n"
   ]
  },
  {
   "cell_type": "markdown",
   "id": "e2cde970-94bf-40f0-be9f-f53bb5a2e5c7",
   "metadata": {},
   "source": [
    "5.How can you use the `filter()` function to remove None values from a list in Python?"
   ]
  },
  {
   "cell_type": "code",
   "execution_count": 12,
   "id": "c0dec8eb-1088-4a92-8ebd-0c72d5295d23",
   "metadata": {},
   "outputs": [
    {
     "name": "stdout",
     "output_type": "stream",
     "text": [
      "[10, 30, 50, 60]\n"
     ]
    }
   ],
   "source": [
    "#5\n",
    "values = [10, None, 30, None, 50, 60, None]\n",
    "non_none_values = filter(lambda x: x is not None, values)\n",
    "print(list(non_none_values))\n",
    "# Output: [10, 30, 50, 60]\n"
   ]
  },
  {
   "cell_type": "markdown",
   "id": "09a91433-3afc-4522-94c0-c0681e0778ab",
   "metadata": {},
   "source": [
    "6.Create a Python program that uses `filter()` to select words longer than a certain length from a list of strings."
   ]
  },
  {
   "cell_type": "code",
   "execution_count": 13,
   "id": "e7fe5d14-7c79-48ee-884f-5fe00e3a6d10",
   "metadata": {},
   "outputs": [
    {
     "name": "stdout",
     "output_type": "stream",
     "text": [
      "['banana', 'orange']\n"
     ]
    }
   ],
   "source": [
    "#5\n",
    "words = ['apple', 'banana', 'kiwi', 'orange', 'grape']\n",
    "length_threshold = 5\n",
    "long_words = filter(lambda x: len(x) > length_threshold, words)\n",
    "print(list(long_words))\n",
    "# Output: ['banana', 'orange']\n",
    "\n"
   ]
  },
  {
   "cell_type": "markdown",
   "id": "914a637d-756f-44b7-806e-a294d821e1d5",
   "metadata": {},
   "source": [
    "7.Write a Python program that uses the `filter()` function to select elements greater than a specified threshold from a list of values."
   ]
  },
  {
   "cell_type": "code",
   "execution_count": 14,
   "id": "79fd6b1c-003d-44c3-a33a-7a67fa5ab43d",
   "metadata": {},
   "outputs": [
    {
     "name": "stdout",
     "output_type": "stream",
     "text": [
      "[30, 25, 40]\n"
     ]
    }
   ],
   "source": [
    "#6\n",
    "values = [15, 30, 10, 25, 40, 5]\n",
    "threshold = 20\n",
    "above_threshold = filter(lambda x: x > threshold, values)\n",
    "print(list(above_threshold))\n",
    "# Output: [30, 25, 40]\n"
   ]
  },
  {
   "cell_type": "markdown",
   "id": "20229bf7-f4fe-4c6c-a1c5-4573de08e3aa",
   "metadata": {},
   "source": [
    "\n",
    "# Recursion:-Questions\n"
   ]
  },
  {
   "cell_type": "markdown",
   "id": "6fce8941-ff33-44c3-9617-391cb9f14d67",
   "metadata": {},
   "source": [
    "1.Explain the concept of recursion in Python. How does it differ from iteration?"
   ]
  },
  {
   "cell_type": "code",
   "execution_count": null,
   "id": "c680bdb4-e289-4a75-bd2e-a5c0d9d9ea1d",
   "metadata": {},
   "outputs": [],
   "source": [
    "# Recursion: \n",
    "# Recursion is a programming concept where a function calls itself in its own definition. In Python, a recursive function consists of a base case\n",
    "# (condition to stop recursion) and a recursive case (where the function calls itself with modified arguments).\n",
    "\n",
    "# Differ from Iteration: Iteration involves looping constructs (e.g., for, while) to repeat a set of instructions. Recursion, on the other hand, \n",
    "# involves breaking a problem into smaller subproblems and solving them recursively. Recursion tends to be more elegant for certain types of\n",
    "# problems but can be less efficient due to the overhead of function calls."
   ]
  },
  {
   "cell_type": "markdown",
   "id": "f3b78717-b40c-4b3d-9cf2-cd8aa455d792",
   "metadata": {},
   "source": [
    "2.Write a Python program to calculate the factorial of a number using recursion."
   ]
  },
  {
   "cell_type": "code",
   "execution_count": 15,
   "id": "82846964-8208-4f52-b6db-205e3f3a525d",
   "metadata": {},
   "outputs": [
    {
     "name": "stdout",
     "output_type": "stream",
     "text": [
      "120\n"
     ]
    }
   ],
   "source": [
    "#1\n",
    "def factorial(n):\n",
    "    if n == 0 or n == 1:\n",
    "        return 1\n",
    "    else:\n",
    "        return n * factorial(n - 1)\n",
    "\n",
    "result = factorial(5)\n",
    "print(result)\n",
    "# Output: 120\n"
   ]
  },
  {
   "cell_type": "markdown",
   "id": "8da35bf6-425d-4950-95c4-03aef04292be",
   "metadata": {},
   "source": [
    "3.Create a recursive Python function to find the nth Fibonacci number."
   ]
  },
  {
   "cell_type": "code",
   "execution_count": 16,
   "id": "4e254626-0715-4081-860c-67d9c1866cf4",
   "metadata": {},
   "outputs": [
    {
     "name": "stdout",
     "output_type": "stream",
     "text": [
      "8\n"
     ]
    }
   ],
   "source": [
    "#2\n",
    "def fibonacci(n):\n",
    "    if n <= 1:\n",
    "        return n\n",
    "    else:\n",
    "        return fibonacci(n - 1) + fibonacci(n - 2)\n",
    "\n",
    "result = fibonacci(6)\n",
    "print(result)\n",
    "# Output: 8\n"
   ]
  },
  {
   "cell_type": "markdown",
   "id": "6c713d2d-f7e9-4aa7-bdcc-1c45cf9d6050",
   "metadata": {},
   "source": [
    "4.Write a recursive Python function to calculate the sum of all elements in a list."
   ]
  },
  {
   "cell_type": "code",
   "execution_count": 17,
   "id": "d1dbdd47-7f68-4f19-9575-3eb420d7d558",
   "metadata": {},
   "outputs": [
    {
     "name": "stdout",
     "output_type": "stream",
     "text": [
      "15\n"
     ]
    }
   ],
   "source": [
    "#3\n",
    "def list_sum(lst):\n",
    "    if not lst:\n",
    "        return 0\n",
    "    else:\n",
    "        return lst[0] + list_sum(lst[1:])\n",
    "\n",
    "result = list_sum([1, 2, 3, 4, 5])\n",
    "print(result)\n",
    "# Output: 15\n"
   ]
  },
  {
   "cell_type": "markdown",
   "id": "9fa49761-db15-47a9-a4cf-7fbcb4630e45",
   "metadata": {},
   "source": [
    "5.How can you prevent a recursive function from running indefinitely, causing a stack overflow error?"
   ]
  },
  {
   "cell_type": "code",
   "execution_count": null,
   "id": "e8dacc82-7e63-453f-9384-70eee9926855",
   "metadata": {},
   "outputs": [],
   "source": [
    "# How can you prevent a recursive function from running indefinitely, causing a stack overflow error?\n",
    "# >>> To prevent infinite recursion, ensure that your recursive function has a base case that will be reached, limiting the recursion depth.\n",
    "# Debugging tools and setting recursion depth limits can also help identify and prevent infinite recursion."
   ]
  },
  {
   "cell_type": "markdown",
   "id": "8d97ff12-405a-4ea8-a923-58f7d72405ca",
   "metadata": {},
   "source": [
    "6.Create a recursive Python function to find the greatest common divisor (GCD) of two numbers using the Euclidean algorithm."
   ]
  },
  {
   "cell_type": "code",
   "execution_count": 18,
   "id": "f0f31bfc-f310-4e4a-b5a4-06e35c204f3d",
   "metadata": {},
   "outputs": [
    {
     "name": "stdout",
     "output_type": "stream",
     "text": [
      "6\n"
     ]
    }
   ],
   "source": [
    "#6\n",
    "def gcd(a, b):\n",
    "    if b == 0:\n",
    "        return a\n",
    "    else:\n",
    "        return gcd(b, a % b)\n",
    "\n",
    "result = gcd(48, 18)\n",
    "print(result)\n",
    "# Output: 6\n"
   ]
  },
  {
   "cell_type": "markdown",
   "id": "8113ea3f-bf14-479f-8164-8881b4d893f2",
   "metadata": {},
   "source": [
    "7.Write a recursive Python function to reverse a string."
   ]
  },
  {
   "cell_type": "code",
   "execution_count": 19,
   "id": "5c017800-c3cb-4bd0-b1b5-e207ef0ed59e",
   "metadata": {},
   "outputs": [
    {
     "name": "stdout",
     "output_type": "stream",
     "text": [
      "olleh\n"
     ]
    }
   ],
   "source": [
    "#7\n",
    "def reverse_string(s):\n",
    "    if not s:\n",
    "        return s\n",
    "    else:\n",
    "        return reverse_string(s[1:]) + s[0]\n",
    "\n",
    "result = reverse_string(\"hello\")\n",
    "print(result)\n",
    "# Output: \"olleh\"\n"
   ]
  },
  {
   "cell_type": "markdown",
   "id": "a7400bed-6086-4788-bb9a-4c12212873ab",
   "metadata": {},
   "source": [
    "8.Create a recursive Python function to calculate the power of a number (x^n).\n"
   ]
  },
  {
   "cell_type": "code",
   "execution_count": 20,
   "id": "8eb74bfa-f2b4-4e68-be46-d68ec0b772cb",
   "metadata": {},
   "outputs": [
    {
     "name": "stdout",
     "output_type": "stream",
     "text": [
      "8\n"
     ]
    }
   ],
   "source": [
    "\n",
    "def power(x, n):\n",
    "    if n == 0:\n",
    "        return 1\n",
    "    else:\n",
    "        return x * power(x, n - 1)\n",
    "\n",
    "result = power(2, 3)\n",
    "print(result)\n",
    "# Output: 8\n"
   ]
  },
  {
   "cell_type": "markdown",
   "id": "e1666309-7855-4a4d-9cc8-f288fb0956d9",
   "metadata": {},
   "source": [
    "\n",
    "9.Write a recursive Python function to find all permutations of a given string."
   ]
  },
  {
   "cell_type": "code",
   "execution_count": 21,
   "id": "ed305f27-d9f2-45ab-ae77-41d78324ee20",
   "metadata": {},
   "outputs": [
    {
     "name": "stdout",
     "output_type": "stream",
     "text": [
      "['abc', 'acb', 'bac', 'bca', 'cab', 'cba']\n"
     ]
    }
   ],
   "source": [
    "#7\n",
    "def permutations(s):\n",
    "    if len(s) == 1:\n",
    "        return [s]\n",
    "    else:\n",
    "        perms = []\n",
    "        for i, char in enumerate(s):\n",
    "            remaining_chars = s[:i] + s[i + 1:]\n",
    "            for perm in permutations(remaining_chars):\n",
    "                perms.append(char + perm)\n",
    "        return perms\n",
    "\n",
    "result = permutations(\"abc\")\n",
    "print(result)\n",
    "# Output: ['abc', 'acb', 'bac', 'bca', 'cab', 'cba']\n"
   ]
  },
  {
   "cell_type": "markdown",
   "id": "48d31bb8-24f0-45ad-9bd0-66b88c91122a",
   "metadata": {},
   "source": [
    "10.Write a recursive Python function to check if a string is a palindrome."
   ]
  },
  {
   "cell_type": "code",
   "execution_count": 22,
   "id": "8826cf34-1e1f-4f34-933a-ed9dcf224c93",
   "metadata": {},
   "outputs": [
    {
     "name": "stdout",
     "output_type": "stream",
     "text": [
      "True\n"
     ]
    }
   ],
   "source": [
    "#8\n",
    "def is_palindrome(s):\n",
    "    if len(s) <= 1:\n",
    "        return True\n",
    "    else:\n",
    "        return s[0] == s[-1] and is_palindrome(s[1:-1])\n",
    "\n",
    "result = is_palindrome(\"radar\")\n",
    "print(result)\n",
    "# Output: True\n"
   ]
  },
  {
   "cell_type": "markdown",
   "id": "21074b2b-0feb-4e80-a7aa-8c8f986ed39a",
   "metadata": {},
   "source": [
    "11.Create a recursive Python function to generate all possible combinations of a list of elements."
   ]
  },
  {
   "cell_type": "code",
   "execution_count": 23,
   "id": "a4cb0fa8-da35-48f7-80be-8a52caa298ae",
   "metadata": {},
   "outputs": [
    {
     "name": "stdout",
     "output_type": "stream",
     "text": [
      "[[], [3], [2], [2, 3], [1], [1, 3], [1, 2], [1, 2, 3]]\n"
     ]
    }
   ],
   "source": [
    "#9\n",
    "def combinations(lst):\n",
    "    if not lst:\n",
    "        return [[]]\n",
    "    else:\n",
    "        rest_combinations = combinations(lst[1:])\n",
    "        return rest_combinations + [ [lst[0]] + c for c in rest_combinations]\n",
    "\n",
    "result = combinations([1, 2, 3])\n",
    "print(result)\n",
    "# Output: [[], [3], [2], [2, 3], [1], [1, 3], [1, 2], [1, 2, 3]]\n"
   ]
  },
  {
   "cell_type": "markdown",
   "id": "0a09f82c-d95d-4c57-84c7-49c83549e48d",
   "metadata": {},
   "source": [
    "# Basics of Functions:"
   ]
  },
  {
   "cell_type": "markdown",
   "id": "305c693b-3fff-46aa-acfe-85e059fc465d",
   "metadata": {},
   "source": [
    "1.What is a function in Python, and why is it used?"
   ]
  },
  {
   "cell_type": "code",
   "execution_count": null,
   "id": "b7cec9e6-e33e-4770-916c-3e5256b3c990",
   "metadata": {},
   "outputs": [],
   "source": [
    "# Function in Python: A function in Python is a block of reusable code that performs a specific task. It allows you to organize code into \n",
    "# modular units, making it more readable, maintainable, and easier to debug. Functions are a fundamental building block in Python programming.\n",
    "\n",
    "# Why it's used: Functions serve several purposes:\n",
    "\n",
    "# Modularity: Breaking down complex tasks into smaller, manageable pieces.\n",
    "# Reusability: Code written once can be used multiple times without duplication.\n",
    "# Readability: Functions make the code more organized and understandable.\n",
    "# Abstraction: Hides the implementation details and provides a high-level interface."
   ]
  },
  {
   "cell_type": "markdown",
   "id": "f3a0cead-32e0-4df9-9dbe-24114cdee81f",
   "metadata": {},
   "source": [
    "2.How do you define a function in Python? Provide an example."
   ]
  },
  {
   "cell_type": "code",
   "execution_count": 24,
   "id": "bdf43448-0d23-44a5-a22e-c6c2da1d5e3a",
   "metadata": {},
   "outputs": [
    {
     "name": "stdout",
     "output_type": "stream",
     "text": [
      "Hello, Alice!\n"
     ]
    }
   ],
   "source": [
    "def greet(name):\n",
    "    \"\"\"This function prints a greeting message.\"\"\"\n",
    "    print(f\"Hello, {name}!\")\n",
    "\n",
    "# Function call\n",
    "greet(\"Alice\")\n"
   ]
  },
  {
   "cell_type": "markdown",
   "id": "570810ca-3cf4-4c2c-bfc8-a32c939582cb",
   "metadata": {},
   "source": [
    "3.Explain the difference between a function definition and a function call."
   ]
  },
  {
   "cell_type": "code",
   "execution_count": null,
   "id": "2b8f6cfd-9d70-495f-9a0d-f45e994c4b76",
   "metadata": {},
   "outputs": [],
   "source": [
    "# Function Definition: It is the process of creating a function and specifying its name, parameters, and block of code.\n",
    "# It defines what the function does when called.\n",
    "\n",
    "# Function Call: It is the actual execution of a function. It involves providing the required arguments (if any) and invoking the function to \n",
    "# perform the specified task."
   ]
  },
  {
   "cell_type": "markdown",
   "id": "55754fe9-f452-492d-9c77-2b8cab186b4d",
   "metadata": {},
   "source": [
    "4.Write a Python program that defines a function to calculate the sum of two numbers and then calls the function."
   ]
  },
  {
   "cell_type": "code",
   "execution_count": 25,
   "id": "b450e465-b965-4fe1-9d2c-9aa9abe9946e",
   "metadata": {},
   "outputs": [
    {
     "name": "stdout",
     "output_type": "stream",
     "text": [
      "12\n"
     ]
    }
   ],
   "source": [
    "\n",
    "def add_numbers(x, y):\n",
    "    \"\"\"This function calculates the sum of two numbers.\"\"\"\n",
    "    return x + y\n",
    "\n",
    "# Function call\n",
    "result = add_numbers(5, 7)\n",
    "print(result)  # Output: 12\n"
   ]
  },
  {
   "cell_type": "markdown",
   "id": "ab956b00-f509-4cd4-a9bf-d8fd53197eb3",
   "metadata": {},
   "source": [
    "5.What is a function signature, and what information does it typically include?"
   ]
  },
  {
   "cell_type": "code",
   "execution_count": null,
   "id": "ca1eed5f-5275-499a-a3bd-b64b15cab54f",
   "metadata": {},
   "outputs": [],
   "source": [
    "# Function Signature: The function signature includes the function name, parameters (if any), and their types. \n",
    "# It defines the interface of the function without specifying the implementation.\n",
    "\n",
    "# Typically includes: Function name, parameter names, and their types. For example, the signature of add_numbers is \n",
    "# add_numbers(x: int, y: int) -> int.\n"
   ]
  },
  {
   "cell_type": "markdown",
   "id": "99d79c0d-620a-4192-8de6-9cb55819995b",
   "metadata": {},
   "source": [
    "6.Create a Python function that takes two arguments and returns their product."
   ]
  },
  {
   "cell_type": "code",
   "execution_count": 26,
   "id": "ff0d5b9a-31ea-4f32-81b6-a1dfc0b74fe0",
   "metadata": {},
   "outputs": [
    {
     "name": "stdout",
     "output_type": "stream",
     "text": [
      "24\n"
     ]
    }
   ],
   "source": [
    "\n",
    "def multiply(x, y):\n",
    "    \"\"\"This function returns the product of two numbers.\"\"\"\n",
    "    return x * y\n",
    "\n",
    "# Function call\n",
    "result = multiply(4, 6)\n",
    "print(result)  # Output: 24\n"
   ]
  },
  {
   "cell_type": "markdown",
   "id": "939d5bd3-33e3-4a4e-bf40-f7864e4c42f7",
   "metadata": {},
   "source": [
    "# Function Parameters and Arguments:"
   ]
  },
  {
   "cell_type": "markdown",
   "id": "17cae83e-03e2-45d4-af2a-f53b3d653ee2",
   "metadata": {},
   "source": [
    "1.Explain the concepts of formal parameters and actual arguments in Python functions."
   ]
  },
  {
   "cell_type": "code",
   "execution_count": null,
   "id": "4de5e153-34e9-4d2e-8d92-e05b447b5ce1",
   "metadata": {},
   "outputs": [],
   "source": [
    "# Formal Parameters: These are the parameters defined in the function signature or declaration. They act as placeholders\n",
    "# for the values that will be passed to the function during a call. Formal parameters are used to specify what kind of\n",
    "# arguments a function expects.\n",
    "\n",
    "# Actual Arguments: These are the values that are passed to the function during a function call. They take the place of formal\n",
    "# parameters and provide the actual data on which the function operates."
   ]
  },
  {
   "cell_type": "markdown",
   "id": "3bd682b9-a06f-42ba-be0e-d2724b04a150",
   "metadata": {},
   "source": [
    "2.Write a Python program that defines a function with default argument values."
   ]
  },
  {
   "cell_type": "code",
   "execution_count": 27,
   "id": "2a63739a-e24a-471b-b0ea-5d677aec088a",
   "metadata": {},
   "outputs": [
    {
     "name": "stdout",
     "output_type": "stream",
     "text": [
      "Hello, Alice!\n",
      "Hi, Bob!\n"
     ]
    }
   ],
   "source": [
    "def greet(name, greeting=\"Hello\"):\n",
    "    \"\"\"This function greets a person with an optional greeting.\"\"\"\n",
    "    print(f\"{greeting}, {name}!\")\n",
    "\n",
    "# Function calls\n",
    "greet(\"Alice\")           # Output: Hello, Alice!\n",
    "greet(\"Bob\", greeting=\"Hi\")  # Output: Hi, Bob!\n"
   ]
  },
  {
   "cell_type": "markdown",
   "id": "d6044c4c-c318-4c52-b2d2-c44d28910c9d",
   "metadata": {},
   "source": [
    "3.How do you use keyword arguments in Python function calls? Provide an example."
   ]
  },
  {
   "cell_type": "code",
   "execution_count": 28,
   "id": "db787ea3-9ee5-4c20-a622-af8ca31fb80d",
   "metadata": {},
   "outputs": [
    {
     "name": "stdout",
     "output_type": "stream",
     "text": [
      "Hello, Alice.\n",
      "Hi, Bob.\n",
      "Hello, Charlie!\n"
     ]
    }
   ],
   "source": [
    "def greet(name, greeting=\"Hello\", punctuation=\".\"):\n",
    "    \"\"\"This function greets a person with optional greeting and punctuation.\"\"\"\n",
    "    print(f\"{greeting}, {name}{punctuation}\")\n",
    "\n",
    "# Function calls with keyword arguments\n",
    "greet(\"Alice\")  # Output: Hello, Alice.\n",
    "greet(\"Bob\", greeting=\"Hi\")  # Output: Hi, Bob.\n",
    "greet(\"Charlie\", punctuation=\"!\")  # Output: Hello, Charlie!\n"
   ]
  },
  {
   "cell_type": "markdown",
   "id": "9fdd4d85-14c1-4541-b6eb-29c32253745e",
   "metadata": {},
   "source": [
    "4.Create a Python function that accepts a variable number of arguments and calculates their sum."
   ]
  },
  {
   "cell_type": "code",
   "execution_count": 32,
   "id": "4a9f4047-90ca-460e-953c-bd2c454cddfa",
   "metadata": {},
   "outputs": [
    {
     "name": "stdout",
     "output_type": "stream",
     "text": [
      "6 22 100\n"
     ]
    }
   ],
   "source": [
    "def calculate_sum(*args):\n",
    "    \"\"\"This function calculates the sum of variable arguments.\"\"\"\n",
    "    return sum(args)\n",
    "\n",
    "# Function calls with a variable number of arguments\n",
    "result1 = calculate_sum(1, 2, 3)        # Output: 6\n",
    "result2 = calculate_sum(4, 5, 6, 7)     # Output: 22\n",
    "result3 = calculate_sum(10, 20, 30, 40)  # Output: 100\n",
    "\n",
    "print(result1,result2,result3)\n"
   ]
  },
  {
   "cell_type": "markdown",
   "id": "c63e368c-474f-409c-9eb9-46aed2744a7a",
   "metadata": {},
   "source": [
    "5.What is the purpose of the `*args` and `**kwargs` syntax in function parameter lists?"
   ]
  },
  {
   "cell_type": "code",
   "execution_count": 33,
   "id": "3f3ca1b6-8cf4-4b88-8213-461241d4188a",
   "metadata": {},
   "outputs": [
    {
     "name": "stdout",
     "output_type": "stream",
     "text": [
      "1\n",
      "2\n",
      "3\n",
      "four\n",
      "name: Alice\n",
      "age: 25\n",
      "city: Wonderland\n"
     ]
    }
   ],
   "source": [
    "# *args: It is used to pass a variable number of non-keyword arguments to a function. It allows a function to accept \n",
    "# any number of positional arguments.\n",
    "\n",
    "# syntax with example\n",
    "def print_args(*args):\n",
    "    for arg in args:\n",
    "        print(arg)\n",
    "\n",
    "print_args(1, 2, 3, \"four\")  # Output: 1 2 3 four\n",
    "\n",
    "\n",
    "# **kwargs: It is used to pass a variable number of keyword arguments to a function. It allows a function to accept any number\n",
    "# of keyword arguments.\n",
    "\n",
    "# syntax with example\n",
    "def print_kwargs(**kwargs):\n",
    "    for key, value in kwargs.items():\n",
    "        print(f\"{key}: {value}\")\n",
    "\n",
    "print_kwargs(name=\"Alice\", age=25, city=\"Wonderland\")\n",
    "# Output:\n",
    "# name: Alice\n",
    "# age: 25\n",
    "# city: Wonderland\n"
   ]
  },
  {
   "cell_type": "markdown",
   "id": "7a06b0dd-7012-49ef-bb98-8b3dbddf3f6b",
   "metadata": {},
   "source": [
    "# Return Values and Scoping:"
   ]
  },
  {
   "cell_type": "markdown",
   "id": "848d42f4-97ca-4d60-b0ba-4e9d5d783842",
   "metadata": {},
   "source": [
    "1.Describe the role of the `return` statement in Python functions and provide examples."
   ]
  },
  {
   "cell_type": "code",
   "execution_count": 34,
   "id": "f4b52a4c-5464-4c28-89a6-927516c3eb11",
   "metadata": {},
   "outputs": [
    {
     "name": "stdout",
     "output_type": "stream",
     "text": [
      "7\n"
     ]
    }
   ],
   "source": [
    "# The return statement in Python functions is used to exit the function and return a value to the caller.\n",
    "# It allows the function to send back a result or output.\n",
    "\n",
    "def add(x, y):\n",
    "    \"\"\"This function returns the sum of two numbers.\"\"\"\n",
    "    return x + y\n",
    "\n",
    "result = add(3, 4)\n",
    "print(result)  # Output: 7\n"
   ]
  },
  {
   "cell_type": "markdown",
   "id": "642eb620-9131-4c73-bfa9-46ca52577af6",
   "metadata": {},
   "source": [
    "2.Explain the concept of variable scope in Python, including local and global variables."
   ]
  },
  {
   "cell_type": "code",
   "execution_count": null,
   "id": "67444d65-b876-4488-b725-1bacc72233e9",
   "metadata": {},
   "outputs": [],
   "source": [
    "# Variable Scope:\n",
    "\n",
    "#Local Variables: \n",
    "# Variables defined inside a function are considered local to that function. They are only accessible within the function and not outside of it.\n",
    "\n",
    "# Global Variables: \n",
    "# Variables defined outside any function or at the global level are considered global. They can be accessed from any part of the code, including \n",
    "# functions."
   ]
  },
  {
   "cell_type": "markdown",
   "id": "4dfc1099-e7e1-446b-9254-9c2d9dcdf9a2",
   "metadata": {},
   "source": [
    "3.Write a Python program that demonstrates the use of global variables within functions."
   ]
  },
  {
   "cell_type": "code",
   "execution_count": 35,
   "id": "760db484-c253-43f3-be25-564b67d34044",
   "metadata": {},
   "outputs": [
    {
     "name": "stdout",
     "output_type": "stream",
     "text": [
      "Before: 10\n",
      "After: 11\n"
     ]
    }
   ],
   "source": [
    "global_variable = 10\n",
    "\n",
    "def increment_global():\n",
    "    \"\"\"This function increments a global variable.\"\"\"\n",
    "    global global_variable\n",
    "    global_variable += 1\n",
    "\n",
    "# Function call\n",
    "print(\"Before:\", global_variable)  # Output: Before: 10\n",
    "increment_global()\n",
    "print(\"After:\", global_variable)   # Output: After: 11\n"
   ]
  },
  {
   "cell_type": "markdown",
   "id": "0b88e767-ec90-49ab-b2d1-848230e73692",
   "metadata": {},
   "source": [
    "4.Create a Python function that calculates the factorial of a number and returns it."
   ]
  },
  {
   "cell_type": "code",
   "execution_count": 36,
   "id": "23317819-e7db-4b79-b5b7-f8cc7b2c921c",
   "metadata": {},
   "outputs": [
    {
     "name": "stdout",
     "output_type": "stream",
     "text": [
      "120\n"
     ]
    }
   ],
   "source": [
    "def factorial(n):\n",
    "    \"\"\"This function calculates the factorial of a number.\"\"\"\n",
    "    if n == 0 or n == 1:\n",
    "        return 1\n",
    "    else:\n",
    "        return n * factorial(n - 1)\n",
    "\n",
    "result = factorial(5)\n",
    "print(result)  # Output: 120\n"
   ]
  },
  {
   "cell_type": "markdown",
   "id": "da3e13c5-1873-46f3-815b-99c35c461214",
   "metadata": {},
   "source": [
    "5.How can you access variables defined outside a function from within the function?"
   ]
  },
  {
   "cell_type": "code",
   "execution_count": 37,
   "id": "fa8e510c-2fb0-4d52-9f3e-8b077401d2f3",
   "metadata": {},
   "outputs": [
    {
     "name": "stdout",
     "output_type": "stream",
     "text": [
      "42\n"
     ]
    }
   ],
   "source": [
    "global_variable = 42\n",
    "\n",
    "def access_global():\n",
    "    \"\"\"This function accesses a global variable.\"\"\"\n",
    "    print(global_variable)\n",
    "\n",
    "# Function call\n",
    "access_global()  # Output: 42\n"
   ]
  },
  {
   "cell_type": "markdown",
   "id": "c5148017-78e6-482a-bbd2-958439206421",
   "metadata": {},
   "source": [
    "# Lambda Functions and Higher-Order Functions:"
   ]
  },
  {
   "cell_type": "markdown",
   "id": "110381e3-e33d-4a92-b649-c55f9d0fc1dc",
   "metadata": {},
   "source": [
    "1.What are lambda functions in Python, and when are they typically used?"
   ]
  },
  {
   "cell_type": "code",
   "execution_count": 38,
   "id": "3840c0be-ae94-4731-8c81-4d65025f982e",
   "metadata": {},
   "outputs": [
    {
     "name": "stdout",
     "output_type": "stream",
     "text": [
      "25\n"
     ]
    }
   ],
   "source": [
    "# Lambda Functions: Lambda functions, also known as anonymous functions, are small, unnamed functions defined using the lambda keyword.\n",
    "# They are used for short, one-time operations where a full function definition is not necessary.\n",
    "\n",
    "square = lambda x: x ** 2\n",
    "print(square(5))  # Output: 25\n"
   ]
  },
  {
   "cell_type": "markdown",
   "id": "41945731-31eb-4461-924c-379eb6887daf",
   "metadata": {},
   "source": [
    "2.Write a Python program that uses lambda functions to sort a list of tuples based on the second element."
   ]
  },
  {
   "cell_type": "code",
   "execution_count": 39,
   "id": "193cbf7e-1d26-4885-886a-5f6a43a1674f",
   "metadata": {},
   "outputs": [
    {
     "name": "stdout",
     "output_type": "stream",
     "text": [
      "[(3, 1), (1, 4), (2, 5)]\n"
     ]
    }
   ],
   "source": [
    "# Sorting a list of tuples based on the second element\n",
    "data = [(1, 4), (3, 1), (2, 5)]\n",
    "sorted_data = sorted(data, key=lambda x: x[1])\n",
    "print(sorted_data)\n",
    "# Output: [(3, 1), (1, 4), (2, 5)]\n"
   ]
  },
  {
   "cell_type": "markdown",
   "id": "4d456417-5549-4c05-a43a-9460f5750ade",
   "metadata": {},
   "source": [
    "3.Explain the concept of higher-order functions in Python, and provide an example."
   ]
  },
  {
   "cell_type": "code",
   "execution_count": 40,
   "id": "2a77a84e-e383-4c29-8859-85870a1f8bc6",
   "metadata": {},
   "outputs": [
    {
     "name": "stdout",
     "output_type": "stream",
     "text": [
      "7\n"
     ]
    }
   ],
   "source": [
    "# Higher-Order Functions: Higher-order functions are functions that can take other functions as arguments or return functions as results.\n",
    "# They enhance the functionality and flexibility of code.\n",
    "\n",
    "def apply_operation(operation, x, y):\n",
    "    \"\"\"This higher-order function applies the specified operation.\"\"\"\n",
    "    return operation(x, y)\n",
    "\n",
    "# Example usage\n",
    "addition = lambda a, b: a + b\n",
    "result = apply_operation(addition, 3, 4)\n",
    "print(result)  # Output: 7\n"
   ]
  },
  {
   "cell_type": "markdown",
   "id": "7b8f386d-b6f4-4db4-9656-367c067bc5d4",
   "metadata": {},
   "source": [
    "4.Create a Python function that takes a list of numbers and a function as arguments, applying the function to each element in the list."
   ]
  },
  {
   "cell_type": "code",
   "execution_count": 41,
   "id": "dc467226-c1ea-45ad-89f2-66328e138a55",
   "metadata": {},
   "outputs": [
    {
     "name": "stdout",
     "output_type": "stream",
     "text": [
      "[1, 4, 9, 16, 25]\n"
     ]
    }
   ],
   "source": [
    "def apply_function_to_list(numbers, operation):\n",
    "    \"\"\"This function applies the specified operation to each element in the list.\"\"\"\n",
    "    return [operation(num) for num in numbers]\n",
    "\n",
    "# Example usage\n",
    "numbers = [1, 2, 3, 4, 5]\n",
    "square_function = lambda x: x ** 2\n",
    "result = apply_function_to_list(numbers, square_function)\n",
    "print(result)\n",
    "# Output: [1, 4, 9, 16, 25]\n"
   ]
  },
  {
   "cell_type": "markdown",
   "id": "d8f0208b-2b67-4ab6-b06a-f25e6738f33a",
   "metadata": {},
   "source": [
    "# Built-in Functions:"
   ]
  },
  {
   "cell_type": "markdown",
   "id": "6532c0ae-13ae-4135-8da4-fe352bdff0fd",
   "metadata": {},
   "source": [
    "1.Describe the role of built-in functions like `len()`, `max()`, and `min()` in Python."
   ]
  },
  {
   "cell_type": "code",
   "execution_count": 42,
   "id": "8cf385c9-74a6-4fff-88f9-e3b63499cb69",
   "metadata": {},
   "outputs": [
    {
     "name": "stdout",
     "output_type": "stream",
     "text": [
      "5\n",
      "9\n",
      "1\n"
     ]
    }
   ],
   "source": [
    "# len(): Returns the length (number of items) of an object. It works with sequences (strings, lists, tuples, etc.) and other iterable objects.\n",
    "\n",
    "my_list = [1, 2, 3, 4, 5]\n",
    "length = len(my_list)\n",
    "print(length)  # Output: 5\n",
    "\n",
    "# max(): Returns the largest item in an iterable or the largest of two or more arguments.\n",
    "\n",
    "numbers = [5, 8, 2, 1, 9]\n",
    "max_value = max(numbers)\n",
    "print(max_value)  # Output: 9\n",
    "\n",
    "# min(): Returns the smallest item in an iterable or the smallest of two or more arguments.\n",
    "\n",
    "numbers = [5, 8, 2, 1, 9]\n",
    "min_value = min(numbers)\n",
    "print(min_value)  # Output: "
   ]
  },
  {
   "cell_type": "markdown",
   "id": "b9806ac9-e7b2-4c09-a34e-0fdfce32a399",
   "metadata": {},
   "source": [
    "2.Write a Python program that uses the `map()` function to apply a function to each element of a list."
   ]
  },
  {
   "cell_type": "code",
   "execution_count": 43,
   "id": "31dcb1f0-e1b5-49da-8e62-ad32ff3788b5",
   "metadata": {},
   "outputs": [
    {
     "name": "stdout",
     "output_type": "stream",
     "text": [
      "[1, 4, 9, 16, 25]\n"
     ]
    }
   ],
   "source": [
    "# Using map() to square each element in a list\n",
    "numbers = [1, 2, 3, 4, 5]\n",
    "squared_numbers = map(lambda x: x ** 2, numbers)\n",
    "print(list(squared_numbers))\n",
    "# Output: [1, 4, 9, 16, 25]\n"
   ]
  },
  {
   "cell_type": "markdown",
   "id": "0f8907c6-4b4c-4279-883c-8670d193f236",
   "metadata": {},
   "source": [
    "3.How does the `filter()` function work in Python, and when would you use it?"
   ]
  },
  {
   "cell_type": "code",
   "execution_count": 44,
   "id": "7240d539-2bbf-4c48-8437-396e4b9f04fa",
   "metadata": {},
   "outputs": [
    {
     "name": "stdout",
     "output_type": "stream",
     "text": [
      "[2, 4, 6, 8, 10]\n"
     ]
    }
   ],
   "source": [
    "# filter(): The filter() function is used to construct an iterator from elements of an iterable for which a function returns true.\n",
    "\n",
    "numbers = [1, 2, 3, 4, 5, 6, 7, 8, 9, 10]\n",
    "even_numbers = filter(lambda x: x % 2 == 0, numbers)\n",
    "print(list(even_numbers))\n",
    "# Output: [2, 4, 6, 8, 10]\n",
    "\n",
    "# It filters out elements from the iterable based on the provided function (returns True to keep the element, False to discard it).\n",
    "# Useful when you want to selectively keep elements that satisfy a certain condition.\n"
   ]
  },
  {
   "cell_type": "markdown",
   "id": "07ed02c9-da2f-43e8-9530-69f5dd5a41c7",
   "metadata": {},
   "source": [
    "4.Create a Python program that uses the `reduce()` function to find the product of all elements in a list."
   ]
  },
  {
   "cell_type": "code",
   "execution_count": 45,
   "id": "928a8795-2fa9-40a6-8dbb-b5ffc8d72775",
   "metadata": {},
   "outputs": [
    {
     "name": "stdout",
     "output_type": "stream",
     "text": [
      "120\n"
     ]
    }
   ],
   "source": [
    "from functools import reduce\n",
    "\n",
    "# Using reduce() to find the product of all elements in a list\n",
    "numbers = [1, 2, 3, 4, 5]\n",
    "product = reduce(lambda x, y: x * y, numbers)\n",
    "print(product)\n",
    "# Output: 120\n"
   ]
  },
  {
   "cell_type": "markdown",
   "id": "a6925a00-0c32-4669-90d6-db250605b839",
   "metadata": {},
   "source": [
    "# Function Documentation and Best Practices:\n"
   ]
  },
  {
   "cell_type": "markdown",
   "id": "9556824c-0d23-4ec9-b5df-6a84bea9a345",
   "metadata": {},
   "source": [
    "1.Explain the purpose of docstrings in Python functions and how to write them.\n",
    "\n"
   ]
  },
  {
   "cell_type": "code",
   "execution_count": 47,
   "id": "707ba6de-fb84-4ffc-b4c6-6ecd3799623a",
   "metadata": {},
   "outputs": [
    {
     "name": "stdout",
     "output_type": "stream",
     "text": [
      "Help on function add_numbers in module __main__:\n",
      "\n",
      "add_numbers(x, y)\n",
      "    This function adds two numbers.\n",
      "    \n",
      "    Parameters:\n",
      "    x (int): The first number.\n",
      "    y (int): The second number.\n",
      "    \n",
      "    Returns:\n",
      "    int: The sum of x and y.\n",
      "\n",
      "\n",
      "    This function adds two numbers.\n",
      "\n",
      "    Parameters:\n",
      "    x (int): The first number.\n",
      "    y (int): The second number.\n",
      "\n",
      "    Returns:\n",
      "    int: The sum of x and y.\n",
      "    \n"
     ]
    }
   ],
   "source": [
    "# Purpose of Docstrings:\n",
    "\n",
    "\"\"\" Docstrings (documentation strings) provide a way to document Python code, including functions, classes, and modules.\n",
    "They serve as a form of inline documentation, helping developers understand the purpose, usage, and parameters of a function.\n",
    "How to Write Docstrings: \"\"\"\n",
    "\n",
    "#  Docstrings are enclosed in triple-quotes (single or double).\n",
    "# The first line is a concise, one-line description of the function's purpose.\n",
    "# Following the one-liner, you can provide more detailed information about parameters, return values, and usage.\n",
    "# Triple-quotes can be single (''') or double (\"\"\") quotes.\n",
    "\n",
    "def add_numbers(x, y):\n",
    "    \"\"\"\n",
    "    This function adds two numbers.\n",
    "\n",
    "    Parameters:\n",
    "    x (int): The first number.\n",
    "    y (int): The second number.\n",
    "\n",
    "    Returns:\n",
    "    int: The sum of x and y.\n",
    "    \"\"\"\n",
    "    return x + y\n",
    "# Accessing Docstrings:\n",
    "\n",
    "help(add_numbers)\n",
    "print(add_numbers.__doc__)"
   ]
  },
  {
   "cell_type": "markdown",
   "id": "68f1b9ce-37e5-45d7-820e-cd9b78d1dd67",
   "metadata": {},
   "source": [
    "\n",
    "2.Describe some best practices for naming functions and variables in Python, including naming conventions and guidelines.\n"
   ]
  },
  {
   "cell_type": "code",
   "execution_count": null,
   "id": "1f75cd47-b8f3-4173-beb5-248d276b5208",
   "metadata": {},
   "outputs": [],
   "source": [
    "# Naming Conventions:\n",
    "\n",
    "# Use lowercase letters for function and variable names.\n",
    "# Separate words with underscores for better readability (snake_case).\n",
    "# Avoid using single-character names unless they represent iterator variables (i, j, k).\n",
    "# Use uppercase letters for constants (variables that should not be changed).\n",
    "# Best Practices:\n",
    "\n",
    "# Be descriptive with names; choose names that clearly convey the purpose of the function or variable.\n",
    "# Use verbs for function names (e.g., calculate_sum, generate_report).\n",
    "# Use nouns for variable names (e.g., user_name, total_amount).\n",
    "# Follow the PEP 8 style guide for Python code."
   ]
  }
 ],
 "metadata": {
  "kernelspec": {
   "display_name": "Python 3 (ipykernel)",
   "language": "python",
   "name": "python3"
  },
  "language_info": {
   "codemirror_mode": {
    "name": "ipython",
    "version": 3
   },
   "file_extension": ".py",
   "mimetype": "text/x-python",
   "name": "python",
   "nbconvert_exporter": "python",
   "pygments_lexer": "ipython3",
   "version": "3.10.8"
  }
 },
 "nbformat": 4,
 "nbformat_minor": 5
}
